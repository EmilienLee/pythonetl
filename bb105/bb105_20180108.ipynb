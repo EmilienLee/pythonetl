{
 "cells": [
  {
   "cell_type": "markdown",
   "metadata": {},
   "source": [
    "# Coindesk"
   ]
  },
  {
   "cell_type": "code",
   "execution_count": 2,
   "metadata": {},
   "outputs": [],
   "source": [
    "import requests\n",
    "import json\n",
    "\n",
    "# 這邊URL的最後面3的頁碼可以自己挖空並且for loop\n",
    "url = \"https://www.coindesk.com/category/markets-news/page/3/\"\n",
    "data = ''\n",
    "headers = json.loads(r'''{\n",
    "    \"accept\": \"*/*\",\n",
    "    \"accept-encoding\": \"gzip, deflate, br\",\n",
    "    \"accept-language\": \"en-US,en;q=0.9,zh-TW;q=0.8,zh;q=0.7\",\n",
    "    \"cache-control\": \"no-cache\",\n",
    "    \"content-length\": \"0\",\n",
    "    \"cookie\": \"__cfduid=d74410f7123a4853ad481087c6fa8f4101515374059; optimizelyEndUserId=oeu1515374061033r0.27525016115651213; optimizelySegments=%7B%7D; optimizelyBuckets=%7B%7D; _omappvp=7oszqQFzfN9uvEpNgLEhGW5g2Hg3YEIaXpRn0vQxYm9IiSOPXKxVfxSQPZdfHfFCzIf0b58KkL1RiFMyVBxjPyWASs9bMJXk; _omappvs=true; __utma=204792322.880087977.1515374062.1515374062.1515374062.1; __utmc=204792322; __utmz=204792322.1515374062.1.1.utmcsr=google|utmccn=(organic)|utmcmd=organic|utmctr=(not%20provided); cX_S=jc5ilby51jxrsbfh; cX_P=jc5ilby8omwby2wj; bm_monthly_unique=true; bm_daily_unique=true; bm_sample_frequency=100; PHPSESSID=nb8eppf8kno8gcc2v2c70r7hb0; _ga=GA1.2.880087977.1515374062; _gid=GA1.2.2032193535.1515376054; om-449398=true; __utmt=1; __utmb=204792322.9.10.1515374062; bm_last_load_status=BLOCKING\",\n",
    "    \"origin\": \"https://www.coindesk.com\",\n",
    "    \"pragma\": \"no-cache\",\n",
    "    \"referer\": \"https://www.coindesk.com/category/markets-news/\",\n",
    "    \"user-agent\": \"Mozilla/5.0 (Macintosh; Intel Mac OS X 10_13_2) AppleWebKit/537.36 (KHTML, like Gecko) Chrome/63.0.3239.108 Safari/537.36\",\n",
    "    \"x-requested-with\": \"XMLHttpRequest\"\n",
    "}''')\n",
    "\n",
    "resp = requests.post(url, data=data, headers=headers)"
   ]
  },
  {
   "cell_type": "code",
   "execution_count": 5,
   "metadata": {},
   "outputs": [],
   "source": [
    "from bs4 import BeautifulSoup\n",
    "\n",
    "soup = BeautifulSoup(resp.text, 'lxml')"
   ]
  },
  {
   "cell_type": "code",
   "execution_count": 11,
   "metadata": {},
   "outputs": [
    {
     "name": "stdout",
     "output_type": "stream",
     "text": [
      "https://www.coindesk.com/sec-publishes-cboe-etf-filing-for-public-comment/\n",
      "https://www.coindesk.com/crypto-blockchain-create-10-trillion-market-rbc-analyst-says/\n",
      "https://www.coindesk.com/ripples-xrp-token-hits-time-high-3/\n",
      "https://www.coindesk.com/bitcoin-cash-is-up-but-correction-may-be-on-cards/\n",
      "https://www.coindesk.com/bitcoin-eyes-18000-as-tide-turns-in-bulls-favor/\n",
      "https://www.coindesk.com/wealth-effect-from-bitcoin-trading-could-boost-japans-gdp-say-analysts/\n",
      "https://www.coindesk.com/e-trade-financial-launches-cme-bitcoin-futures-trading/\n",
      "https://www.coindesk.com/video-two-bubbles-shapeshift-ceo-talks-crypto-asset-prices/\n",
      "https://www.coindesk.com/video-1-million-bitcoin-sign-guy-not-late-buy/\n",
      "https://www.coindesk.com/report-founders-fund-boasts-hundred-million-dollar-return-with-bitcoin-bet/\n"
     ]
    }
   ],
   "source": [
    "for row in soup.select('h3 > a.fade'):\n",
    "    print(row['href'])"
   ]
  },
  {
   "cell_type": "markdown",
   "metadata": {},
   "source": [
    "# Dcard\n",
    "\n",
    "ajax為json"
   ]
  },
  {
   "cell_type": "code",
   "execution_count": 26,
   "metadata": {},
   "outputs": [],
   "source": [
    "import requests\n",
    "import json\n",
    "\n",
    "url = \"https://www.dcard.tw/_api/posts?popular=false\"\n",
    "headers = json.loads(r'''{\n",
    "    \"accept\": \"application/json\",\n",
    "    \"accept-encoding\": \"gzip, deflate, br\",\n",
    "    \"accept-language\": \"en-US,en;q=0.9,zh-TW;q=0.8,zh;q=0.7\",\n",
    "    \"cache-control\": \"no-cache\",\n",
    "    \"cookie\": \"__cfduid=d7372f6f0647b6aba1b8994ed0a21e1d61514882527; __auc=57256b71160b608f4a625e04e91; _ga=GA1.2.1136753538.1514882529; appier_utmz=%7B%22csr%22%3A%22google%22%2C%22timestamp%22%3A1514882529%7D; _atrk_sync_cookie=true; _atrk_siteuid=l3penS6gIBOEbVmQ; __gads=ID=d85e88ae4db1dc96:T=1514882531:S=ALNI_MYDSoIZV5sQCXhAcwnb_arovgpVyA; __asc=dd119cb6160d3827e0877b287fc; _gid=GA1.2.1606189784.1515377034; _atrk_ssid=8erSNVU5zebUXp79iuv6x1; _atrk_sessidx=3; dcard-web=eyJjc3JmU2VjcmV0IjoiX2RHVFo5YWR5SzljNHBaX2UwaG5XOFA1In0=; dcard-web.sig=w24Ft2ZmvkNnBrruT3MUUKQ-VjY\",\n",
    "    \"pragma\": \"no-cache\",\n",
    "    \"referer\": \"https://www.dcard.tw/f\",\n",
    "    \"user-agent\": \"Mozilla/5.0 (Macintosh; Intel Mac OS X 10_13_2) AppleWebKit/537.36 (KHTML, like Gecko) Chrome/63.0.3239.108 Safari/537.36\",\n",
    "    \"x-csrf-token\": \"dtwUKmqA-l-qH8ebE07qkf6dbV2ccLm8ci3I\"\n",
    "}''')\n",
    "\n",
    "resp = requests.get(url, headers=headers)"
   ]
  },
  {
   "cell_type": "code",
   "execution_count": 27,
   "metadata": {},
   "outputs": [
    {
     "data": {
      "text/plain": [
       "[228084365,\n",
       " 228084363,\n",
       " 228084358,\n",
       " 228084357,\n",
       " 228084356,\n",
       " 228084355,\n",
       " 228084354,\n",
       " 228084347,\n",
       " 228084346,\n",
       " 228084341,\n",
       " 228084340,\n",
       " 228084337,\n",
       " 228084331,\n",
       " 228084325,\n",
       " 228084324,\n",
       " 228084321,\n",
       " 228084320,\n",
       " 228084317,\n",
       " 228084314,\n",
       " 228084298,\n",
       " 228084296,\n",
       " 228084289,\n",
       " 228084286,\n",
       " 228084285,\n",
       " 228084282,\n",
       " 228084277,\n",
       " 228084275,\n",
       " 228084274,\n",
       " 228084271,\n",
       " 228084269]"
      ]
     },
     "execution_count": 27,
     "metadata": {},
     "output_type": "execute_result"
    }
   ],
   "source": [
    "[doc['id'] for doc in resp.json()]"
   ]
  },
  {
   "cell_type": "code",
   "execution_count": 33,
   "metadata": {},
   "outputs": [],
   "source": [
    "import requests\n",
    "import json\n",
    "\n",
    "url = \"https://www.dcard.tw/_api/posts?popular=false&before=228084271\"\n",
    "headers = json.loads(r'''{\n",
    "    \"accept\": \"application/json\",\n",
    "    \"accept-encoding\": \"gzip, deflate, br\",\n",
    "    \"accept-language\": \"en-US,en;q=0.9,zh-TW;q=0.8,zh;q=0.7\",\n",
    "    \"cache-control\": \"no-cache\",\n",
    "    \"cookie\": \"__cfduid=d7372f6f0647b6aba1b8994ed0a21e1d61514882527; __auc=57256b71160b608f4a625e04e91; _ga=GA1.2.1136753538.1514882529; appier_utmz=%7B%22csr%22%3A%22google%22%2C%22timestamp%22%3A1514882529%7D; _atrk_sync_cookie=true; _atrk_siteuid=l3penS6gIBOEbVmQ; __gads=ID=d85e88ae4db1dc96:T=1514882531:S=ALNI_MYDSoIZV5sQCXhAcwnb_arovgpVyA; __asc=dd119cb6160d3827e0877b287fc; _gid=GA1.2.1606189784.1515377034; _atrk_ssid=8erSNVU5zebUXp79iuv6x1; _atrk_sessidx=3; dcard-web=eyJjc3JmU2VjcmV0IjoiX2RHVFo5YWR5SzljNHBaX2UwaG5XOFA1In0=; dcard-web.sig=w24Ft2ZmvkNnBrruT3MUUKQ-VjY\",\n",
    "    \"pragma\": \"no-cache\",\n",
    "    \"referer\": \"https://www.dcard.tw/f\",\n",
    "    \"user-agent\": \"Mozilla/5.0 (Macintosh; Intel Mac OS X 10_13_2) AppleWebKit/537.36 (KHTML, like Gecko) Chrome/63.0.3239.108 Safari/537.36\",\n",
    "    \"x-csrf-token\": \"dtwUKmqA-l-qH8ebE07qkf6dbV2ccLm8ci3I\"\n",
    "}''')\n",
    "\n",
    "resp = requests.get(url, headers=headers)"
   ]
  },
  {
   "cell_type": "code",
   "execution_count": 35,
   "metadata": {},
   "outputs": [
    {
     "data": {
      "text/plain": [
       "30"
      ]
     },
     "execution_count": 35,
     "metadata": {},
     "output_type": "execute_result"
    }
   ],
   "source": [
    "len([doc['id'] for doc in resp.json()])"
   ]
  },
  {
   "cell_type": "markdown",
   "metadata": {},
   "source": [
    "# skyscanner\n",
    "\n",
    "這是一個demo，展示有些網站會購買專業的防爬蟲服務，如distil network"
   ]
  },
  {
   "cell_type": "code",
   "execution_count": 38,
   "metadata": {},
   "outputs": [],
   "source": [
    "import requests\n",
    "\n",
    "res = requests.get(\"https://www.skyscanner.net/transport/flights/tpet/cts/180118/180130?adults=1&children=0&adultsv2=1&childrenv2=&infants=0&cabinclass=economy&rtn=1&preferdirects=false&outboundaltsenabled=false&inboundaltsenabled=false&qp_prevProvider=ins_month&qp_prevCurrency=GBP&qp_prevPrice=178&pricesourceid=b3ms-SG1-2#results\")"
   ]
  },
  {
   "cell_type": "code",
   "execution_count": 39,
   "metadata": {
    "scrolled": true
   },
   "outputs": [
    {
     "data": {
      "text/plain": [
       "'<!DOCTYPE html>\\n<html>\\n\\n<head>\\n  <title>Pardon Our Interruption</title>\\n  <link rel=\"stylesheet\" type=\"text/css\" href=\"//cdn.distilnetworks.com/css/distil.css\" media=\"all\">\\n  <meta http-equiv=\"content-type\" content=\"text/html; charset=UTF-8\" />\\n  <meta name=\"viewport\" content=\"width=1000\" />\\n  <META NAME=\"robots\" CONTENT=\"noindex, nofollow\">\\n  <meta http-equiv=\"cache-control\" content=\"max-age=0\" />\\n  <meta http-equiv=\"cache-control\" content=\"no-cache\" />\\n  <meta http-equiv=\"expires\" content=\"0\" />\\n  <meta http-equiv=\"expires\" content=\"Tue, 01 Jan 1980 1:00:00 GMT\" />\\n  <meta http-equiv=\"pragma\" content=\"no-cache\" />\\n</head>\\n\\n<body class=\\'block-page\\'>\\n  <div class=\\'container\\'>\\n    <div class=\\'row\\'>\\n      <div class=\\'sidebar col-lg-4 col-sm-5\\'>\\n        <img src=\"//cdn.distilnetworks.com/images/anomaly-detected.png\" alt=\"0\">\\n      </div>\\n      <div class=\\'content col-lg-8 col-sm-7\\'>\\n        <h1>Pardon Our Interruption...</h1>\\n        <p>\\n          As you were browsing <strong>www.skyscanner.net</strong> something about your browser made us think you were a bot. There are a few reasons this might happen:\\n        </p>\\n        <ul>\\n          <li>You\\'re a power user moving through this website with super-human speed.</li>\\n          <li>You\\'ve disabled JavaScript in your web browser.</li>\\n          <li>A third-party browser plugin, such as Ghostery or  NoScript, is preventing JavaScript from running. Additional information is available in this <a title=\\'Third party browser plugins that block javascript\\' href=\\'http://ds.tl/help-third-party-plugins\\' target=\\'_blank\\'>support article</a>.</li>\\n        </ul>\\n        <p>\\n          To request an unblock, please fill out the form below and we will review it as soon as possible.\\n        </p>\\n\\n                <form id=\"yutwzzarwxtrzq\" method=\"POST\" action=\"rvzdwaecewzdxsdusbtvzyzqrzebafbzfru.html\" style=\"display:none\"><label>Ignore: <input type=\"text\" name=\"first_name\" /></label><label>Ignore: <input type=\"text\" name=\"last_name\" /></label><label>Ignore: <input type=\"text\" name=\"email\" /></label><label>Ignore: <input type=\"submit\" value=\"Submit\" /></label></form><form id=\"distilUnblockForm\" method=\"post\" action=\"https://unblock.distilnetworks.com/\">\\n            <div id=\"dUF_first_name\">\\n                <label for=\"dUF_input_first_name\">First Name:</label>\\n                <input type=\"text\" id=\"dUF_input_first_name\" name=\"first_name\" value=\"\" />\\n            </div>\\n            <div id=\"dUF_last_name\">\\n                <label for=\"dUF_input_last_name\">Last Name:</label>\\n                <input type=\"text\" id=\"dUF_input_last_name\" name=\"last_name\" value=\"\" />\\n            </div>\\n            <div id=\"dUF_email\">\\n                <label for=\"dUF_input_email\">E-mail:</label>\\n                <input type=\"text\" id=\"dUF_input_email\" name=\"email\" value=\"\" />\\n            </div>\\n            <div id=\"dUF_city\" style=\"display: none\">\\n                <label for=\"dUF_input_city\">City (Leave Blank):</label>\\n                <input type=\"text\" id=\"dUF_input_city\" name=\"city\" value=\"\" />\\n            </div>\\n            <div id=\"dUF_unblock\">\\n                <input  id=\"dUF_input_unblock\" name=\"unblock\" type=\"submit\" value=\"Request Unblock\" />\\n            </div>\\n            <div id=\"dUF_unblock_text\">\\n                You reached this page when attempting to access http://www.skyscanner.net/transport/flights/tpet/cts/180118/180130?adults=1&children=0&adultsv2=1&childrenv2=&infants=0&cabinclass=economy&rtn=1&preferdirects=false&outboundaltsenabled=false&inboundaltsenabled=false&qp_prevProvider=ins_month&qp_prevCurrency=GBP&qp_prevPrice=178&pricesourceid=b3ms-SG1-2 from 114.25.149.48 on 2018-01-08 02:51:48 UTC.<br />\\n                Trace: f0a57402-6223-4cf7-bc02-d9f1003d4664 via cfa67dc0-9a23-451d-b7c3-fcde5b32311c\\n            </div>\\n            <div id=\"dUF_form_fields\" style=\"display: none\">\\n                <input type=\"hidden\" name=\"Q\" value=\"f0a57402-6223-4cf7-bc02-d9f1003d4664\" />\\n                <input type=\"hidden\" name=\"P\" value=\"6D4E4D1D-7094-375D-A439-0568A6A70836\" />\\n                <input type=\"hidden\" name=\"I\" value=\"\" />\\n                <input type=\"hidden\" name=\"U\" value=\"\" />\\n                <input type=\"hidden\" name=\"SF\" value=\"\" />\\n                <input type=\"hidden\" name=\"F\" value=\"\" />\\n                <input type=\"hidden\" name=\"V\" value=\"13\" />\\n                <input type=\"hidden\" name=\"D\" value=\"3950\" />\\n                <input type=\"hidden\" name=\"A\" value=\"1363\" />\\n                <input type=\"hidden\" name=\"LOADED\" value=\"2018-01-08 02:51:48\" />\\n                <input type=\"hidden\" name=\"H\" value=\\'www.skyscanner.net\\' />\\n            </div>\\n        </form>\\n    \\n\\n      </div>\\n    </div>\\n  </div>\\n</body>\\n\\n</html>\\n'"
      ]
     },
     "execution_count": 39,
     "metadata": {},
     "output_type": "execute_result"
    }
   ],
   "source": [
    "res.text"
   ]
  },
  {
   "cell_type": "code",
   "execution_count": 40,
   "metadata": {},
   "outputs": [],
   "source": [
    "import splinter"
   ]
  },
  {
   "cell_type": "code",
   "execution_count": 67,
   "metadata": {},
   "outputs": [],
   "source": [
    "b = splinter.Browser('chrome')"
   ]
  },
  {
   "cell_type": "code",
   "execution_count": 68,
   "metadata": {},
   "outputs": [],
   "source": [
    "b.visit(\"https://www.skyscanner.net/transport/flights/tpet/cts/180118/180130?adults=1&children=0&adultsv2=1&childrenv2=&infants=0&cabinclass=economy&rtn=1&preferdirects=false&outboundaltsenabled=false&inboundaltsenabled=false&qp_prevProvider=ins_month&qp_prevCurrency=GBP&qp_prevPrice=178&pricesourceid=b3ms-SG1-2#results\")"
   ]
  },
  {
   "cell_type": "code",
   "execution_count": 54,
   "metadata": {},
   "outputs": [],
   "source": [
    "b.find_by_xpath('//*[@id=\"day-section\"]/div/div[3]/div[8]/div[2]/ul/li[2]/button').click()"
   ]
  },
  {
   "cell_type": "code",
   "execution_count": 55,
   "metadata": {},
   "outputs": [],
   "source": [
    "b.find_by_xpath('//*[@id=\"day-section\"]/div/div[3]/div[8]/div[2]/ul/li[4]/button').click()"
   ]
  },
  {
   "cell_type": "code",
   "execution_count": 56,
   "metadata": {},
   "outputs": [],
   "source": [
    "b.find_by_xpath('//*[@id=\"day-section\"]/div/div[3]/div[1]/div/ul/li[5]/button').click()"
   ]
  },
  {
   "cell_type": "code",
   "execution_count": 62,
   "metadata": {},
   "outputs": [],
   "source": [
    "b.find_by_xpath('//*[@id=\"day-section\"]/div/div[3]/div[8]/div[2]/ul/li[6]/button').click()"
   ]
  },
  {
   "cell_type": "code",
   "execution_count": 66,
   "metadata": {},
   "outputs": [],
   "source": [
    "b.quit()"
   ]
  },
  {
   "cell_type": "markdown",
   "metadata": {},
   "source": [
    "# Coindesk"
   ]
  },
  {
   "cell_type": "code",
   "execution_count": 155,
   "metadata": {},
   "outputs": [],
   "source": [
    "import re\n",
    "import datetime\n",
    "\n",
    "import requests\n",
    "from bs4 import BeautifulSoup\n",
    "import bs4\n",
    "\n",
    "URL = \"https://www.coindesk.com/category/markets-news/page/{}/\"\n",
    "HOST = \"https://www.coindesk.com\"\n",
    "UTC = datetime.timezone(datetime.timedelta(hours=0))\n",
    "\n",
    "def make_request(url):\n",
    "    soup = BeautifulSoup(requests.get(url).text, 'lxml')\n",
    "    return soup\n",
    "\n",
    "def get_list(url):\n",
    "    soup = make_request(url)\n",
    "    return [row['href'] for row in soup.select(\"h3 > a.fade\")]\n",
    "\n",
    "def get_detail(url):\n",
    "    data = {}\n",
    "    soup = make_request(url)\n",
    "    data['title'] = soup.select_one(\"h3.article-top-title\").text.strip()\n",
    "    data['author'] = soup.select_one(\"a.article-container-lab-name\").text.strip()\n",
    "    t_str = soup.select_one(\"span.article-container-left-timestamp\").text.strip()\n",
    "    data['tstamp'] = datetime.datetime.strptime(t_str, \"%b %d, %Y at %H:%M UTC\").replace(tzinfo=UTC).timestamp()\n",
    "    content = soup.select_one('div.article-content-container')\n",
    "    res = []\n",
    "    \n",
    "    # 清理content，把script tag還有換行符號拿掉\n",
    "    for ch in content.children:\n",
    "        if isinstance(ch, bs4.element.NavigableString):\n",
    "            continue\n",
    "        elif ch.name == 'script':\n",
    "            continue\n",
    "        else:\n",
    "            res.append(ch.text)\n",
    "    data['content'] = ''.join(res)\n",
    "    return data"
   ]
  },
  {
   "cell_type": "code",
   "execution_count": 156,
   "metadata": {},
   "outputs": [],
   "source": [
    "urls = get_list(URL.format(1))"
   ]
  },
  {
   "cell_type": "code",
   "execution_count": 157,
   "metadata": {},
   "outputs": [],
   "source": [
    "res = []\n",
    "for url in urls:\n",
    "    res.append(get_detail(url))"
   ]
  },
  {
   "cell_type": "code",
   "execution_count": 159,
   "metadata": {},
   "outputs": [
    {
     "data": {
      "text/plain": [
       "{'author': 'Bradley Miles and Sid Kalla',\n",
       " 'content': 'Bradley Miles and Sid Kalla are the co-founders of Turing Group, an incubation and advisory firm focused on token protocol design and the ICO sales process.The following article is an exclusive contribution to CoinDesk\\'s 2017 in Review.If 2017 has taught us anything, it\\'s that there\\'s no shortage of tokens. Yet, this strength in numbers has brought pitfalls for new investors and analysts, many of whom seem to be having a hard time trying to understand or value their options. Why is that?\\xa0After all, Wall Street has been valuing other asset classes like stocks and bonds for over a century, and it has a fairly sophisticated models to value derivatives.One of the primary reasons is that token behaviors can be vastly different among projects.This is quite unlike the behavior or some traditional assets, such as stocks, which have very well defined value characteristics (dividends and price appreciation, arising out of expectations of future cash flows generated by a firm). In contrast, the value characteristics of crypto assets are very hard to define, let alone standardize for a valuation framework.Sharing the wealthThe good thing though is we can witness, in real time, great economic experiments, even if most of them fail.Even small choices in designing the right token can lead to differences in how the ecosystem distributes the value it creates. There is no universally right token design, only lessons learned and best practices to be gleaned.This flexibility is a double-edged sword – there are unprecedented possibilities when it comes to designing the crypto-economic characteristics of protocols, but it\\'s also easy to mess up. This new asset class is going to be unlike anything we’ve seen before, and we’ll need our own unique set of tools and mental models to get things right.After the speculative dust settles, crypto assets need to justify their valuation. The value that accrues to a token, however, isn’t trivial to identify or define. It is possible to create an immensely successful platform or protocol enabled by a token, where the value accrues to the users instead of the token holders.One such example is the \"utility token,\" which we\\'re beginning to understand\\xa0could support a huge economy with only a very small monetary base, if the\\xa0velocity of money is high. In this way, entrepreneurs designing the next generation of crypto protocols need to realize that the role of the token is not just in creating value but also distributing that value.One for allAs investors become more sophisticated and begin to grasp the underlying fundamentals of value creation in the ecosystem, they will naturally gravitate toward the protocols where reasonable value accrues to the token holders. The success of the protocol or the company building the protocol isn’t necessarily a measure of the success of the token.Investors doing their due diligence need to understand the whole spectrum of token characteristics, from the token’s monetary policy to how the token facilitates interaction among the users. Add in the technical complexities of a lot of these projects, and you begin to get an idea of how early we are in this space.Ultimately, the role of the crypto token in the protocol is essential to get right, but it isn’t a sufficient condition.The token needs to do several things, and do them all right. It needs to incentivize the right economic behavior from the participants. It needs to enable the right modes of interaction among the stakeholders, including the users, investors and the development team. It needs to be able to build network effects and grow the ecosystem without hampering the incentives of existing stakeholders.It needs to ensure that value is generated on the platform, and that value is distributed among the different stakeholders fairly in order to sustain the ecosystem for the long run.Still have questions about tokens and ICOs?\\xa0Share your thoughts on the ecosystem\\'s outlook. Email news@coindesk.com to make your views heard.Bitcoin on scale via Shutterstock\\nThe leader in blockchain news, CoinDesk is an independent media outlet that strives for the highest journalistic standards and abides by a strict set of editorial policies. Interested in offering your expertise or insights to our reporting? Contact us at news@coindesk.com.\\nDisclaimer: This article should not be taken as, and is not intended to provide, investment advice. Please conduct your own thorough research before investing in any cryptocurrency.\\n\\n',\n",
       " 'title': \"2018's Challenge: What Are Crypto Assets Really Worth?\",\n",
       " 'tstamp': 1515366600.0}"
      ]
     },
     "execution_count": 159,
     "metadata": {},
     "output_type": "execute_result"
    }
   ],
   "source": [
    "res[0]"
   ]
  },
  {
   "cell_type": "code",
   "execution_count": null,
   "metadata": {},
   "outputs": [],
   "source": []
  }
 ],
 "metadata": {
  "kernelspec": {
   "display_name": "Python 3",
   "language": "python",
   "name": "python3"
  },
  "language_info": {
   "codemirror_mode": {
    "name": "ipython",
    "version": 3
   },
   "file_extension": ".py",
   "mimetype": "text/x-python",
   "name": "python",
   "nbconvert_exporter": "python",
   "pygments_lexer": "ipython3",
   "version": "3.6.4"
  }
 },
 "nbformat": 4,
 "nbformat_minor": 2
}
