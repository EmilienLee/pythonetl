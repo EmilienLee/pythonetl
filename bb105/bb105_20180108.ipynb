{
 "cells": [
  {
   "cell_type": "markdown",
   "metadata": {},
   "source": [
    "# Coindesk"
   ]
  },
  {
   "cell_type": "code",
   "execution_count": 2,
   "metadata": {},
   "outputs": [],
   "source": [
    "import requests\n",
    "import json\n",
    "\n",
    "# 這邊URL的最後面3的頁碼可以自己挖空並且for loop\n",
    "url = \"https://www.coindesk.com/category/markets-news/page/3/\"\n",
    "data = ''\n",
    "headers = json.loads(r'''{\n",
    "    \"accept\": \"*/*\",\n",
    "    \"accept-encoding\": \"gzip, deflate, br\",\n",
    "    \"accept-language\": \"en-US,en;q=0.9,zh-TW;q=0.8,zh;q=0.7\",\n",
    "    \"cache-control\": \"no-cache\",\n",
    "    \"content-length\": \"0\",\n",
    "    \"cookie\": \"__cfduid=d74410f7123a4853ad481087c6fa8f4101515374059; optimizelyEndUserId=oeu1515374061033r0.27525016115651213; optimizelySegments=%7B%7D; optimizelyBuckets=%7B%7D; _omappvp=7oszqQFzfN9uvEpNgLEhGW5g2Hg3YEIaXpRn0vQxYm9IiSOPXKxVfxSQPZdfHfFCzIf0b58KkL1RiFMyVBxjPyWASs9bMJXk; _omappvs=true; __utma=204792322.880087977.1515374062.1515374062.1515374062.1; __utmc=204792322; __utmz=204792322.1515374062.1.1.utmcsr=google|utmccn=(organic)|utmcmd=organic|utmctr=(not%20provided); cX_S=jc5ilby51jxrsbfh; cX_P=jc5ilby8omwby2wj; bm_monthly_unique=true; bm_daily_unique=true; bm_sample_frequency=100; PHPSESSID=nb8eppf8kno8gcc2v2c70r7hb0; _ga=GA1.2.880087977.1515374062; _gid=GA1.2.2032193535.1515376054; om-449398=true; __utmt=1; __utmb=204792322.9.10.1515374062; bm_last_load_status=BLOCKING\",\n",
    "    \"origin\": \"https://www.coindesk.com\",\n",
    "    \"pragma\": \"no-cache\",\n",
    "    \"referer\": \"https://www.coindesk.com/category/markets-news/\",\n",
    "    \"user-agent\": \"Mozilla/5.0 (Macintosh; Intel Mac OS X 10_13_2) AppleWebKit/537.36 (KHTML, like Gecko) Chrome/63.0.3239.108 Safari/537.36\",\n",
    "    \"x-requested-with\": \"XMLHttpRequest\"\n",
    "}''')\n",
    "\n",
    "resp = requests.post(url, data=data, headers=headers)"
   ]
  },
  {
   "cell_type": "code",
   "execution_count": 5,
   "metadata": {},
   "outputs": [],
   "source": [
    "from bs4 import BeautifulSoup\n",
    "\n",
    "soup = BeautifulSoup(resp.text, 'lxml')"
   ]
  },
  {
   "cell_type": "code",
   "execution_count": 11,
   "metadata": {},
   "outputs": [
    {
     "name": "stdout",
     "output_type": "stream",
     "text": [
      "https://www.coindesk.com/sec-publishes-cboe-etf-filing-for-public-comment/\n",
      "https://www.coindesk.com/crypto-blockchain-create-10-trillion-market-rbc-analyst-says/\n",
      "https://www.coindesk.com/ripples-xrp-token-hits-time-high-3/\n",
      "https://www.coindesk.com/bitcoin-cash-is-up-but-correction-may-be-on-cards/\n",
      "https://www.coindesk.com/bitcoin-eyes-18000-as-tide-turns-in-bulls-favor/\n",
      "https://www.coindesk.com/wealth-effect-from-bitcoin-trading-could-boost-japans-gdp-say-analysts/\n",
      "https://www.coindesk.com/e-trade-financial-launches-cme-bitcoin-futures-trading/\n",
      "https://www.coindesk.com/video-two-bubbles-shapeshift-ceo-talks-crypto-asset-prices/\n",
      "https://www.coindesk.com/video-1-million-bitcoin-sign-guy-not-late-buy/\n",
      "https://www.coindesk.com/report-founders-fund-boasts-hundred-million-dollar-return-with-bitcoin-bet/\n"
     ]
    }
   ],
   "source": [
    "for row in soup.select('h3 > a.fade'):\n",
    "    print(row['href'])"
   ]
  },
  {
   "cell_type": "markdown",
   "metadata": {},
   "source": [
    "# Dcard\n",
    "\n",
    "ajax為json"
   ]
  },
  {
   "cell_type": "code",
   "execution_count": 26,
   "metadata": {},
   "outputs": [],
   "source": [
    "import requests\n",
    "import json\n",
    "\n",
    "url = \"https://www.dcard.tw/_api/posts?popular=false\"\n",
    "headers = json.loads(r'''{\n",
    "    \"accept\": \"application/json\",\n",
    "    \"accept-encoding\": \"gzip, deflate, br\",\n",
    "    \"accept-language\": \"en-US,en;q=0.9,zh-TW;q=0.8,zh;q=0.7\",\n",
    "    \"cache-control\": \"no-cache\",\n",
    "    \"cookie\": \"__cfduid=d7372f6f0647b6aba1b8994ed0a21e1d61514882527; __auc=57256b71160b608f4a625e04e91; _ga=GA1.2.1136753538.1514882529; appier_utmz=%7B%22csr%22%3A%22google%22%2C%22timestamp%22%3A1514882529%7D; _atrk_sync_cookie=true; _atrk_siteuid=l3penS6gIBOEbVmQ; __gads=ID=d85e88ae4db1dc96:T=1514882531:S=ALNI_MYDSoIZV5sQCXhAcwnb_arovgpVyA; __asc=dd119cb6160d3827e0877b287fc; _gid=GA1.2.1606189784.1515377034; _atrk_ssid=8erSNVU5zebUXp79iuv6x1; _atrk_sessidx=3; dcard-web=eyJjc3JmU2VjcmV0IjoiX2RHVFo5YWR5SzljNHBaX2UwaG5XOFA1In0=; dcard-web.sig=w24Ft2ZmvkNnBrruT3MUUKQ-VjY\",\n",
    "    \"pragma\": \"no-cache\",\n",
    "    \"referer\": \"https://www.dcard.tw/f\",\n",
    "    \"user-agent\": \"Mozilla/5.0 (Macintosh; Intel Mac OS X 10_13_2) AppleWebKit/537.36 (KHTML, like Gecko) Chrome/63.0.3239.108 Safari/537.36\",\n",
    "    \"x-csrf-token\": \"dtwUKmqA-l-qH8ebE07qkf6dbV2ccLm8ci3I\"\n",
    "}''')\n",
    "\n",
    "resp = requests.get(url, headers=headers)"
   ]
  },
  {
   "cell_type": "code",
   "execution_count": 27,
   "metadata": {},
   "outputs": [
    {
     "data": {
      "text/plain": [
       "[228084365,\n",
       " 228084363,\n",
       " 228084358,\n",
       " 228084357,\n",
       " 228084356,\n",
       " 228084355,\n",
       " 228084354,\n",
       " 228084347,\n",
       " 228084346,\n",
       " 228084341,\n",
       " 228084340,\n",
       " 228084337,\n",
       " 228084331,\n",
       " 228084325,\n",
       " 228084324,\n",
       " 228084321,\n",
       " 228084320,\n",
       " 228084317,\n",
       " 228084314,\n",
       " 228084298,\n",
       " 228084296,\n",
       " 228084289,\n",
       " 228084286,\n",
       " 228084285,\n",
       " 228084282,\n",
       " 228084277,\n",
       " 228084275,\n",
       " 228084274,\n",
       " 228084271,\n",
       " 228084269]"
      ]
     },
     "execution_count": 27,
     "metadata": {},
     "output_type": "execute_result"
    }
   ],
   "source": [
    "[doc['id'] for doc in resp.json()]"
   ]
  },
  {
   "cell_type": "code",
   "execution_count": 33,
   "metadata": {},
   "outputs": [],
   "source": [
    "import requests\n",
    "import json\n",
    "\n",
    "url = \"https://www.dcard.tw/_api/posts?popular=false&before=228084271\"\n",
    "headers = json.loads(r'''{\n",
    "    \"accept\": \"application/json\",\n",
    "    \"accept-encoding\": \"gzip, deflate, br\",\n",
    "    \"accept-language\": \"en-US,en;q=0.9,zh-TW;q=0.8,zh;q=0.7\",\n",
    "    \"cache-control\": \"no-cache\",\n",
    "    \"cookie\": \"__cfduid=d7372f6f0647b6aba1b8994ed0a21e1d61514882527; __auc=57256b71160b608f4a625e04e91; _ga=GA1.2.1136753538.1514882529; appier_utmz=%7B%22csr%22%3A%22google%22%2C%22timestamp%22%3A1514882529%7D; _atrk_sync_cookie=true; _atrk_siteuid=l3penS6gIBOEbVmQ; __gads=ID=d85e88ae4db1dc96:T=1514882531:S=ALNI_MYDSoIZV5sQCXhAcwnb_arovgpVyA; __asc=dd119cb6160d3827e0877b287fc; _gid=GA1.2.1606189784.1515377034; _atrk_ssid=8erSNVU5zebUXp79iuv6x1; _atrk_sessidx=3; dcard-web=eyJjc3JmU2VjcmV0IjoiX2RHVFo5YWR5SzljNHBaX2UwaG5XOFA1In0=; dcard-web.sig=w24Ft2ZmvkNnBrruT3MUUKQ-VjY\",\n",
    "    \"pragma\": \"no-cache\",\n",
    "    \"referer\": \"https://www.dcard.tw/f\",\n",
    "    \"user-agent\": \"Mozilla/5.0 (Macintosh; Intel Mac OS X 10_13_2) AppleWebKit/537.36 (KHTML, like Gecko) Chrome/63.0.3239.108 Safari/537.36\",\n",
    "    \"x-csrf-token\": \"dtwUKmqA-l-qH8ebE07qkf6dbV2ccLm8ci3I\"\n",
    "}''')\n",
    "\n",
    "resp = requests.get(url, headers=headers)"
   ]
  },
  {
   "cell_type": "code",
   "execution_count": 35,
   "metadata": {},
   "outputs": [
    {
     "data": {
      "text/plain": [
       "30"
      ]
     },
     "execution_count": 35,
     "metadata": {},
     "output_type": "execute_result"
    }
   ],
   "source": [
    "len([doc['id'] for doc in resp.json()])"
   ]
  },
  {
   "cell_type": "markdown",
   "metadata": {},
   "source": [
    "# skyscanner\n",
    "\n",
    "這是一個demo，展示有些網站會購買專業的防爬蟲服務，如distil network"
   ]
  },
  {
   "cell_type": "code",
   "execution_count": 38,
   "metadata": {},
   "outputs": [],
   "source": [
    "import requests\n",
    "\n",
    "res = requests.get(\"https://www.skyscanner.net/transport/flights/tpet/cts/180118/180130?adults=1&children=0&adultsv2=1&childrenv2=&infants=0&cabinclass=economy&rtn=1&preferdirects=false&outboundaltsenabled=false&inboundaltsenabled=false&qp_prevProvider=ins_month&qp_prevCurrency=GBP&qp_prevPrice=178&pricesourceid=b3ms-SG1-2#results\")"
   ]
  },
  {
   "cell_type": "code",
   "execution_count": 39,
   "metadata": {
    "scrolled": true
   },
   "outputs": [
    {
     "data": {
      "text/plain": [
       "'<!DOCTYPE html>\\n<html>\\n\\n<head>\\n  <title>Pardon Our Interruption</title>\\n  <link rel=\"stylesheet\" type=\"text/css\" href=\"//cdn.distilnetworks.com/css/distil.css\" media=\"all\">\\n  <meta http-equiv=\"content-type\" content=\"text/html; charset=UTF-8\" />\\n  <meta name=\"viewport\" content=\"width=1000\" />\\n  <META NAME=\"robots\" CONTENT=\"noindex, nofollow\">\\n  <meta http-equiv=\"cache-control\" content=\"max-age=0\" />\\n  <meta http-equiv=\"cache-control\" content=\"no-cache\" />\\n  <meta http-equiv=\"expires\" content=\"0\" />\\n  <meta http-equiv=\"expires\" content=\"Tue, 01 Jan 1980 1:00:00 GMT\" />\\n  <meta http-equiv=\"pragma\" content=\"no-cache\" />\\n</head>\\n\\n<body class=\\'block-page\\'>\\n  <div class=\\'container\\'>\\n    <div class=\\'row\\'>\\n      <div class=\\'sidebar col-lg-4 col-sm-5\\'>\\n        <img src=\"//cdn.distilnetworks.com/images/anomaly-detected.png\" alt=\"0\">\\n      </div>\\n      <div class=\\'content col-lg-8 col-sm-7\\'>\\n        <h1>Pardon Our Interruption...</h1>\\n        <p>\\n          As you were browsing <strong>www.skyscanner.net</strong> something about your browser made us think you were a bot. There are a few reasons this might happen:\\n        </p>\\n        <ul>\\n          <li>You\\'re a power user moving through this website with super-human speed.</li>\\n          <li>You\\'ve disabled JavaScript in your web browser.</li>\\n          <li>A third-party browser plugin, such as Ghostery or  NoScript, is preventing JavaScript from running. Additional information is available in this <a title=\\'Third party browser plugins that block javascript\\' href=\\'http://ds.tl/help-third-party-plugins\\' target=\\'_blank\\'>support article</a>.</li>\\n        </ul>\\n        <p>\\n          To request an unblock, please fill out the form below and we will review it as soon as possible.\\n        </p>\\n\\n                <form id=\"yutwzzarwxtrzq\" method=\"POST\" action=\"rvzdwaecewzdxsdusbtvzyzqrzebafbzfru.html\" style=\"display:none\"><label>Ignore: <input type=\"text\" name=\"first_name\" /></label><label>Ignore: <input type=\"text\" name=\"last_name\" /></label><label>Ignore: <input type=\"text\" name=\"email\" /></label><label>Ignore: <input type=\"submit\" value=\"Submit\" /></label></form><form id=\"distilUnblockForm\" method=\"post\" action=\"https://unblock.distilnetworks.com/\">\\n            <div id=\"dUF_first_name\">\\n                <label for=\"dUF_input_first_name\">First Name:</label>\\n                <input type=\"text\" id=\"dUF_input_first_name\" name=\"first_name\" value=\"\" />\\n            </div>\\n            <div id=\"dUF_last_name\">\\n                <label for=\"dUF_input_last_name\">Last Name:</label>\\n                <input type=\"text\" id=\"dUF_input_last_name\" name=\"last_name\" value=\"\" />\\n            </div>\\n            <div id=\"dUF_email\">\\n                <label for=\"dUF_input_email\">E-mail:</label>\\n                <input type=\"text\" id=\"dUF_input_email\" name=\"email\" value=\"\" />\\n            </div>\\n            <div id=\"dUF_city\" style=\"display: none\">\\n                <label for=\"dUF_input_city\">City (Leave Blank):</label>\\n                <input type=\"text\" id=\"dUF_input_city\" name=\"city\" value=\"\" />\\n            </div>\\n            <div id=\"dUF_unblock\">\\n                <input  id=\"dUF_input_unblock\" name=\"unblock\" type=\"submit\" value=\"Request Unblock\" />\\n            </div>\\n            <div id=\"dUF_unblock_text\">\\n                You reached this page when attempting to access http://www.skyscanner.net/transport/flights/tpet/cts/180118/180130?adults=1&children=0&adultsv2=1&childrenv2=&infants=0&cabinclass=economy&rtn=1&preferdirects=false&outboundaltsenabled=false&inboundaltsenabled=false&qp_prevProvider=ins_month&qp_prevCurrency=GBP&qp_prevPrice=178&pricesourceid=b3ms-SG1-2 from 114.25.149.48 on 2018-01-08 02:51:48 UTC.<br />\\n                Trace: f0a57402-6223-4cf7-bc02-d9f1003d4664 via cfa67dc0-9a23-451d-b7c3-fcde5b32311c\\n            </div>\\n            <div id=\"dUF_form_fields\" style=\"display: none\">\\n                <input type=\"hidden\" name=\"Q\" value=\"f0a57402-6223-4cf7-bc02-d9f1003d4664\" />\\n                <input type=\"hidden\" name=\"P\" value=\"6D4E4D1D-7094-375D-A439-0568A6A70836\" />\\n                <input type=\"hidden\" name=\"I\" value=\"\" />\\n                <input type=\"hidden\" name=\"U\" value=\"\" />\\n                <input type=\"hidden\" name=\"SF\" value=\"\" />\\n                <input type=\"hidden\" name=\"F\" value=\"\" />\\n                <input type=\"hidden\" name=\"V\" value=\"13\" />\\n                <input type=\"hidden\" name=\"D\" value=\"3950\" />\\n                <input type=\"hidden\" name=\"A\" value=\"1363\" />\\n                <input type=\"hidden\" name=\"LOADED\" value=\"2018-01-08 02:51:48\" />\\n                <input type=\"hidden\" name=\"H\" value=\\'www.skyscanner.net\\' />\\n            </div>\\n        </form>\\n    \\n\\n      </div>\\n    </div>\\n  </div>\\n</body>\\n\\n</html>\\n'"
      ]
     },
     "execution_count": 39,
     "metadata": {},
     "output_type": "execute_result"
    }
   ],
   "source": [
    "res.text"
   ]
  },
  {
   "cell_type": "code",
   "execution_count": 40,
   "metadata": {},
   "outputs": [],
   "source": [
    "import splinter"
   ]
  },
  {
   "cell_type": "code",
   "execution_count": 67,
   "metadata": {},
   "outputs": [],
   "source": [
    "b = splinter.Browser('chrome')"
   ]
  },
  {
   "cell_type": "code",
   "execution_count": 68,
   "metadata": {},
   "outputs": [],
   "source": [
    "b.visit(\"https://www.skyscanner.net/transport/flights/tpet/cts/180118/180130?adults=1&children=0&adultsv2=1&childrenv2=&infants=0&cabinclass=economy&rtn=1&preferdirects=false&outboundaltsenabled=false&inboundaltsenabled=false&qp_prevProvider=ins_month&qp_prevCurrency=GBP&qp_prevPrice=178&pricesourceid=b3ms-SG1-2#results\")"
   ]
  },
  {
   "cell_type": "code",
   "execution_count": 54,
   "metadata": {},
   "outputs": [],
   "source": [
    "b.find_by_xpath('//*[@id=\"day-section\"]/div/div[3]/div[8]/div[2]/ul/li[2]/button').click()"
   ]
  },
  {
   "cell_type": "code",
   "execution_count": 55,
   "metadata": {},
   "outputs": [],
   "source": [
    "b.find_by_xpath('//*[@id=\"day-section\"]/div/div[3]/div[8]/div[2]/ul/li[4]/button').click()"
   ]
  },
  {
   "cell_type": "code",
   "execution_count": 56,
   "metadata": {},
   "outputs": [],
   "source": [
    "b.find_by_xpath('//*[@id=\"day-section\"]/div/div[3]/div[1]/div/ul/li[5]/button').click()"
   ]
  },
  {
   "cell_type": "code",
   "execution_count": 62,
   "metadata": {},
   "outputs": [],
   "source": [
    "b.find_by_xpath('//*[@id=\"day-section\"]/div/div[3]/div[8]/div[2]/ul/li[6]/button').click()"
   ]
  },
  {
   "cell_type": "code",
   "execution_count": 66,
   "metadata": {},
   "outputs": [],
   "source": [
    "b.quit()"
   ]
  },
  {
   "cell_type": "markdown",
   "metadata": {},
   "source": [
    "# Coindesk"
   ]
  },
  {
   "cell_type": "code",
   "execution_count": 296,
   "metadata": {},
   "outputs": [],
   "source": [
    "import re\n",
    "import datetime\n",
    "\n",
    "import requests\n",
    "from bs4 import BeautifulSoup\n",
    "import bs4\n",
    "\n",
    "URL = \"https://www.coindesk.com/category/markets-news/page/{}/\"\n",
    "HOST = \"https://www.coindesk.com\"\n",
    "UTC = datetime.timezone(datetime.timedelta(hours=0))\n",
    "\n",
    "def make_request(url):\n",
    "    soup = BeautifulSoup(requests.get(url).text, 'lxml')\n",
    "    return soup\n",
    "\n",
    "def get_list(url):\n",
    "    soup = make_request(url)\n",
    "    return [row['href'] for row in soup.select(\"h3 > a.fade\")]\n",
    "\n",
    "def get_detail(url):\n",
    "    data = {}\n",
    "    soup = make_request(url)\n",
    "    data['url'] = url\n",
    "    data['title'] = soup.select_one(\"h3.article-top-title\").text.strip()\n",
    "    data['author'] = soup.select_one(\"a.article-container-lab-name\").text.strip()\n",
    "    t_str = soup.select_one(\"span.article-container-left-timestamp\").text.strip()\n",
    "    data['tstamp'] = datetime.datetime.strptime(t_str, \"%b %d, %Y at %H:%M UTC\").replace(tzinfo=UTC)\n",
    "    content = soup.select_one('div.article-content-container')\n",
    "    res = []\n",
    "    \n",
    "    # 清理content，把script tag還有換行符號拿掉\n",
    "    for ch in content.children:\n",
    "        if isinstance(ch, bs4.element.NavigableString):\n",
    "            continue\n",
    "        elif ch.name == 'script':\n",
    "            continue\n",
    "        else:\n",
    "            res.append(ch.text)\n",
    "    data['content'] = ''.join(res).strip()\n",
    "    return data"
   ]
  },
  {
   "cell_type": "code",
   "execution_count": 297,
   "metadata": {},
   "outputs": [],
   "source": [
    "urls = get_list(URL.format(1))"
   ]
  },
  {
   "cell_type": "code",
   "execution_count": 298,
   "metadata": {},
   "outputs": [],
   "source": [
    "res = []\n",
    "for url in urls:\n",
    "    res.append(get_detail(url))"
   ]
  },
  {
   "cell_type": "code",
   "execution_count": 299,
   "metadata": {
    "scrolled": true
   },
   "outputs": [
    {
     "data": {
      "text/plain": [
       "{'author': 'Brady Dale',\n",
       " 'content': 'There\\'s never enough eyes out there looking for threats against internet users.Take the recently disclosed\\xa0Specter and Meltdown processor vulnerabilities, which showed how threats can linger for years undetected. Though as much as such giant engineering failures get attention, each of us is more likely to be hit by smaller threats, such as an email trick or an attachment loaded with malicious links.But for\\xa0Swarm Technologies, there is a lack of incentives for security experts to look as widely as they could.Spinning out of the security firm Narf Industries, which recently completed a blockchain identity management project for the U.S. Department of Homeland Security,\\xa0Swarm Technologies believes a crypto token could be a way to close gaps in software more quickly. As such, on Sunday night, the company announced that it will be running an initial coin offering (ICO) for the purpose of enlisting security researchers across the globe in creating a safer internet. Proceeds raised during the $50 million token sale, which starts February 6, will initially go to building out a platform called PolySwarm, the hub where Swarm hopes security researchers will come together to work on what it calls \"micro-engines,\" specialized software built to scan documents, files and websites that might hide vulnerabilities.It\\'s becoming a common application of blockchains, this use of a limited data set to galvanize distributed communities toward goals.\\xa0According to Bassi, Augur, the ethereum prediction market, was of particular inspiration, but while Augur harnesses the wisdom of the crowd to predict outcomes, PolySwarm wants only to incentivize experts.But to understand the company\\'s mission, it\\'s helpful to understand how threat detection works today, where enterprise companies do scans to check for threats when web users do anything from click on a URL to open an email.To do this more effectively, Swarm is looking to enlist enterprise IT teams and antivirus software companies that spot new files, new software, new documents that need to be scanned, to farm out those scans to a distributed network of researchers. Those researchers will build machines to do specific scans, and each time they do Swarm will reward the machines by sending them the token.And in Bassi\\'s mind, this use case will flip cryptocurrency’s role as it relates to security – from paying the ransom on encryption attacks to one that makes developing solutions for more niche areas of the internet viable.Bassi told CoinDesk:\"We’re basically trying to re-invent threat intelligence.\"Security nectarThreat intelligence with added economics, is another way to put it.Swarm\\'s token, or \"nectar,\" will have a finite supply, 70 percent of which will be sold during the ICO. The company itself will keep 15 percent of the tokens, and the other 15 percent will be used to grow the network, including strategic allocations to potential security industry partners.The company is capping the sale at $50 million, with a $5 million pre-sale. Down the road, Swarm envisions new business lines in assurance services, such as verification of security experts, analysis and insurance.As an ERC-20 token riding on the ethereum blockchain, Bassi said smart contracts are at the core of what will make the offering succeed. The nectar tokens will be used to make all the payments on the platform, but those payments don\\'t just flow from Swarm to the researchers. The system also requires micro-engines to stake an amount of nectar tokens on its assessment of the digital products it\\'s scanning.\"The tokens they have to put into their assertion also indicates their confidence in that assertion,\" Bassi told CoinDesk.Every micro-engine (and in turn the researcher who built it) that makes the correct assessment gets a share of the fee paid for the scan, plus a share of any nectar that was staked by micro-engines that assessed the digital product incorrectly.And according to Bassi, this mechanism of shared rewards incentivizes researchers to find niche areas to scan, where many other researchers might not be looking.This is particularly novel in that today\\'s anti-virus company structures incentivize chasing threats against the most widely used software, in an effort to attract the largest possible client base.He told CoinDesk:\"It provides more incentives to cover the minority populations that are getting hit hard with this stuff.\"And yet, Swarm isn\\'t out to totally disrupt the incumbents, such as Norton and McAfee, in the space. Instead, Bassi said, those companies could serve as what PolySwarm calls \"ambassadors,\" actually managing the relationship with consumers while PolySwarm enables them to guard against more threat surface.Blockchain criticsYet, for some, adding a blockchain to this industry isn\\'t going to solve the problems.According to Jessy Irwin, a security consultant and an alum of AgileBits, the developer of one of the leading password managers 1Password: \"I don\\'t see a clear or realistic incentive to adding a blockchain to this particular problem.\"Irwin continued, arguing that threat intelligence is already distributed and collaborative.\"Malware hunters and researchers are very much widely distributed in many different kinds of organizations,\" she said. \"The people working on these issues are highly collaborative with one another while they are working on specific projects and campaigns.\"Yet, while Irwin is skeptical, other well-known security researchers seem to see value in the platform. Swarm\\'s advisers on the project include Dan Guido, CEO of Trail of Bits, a security firm that’s a member of the Enterprise Ethereum Alliance, and Mark Tonnesen, whose done executive stints at Cisco and McAfee.According to Bassi, \"A token is critical to that, because up until a few years ago, we didn’t have a way to move rewards across borders in sub-cent amounts without involving the global banking infrastructure.\"As Guido told CoinDesk, \"They\\'re security engineers who found a new way to solve an old problem with blockchain technology. If another tool fit they job, then that\\'s what they would be using.\"But Bassi\\'s convinced that smart contracts are the right tool to get more eyes on threats:\"It encourages the use of a utility token for a service that’s deeply needed.\"Safety deposit boxes via Shutterstock\\nThe leader in blockchain news, CoinDesk is an independent media outlet that strives for the highest journalistic standards and abides by a strict set of editorial policies. Have breaking news or a story tip to send to our journalists? Contact us at news@coindesk.com.\\nDisclaimer: This article should not be taken as, and is not intended to provide, investment advice. Please conduct your own thorough research before investing in any cryptocurrency.',\n",
       " 'title': 'An Anti-Virus Token? Polyswarm Seeks Safer Internet With $50 Million ICO',\n",
       " 'tstamp': datetime.datetime(2018, 1, 8, 4, 0, tzinfo=datetime.timezone.utc),\n",
       " 'url': 'https://www.coindesk.com/anti-virus-token-polyswarm-seeks-safer-internet-50-million-ico/'}"
      ]
     },
     "execution_count": 299,
     "metadata": {},
     "output_type": "execute_result"
    }
   ],
   "source": [
    "res[0]"
   ]
  },
  {
   "cell_type": "markdown",
   "metadata": {},
   "source": [
    "# Database\n",
    "\n",
    "```bash\n",
    "docker run --name some-mysql -p 3306:3306 -v $(pwd)/mysql_data:/var/lib/mysql -e MYSQL_ROOT_PASSWORD=pythonetl -e MYSQL_DATABASE=pythonetl -d mysql:5.7.20\n",
    "```"
   ]
  },
  {
   "cell_type": "code",
   "execution_count": null,
   "metadata": {},
   "outputs": [],
   "source": [
    "!pip install PyMySQL"
   ]
  },
  {
   "cell_type": "code",
   "execution_count": 254,
   "metadata": {},
   "outputs": [],
   "source": [
    "import sqlite3\n",
    "import pymysql"
   ]
  },
  {
   "cell_type": "code",
   "execution_count": 256,
   "metadata": {},
   "outputs": [],
   "source": [
    "#conn = sqlite3.connect(\"/tmp/coindesk.sqlite3\")\n",
    "conn = pymysql.connect(host='localhost', port=3306, user='root', password='pythonetl', db='pythonetl')"
   ]
  },
  {
   "cell_type": "code",
   "execution_count": 257,
   "metadata": {},
   "outputs": [],
   "source": [
    "cur = conn.cursor()"
   ]
  },
  {
   "cell_type": "code",
   "execution_count": 315,
   "metadata": {},
   "outputs": [],
   "source": [
    "cur.execute(\"\"\"CREATE TABLE coindesk (\n",
    "url VARCHAR(255),\n",
    "title VARCHAR(255),\n",
    "author VARCHAR(255),\n",
    "tstamp DATETIME,\n",
    "PRIMARY KEY (url)\n",
    ")\"\"\")\n",
    "conn.commit()"
   ]
  },
  {
   "cell_type": "code",
   "execution_count": 314,
   "metadata": {},
   "outputs": [],
   "source": [
    "cur.execute(\"\"\"DROP TABLE coindesk\"\"\")\n",
    "conn.commit()"
   ]
  },
  {
   "cell_type": "code",
   "execution_count": 319,
   "metadata": {
    "scrolled": true
   },
   "outputs": [],
   "source": [
    "cur.execute(\"\"\"INSERT INTO coindesk VALUES ('http://google.com', 'google', 'Ian Chen', '2018-11-11 11:11:11')\"\"\")\n",
    "conn.commit()"
   ]
  },
  {
   "cell_type": "code",
   "execution_count": 323,
   "metadata": {
    "scrolled": true
   },
   "outputs": [
    {
     "ename": "ProgrammingError",
     "evalue": "(1064, \"You have an error in your SQL syntax; check the manual that corresponds to your MySQL server version for the right syntax to use near 's Challenge: What Are Crypto Assets Really Worth?', 'Bradley Miles and Sid Kalla' at line 1\")",
     "output_type": "error",
     "traceback": [
      "\u001b[0;31m---------------------------------------------------------------------------\u001b[0m",
      "\u001b[0;31mProgrammingError\u001b[0m                          Traceback (most recent call last)",
      "\u001b[0;32m<ipython-input-323-26ca12921739>\u001b[0m in \u001b[0;36m<module>\u001b[0;34m()\u001b[0m\n\u001b[1;32m      4\u001b[0m                          \u001b[0mrow\u001b[0m\u001b[0;34m[\u001b[0m\u001b[0;34m'title'\u001b[0m\u001b[0;34m]\u001b[0m\u001b[0;34m,\u001b[0m\u001b[0;34m\u001b[0m\u001b[0m\n\u001b[1;32m      5\u001b[0m                          \u001b[0mrow\u001b[0m\u001b[0;34m[\u001b[0m\u001b[0;34m'author'\u001b[0m\u001b[0;34m]\u001b[0m\u001b[0;34m,\u001b[0m\u001b[0;34m\u001b[0m\u001b[0m\n\u001b[0;32m----> 6\u001b[0;31m                          row['tstamp'].strftime('%Y-%m-%d %H:%M:%S'))\n\u001b[0m\u001b[1;32m      7\u001b[0m                         ))\n",
      "\u001b[0;32m~/.pyenv/versions/3.6.4/lib/python3.6/site-packages/pymysql/cursors.py\u001b[0m in \u001b[0;36mexecute\u001b[0;34m(self, query, args)\u001b[0m\n\u001b[1;32m    163\u001b[0m         \u001b[0mquery\u001b[0m \u001b[0;34m=\u001b[0m \u001b[0mself\u001b[0m\u001b[0;34m.\u001b[0m\u001b[0mmogrify\u001b[0m\u001b[0;34m(\u001b[0m\u001b[0mquery\u001b[0m\u001b[0;34m,\u001b[0m \u001b[0margs\u001b[0m\u001b[0;34m)\u001b[0m\u001b[0;34m\u001b[0m\u001b[0m\n\u001b[1;32m    164\u001b[0m \u001b[0;34m\u001b[0m\u001b[0m\n\u001b[0;32m--> 165\u001b[0;31m         \u001b[0mresult\u001b[0m \u001b[0;34m=\u001b[0m \u001b[0mself\u001b[0m\u001b[0;34m.\u001b[0m\u001b[0m_query\u001b[0m\u001b[0;34m(\u001b[0m\u001b[0mquery\u001b[0m\u001b[0;34m)\u001b[0m\u001b[0;34m\u001b[0m\u001b[0m\n\u001b[0m\u001b[1;32m    166\u001b[0m         \u001b[0mself\u001b[0m\u001b[0;34m.\u001b[0m\u001b[0m_executed\u001b[0m \u001b[0;34m=\u001b[0m \u001b[0mquery\u001b[0m\u001b[0;34m\u001b[0m\u001b[0m\n\u001b[1;32m    167\u001b[0m         \u001b[0;32mreturn\u001b[0m \u001b[0mresult\u001b[0m\u001b[0;34m\u001b[0m\u001b[0m\n",
      "\u001b[0;32m~/.pyenv/versions/3.6.4/lib/python3.6/site-packages/pymysql/cursors.py\u001b[0m in \u001b[0;36m_query\u001b[0;34m(self, q)\u001b[0m\n\u001b[1;32m    319\u001b[0m         \u001b[0mconn\u001b[0m \u001b[0;34m=\u001b[0m \u001b[0mself\u001b[0m\u001b[0;34m.\u001b[0m\u001b[0m_get_db\u001b[0m\u001b[0;34m(\u001b[0m\u001b[0;34m)\u001b[0m\u001b[0;34m\u001b[0m\u001b[0m\n\u001b[1;32m    320\u001b[0m         \u001b[0mself\u001b[0m\u001b[0;34m.\u001b[0m\u001b[0m_last_executed\u001b[0m \u001b[0;34m=\u001b[0m \u001b[0mq\u001b[0m\u001b[0;34m\u001b[0m\u001b[0m\n\u001b[0;32m--> 321\u001b[0;31m         \u001b[0mconn\u001b[0m\u001b[0;34m.\u001b[0m\u001b[0mquery\u001b[0m\u001b[0;34m(\u001b[0m\u001b[0mq\u001b[0m\u001b[0;34m)\u001b[0m\u001b[0;34m\u001b[0m\u001b[0m\n\u001b[0m\u001b[1;32m    322\u001b[0m         \u001b[0mself\u001b[0m\u001b[0;34m.\u001b[0m\u001b[0m_do_get_result\u001b[0m\u001b[0;34m(\u001b[0m\u001b[0;34m)\u001b[0m\u001b[0;34m\u001b[0m\u001b[0m\n\u001b[1;32m    323\u001b[0m         \u001b[0;32mreturn\u001b[0m \u001b[0mself\u001b[0m\u001b[0;34m.\u001b[0m\u001b[0mrowcount\u001b[0m\u001b[0;34m\u001b[0m\u001b[0m\n",
      "\u001b[0;32m~/.pyenv/versions/3.6.4/lib/python3.6/site-packages/pymysql/connections.py\u001b[0m in \u001b[0;36mquery\u001b[0;34m(self, sql, unbuffered)\u001b[0m\n\u001b[1;32m    858\u001b[0m                 \u001b[0msql\u001b[0m \u001b[0;34m=\u001b[0m \u001b[0msql\u001b[0m\u001b[0;34m.\u001b[0m\u001b[0mencode\u001b[0m\u001b[0;34m(\u001b[0m\u001b[0mself\u001b[0m\u001b[0;34m.\u001b[0m\u001b[0mencoding\u001b[0m\u001b[0;34m,\u001b[0m \u001b[0;34m'surrogateescape'\u001b[0m\u001b[0;34m)\u001b[0m\u001b[0;34m\u001b[0m\u001b[0m\n\u001b[1;32m    859\u001b[0m         \u001b[0mself\u001b[0m\u001b[0;34m.\u001b[0m\u001b[0m_execute_command\u001b[0m\u001b[0;34m(\u001b[0m\u001b[0mCOMMAND\u001b[0m\u001b[0;34m.\u001b[0m\u001b[0mCOM_QUERY\u001b[0m\u001b[0;34m,\u001b[0m \u001b[0msql\u001b[0m\u001b[0;34m)\u001b[0m\u001b[0;34m\u001b[0m\u001b[0m\n\u001b[0;32m--> 860\u001b[0;31m         \u001b[0mself\u001b[0m\u001b[0;34m.\u001b[0m\u001b[0m_affected_rows\u001b[0m \u001b[0;34m=\u001b[0m \u001b[0mself\u001b[0m\u001b[0;34m.\u001b[0m\u001b[0m_read_query_result\u001b[0m\u001b[0;34m(\u001b[0m\u001b[0munbuffered\u001b[0m\u001b[0;34m=\u001b[0m\u001b[0munbuffered\u001b[0m\u001b[0;34m)\u001b[0m\u001b[0;34m\u001b[0m\u001b[0m\n\u001b[0m\u001b[1;32m    861\u001b[0m         \u001b[0;32mreturn\u001b[0m \u001b[0mself\u001b[0m\u001b[0;34m.\u001b[0m\u001b[0m_affected_rows\u001b[0m\u001b[0;34m\u001b[0m\u001b[0m\n\u001b[1;32m    862\u001b[0m \u001b[0;34m\u001b[0m\u001b[0m\n",
      "\u001b[0;32m~/.pyenv/versions/3.6.4/lib/python3.6/site-packages/pymysql/connections.py\u001b[0m in \u001b[0;36m_read_query_result\u001b[0;34m(self, unbuffered)\u001b[0m\n\u001b[1;32m   1059\u001b[0m         \u001b[0;32melse\u001b[0m\u001b[0;34m:\u001b[0m\u001b[0;34m\u001b[0m\u001b[0m\n\u001b[1;32m   1060\u001b[0m             \u001b[0mresult\u001b[0m \u001b[0;34m=\u001b[0m \u001b[0mMySQLResult\u001b[0m\u001b[0;34m(\u001b[0m\u001b[0mself\u001b[0m\u001b[0;34m)\u001b[0m\u001b[0;34m\u001b[0m\u001b[0m\n\u001b[0;32m-> 1061\u001b[0;31m             \u001b[0mresult\u001b[0m\u001b[0;34m.\u001b[0m\u001b[0mread\u001b[0m\u001b[0;34m(\u001b[0m\u001b[0;34m)\u001b[0m\u001b[0;34m\u001b[0m\u001b[0m\n\u001b[0m\u001b[1;32m   1062\u001b[0m         \u001b[0mself\u001b[0m\u001b[0;34m.\u001b[0m\u001b[0m_result\u001b[0m \u001b[0;34m=\u001b[0m \u001b[0mresult\u001b[0m\u001b[0;34m\u001b[0m\u001b[0m\n\u001b[1;32m   1063\u001b[0m         \u001b[0;32mif\u001b[0m \u001b[0mresult\u001b[0m\u001b[0;34m.\u001b[0m\u001b[0mserver_status\u001b[0m \u001b[0;32mis\u001b[0m \u001b[0;32mnot\u001b[0m \u001b[0;32mNone\u001b[0m\u001b[0;34m:\u001b[0m\u001b[0;34m\u001b[0m\u001b[0m\n",
      "\u001b[0;32m~/.pyenv/versions/3.6.4/lib/python3.6/site-packages/pymysql/connections.py\u001b[0m in \u001b[0;36mread\u001b[0;34m(self)\u001b[0m\n\u001b[1;32m   1347\u001b[0m     \u001b[0;32mdef\u001b[0m \u001b[0mread\u001b[0m\u001b[0;34m(\u001b[0m\u001b[0mself\u001b[0m\u001b[0;34m)\u001b[0m\u001b[0;34m:\u001b[0m\u001b[0;34m\u001b[0m\u001b[0m\n\u001b[1;32m   1348\u001b[0m         \u001b[0;32mtry\u001b[0m\u001b[0;34m:\u001b[0m\u001b[0;34m\u001b[0m\u001b[0m\n\u001b[0;32m-> 1349\u001b[0;31m             \u001b[0mfirst_packet\u001b[0m \u001b[0;34m=\u001b[0m \u001b[0mself\u001b[0m\u001b[0;34m.\u001b[0m\u001b[0mconnection\u001b[0m\u001b[0;34m.\u001b[0m\u001b[0m_read_packet\u001b[0m\u001b[0;34m(\u001b[0m\u001b[0;34m)\u001b[0m\u001b[0;34m\u001b[0m\u001b[0m\n\u001b[0m\u001b[1;32m   1350\u001b[0m \u001b[0;34m\u001b[0m\u001b[0m\n\u001b[1;32m   1351\u001b[0m             \u001b[0;32mif\u001b[0m \u001b[0mfirst_packet\u001b[0m\u001b[0;34m.\u001b[0m\u001b[0mis_ok_packet\u001b[0m\u001b[0;34m(\u001b[0m\u001b[0;34m)\u001b[0m\u001b[0;34m:\u001b[0m\u001b[0;34m\u001b[0m\u001b[0m\n",
      "\u001b[0;32m~/.pyenv/versions/3.6.4/lib/python3.6/site-packages/pymysql/connections.py\u001b[0m in \u001b[0;36m_read_packet\u001b[0;34m(self, packet_type)\u001b[0m\n\u001b[1;32m   1016\u001b[0m \u001b[0;34m\u001b[0m\u001b[0m\n\u001b[1;32m   1017\u001b[0m         \u001b[0mpacket\u001b[0m \u001b[0;34m=\u001b[0m \u001b[0mpacket_type\u001b[0m\u001b[0;34m(\u001b[0m\u001b[0mbuff\u001b[0m\u001b[0;34m,\u001b[0m \u001b[0mself\u001b[0m\u001b[0;34m.\u001b[0m\u001b[0mencoding\u001b[0m\u001b[0;34m)\u001b[0m\u001b[0;34m\u001b[0m\u001b[0m\n\u001b[0;32m-> 1018\u001b[0;31m         \u001b[0mpacket\u001b[0m\u001b[0;34m.\u001b[0m\u001b[0mcheck_error\u001b[0m\u001b[0;34m(\u001b[0m\u001b[0;34m)\u001b[0m\u001b[0;34m\u001b[0m\u001b[0m\n\u001b[0m\u001b[1;32m   1019\u001b[0m         \u001b[0;32mreturn\u001b[0m \u001b[0mpacket\u001b[0m\u001b[0;34m\u001b[0m\u001b[0m\n\u001b[1;32m   1020\u001b[0m \u001b[0;34m\u001b[0m\u001b[0m\n",
      "\u001b[0;32m~/.pyenv/versions/3.6.4/lib/python3.6/site-packages/pymysql/connections.py\u001b[0m in \u001b[0;36mcheck_error\u001b[0;34m(self)\u001b[0m\n\u001b[1;32m    382\u001b[0m             \u001b[0merrno\u001b[0m \u001b[0;34m=\u001b[0m \u001b[0mself\u001b[0m\u001b[0;34m.\u001b[0m\u001b[0mread_uint16\u001b[0m\u001b[0;34m(\u001b[0m\u001b[0;34m)\u001b[0m\u001b[0;34m\u001b[0m\u001b[0m\n\u001b[1;32m    383\u001b[0m             \u001b[0;32mif\u001b[0m \u001b[0mDEBUG\u001b[0m\u001b[0;34m:\u001b[0m \u001b[0mprint\u001b[0m\u001b[0;34m(\u001b[0m\u001b[0;34m\"errno =\"\u001b[0m\u001b[0;34m,\u001b[0m \u001b[0merrno\u001b[0m\u001b[0;34m)\u001b[0m\u001b[0;34m\u001b[0m\u001b[0m\n\u001b[0;32m--> 384\u001b[0;31m             \u001b[0merr\u001b[0m\u001b[0;34m.\u001b[0m\u001b[0mraise_mysql_exception\u001b[0m\u001b[0;34m(\u001b[0m\u001b[0mself\u001b[0m\u001b[0;34m.\u001b[0m\u001b[0m_data\u001b[0m\u001b[0;34m)\u001b[0m\u001b[0;34m\u001b[0m\u001b[0m\n\u001b[0m\u001b[1;32m    385\u001b[0m \u001b[0;34m\u001b[0m\u001b[0m\n\u001b[1;32m    386\u001b[0m     \u001b[0;32mdef\u001b[0m \u001b[0mdump\u001b[0m\u001b[0;34m(\u001b[0m\u001b[0mself\u001b[0m\u001b[0;34m)\u001b[0m\u001b[0;34m:\u001b[0m\u001b[0;34m\u001b[0m\u001b[0m\n",
      "\u001b[0;32m~/.pyenv/versions/3.6.4/lib/python3.6/site-packages/pymysql/err.py\u001b[0m in \u001b[0;36mraise_mysql_exception\u001b[0;34m(data)\u001b[0m\n\u001b[1;32m    105\u001b[0m         \u001b[0merrval\u001b[0m \u001b[0;34m=\u001b[0m \u001b[0mdata\u001b[0m\u001b[0;34m[\u001b[0m\u001b[0;36m3\u001b[0m\u001b[0;34m:\u001b[0m\u001b[0;34m]\u001b[0m\u001b[0;34m.\u001b[0m\u001b[0mdecode\u001b[0m\u001b[0;34m(\u001b[0m\u001b[0;34m'utf-8'\u001b[0m\u001b[0;34m,\u001b[0m \u001b[0;34m'replace'\u001b[0m\u001b[0;34m)\u001b[0m\u001b[0;34m\u001b[0m\u001b[0m\n\u001b[1;32m    106\u001b[0m     \u001b[0merrorclass\u001b[0m \u001b[0;34m=\u001b[0m \u001b[0merror_map\u001b[0m\u001b[0;34m.\u001b[0m\u001b[0mget\u001b[0m\u001b[0;34m(\u001b[0m\u001b[0merrno\u001b[0m\u001b[0;34m,\u001b[0m \u001b[0mInternalError\u001b[0m\u001b[0;34m)\u001b[0m\u001b[0;34m\u001b[0m\u001b[0m\n\u001b[0;32m--> 107\u001b[0;31m     \u001b[0;32mraise\u001b[0m \u001b[0merrorclass\u001b[0m\u001b[0;34m(\u001b[0m\u001b[0merrno\u001b[0m\u001b[0;34m,\u001b[0m \u001b[0merrval\u001b[0m\u001b[0;34m)\u001b[0m\u001b[0;34m\u001b[0m\u001b[0m\n\u001b[0m",
      "\u001b[0;31mProgrammingError\u001b[0m: (1064, \"You have an error in your SQL syntax; check the manual that corresponds to your MySQL server version for the right syntax to use near 's Challenge: What Are Crypto Assets Really Worth?', 'Bradley Miles and Sid Kalla' at line 1\")"
     ]
    }
   ],
   "source": [
    "# 錯誤示範，python內建string formatting不會escape SQL的string，如'或是;\n",
    "# 容易造成sql injection\n",
    "for row in res:\n",
    "    cur.execute((\"\"\"INSERT INTO coindesk VALUES ('{}', '{}', '{}', '{}')\"\"\".format(\n",
    "                         row['url'],\n",
    "                         row['title'],\n",
    "                         row['author'],\n",
    "                         row['tstamp'].strftime('%Y-%m-%d %H:%M:%S'))\n",
    "                        ))"
   ]
  },
  {
   "cell_type": "code",
   "execution_count": 327,
   "metadata": {},
   "outputs": [],
   "source": [
    "cur.execute(\"\"\"DELETE FROM coindesk;\"\"\")\n",
    "conn.commit()"
   ]
  },
  {
   "cell_type": "code",
   "execution_count": 328,
   "metadata": {},
   "outputs": [
    {
     "data": {
      "text/plain": [
       "'2018-01-08 15:06:51'"
      ]
     },
     "execution_count": 328,
     "metadata": {},
     "output_type": "execute_result"
    }
   ],
   "source": [
    "datetime.datetime.now().strftime(\"%Y-%m-%d %H:%M:%S\")"
   ]
  },
  {
   "cell_type": "code",
   "execution_count": 336,
   "metadata": {},
   "outputs": [
    {
     "data": {
      "text/plain": [
       "datetime.date(2018, 1, 8)"
      ]
     },
     "execution_count": 336,
     "metadata": {},
     "output_type": "execute_result"
    }
   ],
   "source": [
    "datetime.date.today()"
   ]
  },
  {
   "cell_type": "code",
   "execution_count": 337,
   "metadata": {},
   "outputs": [
    {
     "data": {
      "text/plain": [
       "1515395364.292033"
      ]
     },
     "execution_count": 337,
     "metadata": {},
     "output_type": "execute_result"
    }
   ],
   "source": [
    "import time\n",
    "time.time()"
   ]
  },
  {
   "cell_type": "code",
   "execution_count": 329,
   "metadata": {
    "scrolled": true
   },
   "outputs": [],
   "source": [
    "for row in res:\n",
    "    #print(row)\n",
    "    #cur.execute(\"\"\"INSERT INTO tablename VALUES (?, ?, ?, ?)\"\"\", (val1, val2, val3, val4))\n",
    "    cur.execute(\"\"\"INSERT INTO coindesk VALUES (%s, %s, %s, %s)\"\"\",\n",
    "                         (row['url'],\n",
    "                         row['title'],\n",
    "                         row['author'],\n",
    "                         row['tstamp'])\n",
    "                        )\n",
    "conn.commit()"
   ]
  },
  {
   "cell_type": "code",
   "execution_count": 330,
   "metadata": {},
   "outputs": [],
   "source": [
    "cur.execute(\"\"\"DELETE FROM coindesk;\"\"\")\n",
    "conn.commit()"
   ]
  },
  {
   "cell_type": "code",
   "execution_count": 333,
   "metadata": {
    "scrolled": true
   },
   "outputs": [],
   "source": [
    "bulk_data = [(row['url'],row['title'],row['author'],row['tstamp']) for row in res]\n",
    "cur.executemany(\"\"\"INSERT INTO coindesk VALUES (%s, %s, %s, %s)\"\"\", bulk_data)\n",
    "conn.commit()"
   ]
  },
  {
   "cell_type": "code",
   "execution_count": 332,
   "metadata": {},
   "outputs": [],
   "source": [
    "cur.execute(\"\"\"DELETE FROM coindesk;\"\"\")\n",
    "conn.commit()"
   ]
  },
  {
   "cell_type": "code",
   "execution_count": 334,
   "metadata": {},
   "outputs": [
    {
     "data": {
      "text/plain": [
       "10"
      ]
     },
     "execution_count": 334,
     "metadata": {},
     "output_type": "execute_result"
    }
   ],
   "source": [
    "cur.execute(\"\"\"SELECT * FROM coindesk\"\"\")"
   ]
  },
  {
   "cell_type": "code",
   "execution_count": 335,
   "metadata": {
    "scrolled": false
   },
   "outputs": [
    {
     "name": "stdout",
     "output_type": "stream",
     "text": [
      "('https://www.coindesk.com/2018s-challenge-crypto-assets-really-worth/', \"2018's Challenge: What Are Crypto Assets Really Worth?\", 'Bradley Miles and Sid Kalla', datetime.datetime(2018, 1, 7, 23, 10))\n",
      "('https://www.coindesk.com/anti-virus-token-polyswarm-seeks-safer-internet-50-million-ico/', 'An Anti-Virus Token? Polyswarm Seeks Safer Internet With $50 Million ICO', 'Brady Dale', datetime.datetime(2018, 1, 8, 4, 0))\n",
      "('https://www.coindesk.com/crypto-didnt-give-us-2017/', \"What Crypto Didn't Give Us in 2017\", 'Ian Simpson', datetime.datetime(2018, 1, 6, 10, 20))\n",
      "('https://www.coindesk.com/icos-tech-standards/', 'ICOs: The Tech Is Here, But Where Are the Standards?', 'Nick Cowan', datetime.datetime(2018, 1, 5, 3, 30))\n",
      "('https://www.coindesk.com/james-altucher-raising-10-million-coinbase-competitor/', 'Altucher-Backed Crypto Exchange Raising $10 Million', 'Pete Rizzo', datetime.datetime(2018, 1, 5, 13, 30))\n",
      "('https://www.coindesk.com/long-blockchain-to-enter-bitcoin-mining-after-crypto-pivot-claim/', 'Ex-Iced Tea Maker Long Blockchain Is Buying Bitcoin Miners Now', 'Wolfie Zhao', datetime.datetime(2018, 1, 5, 18, 33))\n",
      "('https://www.coindesk.com/off-the-leash-bitcoin-looks-north-after-breaking-16k/', 'Off the Leash? Bitcoin Looks North After Breaking $16K', 'Omkar Godbole', datetime.datetime(2018, 1, 5, 11, 0))\n",
      "('https://www.coindesk.com/ripple-claims-3-money-transfer-firms-xrp-2018/', 'Ripple Claims 3 Big Money Transfer Firms Will Use XRP in 2018', 'Nikhilesh De', datetime.datetime(2018, 1, 5, 15, 55))\n",
      "('https://www.coindesk.com/ripple-eyes-retreat-after-record-price-highs/', 'Ripple Eyes Retreat After Record Price Highs', 'Omkar Godbole', datetime.datetime(2018, 1, 5, 14, 16))\n",
      "('https://www.coindesk.com/xrp-dichotomy-ripple-price/', \"Could XRP's Frenzied Rise Could Herald Future Growth?\", 'Chris Brookins', datetime.datetime(2018, 1, 6, 20, 15))\n"
     ]
    }
   ],
   "source": [
    "for row in cur:\n",
    "    print(row)"
   ]
  },
  {
   "cell_type": "code",
   "execution_count": null,
   "metadata": {},
   "outputs": [],
   "source": []
  }
 ],
 "metadata": {
  "kernelspec": {
   "display_name": "Python 3",
   "language": "python",
   "name": "python3"
  },
  "language_info": {
   "codemirror_mode": {
    "name": "ipython",
    "version": 3
   },
   "file_extension": ".py",
   "mimetype": "text/x-python",
   "name": "python",
   "nbconvert_exporter": "python",
   "pygments_lexer": "ipython3",
   "version": "3.6.4"
  }
 },
 "nbformat": 4,
 "nbformat_minor": 2
}
