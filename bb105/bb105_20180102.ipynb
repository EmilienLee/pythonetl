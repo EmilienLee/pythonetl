{
 "cells": [
  {
   "cell_type": "markdown",
   "metadata": {},
   "source": [
    "# 爬蟲複習"
   ]
  },
  {
   "cell_type": "code",
   "execution_count": 332,
   "metadata": {
    "scrolled": true
   },
   "outputs": [
    {
     "data": {
      "text/plain": [
       "['ConnectTimeout',\n",
       " 'ConnectionError',\n",
       " 'DependencyWarning',\n",
       " 'FileModeWarning',\n",
       " 'HTTPError',\n",
       " 'NullHandler',\n",
       " 'PreparedRequest',\n",
       " 'ReadTimeout',\n",
       " 'Request',\n",
       " 'RequestException',\n",
       " 'RequestsDependencyWarning',\n",
       " 'Response',\n",
       " 'Session',\n",
       " 'Timeout',\n",
       " 'TooManyRedirects',\n",
       " 'URLRequired',\n",
       " '__author__',\n",
       " '__author_email__',\n",
       " '__build__',\n",
       " '__builtins__',\n",
       " '__cached__',\n",
       " '__cake__',\n",
       " '__copyright__',\n",
       " '__description__',\n",
       " '__doc__',\n",
       " '__file__',\n",
       " '__license__',\n",
       " '__loader__',\n",
       " '__name__',\n",
       " '__package__',\n",
       " '__path__',\n",
       " '__spec__',\n",
       " '__title__',\n",
       " '__url__',\n",
       " '__version__',\n",
       " '_internal_utils',\n",
       " 'adapters',\n",
       " 'api',\n",
       " 'auth',\n",
       " 'certs',\n",
       " 'chardet',\n",
       " 'check_compatibility',\n",
       " 'codes',\n",
       " 'compat',\n",
       " 'cookies',\n",
       " 'delete',\n",
       " 'exceptions',\n",
       " 'get',\n",
       " 'head',\n",
       " 'hooks',\n",
       " 'logging',\n",
       " 'models',\n",
       " 'options',\n",
       " 'packages',\n",
       " 'patch',\n",
       " 'post',\n",
       " 'put',\n",
       " 'request',\n",
       " 'session',\n",
       " 'sessions',\n",
       " 'status_codes',\n",
       " 'structures',\n",
       " 'urllib3',\n",
       " 'utils',\n",
       " 'warnings']"
      ]
     },
     "execution_count": 332,
     "metadata": {},
     "output_type": "execute_result"
    }
   ],
   "source": [
    "import requests\n",
    "\n",
    "dir(requests)"
   ]
  },
  {
   "cell_type": "code",
   "execution_count": 334,
   "metadata": {},
   "outputs": [],
   "source": [
    "# shift-tab\n",
    "# 看doc string\n",
    "# requests.options()"
   ]
  },
  {
   "cell_type": "code",
   "execution_count": 147,
   "metadata": {},
   "outputs": [
    {
     "data": {
      "text/plain": [
       "'<!DOCTYPE html>\\n<html>\\n\\t<head>\\n\\t\\t<meta charset=\"utf-8\">\\n\\t\\t\\n\\n<meta name=\"viewport\" content=\"width=device-width, initial-scale=1\">\\n\\n<title>批踢踢實業坊</title>\\n\\n<link rel=\"stylesheet\" type=\"text/css\" href=\"//images.ptt.cc/bbs/v2.22/bbs-common.css\">\\n<link rel=\"stylesheet\" type=\"text/css\" href=\"//images.ptt.cc/bbs/v2.22/bbs-base.css\" media=\"screen\">\\n<link rel=\"stylesheet\" type=\"text/css\" href=\"//images.ptt.cc/bbs/v2.22/bbs-custom.css\">\\n<link rel=\"stylesheet\" type=\"text/css\" href=\"//images.ptt.cc/bbs/v2.22/pushstream.css\" media=\"screen\">\\n<link rel=\"stylesheet\" type=\"text/css\" href=\"//images.ptt.cc/bbs/v2.22/bbs-print.css\" media=\"print\">\\n\\n\\n\\n\\n\\t</head>\\n    <body>\\n\\t\\t\\n<div class=\"bbs-screen bbs-content\">\\n    <div class=\"over18-notice\">\\n        <p>本網站已依網站內容分級規定處理</p>\\n\\n        <p>警告︰您即將進入之看板內容需滿十八歲方可瀏覽。</p>\\n\\n        <p>若您尚未年滿十八歲，請點選離開。若您已滿十八歲，亦不可將本區之內容派發、傳閱、出售、出租、交給或借予年齡未滿18歲的人士瀏覽，或將本網站內容向該人士出示、播放或放映。</p>\\n    </div>\\n</div>\\n\\n<div class=\"bbs-screen bbs-content center clear\">\\n    <form action=\"/ask/over18\" method=\"post\">\\n        <input type=\"hidden\" name=\"from\" value=\"/bbs/Gossiping/index.html\">\\n        <div class=\"over18-button-container\">\\n            <button class=\"btn-big\" type=\"submit\" name=\"yes\" value=\"yes\">我同意，我已年滿十八歲<br><small>進入</small></button>\\n        </div>\\n        <div class=\"over18-button-container\">\\n            <button class=\"btn-big\" type=\"submit\" name=\"no\" value=\"no\">未滿十八歲或不同意本條款<br><small>離開</small></button>\\n        </div>\\n    </form>\\n</div>\\n\\n\\t\\t\\n\\n<script>\\n  (function(i,s,o,g,r,a,m){i[\\'GoogleAnalyticsObject\\']=r;i[r]=i[r]||function(){\\n  (i[r].q=i[r].q||[]).push(arguments)},i[r].l=1*new Date();a=s.createElement(o),\\n  m=s.getElementsByTagName(o)[0];a.async=1;a.src=g;m.parentNode.insertBefore(a,m)\\n  })(window,document,\\'script\\',\\'https://www.google-analytics.com/analytics.js\\',\\'ga\\');\\n\\n  ga(\\'create\\', \\'UA-32365737-1\\', {\\n    cookieDomain: \\'ptt.cc\\',\\n    legacyCookieDomain: \\'ptt.cc\\'\\n  });\\n  ga(\\'send\\', \\'pageview\\');\\n</script>\\n\\n\\n\\t\\t\\n<script src=\"//ajax.googleapis.com/ajax/libs/jquery/2.1.1/jquery.min.js\"></script>\\n<script src=\"//images.ptt.cc/bbs/v2.22/bbs.js\"></script>\\n\\n    </body>\\n</html>\\n'"
      ]
     },
     "execution_count": 147,
     "metadata": {},
     "output_type": "execute_result"
    }
   ],
   "source": [
    "import requests\n",
    "\n",
    "URL = \"https://www.ptt.cc/bbs/Gossiping/index.html\"\n",
    "\n",
    "resp = requests.get(URL)\n",
    "resp.text"
   ]
  },
  {
   "cell_type": "markdown",
   "metadata": {},
   "source": [
    "## 仔細觀察瀏覽PTT八卦版的流程，並且打開開發者工具"
   ]
  },
  {
   "cell_type": "code",
   "execution_count": 150,
   "metadata": {},
   "outputs": [
    {
     "data": {
      "text/plain": [
       "'tn wide disabled\">下頁 &rsaquo;</a>\\n\\t\\t\\t\\t<a class=\"btn wide\" href=\"/bbs/Gossiping/index.html\">最新</a>\\n\\t\\t\\t</div>\\n\\t\\t</div>\\n\\t</div>\\n\\n\\t<div class=\"r-list-container action-bar-margin bbs-screen\">\\n\\t\\t\\n\\t\\t\\n            \\n        \\n        \\n\\t\\t<div class=\"r-ent\">\\n\\t\\t\\t<div class=\"nrec\"><span class=\"hl f2\">2</span></div>\\n\\t\\t\\t<div class=\"mark\"></div>\\n\\t\\t\\t<div class=\"title\">\\n\\t\\t\\t\\n\\t\\t\\t\\t<a href=\"/bbs/Gossiping/M.1514856317.A.'"
      ]
     },
     "execution_count": 150,
     "metadata": {},
     "output_type": "execute_result"
    }
   ],
   "source": [
    "import requests\n",
    "\n",
    "URL = \"https://www.ptt.cc/bbs/Gossiping/index.html\"\n",
    "\n",
    "custom_headers = {\n",
    "    \"cookie\": \"over18=1;\"\n",
    "}\n",
    "\n",
    "resp = requests.get(URL, headers=custom_headers)\n",
    "# resp.text\n",
    "resp.text[1500:1900]\n",
    "# 成功！"
   ]
  },
  {
   "cell_type": "markdown",
   "metadata": {},
   "source": [
    "## 思考一下PTT的換頁策略\n",
    "\n",
    "我們需要知道現在最新的頁面是多少\n",
    "\n",
    "![https://i.imgur.com/MBX0eET.png](https://i.imgur.com/MBX0eET.png)\n",
    "\n",
    "可以用上次的re模組撰寫regular express來取得"
   ]
  },
  {
   "cell_type": "code",
   "execution_count": 151,
   "metadata": {},
   "outputs": [
    {
     "data": {
      "text/plain": [
       "31066"
      ]
     },
     "execution_count": 151,
     "metadata": {},
     "output_type": "execute_result"
    }
   ],
   "source": [
    "import re\n",
    "\n",
    "import requests\n",
    "\n",
    "URL = \"https://www.ptt.cc/bbs/Gossiping/index.html\"\n",
    "\n",
    "custom_headers = {\n",
    "    \"cookie\": \"over18=1;\"\n",
    "}\n",
    "\n",
    "resp = requests.get(URL, headers=custom_headers)\n",
    "\n",
    "# 這個符號\n",
    "# ‹-> &lsaquo;\n",
    "total_page_cnt = int(re.findall('href=\"/bbs/Gossiping/index(\\d+).html\">&lsaquo; 上頁', resp.text)[0]) + 1\n",
    "\n",
    "total_page_cnt"
   ]
  },
  {
   "cell_type": "code",
   "execution_count": 60,
   "metadata": {},
   "outputs": [],
   "source": [
    "# 整理成function\n",
    "def get_total_page_cnt():\n",
    "    URL = \"https://www.ptt.cc/bbs/Gossiping/index.html\"\n",
    "\n",
    "    custom_headers = {\n",
    "        \"cookie\": \"over18=1;\"\n",
    "    }\n",
    "\n",
    "    resp = requests.get(URL, headers=custom_headers)\n",
    "\n",
    "    # 這個符號\n",
    "    # ‹-> &lsaquo;\n",
    "    total_page_cnt = int(re.findall('href=\"/bbs/Gossiping/index(\\d+).html\">&lsaquo; 上頁', resp.text)[0]) + 1\n",
    "    return total_page_cnt"
   ]
  },
  {
   "cell_type": "markdown",
   "metadata": {},
   "source": [
    "## 單頁爬蟲"
   ]
  },
  {
   "cell_type": "code",
   "execution_count": 181,
   "metadata": {},
   "outputs": [],
   "source": [
    "import re\n",
    "\n",
    "import requests\n",
    "\n",
    "def get_list_page(url):\n",
    "    \"\"\"爬取PTT列表頁面\n",
    "\n",
    "    Parameters\n",
    "    ----------\n",
    "    url : str\n",
    "        PTT列表頁UTL，\n",
    "        如：https://www.ptt.cc/bbs/Gossiping/index31063.html\n",
    "\n",
    "    Returns\n",
    "    -------\n",
    "    list\n",
    "        頁面上所有PTT內文URL\n",
    "    \"\"\"\n",
    "    HOST = \"https://www.ptt.cc\"\n",
    "    \n",
    "    custom_headers = {\n",
    "        \"cookie\": \"over18=1;\"\n",
    "    }\n",
    "\n",
    "    resp = requests.get(url, headers=custom_headers)\n",
    "    links = re.findall('<a href=\"(/bbs/Gossiping/M.+\\.html)\">.+</a>', resp.text)\n",
    "    detail_page_links = [HOST + link for link in links]\n",
    "    return detail_page_links"
   ]
  },
  {
   "cell_type": "code",
   "execution_count": 182,
   "metadata": {},
   "outputs": [
    {
     "data": {
      "text/plain": [
       "['https://www.ptt.cc/bbs/Gossiping/M.1514853038.A.F34.html',\n",
       " 'https://www.ptt.cc/bbs/Gossiping/M.1514853127.A.9F6.html',\n",
       " 'https://www.ptt.cc/bbs/Gossiping/M.1514853296.A.F08.html',\n",
       " 'https://www.ptt.cc/bbs/Gossiping/M.1514853353.A.8FF.html',\n",
       " 'https://www.ptt.cc/bbs/Gossiping/M.1514853368.A.FBF.html',\n",
       " 'https://www.ptt.cc/bbs/Gossiping/M.1514853479.A.935.html',\n",
       " 'https://www.ptt.cc/bbs/Gossiping/M.1514853502.A.C78.html',\n",
       " 'https://www.ptt.cc/bbs/Gossiping/M.1514853658.A.805.html',\n",
       " 'https://www.ptt.cc/bbs/Gossiping/M.1514853662.A.5A8.html',\n",
       " 'https://www.ptt.cc/bbs/Gossiping/M.1514853693.A.C78.html',\n",
       " 'https://www.ptt.cc/bbs/Gossiping/M.1514853705.A.6AA.html',\n",
       " 'https://www.ptt.cc/bbs/Gossiping/M.1514853820.A.24D.html',\n",
       " 'https://www.ptt.cc/bbs/Gossiping/M.1514853881.A.32E.html',\n",
       " 'https://www.ptt.cc/bbs/Gossiping/M.1514853900.A.4D2.html',\n",
       " 'https://www.ptt.cc/bbs/Gossiping/M.1514853914.A.8C3.html',\n",
       " 'https://www.ptt.cc/bbs/Gossiping/M.1514853941.A.CE8.html',\n",
       " 'https://www.ptt.cc/bbs/Gossiping/M.1514854082.A.608.html',\n",
       " 'https://www.ptt.cc/bbs/Gossiping/M.1514854089.A.4AB.html',\n",
       " 'https://www.ptt.cc/bbs/Gossiping/M.1514854105.A.DA6.html']"
      ]
     },
     "execution_count": 182,
     "metadata": {},
     "output_type": "execute_result"
    }
   ],
   "source": [
    "get_list_page(\"https://www.ptt.cc/bbs/Gossiping/index31063.html\")"
   ]
  },
  {
   "cell_type": "code",
   "execution_count": 162,
   "metadata": {},
   "outputs": [],
   "source": [
    "# import re\n",
    "\n",
    "# import requests\n",
    "\n",
    "# def get_list_page(url):\n",
    "#     HOST = \"https://www.ptt.cc\"\n",
    "    \n",
    "#     custom_headers = {\n",
    "#         \"cookie\": \"over18=1;\"\n",
    "#     }\n",
    "\n",
    "#     resp = requests.get(url, headers=custom_headers)\n",
    "#     links = re.findall('<a href=\"(/bbs/Gossiping/M.+\\.html)\">.+</a>', resp.text)\n",
    "#     for link in links:\n",
    "#         # Generator\n",
    "#         # https://wiki.python.org/moin/Generators\n",
    "#         yield HOST + link"
   ]
  },
  {
   "cell_type": "code",
   "execution_count": 157,
   "metadata": {
    "scrolled": true
   },
   "outputs": [
    {
     "name": "stdout",
     "output_type": "stream",
     "text": [
      "https://www.ptt.cc/bbs/Gossiping/M.1514806848.A.980.html\n",
      "https://www.ptt.cc/bbs/Gossiping/M.1514806886.A.C87.html\n",
      "https://www.ptt.cc/bbs/Gossiping/M.1514806887.A.F03.html\n",
      "https://www.ptt.cc/bbs/Gossiping/M.1514806894.A.AAC.html\n",
      "https://www.ptt.cc/bbs/Gossiping/M.1514806952.A.C03.html\n",
      "https://www.ptt.cc/bbs/Gossiping/M.1514806963.A.E4C.html\n",
      "https://www.ptt.cc/bbs/Gossiping/M.1514806992.A.263.html\n",
      "https://www.ptt.cc/bbs/Gossiping/M.1514807003.A.C4A.html\n",
      "https://www.ptt.cc/bbs/Gossiping/M.1514807007.A.A11.html\n",
      "https://www.ptt.cc/bbs/Gossiping/M.1514807034.A.7B2.html\n",
      "https://www.ptt.cc/bbs/Gossiping/M.1514807049.A.9D2.html\n",
      "https://www.ptt.cc/bbs/Gossiping/M.1514807088.A.049.html\n",
      "https://www.ptt.cc/bbs/Gossiping/M.1514807146.A.89E.html\n",
      "https://www.ptt.cc/bbs/Gossiping/M.1514807191.A.0F5.html\n",
      "https://www.ptt.cc/bbs/Gossiping/M.1514807242.A.AF2.html\n",
      "https://www.ptt.cc/bbs/Gossiping/M.1514807248.A.BFA.html\n",
      "https://www.ptt.cc/bbs/Gossiping/M.1514807259.A.4EA.html\n",
      "https://www.ptt.cc/bbs/Gossiping/M.1514807276.A.7F5.html\n",
      "https://www.ptt.cc/bbs/Gossiping/M.1514807301.A.7F0.html\n",
      "https://www.ptt.cc/bbs/Gossiping/M.1514807339.A.64B.html\n"
     ]
    }
   ],
   "source": [
    "# for link in get_list_page('https://www.ptt.cc/bbs/Gossiping/index31008.html'):\n",
    "#     print(link)"
   ]
  },
  {
   "cell_type": "code",
   "execution_count": 167,
   "metadata": {},
   "outputs": [
    {
     "data": {
      "text/plain": [
       "31067"
      ]
     },
     "execution_count": 167,
     "metadata": {},
     "output_type": "execute_result"
    }
   ],
   "source": [
    "total_page_cnt = get_total_page_cnt()\n",
    "total_page_cnt"
   ]
  },
  {
   "cell_type": "code",
   "execution_count": 168,
   "metadata": {},
   "outputs": [
    {
     "name": "stdout",
     "output_type": "stream",
     "text": [
      "31067\n",
      "31066\n",
      "31065\n",
      "31064\n",
      "31063\n",
      "31062\n",
      "31061\n",
      "31060\n",
      "31059\n",
      "31058\n"
     ]
    }
   ],
   "source": [
    "for page in range(total_page_cnt, total_page_cnt - 10, -1):\n",
    "    print(page)"
   ]
  },
  {
   "cell_type": "code",
   "execution_count": 169,
   "metadata": {},
   "outputs": [
    {
     "name": "stdout",
     "output_type": "stream",
     "text": [
      "/bbs/Gossiping/M.1514857838.A.CFD.html\n",
      "/bbs/Gossiping/M.1514857839.A.100.html\n",
      "/bbs/Gossiping/M.1514857840.A.512.html\n",
      "/bbs/Gossiping/M.1514857853.A.EBF.html\n",
      "/bbs/Gossiping/M.1514857862.A.669.html\n",
      "/bbs/Gossiping/M.1514857909.A.96E.html\n",
      "/bbs/Gossiping/M.1514857924.A.982.html\n",
      "/bbs/Gossiping/M.1514857962.A.805.html\n",
      "/bbs/Gossiping/M.1514857989.A.7E2.html\n",
      "/bbs/Gossiping/M.1514858013.A.525.html\n",
      "/bbs/Gossiping/M.1514858018.A.D66.html\n",
      "/bbs/Gossiping/M.1514858037.A.617.html\n",
      "/bbs/Gossiping/M.1510415718.A.D77.html\n",
      "/bbs/Gossiping/M.1514720863.A.84E.html\n",
      "/bbs/Gossiping/M.1514336396.A.B25.html\n",
      "/bbs/Gossiping/M.1514738804.A.4A0.html\n",
      "/bbs/Gossiping/M.1514857224.A.9C5.html\n",
      "/bbs/Gossiping/M.1514857289.A.0D1.html\n",
      "/bbs/Gossiping/M.1514857318.A.191.html\n",
      "/bbs/Gossiping/M.1514857360.A.C3B.html\n",
      "/bbs/Gossiping/M.1514857365.A.DAD.html\n",
      "/bbs/Gossiping/M.1514857395.A.CF2.html\n",
      "/bbs/Gossiping/M.1514857404.A.6EB.html\n",
      "/bbs/Gossiping/M.1514857469.A.31F.html\n",
      "/bbs/Gossiping/M.1514857500.A.95A.html\n",
      "/bbs/Gossiping/M.1514857521.A.7F3.html\n",
      "/bbs/Gossiping/M.1514857537.A.CEE.html\n",
      "/bbs/Gossiping/M.1514857548.A.FCC.html\n",
      "/bbs/Gossiping/M.1514857586.A.E1E.html\n",
      "/bbs/Gossiping/M.1514857677.A.384.html\n",
      "/bbs/Gossiping/M.1514857694.A.B0A.html\n",
      "/bbs/Gossiping/M.1514857709.A.B7F.html\n",
      "/bbs/Gossiping/M.1514857737.A.4D6.html\n",
      "/bbs/Gossiping/M.1514857769.A.EDE.html\n",
      "/bbs/Gossiping/M.1514857781.A.25D.html\n",
      "/bbs/Gossiping/M.1514857829.A.829.html\n",
      "/bbs/Gossiping/M.1514856317.A.154.html\n",
      "/bbs/Gossiping/M.1514856340.A.DF3.html\n",
      "/bbs/Gossiping/M.1514856450.A.F02.html\n",
      "/bbs/Gossiping/M.1514856463.A.3CF.html\n",
      "/bbs/Gossiping/M.1514856485.A.7A8.html\n",
      "/bbs/Gossiping/M.1514856534.A.9AA.html\n",
      "/bbs/Gossiping/M.1514856554.A.DE4.html\n",
      "/bbs/Gossiping/M.1514856622.A.1DC.html\n",
      "/bbs/Gossiping/M.1514856703.A.B4C.html\n",
      "/bbs/Gossiping/M.1514856876.A.A1F.html\n",
      "/bbs/Gossiping/M.1514856881.A.7A5.html\n",
      "/bbs/Gossiping/M.1514856907.A.291.html\n",
      "/bbs/Gossiping/M.1514856951.A.670.html\n",
      "/bbs/Gossiping/M.1514857050.A.738.html\n",
      "/bbs/Gossiping/M.1514857095.A.383.html\n",
      "/bbs/Gossiping/M.1514857138.A.536.html\n",
      "/bbs/Gossiping/M.1514857177.A.5FC.html\n",
      "/bbs/Gossiping/M.1514857205.A.6A2.html\n",
      "/bbs/Gossiping/M.1514857209.A.F49.html\n",
      "/bbs/Gossiping/M.1514855339.A.EBA.html\n",
      "/bbs/Gossiping/M.1514855341.A.403.html\n",
      "/bbs/Gossiping/M.1514855393.A.57B.html\n",
      "/bbs/Gossiping/M.1514855410.A.1BC.html\n",
      "/bbs/Gossiping/M.1514855584.A.640.html\n",
      "/bbs/Gossiping/M.1514855608.A.A73.html\n",
      "/bbs/Gossiping/M.1514855667.A.579.html\n",
      "/bbs/Gossiping/M.1514855703.A.CC6.html\n",
      "/bbs/Gossiping/M.1514855751.A.724.html\n",
      "/bbs/Gossiping/M.1514855800.A.AAA.html\n",
      "/bbs/Gossiping/M.1514855906.A.2D0.html\n",
      "/bbs/Gossiping/M.1514855978.A.B82.html\n",
      "/bbs/Gossiping/M.1514856008.A.EC2.html\n",
      "/bbs/Gossiping/M.1514856011.A.BDA.html\n",
      "/bbs/Gossiping/M.1514856252.A.B74.html\n",
      "/bbs/Gossiping/M.1514856256.A.283.html\n",
      "/bbs/Gossiping/M.1514856271.A.4EF.html\n",
      "/bbs/Gossiping/M.1514856290.A.7AF.html\n",
      "/bbs/Gossiping/M.1514856303.A.856.html\n",
      "/bbs/Gossiping/M.1514854157.A.4BC.html\n",
      "/bbs/Gossiping/M.1514854358.A.AD3.html\n",
      "/bbs/Gossiping/M.1514854387.A.608.html\n",
      "/bbs/Gossiping/M.1514854439.A.092.html\n",
      "/bbs/Gossiping/M.1514854518.A.1C3.html\n",
      "/bbs/Gossiping/M.1514854630.A.DD8.html\n",
      "/bbs/Gossiping/M.1514854705.A.AD0.html\n",
      "/bbs/Gossiping/M.1514854733.A.963.html\n",
      "/bbs/Gossiping/M.1514854803.A.B68.html\n",
      "/bbs/Gossiping/M.1514854847.A.FE2.html\n",
      "/bbs/Gossiping/M.1514854899.A.30C.html\n",
      "/bbs/Gossiping/M.1514854906.A.F53.html\n",
      "/bbs/Gossiping/M.1514854909.A.7FB.html\n",
      "/bbs/Gossiping/M.1514854963.A.3F9.html\n",
      "/bbs/Gossiping/M.1514855021.A.FF1.html\n",
      "/bbs/Gossiping/M.1514855110.A.1EA.html\n",
      "/bbs/Gossiping/M.1514855127.A.D9A.html\n",
      "/bbs/Gossiping/M.1514855147.A.A70.html\n",
      "/bbs/Gossiping/M.1514855249.A.44E.html\n",
      "/bbs/Gossiping/M.1514855332.A.1E6.html\n",
      "/bbs/Gossiping/M.1514853038.A.F34.html\n",
      "/bbs/Gossiping/M.1514853127.A.9F6.html\n",
      "/bbs/Gossiping/M.1514853296.A.F08.html\n",
      "/bbs/Gossiping/M.1514853353.A.8FF.html\n",
      "/bbs/Gossiping/M.1514853368.A.FBF.html\n",
      "/bbs/Gossiping/M.1514853479.A.935.html\n",
      "/bbs/Gossiping/M.1514853502.A.C78.html\n",
      "/bbs/Gossiping/M.1514853658.A.805.html\n",
      "/bbs/Gossiping/M.1514853662.A.5A8.html\n",
      "/bbs/Gossiping/M.1514853693.A.C78.html\n",
      "/bbs/Gossiping/M.1514853705.A.6AA.html\n",
      "/bbs/Gossiping/M.1514853820.A.24D.html\n",
      "/bbs/Gossiping/M.1514853881.A.32E.html\n",
      "/bbs/Gossiping/M.1514853900.A.4D2.html\n",
      "/bbs/Gossiping/M.1514853914.A.8C3.html\n",
      "/bbs/Gossiping/M.1514853941.A.CE8.html\n",
      "/bbs/Gossiping/M.1514854082.A.608.html\n",
      "/bbs/Gossiping/M.1514854089.A.4AB.html\n",
      "/bbs/Gossiping/M.1514854105.A.DA6.html\n",
      "/bbs/Gossiping/M.1514851555.A.43A.html\n",
      "/bbs/Gossiping/M.1514851605.A.2CF.html\n",
      "/bbs/Gossiping/M.1514851633.A.6F3.html\n",
      "/bbs/Gossiping/M.1514851956.A.FD5.html\n",
      "/bbs/Gossiping/M.1514851960.A.AEB.html\n",
      "/bbs/Gossiping/M.1514852033.A.516.html\n",
      "/bbs/Gossiping/M.1514852042.A.15A.html\n",
      "/bbs/Gossiping/M.1514852214.A.F36.html\n",
      "/bbs/Gossiping/M.1514852217.A.672.html\n",
      "/bbs/Gossiping/M.1514852400.A.C24.html\n",
      "/bbs/Gossiping/M.1514852517.A.72D.html\n",
      "/bbs/Gossiping/M.1514852587.A.803.html\n",
      "/bbs/Gossiping/M.1514852623.A.EBC.html\n",
      "/bbs/Gossiping/M.1514852675.A.254.html\n",
      "/bbs/Gossiping/M.1514852877.A.0EF.html\n",
      "/bbs/Gossiping/M.1514852879.A.79A.html\n",
      "/bbs/Gossiping/M.1514852960.A.206.html\n",
      "/bbs/Gossiping/M.1514852961.A.2F5.html\n",
      "/bbs/Gossiping/M.1514852962.A.AE1.html\n",
      "/bbs/Gossiping/M.1514853036.A.25C.html\n",
      "/bbs/Gossiping/M.1514850215.A.EF2.html\n",
      "/bbs/Gossiping/M.1514850277.A.074.html\n",
      "/bbs/Gossiping/M.1514850322.A.1B3.html\n",
      "/bbs/Gossiping/M.1514850402.A.8F6.html\n",
      "/bbs/Gossiping/M.1514850432.A.344.html\n",
      "/bbs/Gossiping/M.1514850443.A.82D.html\n",
      "/bbs/Gossiping/M.1514850451.A.F7A.html\n",
      "/bbs/Gossiping/M.1514850703.A.97D.html\n",
      "/bbs/Gossiping/M.1514850731.A.370.html\n",
      "/bbs/Gossiping/M.1514850795.A.F97.html\n",
      "/bbs/Gossiping/M.1514850923.A.D02.html\n",
      "/bbs/Gossiping/M.1514850962.A.838.html\n",
      "/bbs/Gossiping/M.1514851012.A.20D.html\n",
      "/bbs/Gossiping/M.1514851087.A.EF0.html\n",
      "/bbs/Gossiping/M.1514851091.A.43F.html\n",
      "/bbs/Gossiping/M.1514851309.A.D5F.html\n",
      "/bbs/Gossiping/M.1514851350.A.7C3.html\n",
      "/bbs/Gossiping/M.1514851396.A.54D.html\n",
      "/bbs/Gossiping/M.1514851465.A.F41.html\n",
      "/bbs/Gossiping/M.1514851488.A.30C.html\n",
      "/bbs/Gossiping/M.1514846890.A.479.html\n",
      "/bbs/Gossiping/M.1514846894.A.1A4.html\n",
      "/bbs/Gossiping/M.1514847417.A.5A1.html\n",
      "/bbs/Gossiping/M.1514847490.A.06C.html\n",
      "/bbs/Gossiping/M.1514847545.A.A91.html\n",
      "/bbs/Gossiping/M.1514847850.A.C68.html\n",
      "/bbs/Gossiping/M.1514848022.A.44C.html\n",
      "/bbs/Gossiping/M.1514848043.A.2D2.html\n",
      "/bbs/Gossiping/M.1514848154.A.E5F.html\n",
      "/bbs/Gossiping/M.1514848199.A.F2E.html\n",
      "/bbs/Gossiping/M.1514848300.A.098.html\n",
      "/bbs/Gossiping/M.1514848762.A.476.html\n",
      "/bbs/Gossiping/M.1514849206.A.74C.html\n",
      "/bbs/Gossiping/M.1514849739.A.2BC.html\n",
      "/bbs/Gossiping/M.1514849766.A.9FA.html\n",
      "/bbs/Gossiping/M.1514850033.A.FB1.html\n",
      "/bbs/Gossiping/M.1514850097.A.314.html\n",
      "/bbs/Gossiping/M.1514850188.A.3FE.html\n",
      "/bbs/Gossiping/M.1514842387.A.713.html\n",
      "/bbs/Gossiping/M.1514842401.A.309.html\n",
      "/bbs/Gossiping/M.1514842488.A.B53.html\n",
      "/bbs/Gossiping/M.1514842641.A.245.html\n",
      "/bbs/Gossiping/M.1514843138.A.64C.html\n",
      "/bbs/Gossiping/M.1514843288.A.F78.html\n",
      "/bbs/Gossiping/M.1514843385.A.36B.html\n",
      "/bbs/Gossiping/M.1514843731.A.755.html\n",
      "/bbs/Gossiping/M.1514843856.A.808.html\n",
      "/bbs/Gossiping/M.1514844065.A.99A.html\n",
      "/bbs/Gossiping/M.1514844084.A.D9B.html\n",
      "/bbs/Gossiping/M.1514845039.A.477.html\n",
      "/bbs/Gossiping/M.1514845314.A.57C.html\n",
      "/bbs/Gossiping/M.1514845632.A.C5B.html\n",
      "/bbs/Gossiping/M.1514845962.A.E97.html\n",
      "/bbs/Gossiping/M.1514845970.A.384.html\n",
      "/bbs/Gossiping/M.1514846070.A.7B9.html\n",
      "/bbs/Gossiping/M.1514846279.A.04A.html\n",
      "/bbs/Gossiping/M.1514846558.A.9F9.html\n",
      "/bbs/Gossiping/M.1514846676.A.E8A.html\n"
     ]
    }
   ],
   "source": [
    "import re\n",
    "\n",
    "import requests\n",
    "\n",
    "# 一次爬10頁\n",
    "CRAWL_PAGE_CNT = 10\n",
    "URL_TEMPLATE = \"https://www.ptt.cc/bbs/Gossiping/index{}.html\"\n",
    "\n",
    "total_page_cnt = get_total_page_cnt()\n",
    "\n",
    "for pg in range(total_page_cnt, total_page_cnt - CRAWL_PAGE_CNT, -1):\n",
    "    url = URL_TEMPLATE.format(pg)\n",
    "    for link in get_list_page(url):\n",
    "        print(link)"
   ]
  },
  {
   "cell_type": "code",
   "execution_count": 170,
   "metadata": {},
   "outputs": [
    {
     "name": "stdout",
     "output_type": "stream",
     "text": [
      "mkdir: /tmp/ptt_data: File exists\r\n"
     ]
    }
   ],
   "source": [
    "!mkdir /tmp/ptt_data"
   ]
  },
  {
   "cell_type": "code",
   "execution_count": 177,
   "metadata": {},
   "outputs": [
    {
     "data": {
      "text/plain": [
       "'M_1514855751_A_724.html'"
      ]
     },
     "execution_count": 177,
     "metadata": {},
     "output_type": "execute_result"
    }
   ],
   "source": [
    "url = \"https://www.ptt.cc/bbs/Gossiping/M.1514855751.A.724.html\"\n",
    "\n",
    "\"_\".join(url.split('/')[-1].split('.')[:-1]) + '.html'"
   ]
  },
  {
   "cell_type": "code",
   "execution_count": 171,
   "metadata": {},
   "outputs": [],
   "source": [
    "import requests\n",
    "\n",
    "DATA_PATH = '/tmp/ptt_data'\n",
    "\n",
    "def dump_page(url):\n",
    "    \"\"\"爬取PTT列表頁面\n",
    "\n",
    "    Parameters\n",
    "    ----------\n",
    "    url : str\n",
    "        PTT內文頁URL，\n",
    "        如：https://www.ptt.cc/bbs/Gossiping/M.1514855751.A.724.html\n",
    "\n",
    "    Returns\n",
    "    -------\n",
    "    str\n",
    "        檔名filename\n",
    "    \"\"\"\n",
    "    filename = \"_\".join(url.split('/')[-1].split('.')[:-1]) + '.html'\n",
    "    \n",
    "    custom_headers = {\n",
    "        \"cookie\": \"over18=1;\"\n",
    "    }\n",
    "\n",
    "    resp = requests.get(url, headers=custom_headers)\n",
    "    with open(DATA_PATH + '/' + filename, 'w') as f:\n",
    "        f.write(resp.text)\n",
    "    return filename"
   ]
  },
  {
   "cell_type": "code",
   "execution_count": 178,
   "metadata": {},
   "outputs": [
    {
     "data": {
      "text/plain": [
       "'M_1514807718_A_FC3.html'"
      ]
     },
     "execution_count": 178,
     "metadata": {},
     "output_type": "execute_result"
    }
   ],
   "source": [
    "dump_page('https://www.ptt.cc/bbs/Gossiping/M.1514807718.A.FC3.html')"
   ]
  },
  {
   "cell_type": "code",
   "execution_count": 179,
   "metadata": {},
   "outputs": [
    {
     "name": "stdout",
     "output_type": "stream",
     "text": [
      "M_1510415718_A_D77.html M_1514807622_A_3E3.html M_1514808052_A_988.html\r\n",
      "M_1514336396_A_B25.html M_1514807702_A_BB6.html M_1514808076_A_D94.html\r\n",
      "M_1514720863_A_84E.html M_1514807707_A_12A.html M_1514808080_A_727.html\r\n",
      "M_1514738804_A_4A0.html M_1514807718_A_FC3.html M_1514808109_A_248.html\r\n",
      "M_1514807382_A_0CA.html M_1514807725_A_B98.html M_1514808123_A_3A0.html\r\n",
      "M_1514807473_A_511.html M_1514807776_A_25C.html M_1514808130_A_979.html\r\n",
      "M_1514807474_A_985.html M_1514807789_A_C9C.html M_1514808141_A_908.html\r\n",
      "M_1514807510_A_E2C.html M_1514807802_A_C56.html M_1514808145_A_05C.html\r\n",
      "M_1514807521_A_342.html M_1514807817_A_59A.html M_1514808193_A_4A6.html\r\n",
      "M_1514807566_A_84B.html M_1514807961_A_653.html M_1514808390_A_1D0.html\r\n",
      "M_1514807580_A_0BF.html M_1514807970_A_F4A.html M_1514808393_A_167.html\r\n",
      "M_1514807581_A_E1D.html M_1514807974_A_B1C.html M_1514808458_A_F02.html\r\n",
      "M_1514807585_A_663.html M_1514808011_A_859.html M_1514808517_A_3CD.html\r\n",
      "M_1514807609_A_9EC.html M_1514808027_A_86C.html M_1514808519_A_EB2.html\r\n",
      "M_1514807618_A_D7F.html M_1514808044_A_E91.html M_1514808526_A_697.html\r\n"
     ]
    }
   ],
   "source": [
    "!ls /tmp/ptt_data/"
   ]
  },
  {
   "cell_type": "code",
   "execution_count": 183,
   "metadata": {},
   "outputs": [
    {
     "name": "stdout",
     "output_type": "stream",
     "text": [
      "https://www.ptt.cc/bbs/Gossiping/M.1514858874.A.17F.html\n",
      "https://www.ptt.cc/bbs/Gossiping/M.1514858889.A.10C.html\n",
      "https://www.ptt.cc/bbs/Gossiping/M.1514858903.A.817.html\n",
      "https://www.ptt.cc/bbs/Gossiping/M.1510415718.A.D77.html\n",
      "https://www.ptt.cc/bbs/Gossiping/M.1514720863.A.84E.html\n",
      "https://www.ptt.cc/bbs/Gossiping/M.1514336396.A.B25.html\n",
      "https://www.ptt.cc/bbs/Gossiping/M.1514738804.A.4A0.html\n",
      "https://www.ptt.cc/bbs/Gossiping/M.1514858152.A.65C.html\n",
      "https://www.ptt.cc/bbs/Gossiping/M.1514858171.A.464.html\n",
      "https://www.ptt.cc/bbs/Gossiping/M.1514858269.A.474.html\n",
      "https://www.ptt.cc/bbs/Gossiping/M.1514858272.A.B73.html\n",
      "https://www.ptt.cc/bbs/Gossiping/M.1514858337.A.B3F.html\n",
      "https://www.ptt.cc/bbs/Gossiping/M.1514858354.A.1B2.html\n",
      "https://www.ptt.cc/bbs/Gossiping/M.1514858392.A.678.html\n",
      "https://www.ptt.cc/bbs/Gossiping/M.1514858431.A.781.html\n",
      "https://www.ptt.cc/bbs/Gossiping/M.1514858492.A.D16.html\n",
      "https://www.ptt.cc/bbs/Gossiping/M.1514858536.A.B43.html\n",
      "https://www.ptt.cc/bbs/Gossiping/M.1514858540.A.7FD.html\n",
      "https://www.ptt.cc/bbs/Gossiping/M.1514858571.A.F90.html\n",
      "https://www.ptt.cc/bbs/Gossiping/M.1514858614.A.4B0.html\n",
      "https://www.ptt.cc/bbs/Gossiping/M.1514858714.A.E26.html\n",
      "https://www.ptt.cc/bbs/Gossiping/M.1514858784.A.2F0.html\n",
      "https://www.ptt.cc/bbs/Gossiping/M.1514858797.A.9B4.html\n",
      "https://www.ptt.cc/bbs/Gossiping/M.1514858846.A.7A7.html\n",
      "https://www.ptt.cc/bbs/Gossiping/M.1514858856.A.577.html\n",
      "https://www.ptt.cc/bbs/Gossiping/M.1514858857.A.977.html\n",
      "https://www.ptt.cc/bbs/Gossiping/M.1514858873.A.B56.html\n",
      "https://www.ptt.cc/bbs/Gossiping/M.1514857838.A.CFD.html\n",
      "https://www.ptt.cc/bbs/Gossiping/M.1514857839.A.100.html\n",
      "https://www.ptt.cc/bbs/Gossiping/M.1514857840.A.512.html\n",
      "https://www.ptt.cc/bbs/Gossiping/M.1514857853.A.EBF.html\n",
      "https://www.ptt.cc/bbs/Gossiping/M.1514857862.A.669.html\n",
      "https://www.ptt.cc/bbs/Gossiping/M.1514857909.A.96E.html\n",
      "https://www.ptt.cc/bbs/Gossiping/M.1514857924.A.982.html\n",
      "https://www.ptt.cc/bbs/Gossiping/M.1514857962.A.805.html\n",
      "https://www.ptt.cc/bbs/Gossiping/M.1514857989.A.7E2.html\n",
      "https://www.ptt.cc/bbs/Gossiping/M.1514858013.A.525.html\n",
      "https://www.ptt.cc/bbs/Gossiping/M.1514858018.A.D66.html\n",
      "https://www.ptt.cc/bbs/Gossiping/M.1514858037.A.617.html\n",
      "https://www.ptt.cc/bbs/Gossiping/M.1514858073.A.11E.html\n",
      "https://www.ptt.cc/bbs/Gossiping/M.1514858081.A.8A4.html\n",
      "https://www.ptt.cc/bbs/Gossiping/M.1514858082.A.976.html\n",
      "https://www.ptt.cc/bbs/Gossiping/M.1514858094.A.0F5.html\n",
      "https://www.ptt.cc/bbs/Gossiping/M.1514858103.A.0CA.html\n",
      "https://www.ptt.cc/bbs/Gossiping/M.1514858120.A.D17.html\n",
      "https://www.ptt.cc/bbs/Gossiping/M.1514858124.A.B2F.html\n",
      "https://www.ptt.cc/bbs/Gossiping/M.1514858140.A.C49.html\n",
      "https://www.ptt.cc/bbs/Gossiping/M.1514857224.A.9C5.html\n",
      "https://www.ptt.cc/bbs/Gossiping/M.1514857289.A.0D1.html\n",
      "https://www.ptt.cc/bbs/Gossiping/M.1514857318.A.191.html\n",
      "https://www.ptt.cc/bbs/Gossiping/M.1514857360.A.C3B.html\n",
      "https://www.ptt.cc/bbs/Gossiping/M.1514857365.A.DAD.html\n",
      "https://www.ptt.cc/bbs/Gossiping/M.1514857395.A.CF2.html\n",
      "https://www.ptt.cc/bbs/Gossiping/M.1514857404.A.6EB.html\n",
      "https://www.ptt.cc/bbs/Gossiping/M.1514857469.A.31F.html\n",
      "https://www.ptt.cc/bbs/Gossiping/M.1514857500.A.95A.html\n",
      "https://www.ptt.cc/bbs/Gossiping/M.1514857521.A.7F3.html\n",
      "https://www.ptt.cc/bbs/Gossiping/M.1514857537.A.CEE.html\n",
      "https://www.ptt.cc/bbs/Gossiping/M.1514857548.A.FCC.html\n",
      "https://www.ptt.cc/bbs/Gossiping/M.1514857586.A.E1E.html\n",
      "https://www.ptt.cc/bbs/Gossiping/M.1514857677.A.384.html\n",
      "https://www.ptt.cc/bbs/Gossiping/M.1514857694.A.B0A.html\n",
      "https://www.ptt.cc/bbs/Gossiping/M.1514857709.A.B7F.html\n",
      "https://www.ptt.cc/bbs/Gossiping/M.1514857737.A.4D6.html\n",
      "https://www.ptt.cc/bbs/Gossiping/M.1514857769.A.EDE.html\n",
      "https://www.ptt.cc/bbs/Gossiping/M.1514857781.A.25D.html\n",
      "https://www.ptt.cc/bbs/Gossiping/M.1514857829.A.829.html\n",
      "https://www.ptt.cc/bbs/Gossiping/M.1514856317.A.154.html\n",
      "https://www.ptt.cc/bbs/Gossiping/M.1514856340.A.DF3.html\n",
      "https://www.ptt.cc/bbs/Gossiping/M.1514856450.A.F02.html\n",
      "https://www.ptt.cc/bbs/Gossiping/M.1514856463.A.3CF.html\n",
      "https://www.ptt.cc/bbs/Gossiping/M.1514856485.A.7A8.html\n",
      "https://www.ptt.cc/bbs/Gossiping/M.1514856534.A.9AA.html\n",
      "https://www.ptt.cc/bbs/Gossiping/M.1514856554.A.DE4.html\n",
      "https://www.ptt.cc/bbs/Gossiping/M.1514856622.A.1DC.html\n",
      "https://www.ptt.cc/bbs/Gossiping/M.1514856703.A.B4C.html\n",
      "https://www.ptt.cc/bbs/Gossiping/M.1514856876.A.A1F.html\n",
      "https://www.ptt.cc/bbs/Gossiping/M.1514856881.A.7A5.html\n",
      "https://www.ptt.cc/bbs/Gossiping/M.1514856907.A.291.html\n",
      "https://www.ptt.cc/bbs/Gossiping/M.1514856951.A.670.html\n",
      "https://www.ptt.cc/bbs/Gossiping/M.1514857050.A.738.html\n",
      "https://www.ptt.cc/bbs/Gossiping/M.1514857095.A.383.html\n",
      "https://www.ptt.cc/bbs/Gossiping/M.1514857138.A.536.html\n",
      "https://www.ptt.cc/bbs/Gossiping/M.1514857177.A.5FC.html\n",
      "https://www.ptt.cc/bbs/Gossiping/M.1514857205.A.6A2.html\n",
      "https://www.ptt.cc/bbs/Gossiping/M.1514857209.A.F49.html\n",
      "https://www.ptt.cc/bbs/Gossiping/M.1514855339.A.EBA.html\n",
      "https://www.ptt.cc/bbs/Gossiping/M.1514855341.A.403.html\n",
      "https://www.ptt.cc/bbs/Gossiping/M.1514855393.A.57B.html\n",
      "https://www.ptt.cc/bbs/Gossiping/M.1514855410.A.1BC.html\n",
      "https://www.ptt.cc/bbs/Gossiping/M.1514855584.A.640.html\n",
      "https://www.ptt.cc/bbs/Gossiping/M.1514855608.A.A73.html\n",
      "https://www.ptt.cc/bbs/Gossiping/M.1514855667.A.579.html\n",
      "https://www.ptt.cc/bbs/Gossiping/M.1514855703.A.CC6.html\n",
      "https://www.ptt.cc/bbs/Gossiping/M.1514855751.A.724.html\n",
      "https://www.ptt.cc/bbs/Gossiping/M.1514855800.A.AAA.html\n",
      "https://www.ptt.cc/bbs/Gossiping/M.1514855906.A.2D0.html\n",
      "https://www.ptt.cc/bbs/Gossiping/M.1514855978.A.B82.html\n",
      "https://www.ptt.cc/bbs/Gossiping/M.1514856008.A.EC2.html\n",
      "https://www.ptt.cc/bbs/Gossiping/M.1514856011.A.BDA.html\n",
      "https://www.ptt.cc/bbs/Gossiping/M.1514856252.A.B74.html\n",
      "https://www.ptt.cc/bbs/Gossiping/M.1514856256.A.283.html\n",
      "https://www.ptt.cc/bbs/Gossiping/M.1514856271.A.4EF.html\n",
      "https://www.ptt.cc/bbs/Gossiping/M.1514856290.A.7AF.html\n",
      "https://www.ptt.cc/bbs/Gossiping/M.1514856303.A.856.html\n",
      "https://www.ptt.cc/bbs/Gossiping/M.1514854157.A.4BC.html\n",
      "https://www.ptt.cc/bbs/Gossiping/M.1514854358.A.AD3.html\n",
      "https://www.ptt.cc/bbs/Gossiping/M.1514854387.A.608.html\n",
      "https://www.ptt.cc/bbs/Gossiping/M.1514854439.A.092.html\n",
      "https://www.ptt.cc/bbs/Gossiping/M.1514854518.A.1C3.html\n",
      "https://www.ptt.cc/bbs/Gossiping/M.1514854630.A.DD8.html\n",
      "https://www.ptt.cc/bbs/Gossiping/M.1514854705.A.AD0.html\n",
      "https://www.ptt.cc/bbs/Gossiping/M.1514854733.A.963.html\n",
      "https://www.ptt.cc/bbs/Gossiping/M.1514854803.A.B68.html\n",
      "https://www.ptt.cc/bbs/Gossiping/M.1514854847.A.FE2.html\n",
      "https://www.ptt.cc/bbs/Gossiping/M.1514854899.A.30C.html\n",
      "https://www.ptt.cc/bbs/Gossiping/M.1514854906.A.F53.html\n",
      "https://www.ptt.cc/bbs/Gossiping/M.1514854909.A.7FB.html\n",
      "https://www.ptt.cc/bbs/Gossiping/M.1514854963.A.3F9.html\n",
      "https://www.ptt.cc/bbs/Gossiping/M.1514855021.A.FF1.html\n",
      "https://www.ptt.cc/bbs/Gossiping/M.1514855110.A.1EA.html\n",
      "https://www.ptt.cc/bbs/Gossiping/M.1514855127.A.D9A.html\n",
      "https://www.ptt.cc/bbs/Gossiping/M.1514855147.A.A70.html\n",
      "https://www.ptt.cc/bbs/Gossiping/M.1514855249.A.44E.html\n",
      "https://www.ptt.cc/bbs/Gossiping/M.1514855332.A.1E6.html\n",
      "https://www.ptt.cc/bbs/Gossiping/M.1514853038.A.F34.html\n",
      "https://www.ptt.cc/bbs/Gossiping/M.1514853127.A.9F6.html\n",
      "https://www.ptt.cc/bbs/Gossiping/M.1514853296.A.F08.html\n",
      "https://www.ptt.cc/bbs/Gossiping/M.1514853353.A.8FF.html\n",
      "https://www.ptt.cc/bbs/Gossiping/M.1514853368.A.FBF.html\n",
      "https://www.ptt.cc/bbs/Gossiping/M.1514853479.A.935.html\n",
      "https://www.ptt.cc/bbs/Gossiping/M.1514853502.A.C78.html\n",
      "https://www.ptt.cc/bbs/Gossiping/M.1514853658.A.805.html\n",
      "https://www.ptt.cc/bbs/Gossiping/M.1514853662.A.5A8.html\n",
      "https://www.ptt.cc/bbs/Gossiping/M.1514853693.A.C78.html\n",
      "https://www.ptt.cc/bbs/Gossiping/M.1514853705.A.6AA.html\n",
      "https://www.ptt.cc/bbs/Gossiping/M.1514853820.A.24D.html\n",
      "https://www.ptt.cc/bbs/Gossiping/M.1514853881.A.32E.html\n",
      "https://www.ptt.cc/bbs/Gossiping/M.1514853900.A.4D2.html\n",
      "https://www.ptt.cc/bbs/Gossiping/M.1514853914.A.8C3.html\n",
      "https://www.ptt.cc/bbs/Gossiping/M.1514853941.A.CE8.html\n",
      "https://www.ptt.cc/bbs/Gossiping/M.1514854082.A.608.html\n",
      "https://www.ptt.cc/bbs/Gossiping/M.1514854089.A.4AB.html\n",
      "https://www.ptt.cc/bbs/Gossiping/M.1514854105.A.DA6.html\n"
     ]
    },
    {
     "name": "stdout",
     "output_type": "stream",
     "text": [
      "https://www.ptt.cc/bbs/Gossiping/M.1514851555.A.43A.html\n",
      "https://www.ptt.cc/bbs/Gossiping/M.1514851605.A.2CF.html\n",
      "https://www.ptt.cc/bbs/Gossiping/M.1514851633.A.6F3.html\n",
      "https://www.ptt.cc/bbs/Gossiping/M.1514851956.A.FD5.html\n",
      "https://www.ptt.cc/bbs/Gossiping/M.1514851960.A.AEB.html\n",
      "https://www.ptt.cc/bbs/Gossiping/M.1514852033.A.516.html\n",
      "https://www.ptt.cc/bbs/Gossiping/M.1514852042.A.15A.html\n",
      "https://www.ptt.cc/bbs/Gossiping/M.1514852214.A.F36.html\n",
      "https://www.ptt.cc/bbs/Gossiping/M.1514852217.A.672.html\n",
      "https://www.ptt.cc/bbs/Gossiping/M.1514852400.A.C24.html\n",
      "https://www.ptt.cc/bbs/Gossiping/M.1514852517.A.72D.html\n",
      "https://www.ptt.cc/bbs/Gossiping/M.1514852587.A.803.html\n",
      "https://www.ptt.cc/bbs/Gossiping/M.1514852623.A.EBC.html\n",
      "https://www.ptt.cc/bbs/Gossiping/M.1514852675.A.254.html\n",
      "https://www.ptt.cc/bbs/Gossiping/M.1514852877.A.0EF.html\n",
      "https://www.ptt.cc/bbs/Gossiping/M.1514852879.A.79A.html\n",
      "https://www.ptt.cc/bbs/Gossiping/M.1514852960.A.206.html\n",
      "https://www.ptt.cc/bbs/Gossiping/M.1514852961.A.2F5.html\n",
      "https://www.ptt.cc/bbs/Gossiping/M.1514852962.A.AE1.html\n",
      "https://www.ptt.cc/bbs/Gossiping/M.1514853036.A.25C.html\n",
      "https://www.ptt.cc/bbs/Gossiping/M.1514850215.A.EF2.html\n",
      "https://www.ptt.cc/bbs/Gossiping/M.1514850277.A.074.html\n",
      "https://www.ptt.cc/bbs/Gossiping/M.1514850322.A.1B3.html\n",
      "https://www.ptt.cc/bbs/Gossiping/M.1514850402.A.8F6.html\n",
      "https://www.ptt.cc/bbs/Gossiping/M.1514850432.A.344.html\n",
      "https://www.ptt.cc/bbs/Gossiping/M.1514850443.A.82D.html\n",
      "https://www.ptt.cc/bbs/Gossiping/M.1514850451.A.F7A.html\n",
      "https://www.ptt.cc/bbs/Gossiping/M.1514850703.A.97D.html\n",
      "https://www.ptt.cc/bbs/Gossiping/M.1514850731.A.370.html\n",
      "https://www.ptt.cc/bbs/Gossiping/M.1514850795.A.F97.html\n",
      "https://www.ptt.cc/bbs/Gossiping/M.1514850923.A.D02.html\n",
      "https://www.ptt.cc/bbs/Gossiping/M.1514850962.A.838.html\n",
      "https://www.ptt.cc/bbs/Gossiping/M.1514851012.A.20D.html\n",
      "https://www.ptt.cc/bbs/Gossiping/M.1514851087.A.EF0.html\n",
      "https://www.ptt.cc/bbs/Gossiping/M.1514851091.A.43F.html\n",
      "https://www.ptt.cc/bbs/Gossiping/M.1514851309.A.D5F.html\n",
      "https://www.ptt.cc/bbs/Gossiping/M.1514851350.A.7C3.html\n",
      "https://www.ptt.cc/bbs/Gossiping/M.1514851396.A.54D.html\n",
      "https://www.ptt.cc/bbs/Gossiping/M.1514851465.A.F41.html\n",
      "https://www.ptt.cc/bbs/Gossiping/M.1514851488.A.30C.html\n"
     ]
    }
   ],
   "source": [
    "import re\n",
    "\n",
    "import requests\n",
    "\n",
    "# 一次爬10頁\n",
    "CRAWL_PAGE_CNT = 10\n",
    "URL_TEMPLATE = \"https://www.ptt.cc/bbs/Gossiping/index{}.html\"\n",
    "\n",
    "total_page_cnt = get_total_page_cnt()\n",
    "\n",
    "for pg in range(total_page_cnt, total_page_cnt - CRAWL_PAGE_CNT, -1):\n",
    "    url = URL_TEMPLATE.format(pg)\n",
    "    for link in get_list_page(url):\n",
    "        print(link)\n",
    "        dump_page(link)"
   ]
  },
  {
   "cell_type": "markdown",
   "metadata": {},
   "source": [
    "# 以上為上次複習\n",
    "\n",
    "# 再來我們開看看怎麼將HTML的內文整理成稍微結構化的資料格式"
   ]
  },
  {
   "cell_type": "code",
   "execution_count": 98,
   "metadata": {},
   "outputs": [],
   "source": [
    "page = {\n",
    "    \"title\": \"[問卦] 大尾鱸鰻 vs 與神同行？\",\n",
    "    \"content\": \"兩部我都看完了，覺得差不多好看！\",\n",
    "    \"author\": \"chiafann (NAZZZ)\",\n",
    "    \"pub_date\": \"Mon Jan  1 19:55:15 2018\",\n",
    "    \"board\": \"Gossiping\",\n",
    "    \"ip\": \"185.89.251.21\"\n",
    "}"
   ]
  },
  {
   "cell_type": "code",
   "execution_count": 184,
   "metadata": {},
   "outputs": [
    {
     "name": "stdout",
     "output_type": "stream",
     "text": [
      "Requirement already satisfied: beautifulsoup4 in /Users/ian/.pyenv/versions/3.6.4/lib/python3.6/site-packages\r\n",
      "Requirement already satisfied: lxml in /Users/ian/.pyenv/versions/3.6.4/lib/python3.6/site-packages\r\n"
     ]
    }
   ],
   "source": [
    "!pip install beautifulsoup4 lxml"
   ]
  },
  {
   "cell_type": "code",
   "execution_count": 209,
   "metadata": {},
   "outputs": [],
   "source": [
    "from bs4 import BeautifulSoup\n",
    "\n",
    "html = \"\"\"\n",
    "<!DOCTYPE html>\n",
    "<html>\n",
    "  <head>\n",
    "    <meta charset=\"utf-8\" />\n",
    "    <meta name=\"viewport\" content=\"width=device-width\" />\n",
    "    <title></title>\n",
    "\n",
    "  </head>\n",
    "  <body>\n",
    "    <h1>Hello world</h1>\n",
    "\n",
    "    <p class=\"welcome\">welcome to my python etl website</p>\n",
    "    <p class=\"author\">Ian Chen</p>\n",
    "    <p class=\"contact\">ianchen06@gmail.com</p>\n",
    "    \n",
    "    <p class=\"important\">Python is cool</p>\n",
    "    \n",
    "    <ul>\n",
    "    <li class=\"important\">Javascript is cool</p>\n",
    "    </ul>\n",
    "\n",
    "    <div class=\"container\">\n",
    "      <ul id=\"syllabus\">\n",
    "        <li class=\"odd important\">Python</li>\n",
    "        <li class=\"even\">爬蟲</li>\n",
    "        <li class=\"odd important\">爬蟲2</li>\n",
    "        <li class=\"even important\">資料庫</li>\n",
    "        <li class=\"odd\">高性能爬蟲</li>\n",
    "      </ul>\n",
    "    </div>\n",
    "  </body>\n",
    "</html>\n",
    "\"\"\"\n",
    "\n",
    "soup = BeautifulSoup(html, 'lxml') # Beautifulsoup Object"
   ]
  },
  {
   "cell_type": "code",
   "execution_count": 194,
   "metadata": {},
   "outputs": [
    {
     "data": {
      "text/plain": [
       "<p class=\"author\">Ian Chen</p>"
      ]
     },
     "execution_count": 194,
     "metadata": {},
     "output_type": "execute_result"
    }
   ],
   "source": [
    "author = soup.select_one('p.author') #bs4.element.Tag\n",
    "author"
   ]
  },
  {
   "cell_type": "code",
   "execution_count": 195,
   "metadata": {},
   "outputs": [
    {
     "data": {
      "text/plain": [
       "'Ian Chen'"
      ]
     },
     "execution_count": 195,
     "metadata": {},
     "output_type": "execute_result"
    }
   ],
   "source": [
    "author.text"
   ]
  },
  {
   "cell_type": "code",
   "execution_count": 197,
   "metadata": {},
   "outputs": [
    {
     "data": {
      "text/plain": [
       "<p class=\"author\">Ian Chen</p>"
      ]
     },
     "execution_count": 197,
     "metadata": {},
     "output_type": "execute_result"
    }
   ],
   "source": [
    "soup.select('p.author')[0]"
   ]
  },
  {
   "cell_type": "code",
   "execution_count": 203,
   "metadata": {},
   "outputs": [
    {
     "data": {
      "text/plain": [
       "[<li class=\"odd important\">Python</li>,\n",
       " <li class=\"odd important\">爬蟲2</li>,\n",
       " <li class=\"even important\">資料庫</li>]"
      ]
     },
     "execution_count": 203,
     "metadata": {},
     "output_type": "execute_result"
    }
   ],
   "source": [
    "soup.select('div.container')[0].select('ul')[0].select('li.important')"
   ]
  },
  {
   "cell_type": "code",
   "execution_count": 210,
   "metadata": {},
   "outputs": [
    {
     "data": {
      "text/plain": [
       "[<li class=\"important\">Javascript is cool\n",
       "     </li>,\n",
       " <li class=\"odd important\">Python</li>,\n",
       " <li class=\"odd important\">爬蟲2</li>,\n",
       " <li class=\"even important\">資料庫</li>]"
      ]
     },
     "execution_count": 210,
     "metadata": {},
     "output_type": "execute_result"
    }
   ],
   "source": [
    "soup.select('li.important')"
   ]
  },
  {
   "cell_type": "code",
   "execution_count": 211,
   "metadata": {},
   "outputs": [
    {
     "data": {
      "text/plain": [
       "[<li class=\"odd important\">Python</li>,\n",
       " <li class=\"odd important\">爬蟲2</li>,\n",
       " <li class=\"even important\">資料庫</li>]"
      ]
     },
     "execution_count": 211,
     "metadata": {},
     "output_type": "execute_result"
    }
   ],
   "source": [
    "soup.select('#syllabus > li.important')"
   ]
  },
  {
   "cell_type": "markdown",
   "metadata": {},
   "source": [
    "# 實際讀取一個ptt的html檔案進來"
   ]
  },
  {
   "cell_type": "code",
   "execution_count": 320,
   "metadata": {},
   "outputs": [],
   "source": [
    "from bs4 import BeautifulSoup\n",
    "\n",
    "with open('/tmp/ptt_data/M_1514336396_A_B25.html') as f:\n",
    "    html = f.read()\n",
    "\n",
    "soup = BeautifulSoup(html, 'lxml')"
   ]
  },
  {
   "cell_type": "code",
   "execution_count": 321,
   "metadata": {},
   "outputs": [
    {
     "data": {
      "text/plain": [
       "bs4.BeautifulSoup"
      ]
     },
     "execution_count": 321,
     "metadata": {},
     "output_type": "execute_result"
    }
   ],
   "source": [
    "type(soup)"
   ]
  },
  {
   "cell_type": "code",
   "execution_count": 322,
   "metadata": {},
   "outputs": [
    {
     "data": {
      "text/plain": [
       "[<span class=\"article-meta-value\">Kay731 (K少)</span>,\n",
       " <span class=\"article-meta-value\">Gossiping</span>,\n",
       " <span class=\"article-meta-value\">Fw: [協尋] 12/24下午新北耶誕城廣場遺失鑽石項鍊</span>,\n",
       " <span class=\"article-meta-value\">Wed Dec 27 08:59:55 2017</span>]"
      ]
     },
     "execution_count": 322,
     "metadata": {},
     "output_type": "execute_result"
    }
   ],
   "source": [
    "soup.select('.article-meta-value')"
   ]
  },
  {
   "cell_type": "code",
   "execution_count": 323,
   "metadata": {},
   "outputs": [
    {
     "data": {
      "text/plain": [
       "['Kay731 (K少)',\n",
       " 'Gossiping',\n",
       " 'Fw: [協尋] 12/24下午新北耶誕城廣場遺失鑽石項鍊',\n",
       " 'Wed Dec 27 08:59:55 2017']"
      ]
     },
     "execution_count": 323,
     "metadata": {},
     "output_type": "execute_result"
    }
   ],
   "source": [
    "metas = [tag.text for tag in soup.select('.article-meta-value')]\n",
    "metas"
   ]
  },
  {
   "cell_type": "code",
   "execution_count": 324,
   "metadata": {},
   "outputs": [],
   "source": [
    "page = {}\n",
    "page['author']   = metas[0]\n",
    "page['board']    = metas[1]\n",
    "page['title']    = metas[2]\n",
    "page['pub_date'] = metas[3]"
   ]
  },
  {
   "cell_type": "code",
   "execution_count": 325,
   "metadata": {},
   "outputs": [
    {
     "data": {
      "text/plain": [
       "{'author': 'Kay731 (K少)',\n",
       " 'board': 'Gossiping',\n",
       " 'pub_date': 'Wed Dec 27 08:59:55 2017',\n",
       " 'title': 'Fw: [協尋] 12/24下午新北耶誕城廣場遺失鑽石項鍊'}"
      ]
     },
     "execution_count": 325,
     "metadata": {},
     "output_type": "execute_result"
    }
   ],
   "source": [
    "page"
   ]
  },
  {
   "cell_type": "code",
   "execution_count": 326,
   "metadata": {},
   "outputs": [
    {
     "name": "stdout",
     "output_type": "stream",
     "text": [
      "author : Kay731 (K少)\n",
      "board : Gossiping\n",
      "title : Fw: [協尋] 12/24下午新北耶誕城廣場遺失鑽石項鍊\n",
      "pub_date : Wed Dec 27 08:59:55 2017\n"
     ]
    }
   ],
   "source": [
    "dict_key = ['author', 'board', 'title', 'pub_date']\n",
    "meta_list = ['Kay731 (K少)', 'Gossiping', 'Fw: [協尋] 12/24下午新北耶誕城廣場遺失鑽石項鍊', 'Wed Dec 27 08:59:55 2017']\n",
    "\n",
    "for k, v in zip(dict_key, meta_list):\n",
    "    print(\"%s : %s\"%(k,v))"
   ]
  },
  {
   "cell_type": "code",
   "execution_count": 331,
   "metadata": {},
   "outputs": [
    {
     "data": {
      "text/plain": [
       "{'author': 'Kay731 (K少)',\n",
       " 'board': 'Gossiping',\n",
       " 'pub_date': 'Wed Dec 27 08:59:55 2017',\n",
       " 'title': 'Fw: [協尋] 12/24下午新北耶誕城廣場遺失鑽石項鍊'}"
      ]
     },
     "execution_count": 331,
     "metadata": {},
     "output_type": "execute_result"
    }
   ],
   "source": [
    "dict_key = ['author', 'board', 'title', 'pub_date']\n",
    "meta_list = ['Kay731 (K少)', 'Gossiping', 'Fw: [協尋] 12/24下午新北耶誕城廣場遺失鑽石項鍊', 'Wed Dec 27 08:59:55 2017']\n",
    "\n",
    "page = {}\n",
    "for k, v in zip(dict_key, meta_list):\n",
    "    #print(\"%s : %s\"%(k,v))\n",
    "    page[k] = v\n",
    "page"
   ]
  },
  {
   "cell_type": "code",
   "execution_count": 328,
   "metadata": {},
   "outputs": [
    {
     "data": {
      "text/plain": [
       "['Kay731 (K少)',\n",
       " 'Gossiping',\n",
       " 'Fw: [協尋] 12/24下午新北耶誕城廣場遺失鑽石項鍊',\n",
       " 'Wed Dec 27 08:59:55 2017']"
      ]
     },
     "execution_count": 328,
     "metadata": {},
     "output_type": "execute_result"
    }
   ],
   "source": [
    "meta_list = [tag.text for tag in soup.select('span.article-meta-value')]\n",
    "meta_list"
   ]
  },
  {
   "cell_type": "code",
   "execution_count": 329,
   "metadata": {},
   "outputs": [
    {
     "data": {
      "text/plain": [
       "{'author': 'Kay731 (K少)',\n",
       " 'board': 'Gossiping',\n",
       " 'pub_date': 'Wed Dec 27 08:59:55 2017',\n",
       " 'title': 'Fw: [協尋] 12/24下午新北耶誕城廣場遺失鑽石項鍊'}"
      ]
     },
     "execution_count": 329,
     "metadata": {},
     "output_type": "execute_result"
    }
   ],
   "source": [
    "dict_key = ['author', 'board', 'title', 'pub_date']\n",
    "# meta_list = ['Kay731 (K少)', 'Gossiping', 'Fw: [協尋] 12/24下午新北耶誕城廣場遺失鑽石項鍊', 'Wed Dec 27 08:59:55 2017']\n",
    "\n",
    "# dictionary comprehension\n",
    "page = {k:v for k, v in zip(dict_key, meta_list)}\n",
    "page"
   ]
  },
  {
   "cell_type": "code",
   "execution_count": 225,
   "metadata": {},
   "outputs": [
    {
     "data": {
      "text/plain": [
       "{'author': 'Kay731 (K少)',\n",
       " 'board': 'Gossiping',\n",
       " 'ip': '42.72.160.231',\n",
       " 'pub_date': 'Wed Dec 27 08:59:55 2017',\n",
       " 'title': 'Fw: [協尋] 12/24下午新北耶誕城廣場遺失鑽石項鍊'}"
      ]
     },
     "execution_count": 225,
     "metadata": {},
     "output_type": "execute_result"
    }
   ],
   "source": [
    "import re\n",
    "\n",
    "page['ip'] = re.findall('來自: (\\d{1,3}\\.\\d{1,3}\\.\\d{1,3}\\.\\d{1,3})', html)[0]\n",
    "page"
   ]
  },
  {
   "cell_type": "markdown",
   "metadata": {},
   "source": [
    "# 內文比較複雜\n",
    "\n",
    "因為內文沒有被tag包住，可以直接select\n",
    "\n",
    "所以只能弄刪去法, 把不是內文的東西刪掉"
   ]
  },
  {
   "cell_type": "code",
   "execution_count": 239,
   "metadata": {},
   "outputs": [
    {
     "data": {
      "text/plain": [
       "'\\n\\n作者: nswitch (Nswitch) 看板: BigBanciao\\n標題: [協尋] 12/24下午新北耶誕城廣場遺失鑽石項鍊\\n時間: Wed Dec 27 08:42:37 2017\\n\\n\\n'"
      ]
     },
     "execution_count": 239,
     "metadata": {},
     "output_type": "execute_result"
    }
   ],
   "source": [
    "soup.select_one('#main-content').text[:100]"
   ]
  },
  {
   "cell_type": "code",
   "execution_count": 232,
   "metadata": {},
   "outputs": [],
   "source": [
    "for line in soup.select('.article-metaline'):\n",
    "    # extract就像list/dict的del，不會回傳東西，只會modify Object\n",
    "    line.extract()"
   ]
  },
  {
   "cell_type": "code",
   "execution_count": 234,
   "metadata": {},
   "outputs": [],
   "source": [
    "for line in soup.select('.article-metaline-right'):\n",
    "    # extract就像list/dict的del，不會回傳東西，只會modify Object\n",
    "    line.extract()"
   ]
  },
  {
   "cell_type": "code",
   "execution_count": 233,
   "metadata": {},
   "outputs": [
    {
     "data": {
      "text/plain": [
       "[]"
      ]
     },
     "execution_count": 233,
     "metadata": {},
     "output_type": "execute_result"
    }
   ],
   "source": [
    "soup.select('.article-metaline')"
   ]
  },
  {
   "cell_type": "code",
   "execution_count": 235,
   "metadata": {},
   "outputs": [
    {
     "data": {
      "text/plain": [
       "[]"
      ]
     },
     "execution_count": 235,
     "metadata": {},
     "output_type": "execute_result"
    }
   ],
   "source": [
    "soup.select('.article-metaline-right')"
   ]
  },
  {
   "cell_type": "code",
   "execution_count": 241,
   "metadata": {},
   "outputs": [
    {
     "data": {
      "text/plain": [
       "'\\n\\n作者: nswitch (Nswitch) 看板: BigBanciao\\n標題: [協尋] 12/24下午新北耶誕城廣場遺失鑽石項鍊\\n時間: Wed Dec 27 08:42:37 2017\\n\\n\\n'"
      ]
     },
     "execution_count": 241,
     "metadata": {},
     "output_type": "execute_result"
    }
   ],
   "source": [
    "soup.select('#main-content')[0].text[:100]"
   ]
  },
  {
   "cell_type": "code",
   "execution_count": 237,
   "metadata": {
    "scrolled": true
   },
   "outputs": [
    {
     "data": {
      "text/plain": [
       "<div class=\"bbs-screen bbs-content\" id=\"main-content\">\n",
       "\n",
       "作者: nswitch (Nswitch) 看板: BigBanciao\n",
       "標題: [協尋] 12/24下午新北耶誕城廣場遺失鑽石項鍊\n",
       "時間: Wed Dec 27 08:42:37 2017\n",
       "\n",
       "\n",
       "因朋友權限不足 是以代po\n",
       "並請友版版主轉文章並置底\n",
       "非常感謝您 真的很感謝\n",
       "\n",
       "內容\n",
       "請廣大的鄉民們幫忙或可轉至其他社群幫忙尋找\n",
       "\n",
       "時間: 12/24 星期日12:40～14:00這段時間遺失\n",
       "\n",
       "地點:新北市耶誕城市民廣場處\n",
       "\n",
       "因為家人那天帶小孩去新北耶誕城廣場玩\n",
       "在玩了旋轉木馬和飛椅之後\n",
       "發現脖子上的鑽石銀項鍊遺失了\n",
       "可能是鍊子斷掉了\n",
       "（特色是鑽石會自然晃動）\n",
       "後來有請大會廣播並再找了一天都沒找到\n",
       "甚至從縫隙看水溝蓋裡\n",
       "也至警局備案 但目前仍沒有找到\n",
       "\n",
       "鑽石重量十分不到 一般市價幾千元\n",
       "但那鑽石是由家人做成的生命寶石\n",
       "對我們意義重大 我們遺失非常的難過\n",
       "所以 真的能希望由廣大版友幫忙 能夠找回\n",
       "若有在那裡有撿到或是您的親友有看到拾得的話\n",
       "請Line: Nswitch\n",
       "或可交至耶誕城大會服務台\n",
       "也可送附近警察局再轉交給海山分局\n",
       "\n",
       "若是可能\n",
       "會用超放大鏡去看腰間刻的英文名和寶石編號\n",
       "經確定是我們遺失的\n",
       "我們會給您台幣一百萬元感謝您有好好地照顧與保護\n",
       "並在新北廣場發1000份雞排感謝ptt fb 或其他社群的朋友/恩人\n",
       "\n",
       "附上同款項鍊圖片和新北耶誕城遺失位置圖片連結\n",
       "<a href=\"https://imgur.com/gallery/KPuIH\" rel=\"nofollow\" target=\"_blank\">https://imgur.com/gallery/KPuIH</a>\n",
       "\n",
       "--\n",
       "\n",
       "</div>"
      ]
     },
     "execution_count": 237,
     "metadata": {},
     "output_type": "execute_result"
    }
   ],
   "source": [
    "content = soup.select_one('div#main-content')\n",
    "\n",
    "selectors_to_del = ['.article-metaline',\n",
    "                   '.article-metaline-right',\n",
    "                    'span.f2',\n",
    "                    'div.push'\n",
    "                   ]\n",
    "\n",
    "for selector in selectors_to_del:\n",
    "    [tag.extract() for tag in content.select(selector)]\n",
    "content"
   ]
  },
  {
   "cell_type": "code",
   "execution_count": 143,
   "metadata": {},
   "outputs": [
    {
     "data": {
      "text/plain": [
       "{'author': 'Kay731 (K少)',\n",
       " 'board': 'Gossiping',\n",
       " 'ip': '42.72.160.231',\n",
       " 'pub_date': 'Wed Dec 27 08:59:55 2017',\n",
       " 'title': 'Fw: [協尋] 12/24下午新北耶誕城廣場遺失鑽石項鍊'}"
      ]
     },
     "execution_count": 143,
     "metadata": {},
     "output_type": "execute_result"
    }
   ],
   "source": [
    "page"
   ]
  },
  {
   "cell_type": "code",
   "execution_count": 144,
   "metadata": {},
   "outputs": [],
   "source": [
    "page['content'] = content.text.strip()"
   ]
  },
  {
   "cell_type": "code",
   "execution_count": 145,
   "metadata": {},
   "outputs": [
    {
     "data": {
      "text/plain": [
       "{'author': 'Kay731 (K少)',\n",
       " 'board': 'Gossiping',\n",
       " 'content': '作者: nswitch (Nswitch) 看板: BigBanciao\\n標題: [協尋] 12/24下午新北耶誕城廣場遺失鑽石項鍊\\n時間: Wed Dec 27 08:42:37 2017\\n\\n\\n因朋友權限不足 是以代po\\n並請友版版主轉文章並置底\\n非常感謝您 真的很感謝\\n\\n內容\\n請廣大的鄉民們幫忙或可轉至其他社群幫忙尋找\\n\\n時間: 12/24 星期日12:40～14:00這段時間遺失\\n\\n地點:新北市耶誕城市民廣場處\\n\\n因為家人那天帶小孩去新北耶誕城廣場玩\\n在玩了旋轉木馬和飛椅之後\\n發現脖子上的鑽石銀項鍊遺失了\\n可能是鍊子斷掉了\\n（特色是鑽石會自然晃動）\\n後來有請大會廣播並再找了一天都沒找到\\n甚至從縫隙看水溝蓋裡\\n也至警局備案 但目前仍沒有找到\\n\\n鑽石重量十分不到 一般市價幾千元\\n但那鑽石是由家人做成的生命寶石\\n對我們意義重大 我們遺失非常的難過\\n所以 真的能希望由廣大版友幫忙 能夠找回\\n若有在那裡有撿到或是您的親友有看到拾得的話\\n請Line: Nswitch\\n或可交至耶誕城大會服務台\\n也可送附近警察局再轉交給海山分局\\n\\n若是可能\\n會用超放大鏡去看腰間刻的英文名和寶石編號\\n經確定是我們遺失的\\n我們會給您台幣一百萬元感謝您有好好地照顧與保護\\n並在新北廣場發1000份雞排感謝ptt fb 或其他社群的朋友/恩人\\n\\n附上同款項鍊圖片和新北耶誕城遺失位置圖片連結\\nhttps://imgur.com/gallery/KPuIH\\n\\n--',\n",
       " 'ip': '42.72.160.231',\n",
       " 'pub_date': 'Wed Dec 27 08:59:55 2017',\n",
       " 'title': 'Fw: [協尋] 12/24下午新北耶誕城廣場遺失鑽石項鍊'}"
      ]
     },
     "execution_count": 145,
     "metadata": {},
     "output_type": "execute_result"
    }
   ],
   "source": [
    "page"
   ]
  },
  {
   "cell_type": "markdown",
   "metadata": {},
   "source": [
    "# Youbike"
   ]
  },
  {
   "cell_type": "code",
   "execution_count": 254,
   "metadata": {},
   "outputs": [
    {
     "data": {
      "text/plain": [
       "'{\"retCode\":1,\"retVal\":{\"0001\":{\"sno\":\"0001\",\"sna\":\"捷運市政府站(3號出口)\",\"tot\":\"180\",\"sbi\":\"54\",\"sarea\":\"信義區'"
      ]
     },
     "execution_count": 254,
     "metadata": {},
     "output_type": "execute_result"
    }
   ],
   "source": [
    "import requests\n",
    "\n",
    "URL = 'http://data.taipei/youbike'\n",
    "\n",
    "resp = requests.get(URL)\n",
    "resp.text[:100]"
   ]
  },
  {
   "cell_type": "code",
   "execution_count": 246,
   "metadata": {},
   "outputs": [],
   "source": [
    "import json"
   ]
  },
  {
   "cell_type": "code",
   "execution_count": 248,
   "metadata": {},
   "outputs": [],
   "source": [
    "youbike_dict = json.loads(resp.text)"
   ]
  },
  {
   "cell_type": "code",
   "execution_count": 249,
   "metadata": {},
   "outputs": [
    {
     "data": {
      "text/plain": [
       "dict_keys(['retCode', 'retVal'])"
      ]
     },
     "execution_count": 249,
     "metadata": {},
     "output_type": "execute_result"
    }
   ],
   "source": [
    "youbike_dict.keys()"
   ]
  },
  {
   "cell_type": "code",
   "execution_count": 252,
   "metadata": {},
   "outputs": [
    {
     "data": {
      "text/plain": [
       "{'act': '1',\n",
       " 'ar': '忠孝東路/松仁路(東南側)',\n",
       " 'aren': 'The S.W. side of Road Zhongxiao East Road & Road Chung Yan.',\n",
       " 'bemp': '124',\n",
       " 'lat': '25.0408578889',\n",
       " 'lng': '121.567904444',\n",
       " 'mday': '20180102134415',\n",
       " 'sarea': '信義區',\n",
       " 'sareaen': 'Xinyi Dist.',\n",
       " 'sbi': '54',\n",
       " 'sna': '捷運市政府站(3號出口)',\n",
       " 'snaen': 'MRT Taipei City Hall Stataion(Exit 3)-2',\n",
       " 'sno': '0001',\n",
       " 'tot': '180'}"
      ]
     },
     "execution_count": 252,
     "metadata": {},
     "output_type": "execute_result"
    }
   ],
   "source": [
    "youbike_dict['retVal']['0001']"
   ]
  },
  {
   "cell_type": "code",
   "execution_count": 255,
   "metadata": {},
   "outputs": [],
   "source": [
    "import requests\n",
    "\n",
    "URL = 'http://data.taipei/youbike'\n",
    "\n",
    "resp = requests.get(URL)\n",
    "#resp.json()"
   ]
  },
  {
   "cell_type": "markdown",
   "metadata": {},
   "source": [
    "# Mobile01"
   ]
  },
  {
   "cell_type": "code",
   "execution_count": null,
   "metadata": {},
   "outputs": [],
   "source": [
    "!mkdir /tmp/mobile01_data"
   ]
  },
  {
   "cell_type": "code",
   "execution_count": 312,
   "metadata": {},
   "outputs": [],
   "source": [
    "import re\n",
    "import time\n",
    "\n",
    "import requests\n",
    "\n",
    "DATA_PATH = '/tmp/mobile01_data'\n",
    "CRAWL_PAGE_CNT = 10\n",
    "#URL_TEMPLATE = \"https://www.ptt.cc/bbs/Gossiping/index{}.html\"\n",
    "URL_TEMPLATE = \"https://www.mobile01.com/topiclist.php?f=383&p={}\"\n",
    "HOST = \"https://www.mobile01.com\"\n",
    "\n",
    "\n",
    "def get_w_cookie(url):\n",
    "    \"\"\"GET HTTP url with custom header containing cookie info for PTT\n",
    "\n",
    "    Parameters\n",
    "    ----------\n",
    "    url : str\n",
    "        PTT八卦版需要驗證年齡的URL，\n",
    "        如：https://www.ptt.cc/bbs/Gossiping/index31063.html\n",
    "\n",
    "    Returns\n",
    "    -------\n",
    "    Response\n",
    "        Requestsµ模組的Response Object\n",
    "    \"\"\"\n",
    "    custom_headers = {\n",
    "        \"cookie\": \"over18=1;\"\n",
    "    }\n",
    "    resp = requests.get(url, headers=custom_headers)\n",
    "    return resp\n",
    "\n",
    "\n",
    "def get_total_page_cnt():\n",
    "    \"\"\"取得現在ptt板塊的總頁數\n",
    "\n",
    "    Parameters\n",
    "    ----------\n",
    "\n",
    "    Returns\n",
    "    -------\n",
    "    int\n",
    "       現在ptt板塊的總頁數\n",
    "    \"\"\"\n",
    "    url = URL_TEMPLATE.format('')\n",
    "    resp = get_w_cookie(url)\n",
    "\n",
    "    # 這個符號\n",
    "    # ‹-> &lsaquo;\n",
    "    total_page_cnt = int(re.findall('href=\"/bbs/Gossiping/index(\\d+).html\">&lsaquo; 上頁', resp.text)[0]) + 1\n",
    "    return total_page_cnt\n",
    "\n",
    "def get_list_page(url):\n",
    "    \"\"\"GET列表頁，取得內文頁的連結們\n",
    "\n",
    "    Parameters\n",
    "    ----------\n",
    "    url : str\n",
    "        PTT 列表頁URL\n",
    "\n",
    "    Returns\n",
    "    -------\n",
    "    list\n",
    "       PTT內文頁的links\n",
    "    \"\"\"\n",
    "    resp = get_w_cookie(url)\n",
    "    links = re.findall('<a href=\"(topicdetail.php\\?f=383&t=\\d+)\" class=\"topic_gen\" title=\"人氣: \\d+\">', resp.text)\n",
    "    detail_page_links = [\"%s/%s\"%(HOST, link) for link in links]\n",
    "    return detail_page_links\n",
    "\n",
    "def dump_page(url):\n",
    "    \"\"\"GET url的HTML並且寫到檔案裡\n",
    "\n",
    "    Parameters\n",
    "    ----------\n",
    "    url : str\n",
    "        PTT 內文頁URL\n",
    "\n",
    "    Returns\n",
    "    -------\n",
    "    str\n",
    "       儲存的檔案名稱\n",
    "    \"\"\"\n",
    "    filename = \"_\".join(re.findall('f=(\\d+)&t=(\\d+)&p=(\\d+)', url)[0]) + '.html'\n",
    "    resp = get_w_cookie(url)\n",
    "\n",
    "    with open(DATA_PATH + '/' + filename, 'w') as f:\n",
    "        f.write(resp.text)\n",
    "    return resp"
   ]
  },
  {
   "cell_type": "code",
   "execution_count": 317,
   "metadata": {},
   "outputs": [
    {
     "name": "stdout",
     "output_type": "stream",
     "text": [
      "https://www.mobile01.com/topicdetail.php?f=383&t=5353784&p=1\n",
      "https://www.mobile01.com/topicdetail.php?f=383&t=5353784&p=2\n",
      "https://www.mobile01.com/topicdetail.php?f=383&t=5353784&p=3\n",
      "https://www.mobile01.com/topicdetail.php?f=383&t=5353784&p=4\n"
     ]
    },
    {
     "ename": "KeyboardInterrupt",
     "evalue": "",
     "output_type": "error",
     "traceback": [
      "\u001b[0;31m---------------------------------------------------------------------------\u001b[0m",
      "\u001b[0;31mKeyboardInterrupt\u001b[0m                         Traceback (most recent call last)",
      "\u001b[0;32m<ipython-input-317-844e2756cf30>\u001b[0m in \u001b[0;36m<module>\u001b[0;34m()\u001b[0m\n\u001b[1;32m      9\u001b[0m             \u001b[0mlink_url\u001b[0m \u001b[0;34m=\u001b[0m \u001b[0mlink\u001b[0m \u001b[0;34m+\u001b[0m \u001b[0;34m\"&p=%s\"\u001b[0m\u001b[0;34m%\u001b[0m\u001b[0mlink_pg\u001b[0m\u001b[0;34m\u001b[0m\u001b[0m\n\u001b[1;32m     10\u001b[0m             \u001b[0mprint\u001b[0m\u001b[0;34m(\u001b[0m\u001b[0mlink_url\u001b[0m\u001b[0;34m)\u001b[0m\u001b[0;34m\u001b[0m\u001b[0m\n\u001b[0;32m---> 11\u001b[0;31m             \u001b[0mresp\u001b[0m \u001b[0;34m=\u001b[0m \u001b[0mdump_page\u001b[0m\u001b[0;34m(\u001b[0m\u001b[0mlink_url\u001b[0m\u001b[0;34m)\u001b[0m\u001b[0;34m\u001b[0m\u001b[0m\n\u001b[0m\u001b[1;32m     12\u001b[0m             \u001b[0mtime\u001b[0m\u001b[0;34m.\u001b[0m\u001b[0msleep\u001b[0m\u001b[0;34m(\u001b[0m\u001b[0;36m0.4\u001b[0m\u001b[0;34m)\u001b[0m\u001b[0;34m\u001b[0m\u001b[0m\n\u001b[1;32m     13\u001b[0m \u001b[0;34m\u001b[0m\u001b[0m\n",
      "\u001b[0;32m<ipython-input-312-f680d085a50e>\u001b[0m in \u001b[0;36mdump_page\u001b[0;34m(url)\u001b[0m\n\u001b[1;32m     83\u001b[0m     \"\"\"\n\u001b[1;32m     84\u001b[0m     \u001b[0mfilename\u001b[0m \u001b[0;34m=\u001b[0m \u001b[0;34m\"_\"\u001b[0m\u001b[0;34m.\u001b[0m\u001b[0mjoin\u001b[0m\u001b[0;34m(\u001b[0m\u001b[0mre\u001b[0m\u001b[0;34m.\u001b[0m\u001b[0mfindall\u001b[0m\u001b[0;34m(\u001b[0m\u001b[0;34m'f=(\\d+)&t=(\\d+)&p=(\\d+)'\u001b[0m\u001b[0;34m,\u001b[0m \u001b[0murl\u001b[0m\u001b[0;34m)\u001b[0m\u001b[0;34m[\u001b[0m\u001b[0;36m0\u001b[0m\u001b[0;34m]\u001b[0m\u001b[0;34m)\u001b[0m \u001b[0;34m+\u001b[0m \u001b[0;34m'.html'\u001b[0m\u001b[0;34m\u001b[0m\u001b[0m\n\u001b[0;32m---> 85\u001b[0;31m     \u001b[0mresp\u001b[0m \u001b[0;34m=\u001b[0m \u001b[0mget_w_cookie\u001b[0m\u001b[0;34m(\u001b[0m\u001b[0murl\u001b[0m\u001b[0;34m)\u001b[0m\u001b[0;34m\u001b[0m\u001b[0m\n\u001b[0m\u001b[1;32m     86\u001b[0m \u001b[0;34m\u001b[0m\u001b[0m\n\u001b[1;32m     87\u001b[0m     \u001b[0;32mwith\u001b[0m \u001b[0mopen\u001b[0m\u001b[0;34m(\u001b[0m\u001b[0mDATA_PATH\u001b[0m \u001b[0;34m+\u001b[0m \u001b[0;34m'/'\u001b[0m \u001b[0;34m+\u001b[0m \u001b[0mfilename\u001b[0m\u001b[0;34m,\u001b[0m \u001b[0;34m'w'\u001b[0m\u001b[0;34m)\u001b[0m \u001b[0;32mas\u001b[0m \u001b[0mf\u001b[0m\u001b[0;34m:\u001b[0m\u001b[0;34m\u001b[0m\u001b[0m\n",
      "\u001b[0;32m<ipython-input-312-f680d085a50e>\u001b[0m in \u001b[0;36mget_w_cookie\u001b[0;34m(url)\u001b[0m\n\u001b[1;32m     28\u001b[0m         \u001b[0;34m\"cookie\"\u001b[0m\u001b[0;34m:\u001b[0m \u001b[0;34m\"over18=1;\"\u001b[0m\u001b[0;34m\u001b[0m\u001b[0m\n\u001b[1;32m     29\u001b[0m     }\n\u001b[0;32m---> 30\u001b[0;31m     \u001b[0mresp\u001b[0m \u001b[0;34m=\u001b[0m \u001b[0mrequests\u001b[0m\u001b[0;34m.\u001b[0m\u001b[0mget\u001b[0m\u001b[0;34m(\u001b[0m\u001b[0murl\u001b[0m\u001b[0;34m,\u001b[0m \u001b[0mheaders\u001b[0m\u001b[0;34m=\u001b[0m\u001b[0mcustom_headers\u001b[0m\u001b[0;34m)\u001b[0m\u001b[0;34m\u001b[0m\u001b[0m\n\u001b[0m\u001b[1;32m     31\u001b[0m     \u001b[0;32mreturn\u001b[0m \u001b[0mresp\u001b[0m\u001b[0;34m\u001b[0m\u001b[0m\n\u001b[1;32m     32\u001b[0m \u001b[0;34m\u001b[0m\u001b[0m\n",
      "\u001b[0;32m~/.pyenv/versions/3.6.4/lib/python3.6/site-packages/requests/api.py\u001b[0m in \u001b[0;36mget\u001b[0;34m(url, params, **kwargs)\u001b[0m\n\u001b[1;32m     70\u001b[0m \u001b[0;34m\u001b[0m\u001b[0m\n\u001b[1;32m     71\u001b[0m     \u001b[0mkwargs\u001b[0m\u001b[0;34m.\u001b[0m\u001b[0msetdefault\u001b[0m\u001b[0;34m(\u001b[0m\u001b[0;34m'allow_redirects'\u001b[0m\u001b[0;34m,\u001b[0m \u001b[0;32mTrue\u001b[0m\u001b[0;34m)\u001b[0m\u001b[0;34m\u001b[0m\u001b[0m\n\u001b[0;32m---> 72\u001b[0;31m     \u001b[0;32mreturn\u001b[0m \u001b[0mrequest\u001b[0m\u001b[0;34m(\u001b[0m\u001b[0;34m'get'\u001b[0m\u001b[0;34m,\u001b[0m \u001b[0murl\u001b[0m\u001b[0;34m,\u001b[0m \u001b[0mparams\u001b[0m\u001b[0;34m=\u001b[0m\u001b[0mparams\u001b[0m\u001b[0;34m,\u001b[0m \u001b[0;34m**\u001b[0m\u001b[0mkwargs\u001b[0m\u001b[0;34m)\u001b[0m\u001b[0;34m\u001b[0m\u001b[0m\n\u001b[0m\u001b[1;32m     73\u001b[0m \u001b[0;34m\u001b[0m\u001b[0m\n\u001b[1;32m     74\u001b[0m \u001b[0;34m\u001b[0m\u001b[0m\n",
      "\u001b[0;32m~/.pyenv/versions/3.6.4/lib/python3.6/site-packages/requests/api.py\u001b[0m in \u001b[0;36mrequest\u001b[0;34m(method, url, **kwargs)\u001b[0m\n\u001b[1;32m     56\u001b[0m     \u001b[0;31m# cases, and look like a memory leak in others.\u001b[0m\u001b[0;34m\u001b[0m\u001b[0;34m\u001b[0m\u001b[0m\n\u001b[1;32m     57\u001b[0m     \u001b[0;32mwith\u001b[0m \u001b[0msessions\u001b[0m\u001b[0;34m.\u001b[0m\u001b[0mSession\u001b[0m\u001b[0;34m(\u001b[0m\u001b[0;34m)\u001b[0m \u001b[0;32mas\u001b[0m \u001b[0msession\u001b[0m\u001b[0;34m:\u001b[0m\u001b[0;34m\u001b[0m\u001b[0m\n\u001b[0;32m---> 58\u001b[0;31m         \u001b[0;32mreturn\u001b[0m \u001b[0msession\u001b[0m\u001b[0;34m.\u001b[0m\u001b[0mrequest\u001b[0m\u001b[0;34m(\u001b[0m\u001b[0mmethod\u001b[0m\u001b[0;34m=\u001b[0m\u001b[0mmethod\u001b[0m\u001b[0;34m,\u001b[0m \u001b[0murl\u001b[0m\u001b[0;34m=\u001b[0m\u001b[0murl\u001b[0m\u001b[0;34m,\u001b[0m \u001b[0;34m**\u001b[0m\u001b[0mkwargs\u001b[0m\u001b[0;34m)\u001b[0m\u001b[0;34m\u001b[0m\u001b[0m\n\u001b[0m\u001b[1;32m     59\u001b[0m \u001b[0;34m\u001b[0m\u001b[0m\n\u001b[1;32m     60\u001b[0m \u001b[0;34m\u001b[0m\u001b[0m\n",
      "\u001b[0;32m~/.pyenv/versions/3.6.4/lib/python3.6/site-packages/requests/sessions.py\u001b[0m in \u001b[0;36mrequest\u001b[0;34m(self, method, url, params, data, headers, cookies, files, auth, timeout, allow_redirects, proxies, hooks, stream, verify, cert, json)\u001b[0m\n\u001b[1;32m    506\u001b[0m         }\n\u001b[1;32m    507\u001b[0m         \u001b[0msend_kwargs\u001b[0m\u001b[0;34m.\u001b[0m\u001b[0mupdate\u001b[0m\u001b[0;34m(\u001b[0m\u001b[0msettings\u001b[0m\u001b[0;34m)\u001b[0m\u001b[0;34m\u001b[0m\u001b[0m\n\u001b[0;32m--> 508\u001b[0;31m         \u001b[0mresp\u001b[0m \u001b[0;34m=\u001b[0m \u001b[0mself\u001b[0m\u001b[0;34m.\u001b[0m\u001b[0msend\u001b[0m\u001b[0;34m(\u001b[0m\u001b[0mprep\u001b[0m\u001b[0;34m,\u001b[0m \u001b[0;34m**\u001b[0m\u001b[0msend_kwargs\u001b[0m\u001b[0;34m)\u001b[0m\u001b[0;34m\u001b[0m\u001b[0m\n\u001b[0m\u001b[1;32m    509\u001b[0m \u001b[0;34m\u001b[0m\u001b[0m\n\u001b[1;32m    510\u001b[0m         \u001b[0;32mreturn\u001b[0m \u001b[0mresp\u001b[0m\u001b[0;34m\u001b[0m\u001b[0m\n",
      "\u001b[0;32m~/.pyenv/versions/3.6.4/lib/python3.6/site-packages/requests/sessions.py\u001b[0m in \u001b[0;36msend\u001b[0;34m(self, request, **kwargs)\u001b[0m\n\u001b[1;32m    616\u001b[0m \u001b[0;34m\u001b[0m\u001b[0m\n\u001b[1;32m    617\u001b[0m         \u001b[0;31m# Send the request\u001b[0m\u001b[0;34m\u001b[0m\u001b[0;34m\u001b[0m\u001b[0m\n\u001b[0;32m--> 618\u001b[0;31m         \u001b[0mr\u001b[0m \u001b[0;34m=\u001b[0m \u001b[0madapter\u001b[0m\u001b[0;34m.\u001b[0m\u001b[0msend\u001b[0m\u001b[0;34m(\u001b[0m\u001b[0mrequest\u001b[0m\u001b[0;34m,\u001b[0m \u001b[0;34m**\u001b[0m\u001b[0mkwargs\u001b[0m\u001b[0;34m)\u001b[0m\u001b[0;34m\u001b[0m\u001b[0m\n\u001b[0m\u001b[1;32m    619\u001b[0m \u001b[0;34m\u001b[0m\u001b[0m\n\u001b[1;32m    620\u001b[0m         \u001b[0;31m# Total elapsed time of the request (approximately)\u001b[0m\u001b[0;34m\u001b[0m\u001b[0;34m\u001b[0m\u001b[0m\n",
      "\u001b[0;32m~/.pyenv/versions/3.6.4/lib/python3.6/site-packages/requests/adapters.py\u001b[0m in \u001b[0;36msend\u001b[0;34m(self, request, stream, timeout, verify, cert, proxies)\u001b[0m\n\u001b[1;32m    438\u001b[0m                     \u001b[0mdecode_content\u001b[0m\u001b[0;34m=\u001b[0m\u001b[0;32mFalse\u001b[0m\u001b[0;34m,\u001b[0m\u001b[0;34m\u001b[0m\u001b[0m\n\u001b[1;32m    439\u001b[0m                     \u001b[0mretries\u001b[0m\u001b[0;34m=\u001b[0m\u001b[0mself\u001b[0m\u001b[0;34m.\u001b[0m\u001b[0mmax_retries\u001b[0m\u001b[0;34m,\u001b[0m\u001b[0;34m\u001b[0m\u001b[0m\n\u001b[0;32m--> 440\u001b[0;31m                     \u001b[0mtimeout\u001b[0m\u001b[0;34m=\u001b[0m\u001b[0mtimeout\u001b[0m\u001b[0;34m\u001b[0m\u001b[0m\n\u001b[0m\u001b[1;32m    441\u001b[0m                 )\n\u001b[1;32m    442\u001b[0m \u001b[0;34m\u001b[0m\u001b[0m\n",
      "\u001b[0;32m~/.pyenv/versions/3.6.4/lib/python3.6/site-packages/urllib3/connectionpool.py\u001b[0m in \u001b[0;36murlopen\u001b[0;34m(self, method, url, body, headers, retries, redirect, assert_same_host, timeout, pool_timeout, release_conn, chunked, body_pos, **response_kw)\u001b[0m\n\u001b[1;32m    599\u001b[0m                                                   \u001b[0mtimeout\u001b[0m\u001b[0;34m=\u001b[0m\u001b[0mtimeout_obj\u001b[0m\u001b[0;34m,\u001b[0m\u001b[0;34m\u001b[0m\u001b[0m\n\u001b[1;32m    600\u001b[0m                                                   \u001b[0mbody\u001b[0m\u001b[0;34m=\u001b[0m\u001b[0mbody\u001b[0m\u001b[0;34m,\u001b[0m \u001b[0mheaders\u001b[0m\u001b[0;34m=\u001b[0m\u001b[0mheaders\u001b[0m\u001b[0;34m,\u001b[0m\u001b[0;34m\u001b[0m\u001b[0m\n\u001b[0;32m--> 601\u001b[0;31m                                                   chunked=chunked)\n\u001b[0m\u001b[1;32m    602\u001b[0m \u001b[0;34m\u001b[0m\u001b[0m\n\u001b[1;32m    603\u001b[0m             \u001b[0;31m# If we're going to release the connection in ``finally:``, then\u001b[0m\u001b[0;34m\u001b[0m\u001b[0;34m\u001b[0m\u001b[0m\n",
      "\u001b[0;32m~/.pyenv/versions/3.6.4/lib/python3.6/site-packages/urllib3/connectionpool.py\u001b[0m in \u001b[0;36m_make_request\u001b[0;34m(self, conn, method, url, timeout, chunked, **httplib_request_kw)\u001b[0m\n\u001b[1;32m    344\u001b[0m         \u001b[0;31m# Trigger any extra validation we need to do.\u001b[0m\u001b[0;34m\u001b[0m\u001b[0;34m\u001b[0m\u001b[0m\n\u001b[1;32m    345\u001b[0m         \u001b[0;32mtry\u001b[0m\u001b[0;34m:\u001b[0m\u001b[0;34m\u001b[0m\u001b[0m\n\u001b[0;32m--> 346\u001b[0;31m             \u001b[0mself\u001b[0m\u001b[0;34m.\u001b[0m\u001b[0m_validate_conn\u001b[0m\u001b[0;34m(\u001b[0m\u001b[0mconn\u001b[0m\u001b[0;34m)\u001b[0m\u001b[0;34m\u001b[0m\u001b[0m\n\u001b[0m\u001b[1;32m    347\u001b[0m         \u001b[0;32mexcept\u001b[0m \u001b[0;34m(\u001b[0m\u001b[0mSocketTimeout\u001b[0m\u001b[0;34m,\u001b[0m \u001b[0mBaseSSLError\u001b[0m\u001b[0;34m)\u001b[0m \u001b[0;32mas\u001b[0m \u001b[0me\u001b[0m\u001b[0;34m:\u001b[0m\u001b[0;34m\u001b[0m\u001b[0m\n\u001b[1;32m    348\u001b[0m             \u001b[0;31m# Py2 raises this as a BaseSSLError, Py3 raises it as socket timeout.\u001b[0m\u001b[0;34m\u001b[0m\u001b[0;34m\u001b[0m\u001b[0m\n",
      "\u001b[0;32m~/.pyenv/versions/3.6.4/lib/python3.6/site-packages/urllib3/connectionpool.py\u001b[0m in \u001b[0;36m_validate_conn\u001b[0;34m(self, conn)\u001b[0m\n\u001b[1;32m    848\u001b[0m         \u001b[0;31m# Force connect early to allow us to validate the connection.\u001b[0m\u001b[0;34m\u001b[0m\u001b[0;34m\u001b[0m\u001b[0m\n\u001b[1;32m    849\u001b[0m         \u001b[0;32mif\u001b[0m \u001b[0;32mnot\u001b[0m \u001b[0mgetattr\u001b[0m\u001b[0;34m(\u001b[0m\u001b[0mconn\u001b[0m\u001b[0;34m,\u001b[0m \u001b[0;34m'sock'\u001b[0m\u001b[0;34m,\u001b[0m \u001b[0;32mNone\u001b[0m\u001b[0;34m)\u001b[0m\u001b[0;34m:\u001b[0m  \u001b[0;31m# AppEngine might not have  `.sock`\u001b[0m\u001b[0;34m\u001b[0m\u001b[0m\n\u001b[0;32m--> 850\u001b[0;31m             \u001b[0mconn\u001b[0m\u001b[0;34m.\u001b[0m\u001b[0mconnect\u001b[0m\u001b[0;34m(\u001b[0m\u001b[0;34m)\u001b[0m\u001b[0;34m\u001b[0m\u001b[0m\n\u001b[0m\u001b[1;32m    851\u001b[0m \u001b[0;34m\u001b[0m\u001b[0m\n\u001b[1;32m    852\u001b[0m         \u001b[0;32mif\u001b[0m \u001b[0;32mnot\u001b[0m \u001b[0mconn\u001b[0m\u001b[0;34m.\u001b[0m\u001b[0mis_verified\u001b[0m\u001b[0;34m:\u001b[0m\u001b[0;34m\u001b[0m\u001b[0m\n",
      "\u001b[0;32m~/.pyenv/versions/3.6.4/lib/python3.6/site-packages/urllib3/connection.py\u001b[0m in \u001b[0;36mconnect\u001b[0;34m(self)\u001b[0m\n\u001b[1;32m    282\u001b[0m     \u001b[0;32mdef\u001b[0m \u001b[0mconnect\u001b[0m\u001b[0;34m(\u001b[0m\u001b[0mself\u001b[0m\u001b[0;34m)\u001b[0m\u001b[0;34m:\u001b[0m\u001b[0;34m\u001b[0m\u001b[0m\n\u001b[1;32m    283\u001b[0m         \u001b[0;31m# Add certificate verification\u001b[0m\u001b[0;34m\u001b[0m\u001b[0;34m\u001b[0m\u001b[0m\n\u001b[0;32m--> 284\u001b[0;31m         \u001b[0mconn\u001b[0m \u001b[0;34m=\u001b[0m \u001b[0mself\u001b[0m\u001b[0;34m.\u001b[0m\u001b[0m_new_conn\u001b[0m\u001b[0;34m(\u001b[0m\u001b[0;34m)\u001b[0m\u001b[0;34m\u001b[0m\u001b[0m\n\u001b[0m\u001b[1;32m    285\u001b[0m \u001b[0;34m\u001b[0m\u001b[0m\n\u001b[1;32m    286\u001b[0m         \u001b[0mhostname\u001b[0m \u001b[0;34m=\u001b[0m \u001b[0mself\u001b[0m\u001b[0;34m.\u001b[0m\u001b[0mhost\u001b[0m\u001b[0;34m\u001b[0m\u001b[0m\n",
      "\u001b[0;32m~/.pyenv/versions/3.6.4/lib/python3.6/site-packages/urllib3/connection.py\u001b[0m in \u001b[0;36m_new_conn\u001b[0;34m(self)\u001b[0m\n\u001b[1;32m    139\u001b[0m         \u001b[0;32mtry\u001b[0m\u001b[0;34m:\u001b[0m\u001b[0;34m\u001b[0m\u001b[0m\n\u001b[1;32m    140\u001b[0m             conn = connection.create_connection(\n\u001b[0;32m--> 141\u001b[0;31m                 (self.host, self.port), self.timeout, **extra_kw)\n\u001b[0m\u001b[1;32m    142\u001b[0m \u001b[0;34m\u001b[0m\u001b[0m\n\u001b[1;32m    143\u001b[0m         \u001b[0;32mexcept\u001b[0m \u001b[0mSocketTimeout\u001b[0m \u001b[0;32mas\u001b[0m \u001b[0me\u001b[0m\u001b[0;34m:\u001b[0m\u001b[0;34m\u001b[0m\u001b[0m\n",
      "\u001b[0;32m~/.pyenv/versions/3.6.4/lib/python3.6/site-packages/urllib3/util/connection.py\u001b[0m in \u001b[0;36mcreate_connection\u001b[0;34m(address, timeout, source_address, socket_options)\u001b[0m\n\u001b[1;32m     71\u001b[0m             \u001b[0;32mif\u001b[0m \u001b[0msource_address\u001b[0m\u001b[0;34m:\u001b[0m\u001b[0;34m\u001b[0m\u001b[0m\n\u001b[1;32m     72\u001b[0m                 \u001b[0msock\u001b[0m\u001b[0;34m.\u001b[0m\u001b[0mbind\u001b[0m\u001b[0;34m(\u001b[0m\u001b[0msource_address\u001b[0m\u001b[0;34m)\u001b[0m\u001b[0;34m\u001b[0m\u001b[0m\n\u001b[0;32m---> 73\u001b[0;31m             \u001b[0msock\u001b[0m\u001b[0;34m.\u001b[0m\u001b[0mconnect\u001b[0m\u001b[0;34m(\u001b[0m\u001b[0msa\u001b[0m\u001b[0;34m)\u001b[0m\u001b[0;34m\u001b[0m\u001b[0m\n\u001b[0m\u001b[1;32m     74\u001b[0m             \u001b[0;32mreturn\u001b[0m \u001b[0msock\u001b[0m\u001b[0;34m\u001b[0m\u001b[0m\n\u001b[1;32m     75\u001b[0m \u001b[0;34m\u001b[0m\u001b[0m\n",
      "\u001b[0;31mKeyboardInterrupt\u001b[0m: "
     ]
    }
   ],
   "source": [
    "for pg in range(1,2):\n",
    "    url = URL_TEMPLATE.format(pg)\n",
    "    for link in get_list_page(url):\n",
    "        link_pg = 1\n",
    "        while True:\n",
    "            \"\"\"\n",
    "            內文頁換頁邏輯\n",
    "            \"\"\"\n",
    "            link_url = link + \"&p=%s\"%link_pg\n",
    "            print(link_url)\n",
    "            resp = dump_page(link_url)\n",
    "            time.sleep(0.4)\n",
    "            \n",
    "            \"\"\"\n",
    "            用canonical address來做判斷是否爬到最後一頁\n",
    "            \"\"\"\n",
    "            canonical = re.findall('<link rel=\"canonical\" href=\"(.+)\" />', resp.text)[0]\n",
    "            if link_pg == 1: #第一頁的特別處理，拿掉p=1\n",
    "                link_url = link_url[:-4]\n",
    "            if canonical != link_url:\n",
    "                break\n",
    "            link_pg += 1"
   ]
  },
  {
   "cell_type": "markdown",
   "metadata": {},
   "source": [
    "# Facebook GraphAPI"
   ]
  },
  {
   "cell_type": "code",
   "execution_count": 337,
   "metadata": {},
   "outputs": [],
   "source": [
    "import requests\n",
    "\n",
    "ACCESS_TOKEN = \"\" # developers.facebook.com -> Tools & Support -> Get token\n",
    "\n",
    "resp = requests.get(\"https://graph.facebook.com/v2.11/1068531466501015?fields=feed%7Bcomments%2Cmessage%7D&access_token=%s\"%(ACCESS_TOKEN))"
   ]
  },
  {
   "cell_type": "code",
   "execution_count": 340,
   "metadata": {},
   "outputs": [
    {
     "data": {
      "text/plain": [
       "{'feed': {'data': [{'comments': {'data': [{'created_time': '2018-01-02T03:11:29+0000',\n",
       "       'from': {'id': '1979421655650989', 'name': 'Anthony Chiarelli'},\n",
       "       'id': '1685447791476043',\n",
       "       'message': 'how do i set the fan up to run'},\n",
       "      {'created_time': '2018-01-02T03:13:20+0000',\n",
       "       'from': {'id': '1979421655650989', 'name': 'Anthony Chiarelli'},\n",
       "       'id': '1685448654809290',\n",
       "       'message': 'what are the 2 things on the bottom. sorry i’m a noob'},\n",
       "      {'created_time': '2018-01-02T03:24:00+0000',\n",
       "       'from': {'id': '1007985622551484', 'name': 'Konrad Kałowski'},\n",
       "       'id': '1685453628142126',\n",
       "       'message': \"it's me fenix :)\"},\n",
       "      {'created_time': '2018-01-02T03:31:56+0000',\n",
       "       'from': {'id': '1007985622551484', 'name': 'Konrad Kałowski'},\n",
       "       'id': '1685457584808397',\n",
       "       'message': 'Ben Armstrong check tv :('},\n",
       "      {'created_time': '2018-01-02T03:38:38+0000',\n",
       "       'from': {'id': '1007985622551484', 'name': 'Konrad Kałowski'},\n",
       "       'id': '1685461521474670',\n",
       "       'message': 'Box again need to be repaired and after repair right down hole gone :( but lid now ok'},\n",
       "      {'created_time': '2018-01-02T06:24:03+0000',\n",
       "       'from': {'id': '1007985622551484', 'name': 'Konrad Kałowski'},\n",
       "       'id': '1685563104797845',\n",
       "       'message': 'And wires, motherboard and mosfets packed thx to Ben Armstrong'},\n",
       "      {'created_time': '2018-01-02T06:31:17+0000',\n",
       "       'from': {'id': '10203321586496282', 'name': 'Mete Mert Isin'},\n",
       "       'id': '1685566108130878',\n",
       "       'message': 'Rez'}],\n",
       "     'paging': {'cursors': {'after': 'WTI5dGJXVnVkRjlqZAFhKemIzSTZANVFk0TlRVMk5qRXdPREV6TURnM09Eb3hOVEUwT0RjME5qYzQZD',\n",
       "       'before': 'WTI5dGJXVnVkRjlqZAFhKemIzSTZANVFk0TlRRME56YzVNVFEzTmpBME16b3hOVEUwT0RZAeU5qZAzUZD'}}},\n",
       "    'id': '1068531466501015_1685446888142800',\n",
       "    'message': 'Hey Guys,\\n\\nFor all those who were after the STL for the Electronics box I designed, I have just updated both the box and lid files after finding some issues with the initial model.\\n\\nBig thanks to Atatoth (not sure if he is a member in this group) who helped identify these issues.\\n\\nhttps://www.thingiverse.com/thing:2736372'},\n",
       "   {'comments': {'data': [{'created_time': '2018-01-02T00:40:11+0000',\n",
       "       'from': {'id': '1415677015370197', 'name': 'John Lannigan'},\n",
       "       'id': '1685350301485792',\n",
       "       'message': 'First check bed level and the gap between the bed and the nozzle'},\n",
       "      {'created_time': '2018-01-02T00:40:38+0000',\n",
       "       'from': {'id': '10203557333399557', 'name': 'John Neyrey'},\n",
       "       'id': '1685350601485762',\n",
       "       'message': 'Use a glue stick on the tape'},\n",
       "      {'created_time': '2018-01-02T00:40:47+0000',\n",
       "       'from': {'id': '10204323924890047', 'name': 'Denise Lockwood'},\n",
       "       'id': '1685350768152412',\n",
       "       'message': 'Give the tape a good wipedown with window cleaner or rubbing alcohol to rid it of any oils and residue from touching it.'},\n",
       "      {'created_time': '2018-01-02T00:40:52+0000',\n",
       "       'from': {'id': '621693261242429', 'name': 'Rudy Benner'},\n",
       "       'id': '1685350784819077',\n",
       "       'message': 'A piece of normal (A4) paper is about the right thickness.'},\n",
       "      {'created_time': '2018-01-02T00:43:06+0000',\n",
       "       'from': {'id': '10205579660641201', 'name': 'Lisa Halbig'},\n",
       "       'id': '1685351831485639',\n",
       "       'message': ''},\n",
       "      {'created_time': '2018-01-02T00:49:45+0000',\n",
       "       'from': {'id': '10205423859928614', 'name': 'Chad Walters'},\n",
       "       'id': '1685355224818633',\n",
       "       'message': 'Also i have found some of the tape have a release agent on that prevents it from sticking well.'},\n",
       "      {'created_time': '2018-01-02T00:50:06+0000',\n",
       "       'from': {'id': '10205423859928614', 'name': 'Chad Walters'},\n",
       "       'id': '1685355334818622',\n",
       "       'message': 'the alcohol should fix that'},\n",
       "      {'created_time': '2018-01-02T00:51:59+0000',\n",
       "       'from': {'id': '354756091349846', 'name': 'Ken Johnson'},\n",
       "       'id': '1685356364818519',\n",
       "       'message': 'Glass and glue stick. I swear by it'},\n",
       "      {'created_time': '2018-01-02T01:18:49+0000',\n",
       "       'from': {'id': '10155171899465721', 'name': 'Chip McDaniel'},\n",
       "       'id': '1685371041483718',\n",
       "       'message': 'Kapton tape if you are printing PLA.  No spraying or gluing.  Sticks when hot, releases when cool.'},\n",
       "      {'created_time': '2018-01-02T01:20:21+0000',\n",
       "       'from': {'id': '10205423859928614', 'name': 'Chad Walters'},\n",
       "       'id': '1685371864816969',\n",
       "       'message': 'I got a mat form JustFabIt on ebay, I can not belive how well the prints stick.  For like 3.99. sometimes they are to hard to remove'},\n",
       "      {'created_time': '2018-01-02T01:22:40+0000',\n",
       "       'from': {'id': '10205579660641201', 'name': 'Lisa Halbig'},\n",
       "       'id': '1685373144816841',\n",
       "       'message': 'Can you post picture of tape ?'},\n",
       "      {'created_time': '2018-01-02T01:35:16+0000',\n",
       "       'from': {'id': '10155171899465721', 'name': 'Chip McDaniel'},\n",
       "       'id': '1685380361482786',\n",
       "       'message': 'Just run a search for Kapton tape on Amazon.  Thinner strips are easier to work with than the really wide stuff.'},\n",
       "      {'created_time': '2018-01-02T01:48:41+0000',\n",
       "       'from': {'id': '809361312455295', 'name': 'Russell E Smith'},\n",
       "       'id': '1685391191481703',\n",
       "       'message': 'use hair spray on glass'},\n",
       "      {'created_time': '2018-01-02T03:04:10+0000',\n",
       "       'from': {'id': '10152585618537415', 'name': 'Luc A Hygonnet'},\n",
       "       'id': '1685443561476466',\n",
       "       'message': '+1 glue stick on painters tape. Bed level till a4 paper grips but still moves'},\n",
       "      {'created_time': '2018-01-02T03:13:44+0000',\n",
       "       'from': {'id': '10205579660641201', 'name': 'Lisa Halbig'},\n",
       "       'id': '1685448774809278',\n",
       "       'message': 'It got better with alcohol'},\n",
       "      {'created_time': '2018-01-02T03:16:05+0000',\n",
       "       'from': {'id': '10205579660641201', 'name': 'Lisa Halbig'},\n",
       "       'id': '1685450021475820',\n",
       "       'message': ''},\n",
       "      {'created_time': '2018-01-02T03:16:12+0000',\n",
       "       'from': {'id': '10205579660641201', 'name': 'Lisa Halbig'},\n",
       "       'id': '1685450081475814',\n",
       "       'message': ''},\n",
       "      {'created_time': '2018-01-02T03:58:33+0000',\n",
       "       'from': {'id': '10203074212643481', 'name': 'Bryson C Hall'},\n",
       "       'id': '1685471274807028',\n",
       "       'message': 'Get closer to hotbed with nozzle'},\n",
       "      {'created_time': '2018-01-02T04:48:14+0000',\n",
       "       'from': {'id': '10152912167848103', 'name': 'Steven Cooper'},\n",
       "       'id': '1685502874803868',\n",
       "       'message': 'Yeah when the print is lifting it means its not close enough'},\n",
       "      {'created_time': '2018-01-02T05:58:34+0000',\n",
       "       'from': {'id': '10201744471893513', 'name': 'Samuel Perdomo'},\n",
       "       'id': '1685543854799770',\n",
       "       'message': 'Print it with a brim, I use blue painters tape and never wipe it down with zero issues. Using a piece of paper to level will work but a feeler gauge is the best. Make sure to level it with the bed and nozzle at the temperature you use to print at, when you start getting better adhesion look online for Z-adjuster files like mine so after you level your bed you can make really small adjustments to get the perfect squish.'},\n",
       "      {'created_time': '2018-01-02T06:19:41+0000',\n",
       "       'from': {'id': '791792720880657', 'name': 'Owen Vinall'},\n",
       "       'id': '1685560658131423',\n",
       "       'message': 'Brim Glass A4 paper for gap. Dont put any pressure on glass or you will alter gap every time. Change initial Gcode to extrude 30 mm instead of 3 mms. That way you will get a decent filament flow for the very first layer. If not Pla eg Petg I use a glue stick on the glass. But gap and a decent flow are fundamental. Watch   that very first layer it has to put significant filament down or it will never stick. Clean bed is a must as well.'},\n",
       "      {'created_time': '2018-01-02T08:05:02+0000',\n",
       "       'from': {'id': '889779627701159', 'name': 'Daniel Crooks'},\n",
       "       'id': '1685607998126689',\n",
       "       'message': \"Get a glass picture frame of about the same size as your bed from Dollar tree....best thing I've ever done to my printer\"}],\n",
       "     'paging': {'cursors': {'after': 'WTI5dGJXVnVkRjlqZAFhKemIzSTZANVFk0TlRZAd056azVPREV5TmpZANE9Ub3hOVEUwT0Rnd016QXkZD',\n",
       "       'before': 'WTI5dGJXVnVkRjlqZAFhKemIzSTZANVFk0TlRNMU1ETXdNVFE0TlRjNU1qb3hOVEUwT0RVek5qRXkZD'}}},\n",
       "    'id': '1068531466501015_1685349624819193',\n",
       "    'message': \"Why is my son's projects not sticking to the bed. We have blue painters tape on it. Thoughts.\"},\n",
       "   {'comments': {'data': [{'created_time': '2018-01-01T17:18:44+0000',\n",
       "       'from': {'id': '10101236528723622', 'name': 'Curt Hayes'},\n",
       "       'id': '1685019241518898',\n",
       "       'message': 'http://anet3d.en.made-in-china.com/custom-detail/xmQExQndGJUQxmQExQndGJUQ/The-Firmware-Links-You-May-Need.html'},\n",
       "      {'created_time': '2018-01-01T18:27:38+0000',\n",
       "       'from': {'id': '10152937528212650', 'name': 'Matt Read'},\n",
       "       'id': '1685065818180907',\n",
       "       'message': \"I've just updated. I would highly recommend it\"},\n",
       "      {'created_time': '2018-01-01T19:05:41+0000',\n",
       "       'from': {'id': '10152985713266729', 'name': 'Patrick McColley'},\n",
       "       'id': '1685097934844362',\n",
       "       'message': \"I tried it and my prints were total garbage afterwards. I didn't have the time to spend to work it out so I reverted back to the stock firmware.\"}],\n",
       "     'paging': {'cursors': {'after': 'WTI5dGJXVnVkRjlqZAFhKemIzSTZANVFk0TlRBNU56a3pORGcwTkRNMk1qb3hOVEUwT0RNek5UUXgZD',\n",
       "       'before': 'WTI5dGJXVnVkRjlqZAFhKemIzSTZANVFk0TlRBeE9USTBNVFV4T0RnNU9Eb3hOVEUwT0RJM01USTEZD'}}},\n",
       "    'id': '1068531466501015_1685006264853529',\n",
       "    'message': \"I'm thinking to upgrade my A8 board to Marlin 1.1.8, but I can see here that some are facing problems with that. So I wanted to know is there any way to backup the stock firmware of my board before upgrading ?\\nThanks.\"},\n",
       "   {'comments': {'data': [{'created_time': '2018-01-02T07:27:55+0000',\n",
       "       'from': {'id': '1104427122919711', 'name': 'Chris Carrell'},\n",
       "       'id': '1685590248128464',\n",
       "       'message': \"If you print PLA you don't need the heated bed. But I think that's the only way with that board.\"},\n",
       "      {'created_time': '2018-01-02T07:30:53+0000',\n",
       "       'from': {'id': '1775674525988552', 'name': 'Bruce Barton'},\n",
       "       'id': '1685592451461577',\n",
       "       'message': 'Breakout board.'},\n",
       "      {'created_time': '2018-01-02T07:31:35+0000',\n",
       "       'from': {'id': '1775674525988552', 'name': 'Bruce Barton'},\n",
       "       'id': '1685592738128215',\n",
       "       'message': 'http://www.reprapdiscount.com/electronics/25-reprap-ramps-14-fan-extender.html'},\n",
       "      {'created_time': '2018-01-02T07:59:25+0000',\n",
       "       'from': {'id': '10152686681517658', 'name': 'Nicholas Chappell'},\n",
       "       'id': '1685605391460283',\n",
       "       'message': 'Spot on thank you :D'}],\n",
       "     'paging': {'cursors': {'after': 'WTI5dGJXVnVkRjlqZAFhKemIzSTZANVFk0TlRZAd05UTTVNVFEyTURJNE16b3hOVEUwT0RjNU9UWTIZD',\n",
       "       'before': 'WTI5dGJXVnVkRjlqZAFhKemIzSTZANVFk0TlRVNU1ESTBPREV5T0RRMk5Eb3hOVEUwT0RjNE1EYzEZD'}}},\n",
       "    'id': '1068531466501015_1685584051462417',\n",
       "    'message': \"Anyway on running a parts cooler fan with speed control on a ramps 1.4 when you're running 2 extruder and a heat bed\"},\n",
       "   {'comments': {'data': [{'created_time': '2018-01-01T17:21:03+0000',\n",
       "       'from': {'id': '787100321309150', 'name': 'Rick Reynolds'},\n",
       "       'id': '1685020771518745',\n",
       "       'message': 'Well said.'},\n",
       "      {'created_time': '2018-01-01T18:07:32+0000',\n",
       "       'from': {'id': '804729244524', 'name': 'John B'},\n",
       "       'id': '1685050584849097',\n",
       "       'message': \"Yeah I haven't used it in months. It's a bit of a mess and needs cleaning 🤣 a lot of unnecessary stuff in there... Like STL files and configs 🤔\"},\n",
       "      {'created_time': '2018-01-01T18:49:37+0000',\n",
       "       'from': {'id': '10152672720625985', 'name': 'Stuart Richards'},\n",
       "       'id': '1685081844845971',\n",
       "       'message': 'I completely agree! The files section is a mess as there has been years of contributions from 40k + users updating content. The admin have a lot to do already, so can only imagine that the files section is an unmanageable beast as it is open to the community to upload content.\\n\\nOne thing that gripes me (maybe I’m missing something) is that there’s no search facility (at least not on the mobile app), so to find files I have to endlessly scroll until I find it.\\n\\nThere are many things people would request file info on which would explain the hundreds of configuration.h files as they would contain many variables (acceleration & jerk settings for am8 users, bl touch settings, thermal runaway tweaks etc) but it would be good if they were categorised and everything in separate folders.\\n\\nOne suggestion would be to host documents on a closed google drive group that admin have control of the content being uploaded, but again this puts a lot of strain on admin to control as they’d have to receive the request directly, upload the file and post the link on the post.\\n\\nThe admin here really are great at keeping this group running like a well oiled machine, so I would imagine they’ll chime in soon to explain why it is as it is and why they can’t do what I’m suggesting...'},\n",
       "      {'created_time': '2018-01-01T19:11:18+0000',\n",
       "       'from': {'id': '10202711409460782', 'name': 'Saverio Murgia'},\n",
       "       'id': '1685101624843993',\n",
       "       'message': 'I totally agree with you! Probably the admins are already overwhelmed, growing the team with volunteering moderators could help..'},\n",
       "      {'created_time': '2018-01-01T19:16:21+0000',\n",
       "       'from': {'id': '10207751840930333', 'name': 'Dave Jones'},\n",
       "       'id': '1685104574843698',\n",
       "       'message': 'Just being able to search the files would be a nice improvement.'},\n",
       "      {'created_time': '2018-01-01T19:49:37+0000',\n",
       "       'from': {'id': '10154880838150486', 'name': 'Cory Bromberger'},\n",
       "       'id': '1685125421508280',\n",
       "       'message': 'I have tried to browse the files section a few times looking for info and have to say that I agree that some work needs to be done.  I can only imagine what kind of job it would be to clean up and organize so understand why it is the way it is.'},\n",
       "      {'created_time': '2018-01-01T20:04:23+0000',\n",
       "       'from': {'id': '10206415889185481', 'name': 'Jim Tait'},\n",
       "       'id': '1685135761507246',\n",
       "       'message': \"I admin several groups and what you're asking isn't an easy task. Its gonna take quite a bit of time.\\n\\nFacebook adding a file search facility would be epic, as would not opening 3000 instances of FB on my phone when i follow tag notifications, Mr zuckerberg should get one boot in the nuts for every bad idea he allows folk to instigate.\\nCommenting on videos etc now is a real pain compared to what it used to be.\\nUsing google drive isn't the best solution now that people are used to looking in the files section.\\n\\nAdditional mods are nice to help out but often times the admins job then becomes running the group, moderating moderators as well as moderating comments and posts on the group.\\nId offer to help out but helping to run 9 other groups already\"},\n",
       "      {'created_time': '2018-01-01T20:06:23+0000',\n",
       "       'from': {'id': '10152985713266729', 'name': 'Patrick McColley'},\n",
       "       'id': '1685136808173808',\n",
       "       'message': 'You can search files from a pc, go to the group use the group search and click files to filter the search to files. On a mobile device you load Facebook via the mobile browser not the app and use it and desktop mode not mobile to be able to use the same search as mentioned above.'},\n",
       "      {'created_time': '2018-01-01T20:21:33+0000',\n",
       "       'from': {'id': '885693301446767', 'name': 'Sam Hamed'},\n",
       "       'id': '1685146994839456',\n",
       "       'message': \"Yea, I was talking with a friend about this yesterday. I always hated how smug some people are when they scold new members for not finding what they need there or checking there first. It's an unsorted mess with way too much junk in it. The only reason I ever dig in there is if need the serial driver  when servicing someone else's printer.\"},\n",
       "      {'created_time': '2018-01-01T20:52:26+0000',\n",
       "       'from': {'id': '1368444873224815', 'name': 'Richard Melton'},\n",
       "       'id': '1685167998170689',\n",
       "       'message': \"Clean up IS very time consuming. But also very easy in most cases. Point, click, delete tends to be very fast. Even faster for an admin that knows what to keep and what to throw. Jim tait if you don't mind I use you as an example. Please take this with a grain of salt. I believe that those, that are for example moderating 9 groups, are obviously too spread out for effectiveness in a single group. Simple check lists done once a week, bi weekly, or even monthly can still be effective. Hope I'm not coming across in a bad way. But I think deleting is an extremely good option right now to simply get rid of the conf.h files that are mostly personal preference. Keep the stock stuff. Delete the mass amount of doubles. Delete the stl files that already have a home such as thingiverse, etc. I wouldn't imagine the quick skim would take more than 30min or so. If I was able to and had more adivse that was helpful versus hateful. I'd do more. As I said before not being rude just food for thought.\"},\n",
       "      {'created_time': '2018-01-01T21:00:40+0000',\n",
       "       'from': {'id': '10206415889185481', 'name': 'Jim Tait'},\n",
       "       'id': '1685173341503488',\n",
       "       'message': \"Anyone fancy tagging the admins into this.\\nEasiest and fastest way is for members that know what they're doing to go through the files section and on each useless file follow the link to the post for the file.\\nReport the post and the admins can decide if its to be deleted or not.\\n\\nSaves adding team members to their group unnecessarily and will be a lot faster.\\n\\nTbf this is one of the best moderated groups im on that i don't run, i see very little spam and the rules seem to be followed well or enforced quickly.\\nShows they do a top notch job\\n\\nAdmins can select members they know to be knowledgeable to go through the files for them\"},\n",
       "      {'created_time': '2018-01-01T21:12:35+0000',\n",
       "       'from': {'id': '10152672720625985', 'name': 'Stuart Richards'},\n",
       "       'id': '1685179788169510',\n",
       "       'message': 'I’ve reported this to admin (can’t seem to tag John Lannigan who is commander and chief) so hopefully that’ll get some attention. Just hope it’s not seen as an abuse of the report function!'},\n",
       "      {'created_time': '2018-01-01T21:20:12+0000',\n",
       "       'from': {'id': '1415677015370197', 'name': 'John Lannigan'},\n",
       "       'id': '1685184211502401',\n",
       "       'message': 'I couldnt agree more guys, and after a long think (all of 2 seconds) I have an idea. I could ask for 2 volunteers to join the team as moderators, whose role would be to do the file keeping and work together so they know what is going on. Its not a simple case of going through and deleting files, but deciding which files to keep. Anyone interested?'},\n",
       "      {'created_time': '2018-01-01T21:25:09+0000',\n",
       "       'from': {'id': '1368444873224815', 'name': 'Richard Melton'},\n",
       "       'id': '1685187374835418',\n",
       "       'message': \"Thank you all for taking it the way I intended. I would like to help. But I must be honest. I've only been printing for about a year off and on so I don't think I would be a good candidate.\"},\n",
       "      {'created_time': '2018-01-01T23:20:06+0000',\n",
       "       'from': {'id': '1415677015370197', 'name': 'John Lannigan'},\n",
       "       'id': '1685290028158486',\n",
       "       'message': 'I would like to thank Stuart Richards and the others who put some input, especially Stuart for flagging this. We now have 2 good guys who have joined the team and hit the ground running. Ive added them to our crazy admin chat group and they seemed to have fitted in (!) It will take a few days to set up a plan, and by then we should have things well on their way and sorted. (y)'},\n",
       "      {'created_time': '2018-01-02T03:12:48+0000',\n",
       "       'from': {'id': '1593155530910453', 'name': 'Chuck Patten'},\n",
       "       'id': '1685448361475986',\n",
       "       'message': 'Take your time, pace yourself, there is a lot of good info in there for the taking!'}],\n",
       "     'paging': {'cursors': {'after': 'WTI5dGJXVnVkRjlqZAFhKemIzSTZANVFk0TlRRME9ETTJNVFEzTlRrNE5qb3hOVEUwT0RZAeU56WTQZD',\n",
       "       'before': 'WTI5dGJXVnVkRjlqZAFhKemIzSTZANVFk0TlRBeU1EYzNNVFV4T0RjME5Ub3hOVEUwT0RJM01qWXoZD'}}},\n",
       "    'id': '1068531466501015_1685015481519274',\n",
       "    'message': 'So I\\'ve been reading a few posts lately pertaining to how rude and God like members are being to those that are new like myself. So I\\'m wondering why isn\\'t the files section organized. Just look at how many configuration.h files there are. And how many \"big trouble shooting guides\". Which part you say. Well I ask which section of which part is relevant? Those are only examples. 500+ files and over half are the exact same thing. Can spring cleaning happen a little early? This is rediculous. And for the new members to do a search, it\\'s a nightmare. No wonder you guys get so many questions without a search no one can find any info that applies, or they have no idea what that stuff is. I\\'ve always said that, if it makes sense ..... It won\\'t work. Unfortunately that statement seems to be applying itself more and more everyday. Don\\'t get me wrong, those that are still reading, I\\'m not upset, just wondering why those little how to\\'s aren\\'t organized. I\\'m sure that even those that have been doing this stuff for a while, need to reference back to noob status from time to time. Just food for thought!!!'},\n",
       "   {'comments': {'data': [{'created_time': '2018-01-02T07:09:28+0000',\n",
       "       'from': {'id': '767266376782560', 'name': 'Ray West'},\n",
       "       'id': '1685581468129342',\n",
       "       'message': \"Building myself a set of axles for a 7th scale crawler that I'm doing. Using traxxas summit center diffs and trans\"},\n",
       "      {'created_time': '2018-01-02T07:57:35+0000',\n",
       "       'from': {'id': '10152849209708188', 'name': 'Martin Laycock'},\n",
       "       'id': '1685604604793695',\n",
       "       'message': 'Im in the same boat, i started converting a lightning stadium truggy to a short course nearly 5 years ago, the whole project got put on hold. Now i have the Anet, i can finally print some custom arms to get the width correct'}],\n",
       "     'paging': {'cursors': {'after': 'WTI5dGJXVnVkRjlqZAFhKemIzSTZANVFk0TlRZAd05EWXdORGM1TXpZANU5Ub3hOVEUwT0RjNU9EVTIZD',\n",
       "       'before': 'WTI5dGJXVnVkRjlqZAFhKemIzSTZANVFk0TlRVNE1UUTJPREV5T1RNME1qb3hOVEUwT0RjMk9UWTQZD'}}},\n",
       "    'id': '1068531466501015_1685578221463000',\n",
       "    'message': 'I finally got around to printing the rear control arm I designed in tinker cad to replace a broken impossible to find one off of my desc210 rc car. This printer opens up a world of possibilities at such a cheap cost.'},\n",
       "   {'comments': {'data': [{'created_time': '2018-01-02T02:05:47+0000',\n",
       "       'from': {'id': '841297015911734', 'name': 'Alex Gilbert'},\n",
       "       'id': '1685401861480636',\n",
       "       'message': 'Think you need to adjust the height of your z axis limit switch.'},\n",
       "      {'created_time': '2018-01-02T02:06:30+0000',\n",
       "       'from': {'id': '786240671395302', 'name': 'Robert Panco'},\n",
       "       'id': '1685402241480598',\n",
       "       'message': 'I know this isn’t the advice you came for, but secure your extruder/hotend wires onto the x-carriage with one of those little clips that came with the kit'},\n",
       "      {'created_time': '2018-01-02T02:09:47+0000',\n",
       "       'from': {'id': '1485099661792141', 'name': 'Nathan Bourland'},\n",
       "       'id': '1685404328147056',\n",
       "       'message': 'Probably in the firmware sequence of zeroing. One example of what it would run would be. (no. Not specifically) \\nG28X0 then \\nG28Y0 then \\nWhatever the one for z axis is. \\n\\nAnd the difference would be it moving the x and y forward and over then zeroing z.'},\n",
       "      {'created_time': '2018-01-02T02:10:06+0000',\n",
       "       'from': {'id': '10154893980690328', 'name': 'Lando Rivera'},\n",
       "       'id': '1685404594813696',\n",
       "       'message': \"U know I'm wondering the same thing\"},\n",
       "      {'created_time': '2018-01-02T02:10:53+0000',\n",
       "       'from': {'id': '1485099661792141', 'name': 'Nathan Bourland'},\n",
       "       'id': '1685405024813653',\n",
       "       'message': 'Oh. Limit switch is either not working or way too far down.'},\n",
       "      {'created_time': '2018-01-02T02:12:20+0000',\n",
       "       'from': {'id': '785406921493195', 'name': 'Adriano Barros'},\n",
       "       'id': '1685405801480242',\n",
       "       'message': 'Este sensor é um Tronxy xy08n???'},\n",
       "      {'created_time': '2018-01-02T02:12:33+0000',\n",
       "       'from': {'id': '10209338262243864', 'name': 'Seth Gibbons'},\n",
       "       'id': '1685405958146893',\n",
       "       'message': 'Thought I remember seeing a “safe homing” line you need to un-comment.'},\n",
       "      {'created_time': '2018-01-02T02:13:01+0000',\n",
       "       'from': {'id': '10152739733149216', 'name': 'Lance Woolen'},\n",
       "       'id': '1685406294813526',\n",
       "       'message': 'Have the same problem.'},\n",
       "      {'created_time': '2018-01-02T02:23:13+0000',\n",
       "       'from': {'id': '1364237736978354', 'name': 'Cade Hicks'},\n",
       "       'id': '1685417978145691',\n",
       "       'message': 'The safe homing feature was not enabled once switched it homes in the center. thanks all for the input!'},\n",
       "      {'created_time': '2018-01-02T02:26:21+0000',\n",
       "       'from': {'id': '10153501384333574', 'name': 'George Coucopoulos'},\n",
       "       'id': '1685419588145530',\n",
       "       'message': \"you have to enable safe homing , there are also some  other settings to enter to tell the autolevel to measure cause it may go off the bed when measuring,  it took me a long time figure it out and there is not much help , trial and error. i don't even remember what setting i had to adjust but it was in the sensor offsets.\"},\n",
       "      {'created_time': '2018-01-02T03:48:02+0000',\n",
       "       'from': {'id': '207389166426823', 'name': 'Mike Lione'},\n",
       "       'id': '1685465824807573',\n",
       "       'message': 'Aforementioned strain relief very important to reduce strain on HE and thermistor wires.  Several have posted wire fails to both.  Much more of an issue is providing strain relief to the HB connection.  HB draw 10+ amps. Connector is marginal at best but has no chance considering the sometimes violent action and vibration of the bed.  Connector will arc and eventually burn out.  Some have reported fires.  Simple, quick, and easy fix.  Not soldering skills or HD equipment needed.'},\n",
       "      {'created_time': '2018-01-02T03:49:36+0000',\n",
       "       'from': {'id': '10202200864021427', 'name': 'Karolis Zimrukovskis'},\n",
       "       'id': '1685466671474155',\n",
       "       'message': 'Safe homing is not enabled'},\n",
       "      {'created_time': '2018-01-02T06:00:57+0000',\n",
       "       'from': {'id': '208367009710940', 'name': 'Ruan Calitz'},\n",
       "       'id': '1685544978132991',\n",
       "       'message': 'Had the same problem had to move the sensor offset in the config file'},\n",
       "      {'created_time': '2018-01-02T07:39:01+0000',\n",
       "       'from': {'id': '748659768498974', 'name': 'Shawn Buie'},\n",
       "       'id': '1685595728127916',\n",
       "       'message': 'Z safe homing needs to be enabled'},\n",
       "      {'created_time': '2018-01-02T07:56:49+0000',\n",
       "       'from': {'id': '208367009710940', 'name': 'Ruan Calitz'},\n",
       "       'id': '1685604304793725',\n",
       "       'message': 'Have a look at those settings'}],\n",
       "     'paging': {'cursors': {'after': 'WTI5dGJXVnVkRjlqZAFhKemIzSTZANVFk0TlRZAd05ETXdORGM1TXpjeU5Ub3hOVEUwT0RjNU9ERXcZD',\n",
       "       'before': 'WTI5dGJXVnVkRjlqZAFhKemIzSTZANVFk0TlRRd01UZAzJNVFE0TURZAek5qb3hOVEUwT0RVNE56UTMZD'}}},\n",
       "    'id': '1068531466501015_1685399748147514',\n",
       "    'message': 'Why does it home the z axis off the build plate before and after home if over the bed? Marlin 1.1.8'},\n",
       "   {'comments': {'data': [{'created_time': '2017-12-30T22:51:36+0000',\n",
       "       'from': {'id': '1003029256389713', 'name': 'Romain Hub'},\n",
       "       'id': '1683062711714551',\n",
       "       'message': 'Have u the stl please ?'},\n",
       "      {'created_time': '2017-12-30T22:51:57+0000',\n",
       "       'from': {'id': '173328003032812', 'name': 'Bruce Hamlin'},\n",
       "       'id': '1683062931714529',\n",
       "       'message': 'Nice Box. Why is the cover off the power supply?'},\n",
       "      {'created_time': '2017-12-31T04:36:04+0000',\n",
       "       'from': {'id': '1400517296699578', 'name': 'Richard Myers'},\n",
       "       'id': '1683270775027078',\n",
       "       'message': 'Are you planning to release the stl?'},\n",
       "      {'created_time': '2017-12-31T08:06:13+0000',\n",
       "       'from': {'id': '126828211087493', 'name': 'Levi Blatchford'},\n",
       "       'id': '1683399091680913',\n",
       "       'message': 'how’d you manage to get a twist nob? and the sd card slot away from the board?'},\n",
       "      {'created_time': '2017-12-31T15:17:53+0000',\n",
       "       'from': {'id': '10201104604692824', 'name': 'Michael P. Yanga'},\n",
       "       'id': '1683743091646513',\n",
       "       'message': 'nice work'},\n",
       "      {'created_time': '2017-12-31T18:23:34+0000',\n",
       "       'from': {'id': '785305344820559', 'name': 'Robby Diener'},\n",
       "       'id': '1683938188293670',\n",
       "       'message': 'Dániel Vœlkel'},\n",
       "      {'created_time': '2018-01-02T00:52:52+0000',\n",
       "       'from': {'id': '975631509120228', 'name': 'Jaro Krieg'},\n",
       "       'id': '1685356858151803',\n",
       "       'message': 'so much as i like the idea  - i had to make some improvements.\\n\\nWill be uploaded on Thingverse  soon.'}],\n",
       "     'paging': {'cursors': {'after': 'WTI5dGJXVnVkRjlqZAFhKemIzSTZANVFk0TlRNMU5qZAzFPREUxTVRnd016b3hOVEUwT0RVME16Y3kZD',\n",
       "       'before': 'WTI5dGJXVnVkRjlqZAFhKemIzSTZANVFk0TXpBMk1qY3hNVGN4TkRVMU1Ub3hOVEUwTmpjME1qazIZD'}}},\n",
       "    'id': '1068531466501015_1683061338381355',\n",
       "    'message': \"Sometimes... Upgrading can be exhausting.\\n\\nIf someone is interested in the .STL file, it's all in thingiverse: https://www.thingiverse.com/thing:2734834\"},\n",
       "   {'comments': {'data': [{'created_time': '2018-01-02T02:34:36+0000',\n",
       "       'from': {'id': '653230751484608', 'name': 'Charlie Agnello'},\n",
       "       'id': '1685423934811762',\n",
       "       'message': 'You and me both.  This may be the start of an obsession.  I already have a ton of stuff coming from China to upgrade.'},\n",
       "      {'created_time': '2018-01-02T02:46:48+0000',\n",
       "       'from': {'id': '10101422863432336', 'name': 'Frank Bright'},\n",
       "       'id': '1685431244811031',\n",
       "       'message': \"Yeah I've had to hit unfollow. Hopefully that'll give me a chance to reset the algorithm.\"},\n",
       "      {'created_time': '2018-01-02T03:28:48+0000',\n",
       "       'from': {'id': '1054961381202468', 'name': 'Chris East'},\n",
       "       'id': '1685455764808579',\n",
       "       'message': 'Same. Forgot some of my families names. My niece has a 2 year old daughter....when did this happen???'},\n",
       "      {'created_time': '2018-01-02T06:57:22+0000',\n",
       "       'from': {'id': '700626410067548', 'name': 'Alastair Macdonald'},\n",
       "       'id': '1685576214796534',\n",
       "       'message': 'I have the same problem... Must be a conspiracy 😂'},\n",
       "      {'created_time': '2018-01-02T07:04:50+0000',\n",
       "       'from': {'id': '767266376782560', 'name': 'Ray West'},\n",
       "       'id': '1685579574796198',\n",
       "       'message': 'Same is happening to me and \"car and mechanic memes\" since I post a lot on there'},\n",
       "      {'created_time': '2018-01-02T07:51:13+0000',\n",
       "       'from': {'id': '823253651027469', 'name': 'Jonas van Hagen'},\n",
       "       'id': '1685601488127340',\n",
       "       'message': 'Every time i join another 3d printing group this happens 😂😂😂'}],\n",
       "     'paging': {'cursors': {'after': 'WTI5dGJXVnVkRjlqZAFhKemIzSTZANVFk0TlRZAd01UUTRPREV5TnpNME1Eb3hOVEUwT0RjNU5EY3oZD',\n",
       "       'before': 'WTI5dGJXVnVkRjlqZAFhKemIzSTZANVFk0TlRReU16a3pORGd4TVRjMk1qb3hOVEUwT0RZAd05EYzMZD'}}},\n",
       "    'id': '1068531466501015_1685423344811821',\n",
       "    'message': 'Man I love you guys but Facebook has managed to hijack my entire feed with only posts from this group. Am I obsessed?'},\n",
       "   {'comments': {'data': [{'created_time': '2018-01-01T20:40:11+0000',\n",
       "       'from': {'id': '775985555788132', 'name': 'Brian Gil'},\n",
       "       'id': '1685160734838082',\n",
       "       'message': 'I use hairspray'},\n",
       "      {'created_time': '2018-01-01T20:41:13+0000',\n",
       "       'from': {'id': '10204273711656612', 'name': 'Chuck Cook'},\n",
       "       'id': '1685161944837961',\n",
       "       'message': 'As recommended to me, the glue sticks work amazingly well! Clean glass with alcohol or windex,  apply thin layer of glue stick to where print will be, I use bed temp of 60 for PLA, let cool when print is complete, then get a razor blade or hobby knife under one corner and it should pop off.'},\n",
       "      {'created_time': '2018-01-01T20:43:31+0000',\n",
       "       'from': {'id': '10101422863432336', 'name': 'Frank Bright'},\n",
       "       'id': '1685163108171178',\n",
       "       'message': 'A clean glass plate and proper leveling.'},\n",
       "      {'created_time': '2018-01-01T20:43:59+0000',\n",
       "       'from': {'id': '10153302024058384', 'name': 'Chip Grisham'},\n",
       "       'id': '1685163434837812',\n",
       "       'message': 'Nothing is needed except a clean bed...'},\n",
       "      {'created_time': '2018-01-01T20:44:30+0000',\n",
       "       'from': {'id': '10153986508480063', 'name': 'T. Todd Hennig'},\n",
       "       'id': '1685163724837783',\n",
       "       'message': \"Some people have said purple glue stick works best. I didn't have any on hand so I used cheap glue stick from the dollar store on my bor-glass and it works amazingly well for me. It works so I use it. There may be other items which also work.  scrape it every so often.\"},\n",
       "      {'created_time': '2018-01-01T20:44:48+0000',\n",
       "       'from': {'id': '1345660052118516', 'name': 'Thomas Norman'},\n",
       "       'id': '1685163848171104',\n",
       "       'message': 'Just clean glass'},\n",
       "      {'created_time': '2018-01-01T20:45:26+0000',\n",
       "       'from': {'id': '10153302024058384', 'name': 'Chip Grisham'},\n",
       "       'id': '1685164171504405',\n",
       "       'message': 'https://youtu.be/Kj4Xz3DwGSQ'},\n",
       "      {'created_time': '2018-01-01T20:47:26+0000',\n",
       "       'from': {'id': '10204273711656612', 'name': 'Chuck Cook'},\n",
       "       'id': '1685165128170976',\n",
       "       'message': 'Certain prints need more than just clean glass. Clean glass always worked for me until I tried printing long thin items.  I just finished the edge 540 from 3dlabprint and let me tell you,  clean glass would not work, glue stick solved all issues, and it cost like 2 bucks for a 3 pack. 😁'},\n",
       "      {'created_time': '2018-01-01T21:33:02+0000',\n",
       "       'from': {'id': '10153590842471495', 'name': 'Chris Stolle'},\n",
       "       'id': '1685192058168283',\n",
       "       'message': 'I use washable school glue stick and PLA sticks (like glue).'},\n",
       "      {'created_time': '2018-01-02T02:51:22+0000',\n",
       "       'from': {'id': '1524564347755445', 'name': 'David Parfitt'},\n",
       "       'id': '1685435971477225',\n",
       "       'message': 'I havent washed mine in weeks. Never used adhesive either.\\n\\nFirst layer 65c rest of the layers at 60c\\n\\nNo problem sticking or removing'},\n",
       "      {'created_time': '2018-01-02T03:19:51+0000',\n",
       "       'from': {'id': '10207751840930333', 'name': 'Dave Jones'},\n",
       "       'id': '1685451668142322',\n",
       "       'message': \"You almost can't have the nozzle too close.  I tried once... The extruder had a difficult time squeezing pla onto the glass.  I increased the gap ever so slightly from there & it was fine.  I increased it a bit more & it was still good.  However, if you increase it to a point where a plain sheet of printer moves with little resistance between the bed & the glass then your gap is too large. You want good drag on the paper as it is being squeezed between the nozzle & glass.\"},\n",
       "      {'created_time': '2018-01-02T04:12:48+0000',\n",
       "       'from': {'id': '10203074212643481', 'name': 'Bryson C Hall'},\n",
       "       'id': '1685479888139500',\n",
       "       'message': 'Nothing just get head close'},\n",
       "      {'created_time': '2018-01-02T04:26:11+0000',\n",
       "       'from': {'id': '10153351383998215', 'name': 'Carl Sandström'},\n",
       "       'id': '1685490601471762',\n",
       "       'message': \"Something most people seem to forget is that you need to stick that first layer down at LOW speed, if your doing 100mm/s it just won't stick. Go down to 15-20mm/s and your much better off.\"},\n",
       "      {'created_time': '2018-01-02T07:07:15+0000',\n",
       "       'from': {'id': '831476430245394', 'name': 'Eric Beyer'},\n",
       "       'id': '1685580464796109',\n",
       "       'message': 'good leveled bed, nothing else than a clean glass ...'},\n",
       "      {'created_time': '2018-01-02T07:08:23+0000',\n",
       "       'from': {'id': '1097107777000966', 'name': 'Timothy W R Greer'},\n",
       "       'id': '1685580991462723',\n",
       "       'message': 'make sure its really cleaned with Isopropyl alcohol.'},\n",
       "      {'created_time': '2018-01-02T07:49:37+0000',\n",
       "       'from': {'id': '10152882502588164', 'name': 'Brian Holbrook'},\n",
       "       'id': '1685600784794077',\n",
       "       'message': \"I don't put anything on mine, i just make sure that there are no snotty bits left over from the last print and give it a quick spray and wipe with some Isopropyl Alcohol to get rid of any grease and i'm good to go.\"}],\n",
       "     'paging': {'cursors': {'after': 'WTI5dGJXVnVkRjlqZAFhKemIzSTZANVFk0TlRZAd01EYzRORGM1TkRBM056b3hOVEUwT0RjNU16YzMZD',\n",
       "       'before': 'WTI5dGJXVnVkRjlqZAFhKemIzSTZANVFk0TlRFMk1EY3pORGd6T0RBNE1qb3hOVEUwT0RNNU1qRXgZD'}}},\n",
       "    'id': '1068531466501015_1685157971505025',\n",
       "    'message': 'How to let PLA stick to a borosilicate glass plate?'},\n",
       "   {'comments': {'data': [{'created_time': '2018-01-01T19:51:43+0000',\n",
       "       'from': {'id': '1355851324440409', 'name': 'Eric Schayes'},\n",
       "       'id': '1685126478174841',\n",
       "       'message': 'Increase flow to 100 and I usually do 1.2 for top and bottoms layers'},\n",
       "      {'created_time': '2018-01-01T19:52:14+0000',\n",
       "       'from': {'id': '10153302024058384', 'name': 'Chip Grisham'},\n",
       "       'id': '1685126744841481',\n",
       "       'message': 'You need to calibrate your extruder... Looks like underextrusion...'},\n",
       "      {'created_time': '2018-01-01T19:53:01+0000',\n",
       "       'from': {'id': '404760769681100', 'name': 'Αλέξανδρος Προεστάκης'},\n",
       "       'id': '1685127184841437',\n",
       "       'message': 'Feel sad if you invested on Electroneum, unless you just mine it :P'},\n",
       "      {'created_time': '2018-01-01T19:53:01+0000',\n",
       "       'from': {'id': '483421018461178', 'name': 'Alexey  Fomin'},\n",
       "       'id': '1685127181508104',\n",
       "       'message': 'https://www.simplify3d.com/support/print-quality-troubleshooting/#poor-surface-above-supports'},\n",
       "      {'created_time': '2018-01-01T20:02:09+0000',\n",
       "       'from': {'id': '10152832533532641', 'name': 'Jari Ivanoff'},\n",
       "       'id': '1685132521507570',\n",
       "       'message': 'And add more top layers...'},\n",
       "      {'created_time': '2018-01-01T20:08:08+0000',\n",
       "       'from': {'id': '846776315357834', 'name': 'Richard Stößl'},\n",
       "       'id': '1685137801507042',\n",
       "       'message': \"As I don't use cura occasionally I use Neosanding with S3D to smooth top layers\\nhttps://all3dp.com/neosanding-3d-printing-technique-smooths-your-flat-surfaces/\"},\n",
       "      {'created_time': '2018-01-01T20:53:32+0000',\n",
       "       'from': {'id': '10203355208187379', 'name': 'Joe Campbell'},\n",
       "       'id': '1685168904837265',\n",
       "       'message': 'why do you have flow at 80%?'},\n",
       "      {'created_time': '2018-01-01T21:07:18+0000',\n",
       "       'from': {'id': '786240671395302', 'name': 'Robert Panco'},\n",
       "       'id': '1685176994836456',\n",
       "       'message': 'Increase flow closer to 100%, if you needed 80% flow then there is something else wrong. Enable “ironing” setting in Cura, this will potentially add some more filament to the top and smooth it out.'},\n",
       "      {'created_time': '2018-01-02T07:12:27+0000',\n",
       "       'from': {'id': '989179767774409', 'name': 'Joseph Colehour'},\n",
       "       'id': '1685583101462512',\n",
       "       'message': 'Put your layer height at .10 instead of .20. Yes it will take longer for a print to finish, but better detail and less of those gaps.'}],\n",
       "     'paging': {'cursors': {'after': 'WTI5dGJXVnVkRjlqZAFhKemIzSTZANVFk0TlRVNE16RXdNVFEyTWpVeE1qb3hOVEUwT0RjM01UUTMZD',\n",
       "       'before': 'WTI5dGJXVnVkRjlqZAFhKemIzSTZANVFk0TlRFeU5qUTNPREUzTkRnME1Ub3hOVEUwT0RNMk16QXoZD'}}},\n",
       "    'id': '1068531466501015_1685125518174937',\n",
       "    'message': \"Hey guys . Any idea how to make my top surface better ? It's got so many gaps and holes. -_-\"},\n",
       "   {'comments': {'data': [{'created_time': '2018-01-02T01:13:57+0000',\n",
       "       'from': {'id': '804729244524', 'name': 'John B'},\n",
       "       'id': '1685368851483937',\n",
       "       'message': \"Good question. I'd like to know as well XD I don't have any part connected to the ground\"},\n",
       "      {'created_time': '2018-01-02T01:28:08+0000',\n",
       "       'from': {'id': '10207028931414830', 'name': 'Kenneth Burkhardt'},\n",
       "       'id': '1685376914816464',\n",
       "       'message': \"My electronics technology background tells me to check and make sure you don't have any positive voltage leaking in the PSU chassis before grounding it. It is just one if the things I learned in troubleshooting. If there is a positive voltage leak tracking down it's source is critical before applying a ground. If not you could potentially create a pathway that can overheat/overload active circuits.\"},\n",
       "      {'created_time': '2018-01-02T02:05:02+0000',\n",
       "       'from': {'id': '1099051343442680', 'name': 'Russell Conner'},\n",
       "       'id': '1685401608147328',\n",
       "       'message': 'It will be fine...'},\n",
       "      {'created_time': '2018-01-02T04:11:39+0000',\n",
       "       'from': {'id': '1593155530910453', 'name': 'Chuck Patten'},\n",
       "       'id': '1685479454806210',\n",
       "       'message': 'Use your multimeter to verify that the Green wire in the power cord does go to the safety ground, and the line is connected to the line and neutral to the neutral in the wall socket...'}],\n",
       "     'paging': {'cursors': {'after': 'WTI5dGJXVnVkRjlqZAFhKemIzSTZANVFk0TlRRM09UUTFORGd3TmpJeE1Eb3hOVEUwT0RZAMk1qazUZD',\n",
       "       'before': 'WTI5dGJXVnVkRjlqZAFhKemIzSTZANVFk0TlRNMk9EZAzFNVFE0TXprek56b3hOVEUwT0RVMU5qTTMZD'}}},\n",
       "    'id': '1068531466501015_1685359888151500',\n",
       "    'message': \"Alright, so here is a bit of a question for you guys. It is about hooking up grounding from the PSU to the rest of the printer. I inspected my 30A PSU a bit with a multimeter and found that the chassis of it doesn't appear to be grounded. On top of that, I noticed a static buildup while printing. That said, should I connect the GND of the PSU with any or all of the following:\\n\\n1) PSU chassis to compensate for the lack of GND (just for safety reasons)?\\n2) The AM8 aluminium frame? I actually already have GND connected to it, I did it while building the printer because it made sense to do it.\\n3) The -V rail, which means all of the negative pins on the RAMPS, and everything else connected to -V. Would this help drain the static charge?\\n\\nThe static I noticed was on the printed part itself, after printing a rather large flat part (a horizontal tray for pencils). Was enough to stand off the hairs on my fingers.\"},\n",
       "   {'comments': {'data': [{'created_time': '2018-01-01T15:40:52+0000',\n",
       "       'from': {'id': '945742302138231', 'name': 'Domingos Rodrigues'},\n",
       "       'id': '1684943041526518',\n",
       "       'message': 'Fusion 360 is the one I use'},\n",
       "      {'created_time': '2018-01-01T15:44:53+0000',\n",
       "       'from': {'id': '940540842677900', 'name': 'Alan Lord'},\n",
       "       'id': '1684946274859528',\n",
       "       'message': 'I use OpenSCAD'},\n",
       "      {'created_time': '2018-01-01T15:46:47+0000',\n",
       "       'from': {'id': '1058669017487636', 'name': 'Dominique Kruis'},\n",
       "       'id': '1684947411526081',\n",
       "       'message': 'I use blender'},\n",
       "      {'created_time': '2018-01-01T15:48:55+0000',\n",
       "       'from': {'id': '821044444596414', 'name': 'Jhonny Rosa'},\n",
       "       'id': '1684951301525692',\n",
       "       'message': 'Blender [2]'},\n",
       "      {'created_time': '2018-01-01T15:49:54+0000',\n",
       "       'from': {'id': '599035280223017', 'name': 'Ryan Vajas'},\n",
       "       'id': '1684952061525616',\n",
       "       'message': 'Blender all the way'},\n",
       "      {'created_time': '2018-01-01T15:49:57+0000',\n",
       "       'from': {'id': '145355375961108', 'name': 'Charles Ducat'},\n",
       "       'id': '1684952114858944',\n",
       "       'message': 'Design spark is the free real deal'},\n",
       "      {'created_time': '2018-01-01T15:55:07+0000',\n",
       "       'from': {'id': '1401204523239742', 'name': 'John Banion'},\n",
       "       'id': '1684956644858491',\n",
       "       'message': 'Fusion 360!'},\n",
       "      {'created_time': '2018-01-01T16:09:48+0000',\n",
       "       'from': {'id': '763061353813759', 'name': 'Ayoub Avm'},\n",
       "       'id': '1684966224857533',\n",
       "       'message': 'try design spark mechanical'},\n",
       "      {'created_time': '2018-01-01T16:13:04+0000',\n",
       "       'from': {'id': '823253651027469', 'name': 'Jonas van Hagen'},\n",
       "       'id': '1684968971523925',\n",
       "       'message': 'Definitely would recommend fusion 360'},\n",
       "      {'created_time': '2018-01-01T16:17:27+0000',\n",
       "       'from': {'id': '763198687062005', 'name': 'Denis Vajak'},\n",
       "       'id': '1684972644856891',\n",
       "       'message': 'Blender ^^'},\n",
       "      {'created_time': '2018-01-01T16:19:26+0000',\n",
       "       'from': {'id': '932074970142470', 'name': 'Brian Dooley'},\n",
       "       'id': '1684974158190073',\n",
       "       'message': 'FreeCad'},\n",
       "      {'created_time': '2018-01-01T16:34:16+0000',\n",
       "       'from': {'id': '493793497418012', 'name': 'Laura LeFever'},\n",
       "       'id': '1684986551522167',\n",
       "       'message': \"Blender, FreeCad, I have one called Wings3D I haven't tried yet, Sculptris, and I think thats all the free ones I have\"},\n",
       "      {'created_time': '2018-01-01T16:37:12+0000',\n",
       "       'from': {'id': '10153956858183364', 'name': 'Simón Muñoz Caro'},\n",
       "       'id': '1684988601521962',\n",
       "       'message': 'I use solidworks'},\n",
       "      {'created_time': '2018-01-01T16:39:41+0000',\n",
       "       'from': {'id': '1566811886921307', 'name': 'Matt Tilson'},\n",
       "       'id': '1684990058188483',\n",
       "       'message': 'Free:\\nGeometric/Parametric: Fusion360, OnShape, FreeCAD\\nOrganic: Blender, Sculptris\\n\\nPaid:\\nGeometric/Parametric: Solidworks\\nOrganic: Maya, Zbrush'},\n",
       "      {'created_time': '2018-01-01T16:54:50+0000',\n",
       "       'from': {'id': '10203203211664853', 'name': 'David Hatot'},\n",
       "       'id': '1685002114853944',\n",
       "       'message': 'solidwork'},\n",
       "      {'created_time': '2018-01-01T16:57:44+0000',\n",
       "       'from': {'id': '10153266757345987', 'name': 'Eric Montambeault'},\n",
       "       'id': '1685004194853736',\n",
       "       'message': 'Autodesk123d'},\n",
       "      {'created_time': '2018-01-01T17:03:34+0000',\n",
       "       'from': {'id': '189283571810333', 'name': 'Randy Solomon'},\n",
       "       'id': '1685008841519938',\n",
       "       'message': 'For a quick simple model, 3D Builder, included in windows 10. Works a lot like Tinkercad.'},\n",
       "      {'created_time': '2018-01-01T17:34:38+0000',\n",
       "       'from': {'id': '443776475789293', 'name': 'William Rogers'},\n",
       "       'id': '1685030338184455',\n",
       "       'message': 'Autodesk inventor'},\n",
       "      {'created_time': '2018-01-01T17:37:51+0000',\n",
       "       'from': {'id': '729300290458293', 'name': 'Martin Rosenkilde Jensen'},\n",
       "       'id': '1685032298184259',\n",
       "       'message': 'Use Inventor, Fusion 360 and solidworks 😂'},\n",
       "      {'created_time': '2018-01-01T18:09:34+0000',\n",
       "       'from': {'id': '599633476874133', 'name': 'Conan McLucas'},\n",
       "       'id': '1685052548182234',\n",
       "       'message': 'Solidworks'},\n",
       "      {'created_time': '2018-01-01T18:17:23+0000',\n",
       "       'from': {'id': '10207482126077158', 'name': 'Roel Schuring'},\n",
       "       'id': '1685058431514979',\n",
       "       'message': \"3DS MAX (I'm a 3D modeler)\"},\n",
       "      {'created_time': '2018-01-01T18:47:24+0000',\n",
       "       'from': {'id': '777524689013276', 'name': 'Stephen Harker'},\n",
       "       'id': '1685080744846081',\n",
       "       'message': 'Fusion 360'},\n",
       "      {'created_time': '2018-01-01T18:58:41+0000',\n",
       "       'from': {'id': '1737513156528188', 'name': 'Mohammad Kanawati'},\n",
       "       'id': '1685089321511890',\n",
       "       'message': 'Fusion 360'},\n",
       "      {'created_time': '2018-01-01T19:06:29+0000',\n",
       "       'from': {'id': '10205900657808371', 'name': 'Aaron Lieberman'},\n",
       "       'id': '1685098351510987',\n",
       "       'message': 'Oculus Medium'},\n",
       "      {'created_time': '2018-01-01T19:54:39+0000',\n",
       "       'from': {'id': '10152985713266729', 'name': 'Patrick McColley'},\n",
       "       'id': '1685128114841344',\n",
       "       'message': \"Sketchup Make 2017 its free, our library has 5 licensed pro versions you can use and it's what is being taught in school now to kids for creating prints so my kids can also use it.\"}],\n",
       "     'paging': {'cursors': {'after': 'WTI5dGJXVnVkRjlqZAFhKemIzSTZANVFk0TlRFeU9ERXhORGcwTVRNME5Eb3hOVEUwT0RNMk5EYzUZD',\n",
       "       'before': 'WTI5dGJXVnVkRjlqZAFhKemIzSTZANVFk0TkRrME16QTBNVFV5TmpVeE9Eb3hOVEUwT0RJeE1qVXoZD'},\n",
       "      'next': 'https://graph.facebook.com/v2.11/1068531466501015_1684940798193409/comments?access_token=EAACEdEose0cBAI9dCvRVleoI3NaZASzPNcxFaooKUydwe4jLeUK6qwrcfcRjFTZBzwozpY6x0de8P2elB5ClhbqV0gFBZBM3MAQ5ZCnnxKP3arzBRwzEpcey2J7wJpjUnPA6bs6k5xUgx85hhJazZAHGnheFQkzrTpP0QBDnB86qcL4gg1LENRd39VFEbBJzEkoMtUZC4TEwZDZD&limit=25&after=WTI5dGJXVnVkRjlqZAFhKemIzSTZANVFk0TlRFeU9ERXhORGcwTVRNME5Eb3hOVEUwT0RNMk5EYzUZD'}},\n",
       "    'id': '1068531466501015_1684940798193409',\n",
       "    'message': 'What program is everyone using to create prints. I know about tinkercad. What else is there?'},\n",
       "   {'comments': {'data': [{'created_time': '2017-12-30T22:20:07+0000',\n",
       "       'from': {'id': '213961288967366', 'name': 'Eugenio Tramontana'},\n",
       "       'id': '1683044898382999',\n",
       "       'message': 'No difference'},\n",
       "      {'created_time': '2017-12-30T22:21:15+0000',\n",
       "       'from': {'id': '10204344789688573', 'name': 'Scott Follick'},\n",
       "       'id': '1683045571716265',\n",
       "       'message': 'The 1.0 board definition works for the 1.5 board'},\n",
       "      {'created_time': '2017-12-30T22:22:12+0000',\n",
       "       'from': {'id': '763198687062005', 'name': 'Denis Vajak'},\n",
       "       'id': '1683046031716219',\n",
       "       'message': 'be sure not to install skynet'},\n",
       "      {'created_time': '2017-12-30T22:24:49+0000',\n",
       "       'from': {'id': '1582665031947124', 'name': 'Brian Williams'},\n",
       "       'id': '1683047368382752',\n",
       "       'message': 'Can confirm 1.0 profile works, I have a 1.5 board myself.'},\n",
       "      {'created_time': '2017-12-30T22:25:35+0000',\n",
       "       'from': {'id': '781660025207667', 'name': 'Yannic Bro'},\n",
       "       'id': '1683047835049372',\n",
       "       'message': 'Okay and when I read these comments I should go for Marlin instead of Skynet?'},\n",
       "      {'created_time': '2017-12-30T22:27:52+0000',\n",
       "       'from': {'id': '10209686180896171', 'name': 'Gav Lewis'},\n",
       "       'id': '1683048988382590',\n",
       "       'message': 'Yes as Marlin now supports A8 and has several newer versions with many bugfixes and new features'},\n",
       "      {'created_time': '2017-12-30T22:29:53+0000',\n",
       "       'from': {'id': '781660025207667', 'name': 'Yannic Bro'},\n",
       "       'id': '1683050085049147',\n",
       "       'message': 'Sounds good... Thank you all!'},\n",
       "      {'created_time': '2017-12-30T22:39:36+0000',\n",
       "       'from': {'id': '685705454842558', 'name': 'Dejan Rajcic'},\n",
       "       'id': '1683055608381928',\n",
       "       'message': 'Question, if a board only says ANET3D what version is it?'},\n",
       "      {'created_time': '2017-12-30T22:40:22+0000',\n",
       "       'from': {'id': '10209686180896171', 'name': 'Gav Lewis'},\n",
       "       'id': '1683055938381895',\n",
       "       'message': 'They are all the same as far as firmware is concerned I think. As long as it is an Anet board (square red one) it should be fine'},\n",
       "      {'created_time': '2017-12-30T22:44:08+0000',\n",
       "       'from': {'id': '846776315357834', 'name': 'Richard Stößl'},\n",
       "       'id': '1683057905048365',\n",
       "       'message': 'Confirm that in regards of firmware no difference if its a V1.0 or V1.5'},\n",
       "      {'created_time': '2017-12-31T22:07:23+0000',\n",
       "       'from': {'id': '779621572091293', 'name': 'Fernando Averaldo'},\n",
       "       'id': '1684148321605990',\n",
       "       'message': 'I have a 1.5 and just flashed marlin no issues.. just replace the 2 files caled configurarion.h and configuration_adv.h in the main marlin folder. The 2 files for anet a8 are in the examples>anet>a8 folder.'},\n",
       "      {'created_time': '2018-01-01T17:13:28+0000',\n",
       "       'from': {'id': '781660025207667', 'name': 'Yannic Bro'},\n",
       "       'id': '1685015938185895',\n",
       "       'message': 'Happy new year everybody! Do I need to change the source code somewhere else as long as I have a stock A8? Or can I just start printing after flashing?'}],\n",
       "     'paging': {'cursors': {'after': 'WTI5dGJXVnVkRjlqZAFhKemIzSTZANVFk0TlRBeE5Ua3pPREU0TlRnNU5Ub3hOVEUwT0RJMk9EQTUZD',\n",
       "       'before': 'WTI5dGJXVnVkRjlqZAFhKemIzSTZANVFk0TXpBME5EZAzVPRE00TWprNU9Ub3hOVEUwTmpjeU5EQTMZD'}}},\n",
       "    'id': '1068531466501015_1683044398383049',\n",
       "    'message': 'Hi...\\n\\nI was thinking about updating my A8 to Marlin or Skynet for Autoleveling etc. Sadly I only could find tutorials to update an A8 with Mainboard v1.0. My one is version 1.5 right?\\nAre there any good tutorials to update an v1.5 Mainboard?\\nI a new wiring necessary after updating?\\n\\nThank you for your help!'},\n",
       "   {'comments': {'data': [{'created_time': '2018-01-02T03:29:52+0000',\n",
       "       'from': {'id': '10201739937212991', 'name': 'Christopher Sanchez'},\n",
       "       'id': '1685456274808528',\n",
       "       'message': 'You can set the support resolution and how many layers it connects to the supports.'},\n",
       "      {'created_time': '2018-01-02T04:44:11+0000',\n",
       "       'from': {'id': '1054537821226011', 'name': 'Randal Charles Zimmer'},\n",
       "       'id': '1685500454804110',\n",
       "       'message': 'https://www.simplify3d.com/support/print-quality-troubleshooting/#poor-surface-above-supports'},\n",
       "      {'created_time': '2018-01-02T07:33:46+0000',\n",
       "       'from': {'id': '1775674525988552', 'name': 'Bruce Barton'},\n",
       "       'id': '1685593498128139',\n",
       "       'message': 'Separation distance may help'}],\n",
       "     'paging': {'cursors': {'after': 'WTI5dGJXVnVkRjlqZAFhKemIzSTZANVFk0TlRVNU16UTVPREV5T0RFek9Ub3hOVEUwT0RjNE5ESTIZD',\n",
       "       'before': 'WTI5dGJXVnVkRjlqZAFhKemIzSTZANVFk0TlRRMU5qSTNORGd3T0RVeU9Eb3hOVEUwT0RZAek56a3kZD'}}},\n",
       "    'id': '1068531466501015_1685449648142524',\n",
       "    'message': 'I am trying to use s3d program and is working well but the supports are sticking to model and messing up the model surface. \\n\\nDoes anybody have some settings to help me with s3d and supports. \\n\\nI am using PLA at 195 and bed of 60.\\nThe bed needs to be turned on or the model breaks away.'},\n",
       "   {'comments': {'data': [{'created_time': '2018-01-02T06:28:28+0000',\n",
       "       'from': {'id': '10202711409460782', 'name': 'Saverio Murgia'},\n",
       "       'id': '1685564998130989',\n",
       "       'message': \"It can, if you change nozzle. With the stock one (0.4mm) it's best not to go above 0.32mm\"},\n",
       "      {'created_time': '2018-01-02T06:31:50+0000',\n",
       "       'from': {'id': '1099051343442680', 'name': 'Russell Conner'},\n",
       "       'id': '1685566301464192',\n",
       "       'message': 'Or do you mean layer height of .05mm?\\n\\nBecause it can do that.'},\n",
       "      {'created_time': '2018-01-02T06:49:38+0000',\n",
       "       'from': {'id': '989179767774409', 'name': 'Joseph Colehour'},\n",
       "       'id': '1685573544796801',\n",
       "       'message': \"Shouldn't go any more than 1/4 of your nozzle diameter. So if you're running a .40 nozzle, the lowest you should go for layer height is .10 mm. If you're running a .20 nozzle, you can go as low as .05!\"},\n",
       "      {'created_time': '2018-01-02T07:18:47+0000',\n",
       "       'from': {'id': '883728795020214', 'name': 'Zac Alsobrooks'},\n",
       "       'id': '1685586208128868',\n",
       "       'message': 'Even with a .2 nozzle I’ve encountered many problems with anything below .07. I would not advise.'},\n",
       "      {'created_time': '2018-01-02T07:20:51+0000',\n",
       "       'from': {'id': '989179767774409', 'name': 'Joseph Colehour'},\n",
       "       'id': '1685586991462123',\n",
       "       'message': \"Interesting. I haven't had any issues with that. I run .1 with my .4, and .05 with my .2. I use the .2 for detailed stuff that's really small. I make a lot of gaming miniatures for fantasy RPG gaming.\"},\n",
       "      {'created_time': '2018-01-02T07:26:37+0000',\n",
       "       'from': {'id': '1201227509902416', 'name': 'Michael Noble'},\n",
       "       'id': '1685589634795192',\n",
       "       'message': \"The resolution of the stepper motors is such that the vertical movement has 0.04mm resolution. You should choose a multiple of that for layer height (I wouldn't got less than 0.08mm).\"}],\n",
       "     'paging': {'cursors': {'after': 'WTI5dGJXVnVkRjlqZAFhKemIzSTZANVFk0TlRVNE9UWXpORGM1TlRFNU1qb3hOVEUwT0RjM09UazMZD',\n",
       "       'before': 'WTI5dGJXVnVkRjlqZAFhKemIzSTZANVFk0TlRVMk5EazVPREV6TURrNE9Ub3hOVEUwT0RjME5UQTQZD'}}},\n",
       "    'id': '1068531466501015_1685564021464420',\n",
       "    'message': 'Can the a8 print at 0.05 layer height'},\n",
       "   {'comments': {'data': [{'created_time': '2018-01-02T02:50:23+0000',\n",
       "       'from': {'id': '621693261242429', 'name': 'Rudy Benner'},\n",
       "       'id': '1685435374810618',\n",
       "       'message': 'The dark side.'},\n",
       "      {'created_time': '2018-01-02T02:55:26+0000',\n",
       "       'from': {'id': '444972855693741', 'name': 'Nige Cook'},\n",
       "       'id': '1685438818143607',\n",
       "       'message': 'Hi Leandra. Configuring Linux distributions for an Anet A8 may be beyond the support provided here. I suggest a Raspberry Pi and running OctoPI. I can assure you that running a Linux distribution on any machine, and controlling the Anet A8 is doable. I have used many Linux distributions in the past and they are able to control a 3D printer and slice with Cura etc.'},\n",
       "      {'created_time': '2018-01-02T02:59:04+0000',\n",
       "       'from': {'id': '10153461309388852', 'name': 'Bengineer Cooper'},\n",
       "       'id': '1685441168143372',\n",
       "       'message': 'If you’re new to Linux then start with Linux Mint instead of Ubuntu'},\n",
       "      {'created_time': '2018-01-02T02:59:34+0000',\n",
       "       'from': {'id': '10152716767213131', 'name': 'Diego Hernandez'},\n",
       "       'id': '1685441364810019',\n",
       "       'message': \"Where did you buy it?  I'm about to buy mine tomorrow, but not sure where\"},\n",
       "      {'created_time': '2018-01-02T03:18:50+0000',\n",
       "       'from': {'id': '198849940547931', 'name': 'Bo Miller'},\n",
       "       'id': '1685451184809037',\n",
       "       'message': 'As someone who got Ubuntu up and running on an old Dell PowerEdge server, only to find Ubuntu no longer supported AMD GPUs for the GUI, I can tell you,  configuration is no easy task, if you’ve never worked with Ubuntu before...'},\n",
       "      {'created_time': '2018-01-02T03:22:56+0000',\n",
       "       'from': {'id': '858296107529208', 'name': 'Brian Compton'},\n",
       "       'id': '1685453024808853',\n",
       "       'message': 'Ultimate USB boot, load Ubuntu Mate on it thru pendrive, you can even is tall octoprint to it and print remotely'},\n",
       "      {'created_time': '2018-01-02T03:55:12+0000',\n",
       "       'from': {'id': '1554485514575947', 'name': 'Jimmy Urbanski'},\n",
       "       'id': '1685469411473881',\n",
       "       'message': 'Wait a minute..... All flavors of Linux are free except for enterprise versions and Res Hat. Fresh install should work from a nuked fresh HDD or SSD.??? Explain???'}],\n",
       "     'paging': {'cursors': {'after': 'WTI5dGJXVnVkRjlqZAFhKemIzSTZANVFk0TlRRMk9UUXhNVFEzTXpnNE1Ub3hOVEUwT0RZAMU16RXkZD',\n",
       "       'before': 'WTI5dGJXVnVkRjlqZAFhKemIzSTZANVFk0TlRRek5UTTNORGd4TURZAeE9Eb3hOVEUwT0RZAeE5ESXoZD'}}},\n",
       "    'id': '1068531466501015_1685434098144079',\n",
       "    'message': 'Just ordered my Anet A8. Going to use it with Cura on a Linux machine\\n\\ni want to run it in the home office hooked up to an old desktop running linux. Anyone have experience running linux? I am stuck. I downloaded Ubuntu but the computer will not boot off the DVD. So now resorting to Debian, but it\\'s telling me to use a \"bittorrent\" or something like that. can someone help guide me to the setup. i have been googling for hours and keep getting stuck at various points\\n\\nI am on this stupid page, what the hell does it mean? what is it that I should put on a damn DVD to boot and install it on my new SSD hard drive?\\n'},\n",
       "   {'comments': {'data': [{'created_time': '2018-01-02T07:12:56+0000',\n",
       "       'from': {'id': '1625410780808403', 'name': 'Miklós Fülöp'},\n",
       "       'id': '1685583601462462',\n",
       "       'message': 'Üdv, boldog új esztendőt!  Neked elég stabil a gép váza ahhoz, hogy oda fel tetted a nyersanyagot?'}],\n",
       "     'paging': {'cursors': {'after': 'WTI5dGJXVnVkRjlqZAFhKemIzSTZANVFk0TlRVNE16WXdNVFEyTWpRMk1qb3hOVEUwT0RjM01UYzIZD',\n",
       "       'before': 'WTI5dGJXVnVkRjlqZAFhKemIzSTZANVFk0TlRVNE16WXdNVFEyTWpRMk1qb3hOVEUwT0RjM01UYzIZD'}}},\n",
       "    'id': '1068531466501015_1685012208186268',\n",
       "    'message': 'Hallo everybody. First i wish Happy new year for all. I introduce my anet A8 and my work today. By 😎😄'},\n",
       "   {'comments': {'data': [{'created_time': '2018-01-01T19:22:41+0000',\n",
       "       'from': {'id': '10153383823254992', 'name': 'Ben Copeland'},\n",
       "       'id': '1685108158176673',\n",
       "       'message': 'You’ll have to cut out the back section to clear the rear motor.'},\n",
       "      {'created_time': '2018-01-01T19:23:18+0000',\n",
       "       'from': {'id': '1032203190127021', 'name': 'John Whitlock'},\n",
       "       'id': '1685108681509954',\n",
       "       'message': 'This will probably not work on a A8 because of the position of the \"Y\" motor. There is another version with a deeper recess'},\n",
       "      {'created_time': '2018-01-01T19:23:32+0000',\n",
       "       'from': {'id': '1495325497198309', 'name': 'Tarık Memil'},\n",
       "       'id': '1685108848176604',\n",
       "       'message': 'is it not enough?'},\n",
       "      {'created_time': '2018-01-01T19:24:44+0000',\n",
       "       'from': {'id': '10153383823254992', 'name': 'Ben Copeland'},\n",
       "       'id': '1685109691509853',\n",
       "       'message': 'https://reprapchampion.com/products/anet-a8-a6-3d-printer-upgrade-y-carriage-anodized-aluminum-plate'},\n",
       "      {'created_time': '2018-01-01T19:24:56+0000',\n",
       "       'from': {'id': '1495325497198309', 'name': 'Tarık Memil'},\n",
       "       'id': '1685109858176503',\n",
       "       'message': 'You can see my bended plate'},\n",
       "      {'created_time': '2018-01-01T19:30:12+0000',\n",
       "       'from': {'id': '10209338262243864', 'name': 'Seth Gibbons'},\n",
       "       'id': '1685112918176197',\n",
       "       'message': 'I bought one similar to your original post originally...made 10mm spacers in fusion and printed them...worked fin but lost some z height. When I changed over to AM8 I bought one with the cutout and ditched the spacers. Both were much better that stock. And both worked perfectly fine.'},\n",
       "      {'created_time': '2018-01-01T20:05:43+0000',\n",
       "       'from': {'id': '10206539984449059', 'name': 'Dane Austin'},\n",
       "       'id': '1685136484840507',\n",
       "       'message': 'I have this one'},\n",
       "      {'created_time': '2018-01-01T21:57:00+0000',\n",
       "       'from': {'id': '1144535235560811', 'name': 'Donald Ball'},\n",
       "       'id': '1685208058166683',\n",
       "       'message': 'I’m with bill and Dane ,installed this carriage yesterday and love it ,'},\n",
       "      {'created_time': '2018-01-02T07:02:37+0000',\n",
       "       'from': {'id': '1400517296699578', 'name': 'Richard Myers'},\n",
       "       'id': '1685578631462959',\n",
       "       'message': '100% WORTH IT!'}],\n",
       "     'paging': {'cursors': {'after': 'WTI5dGJXVnVkRjlqZAFhKemIzSTZANVFk0TlRVM09EWXpNVFEyTWprMU9Ub3hOVEUwT0RjMk5UVTQZD',\n",
       "       'before': 'WTI5dGJXVnVkRjlqZAFhKemIzSTZANVFk0TlRFd09ERTFPREUzTmpZAM016b3hOVEUwT0RNME5UWXgZD'}}},\n",
       "    'id': '1068531466501015_1685107034843452',\n",
       "    'message': 'Anyone use this? is it worth it? (on ANET A8)'},\n",
       "   {'comments': {'data': [{'created_time': '2018-01-02T06:32:43+0000',\n",
       "       'from': {'id': '10152931775568729', 'name': 'Shane Weeks'},\n",
       "       'id': '1685567144797441',\n",
       "       'message': \"Wows that super cool!  I'm going to have to do something like that for my 10yr.\"},\n",
       "      {'created_time': '2018-01-02T06:58:59+0000',\n",
       "       'from': {'id': '10206945870472906', 'name': 'Travis Paulson'},\n",
       "       'id': '1685576788129810',\n",
       "       'message': 'cool how did you make cover'}],\n",
       "     'paging': {'cursors': {'after': 'WTI5dGJXVnVkRjlqZAFhKemIzSTZANVFk0TlRVM05qYzRPREV5T1RneE1Eb3hOVEUwT0RjMk16UXcZD',\n",
       "       'before': 'WTI5dGJXVnVkRjlqZAFhKemIzSTZANVFk0TlRVMk56RTBORGM1TnpRME1Ub3hOVEUwT0RjME56WXoZD'}}},\n",
       "    'id': '1068531466501015_1685561368131352',\n",
       "    'message': \"This was one of my favourite projects of the year. It's a night light that I made for some friends that had a baby boy, and the dad is big into superman. They absolutely love this night light.\\n\\nThe night light automatically turns on when it starts to get dark, and I design the base in sketchup and did the led work myself. It uses next to nothing for power as its only one led lighting it up at night. And there is a switch in the bottom to change it from either the RGB cycle or to the nice steady green color.\"},\n",
       "   {'comments': {'data': [{'created_time': '2018-01-02T01:44:16+0000',\n",
       "       'from': {'id': '10153373420747065', 'name': 'Jonathan Adams'},\n",
       "       'id': '1685387321482090',\n",
       "       'message': 'Cat attack. Mine will just want to live in the box, last big box i got it moved in for 2 months !'},\n",
       "      {'created_time': '2018-01-02T01:46:28+0000',\n",
       "       'from': {'id': '10152188420889807', 'name': 'John Jolliff'},\n",
       "       'id': '1685389654815190',\n",
       "       'message': 'It is a rather fun thing to build  I am just about to  put in the power supply after a cumulative 6 hours on it since Christmas day  But The snow has made my week very busy plowing  so i can buy other things now  :>'},\n",
       "      {'created_time': '2018-01-02T03:20:22+0000',\n",
       "       'from': {'id': '1691388544407887', 'name': 'Eric Bowden'},\n",
       "       'id': '1685451908142298',\n",
       "       'message': \"Page one and 1st error I think. Pillar should be washer maybe?? The Plastic pillars don't fit anywhere here and I can't see anywhere else that uses the M5 washers.   M5 washer for every Header Corner hole would make more sense.\"},\n",
       "      {'created_time': '2018-01-02T05:29:12+0000',\n",
       "       'from': {'id': '10203047752381957', 'name': 'Dallas Pass'},\n",
       "       'id': '1685526251468197',\n",
       "       'message': 'With a  last name like that, you will fit in great around here :D When do you plan to move to a bowden setup :D'},\n",
       "      {'created_time': '2018-01-02T05:54:42+0000',\n",
       "       'from': {'id': '126828211087493', 'name': 'Levi Blatchford'},\n",
       "       'id': '1685538244800331',\n",
       "       'message': 'the cat is more excited than you, about the box you ordered'},\n",
       "      {'created_time': '2018-01-02T06:08:30+0000',\n",
       "       'from': {'id': '1691388544407887', 'name': 'Eric Bowden'},\n",
       "       'id': '1685548768132612',\n",
       "       'message': 'Instructions - error #2.. The wheel now needs to be in the top screw hole as the plate is now lower in the supplied design. The cog on the motor on the new plate aligns with the hole on frame so the wheel needs to be raised to be in line with the hotplate bogey.'},\n",
       "      {'created_time': '2018-01-02T06:56:10+0000',\n",
       "       'from': {'id': '1691388544407887', 'name': 'Eric Bowden'},\n",
       "       'id': '1685575701463252',\n",
       "       'message': 'Error #3      The graphic illustration and build guide are not same as photo illustrations.'},\n",
       "      {'created_time': '2018-01-02T06:56:40+0000',\n",
       "       'from': {'id': '1691388544407887', 'name': 'Eric Bowden'},\n",
       "       'id': '1685575981463224',\n",
       "       'message': 'reversed'},\n",
       "      {'created_time': '2018-01-02T06:58:50+0000',\n",
       "       'from': {'id': '1691388544407887', 'name': 'Eric Bowden'},\n",
       "       'id': '1685576764796479',\n",
       "       'message': 'Nearly everything gets flipped in the photos..  Well confusing...'}],\n",
       "     'paging': {'cursors': {'after': 'WTI5dGJXVnVkRjlqZAFhKemIzSTZANVFk0TlRVM05qYzJORGM1TmpRM09Ub3hOVEUwT0RjMk16TXcZD',\n",
       "       'before': 'WTI5dGJXVnVkRjlqZAFhKemIzSTZANVFk0TlRNNE56TXlNVFE0TWpBNU1Eb3hOVEUwT0RVM05EVTIZD'}}},\n",
       "    'id': '1068531466501015_1685383284815827',\n",
       "    'message': 'Now the fun and games begin......'},\n",
       "   {'comments': {'data': [{'created_time': '2018-01-02T06:56:31+0000',\n",
       "       'from': {'id': '763198687062005', 'name': 'Denis Vajak'},\n",
       "       'id': '1685575831463239',\n",
       "       'message': 'Use more wall shells. If that doesn’t help, you can select the option to print the walls before the infill.'}],\n",
       "     'paging': {'cursors': {'after': 'WTI5dGJXVnVkRjlqZAFhKemIzSTZANVFk0TlRVM05UZA3pNVFEyTXpJek9Ub3hOVEUwT0RjMk1Ua3kZD',\n",
       "       'before': 'WTI5dGJXVnVkRjlqZAFhKemIzSTZANVFk0TlRVM05UZA3pNVFEyTXpJek9Ub3hOVEUwT0RjMk1Ua3kZD'}}},\n",
       "    'id': '1068531466501015_1685560601464762',\n",
       "    'message': \"Getting vertical ridges on my walls which I'm sure is being caused by the infill as they line up exacrly. Are there settings in Cura to minimize? Or should I just use a different pattern(currently using Grid). Ridges look bad but aside from being visible, you barely feel them when you touch it.\"},\n",
       "   {'comments': {'data': [{'created_time': '2018-01-02T06:37:55+0000',\n",
       "       'from': {'id': '10152686681517658', 'name': 'Nicholas Chappell'},\n",
       "       'id': '1685569438130545',\n",
       "       'message': '8mm I reckon'},\n",
       "      {'created_time': '2018-01-02T06:46:27+0000',\n",
       "       'from': {'id': '1099051343442680', 'name': 'Russell Conner'},\n",
       "       'id': '1685572424796913',\n",
       "       'message': \"If you don't have a micrometer, it should be on your list of useful things.\"}],\n",
       "     'paging': {'cursors': {'after': 'WTI5dGJXVnVkRjlqZAFhKemIzSTZANVFk0TlRVM01qUXlORGM1TmpreE16b3hOVEUwT0RjMU5UZAzQZD',\n",
       "       'before': 'WTI5dGJXVnVkRjlqZAFhKemIzSTZANVFk0TlRVMk9UUXpPREV6TURVME5Ub3hOVEUwT0RjMU1EYzEZD'}}},\n",
       "    'id': '1068531466501015_1685560924798063',\n",
       "    'message': \"what's the diameter of X and Y smooth rod?\\nThanks!\"},\n",
       "   {'comments': {'data': [{'created_time': '2018-01-02T05:19:38+0000',\n",
       "       'from': {'id': '922223964455293', 'name': 'Matt Johnson'},\n",
       "       'id': '1685521998135289',\n",
       "       'message': ''},\n",
       "      {'created_time': '2018-01-02T05:59:45+0000',\n",
       "       'from': {'id': '1775674525988552', 'name': 'Bruce Barton'},\n",
       "       'id': '1685544461466376',\n",
       "       'message': 'Pic of the main board?'},\n",
       "      {'created_time': '2018-01-02T06:26:59+0000',\n",
       "       'from': {'id': '922223964455293', 'name': 'Matt Johnson'},\n",
       "       'id': '1685564261464396',\n",
       "       'message': ''},\n",
       "      {'created_time': '2018-01-02T06:49:14+0000',\n",
       "       'from': {'id': '1775674525988552', 'name': 'Bruce Barton'},\n",
       "       'id': '1685573421463480',\n",
       "       'message': 'Looks like a MKS clone. Similar to https://m.ebay.com/itm/Controller-Board-MKS-Gen-V1-4-Plus-On-Board-Stepper-Drivers-3D-Printer-RepRap-/252669197068?_mwBanner=1'},\n",
       "      {'created_time': '2018-01-02T06:50:26+0000',\n",
       "       'from': {'id': '1775674525988552', 'name': 'Bruce Barton'},\n",
       "       'id': '1685573854796770',\n",
       "       'message': \"I'd be careful without proper identification, but my guess is it's an 2560 with MKS pinouts\"},\n",
       "      {'created_time': '2018-01-02T06:55:08+0000',\n",
       "       'from': {'id': '1775674525988552', 'name': 'Bruce Barton'},\n",
       "       'id': '1685575394796616',\n",
       "       'message': \"Likely you can load Marlin on it using Arduino. There are other firmwares out there, but Marlin will likely be your best option for the board. \\n\\nI'm curious as to why you want to upgrade though? Is there a specific reason or issue?\"}],\n",
       "     'paging': {'cursors': {'after': 'WTI5dGJXVnVkRjlqZAFhKemIzSTZANVFk0TlRVM05UTTVORGM1TmpZAeE5qb3hOVEUwT0RjMk1UQTUZD',\n",
       "       'before': 'WTI5dGJXVnVkRjlqZAFhKemIzSTZANVFk0TlRVeU1UazVPREV6TlRJNE9Ub3hOVEUwT0Rjd016YzUZD'}}},\n",
       "    'id': '1068531466501015_1685520458135443',\n",
       "    'message': 'Can anyone help me identify my new 3D printer.  It’s sold as a coreI3 by pxmalion. Really want to see if there is a update for the firmware'},\n",
       "   {'comments': {'data': [{'created_time': '2018-01-02T00:05:03+0000',\n",
       "       'from': {'id': '10101731701104156', 'name': 'Bradley Davis'},\n",
       "       'id': '1685323581488464',\n",
       "       'message': 'I like this for so many reasons...'},\n",
       "      {'created_time': '2018-01-02T00:08:29+0000',\n",
       "       'from': {'id': '10205547062262840', 'name': 'Eddie Vice'},\n",
       "       'id': '1685326504821505',\n",
       "       'message': \"I don't know that I'd recommend it. Axis precision is already pretty good, and while gearing it down will theoretically make it better, in practical terms I think you'll mostly just get frustrated at having to print slower. Maybe not if you upgraded the stepper drivers, to ones that could run higher speeds, but I'd do that first and see if you still feel any need to go further (I'm switching to TMC2130s soon)\"},\n",
       "      {'created_time': '2018-01-02T00:12:50+0000',\n",
       "       'from': {'id': '803891909633297', 'name': 'Colin Knightley'},\n",
       "       'id': '1685330661487756',\n",
       "       'message': 'direct drive with high quality parts is still the way to go imo. you avoid parasitic losses, simplify the assembly reducing failure points, and reduces play in the system. this would work with lower quality steppers and motors but id rather pay more for a less compromising machine'},\n",
       "      {'created_time': '2018-01-02T00:14:00+0000',\n",
       "       'from': {'id': '10152683667359764', 'name': 'Ken Landau'},\n",
       "       'id': '1685331241487698',\n",
       "       'message': 'Definitely looks like a turn ratio reduction but I’m not sure why. Many people would wrongly suspect that it can have a negative blacklash effect but I’d suspect it does not. It may ease some of the burden on the motor but I’m not sure.'},\n",
       "      {'created_time': '2018-01-02T00:18:41+0000',\n",
       "       'from': {'id': '754928444541153', 'name': 'Kenneth Ezzell'},\n",
       "       'id': '1685333744820781',\n",
       "       'message': \"Ok...what's the point? What's the pros?\"},\n",
       "      {'created_time': '2018-01-02T00:25:53+0000',\n",
       "       'from': {'id': '10200310540682591', 'name': 'Matt Ryan'},\n",
       "       'id': '1685337988153690',\n",
       "       'message': \"Higher resolution of the y axis as it's geared.never seen this though.\"},\n",
       "      {'created_time': '2018-01-02T00:30:32+0000',\n",
       "       'from': {'id': '1415677015370197', 'name': 'John Lannigan'},\n",
       "       'id': '1685344218153067',\n",
       "       'message': 'Then why not just replace with a geared stepper motor?'},\n",
       "      {'created_time': '2018-01-02T00:48:02+0000',\n",
       "       'from': {'id': '10205878129024077', 'name': 'Trenton J Wilson'},\n",
       "       'id': '1685354324818723',\n",
       "       'message': 'pros is that more effort from the bed to force miss steps on the stepper motor is required'},\n",
       "      {'created_time': '2018-01-02T00:59:30+0000',\n",
       "       'from': {'id': '1058252124249649', 'name': 'Michael Haller'},\n",
       "       'id': '1685360784818077',\n",
       "       'message': 'I love this. It’s how all stepper motors should be connected. This way the bearings of the stepper are not stressed as much. One other advantage is it’s possible to get higher resolution of the axis it’s being utilized for.'},\n",
       "      {'created_time': '2018-01-02T01:04:48+0000',\n",
       "       'from': {'id': '10201805514738024', 'name': 'Viktor Silivanov'},\n",
       "       'id': '1685363824817773',\n",
       "       'message': \"Everyone is very knowledgeable, but I still don't know what items are used to make this. I'm less concerned with what's wrong with this or what's better. I want to attempt it for the learning experience. We're makers after all.\"},\n",
       "      {'created_time': '2018-01-02T01:29:06+0000',\n",
       "       'from': {'id': '786240671395302', 'name': 'Robert Panco'},\n",
       "       'id': '1685377461483076',\n",
       "       'message': 'If you don’t care about the gear reduction, and only taking strain off the motor bearings, why not just add an extension to the motor shaft and support it with bearings? Keeping the direct drive and adding more support'},\n",
       "      {'created_time': '2018-01-02T01:32:42+0000',\n",
       "       'from': {'id': '786240671395302', 'name': 'Robert Panco'},\n",
       "       'id': '1685379088149580',\n",
       "       'message': 'https://m.ebay.com/itm/3D-Printer-GT2-60T-15T-Belt-6mm-Timing-Pulley-Belt-set-kit-Reduction-Ratio-4-1-/141950054074?_mwBanner=1'},\n",
       "      {'created_time': '2018-01-02T06:22:32+0000',\n",
       "       'from': {'id': '10205500481408534', 'name': 'Henry Qiu'},\n",
       "       'id': '1685561984797957',\n",
       "       'message': 'What’s the ratio?'}],\n",
       "     'paging': {'cursors': {'after': 'WTI5dGJXVnVkRjlqZAFhKemIzSTZANVFk0TlRVMk1UazRORGM1TnprMU56b3hOVEUwT0RjME1UVXkZD',\n",
       "       'before': 'WTI5dGJXVnVkRjlqZAFhKemIzSTZANVFk0TlRNeU16VTRNVFE0T0RRMk5Eb3hOVEUwT0RVeE5UQXoZD'}}},\n",
       "    'id': '1068531466501015_1685322814821874',\n",
       "    'message': \"Saw this in another group and I'd like to replicate it. Can anyone point me in the right direction?\"}],\n",
       "  'paging': {'next': 'https://graph.facebook.com/v2.11/1068531466501015/feed?fields=comments,message&access_token=EAACEdEose0cBAI9dCvRVleoI3NaZASzPNcxFaooKUydwe4jLeUK6qwrcfcRjFTZBzwozpY6x0de8P2elB5ClhbqV0gFBZBM3MAQ5ZCnnxKP3arzBRwzEpcey2J7wJpjUnPA6bs6k5xUgx85hhJazZAHGnheFQkzrTpP0QBDnB86qcL4gg1LENRd39VFEbBJzEkoMtUZC4TEwZDZD&limit=25&until=1514876103&__paging_token=enc_AdBb2uzOZBYUrVMxmBgb5uwOoeRq8H0vN1ZB5TRpfxl7N93mjNlQ6DCpt7SkhmKP2YKpZCOsDR0CZCRhatdOENNeyAtfBJa0vfZA4O04Cobwr8MgSygZDZD',\n",
       "   'previous': 'https://graph.facebook.com/v2.11/1068531466501015/feed?fields=comments,message&since=1514881049&access_token=EAACEdEose0cBAI9dCvRVleoI3NaZASzPNcxFaooKUydwe4jLeUK6qwrcfcRjFTZBzwozpY6x0de8P2elB5ClhbqV0gFBZBM3MAQ5ZCnnxKP3arzBRwzEpcey2J7wJpjUnPA6bs6k5xUgx85hhJazZAHGnheFQkzrTpP0QBDnB86qcL4gg1LENRd39VFEbBJzEkoMtUZC4TEwZDZD&limit=25&__paging_token=enc_AdD2ZBOO1yc6REyCBscpvkQ7lnZB6EgfclSvpTM456Y2HGZAHmLCl5eB62heLtBZCZCkyxeZBsfanALZAERU7OEKYAcE6jPn86LDzkUQGXnd3JqfQNf1QZDZD&__previous=1'}},\n",
       " 'id': '1068531466501015'}"
      ]
     },
     "execution_count": 340,
     "metadata": {},
     "output_type": "execute_result"
    }
   ],
   "source": [
    "resp.json()"
   ]
  },
  {
   "cell_type": "markdown",
   "metadata": {},
   "source": [
    "# 瀏覽器自動化\n",
    "\n",
    "chromedriver\n",
    "\n",
    "https://chromedriver.storage.googleapis.com/index.html?path=2.34/\n",
    "\n",
    "打開Terminal\n",
    "```bash\n",
    "cp Downloads/chromedriver /usr/local/bin/\n",
    "```"
   ]
  },
  {
   "cell_type": "code",
   "execution_count": 341,
   "metadata": {},
   "outputs": [
    {
     "name": "stdout",
     "output_type": "stream",
     "text": [
      "Requirement already satisfied: splinter in /Users/ian/.pyenv/versions/3.6.4/lib/python3.6/site-packages\r\n",
      "Requirement already satisfied: selenium>=3.4.3 in /Users/ian/.pyenv/versions/3.6.4/lib/python3.6/site-packages (from splinter)\r\n"
     ]
    }
   ],
   "source": [
    "!pip install splinter"
   ]
  },
  {
   "cell_type": "code",
   "execution_count": 343,
   "metadata": {},
   "outputs": [],
   "source": [
    "import splinter\n",
    "\n",
    "b = splinter.Browser('chrome')"
   ]
  },
  {
   "cell_type": "code",
   "execution_count": 344,
   "metadata": {},
   "outputs": [],
   "source": [
    "b.visit(\"https://airbnb.com\")"
   ]
  },
  {
   "cell_type": "code",
   "execution_count": 347,
   "metadata": {},
   "outputs": [],
   "source": [
    "button = b.find_by_xpath('//*[@id=\"site-content\"]/div[1]/div/div/div/div[2]/div/div/div/div/button')[0]"
   ]
  },
  {
   "cell_type": "code",
   "execution_count": 349,
   "metadata": {},
   "outputs": [],
   "source": [
    "button.click()"
   ]
  },
  {
   "cell_type": "code",
   "execution_count": 351,
   "metadata": {},
   "outputs": [],
   "source": [
    "b.fill('location', 'Paris\\n')"
   ]
  },
  {
   "cell_type": "code",
   "execution_count": 354,
   "metadata": {},
   "outputs": [],
   "source": [
    "homes = b.find_by_xpath('//*[@id=\"site-content\"]/div/div/div[2]/div/div/div[1]/div/div/div[2]/div/div/div[1]/button/div/div[1]/div/div/div')[0]"
   ]
  },
  {
   "cell_type": "code",
   "execution_count": 355,
   "metadata": {},
   "outputs": [],
   "source": [
    "homes.click()"
   ]
  },
  {
   "cell_type": "code",
   "execution_count": 356,
   "metadata": {},
   "outputs": [],
   "source": [
    "b.execute_script(\"console.log('hi bb105')\")"
   ]
  },
  {
   "cell_type": "code",
   "execution_count": 384,
   "metadata": {},
   "outputs": [],
   "source": [
    "b.execute_script(\"window.scrollBy(0,100)\")"
   ]
  },
  {
   "cell_type": "code",
   "execution_count": 385,
   "metadata": {},
   "outputs": [],
   "source": [
    "b.quit()"
   ]
  }
 ],
 "metadata": {
  "kernelspec": {
   "display_name": "Python 3",
   "language": "python",
   "name": "python3"
  },
  "language_info": {
   "codemirror_mode": {
    "name": "ipython",
    "version": 3
   },
   "file_extension": ".py",
   "mimetype": "text/x-python",
   "name": "python",
   "nbconvert_exporter": "python",
   "pygments_lexer": "ipython3",
   "version": "3.6.4"
  }
 },
 "nbformat": 4,
 "nbformat_minor": 2
}
