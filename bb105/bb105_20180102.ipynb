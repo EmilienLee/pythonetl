{
 "cells": [
  {
   "cell_type": "markdown",
   "metadata": {},
   "source": [
    "# 爬蟲複習"
   ]
  },
  {
   "cell_type": "code",
   "execution_count": 332,
   "metadata": {
    "scrolled": true
   },
   "outputs": [
    {
     "data": {
      "text/plain": [
       "['ConnectTimeout',\n",
       " 'ConnectionError',\n",
       " 'DependencyWarning',\n",
       " 'FileModeWarning',\n",
       " 'HTTPError',\n",
       " 'NullHandler',\n",
       " 'PreparedRequest',\n",
       " 'ReadTimeout',\n",
       " 'Request',\n",
       " 'RequestException',\n",
       " 'RequestsDependencyWarning',\n",
       " 'Response',\n",
       " 'Session',\n",
       " 'Timeout',\n",
       " 'TooManyRedirects',\n",
       " 'URLRequired',\n",
       " '__author__',\n",
       " '__author_email__',\n",
       " '__build__',\n",
       " '__builtins__',\n",
       " '__cached__',\n",
       " '__cake__',\n",
       " '__copyright__',\n",
       " '__description__',\n",
       " '__doc__',\n",
       " '__file__',\n",
       " '__license__',\n",
       " '__loader__',\n",
       " '__name__',\n",
       " '__package__',\n",
       " '__path__',\n",
       " '__spec__',\n",
       " '__title__',\n",
       " '__url__',\n",
       " '__version__',\n",
       " '_internal_utils',\n",
       " 'adapters',\n",
       " 'api',\n",
       " 'auth',\n",
       " 'certs',\n",
       " 'chardet',\n",
       " 'check_compatibility',\n",
       " 'codes',\n",
       " 'compat',\n",
       " 'cookies',\n",
       " 'delete',\n",
       " 'exceptions',\n",
       " 'get',\n",
       " 'head',\n",
       " 'hooks',\n",
       " 'logging',\n",
       " 'models',\n",
       " 'options',\n",
       " 'packages',\n",
       " 'patch',\n",
       " 'post',\n",
       " 'put',\n",
       " 'request',\n",
       " 'session',\n",
       " 'sessions',\n",
       " 'status_codes',\n",
       " 'structures',\n",
       " 'urllib3',\n",
       " 'utils',\n",
       " 'warnings']"
      ]
     },
     "execution_count": 332,
     "metadata": {},
     "output_type": "execute_result"
    }
   ],
   "source": [
    "import requests\n",
    "\n",
    "dir(requests)"
   ]
  },
  {
   "cell_type": "code",
   "execution_count": null,
   "metadata": {},
   "outputs": [],
   "source": [
    "# shift-tab\n",
    "#\n",
    "requests.options()"
   ]
  },
  {
   "cell_type": "code",
   "execution_count": 147,
   "metadata": {},
   "outputs": [
    {
     "data": {
      "text/plain": [
       "'<!DOCTYPE html>\\n<html>\\n\\t<head>\\n\\t\\t<meta charset=\"utf-8\">\\n\\t\\t\\n\\n<meta name=\"viewport\" content=\"width=device-width, initial-scale=1\">\\n\\n<title>批踢踢實業坊</title>\\n\\n<link rel=\"stylesheet\" type=\"text/css\" href=\"//images.ptt.cc/bbs/v2.22/bbs-common.css\">\\n<link rel=\"stylesheet\" type=\"text/css\" href=\"//images.ptt.cc/bbs/v2.22/bbs-base.css\" media=\"screen\">\\n<link rel=\"stylesheet\" type=\"text/css\" href=\"//images.ptt.cc/bbs/v2.22/bbs-custom.css\">\\n<link rel=\"stylesheet\" type=\"text/css\" href=\"//images.ptt.cc/bbs/v2.22/pushstream.css\" media=\"screen\">\\n<link rel=\"stylesheet\" type=\"text/css\" href=\"//images.ptt.cc/bbs/v2.22/bbs-print.css\" media=\"print\">\\n\\n\\n\\n\\n\\t</head>\\n    <body>\\n\\t\\t\\n<div class=\"bbs-screen bbs-content\">\\n    <div class=\"over18-notice\">\\n        <p>本網站已依網站內容分級規定處理</p>\\n\\n        <p>警告︰您即將進入之看板內容需滿十八歲方可瀏覽。</p>\\n\\n        <p>若您尚未年滿十八歲，請點選離開。若您已滿十八歲，亦不可將本區之內容派發、傳閱、出售、出租、交給或借予年齡未滿18歲的人士瀏覽，或將本網站內容向該人士出示、播放或放映。</p>\\n    </div>\\n</div>\\n\\n<div class=\"bbs-screen bbs-content center clear\">\\n    <form action=\"/ask/over18\" method=\"post\">\\n        <input type=\"hidden\" name=\"from\" value=\"/bbs/Gossiping/index.html\">\\n        <div class=\"over18-button-container\">\\n            <button class=\"btn-big\" type=\"submit\" name=\"yes\" value=\"yes\">我同意，我已年滿十八歲<br><small>進入</small></button>\\n        </div>\\n        <div class=\"over18-button-container\">\\n            <button class=\"btn-big\" type=\"submit\" name=\"no\" value=\"no\">未滿十八歲或不同意本條款<br><small>離開</small></button>\\n        </div>\\n    </form>\\n</div>\\n\\n\\t\\t\\n\\n<script>\\n  (function(i,s,o,g,r,a,m){i[\\'GoogleAnalyticsObject\\']=r;i[r]=i[r]||function(){\\n  (i[r].q=i[r].q||[]).push(arguments)},i[r].l=1*new Date();a=s.createElement(o),\\n  m=s.getElementsByTagName(o)[0];a.async=1;a.src=g;m.parentNode.insertBefore(a,m)\\n  })(window,document,\\'script\\',\\'https://www.google-analytics.com/analytics.js\\',\\'ga\\');\\n\\n  ga(\\'create\\', \\'UA-32365737-1\\', {\\n    cookieDomain: \\'ptt.cc\\',\\n    legacyCookieDomain: \\'ptt.cc\\'\\n  });\\n  ga(\\'send\\', \\'pageview\\');\\n</script>\\n\\n\\n\\t\\t\\n<script src=\"//ajax.googleapis.com/ajax/libs/jquery/2.1.1/jquery.min.js\"></script>\\n<script src=\"//images.ptt.cc/bbs/v2.22/bbs.js\"></script>\\n\\n    </body>\\n</html>\\n'"
      ]
     },
     "execution_count": 147,
     "metadata": {},
     "output_type": "execute_result"
    }
   ],
   "source": [
    "import requests\n",
    "\n",
    "URL = \"https://www.ptt.cc/bbs/Gossiping/index.html\"\n",
    "\n",
    "resp = requests.get(URL)\n",
    "resp.text"
   ]
  },
  {
   "cell_type": "markdown",
   "metadata": {},
   "source": [
    "## 仔細觀察瀏覽PTT八卦版的流程，並且打開開發者工具"
   ]
  },
  {
   "cell_type": "code",
   "execution_count": 150,
   "metadata": {},
   "outputs": [
    {
     "data": {
      "text/plain": [
       "'tn wide disabled\">下頁 &rsaquo;</a>\\n\\t\\t\\t\\t<a class=\"btn wide\" href=\"/bbs/Gossiping/index.html\">最新</a>\\n\\t\\t\\t</div>\\n\\t\\t</div>\\n\\t</div>\\n\\n\\t<div class=\"r-list-container action-bar-margin bbs-screen\">\\n\\t\\t\\n\\t\\t\\n            \\n        \\n        \\n\\t\\t<div class=\"r-ent\">\\n\\t\\t\\t<div class=\"nrec\"><span class=\"hl f2\">2</span></div>\\n\\t\\t\\t<div class=\"mark\"></div>\\n\\t\\t\\t<div class=\"title\">\\n\\t\\t\\t\\n\\t\\t\\t\\t<a href=\"/bbs/Gossiping/M.1514856317.A.'"
      ]
     },
     "execution_count": 150,
     "metadata": {},
     "output_type": "execute_result"
    }
   ],
   "source": [
    "import requests\n",
    "\n",
    "URL = \"https://www.ptt.cc/bbs/Gossiping/index.html\"\n",
    "\n",
    "custom_headers = {\n",
    "    \"cookie\": \"over18=1;\"\n",
    "}\n",
    "\n",
    "resp = requests.get(URL, headers=custom_headers)\n",
    "# resp.text\n",
    "resp.text[1500:1900]\n",
    "# 成功！"
   ]
  },
  {
   "cell_type": "markdown",
   "metadata": {},
   "source": [
    "## 思考一下PTT的換頁策略\n",
    "\n",
    "我們需要知道現在最新的頁面是多少\n",
    "\n",
    "![https://i.imgur.com/MBX0eET.png](https://i.imgur.com/MBX0eET.png)\n",
    "\n",
    "可以用上次的re模組撰寫regular express來取得"
   ]
  },
  {
   "cell_type": "code",
   "execution_count": 151,
   "metadata": {},
   "outputs": [
    {
     "data": {
      "text/plain": [
       "31066"
      ]
     },
     "execution_count": 151,
     "metadata": {},
     "output_type": "execute_result"
    }
   ],
   "source": [
    "import re\n",
    "\n",
    "import requests\n",
    "\n",
    "URL = \"https://www.ptt.cc/bbs/Gossiping/index.html\"\n",
    "\n",
    "custom_headers = {\n",
    "    \"cookie\": \"over18=1;\"\n",
    "}\n",
    "\n",
    "resp = requests.get(URL, headers=custom_headers)\n",
    "\n",
    "# 這個符號\n",
    "# ‹-> &lsaquo;\n",
    "total_page_cnt = int(re.findall('href=\"/bbs/Gossiping/index(\\d+).html\">&lsaquo; 上頁', resp.text)[0]) + 1\n",
    "\n",
    "total_page_cnt"
   ]
  },
  {
   "cell_type": "code",
   "execution_count": 60,
   "metadata": {},
   "outputs": [],
   "source": [
    "# 整理成function\n",
    "def get_total_page_cnt():\n",
    "    URL = \"https://www.ptt.cc/bbs/Gossiping/index.html\"\n",
    "\n",
    "    custom_headers = {\n",
    "        \"cookie\": \"over18=1;\"\n",
    "    }\n",
    "\n",
    "    resp = requests.get(URL, headers=custom_headers)\n",
    "\n",
    "    # 這個符號\n",
    "    # ‹-> &lsaquo;\n",
    "    total_page_cnt = int(re.findall('href=\"/bbs/Gossiping/index(\\d+).html\">&lsaquo; 上頁', resp.text)[0]) + 1\n",
    "    return total_page_cnt"
   ]
  },
  {
   "cell_type": "markdown",
   "metadata": {},
   "source": [
    "## 單頁爬蟲"
   ]
  },
  {
   "cell_type": "code",
   "execution_count": 181,
   "metadata": {},
   "outputs": [],
   "source": [
    "import re\n",
    "\n",
    "import requests\n",
    "\n",
    "def get_list_page(url):\n",
    "    \"\"\"爬取PTT列表頁面\n",
    "\n",
    "    Parameters\n",
    "    ----------\n",
    "    url : str\n",
    "        PTT列表頁UTL，\n",
    "        如：https://www.ptt.cc/bbs/Gossiping/index31063.html\n",
    "\n",
    "    Returns\n",
    "    -------\n",
    "    list\n",
    "        頁面上所有PTT內文URL\n",
    "    \"\"\"\n",
    "    HOST = \"https://www.ptt.cc\"\n",
    "    \n",
    "    custom_headers = {\n",
    "        \"cookie\": \"over18=1;\"\n",
    "    }\n",
    "\n",
    "    resp = requests.get(url, headers=custom_headers)\n",
    "    links = re.findall('<a href=\"(/bbs/Gossiping/M.+\\.html)\">.+</a>', resp.text)\n",
    "    detail_page_links = [HOST + link for link in links]\n",
    "    return detail_page_links"
   ]
  },
  {
   "cell_type": "code",
   "execution_count": 182,
   "metadata": {},
   "outputs": [
    {
     "data": {
      "text/plain": [
       "['https://www.ptt.cc/bbs/Gossiping/M.1514853038.A.F34.html',\n",
       " 'https://www.ptt.cc/bbs/Gossiping/M.1514853127.A.9F6.html',\n",
       " 'https://www.ptt.cc/bbs/Gossiping/M.1514853296.A.F08.html',\n",
       " 'https://www.ptt.cc/bbs/Gossiping/M.1514853353.A.8FF.html',\n",
       " 'https://www.ptt.cc/bbs/Gossiping/M.1514853368.A.FBF.html',\n",
       " 'https://www.ptt.cc/bbs/Gossiping/M.1514853479.A.935.html',\n",
       " 'https://www.ptt.cc/bbs/Gossiping/M.1514853502.A.C78.html',\n",
       " 'https://www.ptt.cc/bbs/Gossiping/M.1514853658.A.805.html',\n",
       " 'https://www.ptt.cc/bbs/Gossiping/M.1514853662.A.5A8.html',\n",
       " 'https://www.ptt.cc/bbs/Gossiping/M.1514853693.A.C78.html',\n",
       " 'https://www.ptt.cc/bbs/Gossiping/M.1514853705.A.6AA.html',\n",
       " 'https://www.ptt.cc/bbs/Gossiping/M.1514853820.A.24D.html',\n",
       " 'https://www.ptt.cc/bbs/Gossiping/M.1514853881.A.32E.html',\n",
       " 'https://www.ptt.cc/bbs/Gossiping/M.1514853900.A.4D2.html',\n",
       " 'https://www.ptt.cc/bbs/Gossiping/M.1514853914.A.8C3.html',\n",
       " 'https://www.ptt.cc/bbs/Gossiping/M.1514853941.A.CE8.html',\n",
       " 'https://www.ptt.cc/bbs/Gossiping/M.1514854082.A.608.html',\n",
       " 'https://www.ptt.cc/bbs/Gossiping/M.1514854089.A.4AB.html',\n",
       " 'https://www.ptt.cc/bbs/Gossiping/M.1514854105.A.DA6.html']"
      ]
     },
     "execution_count": 182,
     "metadata": {},
     "output_type": "execute_result"
    }
   ],
   "source": [
    "get_list_page(\"https://www.ptt.cc/bbs/Gossiping/index31063.html\")"
   ]
  },
  {
   "cell_type": "code",
   "execution_count": 162,
   "metadata": {},
   "outputs": [],
   "source": [
    "# import re\n",
    "\n",
    "# import requests\n",
    "\n",
    "# def get_list_page(url):\n",
    "#     HOST = \"https://www.ptt.cc\"\n",
    "    \n",
    "#     custom_headers = {\n",
    "#         \"cookie\": \"over18=1;\"\n",
    "#     }\n",
    "\n",
    "#     resp = requests.get(url, headers=custom_headers)\n",
    "#     links = re.findall('<a href=\"(/bbs/Gossiping/M.+\\.html)\">.+</a>', resp.text)\n",
    "#     for link in links:\n",
    "#         # Generator\n",
    "#         # https://wiki.python.org/moin/Generators\n",
    "#         yield HOST + link"
   ]
  },
  {
   "cell_type": "code",
   "execution_count": 157,
   "metadata": {
    "scrolled": true
   },
   "outputs": [
    {
     "name": "stdout",
     "output_type": "stream",
     "text": [
      "https://www.ptt.cc/bbs/Gossiping/M.1514806848.A.980.html\n",
      "https://www.ptt.cc/bbs/Gossiping/M.1514806886.A.C87.html\n",
      "https://www.ptt.cc/bbs/Gossiping/M.1514806887.A.F03.html\n",
      "https://www.ptt.cc/bbs/Gossiping/M.1514806894.A.AAC.html\n",
      "https://www.ptt.cc/bbs/Gossiping/M.1514806952.A.C03.html\n",
      "https://www.ptt.cc/bbs/Gossiping/M.1514806963.A.E4C.html\n",
      "https://www.ptt.cc/bbs/Gossiping/M.1514806992.A.263.html\n",
      "https://www.ptt.cc/bbs/Gossiping/M.1514807003.A.C4A.html\n",
      "https://www.ptt.cc/bbs/Gossiping/M.1514807007.A.A11.html\n",
      "https://www.ptt.cc/bbs/Gossiping/M.1514807034.A.7B2.html\n",
      "https://www.ptt.cc/bbs/Gossiping/M.1514807049.A.9D2.html\n",
      "https://www.ptt.cc/bbs/Gossiping/M.1514807088.A.049.html\n",
      "https://www.ptt.cc/bbs/Gossiping/M.1514807146.A.89E.html\n",
      "https://www.ptt.cc/bbs/Gossiping/M.1514807191.A.0F5.html\n",
      "https://www.ptt.cc/bbs/Gossiping/M.1514807242.A.AF2.html\n",
      "https://www.ptt.cc/bbs/Gossiping/M.1514807248.A.BFA.html\n",
      "https://www.ptt.cc/bbs/Gossiping/M.1514807259.A.4EA.html\n",
      "https://www.ptt.cc/bbs/Gossiping/M.1514807276.A.7F5.html\n",
      "https://www.ptt.cc/bbs/Gossiping/M.1514807301.A.7F0.html\n",
      "https://www.ptt.cc/bbs/Gossiping/M.1514807339.A.64B.html\n"
     ]
    }
   ],
   "source": [
    "# for link in get_list_page('https://www.ptt.cc/bbs/Gossiping/index31008.html'):\n",
    "#     print(link)"
   ]
  },
  {
   "cell_type": "code",
   "execution_count": 167,
   "metadata": {},
   "outputs": [
    {
     "data": {
      "text/plain": [
       "31067"
      ]
     },
     "execution_count": 167,
     "metadata": {},
     "output_type": "execute_result"
    }
   ],
   "source": [
    "total_page_cnt = get_total_page_cnt()\n",
    "total_page_cnt"
   ]
  },
  {
   "cell_type": "code",
   "execution_count": 168,
   "metadata": {},
   "outputs": [
    {
     "name": "stdout",
     "output_type": "stream",
     "text": [
      "31067\n",
      "31066\n",
      "31065\n",
      "31064\n",
      "31063\n",
      "31062\n",
      "31061\n",
      "31060\n",
      "31059\n",
      "31058\n"
     ]
    }
   ],
   "source": [
    "for page in range(total_page_cnt, total_page_cnt - 10, -1):\n",
    "    print(page)"
   ]
  },
  {
   "cell_type": "code",
   "execution_count": 169,
   "metadata": {},
   "outputs": [
    {
     "name": "stdout",
     "output_type": "stream",
     "text": [
      "/bbs/Gossiping/M.1514857838.A.CFD.html\n",
      "/bbs/Gossiping/M.1514857839.A.100.html\n",
      "/bbs/Gossiping/M.1514857840.A.512.html\n",
      "/bbs/Gossiping/M.1514857853.A.EBF.html\n",
      "/bbs/Gossiping/M.1514857862.A.669.html\n",
      "/bbs/Gossiping/M.1514857909.A.96E.html\n",
      "/bbs/Gossiping/M.1514857924.A.982.html\n",
      "/bbs/Gossiping/M.1514857962.A.805.html\n",
      "/bbs/Gossiping/M.1514857989.A.7E2.html\n",
      "/bbs/Gossiping/M.1514858013.A.525.html\n",
      "/bbs/Gossiping/M.1514858018.A.D66.html\n",
      "/bbs/Gossiping/M.1514858037.A.617.html\n",
      "/bbs/Gossiping/M.1510415718.A.D77.html\n",
      "/bbs/Gossiping/M.1514720863.A.84E.html\n",
      "/bbs/Gossiping/M.1514336396.A.B25.html\n",
      "/bbs/Gossiping/M.1514738804.A.4A0.html\n",
      "/bbs/Gossiping/M.1514857224.A.9C5.html\n",
      "/bbs/Gossiping/M.1514857289.A.0D1.html\n",
      "/bbs/Gossiping/M.1514857318.A.191.html\n",
      "/bbs/Gossiping/M.1514857360.A.C3B.html\n",
      "/bbs/Gossiping/M.1514857365.A.DAD.html\n",
      "/bbs/Gossiping/M.1514857395.A.CF2.html\n",
      "/bbs/Gossiping/M.1514857404.A.6EB.html\n",
      "/bbs/Gossiping/M.1514857469.A.31F.html\n",
      "/bbs/Gossiping/M.1514857500.A.95A.html\n",
      "/bbs/Gossiping/M.1514857521.A.7F3.html\n",
      "/bbs/Gossiping/M.1514857537.A.CEE.html\n",
      "/bbs/Gossiping/M.1514857548.A.FCC.html\n",
      "/bbs/Gossiping/M.1514857586.A.E1E.html\n",
      "/bbs/Gossiping/M.1514857677.A.384.html\n",
      "/bbs/Gossiping/M.1514857694.A.B0A.html\n",
      "/bbs/Gossiping/M.1514857709.A.B7F.html\n",
      "/bbs/Gossiping/M.1514857737.A.4D6.html\n",
      "/bbs/Gossiping/M.1514857769.A.EDE.html\n",
      "/bbs/Gossiping/M.1514857781.A.25D.html\n",
      "/bbs/Gossiping/M.1514857829.A.829.html\n",
      "/bbs/Gossiping/M.1514856317.A.154.html\n",
      "/bbs/Gossiping/M.1514856340.A.DF3.html\n",
      "/bbs/Gossiping/M.1514856450.A.F02.html\n",
      "/bbs/Gossiping/M.1514856463.A.3CF.html\n",
      "/bbs/Gossiping/M.1514856485.A.7A8.html\n",
      "/bbs/Gossiping/M.1514856534.A.9AA.html\n",
      "/bbs/Gossiping/M.1514856554.A.DE4.html\n",
      "/bbs/Gossiping/M.1514856622.A.1DC.html\n",
      "/bbs/Gossiping/M.1514856703.A.B4C.html\n",
      "/bbs/Gossiping/M.1514856876.A.A1F.html\n",
      "/bbs/Gossiping/M.1514856881.A.7A5.html\n",
      "/bbs/Gossiping/M.1514856907.A.291.html\n",
      "/bbs/Gossiping/M.1514856951.A.670.html\n",
      "/bbs/Gossiping/M.1514857050.A.738.html\n",
      "/bbs/Gossiping/M.1514857095.A.383.html\n",
      "/bbs/Gossiping/M.1514857138.A.536.html\n",
      "/bbs/Gossiping/M.1514857177.A.5FC.html\n",
      "/bbs/Gossiping/M.1514857205.A.6A2.html\n",
      "/bbs/Gossiping/M.1514857209.A.F49.html\n",
      "/bbs/Gossiping/M.1514855339.A.EBA.html\n",
      "/bbs/Gossiping/M.1514855341.A.403.html\n",
      "/bbs/Gossiping/M.1514855393.A.57B.html\n",
      "/bbs/Gossiping/M.1514855410.A.1BC.html\n",
      "/bbs/Gossiping/M.1514855584.A.640.html\n",
      "/bbs/Gossiping/M.1514855608.A.A73.html\n",
      "/bbs/Gossiping/M.1514855667.A.579.html\n",
      "/bbs/Gossiping/M.1514855703.A.CC6.html\n",
      "/bbs/Gossiping/M.1514855751.A.724.html\n",
      "/bbs/Gossiping/M.1514855800.A.AAA.html\n",
      "/bbs/Gossiping/M.1514855906.A.2D0.html\n",
      "/bbs/Gossiping/M.1514855978.A.B82.html\n",
      "/bbs/Gossiping/M.1514856008.A.EC2.html\n",
      "/bbs/Gossiping/M.1514856011.A.BDA.html\n",
      "/bbs/Gossiping/M.1514856252.A.B74.html\n",
      "/bbs/Gossiping/M.1514856256.A.283.html\n",
      "/bbs/Gossiping/M.1514856271.A.4EF.html\n",
      "/bbs/Gossiping/M.1514856290.A.7AF.html\n",
      "/bbs/Gossiping/M.1514856303.A.856.html\n",
      "/bbs/Gossiping/M.1514854157.A.4BC.html\n",
      "/bbs/Gossiping/M.1514854358.A.AD3.html\n",
      "/bbs/Gossiping/M.1514854387.A.608.html\n",
      "/bbs/Gossiping/M.1514854439.A.092.html\n",
      "/bbs/Gossiping/M.1514854518.A.1C3.html\n",
      "/bbs/Gossiping/M.1514854630.A.DD8.html\n",
      "/bbs/Gossiping/M.1514854705.A.AD0.html\n",
      "/bbs/Gossiping/M.1514854733.A.963.html\n",
      "/bbs/Gossiping/M.1514854803.A.B68.html\n",
      "/bbs/Gossiping/M.1514854847.A.FE2.html\n",
      "/bbs/Gossiping/M.1514854899.A.30C.html\n",
      "/bbs/Gossiping/M.1514854906.A.F53.html\n",
      "/bbs/Gossiping/M.1514854909.A.7FB.html\n",
      "/bbs/Gossiping/M.1514854963.A.3F9.html\n",
      "/bbs/Gossiping/M.1514855021.A.FF1.html\n",
      "/bbs/Gossiping/M.1514855110.A.1EA.html\n",
      "/bbs/Gossiping/M.1514855127.A.D9A.html\n",
      "/bbs/Gossiping/M.1514855147.A.A70.html\n",
      "/bbs/Gossiping/M.1514855249.A.44E.html\n",
      "/bbs/Gossiping/M.1514855332.A.1E6.html\n",
      "/bbs/Gossiping/M.1514853038.A.F34.html\n",
      "/bbs/Gossiping/M.1514853127.A.9F6.html\n",
      "/bbs/Gossiping/M.1514853296.A.F08.html\n",
      "/bbs/Gossiping/M.1514853353.A.8FF.html\n",
      "/bbs/Gossiping/M.1514853368.A.FBF.html\n",
      "/bbs/Gossiping/M.1514853479.A.935.html\n",
      "/bbs/Gossiping/M.1514853502.A.C78.html\n",
      "/bbs/Gossiping/M.1514853658.A.805.html\n",
      "/bbs/Gossiping/M.1514853662.A.5A8.html\n",
      "/bbs/Gossiping/M.1514853693.A.C78.html\n",
      "/bbs/Gossiping/M.1514853705.A.6AA.html\n",
      "/bbs/Gossiping/M.1514853820.A.24D.html\n",
      "/bbs/Gossiping/M.1514853881.A.32E.html\n",
      "/bbs/Gossiping/M.1514853900.A.4D2.html\n",
      "/bbs/Gossiping/M.1514853914.A.8C3.html\n",
      "/bbs/Gossiping/M.1514853941.A.CE8.html\n",
      "/bbs/Gossiping/M.1514854082.A.608.html\n",
      "/bbs/Gossiping/M.1514854089.A.4AB.html\n",
      "/bbs/Gossiping/M.1514854105.A.DA6.html\n",
      "/bbs/Gossiping/M.1514851555.A.43A.html\n",
      "/bbs/Gossiping/M.1514851605.A.2CF.html\n",
      "/bbs/Gossiping/M.1514851633.A.6F3.html\n",
      "/bbs/Gossiping/M.1514851956.A.FD5.html\n",
      "/bbs/Gossiping/M.1514851960.A.AEB.html\n",
      "/bbs/Gossiping/M.1514852033.A.516.html\n",
      "/bbs/Gossiping/M.1514852042.A.15A.html\n",
      "/bbs/Gossiping/M.1514852214.A.F36.html\n",
      "/bbs/Gossiping/M.1514852217.A.672.html\n",
      "/bbs/Gossiping/M.1514852400.A.C24.html\n",
      "/bbs/Gossiping/M.1514852517.A.72D.html\n",
      "/bbs/Gossiping/M.1514852587.A.803.html\n",
      "/bbs/Gossiping/M.1514852623.A.EBC.html\n",
      "/bbs/Gossiping/M.1514852675.A.254.html\n",
      "/bbs/Gossiping/M.1514852877.A.0EF.html\n",
      "/bbs/Gossiping/M.1514852879.A.79A.html\n",
      "/bbs/Gossiping/M.1514852960.A.206.html\n",
      "/bbs/Gossiping/M.1514852961.A.2F5.html\n",
      "/bbs/Gossiping/M.1514852962.A.AE1.html\n",
      "/bbs/Gossiping/M.1514853036.A.25C.html\n",
      "/bbs/Gossiping/M.1514850215.A.EF2.html\n",
      "/bbs/Gossiping/M.1514850277.A.074.html\n",
      "/bbs/Gossiping/M.1514850322.A.1B3.html\n",
      "/bbs/Gossiping/M.1514850402.A.8F6.html\n",
      "/bbs/Gossiping/M.1514850432.A.344.html\n",
      "/bbs/Gossiping/M.1514850443.A.82D.html\n",
      "/bbs/Gossiping/M.1514850451.A.F7A.html\n",
      "/bbs/Gossiping/M.1514850703.A.97D.html\n",
      "/bbs/Gossiping/M.1514850731.A.370.html\n",
      "/bbs/Gossiping/M.1514850795.A.F97.html\n",
      "/bbs/Gossiping/M.1514850923.A.D02.html\n",
      "/bbs/Gossiping/M.1514850962.A.838.html\n",
      "/bbs/Gossiping/M.1514851012.A.20D.html\n",
      "/bbs/Gossiping/M.1514851087.A.EF0.html\n",
      "/bbs/Gossiping/M.1514851091.A.43F.html\n",
      "/bbs/Gossiping/M.1514851309.A.D5F.html\n",
      "/bbs/Gossiping/M.1514851350.A.7C3.html\n",
      "/bbs/Gossiping/M.1514851396.A.54D.html\n",
      "/bbs/Gossiping/M.1514851465.A.F41.html\n",
      "/bbs/Gossiping/M.1514851488.A.30C.html\n",
      "/bbs/Gossiping/M.1514846890.A.479.html\n",
      "/bbs/Gossiping/M.1514846894.A.1A4.html\n",
      "/bbs/Gossiping/M.1514847417.A.5A1.html\n",
      "/bbs/Gossiping/M.1514847490.A.06C.html\n",
      "/bbs/Gossiping/M.1514847545.A.A91.html\n",
      "/bbs/Gossiping/M.1514847850.A.C68.html\n",
      "/bbs/Gossiping/M.1514848022.A.44C.html\n",
      "/bbs/Gossiping/M.1514848043.A.2D2.html\n",
      "/bbs/Gossiping/M.1514848154.A.E5F.html\n",
      "/bbs/Gossiping/M.1514848199.A.F2E.html\n",
      "/bbs/Gossiping/M.1514848300.A.098.html\n",
      "/bbs/Gossiping/M.1514848762.A.476.html\n",
      "/bbs/Gossiping/M.1514849206.A.74C.html\n",
      "/bbs/Gossiping/M.1514849739.A.2BC.html\n",
      "/bbs/Gossiping/M.1514849766.A.9FA.html\n",
      "/bbs/Gossiping/M.1514850033.A.FB1.html\n",
      "/bbs/Gossiping/M.1514850097.A.314.html\n",
      "/bbs/Gossiping/M.1514850188.A.3FE.html\n",
      "/bbs/Gossiping/M.1514842387.A.713.html\n",
      "/bbs/Gossiping/M.1514842401.A.309.html\n",
      "/bbs/Gossiping/M.1514842488.A.B53.html\n",
      "/bbs/Gossiping/M.1514842641.A.245.html\n",
      "/bbs/Gossiping/M.1514843138.A.64C.html\n",
      "/bbs/Gossiping/M.1514843288.A.F78.html\n",
      "/bbs/Gossiping/M.1514843385.A.36B.html\n",
      "/bbs/Gossiping/M.1514843731.A.755.html\n",
      "/bbs/Gossiping/M.1514843856.A.808.html\n",
      "/bbs/Gossiping/M.1514844065.A.99A.html\n",
      "/bbs/Gossiping/M.1514844084.A.D9B.html\n",
      "/bbs/Gossiping/M.1514845039.A.477.html\n",
      "/bbs/Gossiping/M.1514845314.A.57C.html\n",
      "/bbs/Gossiping/M.1514845632.A.C5B.html\n",
      "/bbs/Gossiping/M.1514845962.A.E97.html\n",
      "/bbs/Gossiping/M.1514845970.A.384.html\n",
      "/bbs/Gossiping/M.1514846070.A.7B9.html\n",
      "/bbs/Gossiping/M.1514846279.A.04A.html\n",
      "/bbs/Gossiping/M.1514846558.A.9F9.html\n",
      "/bbs/Gossiping/M.1514846676.A.E8A.html\n"
     ]
    }
   ],
   "source": [
    "import re\n",
    "\n",
    "import requests\n",
    "\n",
    "# 一次爬10頁\n",
    "CRAWL_PAGE_CNT = 10\n",
    "URL_TEMPLATE = \"https://www.ptt.cc/bbs/Gossiping/index{}.html\"\n",
    "\n",
    "total_page_cnt = get_total_page_cnt()\n",
    "\n",
    "for pg in range(total_page_cnt, total_page_cnt - CRAWL_PAGE_CNT, -1):\n",
    "    url = URL_TEMPLATE.format(pg)\n",
    "    for link in get_list_page(url):\n",
    "        print(link)"
   ]
  },
  {
   "cell_type": "code",
   "execution_count": 170,
   "metadata": {},
   "outputs": [
    {
     "name": "stdout",
     "output_type": "stream",
     "text": [
      "mkdir: /tmp/ptt_data: File exists\r\n"
     ]
    }
   ],
   "source": [
    "!mkdir /tmp/ptt_data"
   ]
  },
  {
   "cell_type": "code",
   "execution_count": 177,
   "metadata": {},
   "outputs": [
    {
     "data": {
      "text/plain": [
       "'M_1514855751_A_724.html'"
      ]
     },
     "execution_count": 177,
     "metadata": {},
     "output_type": "execute_result"
    }
   ],
   "source": [
    "url = \"https://www.ptt.cc/bbs/Gossiping/M.1514855751.A.724.html\"\n",
    "\n",
    "\"_\".join(url.split('/')[-1].split('.')[:-1]) + '.html'"
   ]
  },
  {
   "cell_type": "code",
   "execution_count": 171,
   "metadata": {},
   "outputs": [],
   "source": [
    "import requests\n",
    "\n",
    "DATA_PATH = '/tmp/ptt_data'\n",
    "\n",
    "def dump_page(url):\n",
    "    \"\"\"爬取PTT列表頁面\n",
    "\n",
    "    Parameters\n",
    "    ----------\n",
    "    url : str\n",
    "        PTT內文頁URL，\n",
    "        如：https://www.ptt.cc/bbs/Gossiping/M.1514855751.A.724.html\n",
    "\n",
    "    Returns\n",
    "    -------\n",
    "    str\n",
    "        檔名filename\n",
    "    \"\"\"\n",
    "    filename = \"_\".join(url.split('/')[-1].split('.')[:-1]) + '.html'\n",
    "    \n",
    "    custom_headers = {\n",
    "        \"cookie\": \"over18=1;\"\n",
    "    }\n",
    "\n",
    "    resp = requests.get(url, headers=custom_headers)\n",
    "    with open(DATA_PATH + '/' + filename, 'w') as f:\n",
    "        f.write(resp.text)\n",
    "    return filename"
   ]
  },
  {
   "cell_type": "code",
   "execution_count": 178,
   "metadata": {},
   "outputs": [
    {
     "data": {
      "text/plain": [
       "'M_1514807718_A_FC3.html'"
      ]
     },
     "execution_count": 178,
     "metadata": {},
     "output_type": "execute_result"
    }
   ],
   "source": [
    "dump_page('https://www.ptt.cc/bbs/Gossiping/M.1514807718.A.FC3.html')"
   ]
  },
  {
   "cell_type": "code",
   "execution_count": 179,
   "metadata": {},
   "outputs": [
    {
     "name": "stdout",
     "output_type": "stream",
     "text": [
      "M_1510415718_A_D77.html M_1514807622_A_3E3.html M_1514808052_A_988.html\r\n",
      "M_1514336396_A_B25.html M_1514807702_A_BB6.html M_1514808076_A_D94.html\r\n",
      "M_1514720863_A_84E.html M_1514807707_A_12A.html M_1514808080_A_727.html\r\n",
      "M_1514738804_A_4A0.html M_1514807718_A_FC3.html M_1514808109_A_248.html\r\n",
      "M_1514807382_A_0CA.html M_1514807725_A_B98.html M_1514808123_A_3A0.html\r\n",
      "M_1514807473_A_511.html M_1514807776_A_25C.html M_1514808130_A_979.html\r\n",
      "M_1514807474_A_985.html M_1514807789_A_C9C.html M_1514808141_A_908.html\r\n",
      "M_1514807510_A_E2C.html M_1514807802_A_C56.html M_1514808145_A_05C.html\r\n",
      "M_1514807521_A_342.html M_1514807817_A_59A.html M_1514808193_A_4A6.html\r\n",
      "M_1514807566_A_84B.html M_1514807961_A_653.html M_1514808390_A_1D0.html\r\n",
      "M_1514807580_A_0BF.html M_1514807970_A_F4A.html M_1514808393_A_167.html\r\n",
      "M_1514807581_A_E1D.html M_1514807974_A_B1C.html M_1514808458_A_F02.html\r\n",
      "M_1514807585_A_663.html M_1514808011_A_859.html M_1514808517_A_3CD.html\r\n",
      "M_1514807609_A_9EC.html M_1514808027_A_86C.html M_1514808519_A_EB2.html\r\n",
      "M_1514807618_A_D7F.html M_1514808044_A_E91.html M_1514808526_A_697.html\r\n"
     ]
    }
   ],
   "source": [
    "!ls /tmp/ptt_data/"
   ]
  },
  {
   "cell_type": "code",
   "execution_count": 183,
   "metadata": {},
   "outputs": [
    {
     "name": "stdout",
     "output_type": "stream",
     "text": [
      "https://www.ptt.cc/bbs/Gossiping/M.1514858874.A.17F.html\n",
      "https://www.ptt.cc/bbs/Gossiping/M.1514858889.A.10C.html\n",
      "https://www.ptt.cc/bbs/Gossiping/M.1514858903.A.817.html\n",
      "https://www.ptt.cc/bbs/Gossiping/M.1510415718.A.D77.html\n",
      "https://www.ptt.cc/bbs/Gossiping/M.1514720863.A.84E.html\n",
      "https://www.ptt.cc/bbs/Gossiping/M.1514336396.A.B25.html\n",
      "https://www.ptt.cc/bbs/Gossiping/M.1514738804.A.4A0.html\n",
      "https://www.ptt.cc/bbs/Gossiping/M.1514858152.A.65C.html\n",
      "https://www.ptt.cc/bbs/Gossiping/M.1514858171.A.464.html\n",
      "https://www.ptt.cc/bbs/Gossiping/M.1514858269.A.474.html\n",
      "https://www.ptt.cc/bbs/Gossiping/M.1514858272.A.B73.html\n",
      "https://www.ptt.cc/bbs/Gossiping/M.1514858337.A.B3F.html\n",
      "https://www.ptt.cc/bbs/Gossiping/M.1514858354.A.1B2.html\n",
      "https://www.ptt.cc/bbs/Gossiping/M.1514858392.A.678.html\n",
      "https://www.ptt.cc/bbs/Gossiping/M.1514858431.A.781.html\n",
      "https://www.ptt.cc/bbs/Gossiping/M.1514858492.A.D16.html\n",
      "https://www.ptt.cc/bbs/Gossiping/M.1514858536.A.B43.html\n",
      "https://www.ptt.cc/bbs/Gossiping/M.1514858540.A.7FD.html\n",
      "https://www.ptt.cc/bbs/Gossiping/M.1514858571.A.F90.html\n",
      "https://www.ptt.cc/bbs/Gossiping/M.1514858614.A.4B0.html\n",
      "https://www.ptt.cc/bbs/Gossiping/M.1514858714.A.E26.html\n",
      "https://www.ptt.cc/bbs/Gossiping/M.1514858784.A.2F0.html\n",
      "https://www.ptt.cc/bbs/Gossiping/M.1514858797.A.9B4.html\n",
      "https://www.ptt.cc/bbs/Gossiping/M.1514858846.A.7A7.html\n",
      "https://www.ptt.cc/bbs/Gossiping/M.1514858856.A.577.html\n",
      "https://www.ptt.cc/bbs/Gossiping/M.1514858857.A.977.html\n",
      "https://www.ptt.cc/bbs/Gossiping/M.1514858873.A.B56.html\n",
      "https://www.ptt.cc/bbs/Gossiping/M.1514857838.A.CFD.html\n",
      "https://www.ptt.cc/bbs/Gossiping/M.1514857839.A.100.html\n",
      "https://www.ptt.cc/bbs/Gossiping/M.1514857840.A.512.html\n",
      "https://www.ptt.cc/bbs/Gossiping/M.1514857853.A.EBF.html\n",
      "https://www.ptt.cc/bbs/Gossiping/M.1514857862.A.669.html\n",
      "https://www.ptt.cc/bbs/Gossiping/M.1514857909.A.96E.html\n",
      "https://www.ptt.cc/bbs/Gossiping/M.1514857924.A.982.html\n",
      "https://www.ptt.cc/bbs/Gossiping/M.1514857962.A.805.html\n",
      "https://www.ptt.cc/bbs/Gossiping/M.1514857989.A.7E2.html\n",
      "https://www.ptt.cc/bbs/Gossiping/M.1514858013.A.525.html\n",
      "https://www.ptt.cc/bbs/Gossiping/M.1514858018.A.D66.html\n",
      "https://www.ptt.cc/bbs/Gossiping/M.1514858037.A.617.html\n",
      "https://www.ptt.cc/bbs/Gossiping/M.1514858073.A.11E.html\n",
      "https://www.ptt.cc/bbs/Gossiping/M.1514858081.A.8A4.html\n",
      "https://www.ptt.cc/bbs/Gossiping/M.1514858082.A.976.html\n",
      "https://www.ptt.cc/bbs/Gossiping/M.1514858094.A.0F5.html\n",
      "https://www.ptt.cc/bbs/Gossiping/M.1514858103.A.0CA.html\n",
      "https://www.ptt.cc/bbs/Gossiping/M.1514858120.A.D17.html\n",
      "https://www.ptt.cc/bbs/Gossiping/M.1514858124.A.B2F.html\n",
      "https://www.ptt.cc/bbs/Gossiping/M.1514858140.A.C49.html\n",
      "https://www.ptt.cc/bbs/Gossiping/M.1514857224.A.9C5.html\n",
      "https://www.ptt.cc/bbs/Gossiping/M.1514857289.A.0D1.html\n",
      "https://www.ptt.cc/bbs/Gossiping/M.1514857318.A.191.html\n",
      "https://www.ptt.cc/bbs/Gossiping/M.1514857360.A.C3B.html\n",
      "https://www.ptt.cc/bbs/Gossiping/M.1514857365.A.DAD.html\n",
      "https://www.ptt.cc/bbs/Gossiping/M.1514857395.A.CF2.html\n",
      "https://www.ptt.cc/bbs/Gossiping/M.1514857404.A.6EB.html\n",
      "https://www.ptt.cc/bbs/Gossiping/M.1514857469.A.31F.html\n",
      "https://www.ptt.cc/bbs/Gossiping/M.1514857500.A.95A.html\n",
      "https://www.ptt.cc/bbs/Gossiping/M.1514857521.A.7F3.html\n",
      "https://www.ptt.cc/bbs/Gossiping/M.1514857537.A.CEE.html\n",
      "https://www.ptt.cc/bbs/Gossiping/M.1514857548.A.FCC.html\n",
      "https://www.ptt.cc/bbs/Gossiping/M.1514857586.A.E1E.html\n",
      "https://www.ptt.cc/bbs/Gossiping/M.1514857677.A.384.html\n",
      "https://www.ptt.cc/bbs/Gossiping/M.1514857694.A.B0A.html\n",
      "https://www.ptt.cc/bbs/Gossiping/M.1514857709.A.B7F.html\n",
      "https://www.ptt.cc/bbs/Gossiping/M.1514857737.A.4D6.html\n",
      "https://www.ptt.cc/bbs/Gossiping/M.1514857769.A.EDE.html\n",
      "https://www.ptt.cc/bbs/Gossiping/M.1514857781.A.25D.html\n",
      "https://www.ptt.cc/bbs/Gossiping/M.1514857829.A.829.html\n",
      "https://www.ptt.cc/bbs/Gossiping/M.1514856317.A.154.html\n",
      "https://www.ptt.cc/bbs/Gossiping/M.1514856340.A.DF3.html\n",
      "https://www.ptt.cc/bbs/Gossiping/M.1514856450.A.F02.html\n",
      "https://www.ptt.cc/bbs/Gossiping/M.1514856463.A.3CF.html\n",
      "https://www.ptt.cc/bbs/Gossiping/M.1514856485.A.7A8.html\n",
      "https://www.ptt.cc/bbs/Gossiping/M.1514856534.A.9AA.html\n",
      "https://www.ptt.cc/bbs/Gossiping/M.1514856554.A.DE4.html\n",
      "https://www.ptt.cc/bbs/Gossiping/M.1514856622.A.1DC.html\n",
      "https://www.ptt.cc/bbs/Gossiping/M.1514856703.A.B4C.html\n",
      "https://www.ptt.cc/bbs/Gossiping/M.1514856876.A.A1F.html\n",
      "https://www.ptt.cc/bbs/Gossiping/M.1514856881.A.7A5.html\n",
      "https://www.ptt.cc/bbs/Gossiping/M.1514856907.A.291.html\n",
      "https://www.ptt.cc/bbs/Gossiping/M.1514856951.A.670.html\n",
      "https://www.ptt.cc/bbs/Gossiping/M.1514857050.A.738.html\n",
      "https://www.ptt.cc/bbs/Gossiping/M.1514857095.A.383.html\n",
      "https://www.ptt.cc/bbs/Gossiping/M.1514857138.A.536.html\n",
      "https://www.ptt.cc/bbs/Gossiping/M.1514857177.A.5FC.html\n",
      "https://www.ptt.cc/bbs/Gossiping/M.1514857205.A.6A2.html\n",
      "https://www.ptt.cc/bbs/Gossiping/M.1514857209.A.F49.html\n",
      "https://www.ptt.cc/bbs/Gossiping/M.1514855339.A.EBA.html\n",
      "https://www.ptt.cc/bbs/Gossiping/M.1514855341.A.403.html\n",
      "https://www.ptt.cc/bbs/Gossiping/M.1514855393.A.57B.html\n",
      "https://www.ptt.cc/bbs/Gossiping/M.1514855410.A.1BC.html\n",
      "https://www.ptt.cc/bbs/Gossiping/M.1514855584.A.640.html\n",
      "https://www.ptt.cc/bbs/Gossiping/M.1514855608.A.A73.html\n",
      "https://www.ptt.cc/bbs/Gossiping/M.1514855667.A.579.html\n",
      "https://www.ptt.cc/bbs/Gossiping/M.1514855703.A.CC6.html\n",
      "https://www.ptt.cc/bbs/Gossiping/M.1514855751.A.724.html\n",
      "https://www.ptt.cc/bbs/Gossiping/M.1514855800.A.AAA.html\n",
      "https://www.ptt.cc/bbs/Gossiping/M.1514855906.A.2D0.html\n",
      "https://www.ptt.cc/bbs/Gossiping/M.1514855978.A.B82.html\n",
      "https://www.ptt.cc/bbs/Gossiping/M.1514856008.A.EC2.html\n",
      "https://www.ptt.cc/bbs/Gossiping/M.1514856011.A.BDA.html\n",
      "https://www.ptt.cc/bbs/Gossiping/M.1514856252.A.B74.html\n",
      "https://www.ptt.cc/bbs/Gossiping/M.1514856256.A.283.html\n",
      "https://www.ptt.cc/bbs/Gossiping/M.1514856271.A.4EF.html\n",
      "https://www.ptt.cc/bbs/Gossiping/M.1514856290.A.7AF.html\n",
      "https://www.ptt.cc/bbs/Gossiping/M.1514856303.A.856.html\n",
      "https://www.ptt.cc/bbs/Gossiping/M.1514854157.A.4BC.html\n",
      "https://www.ptt.cc/bbs/Gossiping/M.1514854358.A.AD3.html\n",
      "https://www.ptt.cc/bbs/Gossiping/M.1514854387.A.608.html\n",
      "https://www.ptt.cc/bbs/Gossiping/M.1514854439.A.092.html\n",
      "https://www.ptt.cc/bbs/Gossiping/M.1514854518.A.1C3.html\n",
      "https://www.ptt.cc/bbs/Gossiping/M.1514854630.A.DD8.html\n",
      "https://www.ptt.cc/bbs/Gossiping/M.1514854705.A.AD0.html\n",
      "https://www.ptt.cc/bbs/Gossiping/M.1514854733.A.963.html\n",
      "https://www.ptt.cc/bbs/Gossiping/M.1514854803.A.B68.html\n",
      "https://www.ptt.cc/bbs/Gossiping/M.1514854847.A.FE2.html\n",
      "https://www.ptt.cc/bbs/Gossiping/M.1514854899.A.30C.html\n",
      "https://www.ptt.cc/bbs/Gossiping/M.1514854906.A.F53.html\n",
      "https://www.ptt.cc/bbs/Gossiping/M.1514854909.A.7FB.html\n",
      "https://www.ptt.cc/bbs/Gossiping/M.1514854963.A.3F9.html\n",
      "https://www.ptt.cc/bbs/Gossiping/M.1514855021.A.FF1.html\n",
      "https://www.ptt.cc/bbs/Gossiping/M.1514855110.A.1EA.html\n",
      "https://www.ptt.cc/bbs/Gossiping/M.1514855127.A.D9A.html\n",
      "https://www.ptt.cc/bbs/Gossiping/M.1514855147.A.A70.html\n",
      "https://www.ptt.cc/bbs/Gossiping/M.1514855249.A.44E.html\n",
      "https://www.ptt.cc/bbs/Gossiping/M.1514855332.A.1E6.html\n",
      "https://www.ptt.cc/bbs/Gossiping/M.1514853038.A.F34.html\n",
      "https://www.ptt.cc/bbs/Gossiping/M.1514853127.A.9F6.html\n",
      "https://www.ptt.cc/bbs/Gossiping/M.1514853296.A.F08.html\n",
      "https://www.ptt.cc/bbs/Gossiping/M.1514853353.A.8FF.html\n",
      "https://www.ptt.cc/bbs/Gossiping/M.1514853368.A.FBF.html\n",
      "https://www.ptt.cc/bbs/Gossiping/M.1514853479.A.935.html\n",
      "https://www.ptt.cc/bbs/Gossiping/M.1514853502.A.C78.html\n",
      "https://www.ptt.cc/bbs/Gossiping/M.1514853658.A.805.html\n",
      "https://www.ptt.cc/bbs/Gossiping/M.1514853662.A.5A8.html\n",
      "https://www.ptt.cc/bbs/Gossiping/M.1514853693.A.C78.html\n",
      "https://www.ptt.cc/bbs/Gossiping/M.1514853705.A.6AA.html\n",
      "https://www.ptt.cc/bbs/Gossiping/M.1514853820.A.24D.html\n",
      "https://www.ptt.cc/bbs/Gossiping/M.1514853881.A.32E.html\n",
      "https://www.ptt.cc/bbs/Gossiping/M.1514853900.A.4D2.html\n",
      "https://www.ptt.cc/bbs/Gossiping/M.1514853914.A.8C3.html\n",
      "https://www.ptt.cc/bbs/Gossiping/M.1514853941.A.CE8.html\n",
      "https://www.ptt.cc/bbs/Gossiping/M.1514854082.A.608.html\n",
      "https://www.ptt.cc/bbs/Gossiping/M.1514854089.A.4AB.html\n",
      "https://www.ptt.cc/bbs/Gossiping/M.1514854105.A.DA6.html\n"
     ]
    },
    {
     "name": "stdout",
     "output_type": "stream",
     "text": [
      "https://www.ptt.cc/bbs/Gossiping/M.1514851555.A.43A.html\n",
      "https://www.ptt.cc/bbs/Gossiping/M.1514851605.A.2CF.html\n",
      "https://www.ptt.cc/bbs/Gossiping/M.1514851633.A.6F3.html\n",
      "https://www.ptt.cc/bbs/Gossiping/M.1514851956.A.FD5.html\n",
      "https://www.ptt.cc/bbs/Gossiping/M.1514851960.A.AEB.html\n",
      "https://www.ptt.cc/bbs/Gossiping/M.1514852033.A.516.html\n",
      "https://www.ptt.cc/bbs/Gossiping/M.1514852042.A.15A.html\n",
      "https://www.ptt.cc/bbs/Gossiping/M.1514852214.A.F36.html\n",
      "https://www.ptt.cc/bbs/Gossiping/M.1514852217.A.672.html\n",
      "https://www.ptt.cc/bbs/Gossiping/M.1514852400.A.C24.html\n",
      "https://www.ptt.cc/bbs/Gossiping/M.1514852517.A.72D.html\n",
      "https://www.ptt.cc/bbs/Gossiping/M.1514852587.A.803.html\n",
      "https://www.ptt.cc/bbs/Gossiping/M.1514852623.A.EBC.html\n",
      "https://www.ptt.cc/bbs/Gossiping/M.1514852675.A.254.html\n",
      "https://www.ptt.cc/bbs/Gossiping/M.1514852877.A.0EF.html\n",
      "https://www.ptt.cc/bbs/Gossiping/M.1514852879.A.79A.html\n",
      "https://www.ptt.cc/bbs/Gossiping/M.1514852960.A.206.html\n",
      "https://www.ptt.cc/bbs/Gossiping/M.1514852961.A.2F5.html\n",
      "https://www.ptt.cc/bbs/Gossiping/M.1514852962.A.AE1.html\n",
      "https://www.ptt.cc/bbs/Gossiping/M.1514853036.A.25C.html\n",
      "https://www.ptt.cc/bbs/Gossiping/M.1514850215.A.EF2.html\n",
      "https://www.ptt.cc/bbs/Gossiping/M.1514850277.A.074.html\n",
      "https://www.ptt.cc/bbs/Gossiping/M.1514850322.A.1B3.html\n",
      "https://www.ptt.cc/bbs/Gossiping/M.1514850402.A.8F6.html\n",
      "https://www.ptt.cc/bbs/Gossiping/M.1514850432.A.344.html\n",
      "https://www.ptt.cc/bbs/Gossiping/M.1514850443.A.82D.html\n",
      "https://www.ptt.cc/bbs/Gossiping/M.1514850451.A.F7A.html\n",
      "https://www.ptt.cc/bbs/Gossiping/M.1514850703.A.97D.html\n",
      "https://www.ptt.cc/bbs/Gossiping/M.1514850731.A.370.html\n",
      "https://www.ptt.cc/bbs/Gossiping/M.1514850795.A.F97.html\n",
      "https://www.ptt.cc/bbs/Gossiping/M.1514850923.A.D02.html\n",
      "https://www.ptt.cc/bbs/Gossiping/M.1514850962.A.838.html\n",
      "https://www.ptt.cc/bbs/Gossiping/M.1514851012.A.20D.html\n",
      "https://www.ptt.cc/bbs/Gossiping/M.1514851087.A.EF0.html\n",
      "https://www.ptt.cc/bbs/Gossiping/M.1514851091.A.43F.html\n",
      "https://www.ptt.cc/bbs/Gossiping/M.1514851309.A.D5F.html\n",
      "https://www.ptt.cc/bbs/Gossiping/M.1514851350.A.7C3.html\n",
      "https://www.ptt.cc/bbs/Gossiping/M.1514851396.A.54D.html\n",
      "https://www.ptt.cc/bbs/Gossiping/M.1514851465.A.F41.html\n",
      "https://www.ptt.cc/bbs/Gossiping/M.1514851488.A.30C.html\n"
     ]
    }
   ],
   "source": [
    "import re\n",
    "\n",
    "import requests\n",
    "\n",
    "# 一次爬10頁\n",
    "CRAWL_PAGE_CNT = 10\n",
    "URL_TEMPLATE = \"https://www.ptt.cc/bbs/Gossiping/index{}.html\"\n",
    "\n",
    "total_page_cnt = get_total_page_cnt()\n",
    "\n",
    "for pg in range(total_page_cnt, total_page_cnt - CRAWL_PAGE_CNT, -1):\n",
    "    url = URL_TEMPLATE.format(pg)\n",
    "    for link in get_list_page(url):\n",
    "        print(link)\n",
    "        dump_page(link)"
   ]
  },
  {
   "cell_type": "markdown",
   "metadata": {},
   "source": [
    "# 以上為上次複習\n",
    "\n",
    "# 再來我們開看看怎麼將HTML的內文整理成稍微結構化的資料格式"
   ]
  },
  {
   "cell_type": "code",
   "execution_count": 98,
   "metadata": {},
   "outputs": [],
   "source": [
    "page = {\n",
    "    \"title\": \"[問卦] 大尾鱸鰻 vs 與神同行？\",\n",
    "    \"content\": \"兩部我都看完了，覺得差不多好看！\",\n",
    "    \"author\": \"chiafann (NAZZZ)\",\n",
    "    \"pub_date\": \"Mon Jan  1 19:55:15 2018\",\n",
    "    \"board\": \"Gossiping\",\n",
    "    \"ip\": \"185.89.251.21\"\n",
    "}"
   ]
  },
  {
   "cell_type": "code",
   "execution_count": 184,
   "metadata": {},
   "outputs": [
    {
     "name": "stdout",
     "output_type": "stream",
     "text": [
      "Requirement already satisfied: beautifulsoup4 in /Users/ian/.pyenv/versions/3.6.4/lib/python3.6/site-packages\r\n",
      "Requirement already satisfied: lxml in /Users/ian/.pyenv/versions/3.6.4/lib/python3.6/site-packages\r\n"
     ]
    }
   ],
   "source": [
    "!pip install beautifulsoup4 lxml"
   ]
  },
  {
   "cell_type": "code",
   "execution_count": 209,
   "metadata": {},
   "outputs": [],
   "source": [
    "from bs4 import BeautifulSoup\n",
    "\n",
    "html = \"\"\"\n",
    "<!DOCTYPE html>\n",
    "<html>\n",
    "  <head>\n",
    "    <meta charset=\"utf-8\" />\n",
    "    <meta name=\"viewport\" content=\"width=device-width\" />\n",
    "    <title></title>\n",
    "\n",
    "  </head>\n",
    "  <body>\n",
    "    <h1>Hello world</h1>\n",
    "\n",
    "    <p class=\"welcome\">welcome to my python etl website</p>\n",
    "    <p class=\"author\">Ian Chen</p>\n",
    "    <p class=\"contact\">ianchen06@gmail.com</p>\n",
    "    \n",
    "    <p class=\"important\">Python is cool</p>\n",
    "    \n",
    "    <ul>\n",
    "    <li class=\"important\">Javascript is cool</p>\n",
    "    </ul>\n",
    "\n",
    "    <div class=\"container\">\n",
    "      <ul id=\"syllabus\">\n",
    "        <li class=\"odd important\">Python</li>\n",
    "        <li class=\"even\">爬蟲</li>\n",
    "        <li class=\"odd important\">爬蟲2</li>\n",
    "        <li class=\"even important\">資料庫</li>\n",
    "        <li class=\"odd\">高性能爬蟲</li>\n",
    "      </ul>\n",
    "    </div>\n",
    "  </body>\n",
    "</html>\n",
    "\"\"\"\n",
    "\n",
    "soup = BeautifulSoup(html, 'lxml') # Beautifulsoup Object"
   ]
  },
  {
   "cell_type": "code",
   "execution_count": 194,
   "metadata": {},
   "outputs": [
    {
     "data": {
      "text/plain": [
       "<p class=\"author\">Ian Chen</p>"
      ]
     },
     "execution_count": 194,
     "metadata": {},
     "output_type": "execute_result"
    }
   ],
   "source": [
    "author = soup.select_one('p.author') #bs4.element.Tag\n",
    "author"
   ]
  },
  {
   "cell_type": "code",
   "execution_count": 195,
   "metadata": {},
   "outputs": [
    {
     "data": {
      "text/plain": [
       "'Ian Chen'"
      ]
     },
     "execution_count": 195,
     "metadata": {},
     "output_type": "execute_result"
    }
   ],
   "source": [
    "author.text"
   ]
  },
  {
   "cell_type": "code",
   "execution_count": 197,
   "metadata": {},
   "outputs": [
    {
     "data": {
      "text/plain": [
       "<p class=\"author\">Ian Chen</p>"
      ]
     },
     "execution_count": 197,
     "metadata": {},
     "output_type": "execute_result"
    }
   ],
   "source": [
    "soup.select('p.author')[0]"
   ]
  },
  {
   "cell_type": "code",
   "execution_count": 203,
   "metadata": {},
   "outputs": [
    {
     "data": {
      "text/plain": [
       "[<li class=\"odd important\">Python</li>,\n",
       " <li class=\"odd important\">爬蟲2</li>,\n",
       " <li class=\"even important\">資料庫</li>]"
      ]
     },
     "execution_count": 203,
     "metadata": {},
     "output_type": "execute_result"
    }
   ],
   "source": [
    "soup.select('div.container')[0].select('ul')[0].select('li.important')"
   ]
  },
  {
   "cell_type": "code",
   "execution_count": 210,
   "metadata": {},
   "outputs": [
    {
     "data": {
      "text/plain": [
       "[<li class=\"important\">Javascript is cool\n",
       "     </li>,\n",
       " <li class=\"odd important\">Python</li>,\n",
       " <li class=\"odd important\">爬蟲2</li>,\n",
       " <li class=\"even important\">資料庫</li>]"
      ]
     },
     "execution_count": 210,
     "metadata": {},
     "output_type": "execute_result"
    }
   ],
   "source": [
    "soup.select('li.important')"
   ]
  },
  {
   "cell_type": "code",
   "execution_count": 211,
   "metadata": {},
   "outputs": [
    {
     "data": {
      "text/plain": [
       "[<li class=\"odd important\">Python</li>,\n",
       " <li class=\"odd important\">爬蟲2</li>,\n",
       " <li class=\"even important\">資料庫</li>]"
      ]
     },
     "execution_count": 211,
     "metadata": {},
     "output_type": "execute_result"
    }
   ],
   "source": [
    "soup.select('#syllabus > li.important')"
   ]
  },
  {
   "cell_type": "markdown",
   "metadata": {},
   "source": [
    "# 實際讀取一個ptt的html檔案進來"
   ]
  },
  {
   "cell_type": "code",
   "execution_count": 320,
   "metadata": {},
   "outputs": [],
   "source": [
    "from bs4 import BeautifulSoup\n",
    "\n",
    "with open('/tmp/ptt_data/M_1514336396_A_B25.html') as f:\n",
    "    html = f.read()\n",
    "\n",
    "soup = BeautifulSoup(html, 'lxml')"
   ]
  },
  {
   "cell_type": "code",
   "execution_count": 321,
   "metadata": {},
   "outputs": [
    {
     "data": {
      "text/plain": [
       "bs4.BeautifulSoup"
      ]
     },
     "execution_count": 321,
     "metadata": {},
     "output_type": "execute_result"
    }
   ],
   "source": [
    "type(soup)"
   ]
  },
  {
   "cell_type": "code",
   "execution_count": 322,
   "metadata": {},
   "outputs": [
    {
     "data": {
      "text/plain": [
       "[<span class=\"article-meta-value\">Kay731 (K少)</span>,\n",
       " <span class=\"article-meta-value\">Gossiping</span>,\n",
       " <span class=\"article-meta-value\">Fw: [協尋] 12/24下午新北耶誕城廣場遺失鑽石項鍊</span>,\n",
       " <span class=\"article-meta-value\">Wed Dec 27 08:59:55 2017</span>]"
      ]
     },
     "execution_count": 322,
     "metadata": {},
     "output_type": "execute_result"
    }
   ],
   "source": [
    "soup.select('.article-meta-value')"
   ]
  },
  {
   "cell_type": "code",
   "execution_count": 323,
   "metadata": {},
   "outputs": [
    {
     "data": {
      "text/plain": [
       "['Kay731 (K少)',\n",
       " 'Gossiping',\n",
       " 'Fw: [協尋] 12/24下午新北耶誕城廣場遺失鑽石項鍊',\n",
       " 'Wed Dec 27 08:59:55 2017']"
      ]
     },
     "execution_count": 323,
     "metadata": {},
     "output_type": "execute_result"
    }
   ],
   "source": [
    "metas = [tag.text for tag in soup.select('.article-meta-value')]\n",
    "metas"
   ]
  },
  {
   "cell_type": "code",
   "execution_count": 324,
   "metadata": {},
   "outputs": [],
   "source": [
    "page = {}\n",
    "page['author']   = metas[0]\n",
    "page['board']    = metas[1]\n",
    "page['title']    = metas[2]\n",
    "page['pub_date'] = metas[3]"
   ]
  },
  {
   "cell_type": "code",
   "execution_count": 325,
   "metadata": {},
   "outputs": [
    {
     "data": {
      "text/plain": [
       "{'author': 'Kay731 (K少)',\n",
       " 'board': 'Gossiping',\n",
       " 'pub_date': 'Wed Dec 27 08:59:55 2017',\n",
       " 'title': 'Fw: [協尋] 12/24下午新北耶誕城廣場遺失鑽石項鍊'}"
      ]
     },
     "execution_count": 325,
     "metadata": {},
     "output_type": "execute_result"
    }
   ],
   "source": [
    "page"
   ]
  },
  {
   "cell_type": "code",
   "execution_count": 326,
   "metadata": {},
   "outputs": [
    {
     "name": "stdout",
     "output_type": "stream",
     "text": [
      "author : Kay731 (K少)\n",
      "board : Gossiping\n",
      "title : Fw: [協尋] 12/24下午新北耶誕城廣場遺失鑽石項鍊\n",
      "pub_date : Wed Dec 27 08:59:55 2017\n"
     ]
    }
   ],
   "source": [
    "dict_key = ['author', 'board', 'title', 'pub_date']\n",
    "meta_list = ['Kay731 (K少)', 'Gossiping', 'Fw: [協尋] 12/24下午新北耶誕城廣場遺失鑽石項鍊', 'Wed Dec 27 08:59:55 2017']\n",
    "\n",
    "for k, v in zip(dict_key, meta_list):\n",
    "    print(\"%s : %s\"%(k,v))"
   ]
  },
  {
   "cell_type": "code",
   "execution_count": 331,
   "metadata": {},
   "outputs": [
    {
     "data": {
      "text/plain": [
       "{'author': 'Kay731 (K少)',\n",
       " 'board': 'Gossiping',\n",
       " 'pub_date': 'Wed Dec 27 08:59:55 2017',\n",
       " 'title': 'Fw: [協尋] 12/24下午新北耶誕城廣場遺失鑽石項鍊'}"
      ]
     },
     "execution_count": 331,
     "metadata": {},
     "output_type": "execute_result"
    }
   ],
   "source": [
    "dict_key = ['author', 'board', 'title', 'pub_date']\n",
    "meta_list = ['Kay731 (K少)', 'Gossiping', 'Fw: [協尋] 12/24下午新北耶誕城廣場遺失鑽石項鍊', 'Wed Dec 27 08:59:55 2017']\n",
    "\n",
    "page = {}\n",
    "for k, v in zip(dict_key, meta_list):\n",
    "    #print(\"%s : %s\"%(k,v))\n",
    "    page[k] = v\n",
    "page"
   ]
  },
  {
   "cell_type": "code",
   "execution_count": 328,
   "metadata": {},
   "outputs": [
    {
     "data": {
      "text/plain": [
       "['Kay731 (K少)',\n",
       " 'Gossiping',\n",
       " 'Fw: [協尋] 12/24下午新北耶誕城廣場遺失鑽石項鍊',\n",
       " 'Wed Dec 27 08:59:55 2017']"
      ]
     },
     "execution_count": 328,
     "metadata": {},
     "output_type": "execute_result"
    }
   ],
   "source": [
    "meta_list = [tag.text for tag in soup.select('span.article-meta-value')]\n",
    "meta_list"
   ]
  },
  {
   "cell_type": "code",
   "execution_count": 329,
   "metadata": {},
   "outputs": [
    {
     "data": {
      "text/plain": [
       "{'author': 'Kay731 (K少)',\n",
       " 'board': 'Gossiping',\n",
       " 'pub_date': 'Wed Dec 27 08:59:55 2017',\n",
       " 'title': 'Fw: [協尋] 12/24下午新北耶誕城廣場遺失鑽石項鍊'}"
      ]
     },
     "execution_count": 329,
     "metadata": {},
     "output_type": "execute_result"
    }
   ],
   "source": [
    "dict_key = ['author', 'board', 'title', 'pub_date']\n",
    "# meta_list = ['Kay731 (K少)', 'Gossiping', 'Fw: [協尋] 12/24下午新北耶誕城廣場遺失鑽石項鍊', 'Wed Dec 27 08:59:55 2017']\n",
    "\n",
    "# dictionary comprehension\n",
    "page = {k:v for k, v in zip(dict_key, meta_list)}\n",
    "page"
   ]
  },
  {
   "cell_type": "code",
   "execution_count": 225,
   "metadata": {},
   "outputs": [
    {
     "data": {
      "text/plain": [
       "{'author': 'Kay731 (K少)',\n",
       " 'board': 'Gossiping',\n",
       " 'ip': '42.72.160.231',\n",
       " 'pub_date': 'Wed Dec 27 08:59:55 2017',\n",
       " 'title': 'Fw: [協尋] 12/24下午新北耶誕城廣場遺失鑽石項鍊'}"
      ]
     },
     "execution_count": 225,
     "metadata": {},
     "output_type": "execute_result"
    }
   ],
   "source": [
    "import re\n",
    "\n",
    "page['ip'] = re.findall('來自: (\\d{1,3}\\.\\d{1,3}\\.\\d{1,3}\\.\\d{1,3})', html)[0]\n",
    "page"
   ]
  },
  {
   "cell_type": "markdown",
   "metadata": {},
   "source": [
    "# 內文比較複雜\n",
    "\n",
    "因為內文沒有被tag包住，可以直接select\n",
    "\n",
    "所以只能弄刪去法, 把不是內文的東西刪掉"
   ]
  },
  {
   "cell_type": "code",
   "execution_count": 239,
   "metadata": {},
   "outputs": [
    {
     "data": {
      "text/plain": [
       "'\\n\\n作者: nswitch (Nswitch) 看板: BigBanciao\\n標題: [協尋] 12/24下午新北耶誕城廣場遺失鑽石項鍊\\n時間: Wed Dec 27 08:42:37 2017\\n\\n\\n'"
      ]
     },
     "execution_count": 239,
     "metadata": {},
     "output_type": "execute_result"
    }
   ],
   "source": [
    "soup.select_one('#main-content').text[:100]"
   ]
  },
  {
   "cell_type": "code",
   "execution_count": 232,
   "metadata": {},
   "outputs": [],
   "source": [
    "for line in soup.select('.article-metaline'):\n",
    "    # extract就像list/dict的del，不會回傳東西，只會modify Object\n",
    "    line.extract()"
   ]
  },
  {
   "cell_type": "code",
   "execution_count": 234,
   "metadata": {},
   "outputs": [],
   "source": [
    "for line in soup.select('.article-metaline-right'):\n",
    "    # extract就像list/dict的del，不會回傳東西，只會modify Object\n",
    "    line.extract()"
   ]
  },
  {
   "cell_type": "code",
   "execution_count": 233,
   "metadata": {},
   "outputs": [
    {
     "data": {
      "text/plain": [
       "[]"
      ]
     },
     "execution_count": 233,
     "metadata": {},
     "output_type": "execute_result"
    }
   ],
   "source": [
    "soup.select('.article-metaline')"
   ]
  },
  {
   "cell_type": "code",
   "execution_count": 235,
   "metadata": {},
   "outputs": [
    {
     "data": {
      "text/plain": [
       "[]"
      ]
     },
     "execution_count": 235,
     "metadata": {},
     "output_type": "execute_result"
    }
   ],
   "source": [
    "soup.select('.article-metaline-right')"
   ]
  },
  {
   "cell_type": "code",
   "execution_count": 241,
   "metadata": {},
   "outputs": [
    {
     "data": {
      "text/plain": [
       "'\\n\\n作者: nswitch (Nswitch) 看板: BigBanciao\\n標題: [協尋] 12/24下午新北耶誕城廣場遺失鑽石項鍊\\n時間: Wed Dec 27 08:42:37 2017\\n\\n\\n'"
      ]
     },
     "execution_count": 241,
     "metadata": {},
     "output_type": "execute_result"
    }
   ],
   "source": [
    "soup.select('#main-content')[0].text[:100]"
   ]
  },
  {
   "cell_type": "code",
   "execution_count": 237,
   "metadata": {
    "scrolled": true
   },
   "outputs": [
    {
     "data": {
      "text/plain": [
       "<div class=\"bbs-screen bbs-content\" id=\"main-content\">\n",
       "\n",
       "作者: nswitch (Nswitch) 看板: BigBanciao\n",
       "標題: [協尋] 12/24下午新北耶誕城廣場遺失鑽石項鍊\n",
       "時間: Wed Dec 27 08:42:37 2017\n",
       "\n",
       "\n",
       "因朋友權限不足 是以代po\n",
       "並請友版版主轉文章並置底\n",
       "非常感謝您 真的很感謝\n",
       "\n",
       "內容\n",
       "請廣大的鄉民們幫忙或可轉至其他社群幫忙尋找\n",
       "\n",
       "時間: 12/24 星期日12:40～14:00這段時間遺失\n",
       "\n",
       "地點:新北市耶誕城市民廣場處\n",
       "\n",
       "因為家人那天帶小孩去新北耶誕城廣場玩\n",
       "在玩了旋轉木馬和飛椅之後\n",
       "發現脖子上的鑽石銀項鍊遺失了\n",
       "可能是鍊子斷掉了\n",
       "（特色是鑽石會自然晃動）\n",
       "後來有請大會廣播並再找了一天都沒找到\n",
       "甚至從縫隙看水溝蓋裡\n",
       "也至警局備案 但目前仍沒有找到\n",
       "\n",
       "鑽石重量十分不到 一般市價幾千元\n",
       "但那鑽石是由家人做成的生命寶石\n",
       "對我們意義重大 我們遺失非常的難過\n",
       "所以 真的能希望由廣大版友幫忙 能夠找回\n",
       "若有在那裡有撿到或是您的親友有看到拾得的話\n",
       "請Line: Nswitch\n",
       "或可交至耶誕城大會服務台\n",
       "也可送附近警察局再轉交給海山分局\n",
       "\n",
       "若是可能\n",
       "會用超放大鏡去看腰間刻的英文名和寶石編號\n",
       "經確定是我們遺失的\n",
       "我們會給您台幣一百萬元感謝您有好好地照顧與保護\n",
       "並在新北廣場發1000份雞排感謝ptt fb 或其他社群的朋友/恩人\n",
       "\n",
       "附上同款項鍊圖片和新北耶誕城遺失位置圖片連結\n",
       "<a href=\"https://imgur.com/gallery/KPuIH\" rel=\"nofollow\" target=\"_blank\">https://imgur.com/gallery/KPuIH</a>\n",
       "\n",
       "--\n",
       "\n",
       "</div>"
      ]
     },
     "execution_count": 237,
     "metadata": {},
     "output_type": "execute_result"
    }
   ],
   "source": [
    "content = soup.select_one('div#main-content')\n",
    "\n",
    "selectors_to_del = ['.article-metaline',\n",
    "                   '.article-metaline-right',\n",
    "                    'span.f2',\n",
    "                    'div.push'\n",
    "                   ]\n",
    "\n",
    "for selector in selectors_to_del:\n",
    "    [tag.extract() for tag in content.select(selector)]\n",
    "content"
   ]
  },
  {
   "cell_type": "code",
   "execution_count": 143,
   "metadata": {},
   "outputs": [
    {
     "data": {
      "text/plain": [
       "{'author': 'Kay731 (K少)',\n",
       " 'board': 'Gossiping',\n",
       " 'ip': '42.72.160.231',\n",
       " 'pub_date': 'Wed Dec 27 08:59:55 2017',\n",
       " 'title': 'Fw: [協尋] 12/24下午新北耶誕城廣場遺失鑽石項鍊'}"
      ]
     },
     "execution_count": 143,
     "metadata": {},
     "output_type": "execute_result"
    }
   ],
   "source": [
    "page"
   ]
  },
  {
   "cell_type": "code",
   "execution_count": 144,
   "metadata": {},
   "outputs": [],
   "source": [
    "page['content'] = content.text.strip()"
   ]
  },
  {
   "cell_type": "code",
   "execution_count": 145,
   "metadata": {},
   "outputs": [
    {
     "data": {
      "text/plain": [
       "{'author': 'Kay731 (K少)',\n",
       " 'board': 'Gossiping',\n",
       " 'content': '作者: nswitch (Nswitch) 看板: BigBanciao\\n標題: [協尋] 12/24下午新北耶誕城廣場遺失鑽石項鍊\\n時間: Wed Dec 27 08:42:37 2017\\n\\n\\n因朋友權限不足 是以代po\\n並請友版版主轉文章並置底\\n非常感謝您 真的很感謝\\n\\n內容\\n請廣大的鄉民們幫忙或可轉至其他社群幫忙尋找\\n\\n時間: 12/24 星期日12:40～14:00這段時間遺失\\n\\n地點:新北市耶誕城市民廣場處\\n\\n因為家人那天帶小孩去新北耶誕城廣場玩\\n在玩了旋轉木馬和飛椅之後\\n發現脖子上的鑽石銀項鍊遺失了\\n可能是鍊子斷掉了\\n（特色是鑽石會自然晃動）\\n後來有請大會廣播並再找了一天都沒找到\\n甚至從縫隙看水溝蓋裡\\n也至警局備案 但目前仍沒有找到\\n\\n鑽石重量十分不到 一般市價幾千元\\n但那鑽石是由家人做成的生命寶石\\n對我們意義重大 我們遺失非常的難過\\n所以 真的能希望由廣大版友幫忙 能夠找回\\n若有在那裡有撿到或是您的親友有看到拾得的話\\n請Line: Nswitch\\n或可交至耶誕城大會服務台\\n也可送附近警察局再轉交給海山分局\\n\\n若是可能\\n會用超放大鏡去看腰間刻的英文名和寶石編號\\n經確定是我們遺失的\\n我們會給您台幣一百萬元感謝您有好好地照顧與保護\\n並在新北廣場發1000份雞排感謝ptt fb 或其他社群的朋友/恩人\\n\\n附上同款項鍊圖片和新北耶誕城遺失位置圖片連結\\nhttps://imgur.com/gallery/KPuIH\\n\\n--',\n",
       " 'ip': '42.72.160.231',\n",
       " 'pub_date': 'Wed Dec 27 08:59:55 2017',\n",
       " 'title': 'Fw: [協尋] 12/24下午新北耶誕城廣場遺失鑽石項鍊'}"
      ]
     },
     "execution_count": 145,
     "metadata": {},
     "output_type": "execute_result"
    }
   ],
   "source": [
    "page"
   ]
  },
  {
   "cell_type": "markdown",
   "metadata": {},
   "source": [
    "# Youbike"
   ]
  },
  {
   "cell_type": "code",
   "execution_count": 254,
   "metadata": {},
   "outputs": [
    {
     "data": {
      "text/plain": [
       "'{\"retCode\":1,\"retVal\":{\"0001\":{\"sno\":\"0001\",\"sna\":\"捷運市政府站(3號出口)\",\"tot\":\"180\",\"sbi\":\"54\",\"sarea\":\"信義區'"
      ]
     },
     "execution_count": 254,
     "metadata": {},
     "output_type": "execute_result"
    }
   ],
   "source": [
    "import requests\n",
    "\n",
    "URL = 'http://data.taipei/youbike'\n",
    "\n",
    "resp = requests.get(URL)\n",
    "resp.text[:100]"
   ]
  },
  {
   "cell_type": "code",
   "execution_count": 246,
   "metadata": {},
   "outputs": [],
   "source": [
    "import json"
   ]
  },
  {
   "cell_type": "code",
   "execution_count": 248,
   "metadata": {},
   "outputs": [],
   "source": [
    "youbike_dict = json.loads(resp.text)"
   ]
  },
  {
   "cell_type": "code",
   "execution_count": 249,
   "metadata": {},
   "outputs": [
    {
     "data": {
      "text/plain": [
       "dict_keys(['retCode', 'retVal'])"
      ]
     },
     "execution_count": 249,
     "metadata": {},
     "output_type": "execute_result"
    }
   ],
   "source": [
    "youbike_dict.keys()"
   ]
  },
  {
   "cell_type": "code",
   "execution_count": 252,
   "metadata": {},
   "outputs": [
    {
     "data": {
      "text/plain": [
       "{'act': '1',\n",
       " 'ar': '忠孝東路/松仁路(東南側)',\n",
       " 'aren': 'The S.W. side of Road Zhongxiao East Road & Road Chung Yan.',\n",
       " 'bemp': '124',\n",
       " 'lat': '25.0408578889',\n",
       " 'lng': '121.567904444',\n",
       " 'mday': '20180102134415',\n",
       " 'sarea': '信義區',\n",
       " 'sareaen': 'Xinyi Dist.',\n",
       " 'sbi': '54',\n",
       " 'sna': '捷運市政府站(3號出口)',\n",
       " 'snaen': 'MRT Taipei City Hall Stataion(Exit 3)-2',\n",
       " 'sno': '0001',\n",
       " 'tot': '180'}"
      ]
     },
     "execution_count": 252,
     "metadata": {},
     "output_type": "execute_result"
    }
   ],
   "source": [
    "youbike_dict['retVal']['0001']"
   ]
  },
  {
   "cell_type": "code",
   "execution_count": 255,
   "metadata": {},
   "outputs": [],
   "source": [
    "import requests\n",
    "\n",
    "URL = 'http://data.taipei/youbike'\n",
    "\n",
    "resp = requests.get(URL)\n",
    "#resp.json()"
   ]
  },
  {
   "cell_type": "markdown",
   "metadata": {},
   "source": [
    "# Mobile01"
   ]
  },
  {
   "cell_type": "code",
   "execution_count": null,
   "metadata": {},
   "outputs": [],
   "source": [
    "!mkdir /tmp/mobile01_data"
   ]
  },
  {
   "cell_type": "code",
   "execution_count": 312,
   "metadata": {},
   "outputs": [],
   "source": [
    "import re\n",
    "import time\n",
    "\n",
    "import requests\n",
    "\n",
    "DATA_PATH = '/tmp/mobile01_data'\n",
    "CRAWL_PAGE_CNT = 10\n",
    "#URL_TEMPLATE = \"https://www.ptt.cc/bbs/Gossiping/index{}.html\"\n",
    "URL_TEMPLATE = \"https://www.mobile01.com/topiclist.php?f=383&p={}\"\n",
    "HOST = \"https://www.mobile01.com\"\n",
    "\n",
    "\n",
    "def get_w_cookie(url):\n",
    "    \"\"\"GET HTTP url with custom header containing cookie info for PTT\n",
    "\n",
    "    Parameters\n",
    "    ----------\n",
    "    url : str\n",
    "        PTT八卦版需要驗證年齡的URL，\n",
    "        如：https://www.ptt.cc/bbs/Gossiping/index31063.html\n",
    "\n",
    "    Returns\n",
    "    -------\n",
    "    Response\n",
    "        Requestsµ模組的Response Object\n",
    "    \"\"\"\n",
    "    custom_headers = {\n",
    "        \"cookie\": \"over18=1;\"\n",
    "    }\n",
    "    resp = requests.get(url, headers=custom_headers)\n",
    "    return resp\n",
    "\n",
    "\n",
    "def get_total_page_cnt():\n",
    "    \"\"\"取得現在ptt板塊的總頁數\n",
    "\n",
    "    Parameters\n",
    "    ----------\n",
    "\n",
    "    Returns\n",
    "    -------\n",
    "    int\n",
    "       現在ptt板塊的總頁數\n",
    "    \"\"\"\n",
    "    url = URL_TEMPLATE.format('')\n",
    "    resp = get_w_cookie(url)\n",
    "\n",
    "    # 這個符號\n",
    "    # ‹-> &lsaquo;\n",
    "    total_page_cnt = int(re.findall('href=\"/bbs/Gossiping/index(\\d+).html\">&lsaquo; 上頁', resp.text)[0]) + 1\n",
    "    return total_page_cnt\n",
    "\n",
    "def get_list_page(url):\n",
    "    \"\"\"GET列表頁，取得內文頁的連結們\n",
    "\n",
    "    Parameters\n",
    "    ----------\n",
    "    url : str\n",
    "        PTT 列表頁URL\n",
    "\n",
    "    Returns\n",
    "    -------\n",
    "    list\n",
    "       PTT內文頁的links\n",
    "    \"\"\"\n",
    "    resp = get_w_cookie(url)\n",
    "    links = re.findall('<a href=\"(topicdetail.php\\?f=383&t=\\d+)\" class=\"topic_gen\" title=\"人氣: \\d+\">', resp.text)\n",
    "    detail_page_links = [\"%s/%s\"%(HOST, link) for link in links]\n",
    "    return detail_page_links\n",
    "\n",
    "def dump_page(url):\n",
    "    \"\"\"GET url的HTML並且寫到檔案裡\n",
    "\n",
    "    Parameters\n",
    "    ----------\n",
    "    url : str\n",
    "        PTT 內文頁URL\n",
    "\n",
    "    Returns\n",
    "    -------\n",
    "    str\n",
    "       儲存的檔案名稱\n",
    "    \"\"\"\n",
    "    filename = \"_\".join(re.findall('f=(\\d+)&t=(\\d+)&p=(\\d+)', url)[0]) + '.html'\n",
    "    resp = get_w_cookie(url)\n",
    "\n",
    "    with open(DATA_PATH + '/' + filename, 'w') as f:\n",
    "        f.write(resp.text)\n",
    "    return resp"
   ]
  },
  {
   "cell_type": "code",
   "execution_count": 317,
   "metadata": {},
   "outputs": [
    {
     "name": "stdout",
     "output_type": "stream",
     "text": [
      "https://www.mobile01.com/topicdetail.php?f=383&t=5353784&p=1\n",
      "https://www.mobile01.com/topicdetail.php?f=383&t=5353784&p=2\n",
      "https://www.mobile01.com/topicdetail.php?f=383&t=5353784&p=3\n",
      "https://www.mobile01.com/topicdetail.php?f=383&t=5353784&p=4\n"
     ]
    },
    {
     "ename": "KeyboardInterrupt",
     "evalue": "",
     "output_type": "error",
     "traceback": [
      "\u001b[0;31m---------------------------------------------------------------------------\u001b[0m",
      "\u001b[0;31mKeyboardInterrupt\u001b[0m                         Traceback (most recent call last)",
      "\u001b[0;32m<ipython-input-317-844e2756cf30>\u001b[0m in \u001b[0;36m<module>\u001b[0;34m()\u001b[0m\n\u001b[1;32m      9\u001b[0m             \u001b[0mlink_url\u001b[0m \u001b[0;34m=\u001b[0m \u001b[0mlink\u001b[0m \u001b[0;34m+\u001b[0m \u001b[0;34m\"&p=%s\"\u001b[0m\u001b[0;34m%\u001b[0m\u001b[0mlink_pg\u001b[0m\u001b[0;34m\u001b[0m\u001b[0m\n\u001b[1;32m     10\u001b[0m             \u001b[0mprint\u001b[0m\u001b[0;34m(\u001b[0m\u001b[0mlink_url\u001b[0m\u001b[0;34m)\u001b[0m\u001b[0;34m\u001b[0m\u001b[0m\n\u001b[0;32m---> 11\u001b[0;31m             \u001b[0mresp\u001b[0m \u001b[0;34m=\u001b[0m \u001b[0mdump_page\u001b[0m\u001b[0;34m(\u001b[0m\u001b[0mlink_url\u001b[0m\u001b[0;34m)\u001b[0m\u001b[0;34m\u001b[0m\u001b[0m\n\u001b[0m\u001b[1;32m     12\u001b[0m             \u001b[0mtime\u001b[0m\u001b[0;34m.\u001b[0m\u001b[0msleep\u001b[0m\u001b[0;34m(\u001b[0m\u001b[0;36m0.4\u001b[0m\u001b[0;34m)\u001b[0m\u001b[0;34m\u001b[0m\u001b[0m\n\u001b[1;32m     13\u001b[0m \u001b[0;34m\u001b[0m\u001b[0m\n",
      "\u001b[0;32m<ipython-input-312-f680d085a50e>\u001b[0m in \u001b[0;36mdump_page\u001b[0;34m(url)\u001b[0m\n\u001b[1;32m     83\u001b[0m     \"\"\"\n\u001b[1;32m     84\u001b[0m     \u001b[0mfilename\u001b[0m \u001b[0;34m=\u001b[0m \u001b[0;34m\"_\"\u001b[0m\u001b[0;34m.\u001b[0m\u001b[0mjoin\u001b[0m\u001b[0;34m(\u001b[0m\u001b[0mre\u001b[0m\u001b[0;34m.\u001b[0m\u001b[0mfindall\u001b[0m\u001b[0;34m(\u001b[0m\u001b[0;34m'f=(\\d+)&t=(\\d+)&p=(\\d+)'\u001b[0m\u001b[0;34m,\u001b[0m \u001b[0murl\u001b[0m\u001b[0;34m)\u001b[0m\u001b[0;34m[\u001b[0m\u001b[0;36m0\u001b[0m\u001b[0;34m]\u001b[0m\u001b[0;34m)\u001b[0m \u001b[0;34m+\u001b[0m \u001b[0;34m'.html'\u001b[0m\u001b[0;34m\u001b[0m\u001b[0m\n\u001b[0;32m---> 85\u001b[0;31m     \u001b[0mresp\u001b[0m \u001b[0;34m=\u001b[0m \u001b[0mget_w_cookie\u001b[0m\u001b[0;34m(\u001b[0m\u001b[0murl\u001b[0m\u001b[0;34m)\u001b[0m\u001b[0;34m\u001b[0m\u001b[0m\n\u001b[0m\u001b[1;32m     86\u001b[0m \u001b[0;34m\u001b[0m\u001b[0m\n\u001b[1;32m     87\u001b[0m     \u001b[0;32mwith\u001b[0m \u001b[0mopen\u001b[0m\u001b[0;34m(\u001b[0m\u001b[0mDATA_PATH\u001b[0m \u001b[0;34m+\u001b[0m \u001b[0;34m'/'\u001b[0m \u001b[0;34m+\u001b[0m \u001b[0mfilename\u001b[0m\u001b[0;34m,\u001b[0m \u001b[0;34m'w'\u001b[0m\u001b[0;34m)\u001b[0m \u001b[0;32mas\u001b[0m \u001b[0mf\u001b[0m\u001b[0;34m:\u001b[0m\u001b[0;34m\u001b[0m\u001b[0m\n",
      "\u001b[0;32m<ipython-input-312-f680d085a50e>\u001b[0m in \u001b[0;36mget_w_cookie\u001b[0;34m(url)\u001b[0m\n\u001b[1;32m     28\u001b[0m         \u001b[0;34m\"cookie\"\u001b[0m\u001b[0;34m:\u001b[0m \u001b[0;34m\"over18=1;\"\u001b[0m\u001b[0;34m\u001b[0m\u001b[0m\n\u001b[1;32m     29\u001b[0m     }\n\u001b[0;32m---> 30\u001b[0;31m     \u001b[0mresp\u001b[0m \u001b[0;34m=\u001b[0m \u001b[0mrequests\u001b[0m\u001b[0;34m.\u001b[0m\u001b[0mget\u001b[0m\u001b[0;34m(\u001b[0m\u001b[0murl\u001b[0m\u001b[0;34m,\u001b[0m \u001b[0mheaders\u001b[0m\u001b[0;34m=\u001b[0m\u001b[0mcustom_headers\u001b[0m\u001b[0;34m)\u001b[0m\u001b[0;34m\u001b[0m\u001b[0m\n\u001b[0m\u001b[1;32m     31\u001b[0m     \u001b[0;32mreturn\u001b[0m \u001b[0mresp\u001b[0m\u001b[0;34m\u001b[0m\u001b[0m\n\u001b[1;32m     32\u001b[0m \u001b[0;34m\u001b[0m\u001b[0m\n",
      "\u001b[0;32m~/.pyenv/versions/3.6.4/lib/python3.6/site-packages/requests/api.py\u001b[0m in \u001b[0;36mget\u001b[0;34m(url, params, **kwargs)\u001b[0m\n\u001b[1;32m     70\u001b[0m \u001b[0;34m\u001b[0m\u001b[0m\n\u001b[1;32m     71\u001b[0m     \u001b[0mkwargs\u001b[0m\u001b[0;34m.\u001b[0m\u001b[0msetdefault\u001b[0m\u001b[0;34m(\u001b[0m\u001b[0;34m'allow_redirects'\u001b[0m\u001b[0;34m,\u001b[0m \u001b[0;32mTrue\u001b[0m\u001b[0;34m)\u001b[0m\u001b[0;34m\u001b[0m\u001b[0m\n\u001b[0;32m---> 72\u001b[0;31m     \u001b[0;32mreturn\u001b[0m \u001b[0mrequest\u001b[0m\u001b[0;34m(\u001b[0m\u001b[0;34m'get'\u001b[0m\u001b[0;34m,\u001b[0m \u001b[0murl\u001b[0m\u001b[0;34m,\u001b[0m \u001b[0mparams\u001b[0m\u001b[0;34m=\u001b[0m\u001b[0mparams\u001b[0m\u001b[0;34m,\u001b[0m \u001b[0;34m**\u001b[0m\u001b[0mkwargs\u001b[0m\u001b[0;34m)\u001b[0m\u001b[0;34m\u001b[0m\u001b[0m\n\u001b[0m\u001b[1;32m     73\u001b[0m \u001b[0;34m\u001b[0m\u001b[0m\n\u001b[1;32m     74\u001b[0m \u001b[0;34m\u001b[0m\u001b[0m\n",
      "\u001b[0;32m~/.pyenv/versions/3.6.4/lib/python3.6/site-packages/requests/api.py\u001b[0m in \u001b[0;36mrequest\u001b[0;34m(method, url, **kwargs)\u001b[0m\n\u001b[1;32m     56\u001b[0m     \u001b[0;31m# cases, and look like a memory leak in others.\u001b[0m\u001b[0;34m\u001b[0m\u001b[0;34m\u001b[0m\u001b[0m\n\u001b[1;32m     57\u001b[0m     \u001b[0;32mwith\u001b[0m \u001b[0msessions\u001b[0m\u001b[0;34m.\u001b[0m\u001b[0mSession\u001b[0m\u001b[0;34m(\u001b[0m\u001b[0;34m)\u001b[0m \u001b[0;32mas\u001b[0m \u001b[0msession\u001b[0m\u001b[0;34m:\u001b[0m\u001b[0;34m\u001b[0m\u001b[0m\n\u001b[0;32m---> 58\u001b[0;31m         \u001b[0;32mreturn\u001b[0m \u001b[0msession\u001b[0m\u001b[0;34m.\u001b[0m\u001b[0mrequest\u001b[0m\u001b[0;34m(\u001b[0m\u001b[0mmethod\u001b[0m\u001b[0;34m=\u001b[0m\u001b[0mmethod\u001b[0m\u001b[0;34m,\u001b[0m \u001b[0murl\u001b[0m\u001b[0;34m=\u001b[0m\u001b[0murl\u001b[0m\u001b[0;34m,\u001b[0m \u001b[0;34m**\u001b[0m\u001b[0mkwargs\u001b[0m\u001b[0;34m)\u001b[0m\u001b[0;34m\u001b[0m\u001b[0m\n\u001b[0m\u001b[1;32m     59\u001b[0m \u001b[0;34m\u001b[0m\u001b[0m\n\u001b[1;32m     60\u001b[0m \u001b[0;34m\u001b[0m\u001b[0m\n",
      "\u001b[0;32m~/.pyenv/versions/3.6.4/lib/python3.6/site-packages/requests/sessions.py\u001b[0m in \u001b[0;36mrequest\u001b[0;34m(self, method, url, params, data, headers, cookies, files, auth, timeout, allow_redirects, proxies, hooks, stream, verify, cert, json)\u001b[0m\n\u001b[1;32m    506\u001b[0m         }\n\u001b[1;32m    507\u001b[0m         \u001b[0msend_kwargs\u001b[0m\u001b[0;34m.\u001b[0m\u001b[0mupdate\u001b[0m\u001b[0;34m(\u001b[0m\u001b[0msettings\u001b[0m\u001b[0;34m)\u001b[0m\u001b[0;34m\u001b[0m\u001b[0m\n\u001b[0;32m--> 508\u001b[0;31m         \u001b[0mresp\u001b[0m \u001b[0;34m=\u001b[0m \u001b[0mself\u001b[0m\u001b[0;34m.\u001b[0m\u001b[0msend\u001b[0m\u001b[0;34m(\u001b[0m\u001b[0mprep\u001b[0m\u001b[0;34m,\u001b[0m \u001b[0;34m**\u001b[0m\u001b[0msend_kwargs\u001b[0m\u001b[0;34m)\u001b[0m\u001b[0;34m\u001b[0m\u001b[0m\n\u001b[0m\u001b[1;32m    509\u001b[0m \u001b[0;34m\u001b[0m\u001b[0m\n\u001b[1;32m    510\u001b[0m         \u001b[0;32mreturn\u001b[0m \u001b[0mresp\u001b[0m\u001b[0;34m\u001b[0m\u001b[0m\n",
      "\u001b[0;32m~/.pyenv/versions/3.6.4/lib/python3.6/site-packages/requests/sessions.py\u001b[0m in \u001b[0;36msend\u001b[0;34m(self, request, **kwargs)\u001b[0m\n\u001b[1;32m    616\u001b[0m \u001b[0;34m\u001b[0m\u001b[0m\n\u001b[1;32m    617\u001b[0m         \u001b[0;31m# Send the request\u001b[0m\u001b[0;34m\u001b[0m\u001b[0;34m\u001b[0m\u001b[0m\n\u001b[0;32m--> 618\u001b[0;31m         \u001b[0mr\u001b[0m \u001b[0;34m=\u001b[0m \u001b[0madapter\u001b[0m\u001b[0;34m.\u001b[0m\u001b[0msend\u001b[0m\u001b[0;34m(\u001b[0m\u001b[0mrequest\u001b[0m\u001b[0;34m,\u001b[0m \u001b[0;34m**\u001b[0m\u001b[0mkwargs\u001b[0m\u001b[0;34m)\u001b[0m\u001b[0;34m\u001b[0m\u001b[0m\n\u001b[0m\u001b[1;32m    619\u001b[0m \u001b[0;34m\u001b[0m\u001b[0m\n\u001b[1;32m    620\u001b[0m         \u001b[0;31m# Total elapsed time of the request (approximately)\u001b[0m\u001b[0;34m\u001b[0m\u001b[0;34m\u001b[0m\u001b[0m\n",
      "\u001b[0;32m~/.pyenv/versions/3.6.4/lib/python3.6/site-packages/requests/adapters.py\u001b[0m in \u001b[0;36msend\u001b[0;34m(self, request, stream, timeout, verify, cert, proxies)\u001b[0m\n\u001b[1;32m    438\u001b[0m                     \u001b[0mdecode_content\u001b[0m\u001b[0;34m=\u001b[0m\u001b[0;32mFalse\u001b[0m\u001b[0;34m,\u001b[0m\u001b[0;34m\u001b[0m\u001b[0m\n\u001b[1;32m    439\u001b[0m                     \u001b[0mretries\u001b[0m\u001b[0;34m=\u001b[0m\u001b[0mself\u001b[0m\u001b[0;34m.\u001b[0m\u001b[0mmax_retries\u001b[0m\u001b[0;34m,\u001b[0m\u001b[0;34m\u001b[0m\u001b[0m\n\u001b[0;32m--> 440\u001b[0;31m                     \u001b[0mtimeout\u001b[0m\u001b[0;34m=\u001b[0m\u001b[0mtimeout\u001b[0m\u001b[0;34m\u001b[0m\u001b[0m\n\u001b[0m\u001b[1;32m    441\u001b[0m                 )\n\u001b[1;32m    442\u001b[0m \u001b[0;34m\u001b[0m\u001b[0m\n",
      "\u001b[0;32m~/.pyenv/versions/3.6.4/lib/python3.6/site-packages/urllib3/connectionpool.py\u001b[0m in \u001b[0;36murlopen\u001b[0;34m(self, method, url, body, headers, retries, redirect, assert_same_host, timeout, pool_timeout, release_conn, chunked, body_pos, **response_kw)\u001b[0m\n\u001b[1;32m    599\u001b[0m                                                   \u001b[0mtimeout\u001b[0m\u001b[0;34m=\u001b[0m\u001b[0mtimeout_obj\u001b[0m\u001b[0;34m,\u001b[0m\u001b[0;34m\u001b[0m\u001b[0m\n\u001b[1;32m    600\u001b[0m                                                   \u001b[0mbody\u001b[0m\u001b[0;34m=\u001b[0m\u001b[0mbody\u001b[0m\u001b[0;34m,\u001b[0m \u001b[0mheaders\u001b[0m\u001b[0;34m=\u001b[0m\u001b[0mheaders\u001b[0m\u001b[0;34m,\u001b[0m\u001b[0;34m\u001b[0m\u001b[0m\n\u001b[0;32m--> 601\u001b[0;31m                                                   chunked=chunked)\n\u001b[0m\u001b[1;32m    602\u001b[0m \u001b[0;34m\u001b[0m\u001b[0m\n\u001b[1;32m    603\u001b[0m             \u001b[0;31m# If we're going to release the connection in ``finally:``, then\u001b[0m\u001b[0;34m\u001b[0m\u001b[0;34m\u001b[0m\u001b[0m\n",
      "\u001b[0;32m~/.pyenv/versions/3.6.4/lib/python3.6/site-packages/urllib3/connectionpool.py\u001b[0m in \u001b[0;36m_make_request\u001b[0;34m(self, conn, method, url, timeout, chunked, **httplib_request_kw)\u001b[0m\n\u001b[1;32m    344\u001b[0m         \u001b[0;31m# Trigger any extra validation we need to do.\u001b[0m\u001b[0;34m\u001b[0m\u001b[0;34m\u001b[0m\u001b[0m\n\u001b[1;32m    345\u001b[0m         \u001b[0;32mtry\u001b[0m\u001b[0;34m:\u001b[0m\u001b[0;34m\u001b[0m\u001b[0m\n\u001b[0;32m--> 346\u001b[0;31m             \u001b[0mself\u001b[0m\u001b[0;34m.\u001b[0m\u001b[0m_validate_conn\u001b[0m\u001b[0;34m(\u001b[0m\u001b[0mconn\u001b[0m\u001b[0;34m)\u001b[0m\u001b[0;34m\u001b[0m\u001b[0m\n\u001b[0m\u001b[1;32m    347\u001b[0m         \u001b[0;32mexcept\u001b[0m \u001b[0;34m(\u001b[0m\u001b[0mSocketTimeout\u001b[0m\u001b[0;34m,\u001b[0m \u001b[0mBaseSSLError\u001b[0m\u001b[0;34m)\u001b[0m \u001b[0;32mas\u001b[0m \u001b[0me\u001b[0m\u001b[0;34m:\u001b[0m\u001b[0;34m\u001b[0m\u001b[0m\n\u001b[1;32m    348\u001b[0m             \u001b[0;31m# Py2 raises this as a BaseSSLError, Py3 raises it as socket timeout.\u001b[0m\u001b[0;34m\u001b[0m\u001b[0;34m\u001b[0m\u001b[0m\n",
      "\u001b[0;32m~/.pyenv/versions/3.6.4/lib/python3.6/site-packages/urllib3/connectionpool.py\u001b[0m in \u001b[0;36m_validate_conn\u001b[0;34m(self, conn)\u001b[0m\n\u001b[1;32m    848\u001b[0m         \u001b[0;31m# Force connect early to allow us to validate the connection.\u001b[0m\u001b[0;34m\u001b[0m\u001b[0;34m\u001b[0m\u001b[0m\n\u001b[1;32m    849\u001b[0m         \u001b[0;32mif\u001b[0m \u001b[0;32mnot\u001b[0m \u001b[0mgetattr\u001b[0m\u001b[0;34m(\u001b[0m\u001b[0mconn\u001b[0m\u001b[0;34m,\u001b[0m \u001b[0;34m'sock'\u001b[0m\u001b[0;34m,\u001b[0m \u001b[0;32mNone\u001b[0m\u001b[0;34m)\u001b[0m\u001b[0;34m:\u001b[0m  \u001b[0;31m# AppEngine might not have  `.sock`\u001b[0m\u001b[0;34m\u001b[0m\u001b[0m\n\u001b[0;32m--> 850\u001b[0;31m             \u001b[0mconn\u001b[0m\u001b[0;34m.\u001b[0m\u001b[0mconnect\u001b[0m\u001b[0;34m(\u001b[0m\u001b[0;34m)\u001b[0m\u001b[0;34m\u001b[0m\u001b[0m\n\u001b[0m\u001b[1;32m    851\u001b[0m \u001b[0;34m\u001b[0m\u001b[0m\n\u001b[1;32m    852\u001b[0m         \u001b[0;32mif\u001b[0m \u001b[0;32mnot\u001b[0m \u001b[0mconn\u001b[0m\u001b[0;34m.\u001b[0m\u001b[0mis_verified\u001b[0m\u001b[0;34m:\u001b[0m\u001b[0;34m\u001b[0m\u001b[0m\n",
      "\u001b[0;32m~/.pyenv/versions/3.6.4/lib/python3.6/site-packages/urllib3/connection.py\u001b[0m in \u001b[0;36mconnect\u001b[0;34m(self)\u001b[0m\n\u001b[1;32m    282\u001b[0m     \u001b[0;32mdef\u001b[0m \u001b[0mconnect\u001b[0m\u001b[0;34m(\u001b[0m\u001b[0mself\u001b[0m\u001b[0;34m)\u001b[0m\u001b[0;34m:\u001b[0m\u001b[0;34m\u001b[0m\u001b[0m\n\u001b[1;32m    283\u001b[0m         \u001b[0;31m# Add certificate verification\u001b[0m\u001b[0;34m\u001b[0m\u001b[0;34m\u001b[0m\u001b[0m\n\u001b[0;32m--> 284\u001b[0;31m         \u001b[0mconn\u001b[0m \u001b[0;34m=\u001b[0m \u001b[0mself\u001b[0m\u001b[0;34m.\u001b[0m\u001b[0m_new_conn\u001b[0m\u001b[0;34m(\u001b[0m\u001b[0;34m)\u001b[0m\u001b[0;34m\u001b[0m\u001b[0m\n\u001b[0m\u001b[1;32m    285\u001b[0m \u001b[0;34m\u001b[0m\u001b[0m\n\u001b[1;32m    286\u001b[0m         \u001b[0mhostname\u001b[0m \u001b[0;34m=\u001b[0m \u001b[0mself\u001b[0m\u001b[0;34m.\u001b[0m\u001b[0mhost\u001b[0m\u001b[0;34m\u001b[0m\u001b[0m\n",
      "\u001b[0;32m~/.pyenv/versions/3.6.4/lib/python3.6/site-packages/urllib3/connection.py\u001b[0m in \u001b[0;36m_new_conn\u001b[0;34m(self)\u001b[0m\n\u001b[1;32m    139\u001b[0m         \u001b[0;32mtry\u001b[0m\u001b[0;34m:\u001b[0m\u001b[0;34m\u001b[0m\u001b[0m\n\u001b[1;32m    140\u001b[0m             conn = connection.create_connection(\n\u001b[0;32m--> 141\u001b[0;31m                 (self.host, self.port), self.timeout, **extra_kw)\n\u001b[0m\u001b[1;32m    142\u001b[0m \u001b[0;34m\u001b[0m\u001b[0m\n\u001b[1;32m    143\u001b[0m         \u001b[0;32mexcept\u001b[0m \u001b[0mSocketTimeout\u001b[0m \u001b[0;32mas\u001b[0m \u001b[0me\u001b[0m\u001b[0;34m:\u001b[0m\u001b[0;34m\u001b[0m\u001b[0m\n",
      "\u001b[0;32m~/.pyenv/versions/3.6.4/lib/python3.6/site-packages/urllib3/util/connection.py\u001b[0m in \u001b[0;36mcreate_connection\u001b[0;34m(address, timeout, source_address, socket_options)\u001b[0m\n\u001b[1;32m     71\u001b[0m             \u001b[0;32mif\u001b[0m \u001b[0msource_address\u001b[0m\u001b[0;34m:\u001b[0m\u001b[0;34m\u001b[0m\u001b[0m\n\u001b[1;32m     72\u001b[0m                 \u001b[0msock\u001b[0m\u001b[0;34m.\u001b[0m\u001b[0mbind\u001b[0m\u001b[0;34m(\u001b[0m\u001b[0msource_address\u001b[0m\u001b[0;34m)\u001b[0m\u001b[0;34m\u001b[0m\u001b[0m\n\u001b[0;32m---> 73\u001b[0;31m             \u001b[0msock\u001b[0m\u001b[0;34m.\u001b[0m\u001b[0mconnect\u001b[0m\u001b[0;34m(\u001b[0m\u001b[0msa\u001b[0m\u001b[0;34m)\u001b[0m\u001b[0;34m\u001b[0m\u001b[0m\n\u001b[0m\u001b[1;32m     74\u001b[0m             \u001b[0;32mreturn\u001b[0m \u001b[0msock\u001b[0m\u001b[0;34m\u001b[0m\u001b[0m\n\u001b[1;32m     75\u001b[0m \u001b[0;34m\u001b[0m\u001b[0m\n",
      "\u001b[0;31mKeyboardInterrupt\u001b[0m: "
     ]
    }
   ],
   "source": [
    "for pg in range(1,2):\n",
    "    url = URL_TEMPLATE.format(pg)\n",
    "    for link in get_list_page(url):\n",
    "        link_pg = 1\n",
    "        while True:\n",
    "            \"\"\"\n",
    "            內文頁換頁邏輯\n",
    "            \"\"\"\n",
    "            link_url = link + \"&p=%s\"%link_pg\n",
    "            print(link_url)\n",
    "            resp = dump_page(link_url)\n",
    "            time.sleep(0.4)\n",
    "            \n",
    "            \"\"\"\n",
    "            用canonical address來做判斷是否爬到最後一頁\n",
    "            \"\"\"\n",
    "            canonical = re.findall('<link rel=\"canonical\" href=\"(.+)\" />', resp.text)[0]\n",
    "            if link_pg == 1: #第一頁的特別處理，拿掉p=1\n",
    "                link_url = link_url[:-4]\n",
    "            if canonical != link_url:\n",
    "                break\n",
    "            link_pg += 1"
   ]
  },
  {
   "cell_type": "code",
   "execution_count": null,
   "metadata": {},
   "outputs": [],
   "source": []
  }
 ],
 "metadata": {
  "kernelspec": {
   "display_name": "Python 3",
   "language": "python",
   "name": "python3"
  },
  "language_info": {
   "codemirror_mode": {
    "name": "ipython",
    "version": 3
   },
   "file_extension": ".py",
   "mimetype": "text/x-python",
   "name": "python",
   "nbconvert_exporter": "python",
   "pygments_lexer": "ipython3",
   "version": "3.6.4"
  }
 },
 "nbformat": 4,
 "nbformat_minor": 2
}
