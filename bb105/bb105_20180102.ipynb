{
 "cells": [
  {
   "cell_type": "markdown",
   "metadata": {},
   "source": [
    "# 爬蟲複習"
   ]
  },
  {
   "cell_type": "code",
   "execution_count": 1,
   "metadata": {},
   "outputs": [
    {
     "data": {
      "text/plain": [
       "'<!DOCTYPE html>\\n<html>\\n\\t<head>\\n\\t\\t<meta charset=\"utf-8\">\\n\\t\\t\\n\\n<meta name=\"viewport\" content=\"width=device-width, initial-scale=1\">\\n\\n<title>批踢踢實業坊</title>\\n\\n<link rel=\"stylesheet\" type=\"text/css\" href=\"//images.ptt.cc/bbs/v2.22/bbs-common.css\">\\n<link rel=\"stylesheet\" type=\"text/css\" href=\"//images.ptt.cc/bbs/v2.22/bbs-base.css\" media=\"screen\">\\n<link rel=\"stylesheet\" type=\"text/css\" href=\"//images.ptt.cc/bbs/v2.22/bbs-custom.css\">\\n<link rel=\"stylesheet\" type=\"text/css\" href=\"//images.ptt.cc/bbs/v2.22/pushstream.css\" media=\"screen\">\\n<link rel=\"stylesheet\" type=\"text/css\" href=\"//images.ptt.cc/bbs/v2.22/bbs-print.css\" media=\"print\">\\n\\n\\n\\n\\n\\t</head>\\n    <body>\\n\\t\\t\\n<div class=\"bbs-screen bbs-content\">\\n    <div class=\"over18-notice\">\\n        <p>本網站已依網站內容分級規定處理</p>\\n\\n        <p>警告︰您即將進入之看板內容需滿十八歲方可瀏覽。</p>\\n\\n        <p>若您尚未年滿十八歲，請點選離開。若您已滿十八歲，亦不可將本區之內容派發、傳閱、出售、出租、交給或借予年齡未滿18歲的人士瀏覽，或將本網站內容向該人士出示、播放或放映。</p>\\n    </div>\\n</div>\\n\\n<div class=\"bbs-screen bbs-content center clear\">\\n    <form action=\"/ask/over18\" method=\"post\">\\n        <input type=\"hidden\" name=\"from\" value=\"/bbs/Gossiping/index.html\">\\n        <div class=\"over18-button-container\">\\n            <button class=\"btn-big\" type=\"submit\" name=\"yes\" value=\"yes\">我同意，我已年滿十八歲<br><small>進入</small></button>\\n        </div>\\n        <div class=\"over18-button-container\">\\n            <button class=\"btn-big\" type=\"submit\" name=\"no\" value=\"no\">未滿十八歲或不同意本條款<br><small>離開</small></button>\\n        </div>\\n    </form>\\n</div>\\n\\n\\t\\t\\n\\n<script>\\n  (function(i,s,o,g,r,a,m){i[\\'GoogleAnalyticsObject\\']=r;i[r]=i[r]||function(){\\n  (i[r].q=i[r].q||[]).push(arguments)},i[r].l=1*new Date();a=s.createElement(o),\\n  m=s.getElementsByTagName(o)[0];a.async=1;a.src=g;m.parentNode.insertBefore(a,m)\\n  })(window,document,\\'script\\',\\'https://www.google-analytics.com/analytics.js\\',\\'ga\\');\\n\\n  ga(\\'create\\', \\'UA-32365737-1\\', {\\n    cookieDomain: \\'ptt.cc\\',\\n    legacyCookieDomain: \\'ptt.cc\\'\\n  });\\n  ga(\\'send\\', \\'pageview\\');\\n</script>\\n\\n\\n\\t\\t\\n<script src=\"//ajax.googleapis.com/ajax/libs/jquery/2.1.1/jquery.min.js\"></script>\\n<script src=\"//images.ptt.cc/bbs/v2.22/bbs.js\"></script>\\n\\n    </body>\\n</html>\\n'"
      ]
     },
     "execution_count": 1,
     "metadata": {},
     "output_type": "execute_result"
    }
   ],
   "source": [
    "import requests\n",
    "\n",
    "URL = \"https://www.ptt.cc/bbs/Gossiping/index.html\"\n",
    "\n",
    "resp = requests.get(URL)\n",
    "resp.text"
   ]
  },
  {
   "cell_type": "markdown",
   "metadata": {},
   "source": [
    "## 仔細觀察瀏覽PTT八卦版的流程，並且打開開發者工具"
   ]
  },
  {
   "cell_type": "code",
   "execution_count": 10,
   "metadata": {},
   "outputs": [
    {
     "data": {
      "text/plain": [
       "'tn wide disabled\">下頁 &rsaquo;</a>\\n\\t\\t\\t\\t<a class=\"btn wide\" href=\"/bbs/Gossiping/index.html\">最新</a>\\n\\t\\t\\t</div>\\n\\t\\t</div>\\n\\t</div>\\n\\n\\t<div class=\"r-list-container action-bar-margin bbs-screen\">\\n\\t\\t\\n\\t\\t\\n            \\n        \\n        \\n\\t\\t<div class=\"r-ent\">\\n\\t\\t\\t<div class=\"nrec\"><span class=\"hl f2\">3</span></div>\\n\\t\\t\\t<div class=\"mark\"></div>\\n\\t\\t\\t<div class=\"title\">\\n\\t\\t\\t\\n\\t\\t\\t\\t<a href=\"/bbs/Gossiping/M.1514806260.A.'"
      ]
     },
     "execution_count": 10,
     "metadata": {},
     "output_type": "execute_result"
    }
   ],
   "source": [
    "import requests\n",
    "\n",
    "URL = \"https://www.ptt.cc/bbs/Gossiping/index.html\"\n",
    "\n",
    "custom_headers = {\n",
    "    \"cookie\": \"over18=1;\"\n",
    "}\n",
    "\n",
    "resp = requests.get(URL, headers=custom_headers)\n",
    "resp.text[1500:1900]\n",
    "# 成功！"
   ]
  },
  {
   "cell_type": "markdown",
   "metadata": {},
   "source": [
    "## 思考一下PTT的換頁策略\n",
    "\n",
    "我們需要知道現在最新的頁面是多少\n",
    "\n",
    "![https://i.imgur.com/MBX0eET.png](https://i.imgur.com/MBX0eET.png)\n",
    "\n",
    "可以用上次的re模組撰寫regular express來取得"
   ]
  },
  {
   "cell_type": "code",
   "execution_count": 55,
   "metadata": {},
   "outputs": [
    {
     "data": {
      "text/plain": [
       "31008"
      ]
     },
     "execution_count": 55,
     "metadata": {},
     "output_type": "execute_result"
    }
   ],
   "source": [
    "import re\n",
    "\n",
    "import requests\n",
    "\n",
    "URL = \"https://www.ptt.cc/bbs/Gossiping/index.html\"\n",
    "\n",
    "custom_headers = {\n",
    "    \"cookie\": \"over18=1;\"\n",
    "}\n",
    "\n",
    "resp = requests.get(URL, headers=custom_headers)\n",
    "\n",
    "# 這個符號\n",
    "# ‹-> &lsaquo;\n",
    "total_page_cnt = int(re.findall('href=\"/bbs/Gossiping/index(\\d+).html\">&lsaquo; 上頁', resp.text)[0]) + 1\n",
    "\n",
    "total_page_cnt"
   ]
  },
  {
   "cell_type": "code",
   "execution_count": 60,
   "metadata": {},
   "outputs": [],
   "source": [
    "# 整理成function\n",
    "def get_total_page_cnt():\n",
    "    URL = \"https://www.ptt.cc/bbs/Gossiping/index.html\"\n",
    "\n",
    "    custom_headers = {\n",
    "        \"cookie\": \"over18=1;\"\n",
    "    }\n",
    "\n",
    "    resp = requests.get(URL, headers=custom_headers)\n",
    "\n",
    "    # 這個符號\n",
    "    # ‹-> &lsaquo;\n",
    "    total_page_cnt = int(re.findall('href=\"/bbs/Gossiping/index(\\d+).html\">&lsaquo; 上頁', resp.text)[0]) + 1\n",
    "    return total_page_cnt"
   ]
  },
  {
   "cell_type": "markdown",
   "metadata": {},
   "source": [
    "## 單頁爬蟲"
   ]
  },
  {
   "cell_type": "code",
   "execution_count": 75,
   "metadata": {},
   "outputs": [],
   "source": [
    "import re\n",
    "\n",
    "import requests\n",
    "\n",
    "def get_list_page(url):\n",
    "    HOST = \"https://www.ptt.cc\"\n",
    "    \n",
    "    custom_headers = {\n",
    "        \"cookie\": \"over18=1;\"\n",
    "    }\n",
    "\n",
    "    resp = requests.get(URL, headers=custom_headers)\n",
    "    links = re.findall('<a href=\"(/bbs/Gossiping/M.+\\.html)\">.+</a>', resp.text)\n",
    "    for link in links:\n",
    "        # Generator\n",
    "        # https://wiki.python.org/moin/Generators\n",
    "        yield HOST + link"
   ]
  },
  {
   "cell_type": "code",
   "execution_count": 77,
   "metadata": {},
   "outputs": [
    {
     "name": "stdout",
     "output_type": "stream",
     "text": [
      "https://www.ptt.cc/bbs/Gossiping/M.1514807382.A.0CA.html\n",
      "https://www.ptt.cc/bbs/Gossiping/M.1514807473.A.511.html\n",
      "https://www.ptt.cc/bbs/Gossiping/M.1514807474.A.985.html\n",
      "https://www.ptt.cc/bbs/Gossiping/M.1514807510.A.E2C.html\n",
      "https://www.ptt.cc/bbs/Gossiping/M.1514807521.A.342.html\n",
      "https://www.ptt.cc/bbs/Gossiping/M.1514807566.A.84B.html\n",
      "https://www.ptt.cc/bbs/Gossiping/M.1514807580.A.0BF.html\n",
      "https://www.ptt.cc/bbs/Gossiping/M.1514807581.A.E1D.html\n",
      "https://www.ptt.cc/bbs/Gossiping/M.1514807585.A.663.html\n",
      "https://www.ptt.cc/bbs/Gossiping/M.1514807609.A.9EC.html\n",
      "https://www.ptt.cc/bbs/Gossiping/M.1514807618.A.D7F.html\n",
      "https://www.ptt.cc/bbs/Gossiping/M.1514807622.A.3E3.html\n",
      "https://www.ptt.cc/bbs/Gossiping/M.1510415718.A.D77.html\n",
      "https://www.ptt.cc/bbs/Gossiping/M.1514720863.A.84E.html\n",
      "https://www.ptt.cc/bbs/Gossiping/M.1514336396.A.B25.html\n",
      "https://www.ptt.cc/bbs/Gossiping/M.1514738804.A.4A0.html\n"
     ]
    }
   ],
   "source": [
    "for link in get_list_page('https://www.ptt.cc/bbs/Gossiping/index31008.html'):\n",
    "    print(link)"
   ]
  },
  {
   "cell_type": "code",
   "execution_count": 80,
   "metadata": {},
   "outputs": [
    {
     "name": "stdout",
     "output_type": "stream",
     "text": [
      "https://www.ptt.cc/bbs/Gossiping/M.1514807382.A.0CA.html\n",
      "https://www.ptt.cc/bbs/Gossiping/M.1514807473.A.511.html\n",
      "https://www.ptt.cc/bbs/Gossiping/M.1514807474.A.985.html\n",
      "https://www.ptt.cc/bbs/Gossiping/M.1514807510.A.E2C.html\n",
      "https://www.ptt.cc/bbs/Gossiping/M.1514807521.A.342.html\n",
      "https://www.ptt.cc/bbs/Gossiping/M.1514807566.A.84B.html\n",
      "https://www.ptt.cc/bbs/Gossiping/M.1514807580.A.0BF.html\n",
      "https://www.ptt.cc/bbs/Gossiping/M.1514807581.A.E1D.html\n",
      "https://www.ptt.cc/bbs/Gossiping/M.1514807585.A.663.html\n",
      "https://www.ptt.cc/bbs/Gossiping/M.1514807609.A.9EC.html\n",
      "https://www.ptt.cc/bbs/Gossiping/M.1514807618.A.D7F.html\n",
      "https://www.ptt.cc/bbs/Gossiping/M.1514807622.A.3E3.html\n",
      "https://www.ptt.cc/bbs/Gossiping/M.1514807702.A.BB6.html\n",
      "https://www.ptt.cc/bbs/Gossiping/M.1514807707.A.12A.html\n",
      "https://www.ptt.cc/bbs/Gossiping/M.1514807718.A.FC3.html\n",
      "https://www.ptt.cc/bbs/Gossiping/M.1514807725.A.B98.html\n",
      "https://www.ptt.cc/bbs/Gossiping/M.1510415718.A.D77.html\n",
      "https://www.ptt.cc/bbs/Gossiping/M.1514720863.A.84E.html\n",
      "https://www.ptt.cc/bbs/Gossiping/M.1514336396.A.B25.html\n",
      "https://www.ptt.cc/bbs/Gossiping/M.1514738804.A.4A0.html\n",
      "https://www.ptt.cc/bbs/Gossiping/M.1514807382.A.0CA.html\n",
      "https://www.ptt.cc/bbs/Gossiping/M.1514807473.A.511.html\n",
      "https://www.ptt.cc/bbs/Gossiping/M.1514807474.A.985.html\n",
      "https://www.ptt.cc/bbs/Gossiping/M.1514807510.A.E2C.html\n",
      "https://www.ptt.cc/bbs/Gossiping/M.1514807521.A.342.html\n",
      "https://www.ptt.cc/bbs/Gossiping/M.1514807566.A.84B.html\n",
      "https://www.ptt.cc/bbs/Gossiping/M.1514807580.A.0BF.html\n",
      "https://www.ptt.cc/bbs/Gossiping/M.1514807581.A.E1D.html\n",
      "https://www.ptt.cc/bbs/Gossiping/M.1514807585.A.663.html\n",
      "https://www.ptt.cc/bbs/Gossiping/M.1514807609.A.9EC.html\n",
      "https://www.ptt.cc/bbs/Gossiping/M.1514807618.A.D7F.html\n",
      "https://www.ptt.cc/bbs/Gossiping/M.1514807622.A.3E3.html\n",
      "https://www.ptt.cc/bbs/Gossiping/M.1514807702.A.BB6.html\n",
      "https://www.ptt.cc/bbs/Gossiping/M.1514807707.A.12A.html\n",
      "https://www.ptt.cc/bbs/Gossiping/M.1514807718.A.FC3.html\n",
      "https://www.ptt.cc/bbs/Gossiping/M.1514807725.A.B98.html\n",
      "https://www.ptt.cc/bbs/Gossiping/M.1510415718.A.D77.html\n",
      "https://www.ptt.cc/bbs/Gossiping/M.1514720863.A.84E.html\n",
      "https://www.ptt.cc/bbs/Gossiping/M.1514336396.A.B25.html\n",
      "https://www.ptt.cc/bbs/Gossiping/M.1514738804.A.4A0.html\n",
      "https://www.ptt.cc/bbs/Gossiping/M.1514807382.A.0CA.html\n",
      "https://www.ptt.cc/bbs/Gossiping/M.1514807473.A.511.html\n",
      "https://www.ptt.cc/bbs/Gossiping/M.1514807474.A.985.html\n",
      "https://www.ptt.cc/bbs/Gossiping/M.1514807510.A.E2C.html\n",
      "https://www.ptt.cc/bbs/Gossiping/M.1514807521.A.342.html\n",
      "https://www.ptt.cc/bbs/Gossiping/M.1514807566.A.84B.html\n",
      "https://www.ptt.cc/bbs/Gossiping/M.1514807580.A.0BF.html\n",
      "https://www.ptt.cc/bbs/Gossiping/M.1514807581.A.E1D.html\n",
      "https://www.ptt.cc/bbs/Gossiping/M.1514807585.A.663.html\n",
      "https://www.ptt.cc/bbs/Gossiping/M.1514807609.A.9EC.html\n",
      "https://www.ptt.cc/bbs/Gossiping/M.1514807618.A.D7F.html\n",
      "https://www.ptt.cc/bbs/Gossiping/M.1514807622.A.3E3.html\n",
      "https://www.ptt.cc/bbs/Gossiping/M.1514807702.A.BB6.html\n",
      "https://www.ptt.cc/bbs/Gossiping/M.1514807707.A.12A.html\n",
      "https://www.ptt.cc/bbs/Gossiping/M.1514807718.A.FC3.html\n",
      "https://www.ptt.cc/bbs/Gossiping/M.1514807725.A.B98.html\n",
      "https://www.ptt.cc/bbs/Gossiping/M.1510415718.A.D77.html\n",
      "https://www.ptt.cc/bbs/Gossiping/M.1514720863.A.84E.html\n",
      "https://www.ptt.cc/bbs/Gossiping/M.1514336396.A.B25.html\n",
      "https://www.ptt.cc/bbs/Gossiping/M.1514738804.A.4A0.html\n",
      "https://www.ptt.cc/bbs/Gossiping/M.1514807382.A.0CA.html\n",
      "https://www.ptt.cc/bbs/Gossiping/M.1514807473.A.511.html\n",
      "https://www.ptt.cc/bbs/Gossiping/M.1514807474.A.985.html\n",
      "https://www.ptt.cc/bbs/Gossiping/M.1514807510.A.E2C.html\n",
      "https://www.ptt.cc/bbs/Gossiping/M.1514807521.A.342.html\n",
      "https://www.ptt.cc/bbs/Gossiping/M.1514807566.A.84B.html\n",
      "https://www.ptt.cc/bbs/Gossiping/M.1514807580.A.0BF.html\n",
      "https://www.ptt.cc/bbs/Gossiping/M.1514807581.A.E1D.html\n",
      "https://www.ptt.cc/bbs/Gossiping/M.1514807585.A.663.html\n",
      "https://www.ptt.cc/bbs/Gossiping/M.1514807609.A.9EC.html\n",
      "https://www.ptt.cc/bbs/Gossiping/M.1514807618.A.D7F.html\n",
      "https://www.ptt.cc/bbs/Gossiping/M.1514807622.A.3E3.html\n",
      "https://www.ptt.cc/bbs/Gossiping/M.1514807702.A.BB6.html\n",
      "https://www.ptt.cc/bbs/Gossiping/M.1514807707.A.12A.html\n",
      "https://www.ptt.cc/bbs/Gossiping/M.1514807718.A.FC3.html\n",
      "https://www.ptt.cc/bbs/Gossiping/M.1514807725.A.B98.html\n",
      "https://www.ptt.cc/bbs/Gossiping/M.1510415718.A.D77.html\n",
      "https://www.ptt.cc/bbs/Gossiping/M.1514720863.A.84E.html\n",
      "https://www.ptt.cc/bbs/Gossiping/M.1514336396.A.B25.html\n",
      "https://www.ptt.cc/bbs/Gossiping/M.1514738804.A.4A0.html\n",
      "https://www.ptt.cc/bbs/Gossiping/M.1514807382.A.0CA.html\n",
      "https://www.ptt.cc/bbs/Gossiping/M.1514807473.A.511.html\n",
      "https://www.ptt.cc/bbs/Gossiping/M.1514807474.A.985.html\n",
      "https://www.ptt.cc/bbs/Gossiping/M.1514807510.A.E2C.html\n",
      "https://www.ptt.cc/bbs/Gossiping/M.1514807521.A.342.html\n",
      "https://www.ptt.cc/bbs/Gossiping/M.1514807566.A.84B.html\n",
      "https://www.ptt.cc/bbs/Gossiping/M.1514807580.A.0BF.html\n",
      "https://www.ptt.cc/bbs/Gossiping/M.1514807581.A.E1D.html\n",
      "https://www.ptt.cc/bbs/Gossiping/M.1514807585.A.663.html\n",
      "https://www.ptt.cc/bbs/Gossiping/M.1514807609.A.9EC.html\n",
      "https://www.ptt.cc/bbs/Gossiping/M.1514807618.A.D7F.html\n",
      "https://www.ptt.cc/bbs/Gossiping/M.1514807622.A.3E3.html\n",
      "https://www.ptt.cc/bbs/Gossiping/M.1514807702.A.BB6.html\n",
      "https://www.ptt.cc/bbs/Gossiping/M.1514807707.A.12A.html\n",
      "https://www.ptt.cc/bbs/Gossiping/M.1514807718.A.FC3.html\n",
      "https://www.ptt.cc/bbs/Gossiping/M.1514807725.A.B98.html\n",
      "https://www.ptt.cc/bbs/Gossiping/M.1510415718.A.D77.html\n",
      "https://www.ptt.cc/bbs/Gossiping/M.1514720863.A.84E.html\n",
      "https://www.ptt.cc/bbs/Gossiping/M.1514336396.A.B25.html\n",
      "https://www.ptt.cc/bbs/Gossiping/M.1514738804.A.4A0.html\n",
      "https://www.ptt.cc/bbs/Gossiping/M.1514807382.A.0CA.html\n",
      "https://www.ptt.cc/bbs/Gossiping/M.1514807473.A.511.html\n",
      "https://www.ptt.cc/bbs/Gossiping/M.1514807474.A.985.html\n",
      "https://www.ptt.cc/bbs/Gossiping/M.1514807510.A.E2C.html\n",
      "https://www.ptt.cc/bbs/Gossiping/M.1514807521.A.342.html\n",
      "https://www.ptt.cc/bbs/Gossiping/M.1514807566.A.84B.html\n",
      "https://www.ptt.cc/bbs/Gossiping/M.1514807580.A.0BF.html\n",
      "https://www.ptt.cc/bbs/Gossiping/M.1514807581.A.E1D.html\n",
      "https://www.ptt.cc/bbs/Gossiping/M.1514807585.A.663.html\n",
      "https://www.ptt.cc/bbs/Gossiping/M.1514807609.A.9EC.html\n",
      "https://www.ptt.cc/bbs/Gossiping/M.1514807618.A.D7F.html\n",
      "https://www.ptt.cc/bbs/Gossiping/M.1514807622.A.3E3.html\n",
      "https://www.ptt.cc/bbs/Gossiping/M.1514807702.A.BB6.html\n",
      "https://www.ptt.cc/bbs/Gossiping/M.1514807707.A.12A.html\n",
      "https://www.ptt.cc/bbs/Gossiping/M.1514807718.A.FC3.html\n",
      "https://www.ptt.cc/bbs/Gossiping/M.1514807725.A.B98.html\n",
      "https://www.ptt.cc/bbs/Gossiping/M.1510415718.A.D77.html\n",
      "https://www.ptt.cc/bbs/Gossiping/M.1514720863.A.84E.html\n",
      "https://www.ptt.cc/bbs/Gossiping/M.1514336396.A.B25.html\n",
      "https://www.ptt.cc/bbs/Gossiping/M.1514738804.A.4A0.html\n",
      "https://www.ptt.cc/bbs/Gossiping/M.1514807382.A.0CA.html\n",
      "https://www.ptt.cc/bbs/Gossiping/M.1514807473.A.511.html\n",
      "https://www.ptt.cc/bbs/Gossiping/M.1514807474.A.985.html\n",
      "https://www.ptt.cc/bbs/Gossiping/M.1514807510.A.E2C.html\n",
      "https://www.ptt.cc/bbs/Gossiping/M.1514807521.A.342.html\n",
      "https://www.ptt.cc/bbs/Gossiping/M.1514807566.A.84B.html\n",
      "https://www.ptt.cc/bbs/Gossiping/M.1514807580.A.0BF.html\n",
      "https://www.ptt.cc/bbs/Gossiping/M.1514807581.A.E1D.html\n",
      "https://www.ptt.cc/bbs/Gossiping/M.1514807585.A.663.html\n",
      "https://www.ptt.cc/bbs/Gossiping/M.1514807609.A.9EC.html\n",
      "https://www.ptt.cc/bbs/Gossiping/M.1514807618.A.D7F.html\n",
      "https://www.ptt.cc/bbs/Gossiping/M.1514807622.A.3E3.html\n",
      "https://www.ptt.cc/bbs/Gossiping/M.1514807702.A.BB6.html\n",
      "https://www.ptt.cc/bbs/Gossiping/M.1514807707.A.12A.html\n",
      "https://www.ptt.cc/bbs/Gossiping/M.1514807718.A.FC3.html\n",
      "https://www.ptt.cc/bbs/Gossiping/M.1514807725.A.B98.html\n",
      "https://www.ptt.cc/bbs/Gossiping/M.1510415718.A.D77.html\n",
      "https://www.ptt.cc/bbs/Gossiping/M.1514720863.A.84E.html\n",
      "https://www.ptt.cc/bbs/Gossiping/M.1514336396.A.B25.html\n",
      "https://www.ptt.cc/bbs/Gossiping/M.1514738804.A.4A0.html\n",
      "https://www.ptt.cc/bbs/Gossiping/M.1514807382.A.0CA.html\n",
      "https://www.ptt.cc/bbs/Gossiping/M.1514807473.A.511.html\n",
      "https://www.ptt.cc/bbs/Gossiping/M.1514807474.A.985.html\n",
      "https://www.ptt.cc/bbs/Gossiping/M.1514807510.A.E2C.html\n",
      "https://www.ptt.cc/bbs/Gossiping/M.1514807521.A.342.html\n",
      "https://www.ptt.cc/bbs/Gossiping/M.1514807566.A.84B.html\n",
      "https://www.ptt.cc/bbs/Gossiping/M.1514807580.A.0BF.html\n",
      "https://www.ptt.cc/bbs/Gossiping/M.1514807581.A.E1D.html\n",
      "https://www.ptt.cc/bbs/Gossiping/M.1514807585.A.663.html\n",
      "https://www.ptt.cc/bbs/Gossiping/M.1514807609.A.9EC.html\n",
      "https://www.ptt.cc/bbs/Gossiping/M.1514807618.A.D7F.html\n",
      "https://www.ptt.cc/bbs/Gossiping/M.1514807622.A.3E3.html\n",
      "https://www.ptt.cc/bbs/Gossiping/M.1514807702.A.BB6.html\n",
      "https://www.ptt.cc/bbs/Gossiping/M.1514807707.A.12A.html\n",
      "https://www.ptt.cc/bbs/Gossiping/M.1514807718.A.FC3.html\n",
      "https://www.ptt.cc/bbs/Gossiping/M.1514807725.A.B98.html\n",
      "https://www.ptt.cc/bbs/Gossiping/M.1510415718.A.D77.html\n",
      "https://www.ptt.cc/bbs/Gossiping/M.1514720863.A.84E.html\n",
      "https://www.ptt.cc/bbs/Gossiping/M.1514336396.A.B25.html\n",
      "https://www.ptt.cc/bbs/Gossiping/M.1514738804.A.4A0.html\n"
     ]
    },
    {
     "name": "stdout",
     "output_type": "stream",
     "text": [
      "https://www.ptt.cc/bbs/Gossiping/M.1514807382.A.0CA.html\n",
      "https://www.ptt.cc/bbs/Gossiping/M.1514807473.A.511.html\n",
      "https://www.ptt.cc/bbs/Gossiping/M.1514807474.A.985.html\n",
      "https://www.ptt.cc/bbs/Gossiping/M.1514807510.A.E2C.html\n",
      "https://www.ptt.cc/bbs/Gossiping/M.1514807521.A.342.html\n",
      "https://www.ptt.cc/bbs/Gossiping/M.1514807566.A.84B.html\n",
      "https://www.ptt.cc/bbs/Gossiping/M.1514807580.A.0BF.html\n",
      "https://www.ptt.cc/bbs/Gossiping/M.1514807581.A.E1D.html\n",
      "https://www.ptt.cc/bbs/Gossiping/M.1514807585.A.663.html\n",
      "https://www.ptt.cc/bbs/Gossiping/M.1514807609.A.9EC.html\n",
      "https://www.ptt.cc/bbs/Gossiping/M.1514807618.A.D7F.html\n",
      "https://www.ptt.cc/bbs/Gossiping/M.1514807622.A.3E3.html\n",
      "https://www.ptt.cc/bbs/Gossiping/M.1514807702.A.BB6.html\n",
      "https://www.ptt.cc/bbs/Gossiping/M.1514807707.A.12A.html\n",
      "https://www.ptt.cc/bbs/Gossiping/M.1514807718.A.FC3.html\n",
      "https://www.ptt.cc/bbs/Gossiping/M.1514807725.A.B98.html\n",
      "https://www.ptt.cc/bbs/Gossiping/M.1510415718.A.D77.html\n",
      "https://www.ptt.cc/bbs/Gossiping/M.1514720863.A.84E.html\n",
      "https://www.ptt.cc/bbs/Gossiping/M.1514336396.A.B25.html\n",
      "https://www.ptt.cc/bbs/Gossiping/M.1514738804.A.4A0.html\n",
      "https://www.ptt.cc/bbs/Gossiping/M.1514807382.A.0CA.html\n",
      "https://www.ptt.cc/bbs/Gossiping/M.1514807473.A.511.html\n",
      "https://www.ptt.cc/bbs/Gossiping/M.1514807474.A.985.html\n",
      "https://www.ptt.cc/bbs/Gossiping/M.1514807510.A.E2C.html\n",
      "https://www.ptt.cc/bbs/Gossiping/M.1514807521.A.342.html\n",
      "https://www.ptt.cc/bbs/Gossiping/M.1514807566.A.84B.html\n",
      "https://www.ptt.cc/bbs/Gossiping/M.1514807580.A.0BF.html\n",
      "https://www.ptt.cc/bbs/Gossiping/M.1514807581.A.E1D.html\n",
      "https://www.ptt.cc/bbs/Gossiping/M.1514807585.A.663.html\n",
      "https://www.ptt.cc/bbs/Gossiping/M.1514807609.A.9EC.html\n",
      "https://www.ptt.cc/bbs/Gossiping/M.1514807618.A.D7F.html\n",
      "https://www.ptt.cc/bbs/Gossiping/M.1514807622.A.3E3.html\n",
      "https://www.ptt.cc/bbs/Gossiping/M.1514807702.A.BB6.html\n",
      "https://www.ptt.cc/bbs/Gossiping/M.1514807707.A.12A.html\n",
      "https://www.ptt.cc/bbs/Gossiping/M.1514807718.A.FC3.html\n",
      "https://www.ptt.cc/bbs/Gossiping/M.1514807725.A.B98.html\n",
      "https://www.ptt.cc/bbs/Gossiping/M.1510415718.A.D77.html\n",
      "https://www.ptt.cc/bbs/Gossiping/M.1514720863.A.84E.html\n",
      "https://www.ptt.cc/bbs/Gossiping/M.1514336396.A.B25.html\n",
      "https://www.ptt.cc/bbs/Gossiping/M.1514738804.A.4A0.html\n"
     ]
    }
   ],
   "source": [
    "import re\n",
    "\n",
    "import requests\n",
    "\n",
    "# 一次爬10頁\n",
    "CRAWL_PAGE_CNT = 10\n",
    "URL_TEMPLATE = \"https://www.ptt.cc/bbs/Gossiping/index{}.html\"\n",
    "\n",
    "total_page_cnt = get_total_page_cnt()\n",
    "\n",
    "for pg in range(total_page_cnt, total_page_cnt - CRAWL_PAGE_CNT, -1):\n",
    "    url = URL_TEMPLATE.format(pg)\n",
    "    for link in get_list_page(url):\n",
    "        print(link)"
   ]
  },
  {
   "cell_type": "code",
   "execution_count": 81,
   "metadata": {},
   "outputs": [],
   "source": [
    "!mkdir /tmp/ptt_data"
   ]
  },
  {
   "cell_type": "code",
   "execution_count": 94,
   "metadata": {},
   "outputs": [],
   "source": [
    "import requests\n",
    "\n",
    "DATA_PATH = '/tmp/ptt_data'\n",
    "\n",
    "def dump_page(url):\n",
    "    filename = \"_\".join(url.split('/')[-1].split('.')[:-1]) + '.html'\n",
    "    \n",
    "    custom_headers = {\n",
    "        \"cookie\": \"over18=1;\"\n",
    "    }\n",
    "\n",
    "    resp = requests.get(url, headers=custom_headers)\n",
    "    with open(DATA_PATH + '/' + filename, 'w') as f:\n",
    "        f.write(resp.text)\n",
    "    return url"
   ]
  },
  {
   "cell_type": "code",
   "execution_count": 95,
   "metadata": {},
   "outputs": [
    {
     "data": {
      "text/plain": [
       "'https://www.ptt.cc/bbs/Gossiping/M.1514807718.A.FC3.html'"
      ]
     },
     "execution_count": 95,
     "metadata": {},
     "output_type": "execute_result"
    }
   ],
   "source": [
    "dump_page('https://www.ptt.cc/bbs/Gossiping/M.1514807718.A.FC3.html')"
   ]
  },
  {
   "cell_type": "code",
   "execution_count": 96,
   "metadata": {},
   "outputs": [
    {
     "name": "stdout",
     "output_type": "stream",
     "text": [
      "M_1510415718_A_D77.html M_1514807521_A_342.html M_1514807702_A_BB6.html\r\n",
      "M_1514336396_A_B25.html M_1514807566_A_84B.html M_1514807707_A_12A.html\r\n",
      "M_1514720863_A_84E.html M_1514807580_A_0BF.html M_1514807718_A_FC3.html\r\n",
      "M_1514738804_A_4A0.html M_1514807581_A_E1D.html M_1514807725_A_B98.html\r\n",
      "M_1514807382_A_0CA.html M_1514807585_A_663.html M_1514807776_A_25C.html\r\n",
      "M_1514807473_A_511.html M_1514807609_A_9EC.html M_1514807789_A_C9C.html\r\n",
      "M_1514807474_A_985.html M_1514807618_A_D7F.html M_1514807802_A_C56.html\r\n",
      "M_1514807510_A_E2C.html M_1514807622_A_3E3.html M_1514807817_A_59A.html\r\n"
     ]
    }
   ],
   "source": [
    "!ls /tmp/ptt_data/"
   ]
  },
  {
   "cell_type": "code",
   "execution_count": 97,
   "metadata": {},
   "outputs": [
    {
     "name": "stdout",
     "output_type": "stream",
     "text": [
      "https://www.ptt.cc/bbs/Gossiping/M.1514807382.A.0CA.html\n",
      "https://www.ptt.cc/bbs/Gossiping/M.1514807473.A.511.html\n",
      "https://www.ptt.cc/bbs/Gossiping/M.1514807474.A.985.html\n",
      "https://www.ptt.cc/bbs/Gossiping/M.1514807510.A.E2C.html\n",
      "https://www.ptt.cc/bbs/Gossiping/M.1514807521.A.342.html\n",
      "https://www.ptt.cc/bbs/Gossiping/M.1514807566.A.84B.html\n",
      "https://www.ptt.cc/bbs/Gossiping/M.1514807580.A.0BF.html\n",
      "https://www.ptt.cc/bbs/Gossiping/M.1514807581.A.E1D.html\n",
      "https://www.ptt.cc/bbs/Gossiping/M.1514807585.A.663.html\n",
      "https://www.ptt.cc/bbs/Gossiping/M.1514807609.A.9EC.html\n",
      "https://www.ptt.cc/bbs/Gossiping/M.1514807618.A.D7F.html\n",
      "https://www.ptt.cc/bbs/Gossiping/M.1514807622.A.3E3.html\n",
      "https://www.ptt.cc/bbs/Gossiping/M.1514807702.A.BB6.html\n",
      "https://www.ptt.cc/bbs/Gossiping/M.1514807707.A.12A.html\n",
      "https://www.ptt.cc/bbs/Gossiping/M.1514807718.A.FC3.html\n",
      "https://www.ptt.cc/bbs/Gossiping/M.1514807725.A.B98.html\n",
      "https://www.ptt.cc/bbs/Gossiping/M.1514807776.A.25C.html\n",
      "https://www.ptt.cc/bbs/Gossiping/M.1514807789.A.C9C.html\n",
      "https://www.ptt.cc/bbs/Gossiping/M.1514807802.A.C56.html\n",
      "https://www.ptt.cc/bbs/Gossiping/M.1514807817.A.59A.html\n",
      "https://www.ptt.cc/bbs/Gossiping/M.1510415718.A.D77.html\n",
      "https://www.ptt.cc/bbs/Gossiping/M.1514720863.A.84E.html\n",
      "https://www.ptt.cc/bbs/Gossiping/M.1514336396.A.B25.html\n",
      "https://www.ptt.cc/bbs/Gossiping/M.1514738804.A.4A0.html\n",
      "https://www.ptt.cc/bbs/Gossiping/M.1514807961.A.653.html\n",
      "https://www.ptt.cc/bbs/Gossiping/M.1514807970.A.F4A.html\n",
      "https://www.ptt.cc/bbs/Gossiping/M.1514807974.A.B1C.html\n",
      "https://www.ptt.cc/bbs/Gossiping/M.1514808011.A.859.html\n",
      "https://www.ptt.cc/bbs/Gossiping/M.1514808027.A.86C.html\n",
      "https://www.ptt.cc/bbs/Gossiping/M.1514808044.A.E91.html\n",
      "https://www.ptt.cc/bbs/Gossiping/M.1514808052.A.988.html\n",
      "https://www.ptt.cc/bbs/Gossiping/M.1514808076.A.D94.html\n",
      "https://www.ptt.cc/bbs/Gossiping/M.1514808080.A.727.html\n",
      "https://www.ptt.cc/bbs/Gossiping/M.1514808109.A.248.html\n",
      "https://www.ptt.cc/bbs/Gossiping/M.1514808123.A.3A0.html\n",
      "https://www.ptt.cc/bbs/Gossiping/M.1514808130.A.979.html\n",
      "https://www.ptt.cc/bbs/Gossiping/M.1514808141.A.908.html\n",
      "https://www.ptt.cc/bbs/Gossiping/M.1514808145.A.05C.html\n",
      "https://www.ptt.cc/bbs/Gossiping/M.1514808193.A.4A6.html\n",
      "https://www.ptt.cc/bbs/Gossiping/M.1510415718.A.D77.html\n",
      "https://www.ptt.cc/bbs/Gossiping/M.1514720863.A.84E.html\n",
      "https://www.ptt.cc/bbs/Gossiping/M.1514336396.A.B25.html\n",
      "https://www.ptt.cc/bbs/Gossiping/M.1514738804.A.4A0.html\n",
      "https://www.ptt.cc/bbs/Gossiping/M.1514807961.A.653.html\n",
      "https://www.ptt.cc/bbs/Gossiping/M.1514807970.A.F4A.html\n",
      "https://www.ptt.cc/bbs/Gossiping/M.1514807974.A.B1C.html\n",
      "https://www.ptt.cc/bbs/Gossiping/M.1514808011.A.859.html\n",
      "https://www.ptt.cc/bbs/Gossiping/M.1514808027.A.86C.html\n",
      "https://www.ptt.cc/bbs/Gossiping/M.1514808044.A.E91.html\n",
      "https://www.ptt.cc/bbs/Gossiping/M.1514808052.A.988.html\n",
      "https://www.ptt.cc/bbs/Gossiping/M.1514808076.A.D94.html\n",
      "https://www.ptt.cc/bbs/Gossiping/M.1514808080.A.727.html\n",
      "https://www.ptt.cc/bbs/Gossiping/M.1514808109.A.248.html\n",
      "https://www.ptt.cc/bbs/Gossiping/M.1514808123.A.3A0.html\n",
      "https://www.ptt.cc/bbs/Gossiping/M.1514808130.A.979.html\n",
      "https://www.ptt.cc/bbs/Gossiping/M.1514808141.A.908.html\n",
      "https://www.ptt.cc/bbs/Gossiping/M.1514808145.A.05C.html\n",
      "https://www.ptt.cc/bbs/Gossiping/M.1514808193.A.4A6.html\n",
      "https://www.ptt.cc/bbs/Gossiping/M.1510415718.A.D77.html\n",
      "https://www.ptt.cc/bbs/Gossiping/M.1514720863.A.84E.html\n",
      "https://www.ptt.cc/bbs/Gossiping/M.1514336396.A.B25.html\n",
      "https://www.ptt.cc/bbs/Gossiping/M.1514738804.A.4A0.html\n",
      "https://www.ptt.cc/bbs/Gossiping/M.1514807961.A.653.html\n",
      "https://www.ptt.cc/bbs/Gossiping/M.1514807970.A.F4A.html\n",
      "https://www.ptt.cc/bbs/Gossiping/M.1514807974.A.B1C.html\n",
      "https://www.ptt.cc/bbs/Gossiping/M.1514808011.A.859.html\n",
      "https://www.ptt.cc/bbs/Gossiping/M.1514808027.A.86C.html\n",
      "https://www.ptt.cc/bbs/Gossiping/M.1514808044.A.E91.html\n",
      "https://www.ptt.cc/bbs/Gossiping/M.1514808052.A.988.html\n",
      "https://www.ptt.cc/bbs/Gossiping/M.1514808076.A.D94.html\n",
      "https://www.ptt.cc/bbs/Gossiping/M.1514808080.A.727.html\n",
      "https://www.ptt.cc/bbs/Gossiping/M.1514808109.A.248.html\n",
      "https://www.ptt.cc/bbs/Gossiping/M.1514808123.A.3A0.html\n",
      "https://www.ptt.cc/bbs/Gossiping/M.1514808130.A.979.html\n",
      "https://www.ptt.cc/bbs/Gossiping/M.1514808141.A.908.html\n",
      "https://www.ptt.cc/bbs/Gossiping/M.1514808145.A.05C.html\n",
      "https://www.ptt.cc/bbs/Gossiping/M.1514808193.A.4A6.html\n",
      "https://www.ptt.cc/bbs/Gossiping/M.1510415718.A.D77.html\n",
      "https://www.ptt.cc/bbs/Gossiping/M.1514720863.A.84E.html\n",
      "https://www.ptt.cc/bbs/Gossiping/M.1514336396.A.B25.html\n",
      "https://www.ptt.cc/bbs/Gossiping/M.1514738804.A.4A0.html\n",
      "https://www.ptt.cc/bbs/Gossiping/M.1514807961.A.653.html\n",
      "https://www.ptt.cc/bbs/Gossiping/M.1514807970.A.F4A.html\n",
      "https://www.ptt.cc/bbs/Gossiping/M.1514807974.A.B1C.html\n",
      "https://www.ptt.cc/bbs/Gossiping/M.1514808011.A.859.html\n",
      "https://www.ptt.cc/bbs/Gossiping/M.1514808027.A.86C.html\n",
      "https://www.ptt.cc/bbs/Gossiping/M.1514808044.A.E91.html\n",
      "https://www.ptt.cc/bbs/Gossiping/M.1514808052.A.988.html\n",
      "https://www.ptt.cc/bbs/Gossiping/M.1514808076.A.D94.html\n",
      "https://www.ptt.cc/bbs/Gossiping/M.1514808080.A.727.html\n",
      "https://www.ptt.cc/bbs/Gossiping/M.1514808109.A.248.html\n",
      "https://www.ptt.cc/bbs/Gossiping/M.1514808123.A.3A0.html\n",
      "https://www.ptt.cc/bbs/Gossiping/M.1514808130.A.979.html\n",
      "https://www.ptt.cc/bbs/Gossiping/M.1514808141.A.908.html\n",
      "https://www.ptt.cc/bbs/Gossiping/M.1514808145.A.05C.html\n",
      "https://www.ptt.cc/bbs/Gossiping/M.1514808193.A.4A6.html\n",
      "https://www.ptt.cc/bbs/Gossiping/M.1510415718.A.D77.html\n",
      "https://www.ptt.cc/bbs/Gossiping/M.1514720863.A.84E.html\n",
      "https://www.ptt.cc/bbs/Gossiping/M.1514336396.A.B25.html\n",
      "https://www.ptt.cc/bbs/Gossiping/M.1514738804.A.4A0.html\n",
      "https://www.ptt.cc/bbs/Gossiping/M.1514807961.A.653.html\n",
      "https://www.ptt.cc/bbs/Gossiping/M.1514807970.A.F4A.html\n",
      "https://www.ptt.cc/bbs/Gossiping/M.1514807974.A.B1C.html\n",
      "https://www.ptt.cc/bbs/Gossiping/M.1514808011.A.859.html\n",
      "https://www.ptt.cc/bbs/Gossiping/M.1514808027.A.86C.html\n",
      "https://www.ptt.cc/bbs/Gossiping/M.1514808044.A.E91.html\n",
      "https://www.ptt.cc/bbs/Gossiping/M.1514808052.A.988.html\n"
     ]
    },
    {
     "ename": "KeyboardInterrupt",
     "evalue": "",
     "output_type": "error",
     "traceback": [
      "\u001b[0;31m---------------------------------------------------------------------------\u001b[0m",
      "\u001b[0;31mKeyboardInterrupt\u001b[0m                         Traceback (most recent call last)",
      "\u001b[0;32m<ipython-input-97-27e8b9a5bd9c>\u001b[0m in \u001b[0;36m<module>\u001b[0;34m()\u001b[0m\n\u001b[1;32m     13\u001b[0m     \u001b[0;32mfor\u001b[0m \u001b[0mlink\u001b[0m \u001b[0;32min\u001b[0m \u001b[0mget_list_page\u001b[0m\u001b[0;34m(\u001b[0m\u001b[0murl\u001b[0m\u001b[0;34m)\u001b[0m\u001b[0;34m:\u001b[0m\u001b[0;34m\u001b[0m\u001b[0m\n\u001b[1;32m     14\u001b[0m         \u001b[0mprint\u001b[0m\u001b[0;34m(\u001b[0m\u001b[0mlink\u001b[0m\u001b[0;34m)\u001b[0m\u001b[0;34m\u001b[0m\u001b[0m\n\u001b[0;32m---> 15\u001b[0;31m         \u001b[0mdump_page\u001b[0m\u001b[0;34m(\u001b[0m\u001b[0mlink\u001b[0m\u001b[0;34m)\u001b[0m\u001b[0;34m\u001b[0m\u001b[0m\n\u001b[0m",
      "\u001b[0;32m<ipython-input-94-51bec1861fc6>\u001b[0m in \u001b[0;36mdump_page\u001b[0;34m(url)\u001b[0m\n\u001b[1;32m     10\u001b[0m     }\n\u001b[1;32m     11\u001b[0m \u001b[0;34m\u001b[0m\u001b[0m\n\u001b[0;32m---> 12\u001b[0;31m     \u001b[0mresp\u001b[0m \u001b[0;34m=\u001b[0m \u001b[0mrequests\u001b[0m\u001b[0;34m.\u001b[0m\u001b[0mget\u001b[0m\u001b[0;34m(\u001b[0m\u001b[0murl\u001b[0m\u001b[0;34m,\u001b[0m \u001b[0mheaders\u001b[0m\u001b[0;34m=\u001b[0m\u001b[0mcustom_headers\u001b[0m\u001b[0;34m)\u001b[0m\u001b[0;34m\u001b[0m\u001b[0m\n\u001b[0m\u001b[1;32m     13\u001b[0m     \u001b[0;32mwith\u001b[0m \u001b[0mopen\u001b[0m\u001b[0;34m(\u001b[0m\u001b[0mDATA_PATH\u001b[0m \u001b[0;34m+\u001b[0m \u001b[0;34m'/'\u001b[0m \u001b[0;34m+\u001b[0m \u001b[0mfilename\u001b[0m\u001b[0;34m,\u001b[0m \u001b[0;34m'w'\u001b[0m\u001b[0;34m)\u001b[0m \u001b[0;32mas\u001b[0m \u001b[0mf\u001b[0m\u001b[0;34m:\u001b[0m\u001b[0;34m\u001b[0m\u001b[0m\n\u001b[1;32m     14\u001b[0m         \u001b[0mf\u001b[0m\u001b[0;34m.\u001b[0m\u001b[0mwrite\u001b[0m\u001b[0;34m(\u001b[0m\u001b[0mresp\u001b[0m\u001b[0;34m.\u001b[0m\u001b[0mtext\u001b[0m\u001b[0;34m)\u001b[0m\u001b[0;34m\u001b[0m\u001b[0m\n",
      "\u001b[0;32m~/.pyenv/versions/3.6.4/lib/python3.6/site-packages/requests/api.py\u001b[0m in \u001b[0;36mget\u001b[0;34m(url, params, **kwargs)\u001b[0m\n\u001b[1;32m     70\u001b[0m \u001b[0;34m\u001b[0m\u001b[0m\n\u001b[1;32m     71\u001b[0m     \u001b[0mkwargs\u001b[0m\u001b[0;34m.\u001b[0m\u001b[0msetdefault\u001b[0m\u001b[0;34m(\u001b[0m\u001b[0;34m'allow_redirects'\u001b[0m\u001b[0;34m,\u001b[0m \u001b[0;32mTrue\u001b[0m\u001b[0;34m)\u001b[0m\u001b[0;34m\u001b[0m\u001b[0m\n\u001b[0;32m---> 72\u001b[0;31m     \u001b[0;32mreturn\u001b[0m \u001b[0mrequest\u001b[0m\u001b[0;34m(\u001b[0m\u001b[0;34m'get'\u001b[0m\u001b[0;34m,\u001b[0m \u001b[0murl\u001b[0m\u001b[0;34m,\u001b[0m \u001b[0mparams\u001b[0m\u001b[0;34m=\u001b[0m\u001b[0mparams\u001b[0m\u001b[0;34m,\u001b[0m \u001b[0;34m**\u001b[0m\u001b[0mkwargs\u001b[0m\u001b[0;34m)\u001b[0m\u001b[0;34m\u001b[0m\u001b[0m\n\u001b[0m\u001b[1;32m     73\u001b[0m \u001b[0;34m\u001b[0m\u001b[0m\n\u001b[1;32m     74\u001b[0m \u001b[0;34m\u001b[0m\u001b[0m\n",
      "\u001b[0;32m~/.pyenv/versions/3.6.4/lib/python3.6/site-packages/requests/api.py\u001b[0m in \u001b[0;36mrequest\u001b[0;34m(method, url, **kwargs)\u001b[0m\n\u001b[1;32m     56\u001b[0m     \u001b[0;31m# cases, and look like a memory leak in others.\u001b[0m\u001b[0;34m\u001b[0m\u001b[0;34m\u001b[0m\u001b[0m\n\u001b[1;32m     57\u001b[0m     \u001b[0;32mwith\u001b[0m \u001b[0msessions\u001b[0m\u001b[0;34m.\u001b[0m\u001b[0mSession\u001b[0m\u001b[0;34m(\u001b[0m\u001b[0;34m)\u001b[0m \u001b[0;32mas\u001b[0m \u001b[0msession\u001b[0m\u001b[0;34m:\u001b[0m\u001b[0;34m\u001b[0m\u001b[0m\n\u001b[0;32m---> 58\u001b[0;31m         \u001b[0;32mreturn\u001b[0m \u001b[0msession\u001b[0m\u001b[0;34m.\u001b[0m\u001b[0mrequest\u001b[0m\u001b[0;34m(\u001b[0m\u001b[0mmethod\u001b[0m\u001b[0;34m=\u001b[0m\u001b[0mmethod\u001b[0m\u001b[0;34m,\u001b[0m \u001b[0murl\u001b[0m\u001b[0;34m=\u001b[0m\u001b[0murl\u001b[0m\u001b[0;34m,\u001b[0m \u001b[0;34m**\u001b[0m\u001b[0mkwargs\u001b[0m\u001b[0;34m)\u001b[0m\u001b[0;34m\u001b[0m\u001b[0m\n\u001b[0m\u001b[1;32m     59\u001b[0m \u001b[0;34m\u001b[0m\u001b[0m\n\u001b[1;32m     60\u001b[0m \u001b[0;34m\u001b[0m\u001b[0m\n",
      "\u001b[0;32m~/.pyenv/versions/3.6.4/lib/python3.6/site-packages/requests/sessions.py\u001b[0m in \u001b[0;36mrequest\u001b[0;34m(self, method, url, params, data, headers, cookies, files, auth, timeout, allow_redirects, proxies, hooks, stream, verify, cert, json)\u001b[0m\n\u001b[1;32m    506\u001b[0m         }\n\u001b[1;32m    507\u001b[0m         \u001b[0msend_kwargs\u001b[0m\u001b[0;34m.\u001b[0m\u001b[0mupdate\u001b[0m\u001b[0;34m(\u001b[0m\u001b[0msettings\u001b[0m\u001b[0;34m)\u001b[0m\u001b[0;34m\u001b[0m\u001b[0m\n\u001b[0;32m--> 508\u001b[0;31m         \u001b[0mresp\u001b[0m \u001b[0;34m=\u001b[0m \u001b[0mself\u001b[0m\u001b[0;34m.\u001b[0m\u001b[0msend\u001b[0m\u001b[0;34m(\u001b[0m\u001b[0mprep\u001b[0m\u001b[0;34m,\u001b[0m \u001b[0;34m**\u001b[0m\u001b[0msend_kwargs\u001b[0m\u001b[0;34m)\u001b[0m\u001b[0;34m\u001b[0m\u001b[0m\n\u001b[0m\u001b[1;32m    509\u001b[0m \u001b[0;34m\u001b[0m\u001b[0m\n\u001b[1;32m    510\u001b[0m         \u001b[0;32mreturn\u001b[0m \u001b[0mresp\u001b[0m\u001b[0;34m\u001b[0m\u001b[0m\n",
      "\u001b[0;32m~/.pyenv/versions/3.6.4/lib/python3.6/site-packages/requests/sessions.py\u001b[0m in \u001b[0;36msend\u001b[0;34m(self, request, **kwargs)\u001b[0m\n\u001b[1;32m    616\u001b[0m \u001b[0;34m\u001b[0m\u001b[0m\n\u001b[1;32m    617\u001b[0m         \u001b[0;31m# Send the request\u001b[0m\u001b[0;34m\u001b[0m\u001b[0;34m\u001b[0m\u001b[0m\n\u001b[0;32m--> 618\u001b[0;31m         \u001b[0mr\u001b[0m \u001b[0;34m=\u001b[0m \u001b[0madapter\u001b[0m\u001b[0;34m.\u001b[0m\u001b[0msend\u001b[0m\u001b[0;34m(\u001b[0m\u001b[0mrequest\u001b[0m\u001b[0;34m,\u001b[0m \u001b[0;34m**\u001b[0m\u001b[0mkwargs\u001b[0m\u001b[0;34m)\u001b[0m\u001b[0;34m\u001b[0m\u001b[0m\n\u001b[0m\u001b[1;32m    619\u001b[0m \u001b[0;34m\u001b[0m\u001b[0m\n\u001b[1;32m    620\u001b[0m         \u001b[0;31m# Total elapsed time of the request (approximately)\u001b[0m\u001b[0;34m\u001b[0m\u001b[0;34m\u001b[0m\u001b[0m\n",
      "\u001b[0;32m~/.pyenv/versions/3.6.4/lib/python3.6/site-packages/requests/adapters.py\u001b[0m in \u001b[0;36msend\u001b[0;34m(self, request, stream, timeout, verify, cert, proxies)\u001b[0m\n\u001b[1;32m    438\u001b[0m                     \u001b[0mdecode_content\u001b[0m\u001b[0;34m=\u001b[0m\u001b[0;32mFalse\u001b[0m\u001b[0;34m,\u001b[0m\u001b[0;34m\u001b[0m\u001b[0m\n\u001b[1;32m    439\u001b[0m                     \u001b[0mretries\u001b[0m\u001b[0;34m=\u001b[0m\u001b[0mself\u001b[0m\u001b[0;34m.\u001b[0m\u001b[0mmax_retries\u001b[0m\u001b[0;34m,\u001b[0m\u001b[0;34m\u001b[0m\u001b[0m\n\u001b[0;32m--> 440\u001b[0;31m                     \u001b[0mtimeout\u001b[0m\u001b[0;34m=\u001b[0m\u001b[0mtimeout\u001b[0m\u001b[0;34m\u001b[0m\u001b[0m\n\u001b[0m\u001b[1;32m    441\u001b[0m                 )\n\u001b[1;32m    442\u001b[0m \u001b[0;34m\u001b[0m\u001b[0m\n",
      "\u001b[0;32m~/.pyenv/versions/3.6.4/lib/python3.6/site-packages/urllib3/connectionpool.py\u001b[0m in \u001b[0;36murlopen\u001b[0;34m(self, method, url, body, headers, retries, redirect, assert_same_host, timeout, pool_timeout, release_conn, chunked, body_pos, **response_kw)\u001b[0m\n\u001b[1;32m    599\u001b[0m                                                   \u001b[0mtimeout\u001b[0m\u001b[0;34m=\u001b[0m\u001b[0mtimeout_obj\u001b[0m\u001b[0;34m,\u001b[0m\u001b[0;34m\u001b[0m\u001b[0m\n\u001b[1;32m    600\u001b[0m                                                   \u001b[0mbody\u001b[0m\u001b[0;34m=\u001b[0m\u001b[0mbody\u001b[0m\u001b[0;34m,\u001b[0m \u001b[0mheaders\u001b[0m\u001b[0;34m=\u001b[0m\u001b[0mheaders\u001b[0m\u001b[0;34m,\u001b[0m\u001b[0;34m\u001b[0m\u001b[0m\n\u001b[0;32m--> 601\u001b[0;31m                                                   chunked=chunked)\n\u001b[0m\u001b[1;32m    602\u001b[0m \u001b[0;34m\u001b[0m\u001b[0m\n\u001b[1;32m    603\u001b[0m             \u001b[0;31m# If we're going to release the connection in ``finally:``, then\u001b[0m\u001b[0;34m\u001b[0m\u001b[0;34m\u001b[0m\u001b[0m\n",
      "\u001b[0;32m~/.pyenv/versions/3.6.4/lib/python3.6/site-packages/urllib3/connectionpool.py\u001b[0m in \u001b[0;36m_make_request\u001b[0;34m(self, conn, method, url, timeout, chunked, **httplib_request_kw)\u001b[0m\n\u001b[1;32m    344\u001b[0m         \u001b[0;31m# Trigger any extra validation we need to do.\u001b[0m\u001b[0;34m\u001b[0m\u001b[0;34m\u001b[0m\u001b[0m\n\u001b[1;32m    345\u001b[0m         \u001b[0;32mtry\u001b[0m\u001b[0;34m:\u001b[0m\u001b[0;34m\u001b[0m\u001b[0m\n\u001b[0;32m--> 346\u001b[0;31m             \u001b[0mself\u001b[0m\u001b[0;34m.\u001b[0m\u001b[0m_validate_conn\u001b[0m\u001b[0;34m(\u001b[0m\u001b[0mconn\u001b[0m\u001b[0;34m)\u001b[0m\u001b[0;34m\u001b[0m\u001b[0m\n\u001b[0m\u001b[1;32m    347\u001b[0m         \u001b[0;32mexcept\u001b[0m \u001b[0;34m(\u001b[0m\u001b[0mSocketTimeout\u001b[0m\u001b[0;34m,\u001b[0m \u001b[0mBaseSSLError\u001b[0m\u001b[0;34m)\u001b[0m \u001b[0;32mas\u001b[0m \u001b[0me\u001b[0m\u001b[0;34m:\u001b[0m\u001b[0;34m\u001b[0m\u001b[0m\n\u001b[1;32m    348\u001b[0m             \u001b[0;31m# Py2 raises this as a BaseSSLError, Py3 raises it as socket timeout.\u001b[0m\u001b[0;34m\u001b[0m\u001b[0;34m\u001b[0m\u001b[0m\n",
      "\u001b[0;32m~/.pyenv/versions/3.6.4/lib/python3.6/site-packages/urllib3/connectionpool.py\u001b[0m in \u001b[0;36m_validate_conn\u001b[0;34m(self, conn)\u001b[0m\n\u001b[1;32m    848\u001b[0m         \u001b[0;31m# Force connect early to allow us to validate the connection.\u001b[0m\u001b[0;34m\u001b[0m\u001b[0;34m\u001b[0m\u001b[0m\n\u001b[1;32m    849\u001b[0m         \u001b[0;32mif\u001b[0m \u001b[0;32mnot\u001b[0m \u001b[0mgetattr\u001b[0m\u001b[0;34m(\u001b[0m\u001b[0mconn\u001b[0m\u001b[0;34m,\u001b[0m \u001b[0;34m'sock'\u001b[0m\u001b[0;34m,\u001b[0m \u001b[0;32mNone\u001b[0m\u001b[0;34m)\u001b[0m\u001b[0;34m:\u001b[0m  \u001b[0;31m# AppEngine might not have  `.sock`\u001b[0m\u001b[0;34m\u001b[0m\u001b[0m\n\u001b[0;32m--> 850\u001b[0;31m             \u001b[0mconn\u001b[0m\u001b[0;34m.\u001b[0m\u001b[0mconnect\u001b[0m\u001b[0;34m(\u001b[0m\u001b[0;34m)\u001b[0m\u001b[0;34m\u001b[0m\u001b[0m\n\u001b[0m\u001b[1;32m    851\u001b[0m \u001b[0;34m\u001b[0m\u001b[0m\n\u001b[1;32m    852\u001b[0m         \u001b[0;32mif\u001b[0m \u001b[0;32mnot\u001b[0m \u001b[0mconn\u001b[0m\u001b[0;34m.\u001b[0m\u001b[0mis_verified\u001b[0m\u001b[0;34m:\u001b[0m\u001b[0;34m\u001b[0m\u001b[0m\n",
      "\u001b[0;32m~/.pyenv/versions/3.6.4/lib/python3.6/site-packages/urllib3/connection.py\u001b[0m in \u001b[0;36mconnect\u001b[0;34m(self)\u001b[0m\n\u001b[1;32m    282\u001b[0m     \u001b[0;32mdef\u001b[0m \u001b[0mconnect\u001b[0m\u001b[0;34m(\u001b[0m\u001b[0mself\u001b[0m\u001b[0;34m)\u001b[0m\u001b[0;34m:\u001b[0m\u001b[0;34m\u001b[0m\u001b[0m\n\u001b[1;32m    283\u001b[0m         \u001b[0;31m# Add certificate verification\u001b[0m\u001b[0;34m\u001b[0m\u001b[0;34m\u001b[0m\u001b[0m\n\u001b[0;32m--> 284\u001b[0;31m         \u001b[0mconn\u001b[0m \u001b[0;34m=\u001b[0m \u001b[0mself\u001b[0m\u001b[0;34m.\u001b[0m\u001b[0m_new_conn\u001b[0m\u001b[0;34m(\u001b[0m\u001b[0;34m)\u001b[0m\u001b[0;34m\u001b[0m\u001b[0m\n\u001b[0m\u001b[1;32m    285\u001b[0m \u001b[0;34m\u001b[0m\u001b[0m\n\u001b[1;32m    286\u001b[0m         \u001b[0mhostname\u001b[0m \u001b[0;34m=\u001b[0m \u001b[0mself\u001b[0m\u001b[0;34m.\u001b[0m\u001b[0mhost\u001b[0m\u001b[0;34m\u001b[0m\u001b[0m\n",
      "\u001b[0;32m~/.pyenv/versions/3.6.4/lib/python3.6/site-packages/urllib3/connection.py\u001b[0m in \u001b[0;36m_new_conn\u001b[0;34m(self)\u001b[0m\n\u001b[1;32m    139\u001b[0m         \u001b[0;32mtry\u001b[0m\u001b[0;34m:\u001b[0m\u001b[0;34m\u001b[0m\u001b[0m\n\u001b[1;32m    140\u001b[0m             conn = connection.create_connection(\n\u001b[0;32m--> 141\u001b[0;31m                 (self.host, self.port), self.timeout, **extra_kw)\n\u001b[0m\u001b[1;32m    142\u001b[0m \u001b[0;34m\u001b[0m\u001b[0m\n\u001b[1;32m    143\u001b[0m         \u001b[0;32mexcept\u001b[0m \u001b[0mSocketTimeout\u001b[0m \u001b[0;32mas\u001b[0m \u001b[0me\u001b[0m\u001b[0;34m:\u001b[0m\u001b[0;34m\u001b[0m\u001b[0m\n",
      "\u001b[0;32m~/.pyenv/versions/3.6.4/lib/python3.6/site-packages/urllib3/util/connection.py\u001b[0m in \u001b[0;36mcreate_connection\u001b[0;34m(address, timeout, source_address, socket_options)\u001b[0m\n\u001b[1;32m     71\u001b[0m             \u001b[0;32mif\u001b[0m \u001b[0msource_address\u001b[0m\u001b[0;34m:\u001b[0m\u001b[0;34m\u001b[0m\u001b[0m\n\u001b[1;32m     72\u001b[0m                 \u001b[0msock\u001b[0m\u001b[0;34m.\u001b[0m\u001b[0mbind\u001b[0m\u001b[0;34m(\u001b[0m\u001b[0msource_address\u001b[0m\u001b[0;34m)\u001b[0m\u001b[0;34m\u001b[0m\u001b[0m\n\u001b[0;32m---> 73\u001b[0;31m             \u001b[0msock\u001b[0m\u001b[0;34m.\u001b[0m\u001b[0mconnect\u001b[0m\u001b[0;34m(\u001b[0m\u001b[0msa\u001b[0m\u001b[0;34m)\u001b[0m\u001b[0;34m\u001b[0m\u001b[0m\n\u001b[0m\u001b[1;32m     74\u001b[0m             \u001b[0;32mreturn\u001b[0m \u001b[0msock\u001b[0m\u001b[0;34m\u001b[0m\u001b[0m\n\u001b[1;32m     75\u001b[0m \u001b[0;34m\u001b[0m\u001b[0m\n",
      "\u001b[0;31mKeyboardInterrupt\u001b[0m: "
     ]
    }
   ],
   "source": [
    "import re\n",
    "\n",
    "import requests\n",
    "\n",
    "# 一次爬10頁\n",
    "CRAWL_PAGE_CNT = 10\n",
    "URL_TEMPLATE = \"https://www.ptt.cc/bbs/Gossiping/index{}.html\"\n",
    "\n",
    "total_page_cnt = get_total_page_cnt()\n",
    "\n",
    "for pg in range(total_page_cnt, total_page_cnt - CRAWL_PAGE_CNT, -1):\n",
    "    url = URL_TEMPLATE.format(pg)\n",
    "    for link in get_list_page(url):\n",
    "        print(link)\n",
    "        dump_page(link)"
   ]
  },
  {
   "cell_type": "markdown",
   "metadata": {},
   "source": [
    "# 以上為上次複習\n",
    "\n",
    "# 再來我們開看看怎麼將HTML的內文整理成稍微結構化的資料格式"
   ]
  },
  {
   "cell_type": "code",
   "execution_count": 98,
   "metadata": {},
   "outputs": [],
   "source": [
    "page = {\n",
    "    \"title\": \"[問卦] 大尾鱸鰻 vs 與神同行？\",\n",
    "    \"content\": \"兩部我都看完了，覺得差不多好看！\",\n",
    "    \"author\": \"chiafann (NAZZZ)\",\n",
    "    \"pub_date\": \"Mon Jan  1 19:55:15 2018\",\n",
    "    \"ip\": \"185.89.251.21\"\n",
    "}"
   ]
  },
  {
   "cell_type": "code",
   "execution_count": 100,
   "metadata": {},
   "outputs": [
    {
     "name": "stdout",
     "output_type": "stream",
     "text": [
      "Requirement already satisfied: beautifulsoup4 in /Users/ian/.pyenv/versions/3.6.4/lib/python3.6/site-packages\r\n",
      "Requirement already satisfied: lxml in /Users/ian/.pyenv/versions/3.6.4/lib/python3.6/site-packages\r\n"
     ]
    }
   ],
   "source": [
    "!pip install beautifulsoup4 lxml"
   ]
  },
  {
   "cell_type": "code",
   "execution_count": 121,
   "metadata": {},
   "outputs": [],
   "source": [
    "from bs4 import BeautifulSoup\n",
    "\n",
    "with open('/tmp/ptt_data/M_1514336396_A_B25.html') as f:\n",
    "    html = f.read()\n",
    "\n",
    "soup = BeautifulSoup(html, 'lxml')"
   ]
  },
  {
   "cell_type": "code",
   "execution_count": 122,
   "metadata": {},
   "outputs": [
    {
     "data": {
      "text/plain": [
       "bs4.BeautifulSoup"
      ]
     },
     "execution_count": 122,
     "metadata": {},
     "output_type": "execute_result"
    }
   ],
   "source": [
    "type(soup)"
   ]
  },
  {
   "cell_type": "code",
   "execution_count": 123,
   "metadata": {},
   "outputs": [
    {
     "data": {
      "text/plain": [
       "{'author': 'Kay731 (K少)',\n",
       " 'board': 'Gossiping',\n",
       " 'pub_date': 'Wed Dec 27 08:59:55 2017',\n",
       " 'title': 'Fw: [協尋] 12/24下午新北耶誕城廣場遺失鑽石項鍊'}"
      ]
     },
     "execution_count": 123,
     "metadata": {},
     "output_type": "execute_result"
    }
   ],
   "source": [
    "dict_key = ['author', 'board', 'title', 'pub_date']\n",
    "\n",
    "page = {k:tag.text for k, tag in zip(dict_key, soup.select('span.article-meta-value'))}\n",
    "page"
   ]
  },
  {
   "cell_type": "code",
   "execution_count": 124,
   "metadata": {},
   "outputs": [
    {
     "data": {
      "text/plain": [
       "{'author': 'Kay731 (K少)',\n",
       " 'board': 'Gossiping',\n",
       " 'ip': '42.72.160.231',\n",
       " 'pub_date': 'Wed Dec 27 08:59:55 2017',\n",
       " 'title': 'Fw: [協尋] 12/24下午新北耶誕城廣場遺失鑽石項鍊'}"
      ]
     },
     "execution_count": 124,
     "metadata": {},
     "output_type": "execute_result"
    }
   ],
   "source": [
    "import re\n",
    "\n",
    "page['ip'] = re.findall('來自: (\\d{1,3}\\.\\d{1,3}\\.\\d{1,3}\\.\\d{1,3})', html)[0]\n",
    "page"
   ]
  },
  {
   "cell_type": "markdown",
   "metadata": {},
   "source": [
    "# 內文比較複雜\n",
    "\n",
    "因為內文沒有被tag包住，可以直接select\n",
    "\n",
    "所以只能弄刪去法, 把不是內文的東西刪掉"
   ]
  },
  {
   "cell_type": "code",
   "execution_count": 142,
   "metadata": {
    "scrolled": true
   },
   "outputs": [
    {
     "data": {
      "text/plain": [
       "<div class=\"bbs-screen bbs-content\" id=\"main-content\">\n",
       "\n",
       "作者: nswitch (Nswitch) 看板: BigBanciao\n",
       "標題: [協尋] 12/24下午新北耶誕城廣場遺失鑽石項鍊\n",
       "時間: Wed Dec 27 08:42:37 2017\n",
       "\n",
       "\n",
       "因朋友權限不足 是以代po\n",
       "並請友版版主轉文章並置底\n",
       "非常感謝您 真的很感謝\n",
       "\n",
       "內容\n",
       "請廣大的鄉民們幫忙或可轉至其他社群幫忙尋找\n",
       "\n",
       "時間: 12/24 星期日12:40～14:00這段時間遺失\n",
       "\n",
       "地點:新北市耶誕城市民廣場處\n",
       "\n",
       "因為家人那天帶小孩去新北耶誕城廣場玩\n",
       "在玩了旋轉木馬和飛椅之後\n",
       "發現脖子上的鑽石銀項鍊遺失了\n",
       "可能是鍊子斷掉了\n",
       "（特色是鑽石會自然晃動）\n",
       "後來有請大會廣播並再找了一天都沒找到\n",
       "甚至從縫隙看水溝蓋裡\n",
       "也至警局備案 但目前仍沒有找到\n",
       "\n",
       "鑽石重量十分不到 一般市價幾千元\n",
       "但那鑽石是由家人做成的生命寶石\n",
       "對我們意義重大 我們遺失非常的難過\n",
       "所以 真的能希望由廣大版友幫忙 能夠找回\n",
       "若有在那裡有撿到或是您的親友有看到拾得的話\n",
       "請Line: Nswitch\n",
       "或可交至耶誕城大會服務台\n",
       "也可送附近警察局再轉交給海山分局\n",
       "\n",
       "若是可能\n",
       "會用超放大鏡去看腰間刻的英文名和寶石編號\n",
       "經確定是我們遺失的\n",
       "我們會給您台幣一百萬元感謝您有好好地照顧與保護\n",
       "並在新北廣場發1000份雞排感謝ptt fb 或其他社群的朋友/恩人\n",
       "\n",
       "附上同款項鍊圖片和新北耶誕城遺失位置圖片連結\n",
       "<a href=\"https://imgur.com/gallery/KPuIH\" rel=\"nofollow\" target=\"_blank\">https://imgur.com/gallery/KPuIH</a>\n",
       "\n",
       "--\n",
       "\n",
       "</div>"
      ]
     },
     "execution_count": 142,
     "metadata": {},
     "output_type": "execute_result"
    }
   ],
   "source": [
    "content = soup.select_one('div#main-content')\n",
    "\n",
    "selectors_to_del = ['.article-metaline',\n",
    "                   '.article-metaline-right',\n",
    "                    'span.f2',\n",
    "                    'div.push'\n",
    "                   ]\n",
    "\n",
    "for selector in selectors_to_del:\n",
    "    [tag.extract() for tag in content.select(selector)]\n",
    "content"
   ]
  },
  {
   "cell_type": "code",
   "execution_count": 143,
   "metadata": {},
   "outputs": [
    {
     "data": {
      "text/plain": [
       "{'author': 'Kay731 (K少)',\n",
       " 'board': 'Gossiping',\n",
       " 'ip': '42.72.160.231',\n",
       " 'pub_date': 'Wed Dec 27 08:59:55 2017',\n",
       " 'title': 'Fw: [協尋] 12/24下午新北耶誕城廣場遺失鑽石項鍊'}"
      ]
     },
     "execution_count": 143,
     "metadata": {},
     "output_type": "execute_result"
    }
   ],
   "source": [
    "page"
   ]
  },
  {
   "cell_type": "code",
   "execution_count": 144,
   "metadata": {},
   "outputs": [],
   "source": [
    "page['content'] = content.text.strip()"
   ]
  },
  {
   "cell_type": "code",
   "execution_count": 145,
   "metadata": {},
   "outputs": [
    {
     "data": {
      "text/plain": [
       "{'author': 'Kay731 (K少)',\n",
       " 'board': 'Gossiping',\n",
       " 'content': '作者: nswitch (Nswitch) 看板: BigBanciao\\n標題: [協尋] 12/24下午新北耶誕城廣場遺失鑽石項鍊\\n時間: Wed Dec 27 08:42:37 2017\\n\\n\\n因朋友權限不足 是以代po\\n並請友版版主轉文章並置底\\n非常感謝您 真的很感謝\\n\\n內容\\n請廣大的鄉民們幫忙或可轉至其他社群幫忙尋找\\n\\n時間: 12/24 星期日12:40～14:00這段時間遺失\\n\\n地點:新北市耶誕城市民廣場處\\n\\n因為家人那天帶小孩去新北耶誕城廣場玩\\n在玩了旋轉木馬和飛椅之後\\n發現脖子上的鑽石銀項鍊遺失了\\n可能是鍊子斷掉了\\n（特色是鑽石會自然晃動）\\n後來有請大會廣播並再找了一天都沒找到\\n甚至從縫隙看水溝蓋裡\\n也至警局備案 但目前仍沒有找到\\n\\n鑽石重量十分不到 一般市價幾千元\\n但那鑽石是由家人做成的生命寶石\\n對我們意義重大 我們遺失非常的難過\\n所以 真的能希望由廣大版友幫忙 能夠找回\\n若有在那裡有撿到或是您的親友有看到拾得的話\\n請Line: Nswitch\\n或可交至耶誕城大會服務台\\n也可送附近警察局再轉交給海山分局\\n\\n若是可能\\n會用超放大鏡去看腰間刻的英文名和寶石編號\\n經確定是我們遺失的\\n我們會給您台幣一百萬元感謝您有好好地照顧與保護\\n並在新北廣場發1000份雞排感謝ptt fb 或其他社群的朋友/恩人\\n\\n附上同款項鍊圖片和新北耶誕城遺失位置圖片連結\\nhttps://imgur.com/gallery/KPuIH\\n\\n--',\n",
       " 'ip': '42.72.160.231',\n",
       " 'pub_date': 'Wed Dec 27 08:59:55 2017',\n",
       " 'title': 'Fw: [協尋] 12/24下午新北耶誕城廣場遺失鑽石項鍊'}"
      ]
     },
     "execution_count": 145,
     "metadata": {},
     "output_type": "execute_result"
    }
   ],
   "source": [
    "page"
   ]
  },
  {
   "cell_type": "code",
   "execution_count": null,
   "metadata": {},
   "outputs": [],
   "source": []
  }
 ],
 "metadata": {
  "kernelspec": {
   "display_name": "Python 3",
   "language": "python",
   "name": "python3"
  },
  "language_info": {
   "codemirror_mode": {
    "name": "ipython",
    "version": 3
   },
   "file_extension": ".py",
   "mimetype": "text/x-python",
   "name": "python",
   "nbconvert_exporter": "python",
   "pygments_lexer": "ipython3",
   "version": "3.6.4"
  }
 },
 "nbformat": 4,
 "nbformat_minor": 2
}
