{
 "cells": [
  {
   "cell_type": "code",
   "execution_count": 3,
   "metadata": {},
   "outputs": [
    {
     "name": "stdout",
     "output_type": "stream",
     "text": [
      "bb105_20171225.ipynb bb105_20171227.ipynb reddit.json\r\n"
     ]
    }
   ],
   "source": [
    "# !可以escape to shell，\n",
    "# 可以輸入shell指令\n",
    "!ls"
   ]
  },
  {
   "cell_type": "code",
   "execution_count": 4,
   "metadata": {},
   "outputs": [
    {
     "name": "stdout",
     "output_type": "stream",
     "text": [
      "  % Total    % Received % Xferd  Average Speed   Time    Time     Time  Current\n",
      "                                 Dload  Upload   Total   Spent    Left  Speed\n",
      "100 22554  100 22554    0     0  47733      0 --:--:-- --:--:-- --:--:-- 47783\n"
     ]
    }
   ],
   "source": [
    "# 用curl程式下載網路上的Trump的演講稿\n",
    "!curl https://raw.githubusercontent.com/ianchen06/pythonetl/master/bb103/trump_interview.txt > /tmp/trump.txt"
   ]
  },
  {
   "cell_type": "code",
   "execution_count": 5,
   "metadata": {},
   "outputs": [],
   "source": [
    "# Python讀取檔案，\n",
    "# 使用with來幫我們做file object的自動開關\n",
    "# 想了解更多with -> context manager\n",
    "with open('/tmp/trump.txt') as speech_file:\n",
    "    speech_text = speech_file.read()"
   ]
  },
  {
   "cell_type": "code",
   "execution_count": 6,
   "metadata": {},
   "outputs": [
    {
     "data": {
      "text/plain": [
       "'PRESIDENT TRUMP: Hello, everybody. Great to be back in New York with all of our friends and some gre'"
      ]
     },
     "execution_count": 6,
     "metadata": {},
     "output_type": "execute_result"
    }
   ],
   "source": [
    "speech_text[:100]"
   ]
  },
  {
   "cell_type": "code",
   "execution_count": 9,
   "metadata": {
    "scrolled": false
   },
   "outputs": [
    {
     "data": {
      "text/plain": [
       "['PRESIDENT',\n",
       " 'TRUMP:',\n",
       " 'Hello,',\n",
       " 'everybody.',\n",
       " 'Great',\n",
       " 'to',\n",
       " 'be',\n",
       " 'back',\n",
       " 'in',\n",
       " 'New']"
      ]
     },
     "execution_count": 9,
     "metadata": {},
     "output_type": "execute_result"
    }
   ],
   "source": [
    "words = speech_text.split()\n",
    "words[:10]"
   ]
  },
  {
   "cell_type": "code",
   "execution_count": 15,
   "metadata": {},
   "outputs": [],
   "source": [
    "# 快速測試Collection內有無element\n",
    "# x in [x]\n",
    "# True/False"
   ]
  },
  {
   "cell_type": "code",
   "execution_count": 11,
   "metadata": {},
   "outputs": [
    {
     "data": {
      "text/plain": [
       "True"
      ]
     },
     "execution_count": 11,
     "metadata": {},
     "output_type": "execute_result"
    }
   ],
   "source": [
    "# substring in string\n",
    "'a' in 'ian'"
   ]
  },
  {
   "cell_type": "code",
   "execution_count": 12,
   "metadata": {},
   "outputs": [
    {
     "data": {
      "text/plain": [
       "True"
      ]
     },
     "execution_count": 12,
     "metadata": {},
     "output_type": "execute_result"
    }
   ],
   "source": [
    "'a' in ['i', 'a', 'n']"
   ]
  },
  {
   "cell_type": "code",
   "execution_count": 16,
   "metadata": {},
   "outputs": [
    {
     "data": {
      "text/plain": [
       "True"
      ]
     },
     "execution_count": 16,
     "metadata": {},
     "output_type": "execute_result"
    }
   ],
   "source": [
    "# in 用在dictionary時，\n",
    "# 是測試key在不在，不是value\n",
    "'trump' in {\"trump\": 1}"
   ]
  },
  {
   "cell_type": "code",
   "execution_count": 17,
   "metadata": {
    "scrolled": true
   },
   "outputs": [
    {
     "data": {
      "text/plain": [
       "False"
      ]
     },
     "execution_count": 17,
     "metadata": {},
     "output_type": "execute_result"
    }
   ],
   "source": [
    "'president' in {\"trump\": 1}"
   ]
  },
  {
   "cell_type": "code",
   "execution_count": 18,
   "metadata": {},
   "outputs": [
    {
     "data": {
      "text/plain": [
       "'Python is Cool'"
      ]
     },
     "execution_count": 18,
     "metadata": {},
     "output_type": "execute_result"
    }
   ],
   "source": [
    "\"Java is Cool\".replace(\"Java\", \"Python\")"
   ]
  },
  {
   "cell_type": "code",
   "execution_count": 19,
   "metadata": {},
   "outputs": [
    {
     "data": {
      "text/plain": [
       "'java is cool'"
      ]
     },
     "execution_count": 19,
     "metadata": {},
     "output_type": "execute_result"
    }
   ],
   "source": [
    "\"Java is Cool\".lower()"
   ]
  },
  {
   "cell_type": "code",
   "execution_count": 21,
   "metadata": {},
   "outputs": [],
   "source": [
    "counter = {}\n",
    "for word in words:\n",
    "    word = word.lower().replace(':', '').replace('.', '').replace(',', '')\n",
    "    if word in counter:\n",
    "        counter[word] += 1\n",
    "    else:\n",
    "        counter[word] = 1"
   ]
  },
  {
   "cell_type": "code",
   "execution_count": 26,
   "metadata": {},
   "outputs": [
    {
     "data": {
      "text/plain": [
       "\"\\n{'$4': 1,\\n '$5': 1,\\n '(chatter)': 11,\\n '--': 21,\\n '1': 1,\\n '10': 1,\\n '11': 1,\\n '16': 1,\\n '17': 3,\\n .\\n .\\n .\\n\""
      ]
     },
     "execution_count": 26,
     "metadata": {},
     "output_type": "execute_result"
    }
   ],
   "source": [
    "#counter\n",
    "\"\"\"\n",
    "{'$4': 1,\n",
    " '$5': 1,\n",
    " '(chatter)': 11,\n",
    " '--': 21,\n",
    " '1': 1,\n",
    " '10': 1,\n",
    " '11': 1,\n",
    " '16': 1,\n",
    " '17': 3,\n",
    " .\n",
    " .\n",
    " .\n",
    "\"\"\""
   ]
  },
  {
   "cell_type": "code",
   "execution_count": 28,
   "metadata": {},
   "outputs": [],
   "source": [
    "# 複習一下Dictionary的內建methods\n",
    "trump_dict = {\n",
    "    \"trump\": 1,\n",
    "    \"america\": 1,\n",
    "    \"great\": 1,\n",
    "    \"again\": 2\n",
    "}"
   ]
  },
  {
   "cell_type": "code",
   "execution_count": 29,
   "metadata": {},
   "outputs": [
    {
     "data": {
      "text/plain": [
       "dict_keys(['trump', 'america', 'great', 'again'])"
      ]
     },
     "execution_count": 29,
     "metadata": {},
     "output_type": "execute_result"
    }
   ],
   "source": [
    "# 提取dictioanry裡的keys\n",
    "trump_dict.keys()"
   ]
  },
  {
   "cell_type": "code",
   "execution_count": 30,
   "metadata": {},
   "outputs": [
    {
     "data": {
      "text/plain": [
       "dict_values([1, 1, 1, 2])"
      ]
     },
     "execution_count": 30,
     "metadata": {},
     "output_type": "execute_result"
    }
   ],
   "source": [
    "trump_dict.values()"
   ]
  },
  {
   "cell_type": "code",
   "execution_count": 31,
   "metadata": {},
   "outputs": [
    {
     "data": {
      "text/plain": [
       "dict_items([('trump', 1), ('america', 1), ('great', 1), ('again', 2)])"
      ]
     },
     "execution_count": 31,
     "metadata": {},
     "output_type": "execute_result"
    }
   ],
   "source": [
    "# return dictionary的key values pairs as tuples\n",
    "# dict_items([(key, value),\n",
    "#             (key, value)])\n",
    "trump_dict.items()"
   ]
  },
  {
   "cell_type": "code",
   "execution_count": 33,
   "metadata": {},
   "outputs": [
    {
     "data": {
      "text/plain": [
       "[('trump', 1), ('america', 1), ('great', 1), ('again', 2)]"
      ]
     },
     "execution_count": 33,
     "metadata": {},
     "output_type": "execute_result"
    }
   ],
   "source": [
    "# Cast dict_items object to List\n",
    "list(trump_dict.items())"
   ]
  },
  {
   "cell_type": "code",
   "execution_count": 37,
   "metadata": {
    "scrolled": true
   },
   "outputs": [
    {
     "data": {
      "text/plain": [
       "[('president', 10),\n",
       " ('trump', 33),\n",
       " ('hello', 1),\n",
       " ('everybody', 3),\n",
       " ('great', 6),\n",
       " ('to', 111),\n",
       " ('be', 23),\n",
       " ('back', 8),\n",
       " ('in', 42),\n",
       " ('new', 4)]"
      ]
     },
     "execution_count": 37,
     "metadata": {},
     "output_type": "execute_result"
    }
   ],
   "source": [
    "result = list(counter.items())\n",
    "result[:10]"
   ]
  },
  {
   "cell_type": "code",
   "execution_count": 38,
   "metadata": {},
   "outputs": [
    {
     "data": {
      "text/plain": [
       "[('president', 10),\n",
       " ('trump', 33),\n",
       " ('hello', 1),\n",
       " ('everybody', 3),\n",
       " ('great', 6),\n",
       " ('to', 111),\n",
       " ('be', 23),\n",
       " ('back', 8),\n",
       " ('in', 42),\n",
       " ('new', 4)]"
      ]
     },
     "execution_count": 38,
     "metadata": {},
     "output_type": "execute_result"
    }
   ],
   "source": [
    "#[(word, cnt),(word, cnt),(word, cnt)]\n",
    "result = []\n",
    "for word, cnt in counter.items():\n",
    "    result.append((word,cnt))\n",
    "result[:10]"
   ]
  },
  {
   "cell_type": "code",
   "execution_count": 48,
   "metadata": {},
   "outputs": [],
   "source": [
    "def get_count(x):\n",
    "    \"\"\"\n",
    "    args:\n",
    "        x -> list\n",
    "    retrun:\n",
    "        val -> value we want to sort with\n",
    "    \"\"\"\n",
    "    return x[1]"
   ]
  },
  {
   "cell_type": "code",
   "execution_count": 52,
   "metadata": {},
   "outputs": [],
   "source": [
    "def get_word(x):\n",
    "    \"\"\"\n",
    "    args:\n",
    "        x -> list\n",
    "    retrun:\n",
    "        val -> value we want to sort with\n",
    "    \"\"\"\n",
    "    return x[0]"
   ]
  },
  {
   "cell_type": "code",
   "execution_count": 50,
   "metadata": {},
   "outputs": [
    {
     "data": {
      "text/plain": [
       "10"
      ]
     },
     "execution_count": 50,
     "metadata": {},
     "output_type": "execute_result"
    }
   ],
   "source": [
    "get_count(('president', 10))"
   ]
  },
  {
   "cell_type": "code",
   "execution_count": 53,
   "metadata": {
    "scrolled": false
   },
   "outputs": [
    {
     "data": {
      "text/plain": [
       "'trump'"
      ]
     },
     "execution_count": 53,
     "metadata": {},
     "output_type": "execute_result"
    }
   ],
   "source": [
    "get_word(('trump', 33))"
   ]
  },
  {
   "cell_type": "code",
   "execution_count": 113,
   "metadata": {},
   "outputs": [
    {
     "data": {
      "text/plain": [
       "<function __main__.get_word>"
      ]
     },
     "execution_count": 113,
     "metadata": {},
     "output_type": "execute_result"
    }
   ],
   "source": [
    "get_word"
   ]
  },
  {
   "cell_type": "code",
   "execution_count": 114,
   "metadata": {},
   "outputs": [
    {
     "data": {
      "text/plain": [
       "[('$4', 1),\n",
       " ('$5', 1),\n",
       " ('(chatter)', 11),\n",
       " ('--', 21),\n",
       " ('1', 1),\n",
       " ('10', 1),\n",
       " ('11', 1),\n",
       " ('16', 1),\n",
       " ('17', 3),\n",
       " ('20', 3)]"
      ]
     },
     "execution_count": 114,
     "metadata": {},
     "output_type": "execute_result"
    }
   ],
   "source": [
    "# 排序\n",
    "sorted(result, key=get_word)[:10]"
   ]
  },
  {
   "cell_type": "code",
   "execution_count": 115,
   "metadata": {},
   "outputs": [
    {
     "data": {
      "text/plain": [
       "[('the', 164),\n",
       " ('you', 122),\n",
       " ('i', 114),\n",
       " ('to', 111),\n",
       " ('a', 102),\n",
       " ('and', 94),\n",
       " ('it', 75),\n",
       " ('of', 69),\n",
       " ('that', 68),\n",
       " ('in', 42)]"
      ]
     },
     "execution_count": 115,
     "metadata": {},
     "output_type": "execute_result"
    }
   ],
   "source": [
    "sorted(result, key=get_count, reverse=True)[:10]"
   ]
  },
  {
   "cell_type": "code",
   "execution_count": 97,
   "metadata": {},
   "outputs": [],
   "source": [
    "sorted_res = sorted(result, key=lambda val: val[1], reverse=True)"
   ]
  },
  {
   "cell_type": "code",
   "execution_count": 62,
   "metadata": {},
   "outputs": [
    {
     "name": "stdout",
     "output_type": "stream",
     "text": [
      "  % Total    % Received % Xferd  Average Speed   Time    Time     Time  Current\n",
      "                                 Dload  Upload   Total   Spent    Left  Speed\n",
      "100   743  100   743    0     0   1955      0 --:--:-- --:--:-- --:--:--  1955\n"
     ]
    }
   ],
   "source": [
    "!curl https://raw.githubusercontent.com/igorbrigadir/stopwords/master/en/nltk.txt > /tmp/stopwords.txt"
   ]
  },
  {
   "cell_type": "code",
   "execution_count": 72,
   "metadata": {},
   "outputs": [],
   "source": [
    "# List comprehension\n",
    "# [transformation for-loop condition(filter)]\n",
    "scores = [{\n",
    "    \"name\": \"Ian\",\n",
    "    \"score\": 90\n",
    "},\n",
    " {\n",
    "     \"name\": \"Brian\",\n",
    "     \"score\": 70,\n",
    " },\n",
    " {\n",
    "     \"name\": \"David\",\n",
    "     \"score\": 40\n",
    " }]"
   ]
  },
  {
   "cell_type": "code",
   "execution_count": 76,
   "metadata": {},
   "outputs": [
    {
     "data": {
      "text/plain": [
       "[{'name': 'Ian', 'score': 90}, {'name': 'Brian', 'score': 70}]"
      ]
     },
     "execution_count": 76,
     "metadata": {},
     "output_type": "execute_result"
    }
   ],
   "source": [
    "passed = []\n",
    "for row in scores:\n",
    "    if row['score'] > 60:\n",
    "        passed.append(row)\n",
    "passed"
   ]
  },
  {
   "cell_type": "code",
   "execution_count": 78,
   "metadata": {},
   "outputs": [
    {
     "data": {
      "text/plain": [
       "[{'name': 'Ian', 'score': 90}, {'name': 'Brian', 'score': 70}]"
      ]
     },
     "execution_count": 78,
     "metadata": {},
     "output_type": "execute_result"
    }
   ],
   "source": [
    "[row for row in scores if row['score'] > 60]"
   ]
  },
  {
   "cell_type": "code",
   "execution_count": 104,
   "metadata": {},
   "outputs": [
    {
     "data": {
      "text/plain": [
       "'me'"
      ]
     },
     "execution_count": 104,
     "metadata": {},
     "output_type": "execute_result"
    }
   ],
   "source": [
    "#去除空白符號\n",
    "#包含space與換行符號\\n\n",
    "'      me      \\n    '.strip()"
   ]
  },
  {
   "cell_type": "code",
   "execution_count": 86,
   "metadata": {},
   "outputs": [
    {
     "data": {
      "text/plain": [
       "['i', 'me', 'my', 'myself', 'we']"
      ]
     },
     "execution_count": 86,
     "metadata": {},
     "output_type": "execute_result"
    }
   ],
   "source": [
    "words_with_n = ['i\\n',\n",
    " 'me\\n',\n",
    " 'my\\n',\n",
    " 'myself\\n',\n",
    " 'we\\n',]\n",
    "clean_words = []\n",
    "for word in words_with_n:\n",
    "    clean_words.append(word.strip())\n",
    "clean_words"
   ]
  },
  {
   "cell_type": "code",
   "execution_count": 90,
   "metadata": {},
   "outputs": [
    {
     "data": {
      "text/plain": [
       "['i', 'me', 'my', 'myself', 'we']"
      ]
     },
     "execution_count": 90,
     "metadata": {},
     "output_type": "execute_result"
    }
   ],
   "source": [
    "[word.strip() for word in words_with_n]"
   ]
  },
  {
   "cell_type": "code",
   "execution_count": 94,
   "metadata": {},
   "outputs": [],
   "source": [
    "with open('/tmp/stopwords.txt') as f:\n",
    "    stopwords = [word.strip() for word in f.readlines()]"
   ]
  },
  {
   "cell_type": "code",
   "execution_count": 116,
   "metadata": {},
   "outputs": [
    {
     "data": {
      "text/plain": [
       "['i', 'me', 'my', 'myself', 'we', 'our', 'ours', 'ourselves', 'you', 'your']"
      ]
     },
     "execution_count": 116,
     "metadata": {},
     "output_type": "execute_result"
    }
   ],
   "source": [
    "stopwords[:10]"
   ]
  },
  {
   "cell_type": "code",
   "execution_count": 99,
   "metadata": {},
   "outputs": [],
   "source": [
    "final_res = []\n",
    "for row in sorted_res:\n",
    "    if row[0] not in stopwords:\n",
    "        final_res.append(row)"
   ]
  },
  {
   "cell_type": "code",
   "execution_count": 111,
   "metadata": {},
   "outputs": [],
   "source": [
    "final_res = [row for row in sorted_res if row[0] not in stopwords]"
   ]
  },
  {
   "cell_type": "code",
   "execution_count": 117,
   "metadata": {},
   "outputs": [
    {
     "data": {
      "text/plain": [
       "[('trump', 33),\n",
       " ('–', 32),\n",
       " ('reporter', 30),\n",
       " ('people', 28),\n",
       " ('statement', 25),\n",
       " ('know', 24),\n",
       " ('country', 23),\n",
       " ('think', 22),\n",
       " ('--', 21),\n",
       " ('going', 20)]"
      ]
     },
     "execution_count": 117,
     "metadata": {},
     "output_type": "execute_result"
    }
   ],
   "source": [
    "final_res[:10]"
   ]
  },
  {
   "cell_type": "markdown",
   "metadata": {},
   "source": [
    "# Requests"
   ]
  },
  {
   "cell_type": "code",
   "execution_count": 1,
   "metadata": {},
   "outputs": [
    {
     "name": "stdout",
     "output_type": "stream",
     "text": [
      "Requirement already satisfied: requests in /Users/ian/.pyenv/versions/3.6.2/lib/python3.6/site-packages\r\n",
      "Requirement already satisfied: certifi>=2017.4.17 in /Users/ian/.pyenv/versions/3.6.2/lib/python3.6/site-packages (from requests)\r\n",
      "Requirement already satisfied: urllib3<1.23,>=1.21.1 in /Users/ian/.pyenv/versions/3.6.2/lib/python3.6/site-packages (from requests)\r\n",
      "Requirement already satisfied: chardet<3.1.0,>=3.0.2 in /Users/ian/.pyenv/versions/3.6.2/lib/python3.6/site-packages (from requests)\r\n",
      "Requirement already satisfied: idna<2.7,>=2.5 in /Users/ian/.pyenv/versions/3.6.2/lib/python3.6/site-packages (from requests)\r\n"
     ]
    }
   ],
   "source": [
    "!pip install requests"
   ]
  },
  {
   "cell_type": "code",
   "execution_count": 2,
   "metadata": {},
   "outputs": [],
   "source": [
    "import requests"
   ]
  },
  {
   "cell_type": "code",
   "execution_count": 22,
   "metadata": {},
   "outputs": [],
   "source": [
    "URL = \"https://www.ptt.cc/bbs/LCD/index{}.html\""
   ]
  },
  {
   "cell_type": "code",
   "execution_count": 23,
   "metadata": {},
   "outputs": [],
   "source": [
    "resp = requests.get(URL.format(1190))"
   ]
  },
  {
   "cell_type": "code",
   "execution_count": 24,
   "metadata": {},
   "outputs": [
    {
     "data": {
      "text/plain": [
       "<Response [200]>"
      ]
     },
     "execution_count": 24,
     "metadata": {},
     "output_type": "execute_result"
    }
   ],
   "source": [
    "resp"
   ]
  },
  {
   "cell_type": "code",
   "execution_count": 25,
   "metadata": {},
   "outputs": [
    {
     "data": {
      "text/plain": [
       "requests.models.Response"
      ]
     },
     "execution_count": 25,
     "metadata": {},
     "output_type": "execute_result"
    }
   ],
   "source": [
    "type(resp)"
   ]
  },
  {
   "cell_type": "code",
   "execution_count": 26,
   "metadata": {},
   "outputs": [
    {
     "data": {
      "text/plain": [
       "{'Date': 'Wed, 27 Dec 2017 06:23:05 GMT', 'Content-Type': 'text/html; charset=utf-8', 'Transfer-Encoding': 'chunked', 'Connection': 'keep-alive', 'Set-Cookie': '__cfduid=d6707ca091caf6e663a220e5128d6387c1514355785; expires=Thu, 27-Dec-18 06:23:05 GMT; path=/; domain=.ptt.cc; HttpOnly', 'Alternate-Protocol': '443:npn-spdy/3', 'Strict-Transport-Security': 'max-age=0', 'X-Content-Type-Options': 'nosniff', 'Server': 'cloudflare', 'CF-RAY': '3d3a306bbab95432-LAX', 'Content-Encoding': 'gzip'}"
      ]
     },
     "execution_count": 26,
     "metadata": {},
     "output_type": "execute_result"
    }
   ],
   "source": [
    "resp.headers"
   ]
  },
  {
   "cell_type": "code",
   "execution_count": 27,
   "metadata": {},
   "outputs": [
    {
     "data": {
      "text/plain": [
       "200"
      ]
     },
     "execution_count": 27,
     "metadata": {},
     "output_type": "execute_result"
    }
   ],
   "source": [
    "resp.status_code"
   ]
  },
  {
   "cell_type": "code",
   "execution_count": 36,
   "metadata": {},
   "outputs": [
    {
     "data": {
      "text/plain": [
       "b'<!DOCTYPE html>\\n<html>\\n\\t<head>\\n\\t\\t<meta charset=\"utf-8\">\\n\\t\\t\\n\\n<meta name=\"viewport\" content=\"width=dev'"
      ]
     },
     "execution_count": 36,
     "metadata": {},
     "output_type": "execute_result"
    }
   ],
   "source": [
    "resp.content[:100]"
   ]
  },
  {
   "cell_type": "code",
   "execution_count": 37,
   "metadata": {},
   "outputs": [
    {
     "data": {
      "text/plain": [
       "'<!DOCTYPE html>\\n<html>\\n\\t<head>\\n\\t\\t<meta charset=\"utf-8\">\\n\\t\\t\\n\\n<meta name=\"viewport\" content=\"width=dev'"
      ]
     },
     "execution_count": 37,
     "metadata": {},
     "output_type": "execute_result"
    }
   ],
   "source": [
    "resp.content.decode('utf-8')[:100]"
   ]
  },
  {
   "cell_type": "code",
   "execution_count": 38,
   "metadata": {},
   "outputs": [
    {
     "data": {
      "text/plain": [
       "'<!DOCTYPE html>\\n<html>\\n\\t<head>\\n\\t\\t<meta charset=\"utf-8\">\\n\\t\\t\\n\\n<meta name=\"viewport\" content=\"width=dev'"
      ]
     },
     "execution_count": 38,
     "metadata": {},
     "output_type": "execute_result"
    }
   ],
   "source": [
    "resp.text[:100]"
   ]
  },
  {
   "cell_type": "code",
   "execution_count": 31,
   "metadata": {},
   "outputs": [
    {
     "name": "stdout",
     "output_type": "stream",
     "text": [
      "mkdir: /tmp/ptt_data: File exists\r\n"
     ]
    }
   ],
   "source": [
    "!mkdir /tmp/ptt_data"
   ]
  },
  {
   "cell_type": "code",
   "execution_count": 32,
   "metadata": {},
   "outputs": [],
   "source": [
    "with open('/tmp/ptt_data/index{}.html'.format(1190), 'w') as f:\n",
    "    f.write(resp.text)"
   ]
  },
  {
   "cell_type": "code",
   "execution_count": 34,
   "metadata": {},
   "outputs": [
    {
     "name": "stdout",
     "output_type": "stream",
     "text": [
      "1190\n",
      "1189\n",
      "1188\n",
      "1187\n",
      "1186\n",
      "1185\n",
      "1184\n",
      "1183\n",
      "1182\n",
      "1181\n"
     ]
    }
   ],
   "source": [
    "import requests\n",
    "\n",
    "URL = \"https://www.ptt.cc/bbs/LCD/index{}.html\"\n",
    "LAST_PAGE = 1190\n",
    "PAGE = 10\n",
    "DATA_DIR = '/tmp/ptt_data'\n",
    "\n",
    "# 爬10頁\n",
    "for page_no in range(LAST_PAGE, LAST_PAGE - PAGE, -1):\n",
    "    print(page_no)\n",
    "    resp = requests.get(URL.format(page_no))\n",
    "    \n",
    "    # 把爬下來的HTML文字檔儲存到資料夾\n",
    "    with open(DATA_DIR + '/index{}.html'.format(page_no), 'w') as f:\n",
    "        f.write(resp.text)"
   ]
  },
  {
   "cell_type": "code",
   "execution_count": 35,
   "metadata": {},
   "outputs": [
    {
     "name": "stdout",
     "output_type": "stream",
     "text": [
      "index.html     index1183.html index1186.html index1189.html\r\n",
      "index1181.html index1184.html index1187.html index1190.html\r\n",
      "index1182.html index1185.html index1188.html\r\n"
     ]
    }
   ],
   "source": [
    "!ls /tmp/ptt_data"
   ]
  },
  {
   "cell_type": "code",
   "execution_count": 39,
   "metadata": {},
   "outputs": [],
   "source": [
    "# 把檔案讀進來ETL\n",
    "with open('/tmp/ptt_data/index1190.html') as f:\n",
    "    html = f.read()"
   ]
  },
  {
   "cell_type": "code",
   "execution_count": 40,
   "metadata": {},
   "outputs": [
    {
     "data": {
      "text/plain": [
       "'<!DOCTYPE html>\\n<html>\\n\\t<head>\\n\\t\\t<meta charset=\"utf-8\">\\n\\t\\t\\n\\n<meta name=\"viewport\" content=\"width=dev'"
      ]
     },
     "execution_count": 40,
     "metadata": {},
     "output_type": "execute_result"
    }
   ],
   "source": [
    "html[:100]"
   ]
  },
  {
   "cell_type": "code",
   "execution_count": 63,
   "metadata": {},
   "outputs": [],
   "source": [
    "# stdlib 內建的RegEx模組\n",
    "# https://docs.python.org/3/library/re.html\n",
    "# https://docs.python.org/3/howto/regex.html\n",
    "import re"
   ]
  },
  {
   "cell_type": "code",
   "execution_count": 54,
   "metadata": {},
   "outputs": [
    {
     "data": {
      "text/plain": [
       "['href=\"/bbs/LCD/M.1514102861.A.55A.html\"',\n",
       " 'href=\"/bbs/LCD/M.1514175646.A.53B.html\"',\n",
       " 'href=\"/bbs/LCD/M.1514183175.A.B2F.html\"',\n",
       " 'href=\"/bbs/LCD/M.1514183767.A.506.html\"',\n",
       " 'href=\"/bbs/LCD/M.1514203342.A.0FB.html\"',\n",
       " 'href=\"/bbs/LCD/M.1514220067.A.27D.html\"',\n",
       " 'href=\"/bbs/LCD/M.1514263347.A.EC0.html\"',\n",
       " 'href=\"/bbs/LCD/M.1514282054.A.E95.html\"',\n",
       " 'href=\"/bbs/LCD/M.1514282749.A.69C.html\"',\n",
       " 'href=\"/bbs/LCD/M.1514286181.A.F43.html\"',\n",
       " 'href=\"/bbs/LCD/M.1185168859.A.5BE.html\"',\n",
       " 'href=\"/bbs/LCD/M.1250474150.A.898.html\"',\n",
       " 'href=\"/bbs/LCD/M.1509121321.A.E67.html\"']"
      ]
     },
     "execution_count": 54,
     "metadata": {},
     "output_type": "execute_result"
    }
   ],
   "source": [
    "# ptt內文頁的網址，唯一會改動的地方是\n",
    "# M.<會改動的地方>.html\n",
    "# . 在regex裡是任意字元\n",
    "# 把中間挖空，用18個任意字元來表示\n",
    "re.findall('href=\"/bbs/LCD/M..................html\"', html)"
   ]
  },
  {
   "cell_type": "code",
   "execution_count": 57,
   "metadata": {},
   "outputs": [
    {
     "data": {
      "text/plain": [
       "['href=\"/bbs/LCD/M.1514102861.A.55A.html\"',\n",
       " 'href=\"/bbs/LCD/M.1514175646.A.53B.html\"',\n",
       " 'href=\"/bbs/LCD/M.1514183175.A.B2F.html\"',\n",
       " 'href=\"/bbs/LCD/M.1514183767.A.506.html\"',\n",
       " 'href=\"/bbs/LCD/M.1514203342.A.0FB.html\"',\n",
       " 'href=\"/bbs/LCD/M.1514220067.A.27D.html\"',\n",
       " 'href=\"/bbs/LCD/M.1514263347.A.EC0.html\"',\n",
       " 'href=\"/bbs/LCD/M.1514282054.A.E95.html\"',\n",
       " 'href=\"/bbs/LCD/M.1514282749.A.69C.html\"',\n",
       " 'href=\"/bbs/LCD/M.1514286181.A.F43.html\"',\n",
       " 'href=\"/bbs/LCD/M.1185168859.A.5BE.html\"',\n",
       " 'href=\"/bbs/LCD/M.1250474150.A.898.html\"',\n",
       " 'href=\"/bbs/LCD/M.1509121321.A.E67.html\"']"
      ]
     },
     "execution_count": 57,
     "metadata": {},
     "output_type": "execute_result"
    }
   ],
   "source": [
    "# 或者用+號\n",
    "# +代表重複左邊的字元，1到n次。\n",
    "re.findall('href=\"/bbs/LCD/M.+html\"', html)"
   ]
  },
  {
   "cell_type": "code",
   "execution_count": 60,
   "metadata": {},
   "outputs": [
    {
     "data": {
      "text/plain": [
       "['/bbs/LCD/M.1514102861.A.55A.html',\n",
       " '/bbs/LCD/M.1514175646.A.53B.html',\n",
       " '/bbs/LCD/M.1514183175.A.B2F.html',\n",
       " '/bbs/LCD/M.1514183767.A.506.html',\n",
       " '/bbs/LCD/M.1514203342.A.0FB.html',\n",
       " '/bbs/LCD/M.1514220067.A.27D.html',\n",
       " '/bbs/LCD/M.1514263347.A.EC0.html',\n",
       " '/bbs/LCD/M.1514282054.A.E95.html',\n",
       " '/bbs/LCD/M.1514282749.A.69C.html',\n",
       " '/bbs/LCD/M.1514286181.A.F43.html',\n",
       " '/bbs/LCD/M.1185168859.A.5BE.html',\n",
       " '/bbs/LCD/M.1250474150.A.898.html',\n",
       " '/bbs/LCD/M.1509121321.A.E67.html']"
      ]
     },
     "execution_count": 60,
     "metadata": {},
     "output_type": "execute_result"
    }
   ],
   "source": [
    "# () -> capture group，用來表示想要擷取的部分\n",
    "paths = re.findall('href=\"(/bbs/LCD/M.+html)\"', html)\n",
    "paths"
   ]
  },
  {
   "cell_type": "code",
   "execution_count": 64,
   "metadata": {},
   "outputs": [
    {
     "data": {
      "text/plain": [
       "['http://ptt.cc/bbs/LCD/M.1514102861.A.55A.html',\n",
       " 'http://ptt.cc/bbs/LCD/M.1514175646.A.53B.html',\n",
       " 'http://ptt.cc/bbs/LCD/M.1514183175.A.B2F.html',\n",
       " 'http://ptt.cc/bbs/LCD/M.1514183767.A.506.html',\n",
       " 'http://ptt.cc/bbs/LCD/M.1514203342.A.0FB.html',\n",
       " 'http://ptt.cc/bbs/LCD/M.1514220067.A.27D.html',\n",
       " 'http://ptt.cc/bbs/LCD/M.1514263347.A.EC0.html',\n",
       " 'http://ptt.cc/bbs/LCD/M.1514282054.A.E95.html',\n",
       " 'http://ptt.cc/bbs/LCD/M.1514282749.A.69C.html',\n",
       " 'http://ptt.cc/bbs/LCD/M.1514286181.A.F43.html',\n",
       " 'http://ptt.cc/bbs/LCD/M.1185168859.A.5BE.html',\n",
       " 'http://ptt.cc/bbs/LCD/M.1250474150.A.898.html',\n",
       " 'http://ptt.cc/bbs/LCD/M.1509121321.A.E67.html']"
      ]
     },
     "execution_count": 64,
     "metadata": {},
     "output_type": "execute_result"
    }
   ],
   "source": [
    "# 用list comprehension重新組合url\n",
    "[\"http://ptt.cc\" + url for url in paths]"
   ]
  },
  {
   "cell_type": "code",
   "execution_count": null,
   "metadata": {},
   "outputs": [],
   "source": []
  }
 ],
 "metadata": {
  "kernelspec": {
   "display_name": "Python 3",
   "language": "python",
   "name": "python3"
  },
  "language_info": {
   "codemirror_mode": {
    "name": "ipython",
    "version": 3
   },
   "file_extension": ".py",
   "mimetype": "text/x-python",
   "name": "python",
   "nbconvert_exporter": "python",
   "pygments_lexer": "ipython3",
   "version": "3.6.2"
  }
 },
 "nbformat": 4,
 "nbformat_minor": 2
}
