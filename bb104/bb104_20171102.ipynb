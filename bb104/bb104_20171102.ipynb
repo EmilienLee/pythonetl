{
 "cells": [
  {
   "cell_type": "code",
   "execution_count": 60,
   "metadata": {},
   "outputs": [
    {
     "name": "stdout",
     "output_type": "stream",
     "text": [
      "Requirement already satisfied: arrow in /Users/ian/.pyenv/versions/3.6.2/lib/python3.6/site-packages\n",
      "Collecting dateutils\n",
      "  Downloading dateutils-0.6.6.tar.gz\n",
      "Requirement already satisfied: python-dateutil in /Users/ian/.pyenv/versions/3.6.2/lib/python3.6/site-packages (from arrow)\n",
      "Collecting argparse (from dateutils)\n",
      "  Downloading argparse-1.4.0-py2.py3-none-any.whl\n",
      "Requirement already satisfied: pytz in /Users/ian/.pyenv/versions/3.6.2/lib/python3.6/site-packages (from dateutils)\n",
      "Requirement already satisfied: six>=1.5 in /Users/ian/.pyenv/versions/3.6.2/lib/python3.6/site-packages (from python-dateutil->arrow)\n",
      "Installing collected packages: argparse, dateutils\n",
      "  Running setup.py install for dateutils ... \u001b[?25ldone\n",
      "\u001b[?25hSuccessfully installed argparse-1.4.0 dateutils-0.6.6\n"
     ]
    }
   ],
   "source": [
    "!pip install arrow dateutils"
   ]
  },
  {
   "cell_type": "code",
   "execution_count": 141,
   "metadata": {
    "scrolled": true
   },
   "outputs": [
    {
     "data": {
      "text/plain": [
       "'\\ndatetime object有分兩種，\\n一種叫做天真的(naive)\\n一種叫做意識到的(aware)\\n\\nnaive datetime object, 沒有時區（timezone）的資訊\\naware datetime object, 有時區的資訊\\n\\n今天我們在使用datetime的時候要注意，因為有些datetime的method\\n，在對naive datetime做操作的時候，會使用系統的時區。（例如timestamp())\\n這個在系統時區與時間資料的時區不一樣的時候，會造成轉換的錯誤。\\n\\n所以最佳實務是明確的給每個datetime object時區資訊，\\n變成timezone aware的datetime object\\n\\n'"
      ]
     },
     "execution_count": 141,
     "metadata": {},
     "output_type": "execute_result"
    }
   ],
   "source": [
    "import datetime\n",
    "\"\"\"\n",
    "datetime object有分兩種，\n",
    "一種叫做天真的(naive)\n",
    "一種叫做意識到的(aware)\n",
    "\n",
    "naive datetime object, 沒有時區（timezone）的資訊\n",
    "aware datetime object, 有時區的資訊\n",
    "\n",
    "今天我們在使用datetime的時候要注意，因為有些datetime的method\n",
    "，在對naive datetime做操作的時候，會使用系統的時區。（例如timestamp())\n",
    "這個在系統時區與時間資料的時區不一樣的時候，會造成轉換的錯誤。\n",
    "\n",
    "所以最佳實務是明確的給每個datetime object時區資訊，\n",
    "變成timezone aware的datetime object\n",
    "\n",
    "\"\"\""
   ]
  },
  {
   "cell_type": "code",
   "execution_count": null,
   "metadata": {},
   "outputs": [],
   "source": [
    "# 以下是天真時間"
   ]
  },
  {
   "cell_type": "code",
   "execution_count": 65,
   "metadata": {},
   "outputs": [
    {
     "data": {
      "text/plain": [
       "datetime.datetime(2017, 11, 2, 13, 42, 27, 585514)"
      ]
     },
     "execution_count": 65,
     "metadata": {},
     "output_type": "execute_result"
    }
   ],
   "source": [
    "now = datetime.datetime.now()\n",
    "now"
   ]
  },
  {
   "cell_type": "code",
   "execution_count": 66,
   "metadata": {},
   "outputs": [
    {
     "data": {
      "text/plain": [
       "1509601347.585514"
      ]
     },
     "execution_count": 66,
     "metadata": {},
     "output_type": "execute_result"
    }
   ],
   "source": [
    "now.timestamp()"
   ]
  },
  {
   "cell_type": "code",
   "execution_count": 68,
   "metadata": {},
   "outputs": [
    {
     "data": {
      "text/plain": [
       "'2017/11/02 13:42:27'"
      ]
     },
     "execution_count": 68,
     "metadata": {},
     "output_type": "execute_result"
    }
   ],
   "source": [
    "now.strftime('%Y/%m/%d %H:%M:%S')"
   ]
  },
  {
   "cell_type": "code",
   "execution_count": 71,
   "metadata": {},
   "outputs": [
    {
     "data": {
      "text/plain": [
       "datetime.datetime(2017, 3, 12, 0, 0)"
      ]
     },
     "execution_count": 71,
     "metadata": {},
     "output_type": "execute_result"
    }
   ],
   "source": [
    "ds = \"March 12, 2017\"\n",
    "dt = datetime.datetime.strptime(ds, '%B %d, %Y')\n",
    "dt"
   ]
  },
  {
   "cell_type": "code",
   "execution_count": 72,
   "metadata": {},
   "outputs": [
    {
     "data": {
      "text/plain": [
       "1489248000.0"
      ]
     },
     "execution_count": 72,
     "metadata": {},
     "output_type": "execute_result"
    }
   ],
   "source": [
    "dt.timestamp()"
   ]
  },
  {
   "cell_type": "code",
   "execution_count": 73,
   "metadata": {},
   "outputs": [
    {
     "data": {
      "text/plain": [
       "'2017-03-12T00:00:00'"
      ]
     },
     "execution_count": 73,
     "metadata": {},
     "output_type": "execute_result"
    }
   ],
   "source": [
    "dt.isoformat()"
   ]
  },
  {
   "cell_type": "code",
   "execution_count": 112,
   "metadata": {},
   "outputs": [],
   "source": [
    "# from datetime import tzinfo, timedelta\n",
    "\n",
    "# class TPE(tzinfo):\n",
    "#     def utcoffset(self, dt): \n",
    "#         return timedelta(hours=8)\n",
    "#     def dst(self, dt): \n",
    "#         return timedelta()"
   ]
  },
  {
   "cell_type": "code",
   "execution_count": 110,
   "metadata": {},
   "outputs": [],
   "source": [
    "from datetime import timezone, timedelta\n",
    "\n",
    "# 定義台北時間的timezone object\n",
    "TPE = timezone(timedelta(hours=8))\n",
    "\n",
    "# 將台北時間的時區資訊插入datetime object\n",
    "dt = datetime.datetime.now().replace(tzinfo=TPE)"
   ]
  },
  {
   "cell_type": "code",
   "execution_count": 111,
   "metadata": {},
   "outputs": [
    {
     "data": {
      "text/plain": [
       "datetime.datetime(2017, 11, 2, 14, 31, 7, 673803, tzinfo=datetime.timezone(datetime.timedelta(0, 28800)))"
      ]
     },
     "execution_count": 111,
     "metadata": {},
     "output_type": "execute_result"
    }
   ],
   "source": [
    "# 發現多了tzinfo這個attr\n",
    "dt"
   ]
  },
  {
   "cell_type": "code",
   "execution_count": 143,
   "metadata": {},
   "outputs": [
    {
     "data": {
      "text/plain": [
       "'2017-11-02T14:58:40.399159+08:00'"
      ]
     },
     "execution_count": 143,
     "metadata": {},
     "output_type": "execute_result"
    }
   ],
   "source": [
    "datetime.datetime.now(tz=TPE).isoformat()"
   ]
  },
  {
   "cell_type": "code",
   "execution_count": 113,
   "metadata": {},
   "outputs": [
    {
     "name": "stdout",
     "output_type": "stream",
     "text": [
      "Requirement already satisfied: arrow in /Users/ian/.pyenv/versions/3.6.2/lib/python3.6/site-packages\r\n",
      "Requirement already satisfied: python-dateutil in /Users/ian/.pyenv/versions/3.6.2/lib/python3.6/site-packages (from arrow)\r\n",
      "Requirement already satisfied: six>=1.5 in /Users/ian/.pyenv/versions/3.6.2/lib/python3.6/site-packages (from python-dateutil->arrow)\r\n"
     ]
    }
   ],
   "source": [
    "!pip install arrow"
   ]
  },
  {
   "cell_type": "code",
   "execution_count": 92,
   "metadata": {},
   "outputs": [],
   "source": [
    "# 另外一個python處理時間的library\n",
    "# http://arrow.readthedocs.io/en/latest\n",
    "import arrow"
   ]
  },
  {
   "cell_type": "code",
   "execution_count": 93,
   "metadata": {},
   "outputs": [
    {
     "data": {
      "text/plain": [
       "<Arrow [2017-11-02T14:09:13.614240+08:00]>"
      ]
     },
     "execution_count": 93,
     "metadata": {},
     "output_type": "execute_result"
    }
   ],
   "source": [
    "arrow.now()"
   ]
  },
  {
   "cell_type": "code",
   "execution_count": 94,
   "metadata": {},
   "outputs": [
    {
     "data": {
      "text/plain": [
       "'2017-11-02T14:09:44.677987+08:00'"
      ]
     },
     "execution_count": 94,
     "metadata": {},
     "output_type": "execute_result"
    }
   ],
   "source": [
    "arrow.now().isoformat()"
   ]
  },
  {
   "cell_type": "code",
   "execution_count": 102,
   "metadata": {},
   "outputs": [
    {
     "data": {
      "text/plain": [
       "<Arrow [2017-11-02T14:22:18.218176+00:00]>"
      ]
     },
     "execution_count": 102,
     "metadata": {},
     "output_type": "execute_result"
    }
   ],
   "source": [
    "arrow.now().replace(tzinfo='UTC')"
   ]
  },
  {
   "cell_type": "code",
   "execution_count": 19,
   "metadata": {},
   "outputs": [],
   "source": [
    "# Serializing\n",
    "# 關於JSON\n",
    "# http://www.json.org\n",
    "import json"
   ]
  },
  {
   "cell_type": "code",
   "execution_count": 118,
   "metadata": {
    "scrolled": true
   },
   "outputs": [
    {
     "name": "stdout",
     "output_type": "stream",
     "text": [
      "{\"name\": \"Ian\"}\n",
      "<class 'str'>\n"
     ]
    }
   ],
   "source": [
    "# json.dumps()\n",
    "# 將python dict物件轉換為JSON格式的字串\n",
    "ian = {\n",
    "    'name': 'Ian'\n",
    "}\n",
    "\n",
    "\n",
    "print(json.dumps(ian))\n",
    "print(type(json.dumps(ian)))"
   ]
  },
  {
   "cell_type": "code",
   "execution_count": 119,
   "metadata": {},
   "outputs": [
    {
     "name": "stdout",
     "output_type": "stream",
     "text": [
      "{'name': 'Ian'}\n",
      "<class 'dict'>\n"
     ]
    }
   ],
   "source": [
    "# 將JSON格式的字串讀入python，轉換為dict格式\n",
    "ian_str = '{\"name\": \"Ian\"}'\n",
    "\n",
    "print(json.loads(ian_str))\n",
    "print(type(json.loads(ian_str)))"
   ]
  },
  {
   "cell_type": "code",
   "execution_count": 122,
   "metadata": {},
   "outputs": [],
   "source": [
    "mycoolfile = open('cool.json', 'w')"
   ]
  },
  {
   "cell_type": "code",
   "execution_count": 123,
   "metadata": {},
   "outputs": [],
   "source": [
    "json.dump(\"ian\", mycoolfile)"
   ]
  },
  {
   "cell_type": "code",
   "execution_count": 125,
   "metadata": {},
   "outputs": [],
   "source": [
    "mycoolfile.close()"
   ]
  },
  {
   "cell_type": "code",
   "execution_count": 126,
   "metadata": {},
   "outputs": [
    {
     "name": "stdout",
     "output_type": "stream",
     "text": [
      "\"ian\""
     ]
    }
   ],
   "source": [
    "!cat cool.json"
   ]
  },
  {
   "cell_type": "code",
   "execution_count": 30,
   "metadata": {},
   "outputs": [
    {
     "data": {
      "text/plain": [
       "'2'"
      ]
     },
     "execution_count": 30,
     "metadata": {},
     "output_type": "execute_result"
    }
   ],
   "source": [
    "json.dumps(2)"
   ]
  },
  {
   "cell_type": "code",
   "execution_count": 33,
   "metadata": {},
   "outputs": [
    {
     "data": {
      "text/plain": [
       "'[\"2\", 2]'"
      ]
     },
     "execution_count": 33,
     "metadata": {},
     "output_type": "execute_result"
    }
   ],
   "source": [
    "json.dumps(['2',2])"
   ]
  },
  {
   "cell_type": "code",
   "execution_count": 127,
   "metadata": {},
   "outputs": [],
   "source": [
    "# String Encoding"
   ]
  },
  {
   "cell_type": "code",
   "execution_count": 35,
   "metadata": {},
   "outputs": [
    {
     "data": {
      "text/plain": [
       "b'\\xa7A\\xa6n'"
      ]
     },
     "execution_count": 35,
     "metadata": {},
     "output_type": "execute_result"
    }
   ],
   "source": [
    "'你好'.encode('big5')"
   ]
  },
  {
   "cell_type": "code",
   "execution_count": 36,
   "metadata": {},
   "outputs": [
    {
     "data": {
      "text/plain": [
       "b'\\xe4\\xbd\\xa0\\xe5\\xa5\\xbd'"
      ]
     },
     "execution_count": 36,
     "metadata": {},
     "output_type": "execute_result"
    }
   ],
   "source": [
    "'你好'.encode('utf8')"
   ]
  },
  {
   "cell_type": "code",
   "execution_count": 136,
   "metadata": {},
   "outputs": [
    {
     "data": {
      "text/plain": [
       "'你好'"
      ]
     },
     "execution_count": 136,
     "metadata": {},
     "output_type": "execute_result"
    }
   ],
   "source": [
    "b'\\xe4\\xbd\\xa0\\xe5\\xa5\\xbd'.decode('utf-8')"
   ]
  },
  {
   "cell_type": "code",
   "execution_count": 128,
   "metadata": {},
   "outputs": [],
   "source": [
    "import requests as r\n",
    "res = r.get(\"http://cce.ee.ncku.edu.tw\")"
   ]
  },
  {
   "cell_type": "code",
   "execution_count": 129,
   "metadata": {},
   "outputs": [
    {
     "data": {
      "text/plain": [
       "{'Date': 'Thu, 02 Nov 2017 06:46:09 GMT', 'Server': 'Apache', 'X-Powered-By': 'PHP/5.5.9-1ubuntu4.19', 'Vary': 'Accept-Encoding', 'Content-Encoding': 'gzip', 'Content-Length': '4503', 'Keep-Alive': 'timeout=5, max=100', 'Connection': 'Keep-Alive', 'Content-Type': 'text/html'}"
      ]
     },
     "execution_count": 129,
     "metadata": {},
     "output_type": "execute_result"
    }
   ],
   "source": [
    "res.headers"
   ]
  },
  {
   "cell_type": "code",
   "execution_count": 132,
   "metadata": {},
   "outputs": [
    {
     "data": {
      "text/plain": [
       "b'<!DOCTYPE html PUBLIC \"-//W3C//DTD XHTML 1.0 Strict//EN\" \"http://www.w3.org/TR/xhtml1/DTD/xhtml1-strict.dtd\">\\r\\n\\r\\n<html xmlns=\"http://www.w3.org/1999/xhtml\">\\r\\n<head>\\r\\n<meta http-equiv=\"Content-Type\" content=\"text/html; charset=utf-8\" />\\r\\n<title>\\xe5\\x9c\\x8b\\xe7\\xab\\x8b\\xe6\\x88\\x90\\xe5\\x8a\\x9f\\xe5\\xa4\\xa7\\xe5\\xad\\xb8 \\xe9\\x9b\\xbb\\xe8\\x85\\xa6\\xe8\\x88\\x87\\xe9\\x80\\x9a\\xe4\\xbf\\xa1\\xe5\\xb7\\xa5\\xe7\\xa8\\x8b\\xe7\\xa0\\x94\\xe7\\xa9\\xb6\\xe6\\x89\\x80</title>\\r\\n<meta name=\"keywords\" content=\"\" />\\r\\n<meta name=\"description\" content=\"\" />\\r\\n<link href=\"http://fonts.googleapis.com/css?family=Open+Sans:400,300,600,700|Archivo+Narrow:400,700\" rel=\"stylesheet\" type=\"text/css\">\\r\\n<link href=\"default.css\" rel=\"stylesheet\" type=\"text/css\" media=\"all\" />\\r\\n<link rel=\"shortcut icon\" href=\"images/logo.ico\" />\\r\\n\\r\\n<!-- add jQuery-->\\r\\n<script src=\"https://ajax.googleapis.com/ajax/libs/jquery/1.11.3/jquery.min.js\"></script>\\r\\n<link rel=\"stylesheet\" href=\"https://ajax.googleapis.com/ajax/libs/jqueryui/1.11.4/themes/smoothness/jquery-ui.css\">\\r\\n<script src=\"https://ajax.googleapis.com/ajax/libs/jqueryui/1.11.4/jquery-ui.min.js\"></script>\\r\\n\\r\\n<!-- add my CSS-->\\r\\n<link href=\"add.css\" rel=\"stylesheet\"/>\\r\\n\\r\\n<!-- add my JS-->\\r\\n<script src=\"add.js\"></script>\\r\\n<script src=\"index.js\"></script>\\r\\n\\r\\n<!--[if IE 6]>\\r\\n<link href=\"default_ie6.css\" rel=\"stylesheet\" type=\"text/css\" />\\r\\n<![endif]-->\\r\\n</head>\\r\\n<body>\\r\\n\\r\\n\\r\\n\\r\\n<div id=\"header-wrapper\">\\r\\n\\t<div id=\"banner-img\">\\r\\n\\t\\t<div id=\"banner-font\" onclick=\"window.location=\\'index.php\\';\"></div>\\r\\n\\t\\t<div id=\"banner-subtitle\">\\r\\n\\t\\t\\t<div id=\"banner-subtitle-menu\">\\r\\n\\t\\t\\t\\t<ul>\\r\\n\\t\\t\\t\\t\\t<li><a class=\"1\" accesskey=\"1\" title=\"\" href=\"index.php\">\\xe5\\x9b\\x9e\\xe9\\xa6\\x96\\xe9\\xa0\\x81</a></li>\\r\\n\\t\\t\\t\\t\\t<li class=\"xx\">|</li>\\r\\n\\t\\t\\t\\t\\t<li><a class=\"2\" accesskey=\"2\" title=\"\" href=\"http://office.ee.ncku.edu.tw/nckuime/\">\\xe8\\x88\\x8a\\xe7\\xb3\\xbb\\xe7\\xb6\\xb2</a></li>\\r\\n\\t\\t\\t\\t\\t<li class=\"xx\">|</li>\\r\\n\\t\\t\\t\\t\\t<li><a class=\"3\" accesskey=\"3\" title=\"\" href=\"mailto:mltung@mail.ncku.edu.tw\">\\xe8\\x81\\xaf\\xe7\\xb5\\xa1\\xe6\\x88\\x91\\xe5\\x80\\x91</a></li>\\r\\n\\t\\t\\t\\t\\t<li class=\"xx\">|</li>\\r\\n\\t\\t\\t\\t\\t<li><a class=\"4\" accesskey=\"4\" title=\"\" href=\"http://www.ee.ncku.edu.tw/sql_func/\">\\xe7\\x99\\xbb\\xe5\\x85\\xa5</a></li>\\r\\n\\t\\t\\t\\t\\t<li class=\"xx\">|</li>\\r\\n\\t\\t\\t\\t\\t<li><a class=\"5\" accesskey=\"5\" title=\"\" href=\"index_en.php\">English</a></li>\\r\\n\\t\\t\\t\\t</ul>\\r\\n\\t\\t\\t</div>\\r\\n\\t\\t\\t<input type=\"search\" id=\"search\" placeholder=\"Search...\" />\\r\\n\\t\\t</div>\\r\\n\\t</div>\\r\\n\\t\\r\\n\\t<div id=\"menu\">\\r\\n\\t\\t<center>\\r\\n\\t\\t\\t<ul>\\r\\n\\t\\t\\t\\t<li><a class=\"1\" accesskey=\"1\" title=\"\" href=\"news.php\">\\xe6\\x9c\\x80\\xe6\\x96\\xb0\\xe6\\xb6\\x88\\xe6\\x81\\xaf</a></li>\\r\\n\\t\\t\\t\\t<li><a class=\"2\" accesskey=\"2\" title=\"\" href=\"info.html\">\\xe7\\xb3\\xbb\\xe6\\x89\\x80\\xe7\\xb0\\xa1\\xe4\\xbb\\x8b</a></li>\\r\\n\\t\\t\\t\\t<li><a class=\"3\" accesskey=\"3\" title=\"\" href=\"research.php\">\\xe7\\xa0\\x94\\xe7\\xa9\\xb6\\xe9\\xa0\\x98\\xe5\\x9f\\x9f</a></li>\\r\\n\\t\\t\\t\\t<li><a class=\"4\" accesskey=\"4\" title=\"\" href=\"people.php\">\\xe6\\x88\\x90\\xe5\\x93\\xa1\\xe4\\xbb\\x8b\\xe7\\xb4\\xb9</a></li>\\r\\n\\t\\t\\t\\t<li><a class=\"5\" accesskey=\"5\" title=\"\" href=\"student.php\">\\xe5\\xad\\xb8\\xe7\\x94\\x9f\\xe5\\xb0\\x88\\xe5\\x8d\\x80</a></li>\\r\\n\\t\\t\\t\\t<li><a class=\"6\" accesskey=\"6\" title=\"\" href=\"#\">\\xe7\\x9b\\xb8\\xe9\\x97\\x9c\\xe9\\x80\\xa3\\xe7\\xb5\\x90</a></li>\\r\\n\\t\\t\\t</ul>\\r\\n\\t\\t</center>\\t\\t\\r\\n\\t</div>\\r\\n</div>\\r\\n\\r\\n<div id=\"banner-wrapper\">\\r\\n\\t\\r\\n\\t<div class=\"front\" id=\"1\">\\r\\n\\t\\t<div class=\"sub\" onclick=\\'location.href=\"news.php?1\"\\'>\\xe5\\x85\\xa8\\xe9\\x83\\xa8\\xe8\\xb3\\x87\\xe8\\xa8\\x8a</div>\\r\\n\\t\\t<div class=\"sub\" onclick=\\'location.href=\"news.php?2\"\\'>\\xe4\\xb8\\x80\\xe8\\x88\\xac\\xe8\\xb3\\x87\\xe8\\xa8\\x8a</div>\\r\\n\\t\\t<div class=\"sub\" onclick=\\'location.href=\"news.php?3\"\\'>\\xe6\\x8b\\x9b\\xe7\\x94\\x9f\\xe8\\xb3\\x87\\xe8\\xa8\\x8a</div>\\r\\n\\t\\t<div class=\"sub\" onclick=\\'location.href=\"news.php?4\"\\'>\\xe6\\xbc\\x94\\xe8\\xac\\x9b\\xe8\\xb3\\x87\\xe8\\xa8\\x8a</div>\\r\\n\\t\\t<div class=\"sub\" onclick=\\'location.href=\"news.php?5\"\\'>\\xe7\\x8d\\xb2\\xe7\\x8d\\x8e\\xe8\\xb3\\x87\\xe8\\xa8\\x8a</div>\\r\\n\\t\\t<div class=\"sub\" onclick=\\'location.href=\"news.php?6\"\\'>\\xe7\\x8d\\x8e\\xe5\\x8a\\xa9\\xe5\\xad\\xb8\\xe9\\x87\\x91</div>\\r\\n\\t\\t<div class=\"sub\" onclick=\\'location.href=\"news.php?7\"\\'>\\xe5\\xbe\\xb5\\xe6\\x89\\x8d\\xe8\\xb3\\x87\\xe8\\xa8\\x8a</div>\\r\\n\\t</div>\\r\\n\\t\\r\\n\\t<!--\\r\\n\\t<div class=\"front\" id=\"2\">\\r\\n\\t\\t<div class=\"sub\">\\xe7\\xb3\\xbb\\xe6\\x89\\x80\\xe4\\xbb\\x8b\\xe7\\xb4\\xb9</div>\\r\\n\\t\\t<div class=\"sub\">\\xe7\\xb3\\xbb\\xe5\\x8f\\xb2\\xe5\\xb9\\xb4\\xe9\\x91\\x91</div>\\r\\n\\t\\t<div class=\"sub\">\\xe6\\xb3\\x95\\xe8\\xa6\\x8f\\xe5\\xbd\\x99\\xe6\\x95\\xb4</div>\\r\\n\\t\\t<div class=\"sub\">\\xe4\\xba\\xa4\\xe9\\x80\\x9a\\xe8\\xb3\\x87\\xe8\\xa8\\x8a</div>\\r\\n\\t</div>\\r\\n\\t-->\\r\\n\\t<div class=\"front\" id=\"2\">\\r\\n\\t\\t<div class=\"sub\" onclick=\\'location.href=\"info.html?1\"\\'>\\xe6\\x9c\\xac\\xe6\\x89\\x80\\xe4\\xbb\\x8b\\xe7\\xb4\\xb9</div>\\r\\n\\t\\t<div class=\"sub\" onclick=\\'location.href=\"info.html?2\"\\'>\\xe6\\x9c\\xac\\xe6\\x89\\x80\\xe6\\x9e\\xb6\\xe6\\xa7\\x8b</div>\\r\\n\\t\\t<div class=\"sub\" onclick=\\'location.href=\"info.html?3\"\\'>\\xe6\\x95\\x99\\xe8\\x82\\xb2\\xe7\\x9b\\xae\\xe6\\xa8\\x99</div>\\r\\n\\t\\t<div class=\"sub\" onclick=\\'location.href=\"info.html?4\"\\'>\\xe5\\xad\\xb8\\xe7\\x94\\x9f\\xe6\\xa0\\xb8\\xe5\\xbf\\x83\\xe8\\x83\\xbd\\xe5\\x8a\\x9b\\xe5\\x9f\\xb9\\xe9\\xa4\\x8a</div>\\r\\n\\t</div>\\r\\n\\t\\r\\n\\t\\r\\n\\t<div class=\"front\" id=\"3\">\\r\\n\\t\\t<div class=\"sub\" onclick=\\'location.href=\"research.php?1\"\\'>\\xe7\\xa0\\x94\\xe7\\xa9\\xb6\\xe7\\xb5\\x84\\xe5\\x88\\xa5</div>\\r\\n\\t\\t<div class=\"sub\" onclick=\\'location.href=\"research.php?2\"\\'>\\xe7\\xa0\\x94\\xe7\\xa9\\xb6\\xe4\\xb8\\xbb\\xe9\\xa1\\x8c</div>\\r\\n\\t</div>\\r\\n\\r\\n\\t<div class=\"front\"  id=\"4\">\\r\\n\\t\\t<div class=\"sub\" onclick=\\'location.href=\"people.php?1\"\\'>\\xe5\\xb8\\xab\\xe8\\xb3\\x87\\xe9\\x99\\xa3\\xe5\\xae\\xb9</div>\\r\\n\\t\\t<div class=\"sub\" onclick=\\'location.href=\"people.php?2\"\\'>\\xe7\\xb3\\xbb\\xe8\\xbe\\xa6\\xe6\\x88\\x90\\xe5\\x93\\xa1</div>\\r\\n\\t</div>\\r\\n\\r\\n\\t<div class=\"front\"  id=\"5\">\\r\\n\\t\\t<div class=\"sub\" onclick=\\'location.href=\"student.php?1\"\\'>\\xe8\\xaa\\xb2\\xe7\\xa8\\x8b\\xe4\\xbb\\x8b\\xe7\\xb4\\xb9</div>\\r\\n\\t\\t<div class=\"sub\" onclick=\\'location.href=\"student.php?2\"\\'>\\xe8\\xa6\\x8f\\xe7\\xab\\xa0\\xe8\\xa1\\xa8\\xe6\\xa0\\xbc</div>\\r\\n\\t</div>\\r\\n\\r\\n\\t\\r\\n\\t<div class=\"front\"  id=\"6\">\\r\\n\\t\\t<div class=\"sub\" onclick=\"window.open(\\'http://web.ncku.edu.tw/bin/home.php\\');\">\\xe6\\x88\\x90\\xe5\\x8a\\x9f\\xe5\\xa4\\xa7\\xe5\\xad\\xb8</div>\\r\\n\\t\\t<div class=\"sub\" onclick=\"window.open(\\'http://www.eecs.ncku.edu.tw/bin/home.php\\');\">\\xe9\\x9b\\xbb\\xe8\\xb3\\x87\\xe5\\xad\\xb8\\xe9\\x99\\xa2</div>\\r\\n\\t\\t<div class=\"sub\" onclick=\"window.open(\\'http://www.ee.ncku.edu.tw/\\');\">\\xe9\\x9b\\xbb\\xe6\\xa9\\x9f\\xe5\\xb7\\xa5\\xe7\\xa8\\x8b\\xe5\\xad\\xb8\\xe7\\xb3\\xbb</div>\\r\\n\\t\\t<div class=\"sub\" onclick=\"window.open(\\'http://ime.ee.ncku.edu.tw/\\');\">\\xe5\\xbe\\xae\\xe9\\x9b\\xbb\\xe5\\xad\\x90\\xe5\\xb7\\xa5\\xe7\\xa8\\x8b\\xe7\\xa0\\x94\\xe7\\xa9\\xb6\\xe6\\x89\\x80</div>\\r\\n\\t</div>\\r\\n\\r\\n\\t<div class=\"hr\">\\r\\n\\t</div>\\r\\n\\t\\r\\n</div>\\r\\n\\r\\n\\r\\n\\r\\n<div id=\"page\" class=\"container\">\\r\\n\\t\\r\\n\\t<div id=\"content\">\\r\\n\\t\\r\\n\\t<div id =\\'show\\'></div><div class=\\'1 show\\'><div class=\\'post\\'><table style=\\'width:100%\\'><colgroup><col width=\\'15%\\'><col width=\\'15%\\'><col width=\\'70%\\'></colgroup><tr><th>\\xe5\\x85\\xac\\xe5\\x91\\x8a\\xe6\\x97\\xa5\\xe6\\x9c\\x9f</th><th>\\xe5\\x85\\xac\\xe5\\x91\\x8a\\xe5\\xb0\\x8d\\xe8\\xb1\\xa1</th><th>\\xe5\\x85\\xac\\xe5\\x91\\x8a\\xe6\\xa8\\x99\\xe9\\xa1\\x8c</th></tr><tr><td>2017-11-02</td><td>\\xe7\\xa2\\xa9\\xe5\\xa3\\xab\\xe7\\x8f\\xad</td><td style=\\'cursor:pointer\\' onclick=\\'load_announce(924)\\'><a href=\\'#\\'>107\\xe5\\xad\\xb8\\xe5\\xb9\\xb4\\xe5\\xba\\xa6\\xe9\\x9b\\xbb\\xe6\\xa9\\x9f\\xe7\\xb3\\xbb\\xe6\\x89\\x80(\\xe5\\x90\\xab\\xe9\\x9b\\xbb\\xe6\\xa9\\x9f\\xe3\\x80\\x81\\xe5\\xbe\\xae\\xe9\\x9b\\xbb\\xe5\\xad\\x90\\xe3\\x80\\x81\\xe9\\x9b\\xbb\\xe9\\x80\\x9a\\xe3\\x80\\x81\\xe5\\xa5\\x88\\xe7\\xb1\\xb3)\\xe7\\xa2\\xa9\\xe5\\xa3\\xab\\xe7\\x8f\\xad\\xe7\\x94\\x84\\xe8\\xa9\\xa6\\xe9\\x9d\\xa2\\xe8\\xa9\\xa6\\xe5\\x85\\xac\\xe5\\x91\\x8a(\\xe7\\xa2\\xba\\xe5\\xae\\x9a\\xe7\\x89\\x88)</a></td></tr><tr><td>2017-11-01</td><td>\\xe5\\x85\\xa8\\xe9\\x83\\xa8</td><td style=\\'cursor:pointer\\' onclick=\\'load_announce(919)\\'><a href=\\'#\\'>\\xe8\\xaa\\xa0\\xe6\\x91\\xaf\\xe9\\x82\\x80\\xe8\\xab\\x8b11/15(\\xe4\\xb8\\x89) TSIA 2017 \\xe5\\xb9\\xb4\\xe6\\x9c\\x83 (\\xe5\\xb8\\xad\\xe6\\xac\\xa1\\xe6\\x9c\\x89\\xe9\\x99\\x90\\xef\\xbc\\x8c\\xe8\\xab\\x8b\\xe5\\x84\\x98\\xe6\\x97\\xa9\\xe7\\xb7\\x9a\\xe4\\xb8\\x8a\\xe5\\xa0\\xb1\\xe5\\x90\\x8d)</a></td></tr><tr><td>2017-11-01</td><td>\\xe5\\xa4\\xa7\\xe5\\xad\\xb8\\xe9\\x83\\xa8</td><td style=\\'cursor:pointer\\' onclick=\\'load_announce(920)\\'><a href=\\'#\\'>106\\xe5\\xad\\xb8\\xe5\\xb9\\xb4\\xe4\\xba\\x9e\\xe5\\xbe\\xb7\\xe5\\xae\\xa2\\xe6\\x9c\\x89\\xe7\\xbe\\x8e\\xe7\\x8d\\x8e\\xe5\\x8a\\xa9\\xe5\\xad\\xb8\\xe9\\x87\\x91\\xe9\\x81\\x9e\\xe8\\xa3\\x9c\\xe5\\x85\\xac\\xe5\\x91\\x8a\\xef\\xbc\\x8c\\xe6\\xad\\xa1\\xe8\\xbf\\x8e\\xe5\\xa4\\xa7\\xe5\\xad\\xb8\\xe9\\x83\\xa8\\xe5\\x90\\x8c\\xe5\\xad\\xb8\\xe7\\x94\\xb3\\xe8\\xab\\x8b</a></td></tr><tr><td>2017-11-01</td><td>\\xe5\\x85\\xa8\\xe9\\x83\\xa8</td><td style=\\'cursor:pointer\\' onclick=\\'load_announce(921)\\'><a href=\\'#\\'>[\\xe6\\xbc\\x94\\xe8\\xac\\x9b\\xe5\\x85\\xac\\xe5\\x91\\x8a]11/13 (\\xe4\\xb8\\x80) 18:00~20:00\\xe6\\xb4\\xaa\\xe5\\xb1\\x85\\xe8\\x90\\xac\\xe5\\x9f\\xb7\\xe8\\xa1\\x8c\\xe9\\x95\\xb7\\xe5\\xb0\\x88\\xe9\\xa1\\x8c\\xe6\\xbc\\x94\\xe8\\xac\\x9b</a></td></tr><tr><td>2017-11-01</td><td>\\xe5\\x85\\xa8\\xe9\\x83\\xa8</td><td style=\\'cursor:pointer\\' onclick=\\'load_announce(922)\\'><a href=\\'#\\'>[\\xe6\\xbc\\x94\\xe8\\xac\\x9b\\xe5\\x85\\xac\\xe5\\x91\\x8a]11/08 (\\xe4\\xb8\\x89) 14:00~16:00 Ir. Dr. Philip W. T. Pong\\xe5\\xb0\\x88\\xe9\\xa1\\x8c\\xe6\\xbc\\x94\\xe8\\xac\\x9b</a></td></tr><tr><td>2017-11-01</td><td>\\xe5\\xa4\\xa7\\xe5\\xad\\xb8\\xe9\\x83\\xa8</td><td style=\\'cursor:pointer\\' onclick=\\'load_announce(923)\\'><a href=\\'#\\'>\\xe9\\xbc\\x93\\xe5\\x8b\\xb5\\xe5\\x84\\xaa\\xe7\\xa7\\x80\\xe5\\xa4\\xa7\\xe5\\xb0\\x88\\xe5\\xad\\xb8\\xe7\\x94\\x9f\\xe5\\xb0\\xb1\\xe8\\xae\\x80\\xe6\\x88\\x90\\xe5\\x8a\\x9f\\xe5\\xa4\\xa7\\xe5\\xad\\xb8\\xe9\\x9b\\xbb\\xe6\\xa9\\x9f\\xe7\\xb3\\xbb\\xe7\\xa0\\x94\\xe7\\xa9\\xb6\\xe6\\x89\\x80\\xe7\\xa2\\xa9\\xe5\\xa3\\xab\\xe7\\x8f\\xad\\xef\\xbc\\x8c\\xe5\\xb7\\xb2\\xe9\\x96\\x8b\\xe5\\xa7\\x8b\\xe7\\x94\\xb3\\xe8\\xab\\x8b\\xef\\xbc\\x8c\\xe6\\x96\\xbc11/20\\xe6\\x88\\xaa\\xe6\\xad\\xa2\\xe6\\x94\\xb6\\xe4\\xbb\\xb6\\xe3\\x80\\x82</a></td></tr><tr><td>2017-10-31</td><td>\\xe7\\xa2\\xa9\\xe5\\xa3\\xab\\xe7\\x8f\\xad</td><td style=\\'cursor:pointer\\' onclick=\\'load_announce(917)\\'><a href=\\'#\\'>107\\xe5\\xad\\xb8\\xe5\\xb9\\xb4\\xe5\\xba\\xa6\\xe9\\x9b\\xbb\\xe6\\xa9\\x9f\\xe7\\xb3\\xbb\\xe6\\x89\\x80(\\xe5\\x90\\xab\\xe9\\x9b\\xbb\\xe6\\xa9\\x9f\\xe6\\x89\\x80\\xe3\\x80\\x81\\xe5\\xbe\\xae\\xe9\\x9b\\xbb\\xe5\\xad\\x90\\xe6\\x89\\x80\\xe3\\x80\\x81\\xe9\\x9b\\xbb\\xe9\\x80\\x9a\\xe6\\x89\\x80\\xe3\\x80\\x81\\xe5\\xa5\\x88\\xe7\\xb1\\xb3\\xe5\\xad\\xb8\\xe7\\xa8\\x8b)\\xe7\\xa2\\xa9\\xe5\\xa3\\xab\\xe7\\x8f\\xad\\xe7\\x94\\x84\\xe8\\xa9\\xa6\\xe9\\x9d\\xa2\\xe8\\xa9\\xa6\\xe7\\xac\\xac\\xe4\\xba\\x8c\\xe7\\x89\\x88\\xe5\\x85\\xac\\xe5\\x91\\x8a</a></td></tr><tr><td>2017-10-31</td><td>\\xe5\\x85\\xa8\\xe9\\x83\\xa8</td><td style=\\'cursor:pointer\\' onclick=\\'load_announce(918)\\'><a href=\\'#\\'>106\\xe5\\xad\\xb8\\xe5\\xb9\\xb4\\xe5\\xba\\xa6\\xe6\\x96\\xb0\\xe7\\x94\\x9f\\xe7\\x9b\\x83\\xe6\\x9a\\xa8\\xe7\\xb3\\xbb\\xe9\\x9a\\x9b\\xe7\\x9b\\x83\\xe7\\x94\\xb0\\xe5\\xbe\\x91\\xe8\\xb3\\xbd\\xe7\\x8d\\xb2\\xe7\\x8d\\x8e\\xe5\\x90\\x8d\\xe5\\x96\\xae</a></td></tr></table></div></div><div class=\\'2\\'><div class=\\'post\\'><table style=\\'width:100%\\'><colgroup><col width=\\'15%\\'><col width=\\'15%\\'><col width=\\'70%\\'></colgroup><tr><th>\\xe5\\x85\\xac\\xe5\\x91\\x8a\\xe6\\x97\\xa5\\xe6\\x9c\\x9f</th><th>\\xe5\\x85\\xac\\xe5\\x91\\x8a\\xe5\\xb0\\x8d\\xe8\\xb1\\xa1</th><th>\\xe5\\x85\\xac\\xe5\\x91\\x8a\\xe6\\xa8\\x99\\xe9\\xa1\\x8c</th></tr><tr><td>2017-11-01</td><td>\\xe5\\x85\\xa8\\xe9\\x83\\xa8</td><td style=\\'cursor:pointer\\' onclick=\\'load_announce(919)\\'><a href=\\'#\\'>\\xe8\\xaa\\xa0\\xe6\\x91\\xaf\\xe9\\x82\\x80\\xe8\\xab\\x8b11/15(\\xe4\\xb8\\x89) TSIA 2017 \\xe5\\xb9\\xb4\\xe6\\x9c\\x83 (\\xe5\\xb8\\xad\\xe6\\xac\\xa1\\xe6\\x9c\\x89\\xe9\\x99\\x90\\xef\\xbc\\x8c\\xe8\\xab\\x8b\\xe5\\x84\\x98\\xe6\\x97\\xa9\\xe7\\xb7\\x9a\\xe4\\xb8\\x8a\\xe5\\xa0\\xb1\\xe5\\x90\\x8d)</a></td></tr><tr><td>2017-10-26</td><td>\\xe5\\xa4\\xa7\\xe5\\xad\\xb8\\xe9\\x83\\xa8</td><td style=\\'cursor:pointer\\' onclick=\\'load_announce(911)\\'><a href=\\'#\\'>2018\\xe7\\xa7\\x8b\\xe5\\xad\\xa3\\xe7\\x8f\\xad(107\\xe5\\xb9\\xb4\\xe4\\xb8\\x8a\\xe5\\xad\\xb8\\xe6\\x9c\\x9f)\\xe7\\xb3\\xbb\\xe7\\xb4\\x9a\\xe4\\xba\\xa4\\xe6\\x8f\\x9b\\xe7\\x94\\x9f\\xe7\\x94\\xb3\\xe8\\xab\\x8b\\xe5\\x85\\xac\\xe5\\x91\\x8a_11/20\\xe5\\x89\\x8d\\xe6\\x88\\xaa\\xe6\\xad\\xa2\\xe7\\x94\\xb3\\xe8\\xab\\x8b</a></td></tr><tr><td>2017-10-26</td><td>\\xe5\\x85\\xa8\\xe9\\x83\\xa8</td><td style=\\'cursor:pointer\\' onclick=\\'load_announce(912)\\'><a href=\\'#\\'>11/1(\\xe4\\xb8\\x89)\\xe9\\x9b\\xbb\\xe6\\xa9\\x9f\\xe7\\xb3\\xbb\\xe7\\x84\\xa1\\xe7\\xb7\\x9a\\xe7\\xb6\\xb2\\xe8\\xb7\\xaf\\xe9\\x80\\xb2\\xe8\\xa1\\x8c\\xe9\\x9f\\x8c\\xe9\\xab\\x94\\xe6\\x9b\\xb4\\xe6\\x96\\xb0</a></td></tr><tr><td>2017-10-24</td><td>\\xe5\\xa4\\xa7\\xe5\\xad\\xb8\\xe9\\x83\\xa8</td><td style=\\'cursor:pointer\\' onclick=\\'load_announce(908)\\'><a href=\\'#\\'>[\\xe8\\xbd\\x89\\xe7\\x99\\xbc]\\xe4\\xb8\\x8a\\xe9\\x8a\\x80\\xe7\\xa7\\x91\\xe6\\x8a\\x80\\xe6\\x95\\x99\\xe8\\x82\\xb2\\xe5\\x9f\\xba\\xe9\\x87\\x91\\xe6\\x9c\\x83\\xe3\\x80\\x8c2018 JIMTOF\\xe5\\xa4\\xa7\\xe5\\xad\\xb8\\xe7\\x94\\x9f\\xe8\\xa6\\x8b\\xe5\\xad\\xb8\\xe5\\x9c\\x98\\xe3\\x80\\x8d\\xe5\\xbe\\xb5\\xe9\\x81\\xb8\\xe6\\xb4\\xbb\\xe5\\x8b\\x95\\xe8\\xb5\\xb7\\xe8\\xb7\\x91</a></td></tr><tr><td>2017-10-23</td><td>\\xe5\\xa4\\xa7\\xe5\\xad\\xb8\\xe9\\x83\\xa8</td><td style=\\'cursor:pointer\\' onclick=\\'load_announce(891)\\'><a href=\\'#\\'>106\\xe5\\xad\\xb8\\xe5\\xb9\\xb4\\xe7\\x95\\xa2\\xe6\\xa5\\xad\\xe5\\xb0\\x88\\xe9\\xa1\\x8c\\xe7\\xab\\xb6\\xe8\\xb3\\xbd\\xe5\\x8f\\x8a\\xe6\\x88\\x90\\xe6\\x9e\\x9c\\xe5\\xb1\\x95\\xe9\\xa0\\x88\\xe7\\x9f\\xa5</a></td></tr><tr><td>2017-10-23</td><td>\\xe5\\x85\\xa8\\xe9\\x83\\xa8</td><td style=\\'cursor:pointer\\' onclick=\\'load_announce(894)\\'><a href=\\'#\\'>106\\xe5\\xb9\\xb4\\xe5\\xba\\xa6\\xe7\\xb3\\xbb\\xe5\\x8f\\x8b\\xe5\\xa4\\xa7\\xe6\\x9c\\x83\\xe9\\xab\\x98\\xe9\\x90\\xb5\\xe5\\xb0\\x88\\xe8\\xbb\\x8a\\xe5\\xae\\x89\\xe6\\x8e\\x92</a></td></tr><tr><td>2017-10-17</td><td>\\xe5\\x85\\xa8\\xe9\\x83\\xa8</td><td style=\\'cursor:pointer\\' onclick=\\'load_announce(887)\\'><a href=\\'#\\'>\\xe8\\xb2\\xa1\\xe5\\x9c\\x98\\xe6\\xb3\\x95\\xe4\\xba\\xba\\xe6\\x88\\x90\\xe9\\x9b\\xbb\\xe6\\x96\\x87\\xe6\\x95\\x99\\xe5\\x9f\\xba\\xe9\\x87\\x91\\xe6\\x9c\\x83-\\xe5\\x90\\x84\\xe7\\xb3\\xbb\\xe5\\x8f\\x8b\\xe7\\x8d\\x8e\\xe5\\xad\\xb8\\xe9\\x87\\x91\\xe7\\x8d\\xb2\\xe7\\x8d\\x8e\\xe5\\x85\\xac\\xe5\\x91\\x8a</a></td></tr><tr><td>2017-10-17</td><td>\\xe5\\x85\\xa8\\xe9\\x83\\xa8</td><td style=\\'cursor:pointer\\' onclick=\\'load_announce(888)\\'><a href=\\'#\\'>\\xe8\\xb2\\xa1\\xe5\\x9c\\x98\\xe6\\xb3\\x95\\xe4\\xba\\xba\\xe6\\x88\\x90\\xe9\\x9b\\xbb\\xe6\\x96\\x87\\xe6\\x95\\x99\\xe5\\x9f\\xba\\xe9\\x87\\x91\\xe6\\x9c\\x83-\\xe9\\x87\\x91\\xe7\\x8e\\x89\\xe7\\x8d\\x8e\\xe5\\xad\\xb8\\xe9\\x87\\x91\\xe5\\x85\\xac\\xe5\\x91\\x8a</a></td></tr></table></div></div><div class=\\'3\\'><div class=\\'post\\'><table style=\\'width:100%\\'><colgroup><col width=\\'15%\\'><col width=\\'15%\\'><col width=\\'70%\\'></colgroup><tr><th>\\xe5\\x85\\xac\\xe5\\x91\\x8a\\xe6\\x97\\xa5\\xe6\\x9c\\x9f</th><th>\\xe5\\x85\\xac\\xe5\\x91\\x8a\\xe5\\xb0\\x8d\\xe8\\xb1\\xa1</th><th>\\xe5\\x85\\xac\\xe5\\x91\\x8a\\xe6\\xa8\\x99\\xe9\\xa1\\x8c</th></tr><tr><td>2017-11-02</td><td>\\xe7\\xa2\\xa9\\xe5\\xa3\\xab\\xe7\\x8f\\xad</td><td style=\\'cursor:pointer\\' onclick=\\'load_announce(924)\\'><a href=\\'#\\'>107\\xe5\\xad\\xb8\\xe5\\xb9\\xb4\\xe5\\xba\\xa6\\xe9\\x9b\\xbb\\xe6\\xa9\\x9f\\xe7\\xb3\\xbb\\xe6\\x89\\x80(\\xe5\\x90\\xab\\xe9\\x9b\\xbb\\xe6\\xa9\\x9f\\xe3\\x80\\x81\\xe5\\xbe\\xae\\xe9\\x9b\\xbb\\xe5\\xad\\x90\\xe3\\x80\\x81\\xe9\\x9b\\xbb\\xe9\\x80\\x9a\\xe3\\x80\\x81\\xe5\\xa5\\x88\\xe7\\xb1\\xb3)\\xe7\\xa2\\xa9\\xe5\\xa3\\xab\\xe7\\x8f\\xad\\xe7\\x94\\x84\\xe8\\xa9\\xa6\\xe9\\x9d\\xa2\\xe8\\xa9\\xa6\\xe5\\x85\\xac\\xe5\\x91\\x8a(\\xe7\\xa2\\xba\\xe5\\xae\\x9a\\xe7\\x89\\x88)</a></td></tr><tr><td>2017-10-31</td><td>\\xe7\\xa2\\xa9\\xe5\\xa3\\xab\\xe7\\x8f\\xad</td><td style=\\'cursor:pointer\\' onclick=\\'load_announce(917)\\'><a href=\\'#\\'>107\\xe5\\xad\\xb8\\xe5\\xb9\\xb4\\xe5\\xba\\xa6\\xe9\\x9b\\xbb\\xe6\\xa9\\x9f\\xe7\\xb3\\xbb\\xe6\\x89\\x80(\\xe5\\x90\\xab\\xe9\\x9b\\xbb\\xe6\\xa9\\x9f\\xe6\\x89\\x80\\xe3\\x80\\x81\\xe5\\xbe\\xae\\xe9\\x9b\\xbb\\xe5\\xad\\x90\\xe6\\x89\\x80\\xe3\\x80\\x81\\xe9\\x9b\\xbb\\xe9\\x80\\x9a\\xe6\\x89\\x80\\xe3\\x80\\x81\\xe5\\xa5\\x88\\xe7\\xb1\\xb3\\xe5\\xad\\xb8\\xe7\\xa8\\x8b)\\xe7\\xa2\\xa9\\xe5\\xa3\\xab\\xe7\\x8f\\xad\\xe7\\x94\\x84\\xe8\\xa9\\xa6\\xe9\\x9d\\xa2\\xe8\\xa9\\xa6\\xe7\\xac\\xac\\xe4\\xba\\x8c\\xe7\\x89\\x88\\xe5\\x85\\xac\\xe5\\x91\\x8a</a></td></tr><tr><td>2017-10-27</td><td>\\xe5\\x8d\\x9a\\xe5\\xa3\\xab\\xe7\\x8f\\xad</td><td style=\\'cursor:pointer\\' onclick=\\'load_announce(914)\\'><a href=\\'#\\'>107\\xe5\\xad\\xb8\\xe5\\xb9\\xb4\\xe5\\xba\\xa6\\xe5\\x8d\\x9a\\xe5\\xa3\\xab\\xe7\\x8f\\xad\\xe7\\x94\\x84\\xe8\\xa9\\xa6\\xe9\\x9d\\xa2\\xe8\\xa9\\xa6\\xe5\\x85\\xac\\xe5\\x91\\x8a</a></td></tr><tr><td>2017-10-27</td><td>\\xe7\\xa2\\xa9\\xe5\\xa3\\xab\\xe7\\x8f\\xad</td><td style=\\'cursor:pointer\\' onclick=\\'load_announce(916)\\'><a href=\\'#\\'>107\\xe5\\xad\\xb8\\xe5\\xb9\\xb4\\xe5\\xba\\xa6\\xe9\\x9b\\xbb\\xe6\\xa9\\x9f\\xe7\\xb3\\xbb\\xe6\\x89\\x80(\\xe5\\x90\\xab\\xe9\\x9b\\xbb\\xe6\\xa9\\x9f\\xe6\\x89\\x80\\xe3\\x80\\x81\\xe5\\xbe\\xae\\xe9\\x9b\\xbb\\xe5\\xad\\x90\\xe6\\x89\\x80\\xe3\\x80\\x81\\xe9\\x9b\\xbb\\xe9\\x80\\x9a\\xe6\\x89\\x80\\xe3\\x80\\x81\\xe5\\xa5\\x88\\xe7\\xb1\\xb3\\xe5\\xad\\xb8\\xe7\\xa8\\x8b)\\xe7\\xa2\\xa9\\xe5\\xa3\\xab\\xe7\\x8f\\xad\\xe7\\x94\\x84\\xe8\\xa9\\xa6\\xe9\\x9d\\xa2\\xe8\\xa9\\xa6\\xe5\\x88\\x9d\\xe6\\xad\\xa5\\xe5\\x85\\xac\\xe5\\x91\\x8a</a></td></tr><tr><td>2017-10-26</td><td>\\xe5\\x85\\xa8\\xe9\\x83\\xa8</td><td style=\\'cursor:pointer\\' onclick=\\'load_announce(913)\\'><a href=\\'#\\'>107\\xe5\\xad\\xb8\\xe5\\xb9\\xb4\\xe5\\xba\\xa6\\xe9\\x9b\\xbb\\xe6\\xa9\\x9f\\xe7\\xb3\\xbb\\xe6\\x89\\x80(\\xe5\\x90\\xab\\xe9\\x9b\\xbb\\xe6\\xa9\\x9f\\xe6\\x89\\x80\\xe3\\x80\\x81\\xe5\\xbe\\xae\\xe9\\x9b\\xbb\\xe5\\xad\\x90\\xe6\\x89\\x80\\xe3\\x80\\x81\\xe9\\x9b\\xbb\\xe9\\x80\\x9a\\xe6\\x89\\x80\\xe3\\x80\\x81\\xe5\\xa5\\x88\\xe7\\xb1\\xb3\\xe5\\xad\\xb8\\xe7\\xa8\\x8b)\\xe7\\xa2\\xa9\\xe5\\xa3\\xab\\xe7\\x8f\\xad\\xe7\\x94\\x84\\xe8\\xa9\\xa6\\xe7\\xac\\xac\\xe4\\xb8\\x80\\xe9\\x9a\\x8e\\xe6\\xae\\xb5\\xe9\\x8c\\x84\\xe5\\x8f\\x96\\xe5\\x90\\x8d\\xe5\\x96\\xae</a></td></tr><tr><td>2017-09-22</td><td>\\xe7\\xa2\\xa9\\xe5\\xa3\\xab\\xe7\\x8f\\xad</td><td style=\\'cursor:pointer\\' onclick=\\'load_announce(856)\\'><a href=\\'#\\'>\\xe7\\xa2\\xa9\\xe5\\xa3\\xab\\xe7\\x94\\x84\\xe8\\xa9\\xa6\\xe5\\x80\\x8b\\xe4\\xba\\xba\\xe5\\xaf\\xa9\\xe6\\x9f\\xa5\\xe8\\xb3\\x87\\xe6\\x96\\x99\\xe7\\xb6\\xb2\\xe9\\xa0\\x81\\xe5\\x8f\\x8a\\xe7\\xa2\\xa9\\xe7\\x94\\x84\\xe8\\xb3\\x87\\xe6\\x96\\x99\\xe5\\xaf\\x84\\xe5\\x9b\\x9e\\xe6\\xb3\\xa8\\xe6\\x84\\x8f\\xe4\\xba\\x8b\\xe9\\xa0\\x85</a></td></tr><tr><td>2017-09-18</td><td>\\xe5\\x85\\xa8\\xe9\\x83\\xa8</td><td style=\\'cursor:pointer\\' onclick=\\'load_announce(848)\\'><a href=\\'#\\'>\\xe5\\x9c\\x8b\\xe7\\xab\\x8b\\xe6\\x88\\x90\\xe5\\x8a\\x9f\\xe5\\xa4\\xa7\\xe5\\xad\\xb8106\\xe5\\xad\\xb8\\xe5\\xb9\\xb4\\xe5\\xba\\xa6\\xe5\\xa5\\x88\\xe7\\xb1\\xb3\\xe7\\xa9\\x8d\\xe9\\xab\\x94\\xe9\\x9b\\xbb\\xe8\\xb7\\xaf\\xe7\\xa2\\xa9\\xe5\\xa3\\xab\\xe7\\x8f\\xad\\xe5\\xad\\xb8\\xe5\\x88\\x86\\xe5\\xad\\xb8\\xe7\\xa8\\x8b\\xe8\\xaa\\xaa\\xe6\\x98\\x8e\\xe6\\x9c\\x83</a></td></tr><tr><td>2017-09-07</td><td>\\xe5\\x85\\xa8\\xe9\\x83\\xa8</td><td style=\\'cursor:pointer\\' onclick=\\'load_announce(842)\\'><a href=\\'#\\'>107\\xe7\\xa2\\xa9\\xe7\\x94\\x84\\xe5\\x80\\x8b\\xe4\\xba\\xba\\xe5\\xaf\\xa9\\xe6\\x9f\\xa5\\xe8\\xb3\\x87\\xe6\\x96\\x99\\xe7\\xb6\\xb2\\xe9\\xa0\\x81\\xe5\\xb0\\x87\\xe6\\x96\\xbc10/2\\xe9\\x96\\x8b\\xe6\\x94\\xbe</a></td></tr></table></div></div><div class=\\'4\\'><div class=\\'post\\'><table style=\\'width:100%\\'><colgroup><col width=\\'15%\\'><col width=\\'15%\\'><col width=\\'70%\\'></colgroup><tr><th>\\xe5\\x85\\xac\\xe5\\x91\\x8a\\xe6\\x97\\xa5\\xe6\\x9c\\x9f</th><th>\\xe5\\x85\\xac\\xe5\\x91\\x8a\\xe5\\xb0\\x8d\\xe8\\xb1\\xa1</th><th>\\xe5\\x85\\xac\\xe5\\x91\\x8a\\xe6\\xa8\\x99\\xe9\\xa1\\x8c</th></tr><tr><td>2017-11-01</td><td>\\xe5\\x85\\xa8\\xe9\\x83\\xa8</td><td style=\\'cursor:pointer\\' onclick=\\'load_announce(921)\\'><a href=\\'#\\'>[\\xe6\\xbc\\x94\\xe8\\xac\\x9b\\xe5\\x85\\xac\\xe5\\x91\\x8a]11/13 (\\xe4\\xb8\\x80) 18:00~20:00\\xe6\\xb4\\xaa\\xe5\\xb1\\x85\\xe8\\x90\\xac\\xe5\\x9f\\xb7\\xe8\\xa1\\x8c\\xe9\\x95\\xb7\\xe5\\xb0\\x88\\xe9\\xa1\\x8c\\xe6\\xbc\\x94\\xe8\\xac\\x9b</a></td></tr><tr><td>2017-11-01</td><td>\\xe5\\x85\\xa8\\xe9\\x83\\xa8</td><td style=\\'cursor:pointer\\' onclick=\\'load_announce(922)\\'><a href=\\'#\\'>[\\xe6\\xbc\\x94\\xe8\\xac\\x9b\\xe5\\x85\\xac\\xe5\\x91\\x8a]11/08 (\\xe4\\xb8\\x89) 14:00~16:00 Ir. Dr. Philip W. T. Pong\\xe5\\xb0\\x88\\xe9\\xa1\\x8c\\xe6\\xbc\\x94\\xe8\\xac\\x9b</a></td></tr><tr><td>2017-10-27</td><td>\\xe5\\x85\\xa8\\xe9\\x83\\xa8</td><td style=\\'cursor:pointer\\' onclick=\\'load_announce(906)\\'><a href=\\'#\\'>[\\xe6\\xbc\\x94\\xe8\\xac\\x9b\\xe5\\x85\\xac\\xe5\\x91\\x8a]11/6(\\xe4\\xb8\\x80) 11:00~13:00 \\xe5\\xa5\\x87\\xe6\\x99\\xaf\\xe5\\x85\\x89\\xe9\\x9b\\xbb\\xe5\\x90\\xb3\\xe7\\x82\\xb3\\xe6\\x98\\x8c\\xe5\\x9f\\xb7\\xe8\\xa1\\x8c\\xe9\\x95\\xb7\\xe5\\xb0\\x88\\xe9\\xa1\\x8c\\xe6\\xbc\\x94\\xe8\\xac\\x9b(\\xe5\\xa0\\xb1\\xe5\\x90\\x8d\\xe5\\xb7\\xb2\\xe6\\x88\\xaa\\xe6\\xad\\xa2)</a></td></tr><tr><td>2017-10-24</td><td>\\xe5\\x85\\xa8\\xe9\\x83\\xa8</td><td style=\\'cursor:pointer\\' onclick=\\'load_announce(896)\\'><a href=\\'#\\'>[\\xe6\\xbc\\x94\\xe8\\xac\\x9b\\xe5\\x85\\xac\\xe5\\x91\\x8a]11/3 (\\xe4\\xba\\x94) 13:00~15:00 Alston Huang\\xe7\\xb6\\x93\\xe7\\x90\\x86\\xe5\\xb0\\x88\\xe9\\xa1\\x8c\\xe6\\xbc\\x94\\xe8\\xac\\x9b</a></td></tr><tr><td>2017-10-24</td><td>\\xe5\\x85\\xa8\\xe9\\x83\\xa8</td><td style=\\'cursor:pointer\\' onclick=\\'load_announce(897)\\'><a href=\\'#\\'>[\\xe6\\xbc\\x94\\xe8\\xac\\x9b\\xe5\\x85\\xac\\xe5\\x91\\x8a]11/6 (\\xe4\\xb8\\x80) 18:00~20:00\\xe6\\x9e\\x97\\xe7\\xab\\x8b\\xe6\\x9d\\xbe\\xe7\\xa0\\x94\\xe7\\xa9\\xb6\\xe5\\x93\\xa1\\xe5\\xb0\\x88\\xe9\\xa1\\x8c\\xe6\\xbc\\x94\\xe8\\xac\\x9b</a></td></tr><tr><td>2017-10-24</td><td>\\xe5\\x85\\xa8\\xe9\\x83\\xa8</td><td style=\\'cursor:pointer\\' onclick=\\'load_announce(898)\\'><a href=\\'#\\'>[\\xe6\\xbc\\x94\\xe8\\xac\\x9b\\xe5\\x85\\xac\\xe5\\x91\\x8a]11/9 (\\xe5\\x9b\\x9b) 13:30~15:00\\xe9\\x99\\xb3\\xe5\\x9d\\xa4\\xe6\\xaf\\x85\\xe5\\xbf\\x83\\xe7\\x90\\x86\\xe5\\xb8\\xab\\xe5\\xb0\\x88\\xe9\\xa1\\x8c\\xe6\\xbc\\x94\\xe8\\xac\\x9b</a></td></tr><tr><td>2017-10-18</td><td>\\xe5\\x85\\xa8\\xe9\\x83\\xa8</td><td style=\\'cursor:pointer\\' onclick=\\'load_announce(889)\\'><a href=\\'#\\'>[\\xe6\\xbc\\x94\\xe8\\xac\\x9b\\xe5\\x85\\xac\\xe5\\x91\\x8a]10/30 (\\xe4\\xb8\\x80) 18:00~20:00\\xe6\\x9d\\x8e\\xe6\\xb3\\xb0\\xe5\\xbb\\xa3\\xe8\\xb3\\x87\\xe6\\xb7\\xb1\\xe5\\xb7\\xa5\\xe7\\xa8\\x8b\\xe5\\xb8\\xab\\xe5\\xb0\\x88\\xe9\\xa1\\x8c\\xe6\\xbc\\x94\\xe8\\xac\\x9b</a></td></tr><tr><td>2017-10-17</td><td>\\xe5\\x85\\xa8\\xe9\\x83\\xa8</td><td style=\\'cursor:pointer\\' onclick=\\'load_announce(886)\\'><a href=\\'#\\'>[\\xe6\\xbc\\x94\\xe8\\xac\\x9b\\xe5\\x85\\xac\\xe5\\x91\\x8a]10/31 (\\xe4\\xba\\x8c) 10:00~12:00 Dr. Donald Chang\\xe5\\xb0\\x88\\xe9\\xa1\\x8c\\xe6\\xbc\\x94\\xe8\\xac\\x9b</a></td></tr></table></div></div><div class=\\'5\\'><div class=\\'post\\'><table style=\\'width:100%\\'><colgroup><col width=\\'15%\\'><col width=\\'15%\\'><col width=\\'70%\\'></colgroup><tr><th>\\xe5\\x85\\xac\\xe5\\x91\\x8a\\xe6\\x97\\xa5\\xe6\\x9c\\x9f</th><th>\\xe5\\x85\\xac\\xe5\\x91\\x8a\\xe5\\xb0\\x8d\\xe8\\xb1\\xa1</th><th>\\xe5\\x85\\xac\\xe5\\x91\\x8a\\xe6\\xa8\\x99\\xe9\\xa1\\x8c</th></tr><tr><td>2017-10-31</td><td>\\xe5\\x85\\xa8\\xe9\\x83\\xa8</td><td style=\\'cursor:pointer\\' onclick=\\'load_announce(918)\\'><a href=\\'#\\'>106\\xe5\\xad\\xb8\\xe5\\xb9\\xb4\\xe5\\xba\\xa6\\xe6\\x96\\xb0\\xe7\\x94\\x9f\\xe7\\x9b\\x83\\xe6\\x9a\\xa8\\xe7\\xb3\\xbb\\xe9\\x9a\\x9b\\xe7\\x9b\\x83\\xe7\\x94\\xb0\\xe5\\xbe\\x91\\xe8\\xb3\\xbd\\xe7\\x8d\\xb2\\xe7\\x8d\\x8e\\xe5\\x90\\x8d\\xe5\\x96\\xae</a></td></tr><tr><td>2017-10-23</td><td>\\xe5\\x85\\xa8\\xe9\\x83\\xa8</td><td style=\\'cursor:pointer\\' onclick=\\'load_announce(893)\\'><a href=\\'#\\'>\\xe6\\x81\\xad\\xe8\\xb3\\x80\\xe6\\x9c\\xac\\xe7\\xb3\\xbb\\xe6\\x9e\\x97\\xe5\\xbf\\x97\\xe9\\x9a\\x86\\xe3\\x80\\x81\\xe5\\x8a\\x89\\xe6\\x96\\x87\\xe8\\xb6\\x85\\xe6\\x95\\x99\\xe6\\x8e\\x88\\xe6\\x8c\\x87\\xe5\\xb0\\x8e\\xe5\\xad\\xb8\\xe7\\x94\\x9f\\xe5\\x88\\x86\\xe5\\x88\\xa5\\xe6\\xa6\\xae\\xe7\\x8d\\xb22017 TIEEE \\xe7\\xac\\xac\\xe4\\xb8\\x83\\xe5\\xb1\\x86\\xe6\\x9c\\x80\\xe4\\xbd\\xb3\\xe7\\xa2\\xa9\\xe5\\x8d\\x9a\\xe5\\xa3\\xab\\xe8\\xab\\x96\\xe6\\x96\\x87\\xe7\\x8d\\x8e\\xe3\\x80\\x8c\\xe6\\x9c\\x80\\xe4\\xbd\\xb3\\xe5\\x8d\\x9a\\xe5\\xa3\\xab\\xe8\\xab\\x96\\xe6\\x96\\x87\\xe7\\x8d\\x8e\\xe3\\x80\\x8d\\xe5\\x8f\\x8a\\xe3\\x80\\x8c\\xe6\\x9c\\x80\\xe4\\xbd\\xb3\\xe7\\xa2\\xa9\\xe5\\xa3\\xab\\xe8\\xab\\x96\\xe6\\x96\\x87\\xe7\\x8d\\x8e\\xe3\\x80\\x8d</a></td></tr><tr><td>2017-10-23</td><td>\\xe5\\x85\\xa8\\xe9\\x83\\xa8</td><td style=\\'cursor:pointer\\' onclick=\\'load_announce(895)\\'><a href=\\'#\\'>\\xe8\\xb3\\x80~\\xe8\\xa7\\xa3\\xe5\\xb7\\xbd\\xe8\\xa9\\x95\\xe6\\x95\\x99\\xe6\\x8e\\x88\\xe6\\x8c\\x87\\xe5\\xb0\\x8e\\xe5\\xad\\xb8\\xe7\\x94\\x9f\\xe9\\x99\\xb3\\xe4\\xba\\xba\\xe8\\xb1\\xaa\\xef\\xbc\\x8c\\xe9\\x83\\xad\\xe5\\xad\\x90\\xe7\\x91\\x9b\\xef\\xbc\\x8c\\xe7\\x8e\\x8b\\xe5\\x84\\xb7\\xe5\\xaa\\x9b\\xef\\xbc\\x8c\\xe7\\xb4\\x80\\xe5\\xbe\\xb7\\xe6\\xac\\xa3\\xef\\xbc\\x8c\\xe9\\x82\\xb1\\xe7\\x90\\xae\\xe7\\x9a\\x93\\xe6\\xa6\\xae\\xe7\\x8d\\xb2\"106\\xe5\\xb9\\xb4\\xe5\\xba\\xa6\\xe4\\xbd\\x8e\\xe5\\xa3\\x93\\xe6\\x99\\xba\\xe6\\x85\\xa7\\xe9\\x9b\\xbb\\xe8\\xa1\\xa8\\xe5\\xa4\\xa7\\xe6\\x95\\xb8\\xe6\\x93\\x9a\\xe5\\x88\\x86\\xe6\\x9e\\x90\\xe8\\x88\\x87\\xe8\\xa8\\xad\\xe8\\xa8\\x88\\xe7\\xab\\xb6\\xe8\\xb3\\xbd\"\\xe4\\xbd\\xb3\\xe4\\xbd\\x9c</a></td></tr><tr><td>2017-10-20</td><td>\\xe5\\x85\\xa8\\xe9\\x83\\xa8</td><td style=\\'cursor:pointer\\' onclick=\\'load_announce(890)\\'><a href=\\'#\\'>\\xe8\\xb3\\x80~\\xe6\\xa5\\x8a\\xe5\\xae\\x8f\\xe6\\xbe\\xa4\\xe6\\x95\\x99\\xe6\\x8e\\x88\\xe6\\x8c\\x87\\xe5\\xb0\\x8e\\xe5\\xad\\xb8\\xe7\\x94\\x9f\\xe5\\x94\\x90\\xe6\\x96\\x87\\xe4\\xbf\\x8a\\xe3\\x80\\x81\\xe5\\x90\\xb3\\xe6\\x80\\xa1\\xe8\\x90\\xb1\\xe6\\xa6\\xae\\xe7\\x8d\\xb2\"106\\xe5\\xb9\\xb4\\xe5\\xba\\xa6\\xe4\\xbd\\x8e\\xe5\\xa3\\x93\\xe6\\x99\\xba\\xe6\\x85\\xa7\\xe9\\x9b\\xbb\\xe8\\xa1\\xa8\\xe5\\xa4\\xa7\\xe6\\x95\\xb8\\xe6\\x93\\x9a\\xe5\\x88\\x86\\xe6\\x9e\\x90\\xe8\\x88\\x87\\xe8\\xa8\\xad\\xe8\\xa8\\x88\\xe7\\xab\\xb6\\xe8\\xb3\\xbd\"\\xe7\\x89\\xb9\\xe5\\x84\\xaa\\xe7\\x8d\\x8e</a></td></tr><tr><td>2017-10-16</td><td>\\xe5\\x85\\xa8\\xe9\\x83\\xa8</td><td style=\\'cursor:pointer\\' onclick=\\'load_announce(883)\\'><a href=\\'#\\'>\\xe8\\xb3\\x80~\\xe9\\xab\\x98\\xe5\\x9c\\x8b\\xe8\\x88\\x88\\xe6\\x95\\x99\\xe6\\x8e\\x88\\xe6\\x8c\\x87\\xe5\\xb0\\x8e\\xe5\\xad\\xb8\\xe7\\x94\\x9f\\xe8\\x83\\xa1\\xe4\\xbd\\xb3\\xe7\\x91\\xa9\\xe8\\x93\\x89\\xe6\\xa6\\xae\\xe7\\x8d\\xb2\\xe4\\xb8\\xad\\xe5\\x9c\\x8b\\xe9\\x9b\\xbb\\xe6\\xa9\\x9f\\xe5\\xb7\\xa5\\xe7\\xa8\\x8b\\xe5\\xad\\xb8\\xe6\\x9c\\x83106\\xe5\\xb9\\xb4\\xe5\\xba\\xa6\\xe3\\x80\\x8c\\xe9\\x9d\\x92\\xe5\\xb9\\xb4\\xe8\\xab\\x96\\xe6\\x96\\x87\\xe7\\x8d\\x8e\\xe3\\x80\\x8d\\xe7\\xac\\xac\\xe4\\xb8\\x89\\xe5\\x90\\x8d</a></td></tr><tr><td>2017-10-16</td><td>\\xe5\\x85\\xa8\\xe9\\x83\\xa8</td><td style=\\'cursor:pointer\\' onclick=\\'load_announce(884)\\'><a href=\\'#\\'>\\xe8\\xb3\\x80~\\xe6\\x9e\\x97\\xe5\\xbf\\x97\\xe9\\x9a\\x86\\xe6\\x95\\x99\\xe6\\x8e\\x88\\xe6\\xa6\\xae\\xe7\\x8d\\xb2\\xe4\\xb8\\xad\\xe5\\x9c\\x8b\\xe9\\x9b\\xbb\\xe6\\xa9\\x9f\\xe5\\xb7\\xa5\\xe7\\xa8\\x8b\\xe5\\xad\\xb8\\xe6\\x9c\\x83106\\xe5\\xb9\\xb4\\xe5\\xba\\xa6\\xe3\\x80\\x8c\\xe5\\x82\\x91\\xe5\\x87\\xba\\xe9\\x9b\\xbb\\xe6\\xa9\\x9f\\xe5\\xb7\\xa5\\xe7\\xa8\\x8b\\xe6\\x95\\x99\\xe6\\x8e\\x88\\xe7\\x8d\\x8e\\xe3\\x80\\x8d</a></td></tr><tr><td>2017-10-11</td><td>\\xe5\\x85\\xa8\\xe9\\x83\\xa8</td><td style=\\'cursor:pointer\\' onclick=\\'load_announce(875)\\'><a href=\\'#\\'>105\\xe5\\xad\\xb8\\xe5\\xb9\\xb4\\xe5\\xba\\xa6\\xe5\\xbe\\xae\\xe7\\xa9\\x8d\\xe5\\x88\\x86\\xe3\\x80\\x81\\xe7\\xb6\\x93\\xe6\\xbf\\x9f\\xe5\\xad\\xb8\\xe7\\xab\\xb6\\xe8\\xa9\\xa6\\xef\\xbc\\x8c\\xe7\\x8d\\xb2\\xe7\\x8d\\x8e\\xe5\\x90\\x8d\\xe5\\x96\\xae</a></td></tr><tr><td>2017-08-28</td><td>\\xe5\\x85\\xa8\\xe9\\x83\\xa8</td><td style=\\'cursor:pointer\\' onclick=\\'load_announce(832)\\'><a href=\\'#\\'>\\xe6\\x81\\xad\\xe8\\xb3\\x80\\xef\\xbc\\x81\\xe9\\x99\\xb3\\xe9\\x80\\xb2\\xe8\\x88\\x88\\xe6\\x95\\x99\\xe6\\x8e\\x88\\xe6\\x8c\\x87\\xe5\\xb0\\x8e\\xe5\\x8d\\x9a\\xe7\\x8f\\xad\\xe7\\x95\\xa2\\xe6\\xa5\\xad\\xe7\\x94\\x9f\\xe7\\x8e\\x8b\\xe6\\x95\\xac\\xe6\\x96\\x87\\xe5\\x8d\\x9a\\xe5\\xa3\\xab\\xe7\\x95\\xb6\\xe9\\x81\\xb8\\xe9\\xab\\x98\\xe9\\x9b\\x84\\xe6\\x87\\x89\\xe7\\x94\\xa8\\xe7\\xa7\\x91\\xe6\\x8a\\x80\\xe5\\xa4\\xa7\\xe5\\xad\\xb8\\xe9\\x9b\\xbb\\xe8\\xb3\\x87\\xe5\\xad\\xb8\\xe9\\x99\\xa2\\xe9\\x99\\xa2\\xe9\\x95\\xb7</a></td></tr></table></div></div><div class=\\'6\\'><div class=\\'post\\'><table style=\\'width:100%\\'><colgroup><col width=\\'15%\\'><col width=\\'15%\\'><col width=\\'70%\\'></colgroup><tr><th>\\xe5\\x85\\xac\\xe5\\x91\\x8a\\xe6\\x97\\xa5\\xe6\\x9c\\x9f</th><th>\\xe5\\x85\\xac\\xe5\\x91\\x8a\\xe5\\xb0\\x8d\\xe8\\xb1\\xa1</th><th>\\xe5\\x85\\xac\\xe5\\x91\\x8a\\xe6\\xa8\\x99\\xe9\\xa1\\x8c</th></tr><tr><td>2017-11-01</td><td>\\xe5\\xa4\\xa7\\xe5\\xad\\xb8\\xe9\\x83\\xa8</td><td style=\\'cursor:pointer\\' onclick=\\'load_announce(920)\\'><a href=\\'#\\'>106\\xe5\\xad\\xb8\\xe5\\xb9\\xb4\\xe4\\xba\\x9e\\xe5\\xbe\\xb7\\xe5\\xae\\xa2\\xe6\\x9c\\x89\\xe7\\xbe\\x8e\\xe7\\x8d\\x8e\\xe5\\x8a\\xa9\\xe5\\xad\\xb8\\xe9\\x87\\x91\\xe9\\x81\\x9e\\xe8\\xa3\\x9c\\xe5\\x85\\xac\\xe5\\x91\\x8a\\xef\\xbc\\x8c\\xe6\\xad\\xa1\\xe8\\xbf\\x8e\\xe5\\xa4\\xa7\\xe5\\xad\\xb8\\xe9\\x83\\xa8\\xe5\\x90\\x8c\\xe5\\xad\\xb8\\xe7\\x94\\xb3\\xe8\\xab\\x8b</a></td></tr><tr><td>2017-11-01</td><td>\\xe5\\xa4\\xa7\\xe5\\xad\\xb8\\xe9\\x83\\xa8</td><td style=\\'cursor:pointer\\' onclick=\\'load_announce(923)\\'><a href=\\'#\\'>\\xe9\\xbc\\x93\\xe5\\x8b\\xb5\\xe5\\x84\\xaa\\xe7\\xa7\\x80\\xe5\\xa4\\xa7\\xe5\\xb0\\x88\\xe5\\xad\\xb8\\xe7\\x94\\x9f\\xe5\\xb0\\xb1\\xe8\\xae\\x80\\xe6\\x88\\x90\\xe5\\x8a\\x9f\\xe5\\xa4\\xa7\\xe5\\xad\\xb8\\xe9\\x9b\\xbb\\xe6\\xa9\\x9f\\xe7\\xb3\\xbb\\xe7\\xa0\\x94\\xe7\\xa9\\xb6\\xe6\\x89\\x80\\xe7\\xa2\\xa9\\xe5\\xa3\\xab\\xe7\\x8f\\xad\\xef\\xbc\\x8c\\xe5\\xb7\\xb2\\xe9\\x96\\x8b\\xe5\\xa7\\x8b\\xe7\\x94\\xb3\\xe8\\xab\\x8b\\xef\\xbc\\x8c\\xe6\\x96\\xbc11/20\\xe6\\x88\\xaa\\xe6\\xad\\xa2\\xe6\\x94\\xb6\\xe4\\xbb\\xb6\\xe3\\x80\\x82</a></td></tr><tr><td>2017-10-27</td><td>\\xe5\\x85\\xa8\\xe9\\x83\\xa8</td><td style=\\'cursor:pointer\\' onclick=\\'load_announce(915)\\'><a href=\\'#\\'>\\xe6\\xa6\\xae\\xe7\\x8d\\xb2106\\xe5\\xad\\xb8\\xe5\\xb9\\xb4\\xe5\\xba\\xa6\\xe4\\xb8\\x8a\\xe5\\xad\\xb8\\xe6\\x9c\\x9f \\xe5\\xad\\x94\\xe4\\xbb\\xa4\\xe6\\xb4\\x8b\\xe6\\x95\\x99\\xe6\\x8e\\x88\\xe7\\xb4\\x80\\xe5\\xbf\\xb5\\xe7\\x8d\\x8e\\xe5\\xad\\xb8\\xe9\\x87\\x91\\xef\\xbc\\x8c\\xe8\\xab\\x8b\\xe5\\x8b\\x99\\xe5\\xbf\\x85\\xe5\\x8f\\x83\\xe5\\x8a\\xa0\\xe7\\xb3\\xbb\\xe5\\x8f\\x8b\\xe5\\xa4\\xa7\\xe6\\x9c\\x83\\xe9\\xa0\\x92\\xe7\\x8d\\x8e\\xe8\\xa1\\xa8\\xe6\\x8f\\x9a</a></td></tr><tr><td>2017-10-26</td><td>\\xe5\\x85\\xa8\\xe9\\x83\\xa8</td><td style=\\'cursor:pointer\\' onclick=\\'load_announce(910)\\'><a href=\\'#\\'>\\xe8\\xb3\\x80~\\xe6\\x9d\\x8e\\xe5\\xbf\\xa0\\xe6\\x86\\xb2\\xe6\\x95\\x99\\xe6\\x8e\\x88\\xe6\\x8c\\x87\\xe5\\xb0\\x8e\\xe5\\xad\\xb8\\xe7\\x94\\x9f\\xe9\\x99\\xb8\\xe5\\x86\\xa0\\xe7\\xab\\xb9\\xef\\xbc\\x8c\\xe5\\x8a\\x89\\xe5\\xa5\\x95\\xe8\\xb3\\xa2\\xef\\xbc\\x8c\\xe5\\x8a\\x89\\xe5\\xb7\\x9d\\xe7\\xb6\\xb1\\xe6\\xa6\\xae\\xe7\\x8d\\xb2TANET2017\\xe6\\x9c\\x80\\xe4\\xbd\\xb3\\xe8\\xab\\x96\\xe6\\x96\\x87\\xe7\\x8d\\x8e\\xe4\\xbd\\xb3\\xe4\\xbd\\x9c</a></td></tr><tr><td>2017-10-02</td><td>\\xe5\\x85\\xa8\\xe9\\x83\\xa8</td><td style=\\'cursor:pointer\\' onclick=\\'load_announce(869)\\'><a href=\\'#\\'>106\\xe5\\xad\\xb8\\xe5\\xb9\\xb4\\xe5\\xba\\xa6\\xe7\\xac\\xac\\xe4\\xb8\\x80\\xe5\\xad\\xb8\\xe6\\x9c\\x9f\\xe7\\xa0\\x94\\xe7\\xa9\\xb6\\xe7\\x94\\x9f\\xe7\\x8d\\x8e\\xe5\\x8a\\xa9\\xe5\\xad\\xb8\\xe9\\x87\\x91\\xef\\xbc\\x8c\\xe5\\x8d\\xb3\\xe6\\x97\\xa5\\xe8\\xb5\\xb7\\xe9\\x96\\x8b\\xe5\\xa7\\x8b\\xe7\\x94\\xb3\\xe8\\xab\\x8b\\xef\\xbc\\x8c\\xe6\\x88\\xaa\\xe6\\xad\\xa2\\xe6\\x97\\xa5\\xe6\\x9c\\x9f\\xe8\\x87\\xb310\\xe6\\x9c\\x8813\\xe6\\x97\\xa5</a></td></tr><tr><td>2017-09-19</td><td>\\xe5\\xa4\\xa7\\xe5\\xad\\xb8\\xe9\\x83\\xa8</td><td style=\\'cursor:pointer\\' onclick=\\'load_announce(851)\\'><a href=\\'#\\'>\\xe4\\xba\\x9e\\xe5\\xbe\\xb7\\xe5\\xae\\xa2\\xe6\\x9c\\x89\\xe7\\xbe\\x8e\\xe5\\x8a\\xa9\\xe5\\xad\\xb8\\xe9\\x87\\x91106\\xe4\\xb8\\x8a\\xe5\\xad\\xb8\\xe6\\x9c\\x9f\\xe5\\xb7\\xb2\\xe9\\x96\\x8b\\xe5\\xa7\\x8b\\xe7\\x94\\xb3\\xe8\\xab\\x8b\\xef\\xbc\\x8c\\xe8\\xab\\x8b\\xe5\\x82\\x99\\xe5\\xa6\\xa5\\xe8\\xb3\\x87\\xe6\\x96\\x99\\xe6\\x96\\xbc106/10/6\\xe4\\xb8\\xad\\xe5\\x8d\\x88\\xe5\\x89\\x8d\\xe7\\xb9\\xb3\\xe4\\xba\\xa4\\xe8\\x87\\xb3\\xe9\\x9b\\xbb\\xe6\\xa9\\x9f\\xe7\\xb3\\xbb\\xe7\\xb3\\xbb\\xe8\\xbe\\xa6\\xe5\\x85\\xac\\xe5\\xae\\xa4</a></td></tr><tr><td>2017-09-15</td><td>\\xe5\\x85\\xa8\\xe9\\x83\\xa8</td><td style=\\'cursor:pointer\\' onclick=\\'load_announce(847)\\'><a href=\\'#\\'>106\\xe4\\xb8\\x8a\\xe8\\xb2\\xa1\\xe5\\x9c\\x98\\xe6\\xb3\\x95\\xe4\\xba\\xba\\xe6\\xbd\\x98\\xe6\\x96\\x87\\xe6\\xb7\\xb5\\xe6\\x96\\x87\\xe6\\x95\\x99\\xe5\\x9f\\xba\\xe9\\x87\\x91\\xe6\\x9c\\x83\\xe7\\x8d\\x8e\\xe5\\xad\\xb8\\xe9\\x87\\x91\\xe5\\x85\\xac\\xe5\\x91\\x8a\\xef\\xbc\\x8c\\xe8\\x87\\xb39/20\\xe6\\x88\\xaa\\xe6\\xad\\xa2</a></td></tr><tr><td>2017-08-30</td><td>\\xe5\\xa4\\xa7\\xe5\\xad\\xb8\\xe9\\x83\\xa8</td><td style=\\'cursor:pointer\\' onclick=\\'load_announce(839)\\'><a href=\\'#\\'>\\xe3\\x80\\x90\\xe6\\xb4\\xaa\\xe8\\x82\\x87\\xe5\\xa5\\x8e\\xe5\\x8d\\x9a\\xe5\\xa3\\xab\\xe7\\xb4\\x80\\xe5\\xbf\\xb5\\xe7\\x8d\\x8e\\xe5\\xad\\xb8\\xe9\\x87\\x91\\xe3\\x80\\x91 \\xe5\\x8d\\xb3\\xe6\\x97\\xa5\\xe8\\xb5\\xb7\\xe8\\x87\\xb39/20, \\xe9\\x96\\x8b\\xe6\\x94\\xbe\\xe7\\x94\\xb3\\xe8\\xab\\x8b,\\xe6\\xaf\\x8f\\xe5\\x90\\x8d\\xe6\\xaf\\x8f\\xe5\\xb9\\xb4\\xe4\\xba\\x8c\\xe8\\x90\\xac\\xe5\\x85\\x83\\xe3\\x80\\x82</a></td></tr></table></div></div><div class=\\'7\\'><div class=\\'post\\'><table style=\\'width:100%\\'><colgroup><col width=\\'15%\\'><col width=\\'15%\\'><col width=\\'70%\\'></colgroup><tr><th>\\xe5\\x85\\xac\\xe5\\x91\\x8a\\xe6\\x97\\xa5\\xe6\\x9c\\x9f</th><th>\\xe5\\x85\\xac\\xe5\\x91\\x8a\\xe5\\xb0\\x8d\\xe8\\xb1\\xa1</th><th>\\xe5\\x85\\xac\\xe5\\x91\\x8a\\xe6\\xa8\\x99\\xe9\\xa1\\x8c</th></tr><tr><td>2017-10-26</td><td>\\xe5\\x85\\xa8\\xe9\\x83\\xa8</td><td style=\\'cursor:pointer\\' onclick=\\'load_announce(909)\\'><a href=\\'#\\'>[\\xe8\\xbd\\x89\\xe7\\x99\\xbc]11/2(\\xe5\\x9b\\x9b) 12:00-13:00\\xe5\\x85\\x89\\xe5\\xaf\\xb6\\xe7\\xa7\\x91\\xe6\\x8a\\x80107\\xe5\\xb9\\xb4\\xe5\\xba\\xa6\\xe7\\xa0\\x94\\xe6\\x9b\\xbf\\xe6\\x8b\\x9b\\xe5\\x8b\\x9f\\xe6\\xb4\\xbb\\xe5\\x8b\\x95(\\xe5\\x82\\x99\\xe6\\x9c\\x89\\xe9\\xa4\\x90\\xe9\\xbb\\x9e)</a></td></tr><tr><td>2017-10-11</td><td>\\xe5\\x85\\xa8\\xe9\\x83\\xa8</td><td style=\\'cursor:pointer\\' onclick=\\'load_announce(876)\\'><a href=\\'#\\'>[\\xe8\\xbd\\x89\\xe7\\x99\\xbc]2018\\xe5\\x8f\\xb0\\xe7\\xa9\\x8d\\xe9\\x9b\\xbb\\xe7\\xa0\\x94\\xe7\\x99\\xbc\\xe6\\x9b\\xbf\\xe4\\xbb\\xa3\\xe5\\xbd\\xb9\\xe6\\x9a\\xa8\\xe9\\xa0\\x90\\xe8\\x81\\x98\\xe8\\xa8\\x88\\xe7\\x95\\xab\\xe8\\xaa\\xaa\\xe6\\x98\\x8e\\xe6\\x9c\\x83</a></td></tr><tr><td>2017-10-11</td><td>\\xe5\\x85\\xa8\\xe9\\x83\\xa8</td><td style=\\'cursor:pointer\\' onclick=\\'load_announce(877)\\'><a href=\\'#\\'>[\\xe8\\xbd\\x89\\xe7\\x99\\xbc]\\xe8\\x8f\\xaf\\xe7\\xa2\\xa9\\xe9\\x9b\\xbb\\xe8\\x85\\xa62018\\xe7\\xa0\\x94\\xe7\\x99\\xbc\\xe6\\x9b\\xbf\\xe4\\xbb\\xa3\\xe5\\xbd\\xb9\\xe5\\xbe\\xb5\\xe6\\x89\\x8d</a></td></tr><tr><td>2017-10-05</td><td>\\xe5\\x85\\xa8\\xe9\\x83\\xa8</td><td style=\\'cursor:pointer\\' onclick=\\'load_announce(872)\\'><a href=\\'#\\'>[\\xe8\\xbd\\x89\\xe7\\x99\\xbc]\\xe5\\xbb\\xa3\\xe9\\x81\\x94\\xe9\\x9b\\xbb\\xe8\\x85\\xa62018\\xe9\\xa0\\x90\\xe8\\x81\\x98\\xe6\\x88\\x96\\xe7\\xa0\\x94\\xe6\\x9b\\xbf\\xe8\\xaa\\xaa\\xe6\\x98\\x8e\\xe6\\x9c\\x8310/17_12:10@\\xe6\\x88\\x90\\xe5\\xa4\\xa7\\xef\\xbc\\x8c\\xe9\\xa0\\x90\\xe8\\xa6\\x8b\\xe6\\x9c\\xaa\\xe4\\xbe\\x86\\xe3\\x80\\x81\\xe5\\xbd\\xb9\\xe5\\x9c\\x93\\xe5\\xa4\\xa2\\xe6\\x83\\xb3\\xef\\xbc\\x81</a></td></tr><tr><td>2017-10-05</td><td>\\xe5\\x85\\xa8\\xe9\\x83\\xa8</td><td style=\\'cursor:pointer\\' onclick=\\'load_announce(873)\\'><a href=\\'#\\'>[\\xe8\\xbd\\x89\\xe7\\x99\\xbc]2018\\xe5\\xb9\\xb4\\xe5\\xba\\xa6\\xe9\\xb4\\xbb\\xe6\\xb5\\xb7\\xe7\\xa7\\x91\\xe6\\x8a\\x80\\xe9\\x9b\\x86\\xe5\\x9c\\x98\\xe7\\xa0\\x94\\xe7\\x99\\xbc\\xe6\\x9b\\xbf\\xe4\\xbb\\xa3\\xe5\\xbd\\xb9\\xe6\\x8b\\x9b\\xe5\\x8b\\x9f</a></td></tr><tr><td>2017-10-02</td><td>\\xe5\\x85\\xa8\\xe9\\x83\\xa8</td><td style=\\'cursor:pointer\\' onclick=\\'load_announce(870)\\'><a href=\\'#\\'>\\xe8\\x8f\\xaf\\xe9\\x82\\xa6\\xe9\\x9b\\xbb\\xe5\\xad\\x90\\xe8\\x88\\x87\\xe6\\x88\\x90\\xe5\\xa4\\xa7\\xe9\\x9b\\xbb\\xe8\\xb3\\x87\\xe5\\xad\\xb8\\xe9\\x99\\xa2\\xe4\\xb9\\x8b\\xe3\\x80\\x8c\\xe7\\xa0\\x94\\xe7\\x99\\xbc\\xe8\\x8f\\x81\\xe8\\x8b\\xb1\\xe8\\xa8\\x88\\xe7\\x95\\xab\\xe3\\x80\\x8d\\xe4\\xba\\xba\\xe6\\x89\\x8d\\xe6\\x8b\\x9b\\xe5\\x8b\\x9f\\xe5\\xbe\\xb5\\xe9\\x81\\xb8\\xe8\\xa8\\x8a\\xe6\\x81\\xaf(\\xe8\\xab\\x8b\\xe6\\x96\\xbc10/20\\xe5\\x89\\x8d\\xe6\\x8f\\x90\\xe5\\x87\\xba\\xe7\\x94\\xb3\\xe8\\xab\\x8b)</a></td></tr><tr><td>2017-09-27</td><td>\\xe5\\x85\\xa8\\xe9\\x83\\xa8</td><td style=\\'cursor:pointer\\' onclick=\\'load_announce(850)\\'><a href=\\'#\\'>\\xe5\\x9c\\x8b\\xe7\\xab\\x8b\\xe6\\x88\\x90\\xe5\\x8a\\x9f\\xe5\\xa4\\xa7\\xe5\\xad\\xb8\\xe9\\x9b\\xbb\\xe6\\xa9\\x9f\\xe5\\xb7\\xa5\\xe7\\xa8\\x8b\\xe7\\xb3\\xbb/\\xe9\\x9b\\xbb\\xe8\\x85\\xa6\\xe8\\x88\\x87\\xe9\\x80\\x9a\\xe4\\xbf\\xa1\\xe5\\xb7\\xa5\\xe7\\xa8\\x8b\\xe7\\xa0\\x94\\xe7\\xa9\\xb6\\xe6\\x89\\x80/\\xe5\\xbe\\xae\\xe9\\x9b\\xbb\\xe5\\xad\\x90\\xe5\\xb7\\xa5\\xe7\\xa8\\x8b\\xe7\\xa0\\x94\\xe7\\xa9\\xb6\\xe6\\x89\\x80 \\xe5\\xbe\\xb5\\xe6\\xb1\\x82\\xe5\\xb8\\xab\\xe8\\xb3\\x87\\xe5\\x85\\xac\\xe5\\x91\\x8a \\xe8\\xaa\\xa0\\xe5\\xbe\\xb5\\xe5\\xb0\\x88\\xe4\\xbb\\xbb\\xe6\\x95\\x99\\xe5\\xb8\\xab</a></td></tr><tr><td>2017-09-27</td><td>\\xe5\\x85\\xa8\\xe9\\x83\\xa8</td><td style=\\'cursor:pointer\\' onclick=\\'load_announce(865)\\'><a href=\\'#\\'>[\\xe8\\xbd\\x89\\xe7\\x99\\xbc]\\xe6\\x99\\xb6\\xe5\\x85\\x83\\xe5\\x85\\x89\\xe9\\x9b\\xbb\\xef\\xbc\\x8d\\xe6\\xad\\xa1\\xe8\\xbf\\x8e\\xe5\\x9c\\xa8\\xe5\\xad\\xb8\\xe5\\x90\\x8c\\xe5\\xad\\xb8\\xe5\\xaf\\xa6\\xe7\\xbf\\x92\\xef\\xbc\\x81</a></td></tr></table></div></div>\\t\\r\\n\\t\\r\\n\\t\\r\\n\\t\\t<div style=\"clear: both;\">&nbsp;</div>\\r\\n\\t</div>\\r\\n\\t<!-- end #content -->\\r\\n\\t<div id=\"sidebar\">\\r\\n\\t\\t<ul>\\r\\n\\t\\t\\t<li>\\r\\n\\t\\t\\t\\t<h2>\\xe6\\x9c\\x80\\xe6\\x96\\xb0\\xe6\\xb6\\x88\\xe6\\x81\\xaf</h2>\\r\\n\\t\\t\\t\\t<ul>\\r\\n\\t\\t\\t\\t\\t<li class=\"1 active\"><a>\\xe5\\x85\\xa8\\xe9\\x83\\xa8\\xe8\\xb3\\x87\\xe8\\xa8\\x8a</a></li>\\r\\n\\t\\t\\t\\t\\t<li class=\"2\"><a>\\xe4\\xb8\\x80\\xe8\\x88\\xac\\xe8\\xb3\\x87\\xe8\\xa8\\x8a</a></li>\\r\\n\\t\\t\\t\\t\\t<li class=\"3\"><a>\\xe6\\x8b\\x9b\\xe7\\x94\\x9f\\xe8\\xb3\\x87\\xe8\\xa8\\x8a</a></li>\\r\\n\\t\\t\\t\\t\\t<li class=\"4\"><a>\\xe6\\xbc\\x94\\xe8\\xac\\x9b\\xe8\\xb3\\x87\\xe8\\xa8\\x8a</a></li>\\r\\n\\t\\t\\t\\t\\t<li class=\"5\"><a>\\xe7\\x8d\\xb2\\xe7\\x8d\\x8e\\xe8\\xb3\\x87\\xe8\\xa8\\x8a</a></li>\\r\\n\\t\\t\\t\\t\\t<li class=\"6\"><a>\\xe7\\x8d\\x8e\\xe5\\x8a\\xa9\\xe5\\xad\\xb8\\xe9\\x87\\x91</a></li>\\r\\n\\t\\t\\t\\t\\t<li class=\"7\"><a>\\xe5\\xbe\\xb5\\xe6\\x89\\x8d\\xe8\\xb3\\x87\\xe8\\xa8\\x8a</a></li>\\r\\n\\t\\t\\t\\t</ul>\\r\\n\\t\\t\\t</li>\\r\\n\\t\\r\\n\\t\\t</ul>\\r\\n\\t</div>\\r\\n\\t<!-- end #sidebar -->\\r\\n</div>\\r\\n<div id=\"footer\" class=\"container\">\\r\\n\\t<p>COPYRIGHT &copy; NCKU CCE. All rights reserved. Design by <a href=\"http://www.ee.ncku.edu.tw/\">NCKU EE</a>.</p>\\r\\n</div>\\r\\n\\r\\n\\r\\n\\r\\n</body>\\r\\n</html>\\r\\n'"
      ]
     },
     "execution_count": 132,
     "metadata": {},
     "output_type": "execute_result"
    }
   ],
   "source": [
    "res.content"
   ]
  },
  {
   "cell_type": "code",
   "execution_count": 137,
   "metadata": {},
   "outputs": [],
   "source": [
    "title = b'\\xe5\\x9c\\x8b\\xe7\\xab\\x8b\\xe6\\x88\\x90\\xe5\\x8a\\x9f\\xe5\\xa4\\xa7\\xe5\\xad\\xb8 \\xe9\\x9b\\xbb\\xe8\\x85\\xa6\\xe8\\x88\\x87\\xe9\\x80\\x9a\\xe4\\xbf\\xa1\\xe5\\xb7\\xa5\\xe7\\xa8\\x8b\\xe7\\xa0\\x94\\xe7\\xa9\\xb6\\xe6\\x89\\x80'"
   ]
  },
  {
   "cell_type": "code",
   "execution_count": 138,
   "metadata": {},
   "outputs": [
    {
     "data": {
      "text/plain": [
       "'國立成功大學 電腦與通信工程研究所'"
      ]
     },
     "execution_count": 138,
     "metadata": {},
     "output_type": "execute_result"
    }
   ],
   "source": [
    "title.decode('utf-8')"
   ]
  },
  {
   "cell_type": "code",
   "execution_count": 140,
   "metadata": {},
   "outputs": [
    {
     "data": {
      "text/plain": [
       "'å\\x9c\\x8bç«\\x8bæ\\x88\\x90å\\x8a\\x9få¤§å\\xad¸ é\\x9b»è\\x85¦è\\x88\\x87é\\x80\\x9aä¿¡å·¥ç¨\\x8bç\\xa0\\x94ç©¶æ\\x89\\x80'"
      ]
     },
     "execution_count": 140,
     "metadata": {},
     "output_type": "execute_result"
    }
   ],
   "source": [
    "title.decode('iso-8859-1')"
   ]
  },
  {
   "cell_type": "code",
   "execution_count": 130,
   "metadata": {},
   "outputs": [
    {
     "data": {
      "text/plain": [
       "'ISO-8859-1'"
      ]
     },
     "execution_count": 130,
     "metadata": {},
     "output_type": "execute_result"
    }
   ],
   "source": [
    "res.encoding"
   ]
  },
  {
   "cell_type": "code",
   "execution_count": 131,
   "metadata": {},
   "outputs": [
    {
     "data": {
      "text/plain": [
       "'<!DOCTYPE html PUBLIC \"-//W3C//DTD XHTML 1.0 Strict//EN\" \"http://www.w3.org/TR/xhtml1/DTD/xhtml1-strict.dtd\">\\r\\n\\r\\n<html xmlns=\"http://www.w3.org/1999/xhtml\">\\r\\n<head>\\r\\n<meta http-equiv=\"Content-Type\" content=\"text/html; charset=utf-8\" />\\r\\n<title>å\\x9c\\x8bç«\\x8bæ\\x88\\x90å\\x8a\\x9få¤§å\\xad¸ é\\x9b»è\\x85¦è\\x88\\x87é\\x80\\x9aä¿¡å·¥ç¨\\x8bç\\xa0\\x94ç©¶æ\\x89\\x80</title>\\r\\n<meta name=\"keywords\" content=\"\" />\\r\\n<meta name=\"description\" content=\"\" />\\r\\n<link href=\"http://fonts.googleapis.com/css?family=Open+Sans:400,300,600,700|Archivo+Narrow:400,700\" rel=\"stylesheet\" type=\"text/css\">\\r\\n<link href=\"default.css\" rel=\"stylesheet\" type=\"text/css\" media=\"all\" />\\r\\n<link rel=\"shortcut icon\" href=\"images/logo.ico\" />\\r\\n\\r\\n<!-- add jQuery-->\\r\\n<script src=\"https://ajax.googleapis.com/ajax/libs/jquery/1.11.3/jquery.min.js\"></script>\\r\\n<link rel=\"stylesheet\" href=\"https://ajax.googleapis.com/ajax/libs/jqueryui/1.11.4/themes/smoothness/jquery-ui.css\">\\r\\n<script src=\"https://ajax.googleapis.com/ajax/libs/jqueryui/1.11.4/jquery-ui.min.js\"></script>\\r\\n\\r\\n<!-- add my CSS-->\\r\\n<link href=\"add.css\" rel=\"stylesheet\"/>\\r\\n\\r\\n<!-- add my JS-->\\r\\n<script src=\"add.js\"></script>\\r\\n<script src=\"index.js\"></script>\\r\\n\\r\\n<!--[if IE 6]>\\r\\n<link href=\"default_ie6.css\" rel=\"stylesheet\" type=\"text/css\" />\\r\\n<![endif]-->\\r\\n</head>\\r\\n<body>\\r\\n\\r\\n\\r\\n\\r\\n<div id=\"header-wrapper\">\\r\\n\\t<div id=\"banner-img\">\\r\\n\\t\\t<div id=\"banner-font\" onclick=\"window.location=\\'index.php\\';\"></div>\\r\\n\\t\\t<div id=\"banner-subtitle\">\\r\\n\\t\\t\\t<div id=\"banner-subtitle-menu\">\\r\\n\\t\\t\\t\\t<ul>\\r\\n\\t\\t\\t\\t\\t<li><a class=\"1\" accesskey=\"1\" title=\"\" href=\"index.php\">å\\x9b\\x9eé¦\\x96é\\xa0\\x81</a></li>\\r\\n\\t\\t\\t\\t\\t<li class=\"xx\">|</li>\\r\\n\\t\\t\\t\\t\\t<li><a class=\"2\" accesskey=\"2\" title=\"\" href=\"http://office.ee.ncku.edu.tw/nckuime/\">è\\x88\\x8aç³»ç¶²</a></li>\\r\\n\\t\\t\\t\\t\\t<li class=\"xx\">|</li>\\r\\n\\t\\t\\t\\t\\t<li><a class=\"3\" accesskey=\"3\" title=\"\" href=\"mailto:mltung@mail.ncku.edu.tw\">è\\x81¯çµ¡æ\\x88\\x91å\\x80\\x91</a></li>\\r\\n\\t\\t\\t\\t\\t<li class=\"xx\">|</li>\\r\\n\\t\\t\\t\\t\\t<li><a class=\"4\" accesskey=\"4\" title=\"\" href=\"http://www.ee.ncku.edu.tw/sql_func/\">ç\\x99»å\\x85¥</a></li>\\r\\n\\t\\t\\t\\t\\t<li class=\"xx\">|</li>\\r\\n\\t\\t\\t\\t\\t<li><a class=\"5\" accesskey=\"5\" title=\"\" href=\"index_en.php\">English</a></li>\\r\\n\\t\\t\\t\\t</ul>\\r\\n\\t\\t\\t</div>\\r\\n\\t\\t\\t<input type=\"search\" id=\"search\" placeholder=\"Search...\" />\\r\\n\\t\\t</div>\\r\\n\\t</div>\\r\\n\\t\\r\\n\\t<div id=\"menu\">\\r\\n\\t\\t<center>\\r\\n\\t\\t\\t<ul>\\r\\n\\t\\t\\t\\t<li><a class=\"1\" accesskey=\"1\" title=\"\" href=\"news.php\">æ\\x9c\\x80æ\\x96°æ¶\\x88æ\\x81¯</a></li>\\r\\n\\t\\t\\t\\t<li><a class=\"2\" accesskey=\"2\" title=\"\" href=\"info.html\">ç³»æ\\x89\\x80ç°¡ä»\\x8b</a></li>\\r\\n\\t\\t\\t\\t<li><a class=\"3\" accesskey=\"3\" title=\"\" href=\"research.php\">ç\\xa0\\x94ç©¶é\\xa0\\x98å\\x9f\\x9f</a></li>\\r\\n\\t\\t\\t\\t<li><a class=\"4\" accesskey=\"4\" title=\"\" href=\"people.php\">æ\\x88\\x90å\\x93¡ä»\\x8bç´¹</a></li>\\r\\n\\t\\t\\t\\t<li><a class=\"5\" accesskey=\"5\" title=\"\" href=\"student.php\">å\\xad¸ç\\x94\\x9få°\\x88å\\x8d\\x80</a></li>\\r\\n\\t\\t\\t\\t<li><a class=\"6\" accesskey=\"6\" title=\"\" href=\"#\">ç\\x9b¸é\\x97\\x9cé\\x80£çµ\\x90</a></li>\\r\\n\\t\\t\\t</ul>\\r\\n\\t\\t</center>\\t\\t\\r\\n\\t</div>\\r\\n</div>\\r\\n\\r\\n<div id=\"banner-wrapper\">\\r\\n\\t\\r\\n\\t<div class=\"front\" id=\"1\">\\r\\n\\t\\t<div class=\"sub\" onclick=\\'location.href=\"news.php?1\"\\'>å\\x85¨é\\x83¨è³\\x87è¨\\x8a</div>\\r\\n\\t\\t<div class=\"sub\" onclick=\\'location.href=\"news.php?2\"\\'>ä¸\\x80è\\x88¬è³\\x87è¨\\x8a</div>\\r\\n\\t\\t<div class=\"sub\" onclick=\\'location.href=\"news.php?3\"\\'>æ\\x8b\\x9bç\\x94\\x9fè³\\x87è¨\\x8a</div>\\r\\n\\t\\t<div class=\"sub\" onclick=\\'location.href=\"news.php?4\"\\'>æ¼\\x94è¬\\x9bè³\\x87è¨\\x8a</div>\\r\\n\\t\\t<div class=\"sub\" onclick=\\'location.href=\"news.php?5\"\\'>ç\\x8d²ç\\x8d\\x8eè³\\x87è¨\\x8a</div>\\r\\n\\t\\t<div class=\"sub\" onclick=\\'location.href=\"news.php?6\"\\'>ç\\x8d\\x8eå\\x8a©å\\xad¸é\\x87\\x91</div>\\r\\n\\t\\t<div class=\"sub\" onclick=\\'location.href=\"news.php?7\"\\'>å¾µæ\\x89\\x8dè³\\x87è¨\\x8a</div>\\r\\n\\t</div>\\r\\n\\t\\r\\n\\t<!--\\r\\n\\t<div class=\"front\" id=\"2\">\\r\\n\\t\\t<div class=\"sub\">ç³»æ\\x89\\x80ä»\\x8bç´¹</div>\\r\\n\\t\\t<div class=\"sub\">ç³»å\\x8f²å¹´é\\x91\\x91</div>\\r\\n\\t\\t<div class=\"sub\">æ³\\x95è¦\\x8få½\\x99æ\\x95´</div>\\r\\n\\t\\t<div class=\"sub\">äº¤é\\x80\\x9aè³\\x87è¨\\x8a</div>\\r\\n\\t</div>\\r\\n\\t-->\\r\\n\\t<div class=\"front\" id=\"2\">\\r\\n\\t\\t<div class=\"sub\" onclick=\\'location.href=\"info.html?1\"\\'>æ\\x9c¬æ\\x89\\x80ä»\\x8bç´¹</div>\\r\\n\\t\\t<div class=\"sub\" onclick=\\'location.href=\"info.html?2\"\\'>æ\\x9c¬æ\\x89\\x80æ\\x9e¶æ§\\x8b</div>\\r\\n\\t\\t<div class=\"sub\" onclick=\\'location.href=\"info.html?3\"\\'>æ\\x95\\x99è\\x82²ç\\x9b®æ¨\\x99</div>\\r\\n\\t\\t<div class=\"sub\" onclick=\\'location.href=\"info.html?4\"\\'>å\\xad¸ç\\x94\\x9fæ\\xa0¸å¿\\x83è\\x83½å\\x8a\\x9bå\\x9f¹é¤\\x8a</div>\\r\\n\\t</div>\\r\\n\\t\\r\\n\\t\\r\\n\\t<div class=\"front\" id=\"3\">\\r\\n\\t\\t<div class=\"sub\" onclick=\\'location.href=\"research.php?1\"\\'>ç\\xa0\\x94ç©¶çµ\\x84å\\x88¥</div>\\r\\n\\t\\t<div class=\"sub\" onclick=\\'location.href=\"research.php?2\"\\'>ç\\xa0\\x94ç©¶ä¸»é¡\\x8c</div>\\r\\n\\t</div>\\r\\n\\r\\n\\t<div class=\"front\"  id=\"4\">\\r\\n\\t\\t<div class=\"sub\" onclick=\\'location.href=\"people.php?1\"\\'>å¸«è³\\x87é\\x99£å®¹</div>\\r\\n\\t\\t<div class=\"sub\" onclick=\\'location.href=\"people.php?2\"\\'>ç³»è¾¦æ\\x88\\x90å\\x93¡</div>\\r\\n\\t</div>\\r\\n\\r\\n\\t<div class=\"front\"  id=\"5\">\\r\\n\\t\\t<div class=\"sub\" onclick=\\'location.href=\"student.php?1\"\\'>èª²ç¨\\x8bä»\\x8bç´¹</div>\\r\\n\\t\\t<div class=\"sub\" onclick=\\'location.href=\"student.php?2\"\\'>è¦\\x8fç«\\xa0è¡¨æ\\xa0¼</div>\\r\\n\\t</div>\\r\\n\\r\\n\\t\\r\\n\\t<div class=\"front\"  id=\"6\">\\r\\n\\t\\t<div class=\"sub\" onclick=\"window.open(\\'http://web.ncku.edu.tw/bin/home.php\\');\">æ\\x88\\x90å\\x8a\\x9få¤§å\\xad¸</div>\\r\\n\\t\\t<div class=\"sub\" onclick=\"window.open(\\'http://www.eecs.ncku.edu.tw/bin/home.php\\');\">é\\x9b»è³\\x87å\\xad¸é\\x99¢</div>\\r\\n\\t\\t<div class=\"sub\" onclick=\"window.open(\\'http://www.ee.ncku.edu.tw/\\');\">é\\x9b»æ©\\x9få·¥ç¨\\x8bå\\xad¸ç³»</div>\\r\\n\\t\\t<div class=\"sub\" onclick=\"window.open(\\'http://ime.ee.ncku.edu.tw/\\');\">å¾®é\\x9b»å\\xad\\x90å·¥ç¨\\x8bç\\xa0\\x94ç©¶æ\\x89\\x80</div>\\r\\n\\t</div>\\r\\n\\r\\n\\t<div class=\"hr\">\\r\\n\\t</div>\\r\\n\\t\\r\\n</div>\\r\\n\\r\\n\\r\\n\\r\\n<div id=\"page\" class=\"container\">\\r\\n\\t\\r\\n\\t<div id=\"content\">\\r\\n\\t\\r\\n\\t<div id =\\'show\\'></div><div class=\\'1 show\\'><div class=\\'post\\'><table style=\\'width:100%\\'><colgroup><col width=\\'15%\\'><col width=\\'15%\\'><col width=\\'70%\\'></colgroup><tr><th>å\\x85¬å\\x91\\x8aæ\\x97¥æ\\x9c\\x9f</th><th>å\\x85¬å\\x91\\x8aå°\\x8dè±¡</th><th>å\\x85¬å\\x91\\x8aæ¨\\x99é¡\\x8c</th></tr><tr><td>2017-11-02</td><td>ç¢©å£«ç\\x8f\\xad</td><td style=\\'cursor:pointer\\' onclick=\\'load_announce(924)\\'><a href=\\'#\\'>107å\\xad¸å¹´åº¦é\\x9b»æ©\\x9fç³»æ\\x89\\x80(å\\x90«é\\x9b»æ©\\x9fã\\x80\\x81å¾®é\\x9b»å\\xad\\x90ã\\x80\\x81é\\x9b»é\\x80\\x9aã\\x80\\x81å¥\\x88ç±³)ç¢©å£«ç\\x8f\\xadç\\x94\\x84è©¦é\\x9d¢è©¦å\\x85¬å\\x91\\x8a(ç¢ºå®\\x9aç\\x89\\x88)</a></td></tr><tr><td>2017-11-01</td><td>å\\x85¨é\\x83¨</td><td style=\\'cursor:pointer\\' onclick=\\'load_announce(919)\\'><a href=\\'#\\'>èª\\xa0æ\\x91¯é\\x82\\x80è«\\x8b11/15(ä¸\\x89) TSIA 2017 å¹´æ\\x9c\\x83 (å¸\\xadæ¬¡æ\\x9c\\x89é\\x99\\x90ï¼\\x8cè«\\x8bå\\x84\\x98æ\\x97©ç·\\x9aä¸\\x8aå\\xa0±å\\x90\\x8d)</a></td></tr><tr><td>2017-11-01</td><td>å¤§å\\xad¸é\\x83¨</td><td style=\\'cursor:pointer\\' onclick=\\'load_announce(920)\\'><a href=\\'#\\'>106å\\xad¸å¹´äº\\x9eå¾·å®¢æ\\x9c\\x89ç¾\\x8eç\\x8d\\x8eå\\x8a©å\\xad¸é\\x87\\x91é\\x81\\x9eè£\\x9cå\\x85¬å\\x91\\x8aï¼\\x8cæ\\xad¡è¿\\x8eå¤§å\\xad¸é\\x83¨å\\x90\\x8cå\\xad¸ç\\x94³è«\\x8b</a></td></tr><tr><td>2017-11-01</td><td>å\\x85¨é\\x83¨</td><td style=\\'cursor:pointer\\' onclick=\\'load_announce(921)\\'><a href=\\'#\\'>[æ¼\\x94è¬\\x9bå\\x85¬å\\x91\\x8a]11/13 (ä¸\\x80) 18:00~20:00æ´ªå±\\x85è\\x90¬å\\x9f·è¡\\x8cé\\x95·å°\\x88é¡\\x8cæ¼\\x94è¬\\x9b</a></td></tr><tr><td>2017-11-01</td><td>å\\x85¨é\\x83¨</td><td style=\\'cursor:pointer\\' onclick=\\'load_announce(922)\\'><a href=\\'#\\'>[æ¼\\x94è¬\\x9bå\\x85¬å\\x91\\x8a]11/08 (ä¸\\x89) 14:00~16:00 Ir. Dr. Philip W. T. Pongå°\\x88é¡\\x8cæ¼\\x94è¬\\x9b</a></td></tr><tr><td>2017-11-01</td><td>å¤§å\\xad¸é\\x83¨</td><td style=\\'cursor:pointer\\' onclick=\\'load_announce(923)\\'><a href=\\'#\\'>é¼\\x93å\\x8bµå\\x84ªç§\\x80å¤§å°\\x88å\\xad¸ç\\x94\\x9få°±è®\\x80æ\\x88\\x90å\\x8a\\x9få¤§å\\xad¸é\\x9b»æ©\\x9fç³»ç\\xa0\\x94ç©¶æ\\x89\\x80ç¢©å£«ç\\x8f\\xadï¼\\x8cå·²é\\x96\\x8bå§\\x8bç\\x94³è«\\x8bï¼\\x8cæ\\x96¼11/20æ\\x88ªæ\\xad¢æ\\x94¶ä»¶ã\\x80\\x82</a></td></tr><tr><td>2017-10-31</td><td>ç¢©å£«ç\\x8f\\xad</td><td style=\\'cursor:pointer\\' onclick=\\'load_announce(917)\\'><a href=\\'#\\'>107å\\xad¸å¹´åº¦é\\x9b»æ©\\x9fç³»æ\\x89\\x80(å\\x90«é\\x9b»æ©\\x9fæ\\x89\\x80ã\\x80\\x81å¾®é\\x9b»å\\xad\\x90æ\\x89\\x80ã\\x80\\x81é\\x9b»é\\x80\\x9aæ\\x89\\x80ã\\x80\\x81å¥\\x88ç±³å\\xad¸ç¨\\x8b)ç¢©å£«ç\\x8f\\xadç\\x94\\x84è©¦é\\x9d¢è©¦ç¬¬äº\\x8cç\\x89\\x88å\\x85¬å\\x91\\x8a</a></td></tr><tr><td>2017-10-31</td><td>å\\x85¨é\\x83¨</td><td style=\\'cursor:pointer\\' onclick=\\'load_announce(918)\\'><a href=\\'#\\'>106å\\xad¸å¹´åº¦æ\\x96°ç\\x94\\x9fç\\x9b\\x83æ\\x9a¨ç³»é\\x9a\\x9bç\\x9b\\x83ç\\x94°å¾\\x91è³½ç\\x8d²ç\\x8d\\x8eå\\x90\\x8då\\x96®</a></td></tr></table></div></div><div class=\\'2\\'><div class=\\'post\\'><table style=\\'width:100%\\'><colgroup><col width=\\'15%\\'><col width=\\'15%\\'><col width=\\'70%\\'></colgroup><tr><th>å\\x85¬å\\x91\\x8aæ\\x97¥æ\\x9c\\x9f</th><th>å\\x85¬å\\x91\\x8aå°\\x8dè±¡</th><th>å\\x85¬å\\x91\\x8aæ¨\\x99é¡\\x8c</th></tr><tr><td>2017-11-01</td><td>å\\x85¨é\\x83¨</td><td style=\\'cursor:pointer\\' onclick=\\'load_announce(919)\\'><a href=\\'#\\'>èª\\xa0æ\\x91¯é\\x82\\x80è«\\x8b11/15(ä¸\\x89) TSIA 2017 å¹´æ\\x9c\\x83 (å¸\\xadæ¬¡æ\\x9c\\x89é\\x99\\x90ï¼\\x8cè«\\x8bå\\x84\\x98æ\\x97©ç·\\x9aä¸\\x8aå\\xa0±å\\x90\\x8d)</a></td></tr><tr><td>2017-10-26</td><td>å¤§å\\xad¸é\\x83¨</td><td style=\\'cursor:pointer\\' onclick=\\'load_announce(911)\\'><a href=\\'#\\'>2018ç§\\x8bå\\xad£ç\\x8f\\xad(107å¹´ä¸\\x8aå\\xad¸æ\\x9c\\x9f)ç³»ç´\\x9aäº¤æ\\x8f\\x9bç\\x94\\x9fç\\x94³è«\\x8bå\\x85¬å\\x91\\x8a_11/20å\\x89\\x8dæ\\x88ªæ\\xad¢ç\\x94³è«\\x8b</a></td></tr><tr><td>2017-10-26</td><td>å\\x85¨é\\x83¨</td><td style=\\'cursor:pointer\\' onclick=\\'load_announce(912)\\'><a href=\\'#\\'>11/1(ä¸\\x89)é\\x9b»æ©\\x9fç³»ç\\x84¡ç·\\x9aç¶²è·¯é\\x80²è¡\\x8cé\\x9f\\x8cé«\\x94æ\\x9b´æ\\x96°</a></td></tr><tr><td>2017-10-24</td><td>å¤§å\\xad¸é\\x83¨</td><td style=\\'cursor:pointer\\' onclick=\\'load_announce(908)\\'><a href=\\'#\\'>[è½\\x89ç\\x99¼]ä¸\\x8aé\\x8a\\x80ç§\\x91æ\\x8a\\x80æ\\x95\\x99è\\x82²å\\x9fºé\\x87\\x91æ\\x9c\\x83ã\\x80\\x8c2018 JIMTOFå¤§å\\xad¸ç\\x94\\x9fè¦\\x8bå\\xad¸å\\x9c\\x98ã\\x80\\x8då¾µé\\x81¸æ´»å\\x8b\\x95èµ·è·\\x91</a></td></tr><tr><td>2017-10-23</td><td>å¤§å\\xad¸é\\x83¨</td><td style=\\'cursor:pointer\\' onclick=\\'load_announce(891)\\'><a href=\\'#\\'>106å\\xad¸å¹´ç\\x95¢æ¥\\xadå°\\x88é¡\\x8cç«¶è³½å\\x8f\\x8aæ\\x88\\x90æ\\x9e\\x9cå±\\x95é\\xa0\\x88ç\\x9f¥</a></td></tr><tr><td>2017-10-23</td><td>å\\x85¨é\\x83¨</td><td style=\\'cursor:pointer\\' onclick=\\'load_announce(894)\\'><a href=\\'#\\'>106å¹´åº¦ç³»å\\x8f\\x8bå¤§æ\\x9c\\x83é«\\x98é\\x90µå°\\x88è»\\x8aå®\\x89æ\\x8e\\x92</a></td></tr><tr><td>2017-10-17</td><td>å\\x85¨é\\x83¨</td><td style=\\'cursor:pointer\\' onclick=\\'load_announce(887)\\'><a href=\\'#\\'>è²¡å\\x9c\\x98æ³\\x95äººæ\\x88\\x90é\\x9b»æ\\x96\\x87æ\\x95\\x99å\\x9fºé\\x87\\x91æ\\x9c\\x83-å\\x90\\x84ç³»å\\x8f\\x8bç\\x8d\\x8eå\\xad¸é\\x87\\x91ç\\x8d²ç\\x8d\\x8eå\\x85¬å\\x91\\x8a</a></td></tr><tr><td>2017-10-17</td><td>å\\x85¨é\\x83¨</td><td style=\\'cursor:pointer\\' onclick=\\'load_announce(888)\\'><a href=\\'#\\'>è²¡å\\x9c\\x98æ³\\x95äººæ\\x88\\x90é\\x9b»æ\\x96\\x87æ\\x95\\x99å\\x9fºé\\x87\\x91æ\\x9c\\x83-é\\x87\\x91ç\\x8e\\x89ç\\x8d\\x8eå\\xad¸é\\x87\\x91å\\x85¬å\\x91\\x8a</a></td></tr></table></div></div><div class=\\'3\\'><div class=\\'post\\'><table style=\\'width:100%\\'><colgroup><col width=\\'15%\\'><col width=\\'15%\\'><col width=\\'70%\\'></colgroup><tr><th>å\\x85¬å\\x91\\x8aæ\\x97¥æ\\x9c\\x9f</th><th>å\\x85¬å\\x91\\x8aå°\\x8dè±¡</th><th>å\\x85¬å\\x91\\x8aæ¨\\x99é¡\\x8c</th></tr><tr><td>2017-11-02</td><td>ç¢©å£«ç\\x8f\\xad</td><td style=\\'cursor:pointer\\' onclick=\\'load_announce(924)\\'><a href=\\'#\\'>107å\\xad¸å¹´åº¦é\\x9b»æ©\\x9fç³»æ\\x89\\x80(å\\x90«é\\x9b»æ©\\x9fã\\x80\\x81å¾®é\\x9b»å\\xad\\x90ã\\x80\\x81é\\x9b»é\\x80\\x9aã\\x80\\x81å¥\\x88ç±³)ç¢©å£«ç\\x8f\\xadç\\x94\\x84è©¦é\\x9d¢è©¦å\\x85¬å\\x91\\x8a(ç¢ºå®\\x9aç\\x89\\x88)</a></td></tr><tr><td>2017-10-31</td><td>ç¢©å£«ç\\x8f\\xad</td><td style=\\'cursor:pointer\\' onclick=\\'load_announce(917)\\'><a href=\\'#\\'>107å\\xad¸å¹´åº¦é\\x9b»æ©\\x9fç³»æ\\x89\\x80(å\\x90«é\\x9b»æ©\\x9fæ\\x89\\x80ã\\x80\\x81å¾®é\\x9b»å\\xad\\x90æ\\x89\\x80ã\\x80\\x81é\\x9b»é\\x80\\x9aæ\\x89\\x80ã\\x80\\x81å¥\\x88ç±³å\\xad¸ç¨\\x8b)ç¢©å£«ç\\x8f\\xadç\\x94\\x84è©¦é\\x9d¢è©¦ç¬¬äº\\x8cç\\x89\\x88å\\x85¬å\\x91\\x8a</a></td></tr><tr><td>2017-10-27</td><td>å\\x8d\\x9aå£«ç\\x8f\\xad</td><td style=\\'cursor:pointer\\' onclick=\\'load_announce(914)\\'><a href=\\'#\\'>107å\\xad¸å¹´åº¦å\\x8d\\x9aå£«ç\\x8f\\xadç\\x94\\x84è©¦é\\x9d¢è©¦å\\x85¬å\\x91\\x8a</a></td></tr><tr><td>2017-10-27</td><td>ç¢©å£«ç\\x8f\\xad</td><td style=\\'cursor:pointer\\' onclick=\\'load_announce(916)\\'><a href=\\'#\\'>107å\\xad¸å¹´åº¦é\\x9b»æ©\\x9fç³»æ\\x89\\x80(å\\x90«é\\x9b»æ©\\x9fæ\\x89\\x80ã\\x80\\x81å¾®é\\x9b»å\\xad\\x90æ\\x89\\x80ã\\x80\\x81é\\x9b»é\\x80\\x9aæ\\x89\\x80ã\\x80\\x81å¥\\x88ç±³å\\xad¸ç¨\\x8b)ç¢©å£«ç\\x8f\\xadç\\x94\\x84è©¦é\\x9d¢è©¦å\\x88\\x9dæ\\xad¥å\\x85¬å\\x91\\x8a</a></td></tr><tr><td>2017-10-26</td><td>å\\x85¨é\\x83¨</td><td style=\\'cursor:pointer\\' onclick=\\'load_announce(913)\\'><a href=\\'#\\'>107å\\xad¸å¹´åº¦é\\x9b»æ©\\x9fç³»æ\\x89\\x80(å\\x90«é\\x9b»æ©\\x9fæ\\x89\\x80ã\\x80\\x81å¾®é\\x9b»å\\xad\\x90æ\\x89\\x80ã\\x80\\x81é\\x9b»é\\x80\\x9aæ\\x89\\x80ã\\x80\\x81å¥\\x88ç±³å\\xad¸ç¨\\x8b)ç¢©å£«ç\\x8f\\xadç\\x94\\x84è©¦ç¬¬ä¸\\x80é\\x9a\\x8eæ®µé\\x8c\\x84å\\x8f\\x96å\\x90\\x8då\\x96®</a></td></tr><tr><td>2017-09-22</td><td>ç¢©å£«ç\\x8f\\xad</td><td style=\\'cursor:pointer\\' onclick=\\'load_announce(856)\\'><a href=\\'#\\'>ç¢©å£«ç\\x94\\x84è©¦å\\x80\\x8bäººå¯©æ\\x9f¥è³\\x87æ\\x96\\x99ç¶²é\\xa0\\x81å\\x8f\\x8aç¢©ç\\x94\\x84è³\\x87æ\\x96\\x99å¯\\x84å\\x9b\\x9eæ³¨æ\\x84\\x8fäº\\x8bé\\xa0\\x85</a></td></tr><tr><td>2017-09-18</td><td>å\\x85¨é\\x83¨</td><td style=\\'cursor:pointer\\' onclick=\\'load_announce(848)\\'><a href=\\'#\\'>å\\x9c\\x8bç«\\x8bæ\\x88\\x90å\\x8a\\x9få¤§å\\xad¸106å\\xad¸å¹´åº¦å¥\\x88ç±³ç©\\x8dé«\\x94é\\x9b»è·¯ç¢©å£«ç\\x8f\\xadå\\xad¸å\\x88\\x86å\\xad¸ç¨\\x8bèªªæ\\x98\\x8eæ\\x9c\\x83</a></td></tr><tr><td>2017-09-07</td><td>å\\x85¨é\\x83¨</td><td style=\\'cursor:pointer\\' onclick=\\'load_announce(842)\\'><a href=\\'#\\'>107ç¢©ç\\x94\\x84å\\x80\\x8bäººå¯©æ\\x9f¥è³\\x87æ\\x96\\x99ç¶²é\\xa0\\x81å°\\x87æ\\x96¼10/2é\\x96\\x8bæ\\x94¾</a></td></tr></table></div></div><div class=\\'4\\'><div class=\\'post\\'><table style=\\'width:100%\\'><colgroup><col width=\\'15%\\'><col width=\\'15%\\'><col width=\\'70%\\'></colgroup><tr><th>å\\x85¬å\\x91\\x8aæ\\x97¥æ\\x9c\\x9f</th><th>å\\x85¬å\\x91\\x8aå°\\x8dè±¡</th><th>å\\x85¬å\\x91\\x8aæ¨\\x99é¡\\x8c</th></tr><tr><td>2017-11-01</td><td>å\\x85¨é\\x83¨</td><td style=\\'cursor:pointer\\' onclick=\\'load_announce(921)\\'><a href=\\'#\\'>[æ¼\\x94è¬\\x9bå\\x85¬å\\x91\\x8a]11/13 (ä¸\\x80) 18:00~20:00æ´ªå±\\x85è\\x90¬å\\x9f·è¡\\x8cé\\x95·å°\\x88é¡\\x8cæ¼\\x94è¬\\x9b</a></td></tr><tr><td>2017-11-01</td><td>å\\x85¨é\\x83¨</td><td style=\\'cursor:pointer\\' onclick=\\'load_announce(922)\\'><a href=\\'#\\'>[æ¼\\x94è¬\\x9bå\\x85¬å\\x91\\x8a]11/08 (ä¸\\x89) 14:00~16:00 Ir. Dr. Philip W. T. Pongå°\\x88é¡\\x8cæ¼\\x94è¬\\x9b</a></td></tr><tr><td>2017-10-27</td><td>å\\x85¨é\\x83¨</td><td style=\\'cursor:pointer\\' onclick=\\'load_announce(906)\\'><a href=\\'#\\'>[æ¼\\x94è¬\\x9bå\\x85¬å\\x91\\x8a]11/6(ä¸\\x80) 11:00~13:00 å¥\\x87æ\\x99¯å\\x85\\x89é\\x9b»å\\x90³ç\\x82³æ\\x98\\x8cå\\x9f·è¡\\x8cé\\x95·å°\\x88é¡\\x8cæ¼\\x94è¬\\x9b(å\\xa0±å\\x90\\x8då·²æ\\x88ªæ\\xad¢)</a></td></tr><tr><td>2017-10-24</td><td>å\\x85¨é\\x83¨</td><td style=\\'cursor:pointer\\' onclick=\\'load_announce(896)\\'><a href=\\'#\\'>[æ¼\\x94è¬\\x9bå\\x85¬å\\x91\\x8a]11/3 (äº\\x94) 13:00~15:00 Alston Huangç¶\\x93ç\\x90\\x86å°\\x88é¡\\x8cæ¼\\x94è¬\\x9b</a></td></tr><tr><td>2017-10-24</td><td>å\\x85¨é\\x83¨</td><td style=\\'cursor:pointer\\' onclick=\\'load_announce(897)\\'><a href=\\'#\\'>[æ¼\\x94è¬\\x9bå\\x85¬å\\x91\\x8a]11/6 (ä¸\\x80) 18:00~20:00æ\\x9e\\x97ç«\\x8bæ\\x9d¾ç\\xa0\\x94ç©¶å\\x93¡å°\\x88é¡\\x8cæ¼\\x94è¬\\x9b</a></td></tr><tr><td>2017-10-24</td><td>å\\x85¨é\\x83¨</td><td style=\\'cursor:pointer\\' onclick=\\'load_announce(898)\\'><a href=\\'#\\'>[æ¼\\x94è¬\\x9bå\\x85¬å\\x91\\x8a]11/9 (å\\x9b\\x9b) 13:30~15:00é\\x99³å\\x9d¤æ¯\\x85å¿\\x83ç\\x90\\x86å¸«å°\\x88é¡\\x8cæ¼\\x94è¬\\x9b</a></td></tr><tr><td>2017-10-18</td><td>å\\x85¨é\\x83¨</td><td style=\\'cursor:pointer\\' onclick=\\'load_announce(889)\\'><a href=\\'#\\'>[æ¼\\x94è¬\\x9bå\\x85¬å\\x91\\x8a]10/30 (ä¸\\x80) 18:00~20:00æ\\x9d\\x8eæ³°å»£è³\\x87æ·±å·¥ç¨\\x8bå¸«å°\\x88é¡\\x8cæ¼\\x94è¬\\x9b</a></td></tr><tr><td>2017-10-17</td><td>å\\x85¨é\\x83¨</td><td style=\\'cursor:pointer\\' onclick=\\'load_announce(886)\\'><a href=\\'#\\'>[æ¼\\x94è¬\\x9bå\\x85¬å\\x91\\x8a]10/31 (äº\\x8c) 10:00~12:00 Dr. Donald Changå°\\x88é¡\\x8cæ¼\\x94è¬\\x9b</a></td></tr></table></div></div><div class=\\'5\\'><div class=\\'post\\'><table style=\\'width:100%\\'><colgroup><col width=\\'15%\\'><col width=\\'15%\\'><col width=\\'70%\\'></colgroup><tr><th>å\\x85¬å\\x91\\x8aæ\\x97¥æ\\x9c\\x9f</th><th>å\\x85¬å\\x91\\x8aå°\\x8dè±¡</th><th>å\\x85¬å\\x91\\x8aæ¨\\x99é¡\\x8c</th></tr><tr><td>2017-10-31</td><td>å\\x85¨é\\x83¨</td><td style=\\'cursor:pointer\\' onclick=\\'load_announce(918)\\'><a href=\\'#\\'>106å\\xad¸å¹´åº¦æ\\x96°ç\\x94\\x9fç\\x9b\\x83æ\\x9a¨ç³»é\\x9a\\x9bç\\x9b\\x83ç\\x94°å¾\\x91è³½ç\\x8d²ç\\x8d\\x8eå\\x90\\x8då\\x96®</a></td></tr><tr><td>2017-10-23</td><td>å\\x85¨é\\x83¨</td><td style=\\'cursor:pointer\\' onclick=\\'load_announce(893)\\'><a href=\\'#\\'>æ\\x81\\xadè³\\x80æ\\x9c¬ç³»æ\\x9e\\x97å¿\\x97é\\x9a\\x86ã\\x80\\x81å\\x8a\\x89æ\\x96\\x87è¶\\x85æ\\x95\\x99æ\\x8e\\x88æ\\x8c\\x87å°\\x8eå\\xad¸ç\\x94\\x9få\\x88\\x86å\\x88¥æ¦®ç\\x8d²2017 TIEEE ç¬¬ä¸\\x83å±\\x86æ\\x9c\\x80ä½³ç¢©å\\x8d\\x9aå£«è«\\x96æ\\x96\\x87ç\\x8d\\x8eã\\x80\\x8cæ\\x9c\\x80ä½³å\\x8d\\x9aå£«è«\\x96æ\\x96\\x87ç\\x8d\\x8eã\\x80\\x8då\\x8f\\x8aã\\x80\\x8cæ\\x9c\\x80ä½³ç¢©å£«è«\\x96æ\\x96\\x87ç\\x8d\\x8eã\\x80\\x8d</a></td></tr><tr><td>2017-10-23</td><td>å\\x85¨é\\x83¨</td><td style=\\'cursor:pointer\\' onclick=\\'load_announce(895)\\'><a href=\\'#\\'>è³\\x80~è§£å·½è©\\x95æ\\x95\\x99æ\\x8e\\x88æ\\x8c\\x87å°\\x8eå\\xad¸ç\\x94\\x9fé\\x99³äººè±ªï¼\\x8cé\\x83\\xadå\\xad\\x90ç\\x91\\x9bï¼\\x8cç\\x8e\\x8bå\\x84·åª\\x9bï¼\\x8cç´\\x80å¾·æ¬£ï¼\\x8cé\\x82±ç\\x90®ç\\x9a\\x93æ¦®ç\\x8d²\"106å¹´åº¦ä½\\x8eå£\\x93æ\\x99ºæ\\x85§é\\x9b»è¡¨å¤§æ\\x95¸æ\\x93\\x9aå\\x88\\x86æ\\x9e\\x90è\\x88\\x87è¨\\xadè¨\\x88ç«¶è³½\"ä½³ä½\\x9c</a></td></tr><tr><td>2017-10-20</td><td>å\\x85¨é\\x83¨</td><td style=\\'cursor:pointer\\' onclick=\\'load_announce(890)\\'><a href=\\'#\\'>è³\\x80~æ¥\\x8aå®\\x8fæ¾¤æ\\x95\\x99æ\\x8e\\x88æ\\x8c\\x87å°\\x8eå\\xad¸ç\\x94\\x9få\\x94\\x90æ\\x96\\x87ä¿\\x8aã\\x80\\x81å\\x90³æ\\x80¡è\\x90±æ¦®ç\\x8d²\"106å¹´åº¦ä½\\x8eå£\\x93æ\\x99ºæ\\x85§é\\x9b»è¡¨å¤§æ\\x95¸æ\\x93\\x9aå\\x88\\x86æ\\x9e\\x90è\\x88\\x87è¨\\xadè¨\\x88ç«¶è³½\"ç\\x89¹å\\x84ªç\\x8d\\x8e</a></td></tr><tr><td>2017-10-16</td><td>å\\x85¨é\\x83¨</td><td style=\\'cursor:pointer\\' onclick=\\'load_announce(883)\\'><a href=\\'#\\'>è³\\x80~é«\\x98å\\x9c\\x8bè\\x88\\x88æ\\x95\\x99æ\\x8e\\x88æ\\x8c\\x87å°\\x8eå\\xad¸ç\\x94\\x9fè\\x83¡ä½³ç\\x91©è\\x93\\x89æ¦®ç\\x8d²ä¸\\xadå\\x9c\\x8bé\\x9b»æ©\\x9få·¥ç¨\\x8bå\\xad¸æ\\x9c\\x83106å¹´åº¦ã\\x80\\x8cé\\x9d\\x92å¹´è«\\x96æ\\x96\\x87ç\\x8d\\x8eã\\x80\\x8dç¬¬ä¸\\x89å\\x90\\x8d</a></td></tr><tr><td>2017-10-16</td><td>å\\x85¨é\\x83¨</td><td style=\\'cursor:pointer\\' onclick=\\'load_announce(884)\\'><a href=\\'#\\'>è³\\x80~æ\\x9e\\x97å¿\\x97é\\x9a\\x86æ\\x95\\x99æ\\x8e\\x88æ¦®ç\\x8d²ä¸\\xadå\\x9c\\x8bé\\x9b»æ©\\x9få·¥ç¨\\x8bå\\xad¸æ\\x9c\\x83106å¹´åº¦ã\\x80\\x8cå\\x82\\x91å\\x87ºé\\x9b»æ©\\x9få·¥ç¨\\x8bæ\\x95\\x99æ\\x8e\\x88ç\\x8d\\x8eã\\x80\\x8d</a></td></tr><tr><td>2017-10-11</td><td>å\\x85¨é\\x83¨</td><td style=\\'cursor:pointer\\' onclick=\\'load_announce(875)\\'><a href=\\'#\\'>105å\\xad¸å¹´åº¦å¾®ç©\\x8då\\x88\\x86ã\\x80\\x81ç¶\\x93æ¿\\x9få\\xad¸ç«¶è©¦ï¼\\x8cç\\x8d²ç\\x8d\\x8eå\\x90\\x8då\\x96®</a></td></tr><tr><td>2017-08-28</td><td>å\\x85¨é\\x83¨</td><td style=\\'cursor:pointer\\' onclick=\\'load_announce(832)\\'><a href=\\'#\\'>æ\\x81\\xadè³\\x80ï¼\\x81é\\x99³é\\x80²è\\x88\\x88æ\\x95\\x99æ\\x8e\\x88æ\\x8c\\x87å°\\x8eå\\x8d\\x9aç\\x8f\\xadç\\x95¢æ¥\\xadç\\x94\\x9fç\\x8e\\x8bæ\\x95¬æ\\x96\\x87å\\x8d\\x9aå£«ç\\x95¶é\\x81¸é«\\x98é\\x9b\\x84æ\\x87\\x89ç\\x94¨ç§\\x91æ\\x8a\\x80å¤§å\\xad¸é\\x9b»è³\\x87å\\xad¸é\\x99¢é\\x99¢é\\x95·</a></td></tr></table></div></div><div class=\\'6\\'><div class=\\'post\\'><table style=\\'width:100%\\'><colgroup><col width=\\'15%\\'><col width=\\'15%\\'><col width=\\'70%\\'></colgroup><tr><th>å\\x85¬å\\x91\\x8aæ\\x97¥æ\\x9c\\x9f</th><th>å\\x85¬å\\x91\\x8aå°\\x8dè±¡</th><th>å\\x85¬å\\x91\\x8aæ¨\\x99é¡\\x8c</th></tr><tr><td>2017-11-01</td><td>å¤§å\\xad¸é\\x83¨</td><td style=\\'cursor:pointer\\' onclick=\\'load_announce(920)\\'><a href=\\'#\\'>106å\\xad¸å¹´äº\\x9eå¾·å®¢æ\\x9c\\x89ç¾\\x8eç\\x8d\\x8eå\\x8a©å\\xad¸é\\x87\\x91é\\x81\\x9eè£\\x9cå\\x85¬å\\x91\\x8aï¼\\x8cæ\\xad¡è¿\\x8eå¤§å\\xad¸é\\x83¨å\\x90\\x8cå\\xad¸ç\\x94³è«\\x8b</a></td></tr><tr><td>2017-11-01</td><td>å¤§å\\xad¸é\\x83¨</td><td style=\\'cursor:pointer\\' onclick=\\'load_announce(923)\\'><a href=\\'#\\'>é¼\\x93å\\x8bµå\\x84ªç§\\x80å¤§å°\\x88å\\xad¸ç\\x94\\x9få°±è®\\x80æ\\x88\\x90å\\x8a\\x9få¤§å\\xad¸é\\x9b»æ©\\x9fç³»ç\\xa0\\x94ç©¶æ\\x89\\x80ç¢©å£«ç\\x8f\\xadï¼\\x8cå·²é\\x96\\x8bå§\\x8bç\\x94³è«\\x8bï¼\\x8cæ\\x96¼11/20æ\\x88ªæ\\xad¢æ\\x94¶ä»¶ã\\x80\\x82</a></td></tr><tr><td>2017-10-27</td><td>å\\x85¨é\\x83¨</td><td style=\\'cursor:pointer\\' onclick=\\'load_announce(915)\\'><a href=\\'#\\'>æ¦®ç\\x8d²106å\\xad¸å¹´åº¦ä¸\\x8aå\\xad¸æ\\x9c\\x9f å\\xad\\x94ä»¤æ´\\x8bæ\\x95\\x99æ\\x8e\\x88ç´\\x80å¿µç\\x8d\\x8eå\\xad¸é\\x87\\x91ï¼\\x8cè«\\x8bå\\x8b\\x99å¿\\x85å\\x8f\\x83å\\x8a\\xa0ç³»å\\x8f\\x8bå¤§æ\\x9c\\x83é\\xa0\\x92ç\\x8d\\x8eè¡¨æ\\x8f\\x9a</a></td></tr><tr><td>2017-10-26</td><td>å\\x85¨é\\x83¨</td><td style=\\'cursor:pointer\\' onclick=\\'load_announce(910)\\'><a href=\\'#\\'>è³\\x80~æ\\x9d\\x8eå¿\\xa0æ\\x86²æ\\x95\\x99æ\\x8e\\x88æ\\x8c\\x87å°\\x8eå\\xad¸ç\\x94\\x9fé\\x99¸å\\x86\\xa0ç«¹ï¼\\x8cå\\x8a\\x89å¥\\x95è³¢ï¼\\x8cå\\x8a\\x89å·\\x9dç¶±æ¦®ç\\x8d²TANET2017æ\\x9c\\x80ä½³è«\\x96æ\\x96\\x87ç\\x8d\\x8eä½³ä½\\x9c</a></td></tr><tr><td>2017-10-02</td><td>å\\x85¨é\\x83¨</td><td style=\\'cursor:pointer\\' onclick=\\'load_announce(869)\\'><a href=\\'#\\'>106å\\xad¸å¹´åº¦ç¬¬ä¸\\x80å\\xad¸æ\\x9c\\x9fç\\xa0\\x94ç©¶ç\\x94\\x9fç\\x8d\\x8eå\\x8a©å\\xad¸é\\x87\\x91ï¼\\x8cå\\x8d³æ\\x97¥èµ·é\\x96\\x8bå§\\x8bç\\x94³è«\\x8bï¼\\x8cæ\\x88ªæ\\xad¢æ\\x97¥æ\\x9c\\x9fè\\x87³10æ\\x9c\\x8813æ\\x97¥</a></td></tr><tr><td>2017-09-19</td><td>å¤§å\\xad¸é\\x83¨</td><td style=\\'cursor:pointer\\' onclick=\\'load_announce(851)\\'><a href=\\'#\\'>äº\\x9eå¾·å®¢æ\\x9c\\x89ç¾\\x8eå\\x8a©å\\xad¸é\\x87\\x91106ä¸\\x8aå\\xad¸æ\\x9c\\x9få·²é\\x96\\x8bå§\\x8bç\\x94³è«\\x8bï¼\\x8cè«\\x8bå\\x82\\x99å¦¥è³\\x87æ\\x96\\x99æ\\x96¼106/10/6ä¸\\xadå\\x8d\\x88å\\x89\\x8dç¹³äº¤è\\x87³é\\x9b»æ©\\x9fç³»ç³»è¾¦å\\x85¬å®¤</a></td></tr><tr><td>2017-09-15</td><td>å\\x85¨é\\x83¨</td><td style=\\'cursor:pointer\\' onclick=\\'load_announce(847)\\'><a href=\\'#\\'>106ä¸\\x8aè²¡å\\x9c\\x98æ³\\x95äººæ½\\x98æ\\x96\\x87æ·µæ\\x96\\x87æ\\x95\\x99å\\x9fºé\\x87\\x91æ\\x9c\\x83ç\\x8d\\x8eå\\xad¸é\\x87\\x91å\\x85¬å\\x91\\x8aï¼\\x8cè\\x87³9/20æ\\x88ªæ\\xad¢</a></td></tr><tr><td>2017-08-30</td><td>å¤§å\\xad¸é\\x83¨</td><td style=\\'cursor:pointer\\' onclick=\\'load_announce(839)\\'><a href=\\'#\\'>ã\\x80\\x90æ´ªè\\x82\\x87å¥\\x8eå\\x8d\\x9aå£«ç´\\x80å¿µç\\x8d\\x8eå\\xad¸é\\x87\\x91ã\\x80\\x91 å\\x8d³æ\\x97¥èµ·è\\x87³9/20, é\\x96\\x8bæ\\x94¾ç\\x94³è«\\x8b,æ¯\\x8få\\x90\\x8dæ¯\\x8få¹´äº\\x8cè\\x90¬å\\x85\\x83ã\\x80\\x82</a></td></tr></table></div></div><div class=\\'7\\'><div class=\\'post\\'><table style=\\'width:100%\\'><colgroup><col width=\\'15%\\'><col width=\\'15%\\'><col width=\\'70%\\'></colgroup><tr><th>å\\x85¬å\\x91\\x8aæ\\x97¥æ\\x9c\\x9f</th><th>å\\x85¬å\\x91\\x8aå°\\x8dè±¡</th><th>å\\x85¬å\\x91\\x8aæ¨\\x99é¡\\x8c</th></tr><tr><td>2017-10-26</td><td>å\\x85¨é\\x83¨</td><td style=\\'cursor:pointer\\' onclick=\\'load_announce(909)\\'><a href=\\'#\\'>[è½\\x89ç\\x99¼]11/2(å\\x9b\\x9b) 12:00-13:00å\\x85\\x89å¯¶ç§\\x91æ\\x8a\\x80107å¹´åº¦ç\\xa0\\x94æ\\x9b¿æ\\x8b\\x9bå\\x8b\\x9fæ´»å\\x8b\\x95(å\\x82\\x99æ\\x9c\\x89é¤\\x90é»\\x9e)</a></td></tr><tr><td>2017-10-11</td><td>å\\x85¨é\\x83¨</td><td style=\\'cursor:pointer\\' onclick=\\'load_announce(876)\\'><a href=\\'#\\'>[è½\\x89ç\\x99¼]2018å\\x8f°ç©\\x8dé\\x9b»ç\\xa0\\x94ç\\x99¼æ\\x9b¿ä»£å½¹æ\\x9a¨é\\xa0\\x90è\\x81\\x98è¨\\x88ç\\x95«èªªæ\\x98\\x8eæ\\x9c\\x83</a></td></tr><tr><td>2017-10-11</td><td>å\\x85¨é\\x83¨</td><td style=\\'cursor:pointer\\' onclick=\\'load_announce(877)\\'><a href=\\'#\\'>[è½\\x89ç\\x99¼]è\\x8f¯ç¢©é\\x9b»è\\x85¦2018ç\\xa0\\x94ç\\x99¼æ\\x9b¿ä»£å½¹å¾µæ\\x89\\x8d</a></td></tr><tr><td>2017-10-05</td><td>å\\x85¨é\\x83¨</td><td style=\\'cursor:pointer\\' onclick=\\'load_announce(872)\\'><a href=\\'#\\'>[è½\\x89ç\\x99¼]å»£é\\x81\\x94é\\x9b»è\\x85¦2018é\\xa0\\x90è\\x81\\x98æ\\x88\\x96ç\\xa0\\x94æ\\x9b¿èªªæ\\x98\\x8eæ\\x9c\\x8310/17_12:10@æ\\x88\\x90å¤§ï¼\\x8cé\\xa0\\x90è¦\\x8bæ\\x9cªä¾\\x86ã\\x80\\x81å½¹å\\x9c\\x93å¤¢æ\\x83³ï¼\\x81</a></td></tr><tr><td>2017-10-05</td><td>å\\x85¨é\\x83¨</td><td style=\\'cursor:pointer\\' onclick=\\'load_announce(873)\\'><a href=\\'#\\'>[è½\\x89ç\\x99¼]2018å¹´åº¦é´»æµ·ç§\\x91æ\\x8a\\x80é\\x9b\\x86å\\x9c\\x98ç\\xa0\\x94ç\\x99¼æ\\x9b¿ä»£å½¹æ\\x8b\\x9bå\\x8b\\x9f</a></td></tr><tr><td>2017-10-02</td><td>å\\x85¨é\\x83¨</td><td style=\\'cursor:pointer\\' onclick=\\'load_announce(870)\\'><a href=\\'#\\'>è\\x8f¯é\\x82¦é\\x9b»å\\xad\\x90è\\x88\\x87æ\\x88\\x90å¤§é\\x9b»è³\\x87å\\xad¸é\\x99¢ä¹\\x8bã\\x80\\x8cç\\xa0\\x94ç\\x99¼è\\x8f\\x81è\\x8b±è¨\\x88ç\\x95«ã\\x80\\x8däººæ\\x89\\x8dæ\\x8b\\x9bå\\x8b\\x9få¾µé\\x81¸è¨\\x8aæ\\x81¯(è«\\x8bæ\\x96¼10/20å\\x89\\x8dæ\\x8f\\x90å\\x87ºç\\x94³è«\\x8b)</a></td></tr><tr><td>2017-09-27</td><td>å\\x85¨é\\x83¨</td><td style=\\'cursor:pointer\\' onclick=\\'load_announce(850)\\'><a href=\\'#\\'>å\\x9c\\x8bç«\\x8bæ\\x88\\x90å\\x8a\\x9få¤§å\\xad¸é\\x9b»æ©\\x9få·¥ç¨\\x8bç³»/é\\x9b»è\\x85¦è\\x88\\x87é\\x80\\x9aä¿¡å·¥ç¨\\x8bç\\xa0\\x94ç©¶æ\\x89\\x80/å¾®é\\x9b»å\\xad\\x90å·¥ç¨\\x8bç\\xa0\\x94ç©¶æ\\x89\\x80 å¾µæ±\\x82å¸«è³\\x87å\\x85¬å\\x91\\x8a èª\\xa0å¾µå°\\x88ä»»æ\\x95\\x99å¸«</a></td></tr><tr><td>2017-09-27</td><td>å\\x85¨é\\x83¨</td><td style=\\'cursor:pointer\\' onclick=\\'load_announce(865)\\'><a href=\\'#\\'>[è½\\x89ç\\x99¼]æ\\x99¶å\\x85\\x83å\\x85\\x89é\\x9b»ï¼\\x8dæ\\xad¡è¿\\x8eå\\x9c¨å\\xad¸å\\x90\\x8cå\\xad¸å¯¦ç¿\\x92ï¼\\x81</a></td></tr></table></div></div>\\t\\r\\n\\t\\r\\n\\t\\r\\n\\t\\t<div style=\"clear: both;\">&nbsp;</div>\\r\\n\\t</div>\\r\\n\\t<!-- end #content -->\\r\\n\\t<div id=\"sidebar\">\\r\\n\\t\\t<ul>\\r\\n\\t\\t\\t<li>\\r\\n\\t\\t\\t\\t<h2>æ\\x9c\\x80æ\\x96°æ¶\\x88æ\\x81¯</h2>\\r\\n\\t\\t\\t\\t<ul>\\r\\n\\t\\t\\t\\t\\t<li class=\"1 active\"><a>å\\x85¨é\\x83¨è³\\x87è¨\\x8a</a></li>\\r\\n\\t\\t\\t\\t\\t<li class=\"2\"><a>ä¸\\x80è\\x88¬è³\\x87è¨\\x8a</a></li>\\r\\n\\t\\t\\t\\t\\t<li class=\"3\"><a>æ\\x8b\\x9bç\\x94\\x9fè³\\x87è¨\\x8a</a></li>\\r\\n\\t\\t\\t\\t\\t<li class=\"4\"><a>æ¼\\x94è¬\\x9bè³\\x87è¨\\x8a</a></li>\\r\\n\\t\\t\\t\\t\\t<li class=\"5\"><a>ç\\x8d²ç\\x8d\\x8eè³\\x87è¨\\x8a</a></li>\\r\\n\\t\\t\\t\\t\\t<li class=\"6\"><a>ç\\x8d\\x8eå\\x8a©å\\xad¸é\\x87\\x91</a></li>\\r\\n\\t\\t\\t\\t\\t<li class=\"7\"><a>å¾µæ\\x89\\x8dè³\\x87è¨\\x8a</a></li>\\r\\n\\t\\t\\t\\t</ul>\\r\\n\\t\\t\\t</li>\\r\\n\\t\\r\\n\\t\\t</ul>\\r\\n\\t</div>\\r\\n\\t<!-- end #sidebar -->\\r\\n</div>\\r\\n<div id=\"footer\" class=\"container\">\\r\\n\\t<p>COPYRIGHT &copy; NCKU CCE. All rights reserved. Design by <a href=\"http://www.ee.ncku.edu.tw/\">NCKU EE</a>.</p>\\r\\n</div>\\r\\n\\r\\n\\r\\n\\r\\n</body>\\r\\n</html>\\r\\n'"
      ]
     },
     "execution_count": 131,
     "metadata": {},
     "output_type": "execute_result"
    }
   ],
   "source": [
    "res.text"
   ]
  },
  {
   "cell_type": "code",
   "execution_count": 133,
   "metadata": {},
   "outputs": [],
   "source": [
    "res.encoding = 'utf-8'"
   ]
  },
  {
   "cell_type": "code",
   "execution_count": 134,
   "metadata": {},
   "outputs": [
    {
     "data": {
      "text/plain": [
       "'utf-8'"
      ]
     },
     "execution_count": 134,
     "metadata": {},
     "output_type": "execute_result"
    }
   ],
   "source": [
    "res.encoding"
   ]
  },
  {
   "cell_type": "code",
   "execution_count": 135,
   "metadata": {},
   "outputs": [
    {
     "data": {
      "text/plain": [
       "'<!DOCTYPE html PUBLIC \"-//W3C//DTD XHTML 1.0 Strict//EN\" \"http://www.w3.org/TR/xhtml1/DTD/xhtml1-strict.dtd\">\\r\\n\\r\\n<html xmlns=\"http://www.w3.org/1999/xhtml\">\\r\\n<head>\\r\\n<meta http-equiv=\"Content-Type\" content=\"text/html; charset=utf-8\" />\\r\\n<title>國立成功大學 電腦與通信工程研究所</title>\\r\\n<meta name=\"keywords\" content=\"\" />\\r\\n<meta name=\"description\" content=\"\" />\\r\\n<link href=\"http://fonts.googleapis.com/css?family=Open+Sans:400,300,600,700|Archivo+Narrow:400,700\" rel=\"stylesheet\" type=\"text/css\">\\r\\n<link href=\"default.css\" rel=\"stylesheet\" type=\"text/css\" media=\"all\" />\\r\\n<link rel=\"shortcut icon\" href=\"images/logo.ico\" />\\r\\n\\r\\n<!-- add jQuery-->\\r\\n<script src=\"https://ajax.googleapis.com/ajax/libs/jquery/1.11.3/jquery.min.js\"></script>\\r\\n<link rel=\"stylesheet\" href=\"https://ajax.googleapis.com/ajax/libs/jqueryui/1.11.4/themes/smoothness/jquery-ui.css\">\\r\\n<script src=\"https://ajax.googleapis.com/ajax/libs/jqueryui/1.11.4/jquery-ui.min.js\"></script>\\r\\n\\r\\n<!-- add my CSS-->\\r\\n<link href=\"add.css\" rel=\"stylesheet\"/>\\r\\n\\r\\n<!-- add my JS-->\\r\\n<script src=\"add.js\"></script>\\r\\n<script src=\"index.js\"></script>\\r\\n\\r\\n<!--[if IE 6]>\\r\\n<link href=\"default_ie6.css\" rel=\"stylesheet\" type=\"text/css\" />\\r\\n<![endif]-->\\r\\n</head>\\r\\n<body>\\r\\n\\r\\n\\r\\n\\r\\n<div id=\"header-wrapper\">\\r\\n\\t<div id=\"banner-img\">\\r\\n\\t\\t<div id=\"banner-font\" onclick=\"window.location=\\'index.php\\';\"></div>\\r\\n\\t\\t<div id=\"banner-subtitle\">\\r\\n\\t\\t\\t<div id=\"banner-subtitle-menu\">\\r\\n\\t\\t\\t\\t<ul>\\r\\n\\t\\t\\t\\t\\t<li><a class=\"1\" accesskey=\"1\" title=\"\" href=\"index.php\">回首頁</a></li>\\r\\n\\t\\t\\t\\t\\t<li class=\"xx\">|</li>\\r\\n\\t\\t\\t\\t\\t<li><a class=\"2\" accesskey=\"2\" title=\"\" href=\"http://office.ee.ncku.edu.tw/nckuime/\">舊系網</a></li>\\r\\n\\t\\t\\t\\t\\t<li class=\"xx\">|</li>\\r\\n\\t\\t\\t\\t\\t<li><a class=\"3\" accesskey=\"3\" title=\"\" href=\"mailto:mltung@mail.ncku.edu.tw\">聯絡我們</a></li>\\r\\n\\t\\t\\t\\t\\t<li class=\"xx\">|</li>\\r\\n\\t\\t\\t\\t\\t<li><a class=\"4\" accesskey=\"4\" title=\"\" href=\"http://www.ee.ncku.edu.tw/sql_func/\">登入</a></li>\\r\\n\\t\\t\\t\\t\\t<li class=\"xx\">|</li>\\r\\n\\t\\t\\t\\t\\t<li><a class=\"5\" accesskey=\"5\" title=\"\" href=\"index_en.php\">English</a></li>\\r\\n\\t\\t\\t\\t</ul>\\r\\n\\t\\t\\t</div>\\r\\n\\t\\t\\t<input type=\"search\" id=\"search\" placeholder=\"Search...\" />\\r\\n\\t\\t</div>\\r\\n\\t</div>\\r\\n\\t\\r\\n\\t<div id=\"menu\">\\r\\n\\t\\t<center>\\r\\n\\t\\t\\t<ul>\\r\\n\\t\\t\\t\\t<li><a class=\"1\" accesskey=\"1\" title=\"\" href=\"news.php\">最新消息</a></li>\\r\\n\\t\\t\\t\\t<li><a class=\"2\" accesskey=\"2\" title=\"\" href=\"info.html\">系所簡介</a></li>\\r\\n\\t\\t\\t\\t<li><a class=\"3\" accesskey=\"3\" title=\"\" href=\"research.php\">研究領域</a></li>\\r\\n\\t\\t\\t\\t<li><a class=\"4\" accesskey=\"4\" title=\"\" href=\"people.php\">成員介紹</a></li>\\r\\n\\t\\t\\t\\t<li><a class=\"5\" accesskey=\"5\" title=\"\" href=\"student.php\">學生專區</a></li>\\r\\n\\t\\t\\t\\t<li><a class=\"6\" accesskey=\"6\" title=\"\" href=\"#\">相關連結</a></li>\\r\\n\\t\\t\\t</ul>\\r\\n\\t\\t</center>\\t\\t\\r\\n\\t</div>\\r\\n</div>\\r\\n\\r\\n<div id=\"banner-wrapper\">\\r\\n\\t\\r\\n\\t<div class=\"front\" id=\"1\">\\r\\n\\t\\t<div class=\"sub\" onclick=\\'location.href=\"news.php?1\"\\'>全部資訊</div>\\r\\n\\t\\t<div class=\"sub\" onclick=\\'location.href=\"news.php?2\"\\'>一般資訊</div>\\r\\n\\t\\t<div class=\"sub\" onclick=\\'location.href=\"news.php?3\"\\'>招生資訊</div>\\r\\n\\t\\t<div class=\"sub\" onclick=\\'location.href=\"news.php?4\"\\'>演講資訊</div>\\r\\n\\t\\t<div class=\"sub\" onclick=\\'location.href=\"news.php?5\"\\'>獲獎資訊</div>\\r\\n\\t\\t<div class=\"sub\" onclick=\\'location.href=\"news.php?6\"\\'>獎助學金</div>\\r\\n\\t\\t<div class=\"sub\" onclick=\\'location.href=\"news.php?7\"\\'>徵才資訊</div>\\r\\n\\t</div>\\r\\n\\t\\r\\n\\t<!--\\r\\n\\t<div class=\"front\" id=\"2\">\\r\\n\\t\\t<div class=\"sub\">系所介紹</div>\\r\\n\\t\\t<div class=\"sub\">系史年鑑</div>\\r\\n\\t\\t<div class=\"sub\">法規彙整</div>\\r\\n\\t\\t<div class=\"sub\">交通資訊</div>\\r\\n\\t</div>\\r\\n\\t-->\\r\\n\\t<div class=\"front\" id=\"2\">\\r\\n\\t\\t<div class=\"sub\" onclick=\\'location.href=\"info.html?1\"\\'>本所介紹</div>\\r\\n\\t\\t<div class=\"sub\" onclick=\\'location.href=\"info.html?2\"\\'>本所架構</div>\\r\\n\\t\\t<div class=\"sub\" onclick=\\'location.href=\"info.html?3\"\\'>教育目標</div>\\r\\n\\t\\t<div class=\"sub\" onclick=\\'location.href=\"info.html?4\"\\'>學生核心能力培養</div>\\r\\n\\t</div>\\r\\n\\t\\r\\n\\t\\r\\n\\t<div class=\"front\" id=\"3\">\\r\\n\\t\\t<div class=\"sub\" onclick=\\'location.href=\"research.php?1\"\\'>研究組別</div>\\r\\n\\t\\t<div class=\"sub\" onclick=\\'location.href=\"research.php?2\"\\'>研究主題</div>\\r\\n\\t</div>\\r\\n\\r\\n\\t<div class=\"front\"  id=\"4\">\\r\\n\\t\\t<div class=\"sub\" onclick=\\'location.href=\"people.php?1\"\\'>師資陣容</div>\\r\\n\\t\\t<div class=\"sub\" onclick=\\'location.href=\"people.php?2\"\\'>系辦成員</div>\\r\\n\\t</div>\\r\\n\\r\\n\\t<div class=\"front\"  id=\"5\">\\r\\n\\t\\t<div class=\"sub\" onclick=\\'location.href=\"student.php?1\"\\'>課程介紹</div>\\r\\n\\t\\t<div class=\"sub\" onclick=\\'location.href=\"student.php?2\"\\'>規章表格</div>\\r\\n\\t</div>\\r\\n\\r\\n\\t\\r\\n\\t<div class=\"front\"  id=\"6\">\\r\\n\\t\\t<div class=\"sub\" onclick=\"window.open(\\'http://web.ncku.edu.tw/bin/home.php\\');\">成功大學</div>\\r\\n\\t\\t<div class=\"sub\" onclick=\"window.open(\\'http://www.eecs.ncku.edu.tw/bin/home.php\\');\">電資學院</div>\\r\\n\\t\\t<div class=\"sub\" onclick=\"window.open(\\'http://www.ee.ncku.edu.tw/\\');\">電機工程學系</div>\\r\\n\\t\\t<div class=\"sub\" onclick=\"window.open(\\'http://ime.ee.ncku.edu.tw/\\');\">微電子工程研究所</div>\\r\\n\\t</div>\\r\\n\\r\\n\\t<div class=\"hr\">\\r\\n\\t</div>\\r\\n\\t\\r\\n</div>\\r\\n\\r\\n\\r\\n\\r\\n<div id=\"page\" class=\"container\">\\r\\n\\t\\r\\n\\t<div id=\"content\">\\r\\n\\t\\r\\n\\t<div id =\\'show\\'></div><div class=\\'1 show\\'><div class=\\'post\\'><table style=\\'width:100%\\'><colgroup><col width=\\'15%\\'><col width=\\'15%\\'><col width=\\'70%\\'></colgroup><tr><th>公告日期</th><th>公告對象</th><th>公告標題</th></tr><tr><td>2017-11-02</td><td>碩士班</td><td style=\\'cursor:pointer\\' onclick=\\'load_announce(924)\\'><a href=\\'#\\'>107學年度電機系所(含電機、微電子、電通、奈米)碩士班甄試面試公告(確定版)</a></td></tr><tr><td>2017-11-01</td><td>全部</td><td style=\\'cursor:pointer\\' onclick=\\'load_announce(919)\\'><a href=\\'#\\'>誠摯邀請11/15(三) TSIA 2017 年會 (席次有限，請儘早線上報名)</a></td></tr><tr><td>2017-11-01</td><td>大學部</td><td style=\\'cursor:pointer\\' onclick=\\'load_announce(920)\\'><a href=\\'#\\'>106學年亞德客有美獎助學金遞補公告，歡迎大學部同學申請</a></td></tr><tr><td>2017-11-01</td><td>全部</td><td style=\\'cursor:pointer\\' onclick=\\'load_announce(921)\\'><a href=\\'#\\'>[演講公告]11/13 (一) 18:00~20:00洪居萬執行長專題演講</a></td></tr><tr><td>2017-11-01</td><td>全部</td><td style=\\'cursor:pointer\\' onclick=\\'load_announce(922)\\'><a href=\\'#\\'>[演講公告]11/08 (三) 14:00~16:00 Ir. Dr. Philip W. T. Pong專題演講</a></td></tr><tr><td>2017-11-01</td><td>大學部</td><td style=\\'cursor:pointer\\' onclick=\\'load_announce(923)\\'><a href=\\'#\\'>鼓勵優秀大專學生就讀成功大學電機系研究所碩士班，已開始申請，於11/20截止收件。</a></td></tr><tr><td>2017-10-31</td><td>碩士班</td><td style=\\'cursor:pointer\\' onclick=\\'load_announce(917)\\'><a href=\\'#\\'>107學年度電機系所(含電機所、微電子所、電通所、奈米學程)碩士班甄試面試第二版公告</a></td></tr><tr><td>2017-10-31</td><td>全部</td><td style=\\'cursor:pointer\\' onclick=\\'load_announce(918)\\'><a href=\\'#\\'>106學年度新生盃暨系際盃田徑賽獲獎名單</a></td></tr></table></div></div><div class=\\'2\\'><div class=\\'post\\'><table style=\\'width:100%\\'><colgroup><col width=\\'15%\\'><col width=\\'15%\\'><col width=\\'70%\\'></colgroup><tr><th>公告日期</th><th>公告對象</th><th>公告標題</th></tr><tr><td>2017-11-01</td><td>全部</td><td style=\\'cursor:pointer\\' onclick=\\'load_announce(919)\\'><a href=\\'#\\'>誠摯邀請11/15(三) TSIA 2017 年會 (席次有限，請儘早線上報名)</a></td></tr><tr><td>2017-10-26</td><td>大學部</td><td style=\\'cursor:pointer\\' onclick=\\'load_announce(911)\\'><a href=\\'#\\'>2018秋季班(107年上學期)系級交換生申請公告_11/20前截止申請</a></td></tr><tr><td>2017-10-26</td><td>全部</td><td style=\\'cursor:pointer\\' onclick=\\'load_announce(912)\\'><a href=\\'#\\'>11/1(三)電機系無線網路進行韌體更新</a></td></tr><tr><td>2017-10-24</td><td>大學部</td><td style=\\'cursor:pointer\\' onclick=\\'load_announce(908)\\'><a href=\\'#\\'>[轉發]上銀科技教育基金會「2018 JIMTOF大學生見學團」徵選活動起跑</a></td></tr><tr><td>2017-10-23</td><td>大學部</td><td style=\\'cursor:pointer\\' onclick=\\'load_announce(891)\\'><a href=\\'#\\'>106學年畢業專題競賽及成果展須知</a></td></tr><tr><td>2017-10-23</td><td>全部</td><td style=\\'cursor:pointer\\' onclick=\\'load_announce(894)\\'><a href=\\'#\\'>106年度系友大會高鐵專車安排</a></td></tr><tr><td>2017-10-17</td><td>全部</td><td style=\\'cursor:pointer\\' onclick=\\'load_announce(887)\\'><a href=\\'#\\'>財團法人成電文教基金會-各系友獎學金獲獎公告</a></td></tr><tr><td>2017-10-17</td><td>全部</td><td style=\\'cursor:pointer\\' onclick=\\'load_announce(888)\\'><a href=\\'#\\'>財團法人成電文教基金會-金玉獎學金公告</a></td></tr></table></div></div><div class=\\'3\\'><div class=\\'post\\'><table style=\\'width:100%\\'><colgroup><col width=\\'15%\\'><col width=\\'15%\\'><col width=\\'70%\\'></colgroup><tr><th>公告日期</th><th>公告對象</th><th>公告標題</th></tr><tr><td>2017-11-02</td><td>碩士班</td><td style=\\'cursor:pointer\\' onclick=\\'load_announce(924)\\'><a href=\\'#\\'>107學年度電機系所(含電機、微電子、電通、奈米)碩士班甄試面試公告(確定版)</a></td></tr><tr><td>2017-10-31</td><td>碩士班</td><td style=\\'cursor:pointer\\' onclick=\\'load_announce(917)\\'><a href=\\'#\\'>107學年度電機系所(含電機所、微電子所、電通所、奈米學程)碩士班甄試面試第二版公告</a></td></tr><tr><td>2017-10-27</td><td>博士班</td><td style=\\'cursor:pointer\\' onclick=\\'load_announce(914)\\'><a href=\\'#\\'>107學年度博士班甄試面試公告</a></td></tr><tr><td>2017-10-27</td><td>碩士班</td><td style=\\'cursor:pointer\\' onclick=\\'load_announce(916)\\'><a href=\\'#\\'>107學年度電機系所(含電機所、微電子所、電通所、奈米學程)碩士班甄試面試初步公告</a></td></tr><tr><td>2017-10-26</td><td>全部</td><td style=\\'cursor:pointer\\' onclick=\\'load_announce(913)\\'><a href=\\'#\\'>107學年度電機系所(含電機所、微電子所、電通所、奈米學程)碩士班甄試第一階段錄取名單</a></td></tr><tr><td>2017-09-22</td><td>碩士班</td><td style=\\'cursor:pointer\\' onclick=\\'load_announce(856)\\'><a href=\\'#\\'>碩士甄試個人審查資料網頁及碩甄資料寄回注意事項</a></td></tr><tr><td>2017-09-18</td><td>全部</td><td style=\\'cursor:pointer\\' onclick=\\'load_announce(848)\\'><a href=\\'#\\'>國立成功大學106學年度奈米積體電路碩士班學分學程說明會</a></td></tr><tr><td>2017-09-07</td><td>全部</td><td style=\\'cursor:pointer\\' onclick=\\'load_announce(842)\\'><a href=\\'#\\'>107碩甄個人審查資料網頁將於10/2開放</a></td></tr></table></div></div><div class=\\'4\\'><div class=\\'post\\'><table style=\\'width:100%\\'><colgroup><col width=\\'15%\\'><col width=\\'15%\\'><col width=\\'70%\\'></colgroup><tr><th>公告日期</th><th>公告對象</th><th>公告標題</th></tr><tr><td>2017-11-01</td><td>全部</td><td style=\\'cursor:pointer\\' onclick=\\'load_announce(921)\\'><a href=\\'#\\'>[演講公告]11/13 (一) 18:00~20:00洪居萬執行長專題演講</a></td></tr><tr><td>2017-11-01</td><td>全部</td><td style=\\'cursor:pointer\\' onclick=\\'load_announce(922)\\'><a href=\\'#\\'>[演講公告]11/08 (三) 14:00~16:00 Ir. Dr. Philip W. T. Pong專題演講</a></td></tr><tr><td>2017-10-27</td><td>全部</td><td style=\\'cursor:pointer\\' onclick=\\'load_announce(906)\\'><a href=\\'#\\'>[演講公告]11/6(一) 11:00~13:00 奇景光電吳炳昌執行長專題演講(報名已截止)</a></td></tr><tr><td>2017-10-24</td><td>全部</td><td style=\\'cursor:pointer\\' onclick=\\'load_announce(896)\\'><a href=\\'#\\'>[演講公告]11/3 (五) 13:00~15:00 Alston Huang經理專題演講</a></td></tr><tr><td>2017-10-24</td><td>全部</td><td style=\\'cursor:pointer\\' onclick=\\'load_announce(897)\\'><a href=\\'#\\'>[演講公告]11/6 (一) 18:00~20:00林立松研究員專題演講</a></td></tr><tr><td>2017-10-24</td><td>全部</td><td style=\\'cursor:pointer\\' onclick=\\'load_announce(898)\\'><a href=\\'#\\'>[演講公告]11/9 (四) 13:30~15:00陳坤毅心理師專題演講</a></td></tr><tr><td>2017-10-18</td><td>全部</td><td style=\\'cursor:pointer\\' onclick=\\'load_announce(889)\\'><a href=\\'#\\'>[演講公告]10/30 (一) 18:00~20:00李泰廣資深工程師專題演講</a></td></tr><tr><td>2017-10-17</td><td>全部</td><td style=\\'cursor:pointer\\' onclick=\\'load_announce(886)\\'><a href=\\'#\\'>[演講公告]10/31 (二) 10:00~12:00 Dr. Donald Chang專題演講</a></td></tr></table></div></div><div class=\\'5\\'><div class=\\'post\\'><table style=\\'width:100%\\'><colgroup><col width=\\'15%\\'><col width=\\'15%\\'><col width=\\'70%\\'></colgroup><tr><th>公告日期</th><th>公告對象</th><th>公告標題</th></tr><tr><td>2017-10-31</td><td>全部</td><td style=\\'cursor:pointer\\' onclick=\\'load_announce(918)\\'><a href=\\'#\\'>106學年度新生盃暨系際盃田徑賽獲獎名單</a></td></tr><tr><td>2017-10-23</td><td>全部</td><td style=\\'cursor:pointer\\' onclick=\\'load_announce(893)\\'><a href=\\'#\\'>恭賀本系林志隆、劉文超教授指導學生分別榮獲2017 TIEEE 第七屆最佳碩博士論文獎「最佳博士論文獎」及「最佳碩士論文獎」</a></td></tr><tr><td>2017-10-23</td><td>全部</td><td style=\\'cursor:pointer\\' onclick=\\'load_announce(895)\\'><a href=\\'#\\'>賀~解巽評教授指導學生陳人豪，郭子瑛，王儷媛，紀德欣，邱琮皓榮獲\"106年度低壓智慧電表大數據分析與設計競賽\"佳作</a></td></tr><tr><td>2017-10-20</td><td>全部</td><td style=\\'cursor:pointer\\' onclick=\\'load_announce(890)\\'><a href=\\'#\\'>賀~楊宏澤教授指導學生唐文俊、吳怡萱榮獲\"106年度低壓智慧電表大數據分析與設計競賽\"特優獎</a></td></tr><tr><td>2017-10-16</td><td>全部</td><td style=\\'cursor:pointer\\' onclick=\\'load_announce(883)\\'><a href=\\'#\\'>賀~高國興教授指導學生胡佳瑩蓉榮獲中國電機工程學會106年度「青年論文獎」第三名</a></td></tr><tr><td>2017-10-16</td><td>全部</td><td style=\\'cursor:pointer\\' onclick=\\'load_announce(884)\\'><a href=\\'#\\'>賀~林志隆教授榮獲中國電機工程學會106年度「傑出電機工程教授獎」</a></td></tr><tr><td>2017-10-11</td><td>全部</td><td style=\\'cursor:pointer\\' onclick=\\'load_announce(875)\\'><a href=\\'#\\'>105學年度微積分、經濟學競試，獲獎名單</a></td></tr><tr><td>2017-08-28</td><td>全部</td><td style=\\'cursor:pointer\\' onclick=\\'load_announce(832)\\'><a href=\\'#\\'>恭賀！陳進興教授指導博班畢業生王敬文博士當選高雄應用科技大學電資學院院長</a></td></tr></table></div></div><div class=\\'6\\'><div class=\\'post\\'><table style=\\'width:100%\\'><colgroup><col width=\\'15%\\'><col width=\\'15%\\'><col width=\\'70%\\'></colgroup><tr><th>公告日期</th><th>公告對象</th><th>公告標題</th></tr><tr><td>2017-11-01</td><td>大學部</td><td style=\\'cursor:pointer\\' onclick=\\'load_announce(920)\\'><a href=\\'#\\'>106學年亞德客有美獎助學金遞補公告，歡迎大學部同學申請</a></td></tr><tr><td>2017-11-01</td><td>大學部</td><td style=\\'cursor:pointer\\' onclick=\\'load_announce(923)\\'><a href=\\'#\\'>鼓勵優秀大專學生就讀成功大學電機系研究所碩士班，已開始申請，於11/20截止收件。</a></td></tr><tr><td>2017-10-27</td><td>全部</td><td style=\\'cursor:pointer\\' onclick=\\'load_announce(915)\\'><a href=\\'#\\'>榮獲106學年度上學期 孔令洋教授紀念獎學金，請務必參加系友大會頒獎表揚</a></td></tr><tr><td>2017-10-26</td><td>全部</td><td style=\\'cursor:pointer\\' onclick=\\'load_announce(910)\\'><a href=\\'#\\'>賀~李忠憲教授指導學生陸冠竹，劉奕賢，劉川綱榮獲TANET2017最佳論文獎佳作</a></td></tr><tr><td>2017-10-02</td><td>全部</td><td style=\\'cursor:pointer\\' onclick=\\'load_announce(869)\\'><a href=\\'#\\'>106學年度第一學期研究生獎助學金，即日起開始申請，截止日期至10月13日</a></td></tr><tr><td>2017-09-19</td><td>大學部</td><td style=\\'cursor:pointer\\' onclick=\\'load_announce(851)\\'><a href=\\'#\\'>亞德客有美助學金106上學期已開始申請，請備妥資料於106/10/6中午前繳交至電機系系辦公室</a></td></tr><tr><td>2017-09-15</td><td>全部</td><td style=\\'cursor:pointer\\' onclick=\\'load_announce(847)\\'><a href=\\'#\\'>106上財團法人潘文淵文教基金會獎學金公告，至9/20截止</a></td></tr><tr><td>2017-08-30</td><td>大學部</td><td style=\\'cursor:pointer\\' onclick=\\'load_announce(839)\\'><a href=\\'#\\'>【洪肇奎博士紀念獎學金】 即日起至9/20, 開放申請,每名每年二萬元。</a></td></tr></table></div></div><div class=\\'7\\'><div class=\\'post\\'><table style=\\'width:100%\\'><colgroup><col width=\\'15%\\'><col width=\\'15%\\'><col width=\\'70%\\'></colgroup><tr><th>公告日期</th><th>公告對象</th><th>公告標題</th></tr><tr><td>2017-10-26</td><td>全部</td><td style=\\'cursor:pointer\\' onclick=\\'load_announce(909)\\'><a href=\\'#\\'>[轉發]11/2(四) 12:00-13:00光寶科技107年度研替招募活動(備有餐點)</a></td></tr><tr><td>2017-10-11</td><td>全部</td><td style=\\'cursor:pointer\\' onclick=\\'load_announce(876)\\'><a href=\\'#\\'>[轉發]2018台積電研發替代役暨預聘計畫說明會</a></td></tr><tr><td>2017-10-11</td><td>全部</td><td style=\\'cursor:pointer\\' onclick=\\'load_announce(877)\\'><a href=\\'#\\'>[轉發]華碩電腦2018研發替代役徵才</a></td></tr><tr><td>2017-10-05</td><td>全部</td><td style=\\'cursor:pointer\\' onclick=\\'load_announce(872)\\'><a href=\\'#\\'>[轉發]廣達電腦2018預聘或研替說明會10/17_12:10@成大，預見未來、役圓夢想！</a></td></tr><tr><td>2017-10-05</td><td>全部</td><td style=\\'cursor:pointer\\' onclick=\\'load_announce(873)\\'><a href=\\'#\\'>[轉發]2018年度鴻海科技集團研發替代役招募</a></td></tr><tr><td>2017-10-02</td><td>全部</td><td style=\\'cursor:pointer\\' onclick=\\'load_announce(870)\\'><a href=\\'#\\'>華邦電子與成大電資學院之「研發菁英計畫」人才招募徵選訊息(請於10/20前提出申請)</a></td></tr><tr><td>2017-09-27</td><td>全部</td><td style=\\'cursor:pointer\\' onclick=\\'load_announce(850)\\'><a href=\\'#\\'>國立成功大學電機工程系/電腦與通信工程研究所/微電子工程研究所 徵求師資公告 誠徵專任教師</a></td></tr><tr><td>2017-09-27</td><td>全部</td><td style=\\'cursor:pointer\\' onclick=\\'load_announce(865)\\'><a href=\\'#\\'>[轉發]晶元光電－歡迎在學同學實習！</a></td></tr></table></div></div>\\t\\r\\n\\t\\r\\n\\t\\r\\n\\t\\t<div style=\"clear: both;\">&nbsp;</div>\\r\\n\\t</div>\\r\\n\\t<!-- end #content -->\\r\\n\\t<div id=\"sidebar\">\\r\\n\\t\\t<ul>\\r\\n\\t\\t\\t<li>\\r\\n\\t\\t\\t\\t<h2>最新消息</h2>\\r\\n\\t\\t\\t\\t<ul>\\r\\n\\t\\t\\t\\t\\t<li class=\"1 active\"><a>全部資訊</a></li>\\r\\n\\t\\t\\t\\t\\t<li class=\"2\"><a>一般資訊</a></li>\\r\\n\\t\\t\\t\\t\\t<li class=\"3\"><a>招生資訊</a></li>\\r\\n\\t\\t\\t\\t\\t<li class=\"4\"><a>演講資訊</a></li>\\r\\n\\t\\t\\t\\t\\t<li class=\"5\"><a>獲獎資訊</a></li>\\r\\n\\t\\t\\t\\t\\t<li class=\"6\"><a>獎助學金</a></li>\\r\\n\\t\\t\\t\\t\\t<li class=\"7\"><a>徵才資訊</a></li>\\r\\n\\t\\t\\t\\t</ul>\\r\\n\\t\\t\\t</li>\\r\\n\\t\\r\\n\\t\\t</ul>\\r\\n\\t</div>\\r\\n\\t<!-- end #sidebar -->\\r\\n</div>\\r\\n<div id=\"footer\" class=\"container\">\\r\\n\\t<p>COPYRIGHT &copy; NCKU CCE. All rights reserved. Design by <a href=\"http://www.ee.ncku.edu.tw/\">NCKU EE</a>.</p>\\r\\n</div>\\r\\n\\r\\n\\r\\n\\r\\n</body>\\r\\n</html>\\r\\n'"
      ]
     },
     "execution_count": 135,
     "metadata": {},
     "output_type": "execute_result"
    }
   ],
   "source": [
    "res.text"
   ]
  }
 ],
 "metadata": {
  "kernelspec": {
   "display_name": "Python 3",
   "language": "python",
   "name": "python3"
  },
  "language_info": {
   "codemirror_mode": {
    "name": "ipython",
    "version": 3
   },
   "file_extension": ".py",
   "mimetype": "text/x-python",
   "name": "python",
   "nbconvert_exporter": "python",
   "pygments_lexer": "ipython3",
   "version": "3.6.2"
  }
 },
 "nbformat": 4,
 "nbformat_minor": 2
}
