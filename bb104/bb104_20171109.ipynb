{
 "cells": [
  {
   "cell_type": "code",
   "execution_count": 32,
   "metadata": {},
   "outputs": [],
   "source": [
    "import requests\n",
    "from bs4 import BeautifulSoup\n",
    "\n",
    "html = requests.get('https://www.ptt.cc/bbs/Baseball/M.1510185651.A.50E.html').text\n",
    "\n",
    "s = BeautifulSoup(html, 'html5lib')"
   ]
  },
  {
   "cell_type": "code",
   "execution_count": 33,
   "metadata": {},
   "outputs": [
    {
     "data": {
      "text/plain": [
       "bs4.BeautifulSoup"
      ]
     },
     "execution_count": 33,
     "metadata": {},
     "output_type": "execute_result"
    }
   ],
   "source": [
    "type(s)"
   ]
  },
  {
   "cell_type": "code",
   "execution_count": 34,
   "metadata": {},
   "outputs": [
    {
     "data": {
      "text/plain": [
       "[<span class=\"article-meta-value\">poplc ()</span>,\n",
       " <span class=\"article-meta-value\">Baseball</span>,\n",
       " <span class=\"article-meta-value\">[問題] 預防性下架對嗎?</span>,\n",
       " <span class=\"article-meta-value\">Thu Nov  9 08:00:48 2017</span>]"
      ]
     },
     "execution_count": 34,
     "metadata": {},
     "output_type": "execute_result"
    }
   ],
   "source": [
    "s.select('span.article-meta-value')"
   ]
  },
  {
   "cell_type": "code",
   "execution_count": 35,
   "metadata": {
    "scrolled": true
   },
   "outputs": [
    {
     "data": {
      "text/plain": [
       "[<div class=\"article-metaline\"><span class=\"article-meta-tag\">作者</span><span class=\"article-meta-value\">poplc ()</span></div>,\n",
       " <div class=\"article-metaline\"><span class=\"article-meta-tag\">標題</span><span class=\"article-meta-value\">[問題] 預防性下架對嗎?</span></div>,\n",
       " <div class=\"article-metaline\"><span class=\"article-meta-tag\">時間</span><span class=\"article-meta-value\">Thu Nov  9 08:00:48 2017</span></div>]"
      ]
     },
     "execution_count": 35,
     "metadata": {},
     "output_type": "execute_result"
    }
   ],
   "source": [
    "s.findAll('div', {\"class\": \"article-metaline\"})"
   ]
  },
  {
   "cell_type": "code",
   "execution_count": 36,
   "metadata": {},
   "outputs": [
    {
     "name": "stdout",
     "output_type": "stream",
     "text": [
      "[<span class=\"article-meta-value\">poplc ()</span>]\n",
      "[<span class=\"article-meta-value\">[問題] 預防性下架對嗎?</span>]\n",
      "[<span class=\"article-meta-value\">Thu Nov  9 08:00:48 2017</span>]\n"
     ]
    }
   ],
   "source": [
    "for div in s.findAll('div', {\"class\": \"article-metaline\"}):\n",
    "    print(div.select('span.article-meta-value'))"
   ]
  },
  {
   "cell_type": "code",
   "execution_count": 37,
   "metadata": {},
   "outputs": [
    {
     "data": {
      "text/plain": [
       "['119.77.211.222']"
      ]
     },
     "execution_count": 37,
     "metadata": {},
     "output_type": "execute_result"
    }
   ],
   "source": [
    "import re\n",
    "\n",
    "re.findall('來自: (.+)\\n', html)"
   ]
  },
  {
   "cell_type": "code",
   "execution_count": 38,
   "metadata": {},
   "outputs": [
    {
     "ename": "AttributeError",
     "evalue": "'list' object has no attribute 'select'",
     "output_type": "error",
     "traceback": [
      "\u001b[0;31m---------------------------------------------------------------------------\u001b[0m",
      "\u001b[0;31mAttributeError\u001b[0m                            Traceback (most recent call last)",
      "\u001b[0;32m<ipython-input-38-bf3080a5e4ac>\u001b[0m in \u001b[0;36m<module>\u001b[0;34m()\u001b[0m\n\u001b[0;32m----> 1\u001b[0;31m \u001b[0;34m[\u001b[0m\u001b[0;36m1\u001b[0m\u001b[0;34m,\u001b[0m\u001b[0;36m2\u001b[0m\u001b[0;34m,\u001b[0m\u001b[0;36m3\u001b[0m\u001b[0;34m,\u001b[0m\u001b[0;36m4\u001b[0m\u001b[0;34m,\u001b[0m\u001b[0;36m5\u001b[0m\u001b[0;34m]\u001b[0m\u001b[0;34m.\u001b[0m\u001b[0mselect\u001b[0m\u001b[0;34m(\u001b[0m\u001b[0;36m2\u001b[0m\u001b[0;34m)\u001b[0m\u001b[0;34m\u001b[0m\u001b[0m\n\u001b[0m",
      "\u001b[0;31mAttributeError\u001b[0m: 'list' object has no attribute 'select'"
     ]
    }
   ],
   "source": [
    "[1,2,3,4,5].select(2)"
   ]
  },
  {
   "cell_type": "code",
   "execution_count": 39,
   "metadata": {},
   "outputs": [],
   "source": [
    "import requests\n",
    "import json\n",
    "url = 'http://amis.afa.gov.tw/veg/VegProdDayTransInfo.aspx'\n",
    "\n",
    "# POST /veg/VegProdDayTransInfo.aspx HTTP/1.1\n",
    "\n",
    "data = json.loads(r'''{\"ctl00$ScriptManager_Master\":\"ctl00$ScriptManager_Master|ctl00$contentPlaceHolder$btnQuery\",\"ctl00$contentPlaceHolder$ucDateScope$rblDateScope\":\"D\",\"ctl00$contentPlaceHolder$ucSolarLunar$radlSolarLunar\":\"S\",\"ctl00$contentPlaceHolder$txtSTransDate\":\"106/11/09\",\"ctl00$contentPlaceHolder$txtETransDate\":\"106/11/09\",\"ctl00$contentPlaceHolder$txtMarket\":\"台北一\",\"ctl00$contentPlaceHolder$hfldMarketNo\":\"109\",\"ctl00$contentPlaceHolder$txtProduct\":\"FA1 黃秋葵\",\"ctl00$contentPlaceHolder$hfldProductNo\":\"FA1\",\"ctl00$contentPlaceHolder$hfldProductType\":\"S\",\"__EVENTTARGET\":\"\",\"__EVENTARGUMENT\":\"\",\"__VIEWSTATE\":\"/wEPDwUIOTY0Mzc1NDIPZBYCZg9kFgICAw9kFgICCw9kFg4CAQ8PFgIeBFRleHQFFeeUouWTgeaXpeS6pOaYk+ihjOaDhWRkAgcPDxYCHwAFCTEwNi8xMS8wOWRkAgkPD2QWAh4Fc3R5bGUFDWRpc3BsYXk6bm9uZTtkAgsPDxYCHwAFCTEwNi8xMS8wORYCHwEFDWRpc3BsYXk6bm9uZTtkAg0PDxYCHwAFCeWPsOWMl+S4gGRkAhMPDxYCHwAFDUZBMSDpu4Pnp4vokbVkZAIhD2QWAmYPZBYCAgEPDxYCHgdWaXNpYmxlZ2QWDGYPDxYCHwAFFeeUouWTgeaXpeS6pOaYk+ihjOaDhWRkAgEPDxYCHwAFHDEwNi8xMS8wOSAo6L6y5puGOjEwNi8wOS8yMSlkZAICDw8WAh8ABRIxMDYvMTEvMDkgMTA6NDU6MDBkZAIDDw8WAh8ABQnlj7DljJfkuIBkZAIEDw8WAh8ABQ1GQTEg6buD56eL6JG1ZGQCBQ8UKwACDxYGHhFJdGVtUGxhY2Vob2xkZXJJRAUYbXlMYXlvdXQkaXRlbVBsYWNlaG9sZGVyHgtfIURhdGFCb3VuZGceC18hSXRlbUNvdW50AgFkZBYCZg9kFgJmD2QWBgIBDw8WAh8ABQQ1NS40ZGQCAw8PFgIfAAUFMiwzNjBkZAIFD2QWAmYPZBYCZg8WAh4FY2xhc3MFCW1haW5fbWFpbhYQZg9kFgJmDxUBD0ZBMSDpu4Pnp4vokbUgIGQCAQ9kFgJmDxUBBDk1LjRkAgIPZBYCZg8VAQQ1NC4wZAIDD2QWAmYPFQEEMTkuM2QCBA9kFgJmDxUCCW1haW5fYmx1ZQQ1NS40ZAIFD2QWAmYPFQIJbWFpbl9ibHVlBSAtICA5ZAIGD2QWAmYPFQIJbWFpbl9ibHVlBTIsMzYwZAIHD2QWAmYPFQIJbWFpbl9ibHVlBSAtIDEwZBgBBSFjdGwwMCRjb250ZW50UGxhY2VIb2xkZXIkbGlzdFZpZXcPFCsADmRkZGRkZGQUKwABZAIBZGRkZgL/////D2Shbi0Q8FMb28ABMApzbMi9iYGvGXgI8S4PMenI1pyCUw==\",\"__VIEWSTATEGENERATOR\":\"924237A5\",\"__EVENTVALIDATION\":\"/wEdABATJXkjgjjtTvzBeYbuXY5KQlnRBSjq2R0LFBhqvIaYOdWbMM2/DWJrZzd7rAbCDCMbHYsHDbD1wmtGXihvmsnJ8BlZTYOptctvPAnPr9y5LJoyUCbB5OTDc5yZRRQ2PEmkvfJ0YrSiHU+/oXyBv2VhrkJjLitQjF6ePtmGbXiLrIzHLqmP3vmfhBo4iiBYbOAMxUXSePoiAbW03Aek83lEONL/4qBgBPfx/RZlnlGK8F2urMXFZJUEVGioaQEN8wAcw2+N1zwrySGFt1o6Y654NdK0LUPG/u+ZYgXys7Q5MzRmtqZjr7cHdstuZRNzNiosHqM4wINIxgrfpUQJzv9gPICEkdoaviBgG+fMl+hVX0x714DOoP5K0lXJZIBo+vY=\",\"__ASYNCPOST\":\"true\",\"ctl00$contentPlaceHolder$btnQuery\":\"查詢\"}''')\n",
    "\n",
    "headers = {\n",
    "    \"Accept\": \"*/*\",\n",
    "    \"Accept-Encoding\": \"gzip, deflate\",\n",
    "    \"Accept-Language\": \"en-US,en;q=0.9\",\n",
    "    \"Cache-Control\": \"no-cache\",\n",
    "    \"Connection\": \"keep-alive\",\n",
    "    \"Content-Length\": \"2331\",\n",
    "    \"Content-Type\": \"application/x-www-form-urlencoded; charset=UTF-8\",\n",
    "    \"Cookie\": \"_ga=GA1.3.826591586.1510195469; _gid=GA1.3.94857987.1510195469; ASP.NET_SessionId=4eedublu3syudfdtknob1q1p\",\n",
    "    \"Host\": \"amis.afa.gov.tw\",\n",
    "    \"Origin\": \"http://amis.afa.gov.tw\",\n",
    "    \"Referer\": \"http://amis.afa.gov.tw/veg/VegProdDayTransInfo.aspx\",\n",
    "    \"User-Agent\": \"Mozilla/5.0 (Macintosh; Intel Mac OS X 10_13_1) AppleWebKit/537.36 (KHTML, like Gecko) Chrome/62.0.3202.89 Safari/537.36\",\n",
    "    \"X-MicrosoftAjax\": \"Delta=true\",\n",
    "    \"X-Requested-With\": \"XMLHttpRequest\"\n",
    "}\n"
   ]
  },
  {
   "cell_type": "code",
   "execution_count": 40,
   "metadata": {},
   "outputs": [],
   "source": [
    "resp = requests.post(url, data=data, headers=headers)"
   ]
  },
  {
   "cell_type": "code",
   "execution_count": 41,
   "metadata": {},
   "outputs": [],
   "source": [
    "# Quick HTTP Inspector\n",
    "# Chrome 插件，快速複製HTTP Requests\n",
    "#\n",
    "# https://chrome.google.com/webstore/detail/quick-http-inspector/holkomabobpkbfdfnjomglmcgaeeojpg"
   ]
  },
  {
   "cell_type": "code",
   "execution_count": 31,
   "metadata": {},
   "outputs": [
    {
     "data": {
      "text/plain": [
       "'1|#||4|3665|updatePanel|ctl00_contentPlaceHolder_updatePanelMain|\\r\\n\\r\\n    <div id=\"ctl00_contentPlaceHolder_panel\">\\r\\n\\t\\r\\n\\r\\n    <table width=\"100%\">\\r\\n        <tr>\\r\\n            <td align=\"center\" class=\"table_title\">\\r\\n                <input id=\"btnPrint\" type=\"button\" value=\"列印\" class=\"butten_org\" onclick=\"PrintContainer(this, \\'ctl00_contentPlaceHolder_panel\\');\" />\\r\\n                蔬菜\\r\\n                <span id=\"ctl00_contentPlaceHolder_lblResultTitle\">產品日交易行情</span>\\r\\n                查詢結果\\r\\n            </td>\\r\\n        </tr>\\r\\n    </table>\\r\\n    <table width=\"100%\" border=\"0\" cellpadding=\"2\" cellspacing=\"1\">\\r\\n        <tr>\\r\\n            <td width=\"10%\" class=\"table_title_03\">交易日期：</td>\\r\\n            <td class=\"main_main_eng\">\\r\\n                <span id=\"ctl00_contentPlaceHolder_lblTransDate\">106/11/09 (農曆:106/09/21)</span>\\r\\n            </td>\\r\\n            <td width=\"10%\" class=\"table_title_03\">查詢時間：</td>\\r\\n            <td class=\"main_main_eng\">\\r\\n                <span id=\"ctl00_contentPlaceHolder_lblQueryTime\">106/11/09 10:46:55</span>\\r\\n            </td>\\r\\n        </tr>\\r\\n        <tr>\\r\\n            <td class=\"table_title_03\">市\\u3000\\u3000場：</td>\\r\\n            <td class=\"main_main_eng\" colspan=\"3\">\\r\\n                <span id=\"ctl00_contentPlaceHolder_lblMarkets\">台北一</span>\\r\\n            </td>\\r\\n        </tr>\\r\\n        <tr>\\r\\n            <td class=\"table_title_03\">產\\u3000\\u3000品：</td>\\r\\n            <td class=\"main_main_eng\" colspan=\"3\">\\r\\n                <span id=\"ctl00_contentPlaceHolder_lblProducts\">FA1 黃秋葵</span>\\r\\n            </td>\\r\\n        </tr>\\r\\n    </table>\\r\\n\\r\\n    \\r\\n<table width=\"100%\" border=\"1\" cellpadding=\"1\" cellspacing=\"0\" style=\"border-color: Gray;\">\\r\\n  <tr align=\"center\" valign=\"middle\" class=\"main_title\" style=\"line-height: 20px;\">\\r\\n    <td style=\"white-space: nowrap;\" align=\"center\">產品</td>\\r\\n    <td style=\"white-space: nowrap;\" align=\"right\" >上價</td>\\r\\n    <td style=\"white-space: nowrap;\" align=\"right\" >中價</td>\\r\\n    <td style=\"white-space: nowrap;\" align=\"right\" >下價</td>\\r\\n    <td style=\"white-space: nowrap;\" align=\"right\" >平均價<br />(元/公斤)</td>\\r\\n    <td style=\"white-space: nowrap;\" align=\"right\" >跟前一<br />交易日<br />比較%</td>\\r\\n    <td style=\"white-space: nowrap;\" align=\"right\" >交易量<br />(公斤)</td>\\r\\n    <td style=\"white-space: nowrap;\" align=\"right\" >跟前一<br />交易日<br />比較%</td>\\r\\n  </tr>\\r\\n  <tr align=\"center\" valign=\"middle\" class=\"main_main_02\">\\r\\n    <td style=\"white-space: nowrap;\" align=\"center\">小計</td>\\r\\n    <td style=\"white-space: nowrap;\" align=\"right\" >&nbsp;</td>\\r\\n    <td style=\"white-space: nowrap;\" align=\"right\" >&nbsp;</td>\\r\\n    <td style=\"white-space: nowrap;\" align=\"right\" >&nbsp;</td>\\r\\n    <td style=\"white-space: nowrap;\" align=\"right\" ><span id=\"ctl00_contentPlaceHolder_listView_myLayout_lblAvgPrice\">55.4</span></td>\\r\\n    <td style=\"white-space: nowrap;\" align=\"right\" >&nbsp;</td>\\r\\n    <td style=\"white-space: nowrap;\" align=\"right\" ><span id=\"ctl00_contentPlaceHolder_listView_myLayout_lblTransVolume\">2,360</span></td>\\r\\n    <td style=\"white-space: nowrap;\" align=\"right\" >&nbsp;</td>\\r\\n  </tr>\\r\\n  <tr align=\"center\" valign=\"middle\" class=\"main_main\">\\r\\n\\t\\t<td style=\"white-space: nowrap;\" align=\"left\">FA1 黃秋葵  </td>\\r\\n\\t\\t<td style=\"white-space: nowrap;\" align=\"right\">95.4</td>\\r\\n\\t\\t<td style=\"white-space: nowrap;\" align=\"right\">54.0</td>\\r\\n\\t\\t<td style=\"white-space: nowrap;\" align=\"right\">19.3</td>\\r\\n\\t\\t<td style=\"white-space: nowrap;\" align=\"right\"><span class=\\'main_blue\\'>55.4</span></td>\\r\\n\\t\\t<td style=\"white-space: nowrap;\" align=\"right\"><span class=\\'main_blue\\'> -  9</span></td>\\r\\n\\t\\t<td style=\"white-space: nowrap;\" align=\"right\"><span class=\\'main_blue\\'>2,360</span></td>\\r\\n\\t\\t<td style=\"white-space: nowrap;\" align=\"right\"><span class=\\'main_blue\\'> - 10</span></td>\\r\\n\\t</tr>\\r\\n\\t  \\r\\n</table>\\r\\n\\r\\n    \\r\\n</div>\\r\\n\\r\\n    |0|hiddenField|__EVENTTARGET||0|hiddenField|__EVENTARGUMENT||1112|hiddenField|__VIEWSTATE|/wEPDwUIOTY0Mzc1NDIPZBYCZg9kFgICAw9kFgICCw9kFg4CAQ8PFgIeBFRleHQFFeeUouWTgeaXpeS6pOaYk+ihjOaDhWRkAgcPDxYCHwAFCTEwNi8xMS8wOWRkAgkPD2QWAh4Fc3R5bGUFDWRpc3BsYXk6bm9uZTtkAgsPDxYCHwAFCTEwNi8xMS8wORYCHwEFDWRpc3BsYXk6bm9uZTtkAg0PDxYCHwAFCeWPsOWMl+S4gGRkAhMPDxYCHwAFDUZBMSDpu4Pnp4vokbVkZAIhD2QWAmYPZBYCAgEPDxYCHgdWaXNpYmxlZ2QWDGYPDxYCHwAFFeeUouWTgeaXpeS6pOaYk+ihjOaDhWRkAgEPDxYCHwAFHDEwNi8xMS8wOSAo6L6y5puGOjEwNi8wOS8yMSlkZAICDw8WAh8ABRIxMDYvMTEvMDkgMTA6NDY6NTVkZAIDDw8WAh8ABQnlj7DljJfkuIBkZAIEDw8WAh8ABQ1GQTEg6buD56eL6JG1ZGQCBQ8UKwACDxYGHhFJdGVtUGxhY2Vob2xkZXJJRAUYbXlMYXlvdXQkaXRlbVBsYWNlaG9sZGVyHgtfIURhdGFCb3VuZGceC18hSXRlbUNvdW50AgFkZBYCZg9kFgJmD2QWBgIBDw8WAh8ABQQ1NS40ZGQCAw8PFgIfAAUFMiwzNjBkZAIFD2QWAmYPZBYCZg8WAh4FY2xhc3MFCW1haW5fbWFpbhYQZg9kFgJmDxUBD0ZBMSDpu4Pnp4vokbUgIGQCAQ9kFgJmDxUBBDk1LjRkAgIPZBYCZg8VAQQ1NC4wZAIDD2QWAmYPFQEEMTkuM2QCBA9kFgJmDxUCCW1haW5fYmx1ZQQ1NS40ZAIFD2QWAmYPFQIJbWFpbl9ibHVlBSAtICA5ZAIGD2QWAmYPFQIJbWFpbl9ibHVlBTIsMzYwZAIHD2QWAmYPFQIJbWFpbl9ibHVlBSAtIDEwZBgBBSFjdGwwMCRjb250ZW50UGxhY2VIb2xkZXIkbGlzdFZpZXcPFCsADmRkZGRkZGQUKwABZAIBZGRkZgL/////D2TUu25bTAVJjFGyQnctIv1dL8V//cYAj3XiTKyCyHUKRA==|8|hiddenField|__VIEWSTATEGENERATOR|924237A5|392|hiddenField|__EVENTVALIDATION|/wEdABBPxtWDnPKf+FwHXlYEMOFCQlnRBSjq2R0LFBhqvIaYOdWbMM2/DWJrZzd7rAbCDCMbHYsHDbD1wmtGXihvmsnJ8BlZTYOptctvPAnPr9y5LJoyUCbB5OTDc5yZRRQ2PEmkvfJ0YrSiHU+/oXyBv2VhrkJjLitQjF6ePtmGbXiLrIzHLqmP3vmfhBo4iiBYbOAMxUXSePoiAbW03Aek83lEONL/4qBgBPfx/RZlnlGK8F2urMXFZJUEVGioaQEN8wAcw2+N1zwrySGFt1o6Y654NdK0LUPG/u+ZYgXys7Q5MzRmtqZjr7cHdstuZRNzNiosHqM4wINIxgrfpUQJzv9gnwInEHWfUyTFbRBWkvgQKZTy9gViD1V6wiMFmkKIjL0=|34|asyncPostBackControlIDs||ctl00$contentPlaceHolder$btnQuery,|0|postBackControlIDs|||42|updatePanelIDs||tctl00$contentPlaceHolder$updatePanelMain,|0|childUpdatePanelIDs|||41|panelsToRefreshIDs||ctl00$contentPlaceHolder$updatePanelMain,|2|asyncPostBackTimeout||90|26|formAction||./VegProdDayTransInfo.aspx|'"
      ]
     },
     "execution_count": 31,
     "metadata": {},
     "output_type": "execute_result"
    }
   ],
   "source": [
    "resp.text"
   ]
  },
  {
   "cell_type": "code",
   "execution_count": null,
   "metadata": {},
   "outputs": [],
   "source": []
  }
 ],
 "metadata": {
  "kernelspec": {
   "display_name": "Python 3",
   "language": "python",
   "name": "python3"
  },
  "language_info": {
   "codemirror_mode": {
    "name": "ipython",
    "version": 3
   },
   "file_extension": ".py",
   "mimetype": "text/x-python",
   "name": "python",
   "nbconvert_exporter": "python",
   "pygments_lexer": "ipython3",
   "version": "3.6.2"
  }
 },
 "nbformat": 4,
 "nbformat_minor": 2
}
