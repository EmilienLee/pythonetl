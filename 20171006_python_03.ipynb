{
 "cells": [
  {
   "cell_type": "code",
   "execution_count": 3,
   "metadata": {
    "collapsed": true
   },
   "outputs": [],
   "source": [
    "import requests as r"
   ]
  },
  {
   "cell_type": "code",
   "execution_count": 2,
   "metadata": {},
   "outputs": [
    {
     "name": "stdout",
     "output_type": "stream",
     "text": [
      "Requirement already satisfied: requests in c:\\programdata\\anaconda3\\lib\\site-packages\n"
     ]
    }
   ],
   "source": [
    "!pip install requests"
   ]
  },
  {
   "cell_type": "code",
   "execution_count": 5,
   "metadata": {},
   "outputs": [],
   "source": [
    "URL = \"https://www.ptt.cc/bbs/LoL/index.html\""
   ]
  },
  {
   "cell_type": "code",
   "execution_count": 6,
   "metadata": {},
   "outputs": [
    {
     "data": {
      "text/plain": [
       "<Response [200]>"
      ]
     },
     "execution_count": 6,
     "metadata": {},
     "output_type": "execute_result"
    }
   ],
   "source": [
    "r.get(URL)"
   ]
  },
  {
   "cell_type": "code",
   "execution_count": 7,
   "metadata": {
    "collapsed": true
   },
   "outputs": [],
   "source": [
    "res = r.get(URL)"
   ]
  },
  {
   "cell_type": "code",
   "execution_count": 8,
   "metadata": {},
   "outputs": [
    {
     "data": {
      "text/plain": [
       "<Response [200]>"
      ]
     },
     "execution_count": 8,
     "metadata": {},
     "output_type": "execute_result"
    }
   ],
   "source": [
    "res"
   ]
  },
  {
   "cell_type": "code",
   "execution_count": 9,
   "metadata": {},
   "outputs": [
    {
     "data": {
      "text/plain": [
       "200"
      ]
     },
     "execution_count": 9,
     "metadata": {},
     "output_type": "execute_result"
    }
   ],
   "source": [
    "res.status_code"
   ]
  },
  {
   "cell_type": "code",
   "execution_count": 10,
   "metadata": {
    "scrolled": true
   },
   "outputs": [
    {
     "data": {
      "text/plain": [
       "'<!DOCTYPE html>\\n<html>\\n\\t<head>\\n\\t\\t<meta charset=\"utf-8\">\\n\\t\\t\\n\\n<meta name=\"viewport\" content=\"width=device-width, initial-scale=1\">\\n\\n<title>看板 LoL 文章列表 - 批踢踢實業坊</title>\\n\\n<link rel=\"stylesheet\" type=\"text/css\" href=\"//images.ptt.cc/bbs/v2.22/bbs-common.css\">\\n<link rel=\"stylesheet\" type=\"text/css\" href=\"//images.ptt.cc/bbs/v2.22/bbs-base.css\" media=\"screen\">\\n<link rel=\"stylesheet\" type=\"text/css\" href=\"//images.ptt.cc/bbs/v2.22/bbs-custom.css\">\\n<link rel=\"stylesheet\" type=\"text/css\" href=\"//images.ptt.cc/bbs/v2.22/pushstream.css\" media=\"screen\">\\n<link rel=\"stylesheet\" type=\"text/css\" href=\"//images.ptt.cc/bbs/v2.22/bbs-print.css\" media=\"print\">\\n\\n\\n\\n\\n\\t</head>\\n    <body>\\n\\t\\t\\n<div id=\"topbar-container\">\\n\\t<div id=\"topbar\" class=\"bbs-content\">\\n\\t\\t<a id=\"logo\" href=\"/\">批踢踢實業坊</a>\\n\\t\\t<span>&rsaquo;</span>\\n\\t\\t<a class=\"board\" href=\"/bbs/LoL/index.html\"><span class=\"board-label\">看板 </span>LoL</a>\\n\\t\\t<a class=\"right small\" href=\"/about.html\">關於我們</a>\\n\\t\\t<a class=\"right small\" href=\"/contact.html\">聯絡資訊</a>\\n\\t</div>\\n</div>\\n\\n<div id=\"main-container\">\\n\\t<div id=\"action-bar-container\">\\n\\t\\t<div class=\"action-bar\">\\n\\t\\t\\t<div class=\"btn-group btn-group-dir\">\\n\\t\\t\\t\\t<a class=\"btn selected\" href=\"/bbs/LoL/index.html\">看板</a>\\n\\t\\t\\t\\t<a class=\"btn\" href=\"/man/LoL/index.html\">精華區</a>\\n\\t\\t\\t</div>\\n\\t\\t\\t<div class=\"btn-group btn-group-paging\">\\n\\t\\t\\t\\t<a class=\"btn wide\" href=\"/bbs/LoL/index1.html\">最舊</a>\\n\\t\\t\\t\\t<a class=\"btn wide\" href=\"/bbs/LoL/index8935.html\">&lsaquo; 上頁</a>\\n\\t\\t\\t\\t<a class=\"btn wide disabled\">下頁 &rsaquo;</a>\\n\\t\\t\\t\\t<a class=\"btn wide\" href=\"/bbs/LoL/index.html\">最新</a>\\n\\t\\t\\t</div>\\n\\t\\t</div>\\n\\t</div>\\n\\n\\t<div class=\"r-list-container action-bar-margin bbs-screen\">\\n\\t\\t\\n\\t\\t\\n            \\n        \\n        \\n\\t\\t<div class=\"r-ent\">\\n\\t\\t\\t<div class=\"nrec\"><span class=\"hl f0\">X6</span></div>\\n\\t\\t\\t<div class=\"mark\"></div>\\n\\t\\t\\t<div class=\"title\">\\n\\t\\t\\t\\n\\t\\t\\t\\t(已被InnGee刪除) &lt;fdvbg65&gt;E1鬧板 分身待查\\n\\t\\t\\t\\n\\t\\t\\t</div>\\n\\t\\t\\t<div class=\"meta\">\\n\\t\\t\\t\\t<div class=\"date\">10/06</div>\\n\\t\\t\\t\\t<div class=\"author\">-</div>\\n\\t\\t\\t</div>\\n\\t\\t</div>\\n\\n\\t\\t\\n            \\n        \\n        \\n\\t\\t<div class=\"r-ent\">\\n\\t\\t\\t<div class=\"nrec\"><span class=\"hl f2\">8</span></div>\\n\\t\\t\\t<div class=\"mark\"></div>\\n\\t\\t\\t<div class=\"title\">\\n\\t\\t\\t\\n\\t\\t\\t\\t<a href=\"/bbs/LoL/M.1507268114.A.4C0.html\">[問題] 沒有酒桶怎麼辦(古拉格斯)</a>\\n\\t\\t\\t\\n\\t\\t\\t</div>\\n\\t\\t\\t<div class=\"meta\">\\n\\t\\t\\t\\t<div class=\"date\">10/06</div>\\n\\t\\t\\t\\t<div class=\"author\">left456right</div>\\n\\t\\t\\t</div>\\n\\t\\t</div>\\n\\n\\t\\t\\n            \\n        \\n        \\n\\t\\t<div class=\"r-ent\">\\n\\t\\t\\t<div class=\"nrec\"><span class=\"hl f1\">爆</span></div>\\n\\t\\t\\t<div class=\"mark\">M</div>\\n\\t\\t\\t<div class=\"title\">\\n\\t\\t\\t\\n\\t\\t\\t\\t<a href=\"/bbs/LoL/M.1507268595.A.2D4.html\">[發錢]  猜MMD死第一次的遊戲時間</a>\\n\\t\\t\\t\\n\\t\\t\\t</div>\\n\\t\\t\\t<div class=\"meta\">\\n\\t\\t\\t\\t<div class=\"date\">10/06</div>\\n\\t\\t\\t\\t<div class=\"author\">tom80727</div>\\n\\t\\t\\t</div>\\n\\t\\t</div>\\n\\n\\t\\t\\n            \\n        \\n        \\n\\t\\t<div class=\"r-ent\">\\n\\t\\t\\t<div class=\"nrec\"><span class=\"hl f0\">X1</span></div>\\n\\t\\t\\t<div class=\"mark\"></div>\\n\\t\\t\\t<div class=\"title\">\\n\\t\\t\\t\\n\\t\\t\\t\\t<a href=\"/bbs/LoL/M.1507268681.A.EAE.html\">[閒聊] 為什麼古拉格斯大絕是破大AD的最佳解</a>\\n\\t\\t\\t\\n\\t\\t\\t</div>\\n\\t\\t\\t<div class=\"meta\">\\n\\t\\t\\t\\t<div class=\"date\">10/06</div>\\n\\t\\t\\t\\t<div class=\"author\">EggManEgg</div>\\n\\t\\t\\t</div>\\n\\t\\t</div>\\n\\n\\t\\t\\n            \\n        \\n        \\n\\t\\t<div class=\"r-ent\">\\n\\t\\t\\t<div class=\"nrec\"><span class=\"hl f2\">5</span></div>\\n\\t\\t\\t<div class=\"mark\"></div>\\n\\t\\t\\t<div class=\"title\">\\n\\t\\t\\t\\n\\t\\t\\t\\t<a href=\"/bbs/LoL/M.1507268927.A.E83.html\">[問題] 新手要玩多少場才能看得懂世界賽？</a>\\n\\t\\t\\t\\n\\t\\t\\t</div>\\n\\t\\t\\t<div class=\"meta\">\\n\\t\\t\\t\\t<div class=\"date\">10/06</div>\\n\\t\\t\\t\\t<div class=\"author\">Takasteric</div>\\n\\t\\t\\t</div>\\n\\t\\t</div>\\n\\n\\t\\t\\n            \\n        \\n        \\n\\t\\t<div class=\"r-ent\">\\n\\t\\t\\t<div class=\"nrec\"><span class=\"hl f2\">2</span></div>\\n\\t\\t\\t<div class=\"mark\"></div>\\n\\t\\t\\t<div class=\"title\">\\n\\t\\t\\t\\n\\t\\t\\t\\t<a href=\"/bbs/LoL/M.1507269169.A.E3A.html\">[揪團] 世界賽前 ARAM加油團! 謝絕特粉 歡迎妹子</a>\\n\\t\\t\\t\\n\\t\\t\\t</div>\\n\\t\\t\\t<div class=\"meta\">\\n\\t\\t\\t\\t<div class=\"date\">10/06</div>\\n\\t\\t\\t\\t<div class=\"author\">Andy7577272</div>\\n\\t\\t\\t</div>\\n\\t\\t</div>\\n\\n\\t\\t\\n            \\n        \\n        \\n\\t\\t<div class=\"r-ent\">\\n\\t\\t\\t<div class=\"nrec\"></div>\\n\\t\\t\\t<div class=\"mark\"></div>\\n\\t\\t\\t<div class=\"title\">\\n\\t\\t\\t\\n\\t\\t\\t\\t<a href=\"/bbs/LoL/M.1507269207.A.499.html\">[問題] 請問西門是不是電競黑子哲也</a>\\n\\t\\t\\t\\n\\t\\t\\t</div>\\n\\t\\t\\t<div class=\"meta\">\\n\\t\\t\\t\\t<div class=\"date\">10/06</div>\\n\\t\\t\\t\\t<div class=\"author\">ck692506</div>\\n\\t\\t\\t</div>\\n\\t\\t</div>\\n\\n\\t\\t\\n            \\n        \\n        \\n\\t\\t<div class=\"r-ent\">\\n\\t\\t\\t<div class=\"nrec\"><span class=\"hl f2\">8</span></div>\\n\\t\\t\\t<div class=\"mark\"></div>\\n\\t\\t\\t<div class=\"title\">\\n\\t\\t\\t\\n\\t\\t\\t\\t<a href=\"/bbs/LoL/M.1507269241.A.D88.html\">[閒聊] scout 是不是才是ahq的最大功臣</a>\\n\\t\\t\\t\\n\\t\\t\\t</div>\\n\\t\\t\\t<div class=\"meta\">\\n\\t\\t\\t\\t<div class=\"date\">10/06</div>\\n\\t\\t\\t\\t<div class=\"author\">wayne5566580</div>\\n\\t\\t\\t</div>\\n\\t\\t</div>\\n\\n\\t\\t\\n        \\n        <div class=\"r-list-sep\"></div>\\n            \\n                \\n        \\n        \\n\\t\\t<div class=\"r-ent\">\\n\\t\\t\\t<div class=\"nrec\"><span class=\"hl f1\">爆</span></div>\\n\\t\\t\\t<div class=\"mark\">M</div>\\n\\t\\t\\t<div class=\"title\">\\n\\t\\t\\t\\n\\t\\t\\t\\t<a href=\"/bbs/LoL/M.1506304245.A.428.html\">[公告] 伺服器狀況詢問/聊天/揪團/抱怨/多功能區</a>\\n\\t\\t\\t\\n\\t\\t\\t</div>\\n\\t\\t\\t<div class=\"meta\">\\n\\t\\t\\t\\t<div class=\"date\"> 9/25</div>\\n\\t\\t\\t\\t<div class=\"author\">samhou6</div>\\n\\t\\t\\t</div>\\n\\t\\t</div>\\n\\n            \\n                \\n        \\n        \\n\\t\\t<div class=\"r-ent\">\\n\\t\\t\\t<div class=\"nrec\"></div>\\n\\t\\t\\t<div class=\"mark\">!</div>\\n\\t\\t\\t<div class=\"title\">\\n\\t\\t\\t\\n\\t\\t\\t\\t<a href=\"/bbs/LoL/M.1506551347.A.B64.html\">[公告] LoL 英雄聯盟板板規（Patch 17.09.28）</a>\\n\\t\\t\\t\\n\\t\\t\\t</div>\\n\\t\\t\\t<div class=\"meta\">\\n\\t\\t\\t\\t<div class=\"date\"> 9/28</div>\\n\\t\\t\\t\\t<div class=\"author\">samhou6</div>\\n\\t\\t\\t</div>\\n\\t\\t</div>\\n\\n            \\n                \\n        \\n        \\n\\t\\t<div class=\"r-ent\">\\n\\t\\t\\t<div class=\"nrec\"><span class=\"hl f3\">65</span></div>\\n\\t\\t\\t<div class=\"mark\">M</div>\\n\\t\\t\\t<div class=\"title\">\\n\\t\\t\\t\\n\\t\\t\\t\\t<a href=\"/bbs/LoL/M.1506989737.A.05A.html\">[情報] 2017 世界大賽賽事資訊</a>\\n\\t\\t\\t\\n\\t\\t\\t</div>\\n\\t\\t\\t<div class=\"meta\">\\n\\t\\t\\t\\t<div class=\"date\">10/03</div>\\n\\t\\t\\t\\t<div class=\"author\">wa410489</div>\\n\\t\\t\\t</div>\\n\\t\\t</div>\\n\\n            \\n                \\n        \\n        \\n\\t\\t<div class=\"r-ent\">\\n\\t\\t\\t<div class=\"nrec\"><span class=\"hl f3\">61</span></div>\\n\\t\\t\\t<div class=\"mark\">M</div>\\n\\t\\t\\t<div class=\"title\">\\n\\t\\t\\t\\n\\t\\t\\t\\t<a href=\"/bbs/LoL/M.1507092944.A.A86.html\">[公告] 世界大賽任務揪團集中區</a>\\n\\t\\t\\t\\n\\t\\t\\t</div>\\n\\t\\t\\t<div class=\"meta\">\\n\\t\\t\\t\\t<div class=\"date\">10/04</div>\\n\\t\\t\\t\\t<div class=\"author\">InnGee</div>\\n\\t\\t\\t</div>\\n\\t\\t</div>\\n\\n            \\n                \\n        \\n        \\n\\t\\t<div class=\"r-ent\">\\n\\t\\t\\t<div class=\"nrec\"><span class=\"hl f3\">45</span></div>\\n\\t\\t\\t<div class=\"mark\">M</div>\\n\\t\\t\\t<div class=\"title\">\\n\\t\\t\\t\\n\\t\\t\\t\\t<a href=\"/bbs/LoL/M.1507217553.A.FAA.html\">[公告] LoL 板 開始舉辦樂透!</a>\\n\\t\\t\\t\\n\\t\\t\\t</div>\\n\\t\\t\\t<div class=\"meta\">\\n\\t\\t\\t\\t<div class=\"date\">10/05</div>\\n\\t\\t\\t\\t<div class=\"author\">InnGee</div>\\n\\t\\t\\t</div>\\n\\t\\t</div>\\n\\n            \\n        \\n\\t</div>\\n\\n    \\n</div>\\n\\n\\t\\t\\n\\n<script>\\n  (function(i,s,o,g,r,a,m){i[\\'GoogleAnalyticsObject\\']=r;i[r]=i[r]||function(){\\n  (i[r].q=i[r].q||[]).push(arguments)},i[r].l=1*new Date();a=s.createElement(o),\\n  m=s.getElementsByTagName(o)[0];a.async=1;a.src=g;m.parentNode.insertBefore(a,m)\\n  })(window,document,\\'script\\',\\'https://www.google-analytics.com/analytics.js\\',\\'ga\\');\\n\\n  ga(\\'create\\', \\'UA-32365737-1\\', {\\n    cookieDomain: \\'ptt.cc\\',\\n    legacyCookieDomain: \\'ptt.cc\\'\\n  });\\n  ga(\\'send\\', \\'pageview\\');\\n</script>\\n\\n\\n\\t\\t\\n<script src=\"//ajax.googleapis.com/ajax/libs/jquery/2.1.1/jquery.min.js\"></script>\\n<script src=\"//images.ptt.cc/bbs/v2.22/bbs.js\"></script>\\n\\n    </body>\\n</html>\\n'"
      ]
     },
     "execution_count": 10,
     "metadata": {},
     "output_type": "execute_result"
    }
   ],
   "source": [
    "res.text"
   ]
  },
  {
   "cell_type": "code",
   "execution_count": 11,
   "metadata": {
    "collapsed": true
   },
   "outputs": [],
   "source": [
    "with open('./lol.html', 'w') as f:\n",
    "    f.write(res.text)"
   ]
  },
  {
   "cell_type": "code",
   "execution_count": 12,
   "metadata": {
    "collapsed": true
   },
   "outputs": [],
   "source": [
    "f = open('./somefile.txt', 'w')\n",
    "f.write(\"hello world\")\n",
    "f.close()"
   ]
  },
  {
   "cell_type": "code",
   "execution_count": 14,
   "metadata": {},
   "outputs": [
    {
     "name": "stdout",
     "output_type": "stream",
     "text": [
      "some error\n",
      "finally\n"
     ]
    }
   ],
   "source": [
    "try:\n",
    "    raise \"Error\"\n",
    "except:\n",
    "    print(\"some error\")\n",
    "finally:\n",
    "    print(\"finally\")"
   ]
  },
  {
   "cell_type": "code",
   "execution_count": 15,
   "metadata": {},
   "outputs": [
    {
     "name": "stdout",
     "output_type": "stream",
     "text": [
      "finished, clean up and close file\n"
     ]
    }
   ],
   "source": [
    "f = open('./somefile.txt', 'w')\n",
    "try:\n",
    "    f.write(\"hello world\")\n",
    "except:\n",
    "    print(\"some error\")\n",
    "finally:\n",
    "    f.close()\n",
    "    print(\"finished, clean up and close file\")"
   ]
  },
  {
   "cell_type": "code",
   "execution_count": null,
   "metadata": {
    "collapsed": true
   },
   "outputs": [],
   "source": [
    "URL = \"https://www.ptt.cc/bbs/LoL/index8936.html\""
   ]
  },
  {
   "cell_type": "code",
   "execution_count": 18,
   "metadata": {},
   "outputs": [
    {
     "data": {
      "text/plain": [
       "range(8936, 8926, -1)"
      ]
     },
     "execution_count": 18,
     "metadata": {},
     "output_type": "execute_result"
    }
   ],
   "source": [
    "range(8936, 8936 - 10, -1)"
   ]
  },
  {
   "cell_type": "code",
   "execution_count": 24,
   "metadata": {},
   "outputs": [
    {
     "name": "stdout",
     "output_type": "stream",
     "text": [
      "Crawling url: https://www.ptt.cc/bbs/LoL/index8936.html\n",
      "Crawling url: https://www.ptt.cc/bbs/LoL/index8935.html\n",
      "Crawling url: https://www.ptt.cc/bbs/LoL/index8934.html\n",
      "Crawling url: https://www.ptt.cc/bbs/LoL/index8933.html\n",
      "Crawling url: https://www.ptt.cc/bbs/LoL/index8932.html\n",
      "Crawling url: https://www.ptt.cc/bbs/LoL/index8931.html\n",
      "Crawling url: https://www.ptt.cc/bbs/LoL/index8930.html\n",
      "Crawling url: https://www.ptt.cc/bbs/LoL/index8929.html\n",
      "Crawling url: https://www.ptt.cc/bbs/LoL/index8928.html\n",
      "Crawling url: https://www.ptt.cc/bbs/LoL/index8927.html\n"
     ]
    }
   ],
   "source": [
    "import requests as r\n",
    "\n",
    "page = 10\n",
    "last_page = 8936\n",
    "URL_TEMPLATE = \"https://www.ptt.cc/bbs/LoL/index{}.html\"\n",
    "\n",
    "\n",
    "for page_num in range(last_page, last_page - page, -1):\n",
    "    #print(\"Current page is %s\"%page_num)\n",
    "    url = URL_TEMPLATE.format(page_num)\n",
    "    print(\"Crawling url: {}\".format(url))\n",
    "    \n",
    "    res = r.get(url)\n",
    "    with open('./lol_{}.html'.format(page_num), 'w') as f:\n",
    "        f.write(res.text)\n",
    "    "
   ]
  },
  {
   "cell_type": "code",
   "execution_count": 27,
   "metadata": {},
   "outputs": [],
   "source": [
    "url_str = \"\"\"<div class=\"title\">\n",
    "\n",
    "<a href=\"/bbs/LoL/M.1507256907.A.E64.html\">[問題] LOL現在是什麼意思?</a>\n",
    "\n",
    "</div>\n",
    "<div class=\"mark\"></div>\n",
    "<div class=\"title\">\n",
    "<a href=\"/bbs/LoL/M.1507257188.A.2E1.html\">[閒聊] 難道西門真的藏一手?</a>\n",
    "</div>\n",
    "<div class=\"meta\">\n",
    "<div class=\"date\">10/06</div>\n",
    "<div class=\"author\">paoyain</div>\"\"\""
   ]
  },
  {
   "cell_type": "code",
   "execution_count": 28,
   "metadata": {
    "collapsed": true
   },
   "outputs": [],
   "source": [
    "import re"
   ]
  },
  {
   "cell_type": "code",
   "execution_count": 31,
   "metadata": {},
   "outputs": [
    {
     "data": {
      "text/plain": [
       "['/bbs/LoL/M.1507256907.A.E64.html', '/bbs/LoL/M.1507257188.A.2E1.html']"
      ]
     },
     "execution_count": 31,
     "metadata": {},
     "output_type": "execute_result"
    }
   ],
   "source": [
    "# .   萬用字元\n",
    "# *   重複\n",
    "# \\d  數字\n",
    "# \\w  英數字\n",
    "# ^   開頭\n",
    "# $   結尾\n",
    "\n",
    "re.findall(\"/bbs/LoL/M.*html\", url_str)"
   ]
  },
  {
   "cell_type": "code",
   "execution_count": 40,
   "metadata": {},
   "outputs": [
    {
     "name": "stdout",
     "output_type": "stream",
     "text": [
      "['A765456786', 'G679098765']\n",
      "['A765456786', 'G679098765']\n",
      "['A765456786', 'G679098765']\n"
     ]
    }
   ],
   "source": [
    "ROC_ID = \"\"\"A765456786\n",
    "I think this is cool\n",
    "Python is cool\n",
    "Aff88dd773333\n",
    "G679098765\n",
    "888AAAAffff\n",
    "\n",
    "ianchen06@gmail.com\n",
    "\n",
    "https://ianchenhq.com\n",
    "\"\"\"\n",
    "\n",
    "print(re.findall(\"[A-Z][0-9][0-9][0-9][0-9][0-9][0-9][0-9][0-9][0-9]\", ROC_ID))\n",
    "print(re.findall(\"[A-Z]\\d\\d\\d\\d\\d\\d\\d\\d\\d\", ROC_ID))\n",
    "print(re.findall(\"[A-Z]\\d{9}\", ROC_ID))"
   ]
  },
  {
   "cell_type": "code",
   "execution_count": 41,
   "metadata": {
    "collapsed": true
   },
   "outputs": [],
   "source": [
    "with open('./lol_8936.html') as f:\n",
    "    html = f.read()"
   ]
  },
  {
   "cell_type": "code",
   "execution_count": 42,
   "metadata": {
    "scrolled": true
   },
   "outputs": [
    {
     "data": {
      "text/plain": [
       "'<!DOCTYPE html>\\n<html>\\n\\t<head>\\n\\t\\t<meta charset=\"utf-8\">\\n\\t\\t\\n\\n<meta name=\"viewport\" content=\"width=device-width, initial-scale=1\">\\n\\n<title>看板 LoL 文章列表 - 批踢踢實業坊</title>\\n\\n<link rel=\"stylesheet\" type=\"text/css\" href=\"//images.ptt.cc/bbs/v2.22/bbs-common.css\">\\n<link rel=\"stylesheet\" type=\"text/css\" href=\"//images.ptt.cc/bbs/v2.22/bbs-base.css\" media=\"screen\">\\n<link rel=\"stylesheet\" type=\"text/css\" href=\"//images.ptt.cc/bbs/v2.22/bbs-custom.css\">\\n<link rel=\"stylesheet\" type=\"text/css\" href=\"//images.ptt.cc/bbs/v2.22/pushstream.css\" media=\"screen\">\\n<link rel=\"stylesheet\" type=\"text/css\" href=\"//images.ptt.cc/bbs/v2.22/bbs-print.css\" media=\"print\">\\n\\n\\n\\n\\n\\t</head>\\n    <body>\\n\\t\\t\\n<div id=\"topbar-container\">\\n\\t<div id=\"topbar\" class=\"bbs-content\">\\n\\t\\t<a id=\"logo\" href=\"/\">批踢踢實業坊</a>\\n\\t\\t<span>&rsaquo;</span>\\n\\t\\t<a class=\"board\" href=\"/bbs/LoL/index.html\"><span class=\"board-label\">看板 </span>LoL</a>\\n\\t\\t<a class=\"right small\" href=\"/about.html\">關於我們</a>\\n\\t\\t<a class=\"right small\" href=\"/contact.html\">聯絡資訊</a>\\n\\t</div>\\n</div>\\n\\n<div id=\"main-container\">\\n\\t<div id=\"action-bar-container\">\\n\\t\\t<div class=\"action-bar\">\\n\\t\\t\\t<div class=\"btn-group btn-group-dir\">\\n\\t\\t\\t\\t<a class=\"btn selected\" href=\"/bbs/LoL/index.html\">看板</a>\\n\\t\\t\\t\\t<a class=\"btn\" href=\"/man/LoL/index.html\">精華區</a>\\n\\t\\t\\t</div>\\n\\t\\t\\t<div class=\"btn-group btn-group-paging\">\\n\\t\\t\\t\\t<a class=\"btn wide\" href=\"/bbs/LoL/index1.html\">最舊</a>\\n\\t\\t\\t\\t<a class=\"btn wide\" href=\"/bbs/LoL/index8935.html\">&lsaquo; 上頁</a>\\n\\t\\t\\t\\t<a class=\"btn wide disabled\">下頁 &rsaquo;</a>\\n\\t\\t\\t\\t<a class=\"btn wide\" href=\"/bbs/LoL/index.html\">最新</a>\\n\\t\\t\\t</div>\\n\\t\\t</div>\\n\\t</div>\\n\\n\\t<div class=\"r-list-container action-bar-margin bbs-screen\">\\n\\t\\t\\n\\t\\t\\n            \\n        \\n        \\n\\t\\t<div class=\"r-ent\">\\n\\t\\t\\t<div class=\"nrec\"><span class=\"hl f0\">X6</span></div>\\n\\t\\t\\t<div class=\"mark\"></div>\\n\\t\\t\\t<div class=\"title\">\\n\\t\\t\\t\\n\\t\\t\\t\\t(已被InnGee刪除) &lt;fdvbg65&gt;E1鬧板 \\n\\t\\t\\t\\n\\t\\t\\t</div>\\n\\t\\t\\t<div class=\"meta\">\\n\\t\\t\\t\\t<div class=\"date\">10/06</div>\\n\\t\\t\\t\\t<div class=\"author\">-</div>\\n\\t\\t\\t</div>\\n\\t\\t</div>\\n\\n\\t\\t\\n            \\n        \\n        \\n\\t\\t<div class=\"r-ent\">\\n\\t\\t\\t<div class=\"nrec\"><span class=\"hl f3\">12</span></div>\\n\\t\\t\\t<div class=\"mark\"></div>\\n\\t\\t\\t<div class=\"title\">\\n\\t\\t\\t\\n\\t\\t\\t\\t<a href=\"/bbs/LoL/M.1507268114.A.4C0.html\">[問題] 沒有酒桶怎麼辦(古拉格斯)</a>\\n\\t\\t\\t\\n\\t\\t\\t</div>\\n\\t\\t\\t<div class=\"meta\">\\n\\t\\t\\t\\t<div class=\"date\">10/06</div>\\n\\t\\t\\t\\t<div class=\"author\">left456right</div>\\n\\t\\t\\t</div>\\n\\t\\t</div>\\n\\n\\t\\t\\n            \\n        \\n        \\n\\t\\t<div class=\"r-ent\">\\n\\t\\t\\t<div class=\"nrec\"><span class=\"hl f1\">爆</span></div>\\n\\t\\t\\t<div class=\"mark\">M</div>\\n\\t\\t\\t<div class=\"title\">\\n\\t\\t\\t\\n\\t\\t\\t\\t<a href=\"/bbs/LoL/M.1507268595.A.2D4.html\">[發錢]  猜MMD死第一次的遊戲時間</a>\\n\\t\\t\\t\\n\\t\\t\\t</div>\\n\\t\\t\\t<div class=\"meta\">\\n\\t\\t\\t\\t<div class=\"date\">10/06</div>\\n\\t\\t\\t\\t<div class=\"author\">tom80727</div>\\n\\t\\t\\t</div>\\n\\t\\t</div>\\n\\n\\t\\t\\n            \\n        \\n        \\n\\t\\t<div class=\"r-ent\">\\n\\t\\t\\t<div class=\"nrec\"><span class=\"hl f0\">X1</span></div>\\n\\t\\t\\t<div class=\"mark\"></div>\\n\\t\\t\\t<div class=\"title\">\\n\\t\\t\\t\\n\\t\\t\\t\\t<a href=\"/bbs/LoL/M.1507268681.A.EAE.html\">[閒聊] 為什麼古拉格斯大絕是破大AD的最佳解</a>\\n\\t\\t\\t\\n\\t\\t\\t</div>\\n\\t\\t\\t<div class=\"meta\">\\n\\t\\t\\t\\t<div class=\"date\">10/06</div>\\n\\t\\t\\t\\t<div class=\"author\">EggManEgg</div>\\n\\t\\t\\t</div>\\n\\t\\t</div>\\n\\n\\t\\t\\n            \\n        \\n        \\n\\t\\t<div class=\"r-ent\">\\n\\t\\t\\t<div class=\"nrec\"><span class=\"hl f3\">19</span></div>\\n\\t\\t\\t<div class=\"mark\"></div>\\n\\t\\t\\t<div class=\"title\">\\n\\t\\t\\t\\n\\t\\t\\t\\t<a href=\"/bbs/LoL/M.1507268927.A.E83.html\">[問題] 新手要玩多少場才能看得懂世界賽？</a>\\n\\t\\t\\t\\n\\t\\t\\t</div>\\n\\t\\t\\t<div class=\"meta\">\\n\\t\\t\\t\\t<div class=\"date\">10/06</div>\\n\\t\\t\\t\\t<div class=\"author\">Takasteric</div>\\n\\t\\t\\t</div>\\n\\t\\t</div>\\n\\n\\t\\t\\n            \\n        \\n        \\n\\t\\t<div class=\"r-ent\">\\n\\t\\t\\t<div class=\"nrec\"><span class=\"hl f2\">2</span></div>\\n\\t\\t\\t<div class=\"mark\"></div>\\n\\t\\t\\t<div class=\"title\">\\n\\t\\t\\t\\n\\t\\t\\t\\t<a href=\"/bbs/LoL/M.1507269169.A.E3A.html\">[揪團] 世界賽前 ARAM加油團! 謝絕特粉 歡迎妹子</a>\\n\\t\\t\\t\\n\\t\\t\\t</div>\\n\\t\\t\\t<div class=\"meta\">\\n\\t\\t\\t\\t<div class=\"date\">10/06</div>\\n\\t\\t\\t\\t<div class=\"author\">Andy7577272</div>\\n\\t\\t\\t</div>\\n\\t\\t</div>\\n\\n\\t\\t\\n            \\n        \\n        \\n\\t\\t<div class=\"r-ent\">\\n\\t\\t\\t<div class=\"nrec\"></div>\\n\\t\\t\\t<div class=\"mark\"></div>\\n\\t\\t\\t<div class=\"title\">\\n\\t\\t\\t\\n\\t\\t\\t\\t<a href=\"/bbs/LoL/M.1507269207.A.499.html\">[問題] 請問西門是不是電競黑子哲也</a>\\n\\t\\t\\t\\n\\t\\t\\t</div>\\n\\t\\t\\t<div class=\"meta\">\\n\\t\\t\\t\\t<div class=\"date\">10/06</div>\\n\\t\\t\\t\\t<div class=\"author\">ck692506</div>\\n\\t\\t\\t</div>\\n\\t\\t</div>\\n\\n\\t\\t\\n            \\n        \\n        \\n\\t\\t<div class=\"r-ent\">\\n\\t\\t\\t<div class=\"nrec\"><span class=\"hl f3\">38</span></div>\\n\\t\\t\\t<div class=\"mark\"></div>\\n\\t\\t\\t<div class=\"title\">\\n\\t\\t\\t\\n\\t\\t\\t\\t<a href=\"/bbs/LoL/M.1507269241.A.D88.html\">[閒聊] scout 是不是才是ahq的最大功臣</a>\\n\\t\\t\\t\\n\\t\\t\\t</div>\\n\\t\\t\\t<div class=\"meta\">\\n\\t\\t\\t\\t<div class=\"date\">10/06</div>\\n\\t\\t\\t\\t<div class=\"author\">wayne5566580</div>\\n\\t\\t\\t</div>\\n\\t\\t</div>\\n\\n\\t\\t\\n            \\n        \\n        \\n\\t\\t<div class=\"r-ent\">\\n\\t\\t\\t<div class=\"nrec\"><span class=\"hl f1\">爆</span></div>\\n\\t\\t\\t<div class=\"mark\">M</div>\\n\\t\\t\\t<div class=\"title\">\\n\\t\\t\\t\\n\\t\\t\\t\\t<a href=\"/bbs/LoL/M.1507269968.A.414.html\">[發錢] 猜MMD第一顆頭入帳的遊戲時間</a>\\n\\t\\t\\t\\n\\t\\t\\t</div>\\n\\t\\t\\t<div class=\"meta\">\\n\\t\\t\\t\\t<div class=\"date\">10/06</div>\\n\\t\\t\\t\\t<div class=\"author\">ikj</div>\\n\\t\\t\\t</div>\\n\\t\\t</div>\\n\\n\\t\\t\\n            \\n        \\n        \\n\\t\\t<div class=\"r-ent\">\\n\\t\\t\\t<div class=\"nrec\"></div>\\n\\t\\t\\t<div class=\"mark\"></div>\\n\\t\\t\\t<div class=\"title\">\\n\\t\\t\\t\\n\\t\\t\\t\\t<a href=\"/bbs/LoL/M.1507270039.A.B97.html\">[閒聊] 如果EDG中路選的不是路西恩?</a>\\n\\t\\t\\t\\n\\t\\t\\t</div>\\n\\t\\t\\t<div class=\"meta\">\\n\\t\\t\\t\\t<div class=\"date\">10/06</div>\\n\\t\\t\\t\\t<div class=\"author\">toyhsu</div>\\n\\t\\t\\t</div>\\n\\t\\t</div>\\n\\n\\t\\t\\n            \\n        \\n        \\n\\t\\t<div class=\"r-ent\">\\n\\t\\t\\t<div class=\"nrec\"><span class=\"hl f2\">3</span></div>\\n\\t\\t\\t<div class=\"mark\"></div>\\n\\t\\t\\t<div class=\"title\">\\n\\t\\t\\t\\n\\t\\t\\t\\t<a href=\"/bbs/LoL/M.1507270097.A.AAF.html\">Re: [問題] 新手要玩多少場才能看得懂世界賽？</a>\\n\\t\\t\\t\\n\\t\\t\\t</div>\\n\\t\\t\\t<div class=\"meta\">\\n\\t\\t\\t\\t<div class=\"date\">10/06</div>\\n\\t\\t\\t\\t<div class=\"author\">starfishkira</div>\\n\\t\\t\\t</div>\\n\\t\\t</div>\\n\\n\\t\\t\\n            \\n        \\n        \\n\\t\\t<div class=\"r-ent\">\\n\\t\\t\\t<div class=\"nrec\"><span class=\"hl f2\">3</span></div>\\n\\t\\t\\t<div class=\"mark\"></div>\\n\\t\\t\\t<div class=\"title\">\\n\\t\\t\\t\\n\\t\\t\\t\\t<a href=\"/bbs/LoL/M.1507270691.A.037.html\">[閒聊] EDG 自ban雷茲是怕誰拿?</a>\\n\\t\\t\\t\\n\\t\\t\\t</div>\\n\\t\\t\\t<div class=\"meta\">\\n\\t\\t\\t\\t<div class=\"date\">10/06</div>\\n\\t\\t\\t\\t<div class=\"author\">BelaTarr</div>\\n\\t\\t\\t</div>\\n\\t\\t</div>\\n\\n\\t\\t\\n            \\n        \\n        \\n\\t\\t<div class=\"r-ent\">\\n\\t\\t\\t<div class=\"nrec\"><span class=\"hl f3\">74</span></div>\\n\\t\\t\\t<div class=\"mark\">M</div>\\n\\t\\t\\t<div class=\"title\">\\n\\t\\t\\t\\n\\t\\t\\t\\t<a href=\"/bbs/LoL/M.1507270731.A.E25.html\">Re: [發錢] 猜MMD第一顆頭入帳的遊戲時間</a>\\n\\t\\t\\t\\n\\t\\t\\t</div>\\n\\t\\t\\t<div class=\"meta\">\\n\\t\\t\\t\\t<div class=\"date\">10/06</div>\\n\\t\\t\\t\\t<div class=\"author\">jeff95123</div>\\n\\t\\t\\t</div>\\n\\t\\t</div>\\n\\n\\t\\t\\n            \\n        \\n        \\n\\t\\t<div class=\"r-ent\">\\n\\t\\t\\t<div class=\"nrec\"></div>\\n\\t\\t\\t<div class=\"mark\"></div>\\n\\t\\t\\t<div class=\"title\">\\n\\t\\t\\t\\n\\t\\t\\t\\t<a href=\"/bbs/LoL/M.1507270803.A.458.html\">[閒聊] 賽程是不是對LPL很有利</a>\\n\\t\\t\\t\\n\\t\\t\\t</div>\\n\\t\\t\\t<div class=\"meta\">\\n\\t\\t\\t\\t<div class=\"date\">10/06</div>\\n\\t\\t\\t\\t<div class=\"author\">mury1414</div>\\n\\t\\t\\t</div>\\n\\t\\t</div>\\n\\n\\t\\t\\n            \\n        \\n        \\n\\t\\t<div class=\"r-ent\">\\n\\t\\t\\t<div class=\"nrec\"><span class=\"hl f2\">1</span></div>\\n\\t\\t\\t<div class=\"mark\"></div>\\n\\t\\t\\t<div class=\"title\">\\n\\t\\t\\t\\n\\t\\t\\t\\t(本文已被刪除) [yugiboy]\\n\\t\\t\\t\\n\\t\\t\\t</div>\\n\\t\\t\\t<div class=\"meta\">\\n\\t\\t\\t\\t<div class=\"date\">10/06</div>\\n\\t\\t\\t\\t<div class=\"author\">-</div>\\n\\t\\t\\t</div>\\n\\t\\t</div>\\n\\n\\t\\t\\n        \\n        <div class=\"r-list-sep\"></div>\\n            \\n                \\n        \\n        \\n\\t\\t<div class=\"r-ent\">\\n\\t\\t\\t<div class=\"nrec\"><span class=\"hl f1\">爆</span></div>\\n\\t\\t\\t<div class=\"mark\">M</div>\\n\\t\\t\\t<div class=\"title\">\\n\\t\\t\\t\\n\\t\\t\\t\\t<a href=\"/bbs/LoL/M.1506304245.A.428.html\">[公告] 伺服器狀況詢問/聊天/揪團/抱怨/多功能區</a>\\n\\t\\t\\t\\n\\t\\t\\t</div>\\n\\t\\t\\t<div class=\"meta\">\\n\\t\\t\\t\\t<div class=\"date\"> 9/25</div>\\n\\t\\t\\t\\t<div class=\"author\">samhou6</div>\\n\\t\\t\\t</div>\\n\\t\\t</div>\\n\\n            \\n                \\n        \\n        \\n\\t\\t<div class=\"r-ent\">\\n\\t\\t\\t<div class=\"nrec\"></div>\\n\\t\\t\\t<div class=\"mark\">!</div>\\n\\t\\t\\t<div class=\"title\">\\n\\t\\t\\t\\n\\t\\t\\t\\t<a href=\"/bbs/LoL/M.1506551347.A.B64.html\">[公告] LoL 英雄聯盟板板規（Patch 17.09.28）</a>\\n\\t\\t\\t\\n\\t\\t\\t</div>\\n\\t\\t\\t<div class=\"meta\">\\n\\t\\t\\t\\t<div class=\"date\"> 9/28</div>\\n\\t\\t\\t\\t<div class=\"author\">samhou6</div>\\n\\t\\t\\t</div>\\n\\t\\t</div>\\n\\n            \\n                \\n        \\n        \\n\\t\\t<div class=\"r-ent\">\\n\\t\\t\\t<div class=\"nrec\"><span class=\"hl f3\">65</span></div>\\n\\t\\t\\t<div class=\"mark\">M</div>\\n\\t\\t\\t<div class=\"title\">\\n\\t\\t\\t\\n\\t\\t\\t\\t<a href=\"/bbs/LoL/M.1506989737.A.05A.html\">[情報] 2017 世界大賽賽事資訊</a>\\n\\t\\t\\t\\n\\t\\t\\t</div>\\n\\t\\t\\t<div class=\"meta\">\\n\\t\\t\\t\\t<div class=\"date\">10/03</div>\\n\\t\\t\\t\\t<div class=\"author\">wa410489</div>\\n\\t\\t\\t</div>\\n\\t\\t</div>\\n\\n            \\n                \\n        \\n        \\n\\t\\t<div class=\"r-ent\">\\n\\t\\t\\t<div class=\"nrec\"><span class=\"hl f3\">65</span></div>\\n\\t\\t\\t<div class=\"mark\">M</div>\\n\\t\\t\\t<div class=\"title\">\\n\\t\\t\\t\\n\\t\\t\\t\\t<a href=\"/bbs/LoL/M.1507092944.A.A86.html\">[公告] 世界大賽任務揪團集中區</a>\\n\\t\\t\\t\\n\\t\\t\\t</div>\\n\\t\\t\\t<div class=\"meta\">\\n\\t\\t\\t\\t<div class=\"date\">10/04</div>\\n\\t\\t\\t\\t<div class=\"author\">InnGee</div>\\n\\t\\t\\t</div>\\n\\t\\t</div>\\n\\n            \\n                \\n        \\n        \\n\\t\\t<div class=\"r-ent\">\\n\\t\\t\\t<div class=\"nrec\"><span class=\"hl f3\">47</span></div>\\n\\t\\t\\t<div class=\"mark\">M</div>\\n\\t\\t\\t<div class=\"title\">\\n\\t\\t\\t\\n\\t\\t\\t\\t<a href=\"/bbs/LoL/M.1507217553.A.FAA.html\">[公告] LoL 板 開始舉辦樂透!</a>\\n\\t\\t\\t\\n\\t\\t\\t</div>\\n\\t\\t\\t<div class=\"meta\">\\n\\t\\t\\t\\t<div class=\"date\">10/05</div>\\n\\t\\t\\t\\t<div class=\"author\">InnGee</div>\\n\\t\\t\\t</div>\\n\\t\\t</div>\\n\\n            \\n        \\n\\t</div>\\n\\n    \\n</div>\\n\\n\\t\\t\\n\\n<script>\\n  (function(i,s,o,g,r,a,m){i[\\'GoogleAnalyticsObject\\']=r;i[r]=i[r]||function(){\\n  (i[r].q=i[r].q||[]).push(arguments)},i[r].l=1*new Date();a=s.createElement(o),\\n  m=s.getElementsByTagName(o)[0];a.async=1;a.src=g;m.parentNode.insertBefore(a,m)\\n  })(window,document,\\'script\\',\\'https://www.google-analytics.com/analytics.js\\',\\'ga\\');\\n\\n  ga(\\'create\\', \\'UA-32365737-1\\', {\\n    cookieDomain: \\'ptt.cc\\',\\n    legacyCookieDomain: \\'ptt.cc\\'\\n  });\\n  ga(\\'send\\', \\'pageview\\');\\n</script>\\n\\n\\n\\t\\t\\n<script src=\"//ajax.googleapis.com/ajax/libs/jquery/2.1.1/jquery.min.js\"></script>\\n<script src=\"//images.ptt.cc/bbs/v2.22/bbs.js\"></script>\\n\\n    </body>\\n</html>\\n'"
      ]
     },
     "execution_count": 42,
     "metadata": {},
     "output_type": "execute_result"
    }
   ],
   "source": [
    "html"
   ]
  },
  {
   "cell_type": "code",
   "execution_count": 43,
   "metadata": {},
   "outputs": [
    {
     "data": {
      "text/plain": [
       "['/bbs/LoL/M.1507268114.A.4C0.html',\n",
       " '/bbs/LoL/M.1507268595.A.2D4.html',\n",
       " '/bbs/LoL/M.1507268681.A.EAE.html',\n",
       " '/bbs/LoL/M.1507268927.A.E83.html',\n",
       " '/bbs/LoL/M.1507269169.A.E3A.html',\n",
       " '/bbs/LoL/M.1507269207.A.499.html',\n",
       " '/bbs/LoL/M.1507269241.A.D88.html',\n",
       " '/bbs/LoL/M.1507269968.A.414.html',\n",
       " '/bbs/LoL/M.1507270039.A.B97.html',\n",
       " '/bbs/LoL/M.1507270097.A.AAF.html',\n",
       " '/bbs/LoL/M.1507270691.A.037.html',\n",
       " '/bbs/LoL/M.1507270731.A.E25.html',\n",
       " '/bbs/LoL/M.1507270803.A.458.html',\n",
       " '/bbs/LoL/M.1506304245.A.428.html',\n",
       " '/bbs/LoL/M.1506551347.A.B64.html',\n",
       " '/bbs/LoL/M.1506989737.A.05A.html',\n",
       " '/bbs/LoL/M.1507092944.A.A86.html',\n",
       " '/bbs/LoL/M.1507217553.A.FAA.html']"
      ]
     },
     "execution_count": 43,
     "metadata": {},
     "output_type": "execute_result"
    }
   ],
   "source": [
    "re.findall(\"/bbs/LoL/M.*html\", html)"
   ]
  },
  {
   "cell_type": "code",
   "execution_count": 53,
   "metadata": {
    "collapsed": true
   },
   "outputs": [],
   "source": [
    "page = 10\n",
    "last_page = 8936\n",
    "URL_TEMPLATE = \"https://www.ptt.cc\"\n",
    "\n",
    "urls = []\n",
    "\n",
    "for page_num in range(last_page, last_page - page, -1):\n",
    "    with open('./lol_{}.html'.format(page_num)) as f:\n",
    "        html = f.read()\n",
    "    page_urls = re.findall(\"/bbs/LoL/M.*html\", html)\n",
    "    urls.extend(page_urls)\n",
    "    \n",
    "final = []\n",
    "for url in urls:\n",
    "    final.append(URL_TEMPLATE + url)"
   ]
  },
  {
   "cell_type": "code",
   "execution_count": 54,
   "metadata": {},
   "outputs": [
    {
     "data": {
      "text/plain": [
       "['https://www.ptt.cc/bbs/LoL/M.1507268114.A.4C0.html',\n",
       " 'https://www.ptt.cc/bbs/LoL/M.1507268595.A.2D4.html',\n",
       " 'https://www.ptt.cc/bbs/LoL/M.1507268681.A.EAE.html',\n",
       " 'https://www.ptt.cc/bbs/LoL/M.1507268927.A.E83.html',\n",
       " 'https://www.ptt.cc/bbs/LoL/M.1507269169.A.E3A.html',\n",
       " 'https://www.ptt.cc/bbs/LoL/M.1507269207.A.499.html',\n",
       " 'https://www.ptt.cc/bbs/LoL/M.1507269241.A.D88.html',\n",
       " 'https://www.ptt.cc/bbs/LoL/M.1507269968.A.414.html',\n",
       " 'https://www.ptt.cc/bbs/LoL/M.1507270039.A.B97.html',\n",
       " 'https://www.ptt.cc/bbs/LoL/M.1507270097.A.AAF.html',\n",
       " 'https://www.ptt.cc/bbs/LoL/M.1507270691.A.037.html',\n",
       " 'https://www.ptt.cc/bbs/LoL/M.1507270731.A.E25.html',\n",
       " 'https://www.ptt.cc/bbs/LoL/M.1507270803.A.458.html',\n",
       " 'https://www.ptt.cc/bbs/LoL/M.1506304245.A.428.html',\n",
       " 'https://www.ptt.cc/bbs/LoL/M.1506551347.A.B64.html',\n",
       " 'https://www.ptt.cc/bbs/LoL/M.1506989737.A.05A.html',\n",
       " 'https://www.ptt.cc/bbs/LoL/M.1507092944.A.A86.html',\n",
       " 'https://www.ptt.cc/bbs/LoL/M.1507217553.A.FAA.html',\n",
       " 'https://www.ptt.cc/bbs/LoL/M.1507264130.A.3B0.html',\n",
       " 'https://www.ptt.cc/bbs/LoL/M.1507264576.A.ECA.html',\n",
       " 'https://www.ptt.cc/bbs/LoL/M.1507264752.A.CD6.html',\n",
       " 'https://www.ptt.cc/bbs/LoL/M.1507264938.A.9D3.html',\n",
       " 'https://www.ptt.cc/bbs/LoL/M.1507265130.A.66B.html',\n",
       " 'https://www.ptt.cc/bbs/LoL/M.1507265421.A.E07.html',\n",
       " 'https://www.ptt.cc/bbs/LoL/M.1507265490.A.3BF.html',\n",
       " 'https://www.ptt.cc/bbs/LoL/M.1507265514.A.462.html',\n",
       " 'https://www.ptt.cc/bbs/LoL/M.1507265567.A.51F.html',\n",
       " 'https://www.ptt.cc/bbs/LoL/M.1507266119.A.EA1.html',\n",
       " 'https://www.ptt.cc/bbs/LoL/M.1507266262.A.BEB.html',\n",
       " 'https://www.ptt.cc/bbs/LoL/M.1507266757.A.202.html',\n",
       " 'https://www.ptt.cc/bbs/LoL/M.1507267085.A.F1A.html',\n",
       " 'https://www.ptt.cc/bbs/LoL/M.1507267568.A.ACD.html',\n",
       " 'https://www.ptt.cc/bbs/LoL/M.1507267584.A.47A.html',\n",
       " 'https://www.ptt.cc/bbs/LoL/M.1507267590.A.F6E.html',\n",
       " 'https://www.ptt.cc/bbs/LoL/M.1507256311.A.F45.html',\n",
       " 'https://www.ptt.cc/bbs/LoL/M.1507256457.A.878.html',\n",
       " 'https://www.ptt.cc/bbs/LoL/M.1507256907.A.E64.html',\n",
       " 'https://www.ptt.cc/bbs/LoL/M.1507257188.A.2E1.html',\n",
       " 'https://www.ptt.cc/bbs/LoL/M.1507257840.A.C30.html',\n",
       " 'https://www.ptt.cc/bbs/LoL/M.1507259279.A.F2D.html',\n",
       " 'https://www.ptt.cc/bbs/LoL/M.1507259307.A.084.html',\n",
       " 'https://www.ptt.cc/bbs/LoL/M.1507259465.A.19E.html',\n",
       " 'https://www.ptt.cc/bbs/LoL/M.1507259524.A.F0D.html',\n",
       " 'https://www.ptt.cc/bbs/LoL/M.1507261174.A.96B.html',\n",
       " 'https://www.ptt.cc/bbs/LoL/M.1507262739.A.950.html',\n",
       " 'https://www.ptt.cc/bbs/LoL/M.1507262811.A.2FA.html',\n",
       " 'https://www.ptt.cc/bbs/LoL/M.1507262976.A.B0E.html',\n",
       " 'https://www.ptt.cc/bbs/LoL/M.1507263110.A.8CB.html',\n",
       " 'https://www.ptt.cc/bbs/LoL/M.1507263190.A.C89.html',\n",
       " 'https://www.ptt.cc/bbs/LoL/M.1507263223.A.A5A.html',\n",
       " 'https://www.ptt.cc/bbs/LoL/M.1507263500.A.938.html',\n",
       " 'https://www.ptt.cc/bbs/LoL/M.1507263502.A.4E3.html',\n",
       " 'https://www.ptt.cc/bbs/LoL/M.1507263782.A.690.html',\n",
       " 'https://www.ptt.cc/bbs/LoL/M.1507251279.A.834.html',\n",
       " 'https://www.ptt.cc/bbs/LoL/M.1507251783.A.BC3.html',\n",
       " 'https://www.ptt.cc/bbs/LoL/M.1507251855.A.B20.html',\n",
       " 'https://www.ptt.cc/bbs/LoL/M.1507251874.A.1E9.html',\n",
       " 'https://www.ptt.cc/bbs/LoL/M.1507252629.A.607.html',\n",
       " 'https://www.ptt.cc/bbs/LoL/M.1507252772.A.1C2.html',\n",
       " 'https://www.ptt.cc/bbs/LoL/M.1507253183.A.750.html',\n",
       " 'https://www.ptt.cc/bbs/LoL/M.1507253243.A.69F.html',\n",
       " 'https://www.ptt.cc/bbs/LoL/M.1507253525.A.071.html',\n",
       " 'https://www.ptt.cc/bbs/LoL/M.1507253769.A.DA4.html',\n",
       " 'https://www.ptt.cc/bbs/LoL/M.1507254257.A.8FD.html',\n",
       " 'https://www.ptt.cc/bbs/LoL/M.1507254540.A.0C8.html',\n",
       " 'https://www.ptt.cc/bbs/LoL/M.1507254552.A.DD3.html',\n",
       " 'https://www.ptt.cc/bbs/LoL/M.1507255211.A.E8A.html',\n",
       " 'https://www.ptt.cc/bbs/LoL/M.1507255264.A.5D0.html',\n",
       " 'https://www.ptt.cc/bbs/LoL/M.1507255326.A.EDF.html',\n",
       " 'https://www.ptt.cc/bbs/LoL/M.1507255770.A.561.html',\n",
       " 'https://www.ptt.cc/bbs/LoL/M.1507256239.A.2A6.html',\n",
       " 'https://www.ptt.cc/bbs/LoL/M.1507234931.A.5DB.html',\n",
       " 'https://www.ptt.cc/bbs/LoL/M.1507235480.A.181.html',\n",
       " 'https://www.ptt.cc/bbs/LoL/M.1507236025.A.B8F.html',\n",
       " 'https://www.ptt.cc/bbs/LoL/M.1507237138.A.F09.html',\n",
       " 'https://www.ptt.cc/bbs/LoL/M.1507237609.A.205.html',\n",
       " 'https://www.ptt.cc/bbs/LoL/M.1507240105.A.FCB.html',\n",
       " 'https://www.ptt.cc/bbs/LoL/M.1507240554.A.C93.html',\n",
       " 'https://www.ptt.cc/bbs/LoL/M.1507241167.A.AA9.html',\n",
       " 'https://www.ptt.cc/bbs/LoL/M.1507241787.A.FCC.html',\n",
       " 'https://www.ptt.cc/bbs/LoL/M.1507242601.A.712.html',\n",
       " 'https://www.ptt.cc/bbs/LoL/M.1507243179.A.D49.html',\n",
       " 'https://www.ptt.cc/bbs/LoL/M.1507243442.A.72E.html',\n",
       " 'https://www.ptt.cc/bbs/LoL/M.1507243641.A.CAC.html',\n",
       " 'https://www.ptt.cc/bbs/LoL/M.1507244307.A.E16.html',\n",
       " 'https://www.ptt.cc/bbs/LoL/M.1507245564.A.4AB.html',\n",
       " 'https://www.ptt.cc/bbs/LoL/M.1507249228.A.820.html',\n",
       " 'https://www.ptt.cc/bbs/LoL/M.1507249518.A.408.html',\n",
       " 'https://www.ptt.cc/bbs/LoL/M.1507249928.A.A4E.html',\n",
       " 'https://www.ptt.cc/bbs/LoL/M.1507250408.A.8F8.html',\n",
       " 'https://www.ptt.cc/bbs/LoL/M.1507223558.A.C35.html',\n",
       " 'https://www.ptt.cc/bbs/LoL/M.1507224711.A.45D.html',\n",
       " 'https://www.ptt.cc/bbs/LoL/M.1507225232.A.373.html',\n",
       " 'https://www.ptt.cc/bbs/LoL/M.1507225270.A.0F6.html',\n",
       " 'https://www.ptt.cc/bbs/LoL/M.1507225556.A.35C.html',\n",
       " 'https://www.ptt.cc/bbs/LoL/M.1507226065.A.890.html',\n",
       " 'https://www.ptt.cc/bbs/LoL/M.1507226399.A.4EB.html',\n",
       " 'https://www.ptt.cc/bbs/LoL/M.1507226591.A.851.html',\n",
       " 'https://www.ptt.cc/bbs/LoL/M.1507226682.A.642.html',\n",
       " 'https://www.ptt.cc/bbs/LoL/M.1507227705.A.016.html',\n",
       " 'https://www.ptt.cc/bbs/LoL/M.1507228429.A.C2C.html',\n",
       " 'https://www.ptt.cc/bbs/LoL/M.1507228635.A.3E4.html',\n",
       " 'https://www.ptt.cc/bbs/LoL/M.1507228996.A.0DC.html',\n",
       " 'https://www.ptt.cc/bbs/LoL/M.1507229732.A.371.html',\n",
       " 'https://www.ptt.cc/bbs/LoL/M.1507229934.A.0F0.html',\n",
       " 'https://www.ptt.cc/bbs/LoL/M.1507230891.A.149.html',\n",
       " 'https://www.ptt.cc/bbs/LoL/M.1507231028.A.AB6.html',\n",
       " 'https://www.ptt.cc/bbs/LoL/M.1507231349.A.AC8.html',\n",
       " 'https://www.ptt.cc/bbs/LoL/M.1507232768.A.745.html',\n",
       " 'https://www.ptt.cc/bbs/LoL/M.1507234192.A.FC2.html',\n",
       " 'https://www.ptt.cc/bbs/LoL/M.1507221309.A.8CD.html',\n",
       " 'https://www.ptt.cc/bbs/LoL/M.1507221366.A.049.html',\n",
       " 'https://www.ptt.cc/bbs/LoL/M.1507221448.A.5BC.html',\n",
       " 'https://www.ptt.cc/bbs/LoL/M.1507221670.A.355.html',\n",
       " 'https://www.ptt.cc/bbs/LoL/M.1507221788.A.E6F.html',\n",
       " 'https://www.ptt.cc/bbs/LoL/M.1507222006.A.DE8.html',\n",
       " 'https://www.ptt.cc/bbs/LoL/M.1507222153.A.74F.html',\n",
       " 'https://www.ptt.cc/bbs/LoL/M.1507222226.A.F92.html',\n",
       " 'https://www.ptt.cc/bbs/LoL/M.1507222284.A.4C2.html',\n",
       " 'https://www.ptt.cc/bbs/LoL/M.1507222308.A.EA8.html',\n",
       " 'https://www.ptt.cc/bbs/LoL/M.1507222413.A.778.html',\n",
       " 'https://www.ptt.cc/bbs/LoL/M.1507222420.A.CA1.html',\n",
       " 'https://www.ptt.cc/bbs/LoL/M.1507222426.A.BA1.html',\n",
       " 'https://www.ptt.cc/bbs/LoL/M.1507222609.A.6EA.html',\n",
       " 'https://www.ptt.cc/bbs/LoL/M.1507222610.A.181.html',\n",
       " 'https://www.ptt.cc/bbs/LoL/M.1507222819.A.D95.html',\n",
       " 'https://www.ptt.cc/bbs/LoL/M.1507222837.A.A3E.html',\n",
       " 'https://www.ptt.cc/bbs/LoL/M.1507222846.A.2DF.html',\n",
       " 'https://www.ptt.cc/bbs/LoL/M.1507223247.A.35E.html',\n",
       " 'https://www.ptt.cc/bbs/LoL/M.1507223287.A.CC3.html',\n",
       " 'https://www.ptt.cc/bbs/LoL/M.1507218207.A.C0E.html',\n",
       " 'https://www.ptt.cc/bbs/LoL/M.1507218242.A.70F.html',\n",
       " 'https://www.ptt.cc/bbs/LoL/M.1507218260.A.BDE.html',\n",
       " 'https://www.ptt.cc/bbs/LoL/M.1507218478.A.6D3.html',\n",
       " 'https://www.ptt.cc/bbs/LoL/M.1507218746.A.BB2.html',\n",
       " 'https://www.ptt.cc/bbs/LoL/M.1507218769.A.5BD.html',\n",
       " 'https://www.ptt.cc/bbs/LoL/M.1507218830.A.A4C.html',\n",
       " 'https://www.ptt.cc/bbs/LoL/M.1507219241.A.F8A.html',\n",
       " 'https://www.ptt.cc/bbs/LoL/M.1507219283.A.C90.html',\n",
       " 'https://www.ptt.cc/bbs/LoL/M.1507219394.A.0B4.html',\n",
       " 'https://www.ptt.cc/bbs/LoL/M.1507219437.A.4CB.html',\n",
       " 'https://www.ptt.cc/bbs/LoL/M.1507219475.A.977.html',\n",
       " 'https://www.ptt.cc/bbs/LoL/M.1507219587.A.73F.html',\n",
       " 'https://www.ptt.cc/bbs/LoL/M.1507219852.A.F87.html',\n",
       " 'https://www.ptt.cc/bbs/LoL/M.1507220199.A.577.html',\n",
       " 'https://www.ptt.cc/bbs/LoL/M.1507220762.A.3BB.html',\n",
       " 'https://www.ptt.cc/bbs/LoL/M.1507221130.A.BDC.html',\n",
       " 'https://www.ptt.cc/bbs/LoL/M.1507221154.A.828.html',\n",
       " 'https://www.ptt.cc/bbs/LoL/M.1507221185.A.E44.html',\n",
       " 'https://www.ptt.cc/bbs/LoL/M.1507221263.A.7F2.html',\n",
       " 'https://www.ptt.cc/bbs/LoL/M.1507215799.A.3AF.html',\n",
       " 'https://www.ptt.cc/bbs/LoL/M.1507215887.A.011.html',\n",
       " 'https://www.ptt.cc/bbs/LoL/M.1507215956.A.89A.html',\n",
       " 'https://www.ptt.cc/bbs/LoL/M.1507215956.A.D6A.html',\n",
       " 'https://www.ptt.cc/bbs/LoL/M.1507216306.A.136.html',\n",
       " 'https://www.ptt.cc/bbs/LoL/M.1507216463.A.29E.html',\n",
       " 'https://www.ptt.cc/bbs/LoL/M.1507216609.A.1E0.html',\n",
       " 'https://www.ptt.cc/bbs/LoL/M.1507216687.A.BF6.html',\n",
       " 'https://www.ptt.cc/bbs/LoL/M.1507216974.A.9C2.html',\n",
       " 'https://www.ptt.cc/bbs/LoL/M.1507216990.A.8E7.html',\n",
       " 'https://www.ptt.cc/bbs/LoL/M.1507217058.A.84C.html',\n",
       " 'https://www.ptt.cc/bbs/LoL/M.1507217426.A.C01.html',\n",
       " 'https://www.ptt.cc/bbs/LoL/M.1507217450.A.E59.html',\n",
       " 'https://www.ptt.cc/bbs/LoL/M.1507217553.A.FAA.html',\n",
       " 'https://www.ptt.cc/bbs/LoL/M.1507217565.A.C24.html',\n",
       " 'https://www.ptt.cc/bbs/LoL/M.1507217620.A.B2A.html',\n",
       " 'https://www.ptt.cc/bbs/LoL/M.1507217721.A.390.html',\n",
       " 'https://www.ptt.cc/bbs/LoL/M.1507217777.A.B76.html',\n",
       " 'https://www.ptt.cc/bbs/LoL/M.1507217808.A.9F5.html',\n",
       " 'https://www.ptt.cc/bbs/LoL/M.1507217981.A.A2B.html',\n",
       " 'https://www.ptt.cc/bbs/LoL/M.1507213727.A.A47.html',\n",
       " 'https://www.ptt.cc/bbs/LoL/M.1507213768.A.C41.html',\n",
       " 'https://www.ptt.cc/bbs/LoL/M.1507213830.A.C0A.html',\n",
       " 'https://www.ptt.cc/bbs/LoL/M.1507213879.A.374.html',\n",
       " 'https://www.ptt.cc/bbs/LoL/M.1507214347.A.21B.html',\n",
       " 'https://www.ptt.cc/bbs/LoL/M.1507214398.A.FEF.html',\n",
       " 'https://www.ptt.cc/bbs/LoL/M.1507214427.A.BA5.html',\n",
       " 'https://www.ptt.cc/bbs/LoL/M.1507214449.A.B94.html',\n",
       " 'https://www.ptt.cc/bbs/LoL/M.1507214555.A.C6D.html',\n",
       " 'https://www.ptt.cc/bbs/LoL/M.1507214570.A.9F0.html',\n",
       " 'https://www.ptt.cc/bbs/LoL/M.1507214576.A.CB4.html',\n",
       " 'https://www.ptt.cc/bbs/LoL/M.1507214588.A.913.html',\n",
       " 'https://www.ptt.cc/bbs/LoL/M.1507214692.A.2C9.html',\n",
       " 'https://www.ptt.cc/bbs/LoL/M.1507214727.A.84B.html',\n",
       " 'https://www.ptt.cc/bbs/LoL/M.1507214783.A.4BE.html',\n",
       " 'https://www.ptt.cc/bbs/LoL/M.1507214843.A.927.html',\n",
       " 'https://www.ptt.cc/bbs/LoL/M.1507215390.A.6D1.html',\n",
       " 'https://www.ptt.cc/bbs/LoL/M.1507215464.A.7C0.html',\n",
       " 'https://www.ptt.cc/bbs/LoL/M.1507215569.A.963.html',\n",
       " 'https://www.ptt.cc/bbs/LoL/M.1507215622.A.A0E.html']"
      ]
     },
     "execution_count": 54,
     "metadata": {},
     "output_type": "execute_result"
    }
   ],
   "source": [
    "final"
   ]
  },
  {
   "cell_type": "code",
   "execution_count": 56,
   "metadata": {
    "scrolled": true
   },
   "outputs": [
    {
     "data": {
      "text/plain": [
       "'https://www.ptt.cc/bbs/LoL/M.1507268114.A.4C0.html\\nhttps://www.ptt.cc/bbs/LoL/M.1507268595.A.2D4.html\\nhttps://www.ptt.cc/bbs/LoL/M.1507268681.A.EAE.html\\nhttps://www.ptt.cc/bbs/LoL/M.1507268927.A.E83.html\\nhttps://www.ptt.cc/bbs/LoL/M.1507269169.A.E3A.html\\nhttps://www.ptt.cc/bbs/LoL/M.1507269207.A.499.html\\nhttps://www.ptt.cc/bbs/LoL/M.1507269241.A.D88.html\\nhttps://www.ptt.cc/bbs/LoL/M.1507269968.A.414.html\\nhttps://www.ptt.cc/bbs/LoL/M.1507270039.A.B97.html\\nhttps://www.ptt.cc/bbs/LoL/M.1507270097.A.AAF.html\\nhttps://www.ptt.cc/bbs/LoL/M.1507270691.A.037.html\\nhttps://www.ptt.cc/bbs/LoL/M.1507270731.A.E25.html\\nhttps://www.ptt.cc/bbs/LoL/M.1507270803.A.458.html\\nhttps://www.ptt.cc/bbs/LoL/M.1506304245.A.428.html\\nhttps://www.ptt.cc/bbs/LoL/M.1506551347.A.B64.html\\nhttps://www.ptt.cc/bbs/LoL/M.1506989737.A.05A.html\\nhttps://www.ptt.cc/bbs/LoL/M.1507092944.A.A86.html\\nhttps://www.ptt.cc/bbs/LoL/M.1507217553.A.FAA.html\\nhttps://www.ptt.cc/bbs/LoL/M.1507264130.A.3B0.html\\nhttps://www.ptt.cc/bbs/LoL/M.1507264576.A.ECA.html\\nhttps://www.ptt.cc/bbs/LoL/M.1507264752.A.CD6.html\\nhttps://www.ptt.cc/bbs/LoL/M.1507264938.A.9D3.html\\nhttps://www.ptt.cc/bbs/LoL/M.1507265130.A.66B.html\\nhttps://www.ptt.cc/bbs/LoL/M.1507265421.A.E07.html\\nhttps://www.ptt.cc/bbs/LoL/M.1507265490.A.3BF.html\\nhttps://www.ptt.cc/bbs/LoL/M.1507265514.A.462.html\\nhttps://www.ptt.cc/bbs/LoL/M.1507265567.A.51F.html\\nhttps://www.ptt.cc/bbs/LoL/M.1507266119.A.EA1.html\\nhttps://www.ptt.cc/bbs/LoL/M.1507266262.A.BEB.html\\nhttps://www.ptt.cc/bbs/LoL/M.1507266757.A.202.html\\nhttps://www.ptt.cc/bbs/LoL/M.1507267085.A.F1A.html\\nhttps://www.ptt.cc/bbs/LoL/M.1507267568.A.ACD.html\\nhttps://www.ptt.cc/bbs/LoL/M.1507267584.A.47A.html\\nhttps://www.ptt.cc/bbs/LoL/M.1507267590.A.F6E.html\\nhttps://www.ptt.cc/bbs/LoL/M.1507256311.A.F45.html\\nhttps://www.ptt.cc/bbs/LoL/M.1507256457.A.878.html\\nhttps://www.ptt.cc/bbs/LoL/M.1507256907.A.E64.html\\nhttps://www.ptt.cc/bbs/LoL/M.1507257188.A.2E1.html\\nhttps://www.ptt.cc/bbs/LoL/M.1507257840.A.C30.html\\nhttps://www.ptt.cc/bbs/LoL/M.1507259279.A.F2D.html\\nhttps://www.ptt.cc/bbs/LoL/M.1507259307.A.084.html\\nhttps://www.ptt.cc/bbs/LoL/M.1507259465.A.19E.html\\nhttps://www.ptt.cc/bbs/LoL/M.1507259524.A.F0D.html\\nhttps://www.ptt.cc/bbs/LoL/M.1507261174.A.96B.html\\nhttps://www.ptt.cc/bbs/LoL/M.1507262739.A.950.html\\nhttps://www.ptt.cc/bbs/LoL/M.1507262811.A.2FA.html\\nhttps://www.ptt.cc/bbs/LoL/M.1507262976.A.B0E.html\\nhttps://www.ptt.cc/bbs/LoL/M.1507263110.A.8CB.html\\nhttps://www.ptt.cc/bbs/LoL/M.1507263190.A.C89.html\\nhttps://www.ptt.cc/bbs/LoL/M.1507263223.A.A5A.html\\nhttps://www.ptt.cc/bbs/LoL/M.1507263500.A.938.html\\nhttps://www.ptt.cc/bbs/LoL/M.1507263502.A.4E3.html\\nhttps://www.ptt.cc/bbs/LoL/M.1507263782.A.690.html\\nhttps://www.ptt.cc/bbs/LoL/M.1507251279.A.834.html\\nhttps://www.ptt.cc/bbs/LoL/M.1507251783.A.BC3.html\\nhttps://www.ptt.cc/bbs/LoL/M.1507251855.A.B20.html\\nhttps://www.ptt.cc/bbs/LoL/M.1507251874.A.1E9.html\\nhttps://www.ptt.cc/bbs/LoL/M.1507252629.A.607.html\\nhttps://www.ptt.cc/bbs/LoL/M.1507252772.A.1C2.html\\nhttps://www.ptt.cc/bbs/LoL/M.1507253183.A.750.html\\nhttps://www.ptt.cc/bbs/LoL/M.1507253243.A.69F.html\\nhttps://www.ptt.cc/bbs/LoL/M.1507253525.A.071.html\\nhttps://www.ptt.cc/bbs/LoL/M.1507253769.A.DA4.html\\nhttps://www.ptt.cc/bbs/LoL/M.1507254257.A.8FD.html\\nhttps://www.ptt.cc/bbs/LoL/M.1507254540.A.0C8.html\\nhttps://www.ptt.cc/bbs/LoL/M.1507254552.A.DD3.html\\nhttps://www.ptt.cc/bbs/LoL/M.1507255211.A.E8A.html\\nhttps://www.ptt.cc/bbs/LoL/M.1507255264.A.5D0.html\\nhttps://www.ptt.cc/bbs/LoL/M.1507255326.A.EDF.html\\nhttps://www.ptt.cc/bbs/LoL/M.1507255770.A.561.html\\nhttps://www.ptt.cc/bbs/LoL/M.1507256239.A.2A6.html\\nhttps://www.ptt.cc/bbs/LoL/M.1507234931.A.5DB.html\\nhttps://www.ptt.cc/bbs/LoL/M.1507235480.A.181.html\\nhttps://www.ptt.cc/bbs/LoL/M.1507236025.A.B8F.html\\nhttps://www.ptt.cc/bbs/LoL/M.1507237138.A.F09.html\\nhttps://www.ptt.cc/bbs/LoL/M.1507237609.A.205.html\\nhttps://www.ptt.cc/bbs/LoL/M.1507240105.A.FCB.html\\nhttps://www.ptt.cc/bbs/LoL/M.1507240554.A.C93.html\\nhttps://www.ptt.cc/bbs/LoL/M.1507241167.A.AA9.html\\nhttps://www.ptt.cc/bbs/LoL/M.1507241787.A.FCC.html\\nhttps://www.ptt.cc/bbs/LoL/M.1507242601.A.712.html\\nhttps://www.ptt.cc/bbs/LoL/M.1507243179.A.D49.html\\nhttps://www.ptt.cc/bbs/LoL/M.1507243442.A.72E.html\\nhttps://www.ptt.cc/bbs/LoL/M.1507243641.A.CAC.html\\nhttps://www.ptt.cc/bbs/LoL/M.1507244307.A.E16.html\\nhttps://www.ptt.cc/bbs/LoL/M.1507245564.A.4AB.html\\nhttps://www.ptt.cc/bbs/LoL/M.1507249228.A.820.html\\nhttps://www.ptt.cc/bbs/LoL/M.1507249518.A.408.html\\nhttps://www.ptt.cc/bbs/LoL/M.1507249928.A.A4E.html\\nhttps://www.ptt.cc/bbs/LoL/M.1507250408.A.8F8.html\\nhttps://www.ptt.cc/bbs/LoL/M.1507223558.A.C35.html\\nhttps://www.ptt.cc/bbs/LoL/M.1507224711.A.45D.html\\nhttps://www.ptt.cc/bbs/LoL/M.1507225232.A.373.html\\nhttps://www.ptt.cc/bbs/LoL/M.1507225270.A.0F6.html\\nhttps://www.ptt.cc/bbs/LoL/M.1507225556.A.35C.html\\nhttps://www.ptt.cc/bbs/LoL/M.1507226065.A.890.html\\nhttps://www.ptt.cc/bbs/LoL/M.1507226399.A.4EB.html\\nhttps://www.ptt.cc/bbs/LoL/M.1507226591.A.851.html\\nhttps://www.ptt.cc/bbs/LoL/M.1507226682.A.642.html\\nhttps://www.ptt.cc/bbs/LoL/M.1507227705.A.016.html\\nhttps://www.ptt.cc/bbs/LoL/M.1507228429.A.C2C.html\\nhttps://www.ptt.cc/bbs/LoL/M.1507228635.A.3E4.html\\nhttps://www.ptt.cc/bbs/LoL/M.1507228996.A.0DC.html\\nhttps://www.ptt.cc/bbs/LoL/M.1507229732.A.371.html\\nhttps://www.ptt.cc/bbs/LoL/M.1507229934.A.0F0.html\\nhttps://www.ptt.cc/bbs/LoL/M.1507230891.A.149.html\\nhttps://www.ptt.cc/bbs/LoL/M.1507231028.A.AB6.html\\nhttps://www.ptt.cc/bbs/LoL/M.1507231349.A.AC8.html\\nhttps://www.ptt.cc/bbs/LoL/M.1507232768.A.745.html\\nhttps://www.ptt.cc/bbs/LoL/M.1507234192.A.FC2.html\\nhttps://www.ptt.cc/bbs/LoL/M.1507221309.A.8CD.html\\nhttps://www.ptt.cc/bbs/LoL/M.1507221366.A.049.html\\nhttps://www.ptt.cc/bbs/LoL/M.1507221448.A.5BC.html\\nhttps://www.ptt.cc/bbs/LoL/M.1507221670.A.355.html\\nhttps://www.ptt.cc/bbs/LoL/M.1507221788.A.E6F.html\\nhttps://www.ptt.cc/bbs/LoL/M.1507222006.A.DE8.html\\nhttps://www.ptt.cc/bbs/LoL/M.1507222153.A.74F.html\\nhttps://www.ptt.cc/bbs/LoL/M.1507222226.A.F92.html\\nhttps://www.ptt.cc/bbs/LoL/M.1507222284.A.4C2.html\\nhttps://www.ptt.cc/bbs/LoL/M.1507222308.A.EA8.html\\nhttps://www.ptt.cc/bbs/LoL/M.1507222413.A.778.html\\nhttps://www.ptt.cc/bbs/LoL/M.1507222420.A.CA1.html\\nhttps://www.ptt.cc/bbs/LoL/M.1507222426.A.BA1.html\\nhttps://www.ptt.cc/bbs/LoL/M.1507222609.A.6EA.html\\nhttps://www.ptt.cc/bbs/LoL/M.1507222610.A.181.html\\nhttps://www.ptt.cc/bbs/LoL/M.1507222819.A.D95.html\\nhttps://www.ptt.cc/bbs/LoL/M.1507222837.A.A3E.html\\nhttps://www.ptt.cc/bbs/LoL/M.1507222846.A.2DF.html\\nhttps://www.ptt.cc/bbs/LoL/M.1507223247.A.35E.html\\nhttps://www.ptt.cc/bbs/LoL/M.1507223287.A.CC3.html\\nhttps://www.ptt.cc/bbs/LoL/M.1507218207.A.C0E.html\\nhttps://www.ptt.cc/bbs/LoL/M.1507218242.A.70F.html\\nhttps://www.ptt.cc/bbs/LoL/M.1507218260.A.BDE.html\\nhttps://www.ptt.cc/bbs/LoL/M.1507218478.A.6D3.html\\nhttps://www.ptt.cc/bbs/LoL/M.1507218746.A.BB2.html\\nhttps://www.ptt.cc/bbs/LoL/M.1507218769.A.5BD.html\\nhttps://www.ptt.cc/bbs/LoL/M.1507218830.A.A4C.html\\nhttps://www.ptt.cc/bbs/LoL/M.1507219241.A.F8A.html\\nhttps://www.ptt.cc/bbs/LoL/M.1507219283.A.C90.html\\nhttps://www.ptt.cc/bbs/LoL/M.1507219394.A.0B4.html\\nhttps://www.ptt.cc/bbs/LoL/M.1507219437.A.4CB.html\\nhttps://www.ptt.cc/bbs/LoL/M.1507219475.A.977.html\\nhttps://www.ptt.cc/bbs/LoL/M.1507219587.A.73F.html\\nhttps://www.ptt.cc/bbs/LoL/M.1507219852.A.F87.html\\nhttps://www.ptt.cc/bbs/LoL/M.1507220199.A.577.html\\nhttps://www.ptt.cc/bbs/LoL/M.1507220762.A.3BB.html\\nhttps://www.ptt.cc/bbs/LoL/M.1507221130.A.BDC.html\\nhttps://www.ptt.cc/bbs/LoL/M.1507221154.A.828.html\\nhttps://www.ptt.cc/bbs/LoL/M.1507221185.A.E44.html\\nhttps://www.ptt.cc/bbs/LoL/M.1507221263.A.7F2.html\\nhttps://www.ptt.cc/bbs/LoL/M.1507215799.A.3AF.html\\nhttps://www.ptt.cc/bbs/LoL/M.1507215887.A.011.html\\nhttps://www.ptt.cc/bbs/LoL/M.1507215956.A.89A.html\\nhttps://www.ptt.cc/bbs/LoL/M.1507215956.A.D6A.html\\nhttps://www.ptt.cc/bbs/LoL/M.1507216306.A.136.html\\nhttps://www.ptt.cc/bbs/LoL/M.1507216463.A.29E.html\\nhttps://www.ptt.cc/bbs/LoL/M.1507216609.A.1E0.html\\nhttps://www.ptt.cc/bbs/LoL/M.1507216687.A.BF6.html\\nhttps://www.ptt.cc/bbs/LoL/M.1507216974.A.9C2.html\\nhttps://www.ptt.cc/bbs/LoL/M.1507216990.A.8E7.html\\nhttps://www.ptt.cc/bbs/LoL/M.1507217058.A.84C.html\\nhttps://www.ptt.cc/bbs/LoL/M.1507217426.A.C01.html\\nhttps://www.ptt.cc/bbs/LoL/M.1507217450.A.E59.html\\nhttps://www.ptt.cc/bbs/LoL/M.1507217553.A.FAA.html\\nhttps://www.ptt.cc/bbs/LoL/M.1507217565.A.C24.html\\nhttps://www.ptt.cc/bbs/LoL/M.1507217620.A.B2A.html\\nhttps://www.ptt.cc/bbs/LoL/M.1507217721.A.390.html\\nhttps://www.ptt.cc/bbs/LoL/M.1507217777.A.B76.html\\nhttps://www.ptt.cc/bbs/LoL/M.1507217808.A.9F5.html\\nhttps://www.ptt.cc/bbs/LoL/M.1507217981.A.A2B.html\\nhttps://www.ptt.cc/bbs/LoL/M.1507213727.A.A47.html\\nhttps://www.ptt.cc/bbs/LoL/M.1507213768.A.C41.html\\nhttps://www.ptt.cc/bbs/LoL/M.1507213830.A.C0A.html\\nhttps://www.ptt.cc/bbs/LoL/M.1507213879.A.374.html\\nhttps://www.ptt.cc/bbs/LoL/M.1507214347.A.21B.html\\nhttps://www.ptt.cc/bbs/LoL/M.1507214398.A.FEF.html\\nhttps://www.ptt.cc/bbs/LoL/M.1507214427.A.BA5.html\\nhttps://www.ptt.cc/bbs/LoL/M.1507214449.A.B94.html\\nhttps://www.ptt.cc/bbs/LoL/M.1507214555.A.C6D.html\\nhttps://www.ptt.cc/bbs/LoL/M.1507214570.A.9F0.html\\nhttps://www.ptt.cc/bbs/LoL/M.1507214576.A.CB4.html\\nhttps://www.ptt.cc/bbs/LoL/M.1507214588.A.913.html\\nhttps://www.ptt.cc/bbs/LoL/M.1507214692.A.2C9.html\\nhttps://www.ptt.cc/bbs/LoL/M.1507214727.A.84B.html\\nhttps://www.ptt.cc/bbs/LoL/M.1507214783.A.4BE.html\\nhttps://www.ptt.cc/bbs/LoL/M.1507214843.A.927.html\\nhttps://www.ptt.cc/bbs/LoL/M.1507215390.A.6D1.html\\nhttps://www.ptt.cc/bbs/LoL/M.1507215464.A.7C0.html\\nhttps://www.ptt.cc/bbs/LoL/M.1507215569.A.963.html\\nhttps://www.ptt.cc/bbs/LoL/M.1507215622.A.A0E.html'"
      ]
     },
     "execution_count": 56,
     "metadata": {},
     "output_type": "execute_result"
    }
   ],
   "source": [
    "'\\n'.join(final)"
   ]
  },
  {
   "cell_type": "code",
   "execution_count": 58,
   "metadata": {},
   "outputs": [],
   "source": [
    "with open('./lol_urls.txt', 'w') as f:\n",
    "    f.write('\\n'.join(final))"
   ]
  },
  {
   "cell_type": "code",
   "execution_count": null,
   "metadata": {
    "collapsed": true
   },
   "outputs": [],
   "source": []
  }
 ],
 "metadata": {
  "kernelspec": {
   "display_name": "Python 3",
   "language": "python",
   "name": "python3"
  },
  "language_info": {
   "codemirror_mode": {
    "name": "ipython",
    "version": 3
   },
   "file_extension": ".py",
   "mimetype": "text/x-python",
   "name": "python",
   "nbconvert_exporter": "python",
   "pygments_lexer": "ipython3",
   "version": "3.6.1"
  }
 },
 "nbformat": 4,
 "nbformat_minor": 2
}
