{
 "cells": [
  {
   "cell_type": "code",
   "execution_count": 55,
   "metadata": {
    "collapsed": true
   },
   "outputs": [],
   "source": [
    "# More selenium/splinter examples\n",
    "import time\n",
    "\n",
    "import splinter"
   ]
  },
  {
   "cell_type": "code",
   "execution_count": 64,
   "metadata": {},
   "outputs": [],
   "source": [
    "browser = splinter.Browser('chrome')"
   ]
  },
  {
   "cell_type": "code",
   "execution_count": 65,
   "metadata": {
    "collapsed": true
   },
   "outputs": [],
   "source": [
    "agoda_sapporo = \"https://www.agoda.com/pages/agoda/default/DestinationSearchResult.aspx?city=3435&pagetypeid=103&origin=TW&cid=-1&tag=&gclid=&aid=130243&userId=6c681a7b-1d63-4a2a-bd08-2ca0d96baec8&languageId=1&sessionId=pmfnpqlgzwwhftausi1uzc3w&storefrontId=3&currencyCode=TWD&htmlLanguage=en-us&trafficType=User&cultureInfoName=en-US&checkIn=2018-01-12&checkOut=2018-01-22&los=10&rooms=1&adults=2&children=0&childages=&ckuid=6c681a7b-1d63-4a2a-bd08-2ca0d96baec8&priceCur=TWD&hotelReviewScore=5\"\n",
    "\n",
    "browser.visit(agoda_sapporo)"
   ]
  },
  {
   "cell_type": "code",
   "execution_count": 81,
   "metadata": {},
   "outputs": [
    {
     "name": "stdout",
     "output_type": "stream",
     "text": [
      "9777\n"
     ]
    }
   ],
   "source": [
    "scrollHeight = browser.evaluate_script(\"document.body.scrollHeight\")\n",
    "print(scrollHeight)"
   ]
  },
  {
   "cell_type": "code",
   "execution_count": 82,
   "metadata": {},
   "outputs": [],
   "source": [
    "step = 10\n",
    "for i in range(1,step+1):\n",
    "    browser.execute_script(\"window.scrollTo(0,%s)\"%(scrollHeight*i/step))\n",
    "    time.sleep(1)"
   ]
  },
  {
   "cell_type": "code",
   "execution_count": 83,
   "metadata": {},
   "outputs": [],
   "source": [
    "browser.execute_script(\"window.scrollTo(0,document.body.scrollHeight)\")"
   ]
  },
  {
   "cell_type": "code",
   "execution_count": 84,
   "metadata": {
    "collapsed": true
   },
   "outputs": [],
   "source": [
    "pg = 1\n",
    "with open('sapporo_%s.html'%pg, 'w') as f:\n",
    "    f.write(browser.html)"
   ]
  },
  {
   "cell_type": "code",
   "execution_count": 86,
   "metadata": {},
   "outputs": [
    {
     "name": "stdout",
     "output_type": "stream",
     "text": [
      "[END]\n"
     ]
    }
   ],
   "source": [
    "if browser.is_element_visible_by_css(\"#paginationNext\"):\n",
    "    browser.click_link_by_id(\"paginationNext\")\n",
    "else:\n",
    "    print(\"[END]\")"
   ]
  },
  {
   "cell_type": "code",
   "execution_count": 91,
   "metadata": {
    "scrolled": true
   },
   "outputs": [
    {
     "data": {
      "text/plain": [
       "{'ASP.NET_SessionId': 'cthv3ir2ugaa02lslovkkfgb',\n",
       " 'UserSession': 'd7d3ca0c-3f28-4a87-aca3-d8d27dcf326e',\n",
       " '_40-40-20Split': 'Group40A',\n",
       " '_ab50group': 'GroupB',\n",
       " '_ga': 'GA1.2.2039112362.1503540439',\n",
       " '_gid': 'GA1.2.1922229573.1503540439',\n",
       " 'agoda.allclicks': '-1||||2017-08-24T09:17:52||cthv3ir2ugaa02lslovkkfgb||{\"IsPaid\":false,\"gclid\":\"\",\"Type\":\"LC\"}',\n",
       " 'agoda.attr.01': 'CookieId=923d1fac-ff63-447d-bcad-c4e9cf3b649c',\n",
       " 'agoda.attr.03': 'CookieId=4709b7ae-9260-4869-b9b2-5de5de0651e1',\n",
       " 'agoda.firstclicks': '-1||||2017-08-24T09:07:14||cthv3ir2ugaa02lslovkkfgb||{\"IsPaid\":false,\"gclid\":\"\",\"Type\":\"\"}',\n",
       " 'agoda.lastclicks': '-1||||2017-08-24T09:07:14||cthv3ir2ugaa02lslovkkfgb||{\"IsPaid\":false,\"gclid\":\"\",\"Type\":\"\"}',\n",
       " 'agoda.prius': 'PriusID=0&PointsMaxTraffic=Agoda',\n",
       " 'agoda.search.01': 'SHist=1$3435$6220$10$1$2$0$0$$&H=',\n",
       " 'agoda.user.03': 'UserId=d7d3ca0c-3f28-4a87-aca3-d8d27dcf326e',\n",
       " 'agoda.version.03': 'CookieId=e981b526-7005-44d5-bec5-3e300e08bb66&AllocId=7f0515d356c3fe6ff1fa6f543a7861c9697637568d80bf5aed4d78b902535f08a5913e07880835fc943e39b84df5b822d230d810fd9d7e0c790f3bd259d95b7480d555b835ccd8f8527164151b8f02fd1ca386ae33e981b52670054d5ec53e300e08bb66&DPN=1&DLang=en-us&CurLabel=TWD&Alloc=953$27|2069$1|2071$100|2079$64|2221$76|2188$25|2192$100|2211$42|2201$76|2273$90|2291$72|2346$96|2226$89|2229$82|2288$100|2308$33|2333$4|2528$86&FEBuildVersion=&CuCur=28',\n",
       " 'agodalbhkg': 'www.agoda.com_cluster_2e',\n",
       " 'ak_bmsc': '046FEE95E678351F49633E0D129A9BCCCB45712F180C0000D4349E59F332B837~pletI5LK3fQqe9BuVViZO9it7qO2d1ROeVSpDrCKPut9zxCg7+UHl37r9t5PNOyX+UsHmCUM1UW/hRXg8bUO8Z+CGtZT6RMlEEGz2DSxw/estV7ubzUIjtfHK4zgP/wB+4GiEgI4xRrScCYfIpus7PCwWKar8wjjXrGyWWMM4hHthNXXwrL+9PAQpxNaVs44dvY3lQknLswLuT+iV3n61TNfisUm+xFz7KVeO6yWRElmjhHPY9T5nJqlkDn3tioQ1L',\n",
       " 'backendDataInSessionFlag': 'false',\n",
       " 'bm_mi': 'FDDE78CEA945DCA0DD69B80230BE83D1~boYFpQUGZFbe9DNULSTmifhtbfzYeOqtmmOtCGRzuDq40v/2o194xsZUKh50zlY3Epv0EJxFJUgWThDpK5ZjGDPYkkbtPCivs7YjQvRknCLPi2TIGa2x1Rcb5ucYJx1MeKlP5vyy5ufUI1l5pzAycUsyNkZbKQ/aGMccq/o8P9+1kX1OToOPUrODwdT+2q3fToBuXdNizePpy+GCfm3Au7xvCPdaPhZ65WzvbKkGIEt0ZssNuACCNCOGcAbSaqzN1zQNOH5fxavBw1NmVYLFgTLdcQ4sZVShu0EnjVzEvFNwgg0UHfmcBWdpZZ5rscRQ6FQdOws/FRFIP4GqMCCWYQ==',\n",
       " 'cd_user_id': '15e11fe6b0c962-01322481598fff-31627c01-140000-15e11fe6b0dc2d',\n",
       " 'kampyleSessionPageCounter': '1',\n",
       " 'kampyleUserSession': '1503541076193',\n",
       " 'kampyleUserSessionsCount': '3',\n",
       " 'kampyle_userid': 'fd7f-ad4f-f758-9e1c-39bd-7798-aede-a173',\n",
       " 'session_cache': '{\"Cache\":\"HK3\",\"Time\":\"636391378871557878\",\"SessionID\":\"cthv3ir2ugaa02lslovkkfgb\",\"CheckID\":\"f3516af86b6bf4fdc8c8f3bfce135af31ebc52a8\",\"CType\":\"N\"}',\n",
       " 'utag_main': 'v_id:015e11fe674a000b6f93bcf90d730507901dd07100918$_sn:1$_ss:0$_pn:3%3Bexp-session$_st:1503542875290$ses_id:1503540438858%3Bexp-session'}"
      ]
     },
     "execution_count": 91,
     "metadata": {},
     "output_type": "execute_result"
    }
   ],
   "source": [
    "browser.cookies.all()"
   ]
  },
  {
   "cell_type": "code",
   "execution_count": 63,
   "metadata": {},
   "outputs": [],
   "source": [
    "browser.quit()"
   ]
  }
 ],
 "metadata": {
  "kernelspec": {
   "display_name": "Python 3",
   "language": "python",
   "name": "python3"
  },
  "language_info": {
   "codemirror_mode": {
    "name": "ipython",
    "version": 3
   },
   "file_extension": ".py",
   "mimetype": "text/x-python",
   "name": "python",
   "nbconvert_exporter": "python",
   "pygments_lexer": "ipython3",
   "version": "3.6.1"
  }
 },
 "nbformat": 4,
 "nbformat_minor": 2
}
