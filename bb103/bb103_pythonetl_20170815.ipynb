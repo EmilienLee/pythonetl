{
 "cells": [
  {
   "cell_type": "code",
   "execution_count": 32,
   "metadata": {},
   "outputs": [
    {
     "name": "stdout",
     "output_type": "stream",
     "text": [
      "hi\n"
     ]
    }
   ],
   "source": [
    "print(\"hi\")"
   ]
  },
  {
   "cell_type": "code",
   "execution_count": 39,
   "metadata": {},
   "outputs": [
    {
     "name": "stdout",
     "output_type": "stream",
     "text": [
      "hi\n",
      "hi\n"
     ]
    }
   ],
   "source": [
    "# print() automatically adds a \\n to the end\n",
    "x = 'hi'\n",
    "print(x)\n",
    "print(x)"
   ]
  },
  {
   "cell_type": "code",
   "execution_count": 19,
   "metadata": {},
   "outputs": [
    {
     "data": {
      "text/plain": [
       "'\\nPrimitive Types\\n---------------\\n\\nIntegers\\n\\n\\n'"
      ]
     },
     "execution_count": 19,
     "metadata": {},
     "output_type": "execute_result"
    }
   ],
   "source": [
    "# Integers\n",
    "'''\n",
    "Primitive Types\n",
    "---------------\n",
    "\n",
    "Integers\n",
    "\n",
    "\n",
    "'''"
   ]
  },
  {
   "cell_type": "code",
   "execution_count": 4,
   "metadata": {},
   "outputs": [],
   "source": [
    "x = 1"
   ]
  },
  {
   "cell_type": "code",
   "execution_count": 6,
   "metadata": {},
   "outputs": [
    {
     "data": {
      "text/plain": [
       "1"
      ]
     },
     "execution_count": 6,
     "metadata": {},
     "output_type": "execute_result"
    }
   ],
   "source": [
    "x"
   ]
  },
  {
   "cell_type": "code",
   "execution_count": 7,
   "metadata": {},
   "outputs": [
    {
     "data": {
      "text/plain": [
       "int"
      ]
     },
     "execution_count": 7,
     "metadata": {},
     "output_type": "execute_result"
    }
   ],
   "source": [
    "type(x)"
   ]
  },
  {
   "cell_type": "code",
   "execution_count": 8,
   "metadata": {},
   "outputs": [
    {
     "data": {
      "text/plain": [
       "2"
      ]
     },
     "execution_count": 8,
     "metadata": {},
     "output_type": "execute_result"
    }
   ],
   "source": [
    "1 + 1"
   ]
  },
  {
   "cell_type": "code",
   "execution_count": 10,
   "metadata": {},
   "outputs": [
    {
     "data": {
      "text/plain": [
       "1"
      ]
     },
     "execution_count": 10,
     "metadata": {},
     "output_type": "execute_result"
    }
   ],
   "source": [
    "2 - 1"
   ]
  },
  {
   "cell_type": "code",
   "execution_count": 11,
   "metadata": {},
   "outputs": [
    {
     "data": {
      "text/plain": [
       "4"
      ]
     },
     "execution_count": 11,
     "metadata": {},
     "output_type": "execute_result"
    }
   ],
   "source": [
    "2 * 2"
   ]
  },
  {
   "cell_type": "code",
   "execution_count": 12,
   "metadata": {},
   "outputs": [
    {
     "data": {
      "text/plain": [
       "2.0"
      ]
     },
     "execution_count": 12,
     "metadata": {},
     "output_type": "execute_result"
    }
   ],
   "source": [
    "4 / 2"
   ]
  },
  {
   "cell_type": "code",
   "execution_count": 13,
   "metadata": {},
   "outputs": [
    {
     "data": {
      "text/plain": [
       "2.0"
      ]
     },
     "execution_count": 13,
     "metadata": {},
     "output_type": "execute_result"
    }
   ],
   "source": [
    "2.0"
   ]
  },
  {
   "cell_type": "code",
   "execution_count": 14,
   "metadata": {},
   "outputs": [
    {
     "data": {
      "text/plain": [
       "1.5"
      ]
     },
     "execution_count": 14,
     "metadata": {},
     "output_type": "execute_result"
    }
   ],
   "source": [
    "3 / 2"
   ]
  },
  {
   "cell_type": "code",
   "execution_count": 15,
   "metadata": {},
   "outputs": [
    {
     "data": {
      "text/plain": [
       "8"
      ]
     },
     "execution_count": 15,
     "metadata": {},
     "output_type": "execute_result"
    }
   ],
   "source": [
    "2 ** 3"
   ]
  },
  {
   "cell_type": "code",
   "execution_count": 17,
   "metadata": {},
   "outputs": [
    {
     "data": {
      "text/plain": [
       "1"
      ]
     },
     "execution_count": 17,
     "metadata": {},
     "output_type": "execute_result"
    }
   ],
   "source": [
    "10 % 3"
   ]
  },
  {
   "cell_type": "code",
   "execution_count": 28,
   "metadata": {},
   "outputs": [
    {
     "data": {
      "text/plain": [
       "'\\nStrings\\n'"
      ]
     },
     "execution_count": 28,
     "metadata": {},
     "output_type": "execute_result"
    }
   ],
   "source": [
    "\"\"\"\n",
    "Strings\n",
    "\"\"\""
   ]
  },
  {
   "cell_type": "code",
   "execution_count": 31,
   "metadata": {},
   "outputs": [
    {
     "data": {
      "text/plain": [
       "'Strings'"
      ]
     },
     "execution_count": 31,
     "metadata": {},
     "output_type": "execute_result"
    }
   ],
   "source": [
    "\"\"\"Strings\"\"\""
   ]
  },
  {
   "cell_type": "code",
   "execution_count": 21,
   "metadata": {},
   "outputs": [
    {
     "data": {
      "text/plain": [
       "'I am a string'"
      ]
     },
     "execution_count": 21,
     "metadata": {},
     "output_type": "execute_result"
    }
   ],
   "source": [
    "'I am a string'"
   ]
  },
  {
   "cell_type": "code",
   "execution_count": 22,
   "metadata": {
    "collapsed": true
   },
   "outputs": [],
   "source": [
    "mystr = 'I am another string'"
   ]
  },
  {
   "cell_type": "code",
   "execution_count": 23,
   "metadata": {},
   "outputs": [
    {
     "data": {
      "text/plain": [
       "str"
      ]
     },
     "execution_count": 23,
     "metadata": {},
     "output_type": "execute_result"
    }
   ],
   "source": [
    "type(mystr)"
   ]
  },
  {
   "cell_type": "code",
   "execution_count": 24,
   "metadata": {},
   "outputs": [
    {
     "data": {
      "text/plain": [
       "'I am double quoted string'"
      ]
     },
     "execution_count": 24,
     "metadata": {},
     "output_type": "execute_result"
    }
   ],
   "source": [
    "\"I am double quoted string\""
   ]
  },
  {
   "cell_type": "code",
   "execution_count": 27,
   "metadata": {},
   "outputs": [
    {
     "data": {
      "text/plain": [
       "'I\\'m double \"quoted\" string'"
      ]
     },
     "execution_count": 27,
     "metadata": {},
     "output_type": "execute_result"
    }
   ],
   "source": [
    "# use \\ to escape ', but \\ will remain in string\n",
    "'I\\'m double \"quoted\" string'"
   ]
  },
  {
   "cell_type": "code",
   "execution_count": 40,
   "metadata": {
    "collapsed": true
   },
   "outputs": [],
   "source": [
    "# String manipulations"
   ]
  },
  {
   "cell_type": "code",
   "execution_count": 41,
   "metadata": {
    "collapsed": true
   },
   "outputs": [],
   "source": [
    "name = \"Ian\""
   ]
  },
  {
   "cell_type": "code",
   "execution_count": 42,
   "metadata": {
    "collapsed": true
   },
   "outputs": [],
   "source": [
    "greeting = \"Hi, my name is \""
   ]
  },
  {
   "cell_type": "code",
   "execution_count": 43,
   "metadata": {},
   "outputs": [
    {
     "data": {
      "text/plain": [
       "'Hi, my name is Ian'"
      ]
     },
     "execution_count": 43,
     "metadata": {},
     "output_type": "execute_result"
    }
   ],
   "source": [
    "greeting + name"
   ]
  },
  {
   "cell_type": "code",
   "execution_count": 46,
   "metadata": {
    "collapsed": true
   },
   "outputs": [],
   "source": [
    "ending = \". Nice to meet you\""
   ]
  },
  {
   "cell_type": "code",
   "execution_count": 47,
   "metadata": {},
   "outputs": [
    {
     "data": {
      "text/plain": [
       "'Hi, my name is Ian. Nice to meet you'"
      ]
     },
     "execution_count": 47,
     "metadata": {},
     "output_type": "execute_result"
    }
   ],
   "source": [
    "greeting + name + ending"
   ]
  },
  {
   "cell_type": "code",
   "execution_count": 49,
   "metadata": {},
   "outputs": [
    {
     "data": {
      "text/plain": [
       "'Hi, my name is Ian. Nice to meet you'"
      ]
     },
     "execution_count": 49,
     "metadata": {},
     "output_type": "execute_result"
    }
   ],
   "source": [
    "# String interpolation. templating\n",
    "'Hi, my name is {}. Nice to meet you'.format(name)"
   ]
  },
  {
   "cell_type": "code",
   "execution_count": 50,
   "metadata": {},
   "outputs": [
    {
     "data": {
      "text/plain": [
       "'Hi, my name is Ian. Nice to meet you. My email is ianchen06@gmail.com'"
      ]
     },
     "execution_count": 50,
     "metadata": {},
     "output_type": "execute_result"
    }
   ],
   "source": [
    "# String interpolation. templating\n",
    "'Hi, my name is {}. Nice to meet you. My email is {}'.format(name, 'ianchen06@gmail.com')"
   ]
  },
  {
   "cell_type": "code",
   "execution_count": 51,
   "metadata": {},
   "outputs": [
    {
     "data": {
      "text/plain": [
       "'Hi, my name is Ian. People call me Ian. Nice to meet you. My email is ianchen06@gmail.com.'"
      ]
     },
     "execution_count": 51,
     "metadata": {},
     "output_type": "execute_result"
    }
   ],
   "source": [
    "# String interpolation. templating\n",
    "'Hi, my name is {0}. People call me {0}. Nice to meet you. My email is {1}.'.format(name, 'ianchen06@gmail.com')"
   ]
  },
  {
   "cell_type": "code",
   "execution_count": 56,
   "metadata": {},
   "outputs": [
    {
     "data": {
      "text/plain": [
       "'Hi, my name is Ian. People call me Ian. Nice to meet you. My email is ianchen06@gmail.com.'"
      ]
     },
     "execution_count": 56,
     "metadata": {},
     "output_type": "execute_result"
    }
   ],
   "source": [
    "# String interpolation. templating\n",
    "'Hi, my name is {name}. People call me {name}. Nice to meet you. My email is {mail}.'.format(\n",
    "    name=\"Ian\", mail='ianchen06@gmail.com')"
   ]
  },
  {
   "cell_type": "code",
   "execution_count": 60,
   "metadata": {},
   "outputs": [
    {
     "data": {
      "text/plain": [
       "'[DEBUG] name is Ian'"
      ]
     },
     "execution_count": 60,
     "metadata": {},
     "output_type": "execute_result"
    }
   ],
   "source": [
    "# example log message\n",
    "\"[DEBUG] name is %s\"%name"
   ]
  },
  {
   "cell_type": "code",
   "execution_count": null,
   "metadata": {
    "collapsed": true
   },
   "outputs": [],
   "source": [
    "# Format spec\n",
    "# https://docs.python.org/3/library/string.html#format-specification-mini-language"
   ]
  },
  {
   "cell_type": "code",
   "execution_count": 63,
   "metadata": {},
   "outputs": [
    {
     "data": {
      "text/plain": [
       "'Money is 2.00'"
      ]
     },
     "execution_count": 63,
     "metadata": {},
     "output_type": "execute_result"
    }
   ],
   "source": [
    "# decimal 2 places\n",
    "'Money is {:.2f}'.format(1.99999)"
   ]
  },
  {
   "cell_type": "code",
   "execution_count": 65,
   "metadata": {},
   "outputs": [
    {
     "data": {
      "text/plain": [
       "'Money is 2.00'"
      ]
     },
     "execution_count": 65,
     "metadata": {},
     "output_type": "execute_result"
    }
   ],
   "source": [
    "'Money is %.2f'%(1.99999)"
   ]
  },
  {
   "cell_type": "code",
   "execution_count": 68,
   "metadata": {
    "collapsed": true
   },
   "outputs": [],
   "source": [
    "# String transformation"
   ]
  },
  {
   "cell_type": "code",
   "execution_count": 69,
   "metadata": {},
   "outputs": [
    {
     "data": {
      "text/plain": [
       "'harry potter'"
      ]
     },
     "execution_count": 69,
     "metadata": {},
     "output_type": "execute_result"
    }
   ],
   "source": [
    "'harry potter'"
   ]
  },
  {
   "cell_type": "code",
   "execution_count": 70,
   "metadata": {},
   "outputs": [
    {
     "data": {
      "text/plain": [
       "'Harry Potter'"
      ]
     },
     "execution_count": 70,
     "metadata": {},
     "output_type": "execute_result"
    }
   ],
   "source": [
    "'harry potter'.title()"
   ]
  },
  {
   "cell_type": "code",
   "execution_count": 71,
   "metadata": {},
   "outputs": [
    {
     "data": {
      "text/plain": [
       "'harry potter'"
      ]
     },
     "execution_count": 71,
     "metadata": {},
     "output_type": "execute_result"
    }
   ],
   "source": [
    "'HaRRY PotteR'.lower()"
   ]
  },
  {
   "cell_type": "code",
   "execution_count": 72,
   "metadata": {},
   "outputs": [
    {
     "data": {
      "text/plain": [
       "'HARRY POTTER'"
      ]
     },
     "execution_count": 72,
     "metadata": {},
     "output_type": "execute_result"
    }
   ],
   "source": [
    "'HaRRY PotteR'.upper()"
   ]
  },
  {
   "cell_type": "code",
   "execution_count": 129,
   "metadata": {},
   "outputs": [
    {
     "data": {
      "text/plain": [
       "'big'"
      ]
     },
     "execution_count": 129,
     "metadata": {},
     "output_type": "execute_result"
    }
   ],
   "source": [
    "original_text = 'BIG'\n",
    "original_text.lower()"
   ]
  },
  {
   "cell_type": "code",
   "execution_count": 130,
   "metadata": {},
   "outputs": [
    {
     "data": {
      "text/plain": [
       "'BIG'"
      ]
     },
     "execution_count": 130,
     "metadata": {},
     "output_type": "execute_result"
    }
   ],
   "source": [
    "original_text"
   ]
  },
  {
   "cell_type": "code",
   "execution_count": 79,
   "metadata": {},
   "outputs": [],
   "source": [
    "internet_text = \"\"\"\n",
    "\n",
    "HI I am some text from the Internet, I am highly styled with white spaces...yay\n",
    "\n",
    "\n",
    "      \"\"\""
   ]
  },
  {
   "cell_type": "code",
   "execution_count": 80,
   "metadata": {},
   "outputs": [
    {
     "data": {
      "text/plain": [
       "'\\n\\nHI I am some text from the Internet, I am highly styled with white spaces...yay\\n\\n\\n      '"
      ]
     },
     "execution_count": 80,
     "metadata": {},
     "output_type": "execute_result"
    }
   ],
   "source": [
    "internet_text"
   ]
  },
  {
   "cell_type": "code",
   "execution_count": 84,
   "metadata": {},
   "outputs": [
    {
     "data": {
      "text/plain": [
       "'HI I am some text from the Internet, I am highly styled with white spaces...yay'"
      ]
     },
     "execution_count": 84,
     "metadata": {},
     "output_type": "execute_result"
    }
   ],
   "source": [
    "# strip the white spaces....\n",
    "internet_text.strip()"
   ]
  },
  {
   "cell_type": "code",
   "execution_count": 82,
   "metadata": {},
   "outputs": [
    {
     "data": {
      "text/plain": [
       "'HI I am some text from the Internet, I am highly styled with white spaces...yay\\n\\n\\n      '"
      ]
     },
     "execution_count": 82,
     "metadata": {},
     "output_type": "execute_result"
    }
   ],
   "source": [
    "internet_text.lstrip()"
   ]
  },
  {
   "cell_type": "code",
   "execution_count": 83,
   "metadata": {},
   "outputs": [
    {
     "data": {
      "text/plain": [
       "'\\n\\nHI I am some text from the Internet, I am highly styled with white spaces...yay'"
      ]
     },
     "execution_count": 83,
     "metadata": {},
     "output_type": "execute_result"
    }
   ],
   "source": [
    "internet_text.rstrip()"
   ]
  },
  {
   "cell_type": "code",
   "execution_count": 86,
   "metadata": {
    "collapsed": true
   },
   "outputs": [],
   "source": [
    "mycsv = 'Happy Potter,599,100,Penguin'"
   ]
  },
  {
   "cell_type": "code",
   "execution_count": 89,
   "metadata": {},
   "outputs": [
    {
     "data": {
      "text/plain": [
       "['Happy Potter', '599', '100', 'Penguin']"
      ]
     },
     "execution_count": 89,
     "metadata": {},
     "output_type": "execute_result"
    }
   ],
   "source": [
    "harry = mycsv.split(',')\n",
    "harry"
   ]
  },
  {
   "cell_type": "code",
   "execution_count": 94,
   "metadata": {},
   "outputs": [
    {
     "data": {
      "text/plain": [
       "['Happy Potter', '999', '100', 'Penguin']"
      ]
     },
     "execution_count": 94,
     "metadata": {},
     "output_type": "execute_result"
    }
   ],
   "source": [
    "harry[1] = '999'\n",
    "harry"
   ]
  },
  {
   "cell_type": "code",
   "execution_count": 95,
   "metadata": {},
   "outputs": [
    {
     "data": {
      "text/plain": [
       "'Happy Potter,999,100,Penguin'"
      ]
     },
     "execution_count": 95,
     "metadata": {},
     "output_type": "execute_result"
    }
   ],
   "source": [
    "\",\".join(harry)"
   ]
  },
  {
   "cell_type": "code",
   "execution_count": 99,
   "metadata": {},
   "outputs": [
    {
     "data": {
      "text/plain": [
       "False"
      ]
     },
     "execution_count": 99,
     "metadata": {},
     "output_type": "execute_result"
    }
   ],
   "source": [
    "# Boolean\n",
    "True\n",
    "False"
   ]
  },
  {
   "cell_type": "code",
   "execution_count": 100,
   "metadata": {},
   "outputs": [
    {
     "data": {
      "text/plain": [
       "True"
      ]
     },
     "execution_count": 100,
     "metadata": {},
     "output_type": "execute_result"
    }
   ],
   "source": [
    "True == True"
   ]
  },
  {
   "cell_type": "code",
   "execution_count": 102,
   "metadata": {},
   "outputs": [
    {
     "data": {
      "text/plain": [
       "True"
      ]
     },
     "execution_count": 102,
     "metadata": {},
     "output_type": "execute_result"
    }
   ],
   "source": [
    "False != True"
   ]
  },
  {
   "cell_type": "code",
   "execution_count": 103,
   "metadata": {},
   "outputs": [
    {
     "data": {
      "text/plain": [
       "True"
      ]
     },
     "execution_count": 103,
     "metadata": {},
     "output_type": "execute_result"
    }
   ],
   "source": [
    "not False == True"
   ]
  },
  {
   "cell_type": "code",
   "execution_count": 104,
   "metadata": {},
   "outputs": [
    {
     "data": {
      "text/plain": [
       "False"
      ]
     },
     "execution_count": 104,
     "metadata": {},
     "output_type": "execute_result"
    }
   ],
   "source": [
    "1 > 3"
   ]
  },
  {
   "cell_type": "code",
   "execution_count": 105,
   "metadata": {},
   "outputs": [
    {
     "data": {
      "text/plain": [
       "True"
      ]
     },
     "execution_count": 105,
     "metadata": {},
     "output_type": "execute_result"
    }
   ],
   "source": [
    "1 < 3"
   ]
  },
  {
   "cell_type": "code",
   "execution_count": 96,
   "metadata": {
    "collapsed": true
   },
   "outputs": [],
   "source": [
    "# Collections"
   ]
  },
  {
   "cell_type": "code",
   "execution_count": 97,
   "metadata": {},
   "outputs": [
    {
     "data": {
      "text/plain": [
       "[1, 2, 3]"
      ]
     },
     "execution_count": 97,
     "metadata": {},
     "output_type": "execute_result"
    }
   ],
   "source": [
    "[1, 2, 3]"
   ]
  },
  {
   "cell_type": "code",
   "execution_count": 98,
   "metadata": {},
   "outputs": [
    {
     "data": {
      "text/plain": [
       "['python', 1, True]"
      ]
     },
     "execution_count": 98,
     "metadata": {},
     "output_type": "execute_result"
    }
   ],
   "source": [
    "['python', 1, True]"
   ]
  },
  {
   "cell_type": "code",
   "execution_count": 106,
   "metadata": {},
   "outputs": [
    {
     "data": {
      "text/plain": [
       "'python'"
      ]
     },
     "execution_count": 106,
     "metadata": {},
     "output_type": "execute_result"
    }
   ],
   "source": [
    "['python', 1, True][0]"
   ]
  },
  {
   "cell_type": "code",
   "execution_count": 107,
   "metadata": {},
   "outputs": [
    {
     "data": {
      "text/plain": [
       "1"
      ]
     },
     "execution_count": 107,
     "metadata": {},
     "output_type": "execute_result"
    }
   ],
   "source": [
    "['python', 1, True][1]"
   ]
  },
  {
   "cell_type": "code",
   "execution_count": 108,
   "metadata": {},
   "outputs": [
    {
     "data": {
      "text/plain": [
       "True"
      ]
     },
     "execution_count": 108,
     "metadata": {},
     "output_type": "execute_result"
    }
   ],
   "source": [
    "['python', 1, True][2]"
   ]
  },
  {
   "cell_type": "code",
   "execution_count": 118,
   "metadata": {},
   "outputs": [
    {
     "data": {
      "text/plain": [
       "True"
      ]
     },
     "execution_count": 118,
     "metadata": {},
     "output_type": "execute_result"
    }
   ],
   "source": [
    "['python', 1, True][-1]"
   ]
  },
  {
   "cell_type": "code",
   "execution_count": 119,
   "metadata": {},
   "outputs": [
    {
     "data": {
      "text/plain": [
       "['python', True]"
      ]
     },
     "execution_count": 119,
     "metadata": {},
     "output_type": "execute_result"
    }
   ],
   "source": [
    "['python', 1, True][::2]"
   ]
  },
  {
   "cell_type": "code",
   "execution_count": 122,
   "metadata": {},
   "outputs": [
    {
     "data": {
      "text/plain": [
       "[4, 6]"
      ]
     },
     "execution_count": 122,
     "metadata": {},
     "output_type": "execute_result"
    }
   ],
   "source": [
    "# [start:end:step]\n",
    "[1,2,3,4,5,6,7,8,9][3:7:2]"
   ]
  },
  {
   "cell_type": "code",
   "execution_count": 124,
   "metadata": {},
   "outputs": [
    {
     "data": {
      "text/plain": [
       "[4, 6, 8]"
      ]
     },
     "execution_count": 124,
     "metadata": {},
     "output_type": "execute_result"
    }
   ],
   "source": [
    "# [start:end:step]\n",
    "[1,2,3,4,5,6,7,8,9][3:9:2]"
   ]
  },
  {
   "cell_type": "code",
   "execution_count": 125,
   "metadata": {},
   "outputs": [
    {
     "data": {
      "text/plain": [
       "[9, 8, 7, 6, 5, 4, 3, 2, 1]"
      ]
     },
     "execution_count": 125,
     "metadata": {},
     "output_type": "execute_result"
    }
   ],
   "source": [
    "[1,2,3,4,5,6,7,8,9][::-1]"
   ]
  },
  {
   "cell_type": "code",
   "execution_count": 143,
   "metadata": {
    "collapsed": true
   },
   "outputs": [],
   "source": [
    "prog_langs = []"
   ]
  },
  {
   "cell_type": "code",
   "execution_count": 144,
   "metadata": {},
   "outputs": [
    {
     "data": {
      "text/plain": [
       "[]"
      ]
     },
     "execution_count": 144,
     "metadata": {},
     "output_type": "execute_result"
    }
   ],
   "source": [
    "prog_langs"
   ]
  },
  {
   "cell_type": "code",
   "execution_count": 145,
   "metadata": {},
   "outputs": [],
   "source": [
    "prog_langs.append('python')"
   ]
  },
  {
   "cell_type": "code",
   "execution_count": 146,
   "metadata": {},
   "outputs": [
    {
     "data": {
      "text/plain": [
       "['python']"
      ]
     },
     "execution_count": 146,
     "metadata": {},
     "output_type": "execute_result"
    }
   ],
   "source": [
    "prog_langs"
   ]
  },
  {
   "cell_type": "code",
   "execution_count": 147,
   "metadata": {
    "collapsed": true
   },
   "outputs": [],
   "source": [
    "prog_langs.append('ruby')"
   ]
  },
  {
   "cell_type": "code",
   "execution_count": 148,
   "metadata": {},
   "outputs": [
    {
     "data": {
      "text/plain": [
       "['python', 'ruby']"
      ]
     },
     "execution_count": 148,
     "metadata": {},
     "output_type": "execute_result"
    }
   ],
   "source": [
    "prog_langs"
   ]
  },
  {
   "cell_type": "code",
   "execution_count": 149,
   "metadata": {
    "collapsed": true
   },
   "outputs": [],
   "source": [
    "prog_langs.append('java')"
   ]
  },
  {
   "cell_type": "code",
   "execution_count": 150,
   "metadata": {},
   "outputs": [
    {
     "data": {
      "text/plain": [
       "['python', 'ruby', 'java']"
      ]
     },
     "execution_count": 150,
     "metadata": {},
     "output_type": "execute_result"
    }
   ],
   "source": [
    "prog_langs"
   ]
  },
  {
   "cell_type": "code",
   "execution_count": 153,
   "metadata": {
    "collapsed": true
   },
   "outputs": [],
   "source": [
    "prog_langs.insert(1, 'node.js')"
   ]
  },
  {
   "cell_type": "code",
   "execution_count": 154,
   "metadata": {},
   "outputs": [
    {
     "data": {
      "text/plain": [
       "['python', 'node.js', 'ruby', 'scala']"
      ]
     },
     "execution_count": 154,
     "metadata": {},
     "output_type": "execute_result"
    }
   ],
   "source": [
    "prog_langs"
   ]
  },
  {
   "cell_type": "code",
   "execution_count": 155,
   "metadata": {},
   "outputs": [
    {
     "data": {
      "text/plain": [
       "True"
      ]
     },
     "execution_count": 155,
     "metadata": {},
     "output_type": "execute_result"
    }
   ],
   "source": [
    "'python' in prog_langs"
   ]
  },
  {
   "cell_type": "code",
   "execution_count": 156,
   "metadata": {},
   "outputs": [
    {
     "data": {
      "text/plain": [
       "False"
      ]
     },
     "execution_count": 156,
     "metadata": {},
     "output_type": "execute_result"
    }
   ],
   "source": [
    "'kotlin' in prog_langs"
   ]
  },
  {
   "cell_type": "code",
   "execution_count": 157,
   "metadata": {},
   "outputs": [
    {
     "data": {
      "text/plain": [
       "False"
      ]
     },
     "execution_count": 157,
     "metadata": {},
     "output_type": "execute_result"
    }
   ],
   "source": [
    "'objective c' in prog_langs"
   ]
  },
  {
   "cell_type": "code",
   "execution_count": 158,
   "metadata": {},
   "outputs": [
    {
     "data": {
      "text/plain": [
       "True"
      ]
     },
     "execution_count": 158,
     "metadata": {},
     "output_type": "execute_result"
    }
   ],
   "source": [
    "'ruby' in prog_langs"
   ]
  },
  {
   "cell_type": "code",
   "execution_count": 151,
   "metadata": {
    "collapsed": true
   },
   "outputs": [],
   "source": [
    "prog_langs[2] = 'scala'"
   ]
  },
  {
   "cell_type": "code",
   "execution_count": 152,
   "metadata": {},
   "outputs": [
    {
     "data": {
      "text/plain": [
       "['python', 'ruby', 'scala']"
      ]
     },
     "execution_count": 152,
     "metadata": {},
     "output_type": "execute_result"
    }
   ],
   "source": [
    "prog_langs"
   ]
  },
  {
   "cell_type": "code",
   "execution_count": 139,
   "metadata": {
    "collapsed": true
   },
   "outputs": [],
   "source": [
    "del prog_langs[-1]"
   ]
  },
  {
   "cell_type": "code",
   "execution_count": 140,
   "metadata": {},
   "outputs": [
    {
     "data": {
      "text/plain": [
       "['python', 'ruby']"
      ]
     },
     "execution_count": 140,
     "metadata": {},
     "output_type": "execute_result"
    }
   ],
   "source": [
    "prog_langs"
   ]
  },
  {
   "cell_type": "code",
   "execution_count": 141,
   "metadata": {},
   "outputs": [
    {
     "data": {
      "text/plain": [
       "'ruby'"
      ]
     },
     "execution_count": 141,
     "metadata": {},
     "output_type": "execute_result"
    }
   ],
   "source": [
    "prog_langs.pop()"
   ]
  },
  {
   "cell_type": "code",
   "execution_count": 142,
   "metadata": {},
   "outputs": [
    {
     "data": {
      "text/plain": [
       "['python']"
      ]
     },
     "execution_count": 142,
     "metadata": {},
     "output_type": "execute_result"
    }
   ],
   "source": [
    "prog_langs"
   ]
  },
  {
   "cell_type": "code",
   "execution_count": 159,
   "metadata": {
    "collapsed": true
   },
   "outputs": [],
   "source": [
    "# Dictionary\n",
    "person = {}"
   ]
  },
  {
   "cell_type": "code",
   "execution_count": 160,
   "metadata": {
    "collapsed": true
   },
   "outputs": [],
   "source": [
    "# Insert\n",
    "person['name'] = 'Ian'"
   ]
  },
  {
   "cell_type": "code",
   "execution_count": 161,
   "metadata": {},
   "outputs": [
    {
     "data": {
      "text/plain": [
       "{'name': 'Ian'}"
      ]
     },
     "execution_count": 161,
     "metadata": {},
     "output_type": "execute_result"
    }
   ],
   "source": [
    "person"
   ]
  },
  {
   "cell_type": "code",
   "execution_count": 162,
   "metadata": {
    "collapsed": true
   },
   "outputs": [],
   "source": [
    "person['email'] = 'ianchen06@gmail.com'"
   ]
  },
  {
   "cell_type": "code",
   "execution_count": 163,
   "metadata": {},
   "outputs": [
    {
     "data": {
      "text/plain": [
       "{'email': 'ianchen06@gmail.com', 'name': 'Ian'}"
      ]
     },
     "execution_count": 163,
     "metadata": {},
     "output_type": "execute_result"
    }
   ],
   "source": [
    "person"
   ]
  },
  {
   "cell_type": "code",
   "execution_count": 164,
   "metadata": {
    "collapsed": true
   },
   "outputs": [],
   "source": [
    "person['prog_langs'] = ['python', 'ruby', 'javascript']"
   ]
  },
  {
   "cell_type": "code",
   "execution_count": 165,
   "metadata": {},
   "outputs": [
    {
     "data": {
      "text/plain": [
       "{'email': 'ianchen06@gmail.com',\n",
       " 'name': 'Ian',\n",
       " 'prog_langs': ['python', 'ruby', 'javascript']}"
      ]
     },
     "execution_count": 165,
     "metadata": {},
     "output_type": "execute_result"
    }
   ],
   "source": [
    "person"
   ]
  },
  {
   "cell_type": "code",
   "execution_count": 166,
   "metadata": {},
   "outputs": [
    {
     "data": {
      "text/plain": [
       "['python', 'ruby', 'javascript']"
      ]
     },
     "execution_count": 166,
     "metadata": {},
     "output_type": "execute_result"
    }
   ],
   "source": [
    "person['prog_langs']"
   ]
  },
  {
   "cell_type": "code",
   "execution_count": 167,
   "metadata": {},
   "outputs": [
    {
     "data": {
      "text/plain": [
       "'ianchen06@gmail.com'"
      ]
     },
     "execution_count": 167,
     "metadata": {},
     "output_type": "execute_result"
    }
   ],
   "source": [
    "person['email']"
   ]
  },
  {
   "cell_type": "code",
   "execution_count": 168,
   "metadata": {
    "collapsed": true
   },
   "outputs": [],
   "source": [
    "person['email'] = 'ian@ianchenhq.com'"
   ]
  },
  {
   "cell_type": "code",
   "execution_count": 169,
   "metadata": {},
   "outputs": [
    {
     "data": {
      "text/plain": [
       "{'email': 'ian@ianchenhq.com',\n",
       " 'name': 'Ian',\n",
       " 'prog_langs': ['python', 'ruby', 'javascript']}"
      ]
     },
     "execution_count": 169,
     "metadata": {},
     "output_type": "execute_result"
    }
   ],
   "source": [
    "person"
   ]
  },
  {
   "cell_type": "code",
   "execution_count": 170,
   "metadata": {
    "collapsed": true
   },
   "outputs": [],
   "source": [
    "del person['email']"
   ]
  },
  {
   "cell_type": "code",
   "execution_count": 171,
   "metadata": {},
   "outputs": [
    {
     "data": {
      "text/plain": [
       "{'name': 'Ian', 'prog_langs': ['python', 'ruby', 'javascript']}"
      ]
     },
     "execution_count": 171,
     "metadata": {},
     "output_type": "execute_result"
    }
   ],
   "source": [
    "person"
   ]
  },
  {
   "cell_type": "code",
   "execution_count": 172,
   "metadata": {},
   "outputs": [
    {
     "data": {
      "text/plain": [
       "False"
      ]
     },
     "execution_count": 172,
     "metadata": {},
     "output_type": "execute_result"
    }
   ],
   "source": [
    "'email' in person"
   ]
  },
  {
   "cell_type": "code",
   "execution_count": 173,
   "metadata": {},
   "outputs": [
    {
     "data": {
      "text/plain": [
       "True"
      ]
     },
     "execution_count": 173,
     "metadata": {},
     "output_type": "execute_result"
    }
   ],
   "source": [
    "'name' in person"
   ]
  },
  {
   "cell_type": "code",
   "execution_count": 174,
   "metadata": {
    "collapsed": true
   },
   "outputs": [],
   "source": [
    "person['website'] = 'https://ianchenhq.com'"
   ]
  },
  {
   "cell_type": "code",
   "execution_count": 175,
   "metadata": {},
   "outputs": [
    {
     "data": {
      "text/plain": [
       "dict"
      ]
     },
     "execution_count": 175,
     "metadata": {},
     "output_type": "execute_result"
    }
   ],
   "source": [
    "type(person)"
   ]
  },
  {
   "cell_type": "code",
   "execution_count": 176,
   "metadata": {},
   "outputs": [
    {
     "data": {
      "text/plain": [
       "dict_keys(['name', 'prog_langs', 'website'])"
      ]
     },
     "execution_count": 176,
     "metadata": {},
     "output_type": "execute_result"
    }
   ],
   "source": [
    "person.keys()"
   ]
  },
  {
   "cell_type": "code",
   "execution_count": 340,
   "metadata": {},
   "outputs": [
    {
     "data": {
      "text/plain": [
       "dict_values(['Ian', ['python', 'ruby', 'javascript'], 'https://ianchenhq.com', 1])"
      ]
     },
     "execution_count": 340,
     "metadata": {},
     "output_type": "execute_result"
    }
   ],
   "source": [
    "person.values()"
   ]
  },
  {
   "cell_type": "code",
   "execution_count": 178,
   "metadata": {},
   "outputs": [
    {
     "data": {
      "text/plain": [
       "dict_items([('name', 'Ian'), ('prog_langs', ['python', 'ruby', 'javascript']), ('website', 'https://ianchenhq.com')])"
      ]
     },
     "execution_count": 178,
     "metadata": {},
     "output_type": "execute_result"
    }
   ],
   "source": [
    "person.items()"
   ]
  },
  {
   "cell_type": "code",
   "execution_count": 186,
   "metadata": {},
   "outputs": [
    {
     "data": {
      "text/plain": [
       "{'name': 'Ian',\n",
       " 'prog_langs': ['python', 'ruby', 'javascript'],\n",
       " 'website': 'https://ianchenhq.com'}"
      ]
     },
     "execution_count": 186,
     "metadata": {},
     "output_type": "execute_result"
    }
   ],
   "source": [
    "person"
   ]
  },
  {
   "cell_type": "code",
   "execution_count": 187,
   "metadata": {
    "collapsed": true
   },
   "outputs": [],
   "source": [
    "person['_id'] = 1"
   ]
  },
  {
   "cell_type": "code",
   "execution_count": 188,
   "metadata": {},
   "outputs": [
    {
     "data": {
      "text/plain": [
       "{'_id': 1,\n",
       " 'name': 'Ian',\n",
       " 'prog_langs': ['python', 'ruby', 'javascript'],\n",
       " 'website': 'https://ianchenhq.com'}"
      ]
     },
     "execution_count": 188,
     "metadata": {},
     "output_type": "execute_result"
    }
   ],
   "source": [
    "person"
   ]
  },
  {
   "cell_type": "code",
   "execution_count": 189,
   "metadata": {
    "collapsed": true
   },
   "outputs": [],
   "source": [
    "person2 = person.copy()"
   ]
  },
  {
   "cell_type": "code",
   "execution_count": 191,
   "metadata": {},
   "outputs": [],
   "source": [
    "person2['_id'] = 2"
   ]
  },
  {
   "cell_type": "code",
   "execution_count": 192,
   "metadata": {
    "scrolled": true
   },
   "outputs": [
    {
     "data": {
      "text/plain": [
       "[{'_id': 1,\n",
       "  'name': 'Ian',\n",
       "  'prog_langs': ['python', 'ruby', 'javascript'],\n",
       "  'website': 'https://ianchenhq.com'},\n",
       " {'_id': 2,\n",
       "  'name': 'Ian',\n",
       "  'prog_langs': ['python', 'ruby', 'javascript'],\n",
       "  'website': 'https://ianchenhq.com'}]"
      ]
     },
     "execution_count": 192,
     "metadata": {},
     "output_type": "execute_result"
    }
   ],
   "source": [
    "[person, person2]"
   ]
  },
  {
   "cell_type": "code",
   "execution_count": 206,
   "metadata": {},
   "outputs": [
    {
     "data": {
      "text/plain": [
       "{1: {'_id': 1,\n",
       "  'name': 'Ian',\n",
       "  'prog_langs': ['python', 'ruby', 'javascript'],\n",
       "  'website': 'https://ianchenhq.com'},\n",
       " 2: {'_id': 2,\n",
       "  'name': 'Ian',\n",
       "  'prog_langs': ['python', 'ruby', 'javascript'],\n",
       "  'website': 'https://ianchenhq.com'}}"
      ]
     },
     "execution_count": 206,
     "metadata": {},
     "output_type": "execute_result"
    }
   ],
   "source": [
    "{1: person, 2: person2}"
   ]
  },
  {
   "cell_type": "code",
   "execution_count": 182,
   "metadata": {},
   "outputs": [
    {
     "data": {
      "text/plain": [
       "('Harry_Potter', 'Lord of Rings')"
      ]
     },
     "execution_count": 182,
     "metadata": {},
     "output_type": "execute_result"
    }
   ],
   "source": [
    "# Tuple\n",
    "books_tup = ('Harry_Potter', 'Lord of Rings')\n",
    "books_tup"
   ]
  },
  {
   "cell_type": "code",
   "execution_count": 184,
   "metadata": {},
   "outputs": [
    {
     "data": {
      "text/plain": [
       "'Lord of Rings'"
      ]
     },
     "execution_count": 184,
     "metadata": {},
     "output_type": "execute_result"
    }
   ],
   "source": [
    "books_tup[1]"
   ]
  },
  {
   "cell_type": "code",
   "execution_count": 185,
   "metadata": {},
   "outputs": [
    {
     "ename": "TypeError",
     "evalue": "'tuple' object does not support item assignment",
     "output_type": "error",
     "traceback": [
      "\u001b[0;31m---------------------------------------------------------------------------\u001b[0m",
      "\u001b[0;31mTypeError\u001b[0m                                 Traceback (most recent call last)",
      "\u001b[0;32m<ipython-input-185-e87f778b243d>\u001b[0m in \u001b[0;36m<module>\u001b[0;34m()\u001b[0m\n\u001b[0;32m----> 1\u001b[0;31m \u001b[0mbooks_tup\u001b[0m\u001b[0;34m[\u001b[0m\u001b[0;36m1\u001b[0m\u001b[0;34m]\u001b[0m \u001b[0;34m=\u001b[0m \u001b[0;34m'ok'\u001b[0m\u001b[0;34m\u001b[0m\u001b[0m\n\u001b[0m",
      "\u001b[0;31mTypeError\u001b[0m: 'tuple' object does not support item assignment"
     ]
    }
   ],
   "source": [
    "books_tup[1] = 'ok'"
   ]
  },
  {
   "cell_type": "code",
   "execution_count": 207,
   "metadata": {},
   "outputs": [
    {
     "data": {
      "text/plain": [
       "{('Ian', 'Chen'): {'email': 'ianchen06@gmail.com',\n",
       "  'prog_langs': ['python', 'ruby', 'javascript']}}"
      ]
     },
     "execution_count": 207,
     "metadata": {},
     "output_type": "execute_result"
    }
   ],
   "source": [
    "# tuple can also be dictionary key\n",
    "{('Ian', 'Chen'): {'email': 'ianchen06@gmail.com',\n",
    "                  'prog_langs': ['python', 'ruby', 'javascript']}}"
   ]
  },
  {
   "cell_type": "code",
   "execution_count": 215,
   "metadata": {},
   "outputs": [
    {
     "data": {
      "text/plain": [
       "{1, 2, 3, 4, 5}"
      ]
     },
     "execution_count": 215,
     "metadata": {},
     "output_type": "execute_result"
    }
   ],
   "source": [
    "# Set\n",
    "myset = {1,2,3,4,5}\n",
    "myset"
   ]
  },
  {
   "cell_type": "code",
   "execution_count": 216,
   "metadata": {
    "collapsed": true
   },
   "outputs": [],
   "source": [
    "myset.add(6)"
   ]
  },
  {
   "cell_type": "code",
   "execution_count": 217,
   "metadata": {},
   "outputs": [
    {
     "data": {
      "text/plain": [
       "{1, 2, 3, 4, 5, 6}"
      ]
     },
     "execution_count": 217,
     "metadata": {},
     "output_type": "execute_result"
    }
   ],
   "source": [
    "myset"
   ]
  },
  {
   "cell_type": "code",
   "execution_count": 218,
   "metadata": {
    "collapsed": true
   },
   "outputs": [],
   "source": [
    "myset.add(1)"
   ]
  },
  {
   "cell_type": "code",
   "execution_count": 219,
   "metadata": {},
   "outputs": [
    {
     "data": {
      "text/plain": [
       "{1, 2, 3, 4, 5, 6}"
      ]
     },
     "execution_count": 219,
     "metadata": {},
     "output_type": "execute_result"
    }
   ],
   "source": [
    "myset"
   ]
  },
  {
   "cell_type": "code",
   "execution_count": 221,
   "metadata": {
    "collapsed": true
   },
   "outputs": [],
   "source": [
    "# Control Statements\n",
    "# for loop\n",
    "# while loop"
   ]
  },
  {
   "cell_type": "code",
   "execution_count": 224,
   "metadata": {},
   "outputs": [
    {
     "data": {
      "text/plain": [
       "['python', 'node.js', 'ruby', 'scala']"
      ]
     },
     "execution_count": 224,
     "metadata": {},
     "output_type": "execute_result"
    }
   ],
   "source": [
    "prog_langs = ['python', 'node.js', 'ruby', 'scala']\n",
    "prog_langs"
   ]
  },
  {
   "cell_type": "code",
   "execution_count": null,
   "metadata": {
    "collapsed": true
   },
   "outputs": [],
   "source": [
    "# for (int i=0, prog_langs.length(), i++) {\n",
    "#\n",
    "# }"
   ]
  },
  {
   "cell_type": "code",
   "execution_count": 237,
   "metadata": {},
   "outputs": [
    {
     "name": "stdout",
     "output_type": "stream",
     "text": [
      "I code in python\n",
      "I code in node.js\n",
      "I code in ruby\n",
      "I code in scala\n"
     ]
    }
   ],
   "source": [
    "for lang in prog_langs:\n",
    "    print(\"I code in %s\"%lang)"
   ]
  },
  {
   "cell_type": "code",
   "execution_count": 245,
   "metadata": {},
   "outputs": [
    {
     "name": "stdout",
     "output_type": "stream",
     "text": [
      "Ian\n",
      "David\n"
     ]
    }
   ],
   "source": [
    "group_of_students = [\n",
    "    {'name': \"Ian\"},\n",
    "    {'name': \"David\"}\n",
    "]\n",
    "\n",
    "\n",
    "for student in group_of_students:\n",
    "    print(student['name'])"
   ]
  },
  {
   "cell_type": "code",
   "execution_count": 234,
   "metadata": {},
   "outputs": [],
   "source": [
    "langs = [[1], [2]]\n",
    "for lang in langs:\n",
    "    lang[0] = lang[0] + 1"
   ]
  },
  {
   "cell_type": "code",
   "execution_count": 235,
   "metadata": {},
   "outputs": [
    {
     "data": {
      "text/plain": [
       "[[2], [3]]"
      ]
     },
     "execution_count": 235,
     "metadata": {},
     "output_type": "execute_result"
    }
   ],
   "source": [
    "langs"
   ]
  },
  {
   "cell_type": "code",
   "execution_count": 244,
   "metadata": {
    "collapsed": true
   },
   "outputs": [],
   "source": [
    "# Variable naming convention\n",
    "computer_books = ['intro to python', 'intro to java']\n",
    "is_male = True\n",
    "books_dict = {'title': 'intro to python'}\n",
    "likes_count = 123"
   ]
  },
  {
   "cell_type": "code",
   "execution_count": 247,
   "metadata": {},
   "outputs": [
    {
     "name": "stdout",
     "output_type": "stream",
     "text": [
      "0\n",
      "1\n",
      "2\n",
      "3\n",
      "4\n",
      "5\n",
      "6\n",
      "7\n",
      "8\n",
      "9\n"
     ]
    }
   ],
   "source": [
    "# while loop\n",
    "x = 0\n",
    "while x < 10:\n",
    "    print(x)\n",
    "    x = x + 1"
   ]
  },
  {
   "cell_type": "code",
   "execution_count": 407,
   "metadata": {},
   "outputs": [
    {
     "name": "stdout",
     "output_type": "stream",
     "text": [
      "0\n",
      "1\n",
      "2\n",
      "3\n",
      "4\n",
      "5\n",
      "6\n",
      "7\n",
      "8\n",
      "9\n"
     ]
    }
   ],
   "source": [
    "x = 0\n",
    "while True:\n",
    "    print(x)\n",
    "    x = x + 1\n",
    "    if x > 9:\n",
    "        break"
   ]
  },
  {
   "cell_type": "code",
   "execution_count": 406,
   "metadata": {},
   "outputs": [
    {
     "name": "stdout",
     "output_type": "stream",
     "text": [
      "0\n",
      "data inserted\n",
      "1\n",
      "data inserted\n",
      "2\n",
      "data inserted\n",
      "3\n",
      "data inserted\n",
      "4\n",
      "data inserted\n",
      "5\n",
      "data inserted\n",
      "6\n",
      "7\n",
      "8\n",
      "9\n"
     ]
    },
    {
     "data": {
      "text/plain": [
       "[0, 1, 2, 3, 4, 5]"
      ]
     },
     "execution_count": 406,
     "metadata": {},
     "output_type": "execute_result"
    }
   ],
   "source": [
    "d = []\n",
    "for x in range(10):\n",
    "    print(x)\n",
    "    if x > 5:\n",
    "        continue\n",
    "    d.append(x)\n",
    "    print(\"data inserted\")\n",
    "d"
   ]
  },
  {
   "cell_type": "code",
   "execution_count": 251,
   "metadata": {},
   "outputs": [
    {
     "name": "stdout",
     "output_type": "stream",
     "text": [
      "Python is the best\n"
     ]
    }
   ],
   "source": [
    "# IF\n",
    "x = 'python'\n",
    "if x == 'python':\n",
    "    print(\"Python is the best\")\n",
    "elif x == 'ruby':\n",
    "    print(\"Ruby is cool\")\n",
    "else:\n",
    "    print(\"false\")"
   ]
  },
  {
   "cell_type": "code",
   "execution_count": 256,
   "metadata": {},
   "outputs": [
    {
     "name": "stdout",
     "output_type": "stream",
     "text": [
      "bb103  bb103_pythonetl_20170815.ipynb\r\n"
     ]
    }
   ],
   "source": [
    "!ls"
   ]
  },
  {
   "cell_type": "markdown",
   "metadata": {},
   "source": [
    "# Simple ETL example\n",
    "\n",
    "## A inventory managment system\n",
    "\n",
    "```bash\n",
    "sudo apt-get update\n",
    "sudo apt-get install tmux\n",
    "```"
   ]
  },
  {
   "cell_type": "code",
   "execution_count": 257,
   "metadata": {
    "collapsed": true
   },
   "outputs": [],
   "source": [
    "#import glob"
   ]
  },
  {
   "cell_type": "code",
   "execution_count": 287,
   "metadata": {},
   "outputs": [
    {
     "name": "stdout",
     "output_type": "stream",
     "text": [
      "[{'filename': '1_Wire_Holder.stl', 'num_of_parts': 1, 'printed': 0}, {'filename': '1_Y_Rod_Holder_With_Endstop.stl', 'num_of_parts': 1, 'printed': 0}, {'filename': '1_LCD_Case_Top.stl', 'num_of_parts': 1, 'printed': 0}, {'filename': '1_Z_Endstop.stl', 'num_of_parts': 1, 'printed': 0}, {'filename': '1_PSU_Mount.stl', 'num_of_parts': 1, 'printed': 0}, {'filename': '1_Y_Belt_Tensioner.stl', 'num_of_parts': 1, 'printed': 0}, {'filename': '1_Y_Belt_Block.stl', 'num_of_parts': 1, 'printed': 0}, {'filename': '2_Bottom_Tee_Plate.stl', 'num_of_parts': 2, 'printed': 0}, {'filename': '1_LCD_Base_Left.stl', 'num_of_parts': 1, 'printed': 0}, {'filename': '1_Z_Rod_Holder_Left.stl', 'num_of_parts': 1, 'printed': 0}, {'filename': '2_Top_Corner_Plate.stl', 'num_of_parts': 2, 'printed': 0}, {'filename': '1_Z_Rod_Holder_Right.stl', 'num_of_parts': 1, 'printed': 0}, {'filename': '3_Y_Rod_Holder.stl', 'num_of_parts': 3, 'printed': 0}, {'filename': '4_Bottom_Corner_Plate.stl', 'num_of_parts': 4, 'printed': 0}, {'filename': '1_Z_Motor_Mount_Left.stl', 'num_of_parts': 1, 'printed': 0}, {'filename': '1_Z_Motor_Mount_Right.stl', 'num_of_parts': 1, 'printed': 0}, {'filename': '1_LCD_Base_Right.stl', 'num_of_parts': 1, 'printed': 0}, {'filename': 'Anet_Board_Mount_No_Fan.stl', 'num_of_parts': 1, 'printed': 0}, {'filename': 'Anet_Board_Mount__With_Fan.stl', 'num_of_parts': 1, 'printed': 0}, {'filename': '1_Y_Motor_Mount.stl', 'num_of_parts': 1, 'printed': 0}]\n"
     ]
    }
   ],
   "source": [
    "inventory = []\n",
    "#downloaded_files = glob.glob('/home/ubuntu/Downloads/files/*.stl')\n",
    "downloaded_files = ['/home/ubuntu/Downloads/files/1_Wire_Holder.stl',\n",
    " '/home/ubuntu/Downloads/files/1_Y_Rod_Holder_With_Endstop.stl',\n",
    " '/home/ubuntu/Downloads/files/1_LCD_Case_Top.stl',\n",
    " '/home/ubuntu/Downloads/files/1_Z_Endstop.stl',\n",
    " '/home/ubuntu/Downloads/files/1_PSU_Mount.stl',\n",
    " '/home/ubuntu/Downloads/files/1_Y_Belt_Tensioner.stl',\n",
    " '/home/ubuntu/Downloads/files/1_Y_Belt_Block.stl',\n",
    " '/home/ubuntu/Downloads/files/2_Bottom_Tee_Plate.stl',\n",
    " '/home/ubuntu/Downloads/files/1_LCD_Base_Left.stl',\n",
    " '/home/ubuntu/Downloads/files/1_Z_Rod_Holder_Left.stl',\n",
    " '/home/ubuntu/Downloads/files/2_Top_Corner_Plate.stl',\n",
    " '/home/ubuntu/Downloads/files/1_Z_Rod_Holder_Right.stl',\n",
    " '/home/ubuntu/Downloads/files/3_Y_Rod_Holder.stl',\n",
    " '/home/ubuntu/Downloads/files/4_Bottom_Corner_Plate.stl',\n",
    " '/home/ubuntu/Downloads/files/1_Z_Motor_Mount_Left.stl',\n",
    " '/home/ubuntu/Downloads/files/1_Z_Motor_Mount_Right.stl',\n",
    " '/home/ubuntu/Downloads/files/1_LCD_Base_Right.stl',\n",
    " '/home/ubuntu/Downloads/files/Anet_Board_Mount_No_Fan.stl',\n",
    " '/home/ubuntu/Downloads/files/Anet_Board_Mount__With_Fan.stl',\n",
    " '/home/ubuntu/Downloads/files/1_Y_Motor_Mount.stl']\n",
    "for file in downloaded_files:\n",
    "    file_dict = {}\n",
    "    file_dict['filename'] = file.split('/')[-1]\n",
    "    \n",
    "    try:\n",
    "        file_dict['num_of_parts'] = int(file_dict['filename'].split('_')[0])\n",
    "    except ValueError:\n",
    "        file_dict['num_of_parts'] = 1\n",
    "        \n",
    "    file_dict['printed'] = 0\n",
    "    inventory.append(file_dict)\n",
    "print(inventory)"
   ]
  },
  {
   "cell_type": "code",
   "execution_count": 288,
   "metadata": {},
   "outputs": [
    {
     "name": "stdout",
     "output_type": "stream",
     "text": [
      "1_Wire_Holder.stl, num of parts needed: 1\n",
      "1_Y_Rod_Holder_With_Endstop.stl, num of parts needed: 1\n",
      "1_LCD_Case_Top.stl, num of parts needed: 1\n",
      "1_Z_Endstop.stl, num of parts needed: 1\n",
      "1_PSU_Mount.stl, num of parts needed: 1\n",
      "1_Y_Belt_Tensioner.stl, num of parts needed: 1\n",
      "1_Y_Belt_Block.stl, num of parts needed: 1\n",
      "2_Bottom_Tee_Plate.stl, num of parts needed: 2\n",
      "1_LCD_Base_Left.stl, num of parts needed: 1\n",
      "1_Z_Rod_Holder_Left.stl, num of parts needed: 1\n",
      "2_Top_Corner_Plate.stl, num of parts needed: 2\n",
      "1_Z_Rod_Holder_Right.stl, num of parts needed: 1\n",
      "3_Y_Rod_Holder.stl, num of parts needed: 3\n",
      "4_Bottom_Corner_Plate.stl, num of parts needed: 4\n",
      "1_Z_Motor_Mount_Left.stl, num of parts needed: 1\n",
      "1_Z_Motor_Mount_Right.stl, num of parts needed: 1\n",
      "1_LCD_Base_Right.stl, num of parts needed: 1\n",
      "Anet_Board_Mount_No_Fan.stl, num of parts needed: 1\n",
      "Anet_Board_Mount__With_Fan.stl, num of parts needed: 1\n",
      "1_Y_Motor_Mount.stl, num of parts needed: 1\n"
     ]
    }
   ],
   "source": [
    "for file in inventory:\n",
    "    if not file['printed'] == file['num_of_parts']:\n",
    "        print(\"%s, num of parts needed: %s\"%(file['filename'], file['num_of_parts'] - file['printed']))"
   ]
  },
  {
   "cell_type": "code",
   "execution_count": 308,
   "metadata": {},
   "outputs": [],
   "source": [
    "file_to_update = {\n",
    "    'filename': '1_PSU_Mount.stl',\n",
    "    'printed': 1\n",
    "}\n",
    "\n",
    "for file in inventory:\n",
    "    if file['filename'] == file_to_update['filename']:\n",
    "        # x = x + 1\n",
    "        # x += 1\n",
    "        # file['printed'] = file['printed'] + file_to_update['printed']\n",
    "        file['printed'] += file_to_update['printed']"
   ]
  },
  {
   "cell_type": "code",
   "execution_count": 309,
   "metadata": {
    "scrolled": true
   },
   "outputs": [
    {
     "name": "stdout",
     "output_type": "stream",
     "text": [
      "1_Wire_Holder.stl, num of parts needed: 1\n",
      "1_Y_Rod_Holder_With_Endstop.stl, num of parts needed: 1\n",
      "1_LCD_Case_Top.stl, num of parts needed: 1\n",
      "1_Z_Endstop.stl, num of parts needed: 1\n",
      "1_Y_Belt_Tensioner.stl, num of parts needed: 1\n",
      "1_Y_Belt_Block.stl, num of parts needed: 1\n",
      "2_Bottom_Tee_Plate.stl, num of parts needed: 2\n",
      "1_LCD_Base_Left.stl, num of parts needed: 1\n",
      "1_Z_Rod_Holder_Left.stl, num of parts needed: 1\n",
      "2_Top_Corner_Plate.stl, num of parts needed: 2\n",
      "1_Z_Rod_Holder_Right.stl, num of parts needed: 1\n",
      "3_Y_Rod_Holder.stl, num of parts needed: 3\n",
      "4_Bottom_Corner_Plate.stl, num of parts needed: 4\n",
      "1_Z_Motor_Mount_Left.stl, num of parts needed: 1\n",
      "1_Z_Motor_Mount_Right.stl, num of parts needed: 1\n",
      "1_LCD_Base_Right.stl, num of parts needed: 1\n",
      "Anet_Board_Mount_No_Fan.stl, num of parts needed: 1\n",
      "Anet_Board_Mount__With_Fan.stl, num of parts needed: 1\n",
      "1_Y_Motor_Mount.stl, num of parts needed: 1\n"
     ]
    }
   ],
   "source": [
    "for file in inventory:\n",
    "    if not file['printed'] == file['num_of_parts']:\n",
    "        print(\"%s, num of parts needed: %s\"%(file['filename'], file['num_of_parts'] - file['printed']))"
   ]
  },
  {
   "cell_type": "code",
   "execution_count": 310,
   "metadata": {},
   "outputs": [
    {
     "data": {
      "text/plain": [
       "[{'filename': '1_Wire_Holder.stl', 'num_of_parts': 1, 'printed': 0},\n",
       " {'filename': '1_Y_Rod_Holder_With_Endstop.stl',\n",
       "  'num_of_parts': 1,\n",
       "  'printed': 0},\n",
       " {'filename': '1_LCD_Case_Top.stl', 'num_of_parts': 1, 'printed': 0},\n",
       " {'filename': '1_Z_Endstop.stl', 'num_of_parts': 1, 'printed': 0},\n",
       " {'filename': '1_PSU_Mount.stl', 'num_of_parts': 1, 'printed': 1},\n",
       " {'filename': '1_Y_Belt_Tensioner.stl', 'num_of_parts': 1, 'printed': 0},\n",
       " {'filename': '1_Y_Belt_Block.stl', 'num_of_parts': 1, 'printed': 0},\n",
       " {'filename': '2_Bottom_Tee_Plate.stl', 'num_of_parts': 2, 'printed': 0},\n",
       " {'filename': '1_LCD_Base_Left.stl', 'num_of_parts': 1, 'printed': 0},\n",
       " {'filename': '1_Z_Rod_Holder_Left.stl', 'num_of_parts': 1, 'printed': 0},\n",
       " {'filename': '2_Top_Corner_Plate.stl', 'num_of_parts': 2, 'printed': 0},\n",
       " {'filename': '1_Z_Rod_Holder_Right.stl', 'num_of_parts': 1, 'printed': 0},\n",
       " {'filename': '3_Y_Rod_Holder.stl', 'num_of_parts': 3, 'printed': 0},\n",
       " {'filename': '4_Bottom_Corner_Plate.stl', 'num_of_parts': 4, 'printed': 0},\n",
       " {'filename': '1_Z_Motor_Mount_Left.stl', 'num_of_parts': 1, 'printed': 0},\n",
       " {'filename': '1_Z_Motor_Mount_Right.stl', 'num_of_parts': 1, 'printed': 0},\n",
       " {'filename': '1_LCD_Base_Right.stl', 'num_of_parts': 1, 'printed': 0},\n",
       " {'filename': 'Anet_Board_Mount_No_Fan.stl', 'num_of_parts': 1, 'printed': 0},\n",
       " {'filename': 'Anet_Board_Mount__With_Fan.stl',\n",
       "  'num_of_parts': 1,\n",
       "  'printed': 0},\n",
       " {'filename': '1_Y_Motor_Mount.stl', 'num_of_parts': 1, 'printed': 0}]"
      ]
     },
     "execution_count": 310,
     "metadata": {},
     "output_type": "execute_result"
    }
   ],
   "source": [
    "inventory"
   ]
  },
  {
   "cell_type": "code",
   "execution_count": 311,
   "metadata": {},
   "outputs": [],
   "source": [
    "need_to_print = []\n",
    "for file in inventory:\n",
    "    if file['num_of_parts'] != file['printed']:\n",
    "        need_to_print.append(file)"
   ]
  },
  {
   "cell_type": "code",
   "execution_count": 312,
   "metadata": {},
   "outputs": [
    {
     "data": {
      "text/plain": [
       "[{'filename': '1_Wire_Holder.stl', 'num_of_parts': 1, 'printed': 0},\n",
       " {'filename': '1_Y_Rod_Holder_With_Endstop.stl',\n",
       "  'num_of_parts': 1,\n",
       "  'printed': 0},\n",
       " {'filename': '1_LCD_Case_Top.stl', 'num_of_parts': 1, 'printed': 0},\n",
       " {'filename': '1_Z_Endstop.stl', 'num_of_parts': 1, 'printed': 0},\n",
       " {'filename': '1_Y_Belt_Tensioner.stl', 'num_of_parts': 1, 'printed': 0},\n",
       " {'filename': '1_Y_Belt_Block.stl', 'num_of_parts': 1, 'printed': 0},\n",
       " {'filename': '2_Bottom_Tee_Plate.stl', 'num_of_parts': 2, 'printed': 0},\n",
       " {'filename': '1_LCD_Base_Left.stl', 'num_of_parts': 1, 'printed': 0},\n",
       " {'filename': '1_Z_Rod_Holder_Left.stl', 'num_of_parts': 1, 'printed': 0},\n",
       " {'filename': '2_Top_Corner_Plate.stl', 'num_of_parts': 2, 'printed': 0},\n",
       " {'filename': '1_Z_Rod_Holder_Right.stl', 'num_of_parts': 1, 'printed': 0},\n",
       " {'filename': '3_Y_Rod_Holder.stl', 'num_of_parts': 3, 'printed': 0},\n",
       " {'filename': '4_Bottom_Corner_Plate.stl', 'num_of_parts': 4, 'printed': 0},\n",
       " {'filename': '1_Z_Motor_Mount_Left.stl', 'num_of_parts': 1, 'printed': 0},\n",
       " {'filename': '1_Z_Motor_Mount_Right.stl', 'num_of_parts': 1, 'printed': 0},\n",
       " {'filename': '1_LCD_Base_Right.stl', 'num_of_parts': 1, 'printed': 0},\n",
       " {'filename': 'Anet_Board_Mount_No_Fan.stl', 'num_of_parts': 1, 'printed': 0},\n",
       " {'filename': 'Anet_Board_Mount__With_Fan.stl',\n",
       "  'num_of_parts': 1,\n",
       "  'printed': 0},\n",
       " {'filename': '1_Y_Motor_Mount.stl', 'num_of_parts': 1, 'printed': 0}]"
      ]
     },
     "execution_count": 312,
     "metadata": {},
     "output_type": "execute_result"
    }
   ],
   "source": [
    "need_to_print"
   ]
  },
  {
   "cell_type": "code",
   "execution_count": 323,
   "metadata": {},
   "outputs": [
    {
     "data": {
      "text/plain": [
       "['4_Bottom_Corner_Plate.stl']"
      ]
     },
     "execution_count": 323,
     "metadata": {},
     "output_type": "execute_result"
    }
   ],
   "source": [
    "large_quantity = [file['filename'] for file in inventory if file['num_of_parts'] > 3]\n",
    "large_quantity"
   ]
  },
  {
   "cell_type": "code",
   "execution_count": 324,
   "metadata": {},
   "outputs": [
    {
     "data": {
      "text/plain": [
       "['1_Wire_Holder.stl',\n",
       " '1_Y_Rod_Holder_With_Endstop.stl',\n",
       " '1_LCD_Case_Top.stl',\n",
       " '1_Z_Endstop.stl',\n",
       " '1_Y_Belt_Tensioner.stl',\n",
       " '1_Y_Belt_Block.stl',\n",
       " '2_Bottom_Tee_Plate.stl',\n",
       " '1_LCD_Base_Left.stl',\n",
       " '1_Z_Rod_Holder_Left.stl',\n",
       " '2_Top_Corner_Plate.stl',\n",
       " '1_Z_Rod_Holder_Right.stl',\n",
       " '3_Y_Rod_Holder.stl',\n",
       " '4_Bottom_Corner_Plate.stl',\n",
       " '1_Z_Motor_Mount_Left.stl',\n",
       " '1_Z_Motor_Mount_Right.stl',\n",
       " '1_LCD_Base_Right.stl',\n",
       " 'Anet_Board_Mount_No_Fan.stl',\n",
       " 'Anet_Board_Mount__With_Fan.stl',\n",
       " '1_Y_Motor_Mount.stl']"
      ]
     },
     "execution_count": 324,
     "metadata": {},
     "output_type": "execute_result"
    }
   ],
   "source": [
    "need_to_print = [file['filename'] for file in inventory if file['num_of_parts'] != file['printed']]\n",
    "need_to_print"
   ]
  },
  {
   "cell_type": "code",
   "execution_count": 325,
   "metadata": {},
   "outputs": [
    {
     "data": {
      "text/plain": [
       "['1_PSU_Mount.stl']"
      ]
     },
     "execution_count": 325,
     "metadata": {},
     "output_type": "execute_result"
    }
   ],
   "source": [
    "completed_parts = [file['filename'] for file in inventory if file['num_of_parts'] == file['printed']]\n",
    "completed_parts"
   ]
  },
  {
   "cell_type": "code",
   "execution_count": 329,
   "metadata": {
    "scrolled": true
   },
   "outputs": [
    {
     "data": {
      "text/plain": [
       "{'1_LCD_Base_Left.stl': {'filename': '1_LCD_Base_Left.stl',\n",
       "  'num_of_parts': 1,\n",
       "  'printed': 0},\n",
       " '1_LCD_Base_Right.stl': {'filename': '1_LCD_Base_Right.stl',\n",
       "  'num_of_parts': 1,\n",
       "  'printed': 0},\n",
       " '1_LCD_Case_Top.stl': {'filename': '1_LCD_Case_Top.stl',\n",
       "  'num_of_parts': 1,\n",
       "  'printed': 0},\n",
       " '1_PSU_Mount.stl': {'filename': '1_PSU_Mount.stl',\n",
       "  'num_of_parts': 1,\n",
       "  'printed': 1},\n",
       " '1_Wire_Holder.stl': {'filename': '1_Wire_Holder.stl',\n",
       "  'num_of_parts': 1,\n",
       "  'printed': 0},\n",
       " '1_Y_Belt_Block.stl': {'filename': '1_Y_Belt_Block.stl',\n",
       "  'num_of_parts': 1,\n",
       "  'printed': 0},\n",
       " '1_Y_Belt_Tensioner.stl': {'filename': '1_Y_Belt_Tensioner.stl',\n",
       "  'num_of_parts': 1,\n",
       "  'printed': 0},\n",
       " '1_Y_Motor_Mount.stl': {'filename': '1_Y_Motor_Mount.stl',\n",
       "  'num_of_parts': 1,\n",
       "  'printed': 0},\n",
       " '1_Y_Rod_Holder_With_Endstop.stl': {'filename': '1_Y_Rod_Holder_With_Endstop.stl',\n",
       "  'num_of_parts': 1,\n",
       "  'printed': 0},\n",
       " '1_Z_Endstop.stl': {'filename': '1_Z_Endstop.stl',\n",
       "  'num_of_parts': 1,\n",
       "  'printed': 0},\n",
       " '1_Z_Motor_Mount_Left.stl': {'filename': '1_Z_Motor_Mount_Left.stl',\n",
       "  'num_of_parts': 1,\n",
       "  'printed': 0},\n",
       " '1_Z_Motor_Mount_Right.stl': {'filename': '1_Z_Motor_Mount_Right.stl',\n",
       "  'num_of_parts': 1,\n",
       "  'printed': 0},\n",
       " '1_Z_Rod_Holder_Left.stl': {'filename': '1_Z_Rod_Holder_Left.stl',\n",
       "  'num_of_parts': 1,\n",
       "  'printed': 0},\n",
       " '1_Z_Rod_Holder_Right.stl': {'filename': '1_Z_Rod_Holder_Right.stl',\n",
       "  'num_of_parts': 1,\n",
       "  'printed': 0},\n",
       " '2_Bottom_Tee_Plate.stl': {'filename': '2_Bottom_Tee_Plate.stl',\n",
       "  'num_of_parts': 2,\n",
       "  'printed': 0},\n",
       " '2_Top_Corner_Plate.stl': {'filename': '2_Top_Corner_Plate.stl',\n",
       "  'num_of_parts': 2,\n",
       "  'printed': 0},\n",
       " '3_Y_Rod_Holder.stl': {'filename': '3_Y_Rod_Holder.stl',\n",
       "  'num_of_parts': 3,\n",
       "  'printed': 0},\n",
       " '4_Bottom_Corner_Plate.stl': {'filename': '4_Bottom_Corner_Plate.stl',\n",
       "  'num_of_parts': 4,\n",
       "  'printed': 0},\n",
       " 'Anet_Board_Mount_No_Fan.stl': {'filename': 'Anet_Board_Mount_No_Fan.stl',\n",
       "  'num_of_parts': 1,\n",
       "  'printed': 0},\n",
       " 'Anet_Board_Mount__With_Fan.stl': {'filename': 'Anet_Board_Mount__With_Fan.stl',\n",
       "  'num_of_parts': 1,\n",
       "  'printed': 0}}"
      ]
     },
     "execution_count": 329,
     "metadata": {},
     "output_type": "execute_result"
    }
   ],
   "source": [
    "# dictionary comprehension\n",
    "inven_dict = {file['filename']: file for file in inventory}\n",
    "inven_dict"
   ]
  },
  {
   "cell_type": "code",
   "execution_count": 333,
   "metadata": {},
   "outputs": [
    {
     "data": {
      "text/plain": [
       "{'filename': '2_Top_Corner_Plate.stl', 'num_of_parts': 2, 'printed': 2}"
      ]
     },
     "execution_count": 333,
     "metadata": {},
     "output_type": "execute_result"
    }
   ],
   "source": [
    "inven_dict['2_Top_Corner_Plate.stl']"
   ]
  },
  {
   "cell_type": "code",
   "execution_count": 334,
   "metadata": {
    "collapsed": true
   },
   "outputs": [],
   "source": [
    "inven_dict['2_Top_Corner_Plate.stl']['printed'] = 2"
   ]
  },
  {
   "cell_type": "code",
   "execution_count": 332,
   "metadata": {
    "scrolled": true
   },
   "outputs": [
    {
     "data": {
      "text/plain": [
       "{'filename': '2_Top_Corner_Plate.stl', 'num_of_parts': 2, 'printed': 2}"
      ]
     },
     "execution_count": 332,
     "metadata": {},
     "output_type": "execute_result"
    }
   ],
   "source": [
    "inven_dict['2_Top_Corner_Plate.stl']"
   ]
  },
  {
   "cell_type": "code",
   "execution_count": 337,
   "metadata": {},
   "outputs": [
    {
     "data": {
      "text/plain": [
       "dict_values([{'filename': '1_Wire_Holder.stl', 'num_of_parts': 1, 'printed': 0}, {'filename': '1_Y_Rod_Holder_With_Endstop.stl', 'num_of_parts': 1, 'printed': 0}, {'filename': '1_LCD_Case_Top.stl', 'num_of_parts': 1, 'printed': 0}, {'filename': '1_Z_Endstop.stl', 'num_of_parts': 1, 'printed': 0}, {'filename': '1_PSU_Mount.stl', 'num_of_parts': 1, 'printed': 1}, {'filename': '1_Y_Belt_Tensioner.stl', 'num_of_parts': 1, 'printed': 0}, {'filename': '1_Y_Belt_Block.stl', 'num_of_parts': 1, 'printed': 0}, {'filename': '2_Bottom_Tee_Plate.stl', 'num_of_parts': 2, 'printed': 0}, {'filename': '1_LCD_Base_Left.stl', 'num_of_parts': 1, 'printed': 0}, {'filename': '1_Z_Rod_Holder_Left.stl', 'num_of_parts': 1, 'printed': 0}, {'filename': '2_Top_Corner_Plate.stl', 'num_of_parts': 2, 'printed': 2}, {'filename': '1_Z_Rod_Holder_Right.stl', 'num_of_parts': 1, 'printed': 0}, {'filename': '3_Y_Rod_Holder.stl', 'num_of_parts': 3, 'printed': 0}, {'filename': '4_Bottom_Corner_Plate.stl', 'num_of_parts': 4, 'printed': 0}, {'filename': '1_Z_Motor_Mount_Left.stl', 'num_of_parts': 1, 'printed': 0}, {'filename': '1_Z_Motor_Mount_Right.stl', 'num_of_parts': 1, 'printed': 0}, {'filename': '1_LCD_Base_Right.stl', 'num_of_parts': 1, 'printed': 0}, {'filename': 'Anet_Board_Mount_No_Fan.stl', 'num_of_parts': 1, 'printed': 0}, {'filename': 'Anet_Board_Mount__With_Fan.stl', 'num_of_parts': 1, 'printed': 0}, {'filename': '1_Y_Motor_Mount.stl', 'num_of_parts': 1, 'printed': 0}])"
      ]
     },
     "execution_count": 337,
     "metadata": {},
     "output_type": "execute_result"
    }
   ],
   "source": [
    "inven_dict.values()"
   ]
  },
  {
   "cell_type": "code",
   "execution_count": 336,
   "metadata": {},
   "outputs": [
    {
     "data": {
      "text/plain": [
       "['1_PSU_Mount.stl', '2_Top_Corner_Plate.stl']"
      ]
     },
     "execution_count": 336,
     "metadata": {},
     "output_type": "execute_result"
    }
   ],
   "source": [
    "[file['filename'] for file in inven_dict.values() if file['num_of_parts'] == file['printed']]"
   ]
  },
  {
   "cell_type": "code",
   "execution_count": 367,
   "metadata": {
    "collapsed": true
   },
   "outputs": [],
   "source": [
    "f = open('/home/ubuntu/Documents/inventory.csv', 'w')"
   ]
  },
  {
   "cell_type": "code",
   "execution_count": 368,
   "metadata": {},
   "outputs": [
    {
     "data": {
      "text/plain": [
       "<_io.TextIOWrapper name='/home/ubuntu/Documents/inventory.csv' mode='w' encoding='UTF-8'>"
      ]
     },
     "execution_count": 368,
     "metadata": {},
     "output_type": "execute_result"
    }
   ],
   "source": [
    "f"
   ]
  },
  {
   "cell_type": "code",
   "execution_count": 369,
   "metadata": {
    "scrolled": true
   },
   "outputs": [
    {
     "name": "stdout",
     "output_type": "stream",
     "text": [
      "1_Wire_Holder.stl,1,0\n",
      "1_Y_Rod_Holder_With_Endstop.stl,1,0\n",
      "1_LCD_Case_Top.stl,1,0\n",
      "1_Z_Endstop.stl,1,0\n",
      "1_PSU_Mount.stl,1,1\n",
      "1_Y_Belt_Tensioner.stl,1,0\n",
      "1_Y_Belt_Block.stl,1,0\n",
      "2_Bottom_Tee_Plate.stl,2,0\n",
      "1_LCD_Base_Left.stl,1,0\n",
      "1_Z_Rod_Holder_Left.stl,1,0\n",
      "2_Top_Corner_Plate.stl,2,2\n",
      "1_Z_Rod_Holder_Right.stl,1,0\n",
      "3_Y_Rod_Holder.stl,3,0\n",
      "4_Bottom_Corner_Plate.stl,4,0\n",
      "1_Z_Motor_Mount_Left.stl,1,0\n",
      "1_Z_Motor_Mount_Right.stl,1,0\n",
      "1_LCD_Base_Right.stl,1,0\n",
      "Anet_Board_Mount_No_Fan.stl,1,0\n",
      "Anet_Board_Mount__With_Fan.stl,1,0\n",
      "1_Y_Motor_Mount.stl,1,0\n"
     ]
    }
   ],
   "source": [
    "f.write(\"{},{},{}\".format(*row.keys()) + '\\n')\n",
    "for row in inventory:\n",
    "    #print(list(row.values()))\n",
    "    print(\"{},{},{}\".format(*row.values()))\n",
    "    f.write(\"{},{},{}\".format(*row.values()) + '\\n')\n",
    "f.close()"
   ]
  },
  {
   "cell_type": "code",
   "execution_count": 384,
   "metadata": {},
   "outputs": [
    {
     "ename": "TypeError",
     "evalue": "unsupported operand type(s) for +: 'int' and 'str'",
     "output_type": "error",
     "traceback": [
      "\u001b[0;31m---------------------------------------------------------------------------\u001b[0m",
      "\u001b[0;31mTypeError\u001b[0m                                 Traceback (most recent call last)",
      "\u001b[0;32m<ipython-input-384-f6d61f150c9e>\u001b[0m in \u001b[0;36m<module>\u001b[0;34m()\u001b[0m\n\u001b[1;32m      1\u001b[0m \u001b[0mf\u001b[0m \u001b[0;34m=\u001b[0m \u001b[0mopen\u001b[0m\u001b[0;34m(\u001b[0m\u001b[0;34m'/tmp/somefile.txt'\u001b[0m\u001b[0;34m,\u001b[0m \u001b[0;34m'w'\u001b[0m\u001b[0;34m)\u001b[0m\u001b[0;34m\u001b[0m\u001b[0m\n\u001b[1;32m      2\u001b[0m \u001b[0mf\u001b[0m\u001b[0;34m.\u001b[0m\u001b[0mwrite\u001b[0m\u001b[0;34m(\u001b[0m\u001b[0;34m\"hiiii\"\u001b[0m\u001b[0;34m)\u001b[0m\u001b[0;34m\u001b[0m\u001b[0m\n\u001b[0;32m----> 3\u001b[0;31m \u001b[0;36m1\u001b[0m \u001b[0;34m+\u001b[0m \u001b[0;34m'hi'\u001b[0m\u001b[0;34m\u001b[0m\u001b[0m\n\u001b[0m\u001b[1;32m      4\u001b[0m \u001b[0mf\u001b[0m\u001b[0;34m.\u001b[0m\u001b[0mclose\u001b[0m\u001b[0;34m(\u001b[0m\u001b[0;34m)\u001b[0m\u001b[0;34m\u001b[0m\u001b[0m\n",
      "\u001b[0;31mTypeError\u001b[0m: unsupported operand type(s) for +: 'int' and 'str'"
     ]
    }
   ],
   "source": [
    "f = open('/tmp/somefile.txt', 'w')\n",
    "f.write(\"hiiii\")\n",
    "1 + 'hi'\n",
    "f.close()"
   ]
  },
  {
   "cell_type": "code",
   "execution_count": 385,
   "metadata": {},
   "outputs": [
    {
     "data": {
      "text/plain": [
       "False"
      ]
     },
     "execution_count": 385,
     "metadata": {},
     "output_type": "execute_result"
    }
   ],
   "source": [
    "f.closed"
   ]
  },
  {
   "cell_type": "code",
   "execution_count": 386,
   "metadata": {
    "collapsed": true
   },
   "outputs": [],
   "source": [
    "f.close()"
   ]
  },
  {
   "cell_type": "code",
   "execution_count": 387,
   "metadata": {},
   "outputs": [
    {
     "ename": "TypeError",
     "evalue": "unsupported operand type(s) for +: 'int' and 'str'",
     "output_type": "error",
     "traceback": [
      "\u001b[0;31m---------------------------------------------------------------------------\u001b[0m",
      "\u001b[0;31mTypeError\u001b[0m                                 Traceback (most recent call last)",
      "\u001b[0;32m<ipython-input-387-0981d995b07b>\u001b[0m in \u001b[0;36m<module>\u001b[0;34m()\u001b[0m\n\u001b[1;32m      2\u001b[0m \u001b[0;32mtry\u001b[0m\u001b[0;34m:\u001b[0m\u001b[0;34m\u001b[0m\u001b[0m\n\u001b[1;32m      3\u001b[0m     \u001b[0mf\u001b[0m\u001b[0;34m.\u001b[0m\u001b[0mwrite\u001b[0m\u001b[0;34m(\u001b[0m\u001b[0;34m\"hiiii\"\u001b[0m\u001b[0;34m)\u001b[0m\u001b[0;34m\u001b[0m\u001b[0m\n\u001b[0;32m----> 4\u001b[0;31m     \u001b[0;36m1\u001b[0m \u001b[0;34m+\u001b[0m \u001b[0;34m'hi'\u001b[0m\u001b[0;34m\u001b[0m\u001b[0m\n\u001b[0m\u001b[1;32m      5\u001b[0m \u001b[0;32mfinally\u001b[0m\u001b[0;34m:\u001b[0m\u001b[0;34m\u001b[0m\u001b[0m\n\u001b[1;32m      6\u001b[0m     \u001b[0mf\u001b[0m\u001b[0;34m.\u001b[0m\u001b[0mclose\u001b[0m\u001b[0;34m(\u001b[0m\u001b[0;34m)\u001b[0m\u001b[0;34m\u001b[0m\u001b[0m\n",
      "\u001b[0;31mTypeError\u001b[0m: unsupported operand type(s) for +: 'int' and 'str'"
     ]
    }
   ],
   "source": [
    "f = open('/tmp/somefile.txt', 'w')\n",
    "try:\n",
    "    f.write(\"hiiii\")\n",
    "    1 + 'hi'\n",
    "finally:\n",
    "    f.close()"
   ]
  },
  {
   "cell_type": "code",
   "execution_count": 401,
   "metadata": {},
   "outputs": [
    {
     "name": "stdout",
     "output_type": "stream",
     "text": [
      "unsupported operand type(s) for +: 'int' and 'str'\n"
     ]
    }
   ],
   "source": [
    "# Context manager\n",
    "with open('/tmp/somefile2.txt', 'w') as myfile:\n",
    "    try:\n",
    "        myfile.write(\"hii222\")\n",
    "        1 + 'hi'\n",
    "    except Exception as err:\n",
    "        print(\"%s\"%err)"
   ]
  },
  {
   "cell_type": "code",
   "execution_count": 388,
   "metadata": {},
   "outputs": [
    {
     "data": {
      "text/plain": [
       "True"
      ]
     },
     "execution_count": 388,
     "metadata": {},
     "output_type": "execute_result"
    }
   ],
   "source": [
    "f.closed"
   ]
  },
  {
   "cell_type": "code",
   "execution_count": 376,
   "metadata": {},
   "outputs": [
    {
     "name": "stdout",
     "output_type": "stream",
     "text": [
      "hiiii"
     ]
    }
   ],
   "source": [
    "!cat /tmp/somefile.txt"
   ]
  },
  {
   "cell_type": "code",
   "execution_count": 357,
   "metadata": {},
   "outputs": [
    {
     "data": {
      "text/plain": [
       "dict_values(['1_Wire_Holder.stl', 1, 0])"
      ]
     },
     "execution_count": 357,
     "metadata": {},
     "output_type": "execute_result"
    }
   ],
   "source": [
    "row.values()"
   ]
  },
  {
   "cell_type": "code",
   "execution_count": 356,
   "metadata": {},
   "outputs": [
    {
     "data": {
      "text/plain": [
       "'psu_fan,1,2'"
      ]
     },
     "execution_count": 356,
     "metadata": {},
     "output_type": "execute_result"
    }
   ],
   "source": [
    "\"{},{},{}\".format('psu_fan', 1, 2)"
   ]
  },
  {
   "cell_type": "code",
   "execution_count": 359,
   "metadata": {},
   "outputs": [
    {
     "data": {
      "text/plain": [
       "'psu_fan,1,2'"
      ]
     },
     "execution_count": 359,
     "metadata": {},
     "output_type": "execute_result"
    }
   ],
   "source": [
    "\"{},{},{}\".format(*['psu_fan', 1, 2])"
   ]
  },
  {
   "cell_type": "code",
   "execution_count": 361,
   "metadata": {},
   "outputs": [
    {
     "data": {
      "text/plain": [
       "'psu_fan,2,1'"
      ]
     },
     "execution_count": 361,
     "metadata": {},
     "output_type": "execute_result"
    }
   ],
   "source": [
    "\"{filename},{num_of_parts},{printed}\".format(filename='psu_fan',\n",
    "                                            num_of_parts=2,\n",
    "                                            printed=1)"
   ]
  },
  {
   "cell_type": "code",
   "execution_count": 363,
   "metadata": {},
   "outputs": [
    {
     "data": {
      "text/plain": [
       "'psu_fan,2,1'"
      ]
     },
     "execution_count": 363,
     "metadata": {},
     "output_type": "execute_result"
    }
   ],
   "source": [
    "\"{filename},{num_of_parts},{printed}\".format(**{\n",
    "    'filename': 'psu_fan',\n",
    "    'num_of_parts': 2,\n",
    "    'printed': 1\n",
    "})"
   ]
  }
 ],
 "metadata": {
  "kernelspec": {
   "display_name": "Python 3",
   "language": "python",
   "name": "python3"
  },
  "language_info": {
   "codemirror_mode": {
    "name": "ipython",
    "version": 3
   },
   "file_extension": ".py",
   "mimetype": "text/x-python",
   "name": "python",
   "nbconvert_exporter": "python",
   "pygments_lexer": "ipython3",
   "version": "3.6.1"
  }
 },
 "nbformat": 4,
 "nbformat_minor": 2
}
