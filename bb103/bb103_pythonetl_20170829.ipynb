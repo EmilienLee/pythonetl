{
 "cells": [
  {
   "cell_type": "code",
   "execution_count": 5,
   "metadata": {
    "collapsed": true
   },
   "outputs": [],
   "source": [
    "# Mizuno crawler\n",
    "import requests as r\n",
    "from bs4 import BeautifulSoup"
   ]
  },
  {
   "cell_type": "code",
   "execution_count": 3,
   "metadata": {
    "collapsed": true
   },
   "outputs": [],
   "source": [
    "res = r.get(\"http://www.mizuno.com.tw/04product/product_series_all.aspx?fid=6&tid=35\")"
   ]
  },
  {
   "cell_type": "code",
   "execution_count": 6,
   "metadata": {
    "collapsed": true
   },
   "outputs": [],
   "source": [
    "soup = BeautifulSoup(res.text, 'html5lib')"
   ]
  },
  {
   "cell_type": "code",
   "execution_count": 48,
   "metadata": {
    "collapsed": true
   },
   "outputs": [],
   "source": [
    "product_list = soup.find_all(lambda x: 'product_detail' in x.get('href', ''))"
   ]
  },
  {
   "cell_type": "code",
   "execution_count": 52,
   "metadata": {
    "scrolled": true
   },
   "outputs": [
    {
     "data": {
      "text/plain": [
       "{'product_detail.aspx?pid=17852',\n",
       " 'product_detail.aspx?pid=17853',\n",
       " 'product_detail.aspx?pid=19849',\n",
       " 'product_detail.aspx?pid=19850',\n",
       " 'product_detail.aspx?pid=19881',\n",
       " 'product_detail.aspx?pid=19882',\n",
       " 'product_detail.aspx?pid=19883',\n",
       " 'product_detail.aspx?pid=19884',\n",
       " 'product_detail.aspx?pid=19885',\n",
       " 'product_detail.aspx?pid=20216',\n",
       " 'product_detail.aspx?pid=20217'}"
      ]
     },
     "execution_count": 52,
     "metadata": {},
     "output_type": "execute_result"
    }
   ],
   "source": [
    "products = {list['href'] for list in product_list}\n",
    "products"
   ]
  },
  {
   "cell_type": "code",
   "execution_count": 54,
   "metadata": {},
   "outputs": [
    {
     "name": "stdout",
     "output_type": "stream",
     "text": [
      "http://www.mizuno.com.tw/04product/product_detail.aspx?pid=20216\n",
      "http://www.mizuno.com.tw/04product/product_detail.aspx?pid=20217\n",
      "http://www.mizuno.com.tw/04product/product_detail.aspx?pid=17853\n",
      "http://www.mizuno.com.tw/04product/product_detail.aspx?pid=19884\n",
      "http://www.mizuno.com.tw/04product/product_detail.aspx?pid=19882\n",
      "http://www.mizuno.com.tw/04product/product_detail.aspx?pid=19885\n",
      "http://www.mizuno.com.tw/04product/product_detail.aspx?pid=19883\n",
      "http://www.mizuno.com.tw/04product/product_detail.aspx?pid=19850\n",
      "http://www.mizuno.com.tw/04product/product_detail.aspx?pid=17852\n",
      "http://www.mizuno.com.tw/04product/product_detail.aspx?pid=19849\n",
      "http://www.mizuno.com.tw/04product/product_detail.aspx?pid=19881\n"
     ]
    }
   ],
   "source": [
    "HOST = \"http://www.mizuno.com.tw/04product/\"\n",
    "\n",
    "for link in products:\n",
    "    url = HOST + link\n",
    "    print(url)"
   ]
  },
  {
   "cell_type": "code",
   "execution_count": null,
   "metadata": {
    "collapsed": true
   },
   "outputs": [],
   "source": [
    "# Requests and proxy"
   ]
  },
  {
   "cell_type": "code",
   "execution_count": null,
   "metadata": {
    "collapsed": true
   },
   "outputs": [],
   "source": [
    "# HTTP proxy\n",
    "# found online, https://www.sslproxies.org/"
   ]
  },
  {
   "cell_type": "code",
   "execution_count": 40,
   "metadata": {},
   "outputs": [
    {
     "data": {
      "text/plain": [
       "'201.218.63.171'"
      ]
     },
     "execution_count": 40,
     "metadata": {},
     "output_type": "execute_result"
    }
   ],
   "source": [
    "import requests as r\n",
    "\n",
    "proxies = {\n",
    "  'http': 'http://201.218.63.171:65301',\n",
    "  'https': 'http://201.218.63.171:65301',\n",
    "}\n",
    "\n",
    "url = 'http://api.ipify.org'\n",
    "r.get(url, proxies=proxies).text"
   ]
  },
  {
   "cell_type": "code",
   "execution_count": 41,
   "metadata": {},
   "outputs": [
    {
     "data": {
      "text/plain": [
       "'111.248.77.73'"
      ]
     },
     "execution_count": 41,
     "metadata": {},
     "output_type": "execute_result"
    }
   ],
   "source": [
    "import requests as r\n",
    "\n",
    "proxies = {\n",
    "  'http': 'http://201.218.63.171:65301',\n",
    "  'https': 'http://201.218.63.171:65301',\n",
    "}\n",
    "\n",
    "url = 'http://api.ipify.org'\n",
    "r.get(url).text"
   ]
  },
  {
   "cell_type": "code",
   "execution_count": null,
   "metadata": {
    "collapsed": true
   },
   "outputs": [],
   "source": [
    "# SOCKS proxy,\n",
    "# can be any server with SSH\n",
    "# example:\n",
    "# ssh -D [PORT] -N [username]@[HOST(ip)]\n",
    "# In this example, PORT is 8123"
   ]
  },
  {
   "cell_type": "code",
   "execution_count": 44,
   "metadata": {},
   "outputs": [
    {
     "data": {
      "text/plain": [
       "'35.185.238.206'"
      ]
     },
     "execution_count": 44,
     "metadata": {},
     "output_type": "execute_result"
    }
   ],
   "source": [
    "import requests as r\n",
    "\n",
    "proxies = {\n",
    "  'http': 'socks5://localhost:8123',\n",
    "  'https': 'socks5://localhost:8123',\n",
    "}\n",
    "\n",
    "url = 'http://api.ipify.org'\n",
    "r.get(url, proxies=proxies).text"
   ]
  },
  {
   "cell_type": "code",
   "execution_count": 45,
   "metadata": {},
   "outputs": [
    {
     "data": {
      "text/plain": [
       "'111.248.77.73'"
      ]
     },
     "execution_count": 45,
     "metadata": {},
     "output_type": "execute_result"
    }
   ],
   "source": [
    "import requests as r\n",
    "\n",
    "proxies = {\n",
    "  'http': 'socks5://localhost:8123',\n",
    "  'https': 'socks5://localhost:8123',\n",
    "}\n",
    "\n",
    "url = 'http://api.ipify.org'\n",
    "r.get(url).text"
   ]
  },
  {
   "cell_type": "code",
   "execution_count": 46,
   "metadata": {
    "collapsed": true
   },
   "outputs": [],
   "source": [
    "# Python and MySQL"
   ]
  },
  {
   "cell_type": "code",
   "execution_count": 55,
   "metadata": {
    "collapsed": true
   },
   "outputs": [],
   "source": [
    "# Install MySQL on Ubuntu\n",
    "# sudo apt-get update && sudo apt-get intall -y mariadb-server"
   ]
  },
  {
   "cell_type": "code",
   "execution_count": 56,
   "metadata": {},
   "outputs": [
    {
     "name": "stdout",
     "output_type": "stream",
     "text": [
      "Collecting peewee\n",
      "  Downloading peewee-2.10.1.tar.gz (515kB)\n",
      "\u001b[K    100% |████████████████████████████████| 522kB 2.0MB/s ta 0:00:01\n",
      "\u001b[?25hInstalling collected packages: peewee\n",
      "  Running setup.py install for peewee ... \u001b[?25ldone\n",
      "\u001b[?25hSuccessfully installed peewee-2.10.1\n"
     ]
    }
   ],
   "source": [
    "!pip install peewee"
   ]
  },
  {
   "cell_type": "code",
   "execution_count": 57,
   "metadata": {},
   "outputs": [
    {
     "name": "stdout",
     "output_type": "stream",
     "text": [
      "Requirement already satisfied: PyMySQL in /Users/ian/.pyenv/versions/3.6.1/lib/python3.6/site-packages\r\n"
     ]
    }
   ],
   "source": [
    "!pip install PyMySQL"
   ]
  },
  {
   "cell_type": "code",
   "execution_count": 58,
   "metadata": {
    "collapsed": true
   },
   "outputs": [],
   "source": [
    "import peewee"
   ]
  },
  {
   "cell_type": "code",
   "execution_count": 111,
   "metadata": {
    "collapsed": true
   },
   "outputs": [],
   "source": [
    "db = peewee.MySQLDatabase('news',\n",
    "                          user='admin',\n",
    "                          host='localhost',\n",
    "                          password='')"
   ]
  },
  {
   "cell_type": "code",
   "execution_count": 61,
   "metadata": {},
   "outputs": [
    {
     "data": {
      "text/plain": [
       "{'email': 'ianchen06@gmail.com',\n",
       " 'id': 1,\n",
       " 'name': 'ian',\n",
       " 'website': 'ianchenhq.com',\n",
       " 'year': 2017}"
      ]
     },
     "execution_count": 61,
     "metadata": {},
     "output_type": "execute_result"
    }
   ],
   "source": [
    "{\n",
    "    'id': 1,\n",
    "    'name': 'ian',\n",
    "    'email': 'ianchen06@gmail.com',\n",
    "    'website': 'ianchenhq.com',\n",
    "    'year': 2017\n",
    "}"
   ]
  },
  {
   "cell_type": "code",
   "execution_count": 113,
   "metadata": {
    "collapsed": true
   },
   "outputs": [],
   "source": [
    "customers = [\n",
    "    {\n",
    "        'name': 'ian',\n",
    "        'email': 'ianchen06@gmail.com',\n",
    "        'eth': 2017\n",
    "    },\n",
    "    {\n",
    "        'name': 'ian',\n",
    "        'email': 'ianchen06@gmail.com',\n",
    "        'eth': 2018\n",
    "    }\n",
    "]"
   ]
  },
  {
   "cell_type": "code",
   "execution_count": 87,
   "metadata": {
    "collapsed": true
   },
   "outputs": [],
   "source": [
    "class Customer(peewee.Model):\n",
    "    name = peewee.CharField()\n",
    "    email = peewee.CharField()\n",
    "    eth  = peewee.IntegerField()\n",
    "    \n",
    "    class Meta:\n",
    "        database = db"
   ]
  },
  {
   "cell_type": "code",
   "execution_count": 65,
   "metadata": {},
   "outputs": [
    {
     "data": {
      "text/plain": [
       "<pymysql.cursors.Cursor at 0x10b665f98>"
      ]
     },
     "execution_count": 65,
     "metadata": {},
     "output_type": "execute_result"
    }
   ],
   "source": [
    "db.create_table(Customer)"
   ]
  },
  {
   "cell_type": "code",
   "execution_count": 66,
   "metadata": {
    "collapsed": true
   },
   "outputs": [],
   "source": [
    "user = Customer(name='Ian',\n",
    "        email='ianchen06@gmail.com',\n",
    "        eth=1)"
   ]
  },
  {
   "cell_type": "code",
   "execution_count": 67,
   "metadata": {},
   "outputs": [
    {
     "data": {
      "text/plain": [
       "<__main__.Customer at 0x10e6c4518>"
      ]
     },
     "execution_count": 67,
     "metadata": {},
     "output_type": "execute_result"
    }
   ],
   "source": [
    "user"
   ]
  },
  {
   "cell_type": "code",
   "execution_count": 68,
   "metadata": {},
   "outputs": [
    {
     "data": {
      "text/plain": [
       "1"
      ]
     },
     "execution_count": 68,
     "metadata": {},
     "output_type": "execute_result"
    }
   ],
   "source": [
    "user.save()"
   ]
  },
  {
   "cell_type": "code",
   "execution_count": 88,
   "metadata": {
    "collapsed": true
   },
   "outputs": [],
   "source": [
    "user = Customer(name='David',\n",
    "        email='david@gmail.com',\n",
    "        eth=2)"
   ]
  },
  {
   "cell_type": "code",
   "execution_count": 89,
   "metadata": {},
   "outputs": [
    {
     "data": {
      "text/plain": [
       "1"
      ]
     },
     "execution_count": 89,
     "metadata": {},
     "output_type": "execute_result"
    }
   ],
   "source": [
    "user.save()"
   ]
  },
  {
   "cell_type": "code",
   "execution_count": 91,
   "metadata": {},
   "outputs": [
    {
     "data": {
      "text/plain": [
       "'ianchen06@gmail.com'"
      ]
     },
     "execution_count": 91,
     "metadata": {},
     "output_type": "execute_result"
    }
   ],
   "source": [
    "Customer.get(Customer.name == 'Ian').email"
   ]
  },
  {
   "cell_type": "code",
   "execution_count": 114,
   "metadata": {},
   "outputs": [],
   "source": [
    "# Bulk insert\n",
    "\n",
    "with db.atomic():\n",
    "    Customer.insert_many(customers).execute()"
   ]
  },
  {
   "cell_type": "code",
   "execution_count": null,
   "metadata": {
    "collapsed": true
   },
   "outputs": [],
   "source": [
    "# High level query API,\n",
    "# peewee.Dataset\n",
    "# very freee API to interact with RDBMS"
   ]
  },
  {
   "cell_type": "code",
   "execution_count": 93,
   "metadata": {},
   "outputs": [],
   "source": [
    "my_dict = {}"
   ]
  },
  {
   "cell_type": "code",
   "execution_count": 94,
   "metadata": {},
   "outputs": [
    {
     "data": {
      "text/plain": [
       "dict_keys([])"
      ]
     },
     "execution_count": 94,
     "metadata": {},
     "output_type": "execute_result"
    }
   ],
   "source": [
    "my_dict.keys()"
   ]
  },
  {
   "cell_type": "code",
   "execution_count": 117,
   "metadata": {},
   "outputs": [],
   "source": [
    "from playhouse.dataset import DataSet\n",
    "\n",
    "db = DataSet('mysql://admin@localhost/news')"
   ]
  },
  {
   "cell_type": "code",
   "execution_count": 118,
   "metadata": {},
   "outputs": [
    {
     "data": {
      "text/plain": [
       "['cnyes', 'customer']"
      ]
     },
     "execution_count": 118,
     "metadata": {},
     "output_type": "execute_result"
    }
   ],
   "source": [
    "db.tables"
   ]
  },
  {
   "cell_type": "code",
   "execution_count": 119,
   "metadata": {},
   "outputs": [],
   "source": [
    "customer = db['customer']"
   ]
  },
  {
   "cell_type": "code",
   "execution_count": 121,
   "metadata": {},
   "outputs": [
    {
     "data": {
      "text/plain": [
       "6"
      ]
     },
     "execution_count": 121,
     "metadata": {},
     "output_type": "execute_result"
    }
   ],
   "source": [
    "customer.insert(\n",
    "    **{\n",
    "        'name': 'eason',\n",
    "        'email': 'eason@gmail.com',\n",
    "        'eth': 100\n",
    "    }\n",
    ")"
   ]
  },
  {
   "cell_type": "code",
   "execution_count": 122,
   "metadata": {},
   "outputs": [
    {
     "name": "stdout",
     "output_type": "stream",
     "text": [
      "{'id': 6, 'name': 'eason', 'email': 'eason@gmail.com', 'eth': 100}\n"
     ]
    }
   ],
   "source": [
    "for row in customer.find(name='eason'):\n",
    "    print(row)"
   ]
  },
  {
   "cell_type": "code",
   "execution_count": 107,
   "metadata": {},
   "outputs": [
    {
     "data": {
      "text/plain": [
       "{'email': 'ianchen06@gmail.com', 'eth': 1, 'id': 1, 'name': 'Ian'}"
      ]
     },
     "execution_count": 107,
     "metadata": {},
     "output_type": "execute_result"
    }
   ],
   "source": [
    "customer.find_one(name='Ian')"
   ]
  },
  {
   "cell_type": "code",
   "execution_count": 116,
   "metadata": {
    "collapsed": true
   },
   "outputs": [],
   "source": [
    "# Real example\n",
    "# https://github.com/ianchen06/cnyes_cralwer"
   ]
  },
  {
   "cell_type": "code",
   "execution_count": null,
   "metadata": {
    "collapsed": true
   },
   "outputs": [],
   "source": []
  }
 ],
 "metadata": {
  "kernelspec": {
   "display_name": "Python 3",
   "language": "python",
   "name": "python3"
  },
  "language_info": {
   "codemirror_mode": {
    "name": "ipython",
    "version": 3
   },
   "file_extension": ".py",
   "mimetype": "text/x-python",
   "name": "python",
   "nbconvert_exporter": "python",
   "pygments_lexer": "ipython3",
   "version": "3.6.1"
  }
 },
 "nbformat": 4,
 "nbformat_minor": 2
}
