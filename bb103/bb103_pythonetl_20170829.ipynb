{
 "cells": [
  {
   "cell_type": "code",
   "execution_count": 5,
   "metadata": {
    "collapsed": true
   },
   "outputs": [],
   "source": [
    "# Mizuno crawler\n",
    "import requests as r\n",
    "from bs4 import BeautifulSoup"
   ]
  },
  {
   "cell_type": "code",
   "execution_count": 3,
   "metadata": {},
   "outputs": [],
   "source": [
    "res = r.get(\"http://www.mizuno.com.tw/04product/product_series_all.aspx?fid=6&tid=35\")"
   ]
  },
  {
   "cell_type": "code",
   "execution_count": 6,
   "metadata": {},
   "outputs": [],
   "source": [
    "soup = BeautifulSoup(res.text, 'html5lib')"
   ]
  },
  {
   "cell_type": "code",
   "execution_count": 48,
   "metadata": {},
   "outputs": [],
   "source": [
    "product_list = soup.find_all(lambda x: 'product_detail' in x.get('href', ''))"
   ]
  },
  {
   "cell_type": "code",
   "execution_count": 52,
   "metadata": {
    "scrolled": true
   },
   "outputs": [
    {
     "data": {
      "text/plain": [
       "{'product_detail.aspx?pid=17852',\n",
       " 'product_detail.aspx?pid=17853',\n",
       " 'product_detail.aspx?pid=19849',\n",
       " 'product_detail.aspx?pid=19850',\n",
       " 'product_detail.aspx?pid=19881',\n",
       " 'product_detail.aspx?pid=19882',\n",
       " 'product_detail.aspx?pid=19883',\n",
       " 'product_detail.aspx?pid=19884',\n",
       " 'product_detail.aspx?pid=19885',\n",
       " 'product_detail.aspx?pid=20216',\n",
       " 'product_detail.aspx?pid=20217'}"
      ]
     },
     "execution_count": 52,
     "metadata": {},
     "output_type": "execute_result"
    }
   ],
   "source": [
    "products = {list['href'] for list in product_list}\n",
    "products"
   ]
  },
  {
   "cell_type": "code",
   "execution_count": 54,
   "metadata": {},
   "outputs": [
    {
     "name": "stdout",
     "output_type": "stream",
     "text": [
      "http://www.mizuno.com.tw/04product/product_detail.aspx?pid=20216\n",
      "http://www.mizuno.com.tw/04product/product_detail.aspx?pid=20217\n",
      "http://www.mizuno.com.tw/04product/product_detail.aspx?pid=17853\n",
      "http://www.mizuno.com.tw/04product/product_detail.aspx?pid=19884\n",
      "http://www.mizuno.com.tw/04product/product_detail.aspx?pid=19882\n",
      "http://www.mizuno.com.tw/04product/product_detail.aspx?pid=19885\n",
      "http://www.mizuno.com.tw/04product/product_detail.aspx?pid=19883\n",
      "http://www.mizuno.com.tw/04product/product_detail.aspx?pid=19850\n",
      "http://www.mizuno.com.tw/04product/product_detail.aspx?pid=17852\n",
      "http://www.mizuno.com.tw/04product/product_detail.aspx?pid=19849\n",
      "http://www.mizuno.com.tw/04product/product_detail.aspx?pid=19881\n"
     ]
    }
   ],
   "source": [
    "HOST = \"http://www.mizuno.com.tw/04product/\"\n",
    "\n",
    "for link in products:\n",
    "    url = HOST + link\n",
    "    print(url)"
   ]
  },
  {
   "cell_type": "code",
   "execution_count": null,
   "metadata": {
    "collapsed": true
   },
   "outputs": [],
   "source": [
    "# Requests and proxy"
   ]
  },
  {
   "cell_type": "code",
   "execution_count": null,
   "metadata": {
    "collapsed": true
   },
   "outputs": [],
   "source": [
    "# HTTP proxy\n",
    "# found online, https://www.sslproxies.org/"
   ]
  },
  {
   "cell_type": "code",
   "execution_count": 40,
   "metadata": {},
   "outputs": [
    {
     "data": {
      "text/plain": [
       "'201.218.63.171'"
      ]
     },
     "execution_count": 40,
     "metadata": {},
     "output_type": "execute_result"
    }
   ],
   "source": [
    "import requests as r\n",
    "\n",
    "proxies = {\n",
    "  'http': 'http://201.218.63.171:65301',\n",
    "  'https': 'http://201.218.63.171:65301',\n",
    "}\n",
    "\n",
    "url = 'http://api.ipify.org'\n",
    "r.get(url, proxies=proxies).text"
   ]
  },
  {
   "cell_type": "code",
   "execution_count": 41,
   "metadata": {},
   "outputs": [
    {
     "data": {
      "text/plain": [
       "'111.248.77.73'"
      ]
     },
     "execution_count": 41,
     "metadata": {},
     "output_type": "execute_result"
    }
   ],
   "source": [
    "import requests as r\n",
    "\n",
    "proxies = {\n",
    "  'http': 'http://201.218.63.171:65301',\n",
    "  'https': 'http://201.218.63.171:65301',\n",
    "}\n",
    "\n",
    "url = 'http://api.ipify.org'\n",
    "r.get(url).text"
   ]
  },
  {
   "cell_type": "code",
   "execution_count": null,
   "metadata": {
    "collapsed": true
   },
   "outputs": [],
   "source": [
    "# SOCKS proxy,\n",
    "# can be any server with SSH\n",
    "# example:\n",
    "# ssh -D [PORT] -N [username]@[HOST(ip)]\n",
    "# In this example, PORT is 8123"
   ]
  },
  {
   "cell_type": "code",
   "execution_count": 44,
   "metadata": {},
   "outputs": [
    {
     "data": {
      "text/plain": [
       "'35.185.238.206'"
      ]
     },
     "execution_count": 44,
     "metadata": {},
     "output_type": "execute_result"
    }
   ],
   "source": [
    "import requests as r\n",
    "\n",
    "proxies = {\n",
    "  'http': 'socks5://localhost:8123',\n",
    "  'https': 'socks5://localhost:8123',\n",
    "}\n",
    "\n",
    "url = 'http://api.ipify.org'\n",
    "r.get(url, proxies=proxies).text"
   ]
  },
  {
   "cell_type": "code",
   "execution_count": 45,
   "metadata": {},
   "outputs": [
    {
     "data": {
      "text/plain": [
       "'111.248.77.73'"
      ]
     },
     "execution_count": 45,
     "metadata": {},
     "output_type": "execute_result"
    }
   ],
   "source": [
    "import requests as r\n",
    "\n",
    "proxies = {\n",
    "  'http': 'socks5://localhost:8123',\n",
    "  'https': 'socks5://localhost:8123',\n",
    "}\n",
    "\n",
    "url = 'http://api.ipify.org'\n",
    "r.get(url).text"
   ]
  },
  {
   "cell_type": "code",
   "execution_count": 46,
   "metadata": {
    "collapsed": true
   },
   "outputs": [],
   "source": [
    "# Python and MySQL"
   ]
  },
  {
   "cell_type": "code",
   "execution_count": 55,
   "metadata": {
    "collapsed": true
   },
   "outputs": [],
   "source": [
    "# Install MySQL on Ubuntu\n",
    "# sudo apt-get update && sudo apt-get intall -y mariadb-server"
   ]
  },
  {
   "cell_type": "code",
   "execution_count": null,
   "metadata": {
    "collapsed": true
   },
   "outputs": [],
   "source": []
  }
 ],
 "metadata": {
  "kernelspec": {
   "display_name": "Python 3",
   "language": "python",
   "name": "python3"
  },
  "language_info": {
   "codemirror_mode": {
    "name": "ipython",
    "version": 3
   },
   "file_extension": ".py",
   "mimetype": "text/x-python",
   "name": "python",
   "nbconvert_exporter": "python",
   "pygments_lexer": "ipython3",
   "version": "3.6.1"
  }
 },
 "nbformat": 4,
 "nbformat_minor": 2
}
