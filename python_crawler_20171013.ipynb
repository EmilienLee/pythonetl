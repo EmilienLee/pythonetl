{
 "cells": [
  {
   "cell_type": "code",
   "execution_count": 2,
   "metadata": {
    "collapsed": true
   },
   "outputs": [],
   "source": [
    "import requests as r\n",
    "\n",
    "URL = \"https://www.ptt.cc/bbs/iOS/index{}.html\"\n",
    "LAST_PG = 3734\n",
    "PG = 10\n",
    "\n",
    "\n",
    "for pg in range(LAST_PG, LAST_PG-PG, -1):\n",
    "    response = r.get(URL.format(pg))\n",
    "    html = response.text\n",
    "    \n",
    "    with open('ios_{}.html'.format(pg), 'w') as f:\n",
    "        f.write(html)"
   ]
  },
  {
   "cell_type": "code",
   "execution_count": 3,
   "metadata": {
    "collapsed": true
   },
   "outputs": [],
   "source": [
    "with open('ios_3725.html', 'r') as f:\n",
    "    html = f.read()"
   ]
  },
  {
   "cell_type": "code",
   "execution_count": 4,
   "metadata": {
    "scrolled": true
   },
   "outputs": [
    {
     "data": {
      "text/plain": [
       "'<!DOCTYPE html>\\n<html>\\n\\t<head>\\n\\t\\t<meta charset=\"utf-8\">\\n\\t\\t\\n\\n<meta name=\"viewport\" content=\"width=device-width, initial-scale=1\">\\n\\n<title>看板 iOS 文章列表 - 批踢踢實業坊</title>\\n\\n<link rel=\"stylesheet\" type=\"text/css\" href=\"//images.ptt.cc/bbs/v2.22/bbs-common.css\">\\n<link rel=\"stylesheet\" type=\"text/css\" href=\"//images.ptt.cc/bbs/v2.22/bbs-base.css\" media=\"screen\">\\n<link rel=\"stylesheet\" type=\"text/css\" href=\"//images.ptt.cc/bbs/v2.22/bbs-custom.css\">\\n<link rel=\"stylesheet\" type=\"text/css\" href=\"//images.ptt.cc/bbs/v2.22/pushstream.css\" media=\"screen\">\\n<link rel=\"stylesheet\" type=\"text/css\" href=\"//images.ptt.cc/bbs/v2.22/bbs-print.css\" media=\"print\">\\n\\n\\n\\n\\n\\t</head>\\n    <body>\\n\\t\\t\\n<div id=\"topbar-container\">\\n\\t<div id=\"topbar\" class=\"bbs-content\">\\n\\t\\t<a id=\"logo\" href=\"/\">批踢踢實業坊</a>\\n\\t\\t<span>&rsaquo;</span>\\n\\t\\t<a class=\"board\" href=\"/bbs/iOS/index.html\"><span class=\"board-label\">看板 </span>iOS</a>\\n\\t\\t<a class=\"right small\" href=\"/about.html\">關於我們</a>\\n\\t\\t<a class=\"right small\" href=\"/contact.html\">聯絡資訊</a>\\n\\t</div>\\n</div>\\n\\n<div id=\"main-container\">\\n\\t<div id=\"action-bar-container\">\\n\\t\\t<div class=\"action-bar\">\\n\\t\\t\\t<div class=\"btn-group btn-group-dir\">\\n\\t\\t\\t\\t<a class=\"btn selected\" href=\"/bbs/iOS/index.html\">看板</a>\\n\\t\\t\\t\\t<a class=\"btn\" href=\"/man/iOS/index.html\">精華區</a>\\n\\t\\t\\t</div>\\n\\t\\t\\t<div class=\"btn-group btn-group-paging\">\\n\\t\\t\\t\\t<a class=\"btn wide\" href=\"/bbs/iOS/index1.html\">最舊</a>\\n\\t\\t\\t\\t<a class=\"btn wide\" href=\"/bbs/iOS/index3724.html\">&lsaquo; 上頁</a>\\n\\t\\t\\t\\t<a class=\"btn wide\" href=\"/bbs/iOS/index3726.html\">下頁 &rsaquo;</a>\\n\\t\\t\\t\\t<a class=\"btn wide\" href=\"/bbs/iOS/index.html\">最新</a>\\n\\t\\t\\t</div>\\n\\t\\t</div>\\n\\t</div>\\n\\n\\t<div class=\"r-list-container action-bar-margin bbs-screen\">\\n\\t\\t\\n\\t\\t\\n            \\n        \\n        \\n\\t\\t<div class=\"r-ent\">\\n\\t\\t\\t<div class=\"nrec\"><span class=\"hl f3\">26</span></div>\\n\\t\\t\\t<div class=\"mark\"></div>\\n\\t\\t\\t<div class=\"title\">\\n\\t\\t\\t\\n\\t\\t\\t\\t<a href=\"/bbs/iOS/M.1507581217.A.308.html\">[討論] iOS 11.1 Public Beta 2 左側多工回歸!</a>\\n\\t\\t\\t\\n\\t\\t\\t</div>\\n\\t\\t\\t<div class=\"meta\">\\n\\t\\t\\t\\t<div class=\"date\">10/10</div>\\n\\t\\t\\t\\t<div class=\"author\">kouta</div>\\n\\t\\t\\t</div>\\n\\t\\t</div>\\n\\n\\t\\t\\n            \\n        \\n        \\n\\t\\t<div class=\"r-ent\">\\n\\t\\t\\t<div class=\"nrec\"><span class=\"hl f2\">9</span></div>\\n\\t\\t\\t<div class=\"mark\"></div>\\n\\t\\t\\t<div class=\"title\">\\n\\t\\t\\t\\n\\t\\t\\t\\t<a href=\"/bbs/iOS/M.1507591282.A.59E.html\">[問題] IPhone 6s 短暫凍住</a>\\n\\t\\t\\t\\n\\t\\t\\t</div>\\n\\t\\t\\t<div class=\"meta\">\\n\\t\\t\\t\\t<div class=\"date\">10/10</div>\\n\\t\\t\\t\\t<div class=\"author\">kevin77516</div>\\n\\t\\t\\t</div>\\n\\t\\t</div>\\n\\n\\t\\t\\n            \\n        \\n        \\n\\t\\t<div class=\"r-ent\">\\n\\t\\t\\t<div class=\"nrec\"></div>\\n\\t\\t\\t<div class=\"mark\"></div>\\n\\t\\t\\t<div class=\"title\">\\n\\t\\t\\t\\n\\t\\t\\t\\t(本文已被刪除) [becathy]\\n\\t\\t\\t\\n\\t\\t\\t</div>\\n\\t\\t\\t<div class=\"meta\">\\n\\t\\t\\t\\t<div class=\"date\">10/10</div>\\n\\t\\t\\t\\t<div class=\"author\">-</div>\\n\\t\\t\\t</div>\\n\\t\\t</div>\\n\\n\\t\\t\\n            \\n        \\n        \\n\\t\\t<div class=\"r-ent\">\\n\\t\\t\\t<div class=\"nrec\"><span class=\"hl f0\">X2</span></div>\\n\\t\\t\\t<div class=\"mark\"></div>\\n\\t\\t\\t<div class=\"title\">\\n\\t\\t\\t\\n\\t\\t\\t\\t(本文已被刪除) [k800i13090]\\n\\t\\t\\t\\n\\t\\t\\t</div>\\n\\t\\t\\t<div class=\"meta\">\\n\\t\\t\\t\\t<div class=\"date\">10/10</div>\\n\\t\\t\\t\\t<div class=\"author\">-</div>\\n\\t\\t\\t</div>\\n\\t\\t</div>\\n\\n\\t\\t\\n            \\n        \\n        \\n\\t\\t<div class=\"r-ent\">\\n\\t\\t\\t<div class=\"nrec\"><span class=\"hl f3\">59</span></div>\\n\\t\\t\\t<div class=\"mark\"></div>\\n\\t\\t\\t<div class=\"title\">\\n\\t\\t\\t\\n\\t\\t\\t\\t<a href=\"/bbs/iOS/M.1507597383.A.168.html\">[討論] ios11   ptt的選擇?</a>\\n\\t\\t\\t\\n\\t\\t\\t</div>\\n\\t\\t\\t<div class=\"meta\">\\n\\t\\t\\t\\t<div class=\"date\">10/10</div>\\n\\t\\t\\t\\t<div class=\"author\">xu33</div>\\n\\t\\t\\t</div>\\n\\t\\t</div>\\n\\n\\t\\t\\n            \\n        \\n        \\n\\t\\t<div class=\"r-ent\">\\n\\t\\t\\t<div class=\"nrec\"><span class=\"hl f2\">6</span></div>\\n\\t\\t\\t<div class=\"mark\"></div>\\n\\t\\t\\t<div class=\"title\">\\n\\t\\t\\t\\n\\t\\t\\t\\t<a href=\"/bbs/iOS/M.1507599276.A.F62.html\">Re: [情報] iTunes 12.6.3發佈（支援iOS 11與macOS 10.13）</a>\\n\\t\\t\\t\\n\\t\\t\\t</div>\\n\\t\\t\\t<div class=\"meta\">\\n\\t\\t\\t\\t<div class=\"date\">10/10</div>\\n\\t\\t\\t\\t<div class=\"author\">hn9480412</div>\\n\\t\\t\\t</div>\\n\\t\\t</div>\\n\\n\\t\\t\\n            \\n        \\n        \\n\\t\\t<div class=\"r-ent\">\\n\\t\\t\\t<div class=\"nrec\"><span class=\"hl f2\">2</span></div>\\n\\t\\t\\t<div class=\"mark\"></div>\\n\\t\\t\\t<div class=\"title\">\\n\\t\\t\\t\\n\\t\\t\\t\\t<a href=\"/bbs/iOS/M.1507600512.A.88B.html\">[問題] 關於iPhone 8的問題</a>\\n\\t\\t\\t\\n\\t\\t\\t</div>\\n\\t\\t\\t<div class=\"meta\">\\n\\t\\t\\t\\t<div class=\"date\">10/10</div>\\n\\t\\t\\t\\t<div class=\"author\">dsaa0116</div>\\n\\t\\t\\t</div>\\n\\t\\t</div>\\n\\n\\t\\t\\n            \\n        \\n        \\n\\t\\t<div class=\"r-ent\">\\n\\t\\t\\t<div class=\"nrec\"><span class=\"hl f2\">5</span></div>\\n\\t\\t\\t<div class=\"mark\"></div>\\n\\t\\t\\t<div class=\"title\">\\n\\t\\t\\t\\n\\t\\t\\t\\t<a href=\"/bbs/iOS/M.1507600846.A.4E3.html\">[問題] 中文語音怎麼輸入空格</a>\\n\\t\\t\\t\\n\\t\\t\\t</div>\\n\\t\\t\\t<div class=\"meta\">\\n\\t\\t\\t\\t<div class=\"date\">10/10</div>\\n\\t\\t\\t\\t<div class=\"author\">rchou</div>\\n\\t\\t\\t</div>\\n\\t\\t</div>\\n\\n\\t\\t\\n            \\n        \\n        \\n\\t\\t<div class=\"r-ent\">\\n\\t\\t\\t<div class=\"nrec\"><span class=\"hl f2\">3</span></div>\\n\\t\\t\\t<div class=\"mark\"></div>\\n\\t\\t\\t<div class=\"title\">\\n\\t\\t\\t\\n\\t\\t\\t\\t<a href=\"/bbs/iOS/M.1507601596.A.07B.html\">Re: [問題] ios11 wifi 自己開啟?  (已爬文</a>\\n\\t\\t\\t\\n\\t\\t\\t</div>\\n\\t\\t\\t<div class=\"meta\">\\n\\t\\t\\t\\t<div class=\"date\">10/10</div>\\n\\t\\t\\t\\t<div class=\"author\">xu3</div>\\n\\t\\t\\t</div>\\n\\t\\t</div>\\n\\n\\t\\t\\n            \\n        \\n        \\n\\t\\t<div class=\"r-ent\">\\n\\t\\t\\t<div class=\"nrec\"></div>\\n\\t\\t\\t<div class=\"mark\"></div>\\n\\t\\t\\t<div class=\"title\">\\n\\t\\t\\t\\n\\t\\t\\t\\t<a href=\"/bbs/iOS/M.1507602205.A.08C.html\">[情報] 10/10 LINE免費貼圖</a>\\n\\t\\t\\t\\n\\t\\t\\t</div>\\n\\t\\t\\t<div class=\"meta\">\\n\\t\\t\\t\\t<div class=\"date\">10/10</div>\\n\\t\\t\\t\\t<div class=\"author\">jill6417</div>\\n\\t\\t\\t</div>\\n\\t\\t</div>\\n\\n\\t\\t\\n            \\n        \\n        \\n\\t\\t<div class=\"r-ent\">\\n\\t\\t\\t<div class=\"nrec\"><span class=\"hl f2\">1</span></div>\\n\\t\\t\\t<div class=\"mark\"></div>\\n\\t\\t\\t<div class=\"title\">\\n\\t\\t\\t\\n\\t\\t\\t\\t<a href=\"/bbs/iOS/M.1507602821.A.F96.html\">[問題] 無法同步ipad 內部裝置發生錯誤</a>\\n\\t\\t\\t\\n\\t\\t\\t</div>\\n\\t\\t\\t<div class=\"meta\">\\n\\t\\t\\t\\t<div class=\"date\">10/10</div>\\n\\t\\t\\t\\t<div class=\"author\">Layase</div>\\n\\t\\t\\t</div>\\n\\t\\t</div>\\n\\n\\t\\t\\n            \\n        \\n        \\n\\t\\t<div class=\"r-ent\">\\n\\t\\t\\t<div class=\"nrec\"><span class=\"hl f2\">1</span></div>\\n\\t\\t\\t<div class=\"mark\"></div>\\n\\t\\t\\t<div class=\"title\">\\n\\t\\t\\t\\n\\t\\t\\t\\t<a href=\"/bbs/iOS/M.1507604813.A.F28.html\">[問題] line閃退 用ITUNES備份回復 記錄會保留嗎</a>\\n\\t\\t\\t\\n\\t\\t\\t</div>\\n\\t\\t\\t<div class=\"meta\">\\n\\t\\t\\t\\t<div class=\"date\">10/10</div>\\n\\t\\t\\t\\t<div class=\"author\">Powertalk1</div>\\n\\t\\t\\t</div>\\n\\t\\t</div>\\n\\n\\t\\t\\n            \\n        \\n        \\n\\t\\t<div class=\"r-ent\">\\n\\t\\t\\t<div class=\"nrec\"><span class=\"hl f3\">17</span></div>\\n\\t\\t\\t<div class=\"mark\"></div>\\n\\t\\t\\t<div class=\"title\">\\n\\t\\t\\t\\n\\t\\t\\t\\t<a href=\"/bbs/iOS/M.1507609836.A.50B.html\">[問題] 請推薦好玩的脫出遊戲</a>\\n\\t\\t\\t\\n\\t\\t\\t</div>\\n\\t\\t\\t<div class=\"meta\">\\n\\t\\t\\t\\t<div class=\"date\">10/10</div>\\n\\t\\t\\t\\t<div class=\"author\">kaho1577</div>\\n\\t\\t\\t</div>\\n\\t\\t</div>\\n\\n\\t\\t\\n            \\n        \\n        \\n\\t\\t<div class=\"r-ent\">\\n\\t\\t\\t<div class=\"nrec\"><span class=\"hl f2\">1</span></div>\\n\\t\\t\\t<div class=\"mark\"></div>\\n\\t\\t\\t<div class=\"title\">\\n\\t\\t\\t\\n\\t\\t\\t\\t(本文已被刪除) [ImMyFriend]\\n\\t\\t\\t\\n\\t\\t\\t</div>\\n\\t\\t\\t<div class=\"meta\">\\n\\t\\t\\t\\t<div class=\"date\">10/10</div>\\n\\t\\t\\t\\t<div class=\"author\">-</div>\\n\\t\\t\\t</div>\\n\\t\\t</div>\\n\\n\\t\\t\\n            \\n        \\n        \\n\\t\\t<div class=\"r-ent\">\\n\\t\\t\\t<div class=\"nrec\"><span class=\"hl f2\">2</span></div>\\n\\t\\t\\t<div class=\"mark\"></div>\\n\\t\\t\\t<div class=\"title\">\\n\\t\\t\\t\\n\\t\\t\\t\\t<a href=\"/bbs/iOS/M.1507610958.A.5AD.html\">[問題] 照片突然變少，顯示下載中  </a>\\n\\t\\t\\t\\n\\t\\t\\t</div>\\n\\t\\t\\t<div class=\"meta\">\\n\\t\\t\\t\\t<div class=\"date\">10/10</div>\\n\\t\\t\\t\\t<div class=\"author\">thomasjr</div>\\n\\t\\t\\t</div>\\n\\t\\t</div>\\n\\n\\t\\t\\n            \\n        \\n        \\n\\t\\t<div class=\"r-ent\">\\n\\t\\t\\t<div class=\"nrec\"></div>\\n\\t\\t\\t<div class=\"mark\"></div>\\n\\t\\t\\t<div class=\"title\">\\n\\t\\t\\t\\n\\t\\t\\t\\t(本文已被刪除) [significant4]\\n\\t\\t\\t\\n\\t\\t\\t</div>\\n\\t\\t\\t<div class=\"meta\">\\n\\t\\t\\t\\t<div class=\"date\">10/10</div>\\n\\t\\t\\t\\t<div class=\"author\">-</div>\\n\\t\\t\\t</div>\\n\\t\\t</div>\\n\\n\\t\\t\\n            \\n        \\n        \\n\\t\\t<div class=\"r-ent\">\\n\\t\\t\\t<div class=\"nrec\"><span class=\"hl f2\">1</span></div>\\n\\t\\t\\t<div class=\"mark\"></div>\\n\\t\\t\\t<div class=\"title\">\\n\\t\\t\\t\\n\\t\\t\\t\\t(本文已被刪除) [significant4]\\n\\t\\t\\t\\n\\t\\t\\t</div>\\n\\t\\t\\t<div class=\"meta\">\\n\\t\\t\\t\\t<div class=\"date\">10/10</div>\\n\\t\\t\\t\\t<div class=\"author\">-</div>\\n\\t\\t\\t</div>\\n\\t\\t</div>\\n\\n\\t\\t\\n            \\n        \\n        \\n\\t\\t<div class=\"r-ent\">\\n\\t\\t\\t<div class=\"nrec\"></div>\\n\\t\\t\\t<div class=\"mark\"></div>\\n\\t\\t\\t<div class=\"title\">\\n\\t\\t\\t\\n\\t\\t\\t\\t<a href=\"/bbs/iOS/M.1507611893.A.D03.html\">Re: [問題] AdBlock載完不能用...？</a>\\n\\t\\t\\t\\n\\t\\t\\t</div>\\n\\t\\t\\t<div class=\"meta\">\\n\\t\\t\\t\\t<div class=\"date\">10/10</div>\\n\\t\\t\\t\\t<div class=\"author\">iComeInPeace</div>\\n\\t\\t\\t</div>\\n\\t\\t</div>\\n\\n\\t\\t\\n            \\n        \\n        \\n\\t\\t<div class=\"r-ent\">\\n\\t\\t\\t<div class=\"nrec\"><span class=\"hl f2\">6</span></div>\\n\\t\\t\\t<div class=\"mark\"></div>\\n\\t\\t\\t<div class=\"title\">\\n\\t\\t\\t\\n\\t\\t\\t\\t<a href=\"/bbs/iOS/M.1507612175.A.95D.html\">[問題] TNT出貨卡住？</a>\\n\\t\\t\\t\\n\\t\\t\\t</div>\\n\\t\\t\\t<div class=\"meta\">\\n\\t\\t\\t\\t<div class=\"date\">10/10</div>\\n\\t\\t\\t\\t<div class=\"author\">btzsm</div>\\n\\t\\t\\t</div>\\n\\t\\t</div>\\n\\n\\t\\t\\n            \\n        \\n        \\n\\t\\t<div class=\"r-ent\">\\n\\t\\t\\t<div class=\"nrec\"><span class=\"hl f2\">1</span></div>\\n\\t\\t\\t<div class=\"mark\"></div>\\n\\t\\t\\t<div class=\"title\">\\n\\t\\t\\t\\n\\t\\t\\t\\t<a href=\"/bbs/iOS/M.1507612258.A.845.html\">[問題] iPhone 8+ 螢幕</a>\\n\\t\\t\\t\\n\\t\\t\\t</div>\\n\\t\\t\\t<div class=\"meta\">\\n\\t\\t\\t\\t<div class=\"date\">10/10</div>\\n\\t\\t\\t\\t<div class=\"author\">ic9963608</div>\\n\\t\\t\\t</div>\\n\\t\\t</div>\\n\\n\\t\\t\\n        \\n\\t</div>\\n\\n    \\n</div>\\n\\n\\t\\t\\n\\n<script>\\n  (function(i,s,o,g,r,a,m){i[\\'GoogleAnalyticsObject\\']=r;i[r]=i[r]||function(){\\n  (i[r].q=i[r].q||[]).push(arguments)},i[r].l=1*new Date();a=s.createElement(o),\\n  m=s.getElementsByTagName(o)[0];a.async=1;a.src=g;m.parentNode.insertBefore(a,m)\\n  })(window,document,\\'script\\',\\'https://www.google-analytics.com/analytics.js\\',\\'ga\\');\\n\\n  ga(\\'create\\', \\'UA-32365737-1\\', {\\n    cookieDomain: \\'ptt.cc\\',\\n    legacyCookieDomain: \\'ptt.cc\\'\\n  });\\n  ga(\\'send\\', \\'pageview\\');\\n</script>\\n\\n\\n\\t\\t\\n<script src=\"//ajax.googleapis.com/ajax/libs/jquery/2.1.1/jquery.min.js\"></script>\\n<script src=\"//images.ptt.cc/bbs/v2.22/bbs.js\"></script>\\n\\n    </body>\\n</html>\\n'"
      ]
     },
     "execution_count": 4,
     "metadata": {},
     "output_type": "execute_result"
    }
   ],
   "source": [
    "html"
   ]
  },
  {
   "cell_type": "code",
   "execution_count": 5,
   "metadata": {},
   "outputs": [
    {
     "data": {
      "text/plain": [
       "['/bbs/iOS/M.1507581217.A.308.html',\n",
       " '/bbs/iOS/M.1507591282.A.59E.html',\n",
       " '/bbs/iOS/M.1507597383.A.168.html',\n",
       " '/bbs/iOS/M.1507599276.A.F62.html',\n",
       " '/bbs/iOS/M.1507600512.A.88B.html',\n",
       " '/bbs/iOS/M.1507600846.A.4E3.html',\n",
       " '/bbs/iOS/M.1507601596.A.07B.html',\n",
       " '/bbs/iOS/M.1507602205.A.08C.html',\n",
       " '/bbs/iOS/M.1507602821.A.F96.html',\n",
       " '/bbs/iOS/M.1507604813.A.F28.html',\n",
       " '/bbs/iOS/M.1507609836.A.50B.html',\n",
       " '/bbs/iOS/M.1507610958.A.5AD.html',\n",
       " '/bbs/iOS/M.1507611893.A.D03.html',\n",
       " '/bbs/iOS/M.1507612175.A.95D.html',\n",
       " '/bbs/iOS/M.1507612258.A.845.html']"
      ]
     },
     "execution_count": 5,
     "metadata": {},
     "output_type": "execute_result"
    }
   ],
   "source": [
    "import re\n",
    "\n",
    "re.findall(\"\\/bbs\\/iOS\\/M.*\\.html\", html)"
   ]
  },
  {
   "cell_type": "code",
   "execution_count": 6,
   "metadata": {},
   "outputs": [
    {
     "data": {
      "text/plain": [
       "['/bbs/iOS/M.1507870869.A.94E.html',\n",
       " '/bbs/iOS/M.1507871224.A.1B2.html',\n",
       " '/bbs/iOS/M.1273556295.A.002.html',\n",
       " '/bbs/iOS/M.1418138597.A.8A4.html',\n",
       " '/bbs/iOS/M.1493909384.A.0EB.html',\n",
       " '/bbs/iOS/M.1505465905.A.23D.html',\n",
       " '/bbs/iOS/M.1507827734.A.897.html',\n",
       " '/bbs/iOS/M.1507828060.A.BB4.html',\n",
       " '/bbs/iOS/M.1507829029.A.177.html',\n",
       " '/bbs/iOS/M.1507829898.A.A8E.html',\n",
       " '/bbs/iOS/M.1507834191.A.A31.html',\n",
       " '/bbs/iOS/M.1507837029.A.B5D.html',\n",
       " '/bbs/iOS/M.1507838799.A.C71.html',\n",
       " '/bbs/iOS/M.1507848355.A.40D.html',\n",
       " '/bbs/iOS/M.1507851576.A.B8C.html',\n",
       " '/bbs/iOS/M.1507856001.A.048.html',\n",
       " '/bbs/iOS/M.1507859646.A.233.html',\n",
       " '/bbs/iOS/M.1507860015.A.75B.html',\n",
       " '/bbs/iOS/M.1507862498.A.93F.html',\n",
       " '/bbs/iOS/M.1507862514.A.5E8.html',\n",
       " '/bbs/iOS/M.1507863479.A.380.html',\n",
       " '/bbs/iOS/M.1507863636.A.584.html',\n",
       " '/bbs/iOS/M.1507864647.A.B1C.html',\n",
       " '/bbs/iOS/M.1507866417.A.399.html',\n",
       " '/bbs/iOS/M.1507867155.A.75A.html',\n",
       " '/bbs/iOS/M.1507867254.A.800.html',\n",
       " '/bbs/iOS/M.1507808077.A.CFE.html',\n",
       " '/bbs/iOS/M.1507808358.A.1EE.html',\n",
       " '/bbs/iOS/M.1507808475.A.41F.html',\n",
       " '/bbs/iOS/M.1507809912.A.0F7.html',\n",
       " '/bbs/iOS/M.1507811376.A.50D.html',\n",
       " '/bbs/iOS/M.1507811510.A.90D.html',\n",
       " '/bbs/iOS/M.1507813085.A.799.html',\n",
       " '/bbs/iOS/M.1507813144.A.1F8.html',\n",
       " '/bbs/iOS/M.1507813243.A.811.html',\n",
       " '/bbs/iOS/M.1507814263.A.059.html',\n",
       " '/bbs/iOS/M.1507814624.A.9AE.html',\n",
       " '/bbs/iOS/M.1507816720.A.1AF.html',\n",
       " '/bbs/iOS/M.1507816977.A.B32.html',\n",
       " '/bbs/iOS/M.1507820696.A.0F0.html',\n",
       " '/bbs/iOS/M.1507821423.A.562.html',\n",
       " '/bbs/iOS/M.1507821872.A.828.html',\n",
       " '/bbs/iOS/M.1507823218.A.97E.html',\n",
       " '/bbs/iOS/M.1507824728.A.F19.html',\n",
       " '/bbs/iOS/M.1507825517.A.26A.html',\n",
       " '/bbs/iOS/M.1507826991.A.E7F.html',\n",
       " '/bbs/iOS/M.1507783089.A.562.html',\n",
       " '/bbs/iOS/M.1507783474.A.4D6.html',\n",
       " '/bbs/iOS/M.1507784370.A.D02.html',\n",
       " '/bbs/iOS/M.1507784818.A.356.html',\n",
       " '/bbs/iOS/M.1507785361.A.CC6.html',\n",
       " '/bbs/iOS/M.1507786557.A.4FE.html',\n",
       " '/bbs/iOS/M.1507787093.A.CA0.html',\n",
       " '/bbs/iOS/M.1507787636.A.50D.html',\n",
       " '/bbs/iOS/M.1507788443.A.87A.html',\n",
       " '/bbs/iOS/M.1507790458.A.4AC.html',\n",
       " '/bbs/iOS/M.1507791096.A.BE9.html',\n",
       " '/bbs/iOS/M.1507791314.A.157.html',\n",
       " '/bbs/iOS/M.1507793116.A.642.html',\n",
       " '/bbs/iOS/M.1507800771.A.C2B.html',\n",
       " '/bbs/iOS/M.1507800999.A.FBB.html',\n",
       " '/bbs/iOS/M.1507801389.A.514.html',\n",
       " '/bbs/iOS/M.1507737840.A.D66.html',\n",
       " '/bbs/iOS/M.1507739584.A.CAA.html',\n",
       " '/bbs/iOS/M.1507741558.A.708.html',\n",
       " '/bbs/iOS/M.1507741625.A.BD6.html',\n",
       " '/bbs/iOS/M.1507741831.A.B3F.html',\n",
       " '/bbs/iOS/M.1507742316.A.12D.html',\n",
       " '/bbs/iOS/M.1507744606.A.D84.html',\n",
       " '/bbs/iOS/M.1507749226.A.561.html',\n",
       " '/bbs/iOS/M.1507767272.A.EEF.html',\n",
       " '/bbs/iOS/M.1507774986.A.302.html',\n",
       " '/bbs/iOS/M.1507777108.A.498.html',\n",
       " '/bbs/iOS/M.1507777949.A.B72.html',\n",
       " '/bbs/iOS/M.1507778731.A.DBB.html',\n",
       " '/bbs/iOS/M.1507778801.A.089.html',\n",
       " '/bbs/iOS/M.1507778897.A.036.html',\n",
       " '/bbs/iOS/M.1507779331.A.87F.html',\n",
       " '/bbs/iOS/M.1507781357.A.37D.html',\n",
       " '/bbs/iOS/M.1507708406.A.0FD.html',\n",
       " '/bbs/iOS/M.1507712057.A.589.html',\n",
       " '/bbs/iOS/M.1507716657.A.AE7.html',\n",
       " '/bbs/iOS/M.1507717403.A.043.html',\n",
       " '/bbs/iOS/M.1507718172.A.5D1.html',\n",
       " '/bbs/iOS/M.1507719050.A.E1A.html',\n",
       " '/bbs/iOS/M.1507720286.A.929.html',\n",
       " '/bbs/iOS/M.1507722594.A.35E.html',\n",
       " '/bbs/iOS/M.1507726801.A.F32.html',\n",
       " '/bbs/iOS/M.1507727328.A.1A8.html',\n",
       " '/bbs/iOS/M.1507728574.A.F71.html',\n",
       " '/bbs/iOS/M.1507731019.A.E7E.html',\n",
       " '/bbs/iOS/M.1507731178.A.D1F.html',\n",
       " '/bbs/iOS/M.1507732591.A.650.html',\n",
       " '/bbs/iOS/M.1507735167.A.3B5.html',\n",
       " '/bbs/iOS/M.1507735281.A.4B3.html',\n",
       " '/bbs/iOS/M.1507735857.A.439.html',\n",
       " '/bbs/iOS/M.1507736300.A.428.html',\n",
       " '/bbs/iOS/M.1507737011.A.773.html',\n",
       " '/bbs/iOS/M.1507737643.A.3C2.html',\n",
       " '/bbs/iOS/M.1507655521.A.B5C.html',\n",
       " '/bbs/iOS/M.1507657612.A.E1E.html',\n",
       " '/bbs/iOS/M.1507664664.A.270.html',\n",
       " '/bbs/iOS/M.1507665653.A.FB8.html',\n",
       " '/bbs/iOS/M.1507679036.A.204.html',\n",
       " '/bbs/iOS/M.1507679757.A.52A.html',\n",
       " '/bbs/iOS/M.1507685940.A.2E8.html',\n",
       " '/bbs/iOS/M.1507689488.A.9ED.html',\n",
       " '/bbs/iOS/M.1507692786.A.A6B.html',\n",
       " '/bbs/iOS/M.1507695283.A.D9F.html',\n",
       " '/bbs/iOS/M.1507695390.A.40D.html',\n",
       " '/bbs/iOS/M.1507697077.A.87D.html',\n",
       " '/bbs/iOS/M.1507697878.A.B8F.html',\n",
       " '/bbs/iOS/M.1507699827.A.E10.html',\n",
       " '/bbs/iOS/M.1507702502.A.FEB.html',\n",
       " '/bbs/iOS/M.1507704128.A.54C.html',\n",
       " '/bbs/iOS/M.1507706676.A.F91.html',\n",
       " '/bbs/iOS/M.1507706723.A.F48.html',\n",
       " '/bbs/iOS/M.1507631633.A.E4F.html',\n",
       " '/bbs/iOS/M.1507635948.A.9BC.html',\n",
       " '/bbs/iOS/M.1507637644.A.795.html',\n",
       " '/bbs/iOS/M.1507638726.A.766.html',\n",
       " '/bbs/iOS/M.1507638871.A.38B.html',\n",
       " '/bbs/iOS/M.1507639966.A.B04.html',\n",
       " '/bbs/iOS/M.1507641281.A.E2F.html',\n",
       " '/bbs/iOS/M.1507641609.A.423.html',\n",
       " '/bbs/iOS/M.1507642067.A.AB6.html',\n",
       " '/bbs/iOS/M.1507643238.A.082.html',\n",
       " '/bbs/iOS/M.1507643601.A.43E.html',\n",
       " '/bbs/iOS/M.1507644972.A.432.html',\n",
       " '/bbs/iOS/M.1507647639.A.F00.html',\n",
       " '/bbs/iOS/M.1507648697.A.84D.html',\n",
       " '/bbs/iOS/M.1507650183.A.031.html',\n",
       " '/bbs/iOS/M.1507653005.A.D1C.html',\n",
       " '/bbs/iOS/M.1507612682.A.94E.html',\n",
       " '/bbs/iOS/M.1507612754.A.C82.html',\n",
       " '/bbs/iOS/M.1507614007.A.293.html',\n",
       " '/bbs/iOS/M.1507615619.A.024.html',\n",
       " '/bbs/iOS/M.1507616022.A.70F.html',\n",
       " '/bbs/iOS/M.1507618336.A.A5C.html',\n",
       " '/bbs/iOS/M.1507618861.A.645.html',\n",
       " '/bbs/iOS/M.1507619006.A.0CC.html',\n",
       " '/bbs/iOS/M.1507621873.A.EE7.html',\n",
       " '/bbs/iOS/M.1507622050.A.7DB.html',\n",
       " '/bbs/iOS/M.1507623148.A.C8D.html',\n",
       " '/bbs/iOS/M.1507624061.A.178.html',\n",
       " '/bbs/iOS/M.1507624160.A.F8F.html',\n",
       " '/bbs/iOS/M.1507625103.A.0F4.html',\n",
       " '/bbs/iOS/M.1507626167.A.ECE.html',\n",
       " '/bbs/iOS/M.1507628092.A.9F5.html',\n",
       " '/bbs/iOS/M.1507628867.A.8DC.html',\n",
       " '/bbs/iOS/M.1507631255.A.1DF.html',\n",
       " '/bbs/iOS/M.1507581217.A.308.html',\n",
       " '/bbs/iOS/M.1507591282.A.59E.html',\n",
       " '/bbs/iOS/M.1507597383.A.168.html',\n",
       " '/bbs/iOS/M.1507599276.A.F62.html',\n",
       " '/bbs/iOS/M.1507600512.A.88B.html',\n",
       " '/bbs/iOS/M.1507600846.A.4E3.html',\n",
       " '/bbs/iOS/M.1507601596.A.07B.html',\n",
       " '/bbs/iOS/M.1507602205.A.08C.html',\n",
       " '/bbs/iOS/M.1507602821.A.F96.html',\n",
       " '/bbs/iOS/M.1507604813.A.F28.html',\n",
       " '/bbs/iOS/M.1507609836.A.50B.html',\n",
       " '/bbs/iOS/M.1507610958.A.5AD.html',\n",
       " '/bbs/iOS/M.1507611893.A.D03.html',\n",
       " '/bbs/iOS/M.1507612175.A.95D.html',\n",
       " '/bbs/iOS/M.1507612258.A.845.html']"
      ]
     },
     "execution_count": 6,
     "metadata": {},
     "output_type": "execute_result"
    }
   ],
   "source": [
    "import re\n",
    "\n",
    "LAST_PG = 3734\n",
    "PG = 10\n",
    "\n",
    "data = []\n",
    "\n",
    "\n",
    "for pg in range(LAST_PG, LAST_PG-PG, -1):\n",
    "    with open('ios_{}.html'.format(pg), 'r') as f:\n",
    "        html = f.read()\n",
    "        urls = re.findall(\"\\/bbs\\/iOS\\/M.*\\.html\", html)\n",
    "        data.extend(urls)\n",
    "        \n",
    "data"
   ]
  },
  {
   "cell_type": "code",
   "execution_count": 7,
   "metadata": {},
   "outputs": [
    {
     "data": {
      "text/plain": [
       "166"
      ]
     },
     "execution_count": 7,
     "metadata": {},
     "output_type": "execute_result"
    }
   ],
   "source": [
    "len(data)"
   ]
  },
  {
   "cell_type": "code",
   "execution_count": 8,
   "metadata": {
    "collapsed": true
   },
   "outputs": [],
   "source": [
    "article_urls = []\n",
    "\n",
    "for url in data:\n",
    "    article_urls.append(\"https://www.ptt.cc\" + url)"
   ]
  },
  {
   "cell_type": "code",
   "execution_count": 9,
   "metadata": {
    "collapsed": true
   },
   "outputs": [],
   "source": [
    "article_urls = [\"https://www.ptt.cc\" + url for url in data]"
   ]
  },
  {
   "cell_type": "code",
   "execution_count": 10,
   "metadata": {
    "scrolled": true
   },
   "outputs": [
    {
     "data": {
      "text/plain": [
       "['https://www.ptt.cc/bbs/iOS/M.1507870869.A.94E.html',\n",
       " 'https://www.ptt.cc/bbs/iOS/M.1507871224.A.1B2.html',\n",
       " 'https://www.ptt.cc/bbs/iOS/M.1273556295.A.002.html',\n",
       " 'https://www.ptt.cc/bbs/iOS/M.1418138597.A.8A4.html',\n",
       " 'https://www.ptt.cc/bbs/iOS/M.1493909384.A.0EB.html',\n",
       " 'https://www.ptt.cc/bbs/iOS/M.1505465905.A.23D.html',\n",
       " 'https://www.ptt.cc/bbs/iOS/M.1507827734.A.897.html',\n",
       " 'https://www.ptt.cc/bbs/iOS/M.1507828060.A.BB4.html',\n",
       " 'https://www.ptt.cc/bbs/iOS/M.1507829029.A.177.html',\n",
       " 'https://www.ptt.cc/bbs/iOS/M.1507829898.A.A8E.html',\n",
       " 'https://www.ptt.cc/bbs/iOS/M.1507834191.A.A31.html',\n",
       " 'https://www.ptt.cc/bbs/iOS/M.1507837029.A.B5D.html',\n",
       " 'https://www.ptt.cc/bbs/iOS/M.1507838799.A.C71.html',\n",
       " 'https://www.ptt.cc/bbs/iOS/M.1507848355.A.40D.html',\n",
       " 'https://www.ptt.cc/bbs/iOS/M.1507851576.A.B8C.html',\n",
       " 'https://www.ptt.cc/bbs/iOS/M.1507856001.A.048.html',\n",
       " 'https://www.ptt.cc/bbs/iOS/M.1507859646.A.233.html',\n",
       " 'https://www.ptt.cc/bbs/iOS/M.1507860015.A.75B.html',\n",
       " 'https://www.ptt.cc/bbs/iOS/M.1507862498.A.93F.html',\n",
       " 'https://www.ptt.cc/bbs/iOS/M.1507862514.A.5E8.html',\n",
       " 'https://www.ptt.cc/bbs/iOS/M.1507863479.A.380.html',\n",
       " 'https://www.ptt.cc/bbs/iOS/M.1507863636.A.584.html',\n",
       " 'https://www.ptt.cc/bbs/iOS/M.1507864647.A.B1C.html',\n",
       " 'https://www.ptt.cc/bbs/iOS/M.1507866417.A.399.html',\n",
       " 'https://www.ptt.cc/bbs/iOS/M.1507867155.A.75A.html',\n",
       " 'https://www.ptt.cc/bbs/iOS/M.1507867254.A.800.html',\n",
       " 'https://www.ptt.cc/bbs/iOS/M.1507808077.A.CFE.html',\n",
       " 'https://www.ptt.cc/bbs/iOS/M.1507808358.A.1EE.html',\n",
       " 'https://www.ptt.cc/bbs/iOS/M.1507808475.A.41F.html',\n",
       " 'https://www.ptt.cc/bbs/iOS/M.1507809912.A.0F7.html',\n",
       " 'https://www.ptt.cc/bbs/iOS/M.1507811376.A.50D.html',\n",
       " 'https://www.ptt.cc/bbs/iOS/M.1507811510.A.90D.html',\n",
       " 'https://www.ptt.cc/bbs/iOS/M.1507813085.A.799.html',\n",
       " 'https://www.ptt.cc/bbs/iOS/M.1507813144.A.1F8.html',\n",
       " 'https://www.ptt.cc/bbs/iOS/M.1507813243.A.811.html',\n",
       " 'https://www.ptt.cc/bbs/iOS/M.1507814263.A.059.html',\n",
       " 'https://www.ptt.cc/bbs/iOS/M.1507814624.A.9AE.html',\n",
       " 'https://www.ptt.cc/bbs/iOS/M.1507816720.A.1AF.html',\n",
       " 'https://www.ptt.cc/bbs/iOS/M.1507816977.A.B32.html',\n",
       " 'https://www.ptt.cc/bbs/iOS/M.1507820696.A.0F0.html',\n",
       " 'https://www.ptt.cc/bbs/iOS/M.1507821423.A.562.html',\n",
       " 'https://www.ptt.cc/bbs/iOS/M.1507821872.A.828.html',\n",
       " 'https://www.ptt.cc/bbs/iOS/M.1507823218.A.97E.html',\n",
       " 'https://www.ptt.cc/bbs/iOS/M.1507824728.A.F19.html',\n",
       " 'https://www.ptt.cc/bbs/iOS/M.1507825517.A.26A.html',\n",
       " 'https://www.ptt.cc/bbs/iOS/M.1507826991.A.E7F.html',\n",
       " 'https://www.ptt.cc/bbs/iOS/M.1507783089.A.562.html',\n",
       " 'https://www.ptt.cc/bbs/iOS/M.1507783474.A.4D6.html',\n",
       " 'https://www.ptt.cc/bbs/iOS/M.1507784370.A.D02.html',\n",
       " 'https://www.ptt.cc/bbs/iOS/M.1507784818.A.356.html',\n",
       " 'https://www.ptt.cc/bbs/iOS/M.1507785361.A.CC6.html',\n",
       " 'https://www.ptt.cc/bbs/iOS/M.1507786557.A.4FE.html',\n",
       " 'https://www.ptt.cc/bbs/iOS/M.1507787093.A.CA0.html',\n",
       " 'https://www.ptt.cc/bbs/iOS/M.1507787636.A.50D.html',\n",
       " 'https://www.ptt.cc/bbs/iOS/M.1507788443.A.87A.html',\n",
       " 'https://www.ptt.cc/bbs/iOS/M.1507790458.A.4AC.html',\n",
       " 'https://www.ptt.cc/bbs/iOS/M.1507791096.A.BE9.html',\n",
       " 'https://www.ptt.cc/bbs/iOS/M.1507791314.A.157.html',\n",
       " 'https://www.ptt.cc/bbs/iOS/M.1507793116.A.642.html',\n",
       " 'https://www.ptt.cc/bbs/iOS/M.1507800771.A.C2B.html',\n",
       " 'https://www.ptt.cc/bbs/iOS/M.1507800999.A.FBB.html',\n",
       " 'https://www.ptt.cc/bbs/iOS/M.1507801389.A.514.html',\n",
       " 'https://www.ptt.cc/bbs/iOS/M.1507737840.A.D66.html',\n",
       " 'https://www.ptt.cc/bbs/iOS/M.1507739584.A.CAA.html',\n",
       " 'https://www.ptt.cc/bbs/iOS/M.1507741558.A.708.html',\n",
       " 'https://www.ptt.cc/bbs/iOS/M.1507741625.A.BD6.html',\n",
       " 'https://www.ptt.cc/bbs/iOS/M.1507741831.A.B3F.html',\n",
       " 'https://www.ptt.cc/bbs/iOS/M.1507742316.A.12D.html',\n",
       " 'https://www.ptt.cc/bbs/iOS/M.1507744606.A.D84.html',\n",
       " 'https://www.ptt.cc/bbs/iOS/M.1507749226.A.561.html',\n",
       " 'https://www.ptt.cc/bbs/iOS/M.1507767272.A.EEF.html',\n",
       " 'https://www.ptt.cc/bbs/iOS/M.1507774986.A.302.html',\n",
       " 'https://www.ptt.cc/bbs/iOS/M.1507777108.A.498.html',\n",
       " 'https://www.ptt.cc/bbs/iOS/M.1507777949.A.B72.html',\n",
       " 'https://www.ptt.cc/bbs/iOS/M.1507778731.A.DBB.html',\n",
       " 'https://www.ptt.cc/bbs/iOS/M.1507778801.A.089.html',\n",
       " 'https://www.ptt.cc/bbs/iOS/M.1507778897.A.036.html',\n",
       " 'https://www.ptt.cc/bbs/iOS/M.1507779331.A.87F.html',\n",
       " 'https://www.ptt.cc/bbs/iOS/M.1507781357.A.37D.html',\n",
       " 'https://www.ptt.cc/bbs/iOS/M.1507708406.A.0FD.html',\n",
       " 'https://www.ptt.cc/bbs/iOS/M.1507712057.A.589.html',\n",
       " 'https://www.ptt.cc/bbs/iOS/M.1507716657.A.AE7.html',\n",
       " 'https://www.ptt.cc/bbs/iOS/M.1507717403.A.043.html',\n",
       " 'https://www.ptt.cc/bbs/iOS/M.1507718172.A.5D1.html',\n",
       " 'https://www.ptt.cc/bbs/iOS/M.1507719050.A.E1A.html',\n",
       " 'https://www.ptt.cc/bbs/iOS/M.1507720286.A.929.html',\n",
       " 'https://www.ptt.cc/bbs/iOS/M.1507722594.A.35E.html',\n",
       " 'https://www.ptt.cc/bbs/iOS/M.1507726801.A.F32.html',\n",
       " 'https://www.ptt.cc/bbs/iOS/M.1507727328.A.1A8.html',\n",
       " 'https://www.ptt.cc/bbs/iOS/M.1507728574.A.F71.html',\n",
       " 'https://www.ptt.cc/bbs/iOS/M.1507731019.A.E7E.html',\n",
       " 'https://www.ptt.cc/bbs/iOS/M.1507731178.A.D1F.html',\n",
       " 'https://www.ptt.cc/bbs/iOS/M.1507732591.A.650.html',\n",
       " 'https://www.ptt.cc/bbs/iOS/M.1507735167.A.3B5.html',\n",
       " 'https://www.ptt.cc/bbs/iOS/M.1507735281.A.4B3.html',\n",
       " 'https://www.ptt.cc/bbs/iOS/M.1507735857.A.439.html',\n",
       " 'https://www.ptt.cc/bbs/iOS/M.1507736300.A.428.html',\n",
       " 'https://www.ptt.cc/bbs/iOS/M.1507737011.A.773.html',\n",
       " 'https://www.ptt.cc/bbs/iOS/M.1507737643.A.3C2.html',\n",
       " 'https://www.ptt.cc/bbs/iOS/M.1507655521.A.B5C.html',\n",
       " 'https://www.ptt.cc/bbs/iOS/M.1507657612.A.E1E.html',\n",
       " 'https://www.ptt.cc/bbs/iOS/M.1507664664.A.270.html',\n",
       " 'https://www.ptt.cc/bbs/iOS/M.1507665653.A.FB8.html',\n",
       " 'https://www.ptt.cc/bbs/iOS/M.1507679036.A.204.html',\n",
       " 'https://www.ptt.cc/bbs/iOS/M.1507679757.A.52A.html',\n",
       " 'https://www.ptt.cc/bbs/iOS/M.1507685940.A.2E8.html',\n",
       " 'https://www.ptt.cc/bbs/iOS/M.1507689488.A.9ED.html',\n",
       " 'https://www.ptt.cc/bbs/iOS/M.1507692786.A.A6B.html',\n",
       " 'https://www.ptt.cc/bbs/iOS/M.1507695283.A.D9F.html',\n",
       " 'https://www.ptt.cc/bbs/iOS/M.1507695390.A.40D.html',\n",
       " 'https://www.ptt.cc/bbs/iOS/M.1507697077.A.87D.html',\n",
       " 'https://www.ptt.cc/bbs/iOS/M.1507697878.A.B8F.html',\n",
       " 'https://www.ptt.cc/bbs/iOS/M.1507699827.A.E10.html',\n",
       " 'https://www.ptt.cc/bbs/iOS/M.1507702502.A.FEB.html',\n",
       " 'https://www.ptt.cc/bbs/iOS/M.1507704128.A.54C.html',\n",
       " 'https://www.ptt.cc/bbs/iOS/M.1507706676.A.F91.html',\n",
       " 'https://www.ptt.cc/bbs/iOS/M.1507706723.A.F48.html',\n",
       " 'https://www.ptt.cc/bbs/iOS/M.1507631633.A.E4F.html',\n",
       " 'https://www.ptt.cc/bbs/iOS/M.1507635948.A.9BC.html',\n",
       " 'https://www.ptt.cc/bbs/iOS/M.1507637644.A.795.html',\n",
       " 'https://www.ptt.cc/bbs/iOS/M.1507638726.A.766.html',\n",
       " 'https://www.ptt.cc/bbs/iOS/M.1507638871.A.38B.html',\n",
       " 'https://www.ptt.cc/bbs/iOS/M.1507639966.A.B04.html',\n",
       " 'https://www.ptt.cc/bbs/iOS/M.1507641281.A.E2F.html',\n",
       " 'https://www.ptt.cc/bbs/iOS/M.1507641609.A.423.html',\n",
       " 'https://www.ptt.cc/bbs/iOS/M.1507642067.A.AB6.html',\n",
       " 'https://www.ptt.cc/bbs/iOS/M.1507643238.A.082.html',\n",
       " 'https://www.ptt.cc/bbs/iOS/M.1507643601.A.43E.html',\n",
       " 'https://www.ptt.cc/bbs/iOS/M.1507644972.A.432.html',\n",
       " 'https://www.ptt.cc/bbs/iOS/M.1507647639.A.F00.html',\n",
       " 'https://www.ptt.cc/bbs/iOS/M.1507648697.A.84D.html',\n",
       " 'https://www.ptt.cc/bbs/iOS/M.1507650183.A.031.html',\n",
       " 'https://www.ptt.cc/bbs/iOS/M.1507653005.A.D1C.html',\n",
       " 'https://www.ptt.cc/bbs/iOS/M.1507612682.A.94E.html',\n",
       " 'https://www.ptt.cc/bbs/iOS/M.1507612754.A.C82.html',\n",
       " 'https://www.ptt.cc/bbs/iOS/M.1507614007.A.293.html',\n",
       " 'https://www.ptt.cc/bbs/iOS/M.1507615619.A.024.html',\n",
       " 'https://www.ptt.cc/bbs/iOS/M.1507616022.A.70F.html',\n",
       " 'https://www.ptt.cc/bbs/iOS/M.1507618336.A.A5C.html',\n",
       " 'https://www.ptt.cc/bbs/iOS/M.1507618861.A.645.html',\n",
       " 'https://www.ptt.cc/bbs/iOS/M.1507619006.A.0CC.html',\n",
       " 'https://www.ptt.cc/bbs/iOS/M.1507621873.A.EE7.html',\n",
       " 'https://www.ptt.cc/bbs/iOS/M.1507622050.A.7DB.html',\n",
       " 'https://www.ptt.cc/bbs/iOS/M.1507623148.A.C8D.html',\n",
       " 'https://www.ptt.cc/bbs/iOS/M.1507624061.A.178.html',\n",
       " 'https://www.ptt.cc/bbs/iOS/M.1507624160.A.F8F.html',\n",
       " 'https://www.ptt.cc/bbs/iOS/M.1507625103.A.0F4.html',\n",
       " 'https://www.ptt.cc/bbs/iOS/M.1507626167.A.ECE.html',\n",
       " 'https://www.ptt.cc/bbs/iOS/M.1507628092.A.9F5.html',\n",
       " 'https://www.ptt.cc/bbs/iOS/M.1507628867.A.8DC.html',\n",
       " 'https://www.ptt.cc/bbs/iOS/M.1507631255.A.1DF.html',\n",
       " 'https://www.ptt.cc/bbs/iOS/M.1507581217.A.308.html',\n",
       " 'https://www.ptt.cc/bbs/iOS/M.1507591282.A.59E.html',\n",
       " 'https://www.ptt.cc/bbs/iOS/M.1507597383.A.168.html',\n",
       " 'https://www.ptt.cc/bbs/iOS/M.1507599276.A.F62.html',\n",
       " 'https://www.ptt.cc/bbs/iOS/M.1507600512.A.88B.html',\n",
       " 'https://www.ptt.cc/bbs/iOS/M.1507600846.A.4E3.html',\n",
       " 'https://www.ptt.cc/bbs/iOS/M.1507601596.A.07B.html',\n",
       " 'https://www.ptt.cc/bbs/iOS/M.1507602205.A.08C.html',\n",
       " 'https://www.ptt.cc/bbs/iOS/M.1507602821.A.F96.html',\n",
       " 'https://www.ptt.cc/bbs/iOS/M.1507604813.A.F28.html',\n",
       " 'https://www.ptt.cc/bbs/iOS/M.1507609836.A.50B.html',\n",
       " 'https://www.ptt.cc/bbs/iOS/M.1507610958.A.5AD.html',\n",
       " 'https://www.ptt.cc/bbs/iOS/M.1507611893.A.D03.html',\n",
       " 'https://www.ptt.cc/bbs/iOS/M.1507612175.A.95D.html',\n",
       " 'https://www.ptt.cc/bbs/iOS/M.1507612258.A.845.html']"
      ]
     },
     "execution_count": 10,
     "metadata": {},
     "output_type": "execute_result"
    }
   ],
   "source": [
    "article_urls"
   ]
  },
  {
   "cell_type": "code",
   "execution_count": 11,
   "metadata": {},
   "outputs": [
    {
     "data": {
      "text/plain": [
       "['https:', '', 'www.ptt.cc', 'bbs', 'iOS', 'M.1507870869.A.94E.html']"
      ]
     },
     "execution_count": 11,
     "metadata": {},
     "output_type": "execute_result"
    }
   ],
   "source": [
    "# cut strings\n",
    "\"https://www.ptt.cc/bbs/iOS/M.1507870869.A.94E.html\".split(\"/\")"
   ]
  },
  {
   "cell_type": "code",
   "execution_count": 12,
   "metadata": {},
   "outputs": [
    {
     "data": {
      "text/plain": [
       "'M.1507870869.A.94E.html'"
      ]
     },
     "execution_count": 12,
     "metadata": {},
     "output_type": "execute_result"
    }
   ],
   "source": [
    "\"https://www.ptt.cc/bbs/iOS/M.1507870869.A.94E.html\".split(\"/\")[-1]"
   ]
  },
  {
   "cell_type": "code",
   "execution_count": 17,
   "metadata": {},
   "outputs": [
    {
     "name": "stdout",
     "output_type": "stream",
     "text": [
      "Crawling page: https://www.ptt.cc/bbs/iOS/M.1507870869.A.94E.html\n",
      "Crawling page: https://www.ptt.cc/bbs/iOS/M.1507871224.A.1B2.html\n",
      "Crawling page: https://www.ptt.cc/bbs/iOS/M.1273556295.A.002.html\n",
      "Crawling page: https://www.ptt.cc/bbs/iOS/M.1418138597.A.8A4.html\n",
      "Crawling page: https://www.ptt.cc/bbs/iOS/M.1493909384.A.0EB.html\n",
      "Crawling page: https://www.ptt.cc/bbs/iOS/M.1505465905.A.23D.html\n",
      "Crawling page: https://www.ptt.cc/bbs/iOS/M.1507827734.A.897.html\n",
      "Crawling page: https://www.ptt.cc/bbs/iOS/M.1507828060.A.BB4.html\n",
      "Crawling page: https://www.ptt.cc/bbs/iOS/M.1507829029.A.177.html\n",
      "Crawling page: https://www.ptt.cc/bbs/iOS/M.1507829898.A.A8E.html\n",
      "Crawling page: https://www.ptt.cc/bbs/iOS/M.1507834191.A.A31.html\n",
      "Crawling page: https://www.ptt.cc/bbs/iOS/M.1507837029.A.B5D.html\n",
      "Crawling page: https://www.ptt.cc/bbs/iOS/M.1507838799.A.C71.html\n",
      "Crawling page: https://www.ptt.cc/bbs/iOS/M.1507848355.A.40D.html\n",
      "Crawling page: https://www.ptt.cc/bbs/iOS/M.1507851576.A.B8C.html\n",
      "Crawling page: https://www.ptt.cc/bbs/iOS/M.1507856001.A.048.html\n",
      "Crawling page: https://www.ptt.cc/bbs/iOS/M.1507859646.A.233.html\n",
      "Crawling page: https://www.ptt.cc/bbs/iOS/M.1507860015.A.75B.html\n",
      "Crawling page: https://www.ptt.cc/bbs/iOS/M.1507862498.A.93F.html\n",
      "Crawling page: https://www.ptt.cc/bbs/iOS/M.1507862514.A.5E8.html\n",
      "Crawling page: https://www.ptt.cc/bbs/iOS/M.1507863479.A.380.html\n",
      "Crawling page: https://www.ptt.cc/bbs/iOS/M.1507863636.A.584.html\n",
      "Crawling page: https://www.ptt.cc/bbs/iOS/M.1507864647.A.B1C.html\n",
      "Crawling page: https://www.ptt.cc/bbs/iOS/M.1507866417.A.399.html\n",
      "Crawling page: https://www.ptt.cc/bbs/iOS/M.1507867155.A.75A.html\n",
      "Crawling page: https://www.ptt.cc/bbs/iOS/M.1507867254.A.800.html\n",
      "Crawling page: https://www.ptt.cc/bbs/iOS/M.1507808077.A.CFE.html\n",
      "Crawling page: https://www.ptt.cc/bbs/iOS/M.1507808358.A.1EE.html\n",
      "Crawling page: https://www.ptt.cc/bbs/iOS/M.1507808475.A.41F.html\n",
      "Crawling page: https://www.ptt.cc/bbs/iOS/M.1507809912.A.0F7.html\n",
      "Crawling page: https://www.ptt.cc/bbs/iOS/M.1507811376.A.50D.html\n",
      "Crawling page: https://www.ptt.cc/bbs/iOS/M.1507811510.A.90D.html\n",
      "Crawling page: https://www.ptt.cc/bbs/iOS/M.1507813085.A.799.html\n",
      "Crawling page: https://www.ptt.cc/bbs/iOS/M.1507813144.A.1F8.html\n",
      "Crawling page: https://www.ptt.cc/bbs/iOS/M.1507813243.A.811.html\n",
      "Crawling page: https://www.ptt.cc/bbs/iOS/M.1507814263.A.059.html\n",
      "Crawling page: https://www.ptt.cc/bbs/iOS/M.1507814624.A.9AE.html\n",
      "Crawling page: https://www.ptt.cc/bbs/iOS/M.1507816720.A.1AF.html\n",
      "Crawling page: https://www.ptt.cc/bbs/iOS/M.1507816977.A.B32.html\n",
      "Crawling page: https://www.ptt.cc/bbs/iOS/M.1507820696.A.0F0.html\n",
      "Crawling page: https://www.ptt.cc/bbs/iOS/M.1507821423.A.562.html\n",
      "Crawling page: https://www.ptt.cc/bbs/iOS/M.1507821872.A.828.html\n",
      "Crawling page: https://www.ptt.cc/bbs/iOS/M.1507823218.A.97E.html\n",
      "Crawling page: https://www.ptt.cc/bbs/iOS/M.1507824728.A.F19.html\n",
      "Crawling page: https://www.ptt.cc/bbs/iOS/M.1507825517.A.26A.html\n",
      "Crawling page: https://www.ptt.cc/bbs/iOS/M.1507826991.A.E7F.html\n",
      "Crawling page: https://www.ptt.cc/bbs/iOS/M.1507783089.A.562.html\n",
      "Crawling page: https://www.ptt.cc/bbs/iOS/M.1507783474.A.4D6.html\n",
      "Crawling page: https://www.ptt.cc/bbs/iOS/M.1507784370.A.D02.html\n",
      "Crawling page: https://www.ptt.cc/bbs/iOS/M.1507784818.A.356.html\n",
      "Crawling page: https://www.ptt.cc/bbs/iOS/M.1507785361.A.CC6.html\n",
      "Crawling page: https://www.ptt.cc/bbs/iOS/M.1507786557.A.4FE.html\n",
      "Crawling page: https://www.ptt.cc/bbs/iOS/M.1507787093.A.CA0.html\n",
      "Crawling page: https://www.ptt.cc/bbs/iOS/M.1507787636.A.50D.html\n",
      "Crawling page: https://www.ptt.cc/bbs/iOS/M.1507788443.A.87A.html\n",
      "Crawling page: https://www.ptt.cc/bbs/iOS/M.1507790458.A.4AC.html\n",
      "Crawling page: https://www.ptt.cc/bbs/iOS/M.1507791096.A.BE9.html\n",
      "Crawling page: https://www.ptt.cc/bbs/iOS/M.1507791314.A.157.html\n",
      "Crawling page: https://www.ptt.cc/bbs/iOS/M.1507793116.A.642.html\n",
      "Crawling page: https://www.ptt.cc/bbs/iOS/M.1507800771.A.C2B.html\n",
      "Crawling page: https://www.ptt.cc/bbs/iOS/M.1507800999.A.FBB.html\n",
      "Crawling page: https://www.ptt.cc/bbs/iOS/M.1507801389.A.514.html\n",
      "Crawling page: https://www.ptt.cc/bbs/iOS/M.1507737840.A.D66.html\n",
      "Crawling page: https://www.ptt.cc/bbs/iOS/M.1507739584.A.CAA.html\n",
      "Crawling page: https://www.ptt.cc/bbs/iOS/M.1507741558.A.708.html\n",
      "Crawling page: https://www.ptt.cc/bbs/iOS/M.1507741625.A.BD6.html\n",
      "Crawling page: https://www.ptt.cc/bbs/iOS/M.1507741831.A.B3F.html\n",
      "Crawling page: https://www.ptt.cc/bbs/iOS/M.1507742316.A.12D.html\n",
      "Crawling page: https://www.ptt.cc/bbs/iOS/M.1507744606.A.D84.html\n",
      "Crawling page: https://www.ptt.cc/bbs/iOS/M.1507749226.A.561.html\n",
      "Crawling page: https://www.ptt.cc/bbs/iOS/M.1507767272.A.EEF.html\n",
      "Crawling page: https://www.ptt.cc/bbs/iOS/M.1507774986.A.302.html\n",
      "Crawling page: https://www.ptt.cc/bbs/iOS/M.1507777108.A.498.html\n",
      "Crawling page: https://www.ptt.cc/bbs/iOS/M.1507777949.A.B72.html\n",
      "Crawling page: https://www.ptt.cc/bbs/iOS/M.1507778731.A.DBB.html\n",
      "Crawling page: https://www.ptt.cc/bbs/iOS/M.1507778801.A.089.html\n",
      "Crawling page: https://www.ptt.cc/bbs/iOS/M.1507778897.A.036.html\n",
      "Crawling page: https://www.ptt.cc/bbs/iOS/M.1507779331.A.87F.html\n",
      "Crawling page: https://www.ptt.cc/bbs/iOS/M.1507781357.A.37D.html\n",
      "Crawling page: https://www.ptt.cc/bbs/iOS/M.1507708406.A.0FD.html\n",
      "Crawling page: https://www.ptt.cc/bbs/iOS/M.1507712057.A.589.html\n",
      "Crawling page: https://www.ptt.cc/bbs/iOS/M.1507716657.A.AE7.html\n",
      "Crawling page: https://www.ptt.cc/bbs/iOS/M.1507717403.A.043.html\n",
      "Crawling page: https://www.ptt.cc/bbs/iOS/M.1507718172.A.5D1.html\n",
      "Crawling page: https://www.ptt.cc/bbs/iOS/M.1507719050.A.E1A.html\n",
      "Crawling page: https://www.ptt.cc/bbs/iOS/M.1507720286.A.929.html\n",
      "Crawling page: https://www.ptt.cc/bbs/iOS/M.1507722594.A.35E.html\n",
      "Crawling page: https://www.ptt.cc/bbs/iOS/M.1507726801.A.F32.html\n",
      "Crawling page: https://www.ptt.cc/bbs/iOS/M.1507727328.A.1A8.html\n",
      "Crawling page: https://www.ptt.cc/bbs/iOS/M.1507728574.A.F71.html\n",
      "Crawling page: https://www.ptt.cc/bbs/iOS/M.1507731019.A.E7E.html\n",
      "Crawling page: https://www.ptt.cc/bbs/iOS/M.1507731178.A.D1F.html\n",
      "Crawling page: https://www.ptt.cc/bbs/iOS/M.1507732591.A.650.html\n",
      "Crawling page: https://www.ptt.cc/bbs/iOS/M.1507735167.A.3B5.html\n",
      "Crawling page: https://www.ptt.cc/bbs/iOS/M.1507735281.A.4B3.html\n",
      "Crawling page: https://www.ptt.cc/bbs/iOS/M.1507735857.A.439.html\n",
      "Crawling page: https://www.ptt.cc/bbs/iOS/M.1507736300.A.428.html\n",
      "Crawling page: https://www.ptt.cc/bbs/iOS/M.1507737011.A.773.html\n",
      "Crawling page: https://www.ptt.cc/bbs/iOS/M.1507737643.A.3C2.html\n",
      "Crawling page: https://www.ptt.cc/bbs/iOS/M.1507655521.A.B5C.html\n",
      "Crawling page: https://www.ptt.cc/bbs/iOS/M.1507657612.A.E1E.html\n",
      "Crawling page: https://www.ptt.cc/bbs/iOS/M.1507664664.A.270.html\n",
      "Crawling page: https://www.ptt.cc/bbs/iOS/M.1507665653.A.FB8.html\n",
      "Crawling page: https://www.ptt.cc/bbs/iOS/M.1507679036.A.204.html\n",
      "Crawling page: https://www.ptt.cc/bbs/iOS/M.1507679757.A.52A.html\n",
      "Crawling page: https://www.ptt.cc/bbs/iOS/M.1507685940.A.2E8.html\n",
      "Crawling page: https://www.ptt.cc/bbs/iOS/M.1507689488.A.9ED.html\n",
      "Crawling page: https://www.ptt.cc/bbs/iOS/M.1507692786.A.A6B.html\n",
      "Crawling page: https://www.ptt.cc/bbs/iOS/M.1507695283.A.D9F.html\n",
      "Crawling page: https://www.ptt.cc/bbs/iOS/M.1507695390.A.40D.html\n",
      "Crawling page: https://www.ptt.cc/bbs/iOS/M.1507697077.A.87D.html\n",
      "Crawling page: https://www.ptt.cc/bbs/iOS/M.1507697878.A.B8F.html\n",
      "Crawling page: https://www.ptt.cc/bbs/iOS/M.1507699827.A.E10.html\n",
      "Crawling page: https://www.ptt.cc/bbs/iOS/M.1507702502.A.FEB.html\n",
      "Crawling page: https://www.ptt.cc/bbs/iOS/M.1507704128.A.54C.html\n",
      "Crawling page: https://www.ptt.cc/bbs/iOS/M.1507706676.A.F91.html\n",
      "Crawling page: https://www.ptt.cc/bbs/iOS/M.1507706723.A.F48.html\n",
      "Crawling page: https://www.ptt.cc/bbs/iOS/M.1507631633.A.E4F.html\n",
      "Crawling page: https://www.ptt.cc/bbs/iOS/M.1507635948.A.9BC.html\n",
      "Crawling page: https://www.ptt.cc/bbs/iOS/M.1507637644.A.795.html\n",
      "Crawling page: https://www.ptt.cc/bbs/iOS/M.1507638726.A.766.html\n",
      "Crawling page: https://www.ptt.cc/bbs/iOS/M.1507638871.A.38B.html\n",
      "Crawling page: https://www.ptt.cc/bbs/iOS/M.1507639966.A.B04.html\n",
      "Crawling page: https://www.ptt.cc/bbs/iOS/M.1507641281.A.E2F.html\n",
      "Crawling page: https://www.ptt.cc/bbs/iOS/M.1507641609.A.423.html\n"
     ]
    },
    {
     "name": "stdout",
     "output_type": "stream",
     "text": [
      "Crawling page: https://www.ptt.cc/bbs/iOS/M.1507642067.A.AB6.html\n",
      "Crawling page: https://www.ptt.cc/bbs/iOS/M.1507643238.A.082.html\n",
      "Crawling page: https://www.ptt.cc/bbs/iOS/M.1507643601.A.43E.html\n",
      "Crawling page: https://www.ptt.cc/bbs/iOS/M.1507644972.A.432.html\n",
      "Crawling page: https://www.ptt.cc/bbs/iOS/M.1507647639.A.F00.html\n",
      "Crawling page: https://www.ptt.cc/bbs/iOS/M.1507648697.A.84D.html\n",
      "Crawling page: https://www.ptt.cc/bbs/iOS/M.1507650183.A.031.html\n",
      "Crawling page: https://www.ptt.cc/bbs/iOS/M.1507653005.A.D1C.html\n",
      "Crawling page: https://www.ptt.cc/bbs/iOS/M.1507612682.A.94E.html\n",
      "Crawling page: https://www.ptt.cc/bbs/iOS/M.1507612754.A.C82.html\n",
      "Crawling page: https://www.ptt.cc/bbs/iOS/M.1507614007.A.293.html\n",
      "Crawling page: https://www.ptt.cc/bbs/iOS/M.1507615619.A.024.html\n",
      "Crawling page: https://www.ptt.cc/bbs/iOS/M.1507616022.A.70F.html\n",
      "Crawling page: https://www.ptt.cc/bbs/iOS/M.1507618336.A.A5C.html\n",
      "Crawling page: https://www.ptt.cc/bbs/iOS/M.1507618861.A.645.html\n",
      "Crawling page: https://www.ptt.cc/bbs/iOS/M.1507619006.A.0CC.html\n",
      "Crawling page: https://www.ptt.cc/bbs/iOS/M.1507621873.A.EE7.html\n",
      "Crawling page: https://www.ptt.cc/bbs/iOS/M.1507622050.A.7DB.html\n",
      "Crawling page: https://www.ptt.cc/bbs/iOS/M.1507623148.A.C8D.html\n",
      "Crawling page: https://www.ptt.cc/bbs/iOS/M.1507624061.A.178.html\n",
      "Crawling page: https://www.ptt.cc/bbs/iOS/M.1507624160.A.F8F.html\n",
      "Crawling page: https://www.ptt.cc/bbs/iOS/M.1507625103.A.0F4.html\n",
      "Crawling page: https://www.ptt.cc/bbs/iOS/M.1507626167.A.ECE.html\n",
      "Crawling page: https://www.ptt.cc/bbs/iOS/M.1507628092.A.9F5.html\n",
      "Crawling page: https://www.ptt.cc/bbs/iOS/M.1507628867.A.8DC.html\n",
      "Crawling page: https://www.ptt.cc/bbs/iOS/M.1507631255.A.1DF.html\n",
      "Crawling page: https://www.ptt.cc/bbs/iOS/M.1507581217.A.308.html\n",
      "Crawling page: https://www.ptt.cc/bbs/iOS/M.1507591282.A.59E.html\n",
      "Crawling page: https://www.ptt.cc/bbs/iOS/M.1507597383.A.168.html\n",
      "Crawling page: https://www.ptt.cc/bbs/iOS/M.1507599276.A.F62.html\n",
      "Crawling page: https://www.ptt.cc/bbs/iOS/M.1507600512.A.88B.html\n",
      "Crawling page: https://www.ptt.cc/bbs/iOS/M.1507600846.A.4E3.html\n",
      "Crawling page: https://www.ptt.cc/bbs/iOS/M.1507601596.A.07B.html\n",
      "Crawling page: https://www.ptt.cc/bbs/iOS/M.1507602205.A.08C.html\n",
      "Crawling page: https://www.ptt.cc/bbs/iOS/M.1507602821.A.F96.html\n",
      "Crawling page: https://www.ptt.cc/bbs/iOS/M.1507604813.A.F28.html\n",
      "Crawling page: https://www.ptt.cc/bbs/iOS/M.1507609836.A.50B.html\n",
      "Crawling page: https://www.ptt.cc/bbs/iOS/M.1507610958.A.5AD.html\n",
      "Crawling page: https://www.ptt.cc/bbs/iOS/M.1507611893.A.D03.html\n",
      "Crawling page: https://www.ptt.cc/bbs/iOS/M.1507612175.A.95D.html\n",
      "Crawling page: https://www.ptt.cc/bbs/iOS/M.1507612258.A.845.html\n"
     ]
    }
   ],
   "source": [
    "# Article page crawler\n",
    "import requests as r\n",
    "\n",
    "for url in article_urls:\n",
    "    print(\"Crawling page: %s\"%url)\n",
    "    response = r.get(url)\n",
    "    html = response.text\n",
    "    \n",
    "    \n",
    "    with open(url.split('/')[-1], 'w', encoding='utf-8') as f:\n",
    "        f.write(html)"
   ]
  },
  {
   "cell_type": "code",
   "execution_count": 18,
   "metadata": {},
   "outputs": [
    {
     "name": "stdout",
     "output_type": "stream",
     "text": [
      "Requirement already satisfied: beautifulsoup4 in c:\\programdata\\anaconda3\\lib\\site-packages\n"
     ]
    }
   ],
   "source": [
    "!pip install beautifulsoup4"
   ]
  },
  {
   "cell_type": "code",
   "execution_count": 19,
   "metadata": {
    "collapsed": true
   },
   "outputs": [],
   "source": [
    "from bs4 import BeautifulSoup"
   ]
  },
  {
   "cell_type": "code",
   "execution_count": 42,
   "metadata": {},
   "outputs": [],
   "source": [
    "html = \"\"\"<html>\n",
    "<body>\n",
    "<div class=\"article-metaline\"><span>Author</span></div>\n",
    "<div class=\"article-metaline-right\"><span>Board</span></div>\n",
    "<div class=\"article-metaline\"><span>Title</span></div>\n",
    "<div class=\"article-metaline\"><span>Date</span></div>\n",
    "\n",
    "\n",
    "<div class=\"bottom\"><span>Date</span></div>\n",
    "\n",
    "<div id=\"ad\"><span>Date</span></div>\n",
    "\n",
    "</body>\n",
    "</html>\"\"\""
   ]
  },
  {
   "cell_type": "code",
   "execution_count": 43,
   "metadata": {},
   "outputs": [],
   "source": [
    "soup = BeautifulSoup(html, \"lxml\")"
   ]
  },
  {
   "cell_type": "code",
   "execution_count": 44,
   "metadata": {},
   "outputs": [
    {
     "data": {
      "text/plain": [
       "<html>\n",
       "<body>\n",
       "<div class=\"article-metaline\"><span>Author</span></div>\n",
       "<div class=\"article-metaline-right\"><span>Board</span></div>\n",
       "<div class=\"article-metaline\"><span>Title</span></div>\n",
       "<div class=\"article-metaline\"><span>Date</span></div>\n",
       "<div class=\"bottom\"><span>Date</span></div>\n",
       "<div id=\"ad\"><span>Date</span></div>\n",
       "</body>\n",
       "</html>"
      ]
     },
     "execution_count": 44,
     "metadata": {},
     "output_type": "execute_result"
    }
   ],
   "source": [
    "soup"
   ]
  },
  {
   "cell_type": "code",
   "execution_count": 45,
   "metadata": {},
   "outputs": [
    {
     "data": {
      "text/plain": [
       "[<div class=\"article-metaline\"><span>Author</span></div>,\n",
       " <div class=\"article-metaline\"><span>Title</span></div>,\n",
       " <div class=\"article-metaline\"><span>Date</span></div>]"
      ]
     },
     "execution_count": 45,
     "metadata": {},
     "output_type": "execute_result"
    }
   ],
   "source": [
    "soup.select(\"div.article-metaline\")"
   ]
  },
  {
   "cell_type": "code",
   "execution_count": 48,
   "metadata": {},
   "outputs": [
    {
     "data": {
      "text/plain": [
       "[<div class=\"article-metaline-right\"><span>Board</span></div>]"
      ]
     },
     "execution_count": 48,
     "metadata": {},
     "output_type": "execute_result"
    }
   ],
   "source": [
    "soup.select(\"div.article-metaline-right\")"
   ]
  },
  {
   "cell_type": "code",
   "execution_count": 47,
   "metadata": {},
   "outputs": [
    {
     "data": {
      "text/plain": [
       "[<div id=\"ad\"><span>Date</span></div>]"
      ]
     },
     "execution_count": 47,
     "metadata": {},
     "output_type": "execute_result"
    }
   ],
   "source": [
    "soup.select(\"#ad\")"
   ]
  },
  {
   "cell_type": "code",
   "execution_count": 67,
   "metadata": {},
   "outputs": [],
   "source": [
    "with open('M.1507828060.A.BB4.html', encoding='utf-8') as f:\n",
    "    html = f.read()"
   ]
  },
  {
   "cell_type": "code",
   "execution_count": 68,
   "metadata": {
    "scrolled": true
   },
   "outputs": [
    {
     "data": {
      "text/plain": [
       "'<!DOCTYPE html>\\n<html>\\n\\t<head>\\n\\t\\t<meta charset=\"utf-8\">\\n\\t\\t\\n\\n<meta name=\"viewport\" content=\"width=device-width, initial-scale=1\">\\n\\n<title>[問題] 請推薦音質佳可接電話的藍芽耳道式耳機 - 看板 iOS - 批踢踢實業坊</title>\\n<meta name=\"robots\" content=\"all\">\\n<meta name=\"keywords\" content=\"Ptt BBS 批踢踢\">\\n<meta name=\"description\" content=\"各位版友大家好~\\n最近入手AW3 以及接下來打算入手iPhone X (之前是用I6)\\n才面臨耳機孔的問題，剛好很巧的之前在聽的Sennheiser CX5.0耳機忘在飛機上...\\n所以想說既然要換手機了那就換藍芽的吧，但偏偏之前聽慣了CX5.0 音質部分很滿意\\n所以換藍芽的話對音質也有一定的要求但卻沒有研究，對AirPod很動心\\n\">\\n<meta property=\"og:site_name\" content=\"Ptt 批踢踢實業坊\">\\n<meta property=\"og:title\" content=\"[問題] 請推薦音質佳可接電話的藍芽耳道式耳機\">\\n<meta property=\"og:description\" content=\"各位版友大家好~\\n最近入手AW3 以及接下來打算入手iPhone X (之前是用I6)\\n才面臨耳機孔的問題，剛好很巧的之前在聽的Sennheiser CX5.0耳機忘在飛機上...\\n所以想說既然要換手機了那就換藍芽的吧，但偏偏之前聽慣了CX5.0 音質部分很滿意\\n所以換藍芽的話對音質也有一定的要求但卻沒有研究，對AirPod很動心\\n\">\\n<link rel=\"canonical\" href=\"https://www.ptt.cc/bbs/iOS/M.1507828060.A.BB4.html\">\\n\\n<link rel=\"stylesheet\" type=\"text/css\" href=\"//images.ptt.cc/bbs/v2.22/bbs-common.css\">\\n<link rel=\"stylesheet\" type=\"text/css\" href=\"//images.ptt.cc/bbs/v2.22/bbs-base.css\" media=\"screen\">\\n<link rel=\"stylesheet\" type=\"text/css\" href=\"//images.ptt.cc/bbs/v2.22/bbs-custom.css\">\\n<link rel=\"stylesheet\" type=\"text/css\" href=\"//images.ptt.cc/bbs/v2.22/pushstream.css\" media=\"screen\">\\n<link rel=\"stylesheet\" type=\"text/css\" href=\"//images.ptt.cc/bbs/v2.22/bbs-print.css\" media=\"print\">\\n\\n\\n\\n\\n\\t</head>\\n    <body>\\n\\t\\t\\n<div id=\"fb-root\"></div>\\n<script>(function(d, s, id) {\\nvar js, fjs = d.getElementsByTagName(s)[0];\\nif (d.getElementById(id)) return;\\njs = d.createElement(s); js.id = id;\\njs.src = \"//connect.facebook.net/en_US/all.js#xfbml=1\";\\nfjs.parentNode.insertBefore(js, fjs);\\n}(document, \\'script\\', \\'facebook-jssdk\\'));</script>\\n\\n<div id=\"topbar-container\">\\n\\t<div id=\"topbar\" class=\"bbs-content\">\\n\\t\\t<a id=\"logo\" href=\"/\">批踢踢實業坊</a>\\n\\t\\t<span>&rsaquo;</span>\\n\\t\\t<a class=\"board\" href=\"/bbs/iOS/index.html\"><span class=\"board-label\">看板 </span>iOS</a>\\n\\t\\t<a class=\"right small\" href=\"/about.html\">關於我們</a>\\n\\t\\t<a class=\"right small\" href=\"/contact.html\">聯絡資訊</a>\\n\\t</div>\\n</div>\\n<div id=\"navigation-container\">\\n\\t<div id=\"navigation\" class=\"bbs-content\">\\n\\t\\t<a class=\"board\" href=\"/bbs/iOS/index.html\">返回看板</a>\\n\\t\\t<div class=\"bar\"></div>\\n\\t\\t<div class=\"share\">\\n\\t\\t\\t<span>分享</span>\\n\\t\\t\\t<div class=\"fb-like\" data-send=\"false\" data-layout=\"button_count\" data-width=\"90\" data-show-faces=\"false\" data-href=\"http://www.ptt.cc/bbs/iOS/M.1507828060.A.BB4.html\"></div>\\n\\n\\t\\t\\t<div class=\"g-plusone\" data-size=\"medium\"></div>\\n<script type=\"text/javascript\">\\nwindow.___gcfg = {lang: \\'zh-TW\\'};\\n(function() {\\nvar po = document.createElement(\\'script\\'); po.type = \\'text/javascript\\'; po.async = true;\\npo.src = \\'https://apis.google.com/js/plusone.js\\';\\nvar s = document.getElementsByTagName(\\'script\\')[0]; s.parentNode.insertBefore(po, s);\\n})();\\n</script>\\n\\n\\t\\t</div>\\n\\t</div>\\n</div>\\n<div id=\"main-container\">\\n    <div id=\"main-content\" class=\"bbs-screen bbs-content\"><div class=\"article-metaline\"><span class=\"article-meta-tag\">作者</span><span class=\"article-meta-value\">poreplay3 (pore)</span></div><div class=\"article-metaline-right\"><span class=\"article-meta-tag\">看板</span><span class=\"article-meta-value\">iOS</span></div><div class=\"article-metaline\"><span class=\"article-meta-tag\">標題</span><span class=\"article-meta-value\">[問題] 請推薦音質佳可接電話的藍芽耳道式耳機</span></div><div class=\"article-metaline\"><span class=\"article-meta-tag\">時間</span><span class=\"article-meta-value\">Fri Oct 13 01:07:38 2017</span></div>\\n各位版友大家好~\\n\\n最近入手AW3 以及接下來打算入手iPhone X (之前是用I6)\\n\\n才面臨耳機孔的問題，剛好很巧的之前在聽的Sennheiser CX5.0耳機忘在飛機上...\\n\\n所以想說既然要換手機了那就換藍芽的吧，但偏偏之前聽慣了CX5.0 音質部分很滿意\\n\\n所以換藍芽的話對音質也有一定的要求但卻沒有研究，對AirPod很動心\\n\\n但偏偏AirPod只有耳塞式，我的耳朵戴耳塞式會很不舒服所以無奈只好放棄..\\n\\n\\n想請問各位像我這種需求的話有可以推薦的嗎? 還是我要左轉去隔壁版問比較適合?\\n\\n麻煩各位解惑 謝謝\\n\\nps預算部分 5K左右 range +-2K都可以考慮。\\n\\n\\n--\\n<span class=\"f2\">※ 發信站: 批踢踢實業坊(ptt.cc), 來自: 123.193.118.83\\n</span><span class=\"f2\">※ 文章網址: <a href=\"https://www.ptt.cc/bbs/iOS/M.1507828060.A.BB4.html\" target=\"_blank\" rel=\"nofollow\">https://www.ptt.cc/bbs/iOS/M.1507828060.A.BB4.html</a>\\n</span><div class=\"push\"><span class=\"hl push-tag\">推 </span><span class=\"f3 hl push-userid\">IO8OP</span><span class=\"f3 push-content\">: 左轉選擇應該更多</span><span class=\"push-ipdatetime\"> 10/13 01:14\\n</span></div><div class=\"push\"><span class=\"hl push-tag\">推 </span><span class=\"f3 hl push-userid\">AndyLee76</span><span class=\"f3 push-content\">: shure有出藍芽線可以換的樣子，不然就找sony的</span><span class=\"push-ipdatetime\"> 10/13 01:14\\n</span></div><div class=\"push\"><span class=\"hl push-tag\">推 </span><span class=\"f3 hl push-userid\">a3619453</span><span class=\"f3 push-content\">: westone wx</span><span class=\"push-ipdatetime\"> 10/13 01:15\\n</span></div><div class=\"push\"><span class=\"hl push-tag\">推 </span><span class=\"f3 hl push-userid\">alins1999</span><span class=\"f3 push-content\">: 如果AirPod的音質是你可以接受的，那麼BeatsX你可以考</span><span class=\"push-ipdatetime\"> 10/13 01:15\\n</span></div><div class=\"push\"><span class=\"f1 hl push-tag\">→ </span><span class=\"f3 hl push-userid\">alins1999</span><span class=\"f3 push-content\">: 慮看看，可能因為W1晶片的關係，跟蘋果系列的配對很快</span><span class=\"push-ipdatetime\"> 10/13 01:15\\n</span></div><div class=\"push\"><span class=\"f1 hl push-tag\">→ </span><span class=\"f3 hl push-userid\">alins1999</span><span class=\"f3 push-content\">: ，尤其AW3我自己連其他藍芽裝置失敗率很高，但連BeatsX</span><span class=\"push-ipdatetime\"> 10/13 01:15\\n</span></div><div class=\"push\"><span class=\"f1 hl push-tag\">→ </span><span class=\"f3 hl push-userid\">alins1999</span><span class=\"f3 push-content\">: 速度很快。現在特價看到3990，隔壁版有開到3200可以入</span><span class=\"push-ipdatetime\"> 10/13 01:15\\n</span></div><div class=\"push\"><span class=\"f1 hl push-tag\">→ </span><span class=\"f3 hl push-userid\">alins1999</span><span class=\"f3 push-content\">: 手。只是這隻耳機偏中高音就是了...</span><span class=\"push-ipdatetime\"> 10/13 01:15\\n</span></div><div class=\"push\"><span class=\"hl push-tag\">推 </span><span class=\"f3 hl push-userid\">john0520</span><span class=\"f3 push-content\">: Bose soundsport 戴起來舒服不會掉</span><span class=\"push-ipdatetime\"> 10/13 01:24\\n</span></div><div class=\"push\"><span class=\"hl push-tag\">推 </span><span class=\"f3 hl push-userid\">NCTUFKL</span><span class=\"f3 push-content\">: Soul</span><span class=\"push-ipdatetime\"> 10/13 01:50\\n</span></div><div class=\"push\"><span class=\"hl push-tag\">推 </span><span class=\"f3 hl push-userid\">jantim102</span><span class=\"f3 push-content\">: <a href=\"https://instagram.com/p/BaB105GHXRZ/\" target=\"_blank\" rel=\"nofollow\">https://instagram.com/p/BaB105GHXRZ/</a></span><span class=\"push-ipdatetime\"> 10/13 02:46\\n</span></div><div class=\"push\"><span class=\"hl push-tag\">推 </span><span class=\"f3 hl push-userid\">jantim102</span><span class=\"f3 push-content\">: 如果cx5.0習慣的話這隻還不錯，價錢應該（？）也跟預</span><span class=\"push-ipdatetime\"> 10/13 02:48\\n</span></div><div class=\"push\"><span class=\"f1 hl push-tag\">→ </span><span class=\"f3 hl push-userid\">jantim102</span><span class=\"f3 push-content\">: 算差不多</span><span class=\"push-ipdatetime\"> 10/13 02:48\\n</span></div><div class=\"push\"><span class=\"hl push-tag\">推 </span><span class=\"f3 hl push-userid\">speaper</span><span class=\"f3 push-content\">: Jaybird X3？</span><span class=\"push-ipdatetime\"> 10/13 03:44\\n</span></div><div class=\"push\"><span class=\"hl push-tag\">推 </span><span class=\"f3 hl push-userid\">FotoGo</span><span class=\"f3 push-content\">: bose soundsport 現在百貨公司在週年慶</span><span class=\"push-ipdatetime\"> 10/13 04:39\\n</span></div><div class=\"push\"><span class=\"hl push-tag\">推 </span><span class=\"f3 hl push-userid\">jeff1001jeff</span><span class=\"f3 push-content\">: 日本代購Q12</span><span class=\"push-ipdatetime\"> 10/13 06:32\\n</span></div><div class=\"push\"><span class=\"hl push-tag\">推 </span><span class=\"f3 hl push-userid\">hydeless</span><span class=\"f3 push-content\">: 買lightning耳機不就結了</span><span class=\"push-ipdatetime\"> 10/13 08:03\\n</span></div><div class=\"push\"><span class=\"f1 hl push-tag\">→ </span><span class=\"f3 hl push-userid\">hydeless</span><span class=\"f3 push-content\">: Audeze等你喔</span><span class=\"push-ipdatetime\"> 10/13 08:04\\n</span></div><div class=\"push\"><span class=\"f1 hl push-tag\">→ </span><span class=\"f3 hl push-userid\">shcjosh</span><span class=\"f3 push-content\">: 我自己用x3 不運動的話不太推 聲音太悶</span><span class=\"push-ipdatetime\"> 10/13 08:05\\n</span></div><div class=\"push\"><span class=\"hl push-tag\">推 </span><span class=\"f3 hl push-userid\">t7552175</span><span class=\"f3 push-content\">: Bose soundsport</span><span class=\"push-ipdatetime\"> 10/13 08:21\\n</span></div><div class=\"push\"><span class=\"hl push-tag\">推 </span><span class=\"f3 hl push-userid\">qazwsx0123q</span><span class=\"f3 push-content\">: 推bose</span><span class=\"push-ipdatetime\"> 10/13 08:27\\n</span></div><div class=\"push\"><span class=\"hl push-tag\">推 </span><span class=\"f3 hl push-userid\">b436412</span><span class=\"f3 push-content\">: 不是說要藍牙耳機嗎 怎麼出現lightning</span><span class=\"push-ipdatetime\"> 10/13 08:57\\n</span></div><div class=\"push\"><span class=\"hl push-tag\">推 </span><span class=\"f3 hl push-userid\">goodbyetot</span><span class=\"f3 push-content\">: Bose 這支日本買才4000多，可以衝了！真的要音質好還</span><span class=\"push-ipdatetime\"> 10/13 09:01\\n</span></div><div class=\"push\"><span class=\"f1 hl push-tag\">→ </span><span class=\"f3 hl push-userid\">goodbyetot</span><span class=\"f3 push-content\">: 是別選藍芽～</span><span class=\"push-ipdatetime\"> 10/13 09:01\\n</span></div><div class=\"push\"><span class=\"f1 hl push-tag\">→ </span><span class=\"f3 hl push-userid\">hydeless</span><span class=\"f3 push-content\">: &#34;面臨耳機孔的問題&#34; &lt;-不是還有一個洞可以插，有洞不插</span><span class=\"push-ipdatetime\"> 10/13 09:28\\n</span></div><div class=\"push\"><span class=\"f1 hl push-tag\">→ </span><span class=\"f3 hl push-userid\">hydeless</span><span class=\"f3 push-content\">: 沒多久就後悔捅洞的快感</span><span class=\"push-ipdatetime\"> 10/13 09:29\\n</span></div><div class=\"push\"><span class=\"hl push-tag\">推 </span><span class=\"f3 hl push-userid\">ATand</span><span class=\"f3 push-content\">: Jaybird Freedom</span><span class=\"push-ipdatetime\"> 10/13 10:55\\n</span></div><div class=\"push\"><span class=\"f1 hl push-tag\">→ </span><span class=\"f3 hl push-userid\">hsda</span><span class=\"f3 push-content\">: X3 能接電話?</span><span class=\"push-ipdatetime\"> 10/13 11:45\\n</span></div><div class=\"push\"><span class=\"hl push-tag\">推 </span><span class=\"f3 hl push-userid\">jacksonfu</span><span class=\"f3 push-content\">: Phaiser系列的可考慮 2000元內有找</span><span class=\"push-ipdatetime\"> 10/13 12:13\\n</span></div><div class=\"push\"><span class=\"hl push-tag\">推 </span><span class=\"f3 hl push-userid\">DKPCOFGS</span><span class=\"f3 push-content\">: shure藍芽有兩款</span><span class=\"push-ipdatetime\"> 10/13 12:28\\n</span></div></div>\\n    \\n    <div id=\"article-polling\" data-pollurl=\"/poll/iOS/M.1507828060.A.BB4.html?cacheKey=2052-971933221&offset=3789&offset-sig=5f4e4af92f9858c7831e3b7a8fa25831702aee07\" data-longpollurl=\"/v1/longpoll?id=093e5751d311e0adb927dafb4a2e4cdaa0f9ab53\" data-offset=\"3789\"></div>\\n    \\n\\n    \\n</div>\\n\\n\\t\\t\\n\\n<script>\\n  (function(i,s,o,g,r,a,m){i[\\'GoogleAnalyticsObject\\']=r;i[r]=i[r]||function(){\\n  (i[r].q=i[r].q||[]).push(arguments)},i[r].l=1*new Date();a=s.createElement(o),\\n  m=s.getElementsByTagName(o)[0];a.async=1;a.src=g;m.parentNode.insertBefore(a,m)\\n  })(window,document,\\'script\\',\\'https://www.google-analytics.com/analytics.js\\',\\'ga\\');\\n\\n  ga(\\'create\\', \\'UA-32365737-1\\', {\\n    cookieDomain: \\'ptt.cc\\',\\n    legacyCookieDomain: \\'ptt.cc\\'\\n  });\\n  ga(\\'send\\', \\'pageview\\');\\n</script>\\n\\n\\n\\t\\t\\n<script src=\"//ajax.googleapis.com/ajax/libs/jquery/2.1.1/jquery.min.js\"></script>\\n<script src=\"//images.ptt.cc/bbs/v2.22/bbs.js\"></script>\\n\\n    </body>\\n</html>\\n'"
      ]
     },
     "execution_count": 68,
     "metadata": {},
     "output_type": "execute_result"
    }
   ],
   "source": [
    "html"
   ]
  },
  {
   "cell_type": "code",
   "execution_count": 69,
   "metadata": {
    "collapsed": true
   },
   "outputs": [],
   "source": [
    "soup = BeautifulSoup(html, 'lxml')"
   ]
  },
  {
   "cell_type": "code",
   "execution_count": 70,
   "metadata": {},
   "outputs": [
    {
     "data": {
      "text/plain": [
       "<!DOCTYPE html>\n",
       "<html>\n",
       "<head>\n",
       "<meta charset=\"utf-8\"/>\n",
       "<meta content=\"width=device-width, initial-scale=1\" name=\"viewport\"/>\n",
       "<title>[問題] 請推薦音質佳可接電話的藍芽耳道式耳機 - 看板 iOS - 批踢踢實業坊</title>\n",
       "<meta content=\"all\" name=\"robots\"/>\n",
       "<meta content=\"Ptt BBS 批踢踢\" name=\"keywords\"/>\n",
       "<meta content=\"各位版友大家好~\n",
       "最近入手AW3 以及接下來打算入手iPhone X (之前是用I6)\n",
       "才面臨耳機孔的問題，剛好很巧的之前在聽的Sennheiser CX5.0耳機忘在飛機上...\n",
       "所以想說既然要換手機了那就換藍芽的吧，但偏偏之前聽慣了CX5.0 音質部分很滿意\n",
       "所以換藍芽的話對音質也有一定的要求但卻沒有研究，對AirPod很動心\n",
       "\" name=\"description\"/>\n",
       "<meta content=\"Ptt 批踢踢實業坊\" property=\"og:site_name\"/>\n",
       "<meta content=\"[問題] 請推薦音質佳可接電話的藍芽耳道式耳機\" property=\"og:title\"/>\n",
       "<meta content=\"各位版友大家好~\n",
       "最近入手AW3 以及接下來打算入手iPhone X (之前是用I6)\n",
       "才面臨耳機孔的問題，剛好很巧的之前在聽的Sennheiser CX5.0耳機忘在飛機上...\n",
       "所以想說既然要換手機了那就換藍芽的吧，但偏偏之前聽慣了CX5.0 音質部分很滿意\n",
       "所以換藍芽的話對音質也有一定的要求但卻沒有研究，對AirPod很動心\n",
       "\" property=\"og:description\"/>\n",
       "<link href=\"https://www.ptt.cc/bbs/iOS/M.1507828060.A.BB4.html\" rel=\"canonical\"/>\n",
       "<link href=\"//images.ptt.cc/bbs/v2.22/bbs-common.css\" rel=\"stylesheet\" type=\"text/css\"/>\n",
       "<link href=\"//images.ptt.cc/bbs/v2.22/bbs-base.css\" media=\"screen\" rel=\"stylesheet\" type=\"text/css\"/>\n",
       "<link href=\"//images.ptt.cc/bbs/v2.22/bbs-custom.css\" rel=\"stylesheet\" type=\"text/css\"/>\n",
       "<link href=\"//images.ptt.cc/bbs/v2.22/pushstream.css\" media=\"screen\" rel=\"stylesheet\" type=\"text/css\"/>\n",
       "<link href=\"//images.ptt.cc/bbs/v2.22/bbs-print.css\" media=\"print\" rel=\"stylesheet\" type=\"text/css\"/>\n",
       "</head>\n",
       "<body>\n",
       "<div id=\"fb-root\"></div>\n",
       "<script>(function(d, s, id) {\n",
       "var js, fjs = d.getElementsByTagName(s)[0];\n",
       "if (d.getElementById(id)) return;\n",
       "js = d.createElement(s); js.id = id;\n",
       "js.src = \"//connect.facebook.net/en_US/all.js#xfbml=1\";\n",
       "fjs.parentNode.insertBefore(js, fjs);\n",
       "}(document, 'script', 'facebook-jssdk'));</script>\n",
       "<div id=\"topbar-container\">\n",
       "<div class=\"bbs-content\" id=\"topbar\">\n",
       "<a href=\"/\" id=\"logo\">批踢踢實業坊</a>\n",
       "<span>›</span>\n",
       "<a class=\"board\" href=\"/bbs/iOS/index.html\"><span class=\"board-label\">看板 </span>iOS</a>\n",
       "<a class=\"right small\" href=\"/about.html\">關於我們</a>\n",
       "<a class=\"right small\" href=\"/contact.html\">聯絡資訊</a>\n",
       "</div>\n",
       "</div>\n",
       "<div id=\"navigation-container\">\n",
       "<div class=\"bbs-content\" id=\"navigation\">\n",
       "<a class=\"board\" href=\"/bbs/iOS/index.html\">返回看板</a>\n",
       "<div class=\"bar\"></div>\n",
       "<div class=\"share\">\n",
       "<span>分享</span>\n",
       "<div class=\"fb-like\" data-href=\"http://www.ptt.cc/bbs/iOS/M.1507828060.A.BB4.html\" data-layout=\"button_count\" data-send=\"false\" data-show-faces=\"false\" data-width=\"90\"></div>\n",
       "<div class=\"g-plusone\" data-size=\"medium\"></div>\n",
       "<script type=\"text/javascript\">\n",
       "window.___gcfg = {lang: 'zh-TW'};\n",
       "(function() {\n",
       "var po = document.createElement('script'); po.type = 'text/javascript'; po.async = true;\n",
       "po.src = 'https://apis.google.com/js/plusone.js';\n",
       "var s = document.getElementsByTagName('script')[0]; s.parentNode.insertBefore(po, s);\n",
       "})();\n",
       "</script>\n",
       "</div>\n",
       "</div>\n",
       "</div>\n",
       "<div id=\"main-container\">\n",
       "<div class=\"bbs-screen bbs-content\" id=\"main-content\"><div class=\"article-metaline\"><span class=\"article-meta-tag\">作者</span><span class=\"article-meta-value\">poreplay3 (pore)</span></div><div class=\"article-metaline-right\"><span class=\"article-meta-tag\">看板</span><span class=\"article-meta-value\">iOS</span></div><div class=\"article-metaline\"><span class=\"article-meta-tag\">標題</span><span class=\"article-meta-value\">[問題] 請推薦音質佳可接電話的藍芽耳道式耳機</span></div><div class=\"article-metaline\"><span class=\"article-meta-tag\">時間</span><span class=\"article-meta-value\">Fri Oct 13 01:07:38 2017</span></div>\n",
       "各位版友大家好~\n",
       "\n",
       "最近入手AW3 以及接下來打算入手iPhone X (之前是用I6)\n",
       "\n",
       "才面臨耳機孔的問題，剛好很巧的之前在聽的Sennheiser CX5.0耳機忘在飛機上...\n",
       "\n",
       "所以想說既然要換手機了那就換藍芽的吧，但偏偏之前聽慣了CX5.0 音質部分很滿意\n",
       "\n",
       "所以換藍芽的話對音質也有一定的要求但卻沒有研究，對AirPod很動心\n",
       "\n",
       "但偏偏AirPod只有耳塞式，我的耳朵戴耳塞式會很不舒服所以無奈只好放棄..\n",
       "\n",
       "\n",
       "想請問各位像我這種需求的話有可以推薦的嗎? 還是我要左轉去隔壁版問比較適合?\n",
       "\n",
       "麻煩各位解惑 謝謝\n",
       "\n",
       "ps預算部分 5K左右 range +-2K都可以考慮。\n",
       "\n",
       "\n",
       "--\n",
       "<span class=\"f2\">※ 發信站: 批踢踢實業坊(ptt.cc), 來自: 123.193.118.83\n",
       "</span><span class=\"f2\">※ 文章網址: <a href=\"https://www.ptt.cc/bbs/iOS/M.1507828060.A.BB4.html\" rel=\"nofollow\" target=\"_blank\">https://www.ptt.cc/bbs/iOS/M.1507828060.A.BB4.html</a>\n",
       "</span><div class=\"push\"><span class=\"hl push-tag\">推 </span><span class=\"f3 hl push-userid\">IO8OP</span><span class=\"f3 push-content\">: 左轉選擇應該更多</span><span class=\"push-ipdatetime\"> 10/13 01:14\n",
       "</span></div><div class=\"push\"><span class=\"hl push-tag\">推 </span><span class=\"f3 hl push-userid\">AndyLee76</span><span class=\"f3 push-content\">: shure有出藍芽線可以換的樣子，不然就找sony的</span><span class=\"push-ipdatetime\"> 10/13 01:14\n",
       "</span></div><div class=\"push\"><span class=\"hl push-tag\">推 </span><span class=\"f3 hl push-userid\">a3619453</span><span class=\"f3 push-content\">: westone wx</span><span class=\"push-ipdatetime\"> 10/13 01:15\n",
       "</span></div><div class=\"push\"><span class=\"hl push-tag\">推 </span><span class=\"f3 hl push-userid\">alins1999</span><span class=\"f3 push-content\">: 如果AirPod的音質是你可以接受的，那麼BeatsX你可以考</span><span class=\"push-ipdatetime\"> 10/13 01:15\n",
       "</span></div><div class=\"push\"><span class=\"f1 hl push-tag\">→ </span><span class=\"f3 hl push-userid\">alins1999</span><span class=\"f3 push-content\">: 慮看看，可能因為W1晶片的關係，跟蘋果系列的配對很快</span><span class=\"push-ipdatetime\"> 10/13 01:15\n",
       "</span></div><div class=\"push\"><span class=\"f1 hl push-tag\">→ </span><span class=\"f3 hl push-userid\">alins1999</span><span class=\"f3 push-content\">: ，尤其AW3我自己連其他藍芽裝置失敗率很高，但連BeatsX</span><span class=\"push-ipdatetime\"> 10/13 01:15\n",
       "</span></div><div class=\"push\"><span class=\"f1 hl push-tag\">→ </span><span class=\"f3 hl push-userid\">alins1999</span><span class=\"f3 push-content\">: 速度很快。現在特價看到3990，隔壁版有開到3200可以入</span><span class=\"push-ipdatetime\"> 10/13 01:15\n",
       "</span></div><div class=\"push\"><span class=\"f1 hl push-tag\">→ </span><span class=\"f3 hl push-userid\">alins1999</span><span class=\"f3 push-content\">: 手。只是這隻耳機偏中高音就是了...</span><span class=\"push-ipdatetime\"> 10/13 01:15\n",
       "</span></div><div class=\"push\"><span class=\"hl push-tag\">推 </span><span class=\"f3 hl push-userid\">john0520</span><span class=\"f3 push-content\">: Bose soundsport 戴起來舒服不會掉</span><span class=\"push-ipdatetime\"> 10/13 01:24\n",
       "</span></div><div class=\"push\"><span class=\"hl push-tag\">推 </span><span class=\"f3 hl push-userid\">NCTUFKL</span><span class=\"f3 push-content\">: Soul</span><span class=\"push-ipdatetime\"> 10/13 01:50\n",
       "</span></div><div class=\"push\"><span class=\"hl push-tag\">推 </span><span class=\"f3 hl push-userid\">jantim102</span><span class=\"f3 push-content\">: <a href=\"https://instagram.com/p/BaB105GHXRZ/\" rel=\"nofollow\" target=\"_blank\">https://instagram.com/p/BaB105GHXRZ/</a></span><span class=\"push-ipdatetime\"> 10/13 02:46\n",
       "</span></div><div class=\"push\"><span class=\"hl push-tag\">推 </span><span class=\"f3 hl push-userid\">jantim102</span><span class=\"f3 push-content\">: 如果cx5.0習慣的話這隻還不錯，價錢應該（？）也跟預</span><span class=\"push-ipdatetime\"> 10/13 02:48\n",
       "</span></div><div class=\"push\"><span class=\"f1 hl push-tag\">→ </span><span class=\"f3 hl push-userid\">jantim102</span><span class=\"f3 push-content\">: 算差不多</span><span class=\"push-ipdatetime\"> 10/13 02:48\n",
       "</span></div><div class=\"push\"><span class=\"hl push-tag\">推 </span><span class=\"f3 hl push-userid\">speaper</span><span class=\"f3 push-content\">: Jaybird X3？</span><span class=\"push-ipdatetime\"> 10/13 03:44\n",
       "</span></div><div class=\"push\"><span class=\"hl push-tag\">推 </span><span class=\"f3 hl push-userid\">FotoGo</span><span class=\"f3 push-content\">: bose soundsport 現在百貨公司在週年慶</span><span class=\"push-ipdatetime\"> 10/13 04:39\n",
       "</span></div><div class=\"push\"><span class=\"hl push-tag\">推 </span><span class=\"f3 hl push-userid\">jeff1001jeff</span><span class=\"f3 push-content\">: 日本代購Q12</span><span class=\"push-ipdatetime\"> 10/13 06:32\n",
       "</span></div><div class=\"push\"><span class=\"hl push-tag\">推 </span><span class=\"f3 hl push-userid\">hydeless</span><span class=\"f3 push-content\">: 買lightning耳機不就結了</span><span class=\"push-ipdatetime\"> 10/13 08:03\n",
       "</span></div><div class=\"push\"><span class=\"f1 hl push-tag\">→ </span><span class=\"f3 hl push-userid\">hydeless</span><span class=\"f3 push-content\">: Audeze等你喔</span><span class=\"push-ipdatetime\"> 10/13 08:04\n",
       "</span></div><div class=\"push\"><span class=\"f1 hl push-tag\">→ </span><span class=\"f3 hl push-userid\">shcjosh</span><span class=\"f3 push-content\">: 我自己用x3 不運動的話不太推 聲音太悶</span><span class=\"push-ipdatetime\"> 10/13 08:05\n",
       "</span></div><div class=\"push\"><span class=\"hl push-tag\">推 </span><span class=\"f3 hl push-userid\">t7552175</span><span class=\"f3 push-content\">: Bose soundsport</span><span class=\"push-ipdatetime\"> 10/13 08:21\n",
       "</span></div><div class=\"push\"><span class=\"hl push-tag\">推 </span><span class=\"f3 hl push-userid\">qazwsx0123q</span><span class=\"f3 push-content\">: 推bose</span><span class=\"push-ipdatetime\"> 10/13 08:27\n",
       "</span></div><div class=\"push\"><span class=\"hl push-tag\">推 </span><span class=\"f3 hl push-userid\">b436412</span><span class=\"f3 push-content\">: 不是說要藍牙耳機嗎 怎麼出現lightning</span><span class=\"push-ipdatetime\"> 10/13 08:57\n",
       "</span></div><div class=\"push\"><span class=\"hl push-tag\">推 </span><span class=\"f3 hl push-userid\">goodbyetot</span><span class=\"f3 push-content\">: Bose 這支日本買才4000多，可以衝了！真的要音質好還</span><span class=\"push-ipdatetime\"> 10/13 09:01\n",
       "</span></div><div class=\"push\"><span class=\"f1 hl push-tag\">→ </span><span class=\"f3 hl push-userid\">goodbyetot</span><span class=\"f3 push-content\">: 是別選藍芽～</span><span class=\"push-ipdatetime\"> 10/13 09:01\n",
       "</span></div><div class=\"push\"><span class=\"f1 hl push-tag\">→ </span><span class=\"f3 hl push-userid\">hydeless</span><span class=\"f3 push-content\">: \"面臨耳機孔的問題\" &lt;-不是還有一個洞可以插，有洞不插</span><span class=\"push-ipdatetime\"> 10/13 09:28\n",
       "</span></div><div class=\"push\"><span class=\"f1 hl push-tag\">→ </span><span class=\"f3 hl push-userid\">hydeless</span><span class=\"f3 push-content\">: 沒多久就後悔捅洞的快感</span><span class=\"push-ipdatetime\"> 10/13 09:29\n",
       "</span></div><div class=\"push\"><span class=\"hl push-tag\">推 </span><span class=\"f3 hl push-userid\">ATand</span><span class=\"f3 push-content\">: Jaybird Freedom</span><span class=\"push-ipdatetime\"> 10/13 10:55\n",
       "</span></div><div class=\"push\"><span class=\"f1 hl push-tag\">→ </span><span class=\"f3 hl push-userid\">hsda</span><span class=\"f3 push-content\">: X3 能接電話?</span><span class=\"push-ipdatetime\"> 10/13 11:45\n",
       "</span></div><div class=\"push\"><span class=\"hl push-tag\">推 </span><span class=\"f3 hl push-userid\">jacksonfu</span><span class=\"f3 push-content\">: Phaiser系列的可考慮 2000元內有找</span><span class=\"push-ipdatetime\"> 10/13 12:13\n",
       "</span></div><div class=\"push\"><span class=\"hl push-tag\">推 </span><span class=\"f3 hl push-userid\">DKPCOFGS</span><span class=\"f3 push-content\">: shure藍芽有兩款</span><span class=\"push-ipdatetime\"> 10/13 12:28\n",
       "</span></div></div>\n",
       "<div data-longpollurl=\"/v1/longpoll?id=093e5751d311e0adb927dafb4a2e4cdaa0f9ab53\" data-offset=\"3789\" data-pollurl=\"/poll/iOS/M.1507828060.A.BB4.html?cacheKey=2052-971933221&amp;offset=3789&amp;offset-sig=5f4e4af92f9858c7831e3b7a8fa25831702aee07\" id=\"article-polling\"></div>\n",
       "</div>\n",
       "<script>\n",
       "  (function(i,s,o,g,r,a,m){i['GoogleAnalyticsObject']=r;i[r]=i[r]||function(){\n",
       "  (i[r].q=i[r].q||[]).push(arguments)},i[r].l=1*new Date();a=s.createElement(o),\n",
       "  m=s.getElementsByTagName(o)[0];a.async=1;a.src=g;m.parentNode.insertBefore(a,m)\n",
       "  })(window,document,'script','https://www.google-analytics.com/analytics.js','ga');\n",
       "\n",
       "  ga('create', 'UA-32365737-1', {\n",
       "    cookieDomain: 'ptt.cc',\n",
       "    legacyCookieDomain: 'ptt.cc'\n",
       "  });\n",
       "  ga('send', 'pageview');\n",
       "</script>\n",
       "<script src=\"//ajax.googleapis.com/ajax/libs/jquery/2.1.1/jquery.min.js\"></script>\n",
       "<script src=\"//images.ptt.cc/bbs/v2.22/bbs.js\"></script>\n",
       "</body>\n",
       "</html>"
      ]
     },
     "execution_count": 70,
     "metadata": {},
     "output_type": "execute_result"
    }
   ],
   "source": [
    "soup"
   ]
  },
  {
   "cell_type": "code",
   "execution_count": 71,
   "metadata": {},
   "outputs": [
    {
     "data": {
      "text/plain": [
       "[<div class=\"article-metaline\"><span class=\"article-meta-tag\">作者</span><span class=\"article-meta-value\">poreplay3 (pore)</span></div>,\n",
       " <div class=\"article-metaline\"><span class=\"article-meta-tag\">標題</span><span class=\"article-meta-value\">[問題] 請推薦音質佳可接電話的藍芽耳道式耳機</span></div>,\n",
       " <div class=\"article-metaline\"><span class=\"article-meta-tag\">時間</span><span class=\"article-meta-value\">Fri Oct 13 01:07:38 2017</span></div>]"
      ]
     },
     "execution_count": 71,
     "metadata": {},
     "output_type": "execute_result"
    }
   ],
   "source": [
    "soup.select(\"div.article-metaline\")"
   ]
  },
  {
   "cell_type": "code",
   "execution_count": 72,
   "metadata": {},
   "outputs": [
    {
     "data": {
      "text/plain": [
       "[<span class=\"article-meta-value\">poreplay3 (pore)</span>,\n",
       " <span class=\"article-meta-value\">[問題] 請推薦音質佳可接電話的藍芽耳道式耳機</span>,\n",
       " <span class=\"article-meta-value\">Fri Oct 13 01:07:38 2017</span>]"
      ]
     },
     "execution_count": 72,
     "metadata": {},
     "output_type": "execute_result"
    }
   ],
   "source": [
    "soup.select(\"div.article-metaline > span.article-meta-value\")"
   ]
  },
  {
   "cell_type": "code",
   "execution_count": 73,
   "metadata": {
    "collapsed": true
   },
   "outputs": [],
   "source": [
    "meta = soup.select(\"div.article-metaline > span.article-meta-value\")"
   ]
  },
  {
   "cell_type": "code",
   "execution_count": 74,
   "metadata": {},
   "outputs": [
    {
     "name": "stdout",
     "output_type": "stream",
     "text": [
      "poreplay3 (pore),[問題] 請推薦音質佳可接電話的藍芽耳道式耳機,Fri Oct 13 01:07:38 2017\n"
     ]
    }
   ],
   "source": [
    "author = meta[0].text\n",
    "title  = meta[1].text\n",
    "dt     = meta[2].text\n",
    "print(\"%s,%s,%s\"%(author,title,dt))"
   ]
  },
  {
   "cell_type": "code",
   "execution_count": 75,
   "metadata": {},
   "outputs": [
    {
     "data": {
      "text/plain": [
       "[<div class=\"article-metaline\"><span class=\"article-meta-tag\">作者</span><span class=\"article-meta-value\">poreplay3 (pore)</span></div>,\n",
       " <div class=\"article-metaline\"><span class=\"article-meta-tag\">標題</span><span class=\"article-meta-value\">[問題] 請推薦音質佳可接電話的藍芽耳道式耳機</span></div>,\n",
       " <div class=\"article-metaline\"><span class=\"article-meta-tag\">時間</span><span class=\"article-meta-value\">Fri Oct 13 01:07:38 2017</span></div>]"
      ]
     },
     "execution_count": 75,
     "metadata": {},
     "output_type": "execute_result"
    }
   ],
   "source": [
    "[tag.extract() for tag in soup.select('div.article-metaline')]"
   ]
  },
  {
   "cell_type": "code",
   "execution_count": 76,
   "metadata": {},
   "outputs": [
    {
     "data": {
      "text/plain": [
       "<div class=\"article-metaline-right\"><span class=\"article-meta-tag\">看板</span><span class=\"article-meta-value\">iOS</span></div>"
      ]
     },
     "execution_count": 76,
     "metadata": {},
     "output_type": "execute_result"
    }
   ],
   "source": [
    "soup.select_one('div.article-metaline-right').extract()"
   ]
  },
  {
   "cell_type": "code",
   "execution_count": 77,
   "metadata": {
    "scrolled": true
   },
   "outputs": [
    {
     "data": {
      "text/plain": [
       "<div class=\"bbs-screen bbs-content\" id=\"main-content\">\n",
       "各位版友大家好~\n",
       "\n",
       "最近入手AW3 以及接下來打算入手iPhone X (之前是用I6)\n",
       "\n",
       "才面臨耳機孔的問題，剛好很巧的之前在聽的Sennheiser CX5.0耳機忘在飛機上...\n",
       "\n",
       "所以想說既然要換手機了那就換藍芽的吧，但偏偏之前聽慣了CX5.0 音質部分很滿意\n",
       "\n",
       "所以換藍芽的話對音質也有一定的要求但卻沒有研究，對AirPod很動心\n",
       "\n",
       "但偏偏AirPod只有耳塞式，我的耳朵戴耳塞式會很不舒服所以無奈只好放棄..\n",
       "\n",
       "\n",
       "想請問各位像我這種需求的話有可以推薦的嗎? 還是我要左轉去隔壁版問比較適合?\n",
       "\n",
       "麻煩各位解惑 謝謝\n",
       "\n",
       "ps預算部分 5K左右 range +-2K都可以考慮。\n",
       "\n",
       "\n",
       "--\n",
       "<span class=\"f2\">※ 發信站: 批踢踢實業坊(ptt.cc), 來自: 123.193.118.83\n",
       "</span><span class=\"f2\">※ 文章網址: <a href=\"https://www.ptt.cc/bbs/iOS/M.1507828060.A.BB4.html\" rel=\"nofollow\" target=\"_blank\">https://www.ptt.cc/bbs/iOS/M.1507828060.A.BB4.html</a>\n",
       "</span><div class=\"push\"><span class=\"hl push-tag\">推 </span><span class=\"f3 hl push-userid\">IO8OP</span><span class=\"f3 push-content\">: 左轉選擇應該更多</span><span class=\"push-ipdatetime\"> 10/13 01:14\n",
       "</span></div><div class=\"push\"><span class=\"hl push-tag\">推 </span><span class=\"f3 hl push-userid\">AndyLee76</span><span class=\"f3 push-content\">: shure有出藍芽線可以換的樣子，不然就找sony的</span><span class=\"push-ipdatetime\"> 10/13 01:14\n",
       "</span></div><div class=\"push\"><span class=\"hl push-tag\">推 </span><span class=\"f3 hl push-userid\">a3619453</span><span class=\"f3 push-content\">: westone wx</span><span class=\"push-ipdatetime\"> 10/13 01:15\n",
       "</span></div><div class=\"push\"><span class=\"hl push-tag\">推 </span><span class=\"f3 hl push-userid\">alins1999</span><span class=\"f3 push-content\">: 如果AirPod的音質是你可以接受的，那麼BeatsX你可以考</span><span class=\"push-ipdatetime\"> 10/13 01:15\n",
       "</span></div><div class=\"push\"><span class=\"f1 hl push-tag\">→ </span><span class=\"f3 hl push-userid\">alins1999</span><span class=\"f3 push-content\">: 慮看看，可能因為W1晶片的關係，跟蘋果系列的配對很快</span><span class=\"push-ipdatetime\"> 10/13 01:15\n",
       "</span></div><div class=\"push\"><span class=\"f1 hl push-tag\">→ </span><span class=\"f3 hl push-userid\">alins1999</span><span class=\"f3 push-content\">: ，尤其AW3我自己連其他藍芽裝置失敗率很高，但連BeatsX</span><span class=\"push-ipdatetime\"> 10/13 01:15\n",
       "</span></div><div class=\"push\"><span class=\"f1 hl push-tag\">→ </span><span class=\"f3 hl push-userid\">alins1999</span><span class=\"f3 push-content\">: 速度很快。現在特價看到3990，隔壁版有開到3200可以入</span><span class=\"push-ipdatetime\"> 10/13 01:15\n",
       "</span></div><div class=\"push\"><span class=\"f1 hl push-tag\">→ </span><span class=\"f3 hl push-userid\">alins1999</span><span class=\"f3 push-content\">: 手。只是這隻耳機偏中高音就是了...</span><span class=\"push-ipdatetime\"> 10/13 01:15\n",
       "</span></div><div class=\"push\"><span class=\"hl push-tag\">推 </span><span class=\"f3 hl push-userid\">john0520</span><span class=\"f3 push-content\">: Bose soundsport 戴起來舒服不會掉</span><span class=\"push-ipdatetime\"> 10/13 01:24\n",
       "</span></div><div class=\"push\"><span class=\"hl push-tag\">推 </span><span class=\"f3 hl push-userid\">NCTUFKL</span><span class=\"f3 push-content\">: Soul</span><span class=\"push-ipdatetime\"> 10/13 01:50\n",
       "</span></div><div class=\"push\"><span class=\"hl push-tag\">推 </span><span class=\"f3 hl push-userid\">jantim102</span><span class=\"f3 push-content\">: <a href=\"https://instagram.com/p/BaB105GHXRZ/\" rel=\"nofollow\" target=\"_blank\">https://instagram.com/p/BaB105GHXRZ/</a></span><span class=\"push-ipdatetime\"> 10/13 02:46\n",
       "</span></div><div class=\"push\"><span class=\"hl push-tag\">推 </span><span class=\"f3 hl push-userid\">jantim102</span><span class=\"f3 push-content\">: 如果cx5.0習慣的話這隻還不錯，價錢應該（？）也跟預</span><span class=\"push-ipdatetime\"> 10/13 02:48\n",
       "</span></div><div class=\"push\"><span class=\"f1 hl push-tag\">→ </span><span class=\"f3 hl push-userid\">jantim102</span><span class=\"f3 push-content\">: 算差不多</span><span class=\"push-ipdatetime\"> 10/13 02:48\n",
       "</span></div><div class=\"push\"><span class=\"hl push-tag\">推 </span><span class=\"f3 hl push-userid\">speaper</span><span class=\"f3 push-content\">: Jaybird X3？</span><span class=\"push-ipdatetime\"> 10/13 03:44\n",
       "</span></div><div class=\"push\"><span class=\"hl push-tag\">推 </span><span class=\"f3 hl push-userid\">FotoGo</span><span class=\"f3 push-content\">: bose soundsport 現在百貨公司在週年慶</span><span class=\"push-ipdatetime\"> 10/13 04:39\n",
       "</span></div><div class=\"push\"><span class=\"hl push-tag\">推 </span><span class=\"f3 hl push-userid\">jeff1001jeff</span><span class=\"f3 push-content\">: 日本代購Q12</span><span class=\"push-ipdatetime\"> 10/13 06:32\n",
       "</span></div><div class=\"push\"><span class=\"hl push-tag\">推 </span><span class=\"f3 hl push-userid\">hydeless</span><span class=\"f3 push-content\">: 買lightning耳機不就結了</span><span class=\"push-ipdatetime\"> 10/13 08:03\n",
       "</span></div><div class=\"push\"><span class=\"f1 hl push-tag\">→ </span><span class=\"f3 hl push-userid\">hydeless</span><span class=\"f3 push-content\">: Audeze等你喔</span><span class=\"push-ipdatetime\"> 10/13 08:04\n",
       "</span></div><div class=\"push\"><span class=\"f1 hl push-tag\">→ </span><span class=\"f3 hl push-userid\">shcjosh</span><span class=\"f3 push-content\">: 我自己用x3 不運動的話不太推 聲音太悶</span><span class=\"push-ipdatetime\"> 10/13 08:05\n",
       "</span></div><div class=\"push\"><span class=\"hl push-tag\">推 </span><span class=\"f3 hl push-userid\">t7552175</span><span class=\"f3 push-content\">: Bose soundsport</span><span class=\"push-ipdatetime\"> 10/13 08:21\n",
       "</span></div><div class=\"push\"><span class=\"hl push-tag\">推 </span><span class=\"f3 hl push-userid\">qazwsx0123q</span><span class=\"f3 push-content\">: 推bose</span><span class=\"push-ipdatetime\"> 10/13 08:27\n",
       "</span></div><div class=\"push\"><span class=\"hl push-tag\">推 </span><span class=\"f3 hl push-userid\">b436412</span><span class=\"f3 push-content\">: 不是說要藍牙耳機嗎 怎麼出現lightning</span><span class=\"push-ipdatetime\"> 10/13 08:57\n",
       "</span></div><div class=\"push\"><span class=\"hl push-tag\">推 </span><span class=\"f3 hl push-userid\">goodbyetot</span><span class=\"f3 push-content\">: Bose 這支日本買才4000多，可以衝了！真的要音質好還</span><span class=\"push-ipdatetime\"> 10/13 09:01\n",
       "</span></div><div class=\"push\"><span class=\"f1 hl push-tag\">→ </span><span class=\"f3 hl push-userid\">goodbyetot</span><span class=\"f3 push-content\">: 是別選藍芽～</span><span class=\"push-ipdatetime\"> 10/13 09:01\n",
       "</span></div><div class=\"push\"><span class=\"f1 hl push-tag\">→ </span><span class=\"f3 hl push-userid\">hydeless</span><span class=\"f3 push-content\">: \"面臨耳機孔的問題\" &lt;-不是還有一個洞可以插，有洞不插</span><span class=\"push-ipdatetime\"> 10/13 09:28\n",
       "</span></div><div class=\"push\"><span class=\"f1 hl push-tag\">→ </span><span class=\"f3 hl push-userid\">hydeless</span><span class=\"f3 push-content\">: 沒多久就後悔捅洞的快感</span><span class=\"push-ipdatetime\"> 10/13 09:29\n",
       "</span></div><div class=\"push\"><span class=\"hl push-tag\">推 </span><span class=\"f3 hl push-userid\">ATand</span><span class=\"f3 push-content\">: Jaybird Freedom</span><span class=\"push-ipdatetime\"> 10/13 10:55\n",
       "</span></div><div class=\"push\"><span class=\"f1 hl push-tag\">→ </span><span class=\"f3 hl push-userid\">hsda</span><span class=\"f3 push-content\">: X3 能接電話?</span><span class=\"push-ipdatetime\"> 10/13 11:45\n",
       "</span></div><div class=\"push\"><span class=\"hl push-tag\">推 </span><span class=\"f3 hl push-userid\">jacksonfu</span><span class=\"f3 push-content\">: Phaiser系列的可考慮 2000元內有找</span><span class=\"push-ipdatetime\"> 10/13 12:13\n",
       "</span></div><div class=\"push\"><span class=\"hl push-tag\">推 </span><span class=\"f3 hl push-userid\">DKPCOFGS</span><span class=\"f3 push-content\">: shure藍芽有兩款</span><span class=\"push-ipdatetime\"> 10/13 12:28\n",
       "</span></div></div>"
      ]
     },
     "execution_count": 77,
     "metadata": {},
     "output_type": "execute_result"
    }
   ],
   "source": [
    "soup.select_one(\"#main-content\")"
   ]
  },
  {
   "cell_type": "code",
   "execution_count": 80,
   "metadata": {},
   "outputs": [],
   "source": [
    "pushs = [push.extract() for push in soup.select('div.push')]"
   ]
  },
  {
   "cell_type": "code",
   "execution_count": 81,
   "metadata": {
    "scrolled": true
   },
   "outputs": [
    {
     "data": {
      "text/plain": [
       "[<div class=\"push\"><span class=\"hl push-tag\">推 </span><span class=\"f3 hl push-userid\">IO8OP</span><span class=\"f3 push-content\">: 左轉選擇應該更多</span><span class=\"push-ipdatetime\"> 10/13 01:14\n",
       " </span></div>,\n",
       " <div class=\"push\"><span class=\"hl push-tag\">推 </span><span class=\"f3 hl push-userid\">AndyLee76</span><span class=\"f3 push-content\">: shure有出藍芽線可以換的樣子，不然就找sony的</span><span class=\"push-ipdatetime\"> 10/13 01:14\n",
       " </span></div>,\n",
       " <div class=\"push\"><span class=\"hl push-tag\">推 </span><span class=\"f3 hl push-userid\">a3619453</span><span class=\"f3 push-content\">: westone wx</span><span class=\"push-ipdatetime\"> 10/13 01:15\n",
       " </span></div>,\n",
       " <div class=\"push\"><span class=\"hl push-tag\">推 </span><span class=\"f3 hl push-userid\">alins1999</span><span class=\"f3 push-content\">: 如果AirPod的音質是你可以接受的，那麼BeatsX你可以考</span><span class=\"push-ipdatetime\"> 10/13 01:15\n",
       " </span></div>,\n",
       " <div class=\"push\"><span class=\"f1 hl push-tag\">→ </span><span class=\"f3 hl push-userid\">alins1999</span><span class=\"f3 push-content\">: 慮看看，可能因為W1晶片的關係，跟蘋果系列的配對很快</span><span class=\"push-ipdatetime\"> 10/13 01:15\n",
       " </span></div>,\n",
       " <div class=\"push\"><span class=\"f1 hl push-tag\">→ </span><span class=\"f3 hl push-userid\">alins1999</span><span class=\"f3 push-content\">: ，尤其AW3我自己連其他藍芽裝置失敗率很高，但連BeatsX</span><span class=\"push-ipdatetime\"> 10/13 01:15\n",
       " </span></div>,\n",
       " <div class=\"push\"><span class=\"f1 hl push-tag\">→ </span><span class=\"f3 hl push-userid\">alins1999</span><span class=\"f3 push-content\">: 速度很快。現在特價看到3990，隔壁版有開到3200可以入</span><span class=\"push-ipdatetime\"> 10/13 01:15\n",
       " </span></div>,\n",
       " <div class=\"push\"><span class=\"f1 hl push-tag\">→ </span><span class=\"f3 hl push-userid\">alins1999</span><span class=\"f3 push-content\">: 手。只是這隻耳機偏中高音就是了...</span><span class=\"push-ipdatetime\"> 10/13 01:15\n",
       " </span></div>,\n",
       " <div class=\"push\"><span class=\"hl push-tag\">推 </span><span class=\"f3 hl push-userid\">john0520</span><span class=\"f3 push-content\">: Bose soundsport 戴起來舒服不會掉</span><span class=\"push-ipdatetime\"> 10/13 01:24\n",
       " </span></div>,\n",
       " <div class=\"push\"><span class=\"hl push-tag\">推 </span><span class=\"f3 hl push-userid\">NCTUFKL</span><span class=\"f3 push-content\">: Soul</span><span class=\"push-ipdatetime\"> 10/13 01:50\n",
       " </span></div>,\n",
       " <div class=\"push\"><span class=\"hl push-tag\">推 </span><span class=\"f3 hl push-userid\">jantim102</span><span class=\"f3 push-content\">: <a href=\"https://instagram.com/p/BaB105GHXRZ/\" rel=\"nofollow\" target=\"_blank\">https://instagram.com/p/BaB105GHXRZ/</a></span><span class=\"push-ipdatetime\"> 10/13 02:46\n",
       " </span></div>,\n",
       " <div class=\"push\"><span class=\"hl push-tag\">推 </span><span class=\"f3 hl push-userid\">jantim102</span><span class=\"f3 push-content\">: 如果cx5.0習慣的話這隻還不錯，價錢應該（？）也跟預</span><span class=\"push-ipdatetime\"> 10/13 02:48\n",
       " </span></div>,\n",
       " <div class=\"push\"><span class=\"f1 hl push-tag\">→ </span><span class=\"f3 hl push-userid\">jantim102</span><span class=\"f3 push-content\">: 算差不多</span><span class=\"push-ipdatetime\"> 10/13 02:48\n",
       " </span></div>,\n",
       " <div class=\"push\"><span class=\"hl push-tag\">推 </span><span class=\"f3 hl push-userid\">speaper</span><span class=\"f3 push-content\">: Jaybird X3？</span><span class=\"push-ipdatetime\"> 10/13 03:44\n",
       " </span></div>,\n",
       " <div class=\"push\"><span class=\"hl push-tag\">推 </span><span class=\"f3 hl push-userid\">FotoGo</span><span class=\"f3 push-content\">: bose soundsport 現在百貨公司在週年慶</span><span class=\"push-ipdatetime\"> 10/13 04:39\n",
       " </span></div>,\n",
       " <div class=\"push\"><span class=\"hl push-tag\">推 </span><span class=\"f3 hl push-userid\">jeff1001jeff</span><span class=\"f3 push-content\">: 日本代購Q12</span><span class=\"push-ipdatetime\"> 10/13 06:32\n",
       " </span></div>,\n",
       " <div class=\"push\"><span class=\"hl push-tag\">推 </span><span class=\"f3 hl push-userid\">hydeless</span><span class=\"f3 push-content\">: 買lightning耳機不就結了</span><span class=\"push-ipdatetime\"> 10/13 08:03\n",
       " </span></div>,\n",
       " <div class=\"push\"><span class=\"f1 hl push-tag\">→ </span><span class=\"f3 hl push-userid\">hydeless</span><span class=\"f3 push-content\">: Audeze等你喔</span><span class=\"push-ipdatetime\"> 10/13 08:04\n",
       " </span></div>,\n",
       " <div class=\"push\"><span class=\"f1 hl push-tag\">→ </span><span class=\"f3 hl push-userid\">shcjosh</span><span class=\"f3 push-content\">: 我自己用x3 不運動的話不太推 聲音太悶</span><span class=\"push-ipdatetime\"> 10/13 08:05\n",
       " </span></div>,\n",
       " <div class=\"push\"><span class=\"hl push-tag\">推 </span><span class=\"f3 hl push-userid\">t7552175</span><span class=\"f3 push-content\">: Bose soundsport</span><span class=\"push-ipdatetime\"> 10/13 08:21\n",
       " </span></div>,\n",
       " <div class=\"push\"><span class=\"hl push-tag\">推 </span><span class=\"f3 hl push-userid\">qazwsx0123q</span><span class=\"f3 push-content\">: 推bose</span><span class=\"push-ipdatetime\"> 10/13 08:27\n",
       " </span></div>,\n",
       " <div class=\"push\"><span class=\"hl push-tag\">推 </span><span class=\"f3 hl push-userid\">b436412</span><span class=\"f3 push-content\">: 不是說要藍牙耳機嗎 怎麼出現lightning</span><span class=\"push-ipdatetime\"> 10/13 08:57\n",
       " </span></div>,\n",
       " <div class=\"push\"><span class=\"hl push-tag\">推 </span><span class=\"f3 hl push-userid\">goodbyetot</span><span class=\"f3 push-content\">: Bose 這支日本買才4000多，可以衝了！真的要音質好還</span><span class=\"push-ipdatetime\"> 10/13 09:01\n",
       " </span></div>,\n",
       " <div class=\"push\"><span class=\"f1 hl push-tag\">→ </span><span class=\"f3 hl push-userid\">goodbyetot</span><span class=\"f3 push-content\">: 是別選藍芽～</span><span class=\"push-ipdatetime\"> 10/13 09:01\n",
       " </span></div>,\n",
       " <div class=\"push\"><span class=\"f1 hl push-tag\">→ </span><span class=\"f3 hl push-userid\">hydeless</span><span class=\"f3 push-content\">: \"面臨耳機孔的問題\" &lt;-不是還有一個洞可以插，有洞不插</span><span class=\"push-ipdatetime\"> 10/13 09:28\n",
       " </span></div>,\n",
       " <div class=\"push\"><span class=\"f1 hl push-tag\">→ </span><span class=\"f3 hl push-userid\">hydeless</span><span class=\"f3 push-content\">: 沒多久就後悔捅洞的快感</span><span class=\"push-ipdatetime\"> 10/13 09:29\n",
       " </span></div>,\n",
       " <div class=\"push\"><span class=\"hl push-tag\">推 </span><span class=\"f3 hl push-userid\">ATand</span><span class=\"f3 push-content\">: Jaybird Freedom</span><span class=\"push-ipdatetime\"> 10/13 10:55\n",
       " </span></div>,\n",
       " <div class=\"push\"><span class=\"f1 hl push-tag\">→ </span><span class=\"f3 hl push-userid\">hsda</span><span class=\"f3 push-content\">: X3 能接電話?</span><span class=\"push-ipdatetime\"> 10/13 11:45\n",
       " </span></div>,\n",
       " <div class=\"push\"><span class=\"hl push-tag\">推 </span><span class=\"f3 hl push-userid\">jacksonfu</span><span class=\"f3 push-content\">: Phaiser系列的可考慮 2000元內有找</span><span class=\"push-ipdatetime\"> 10/13 12:13\n",
       " </span></div>,\n",
       " <div class=\"push\"><span class=\"hl push-tag\">推 </span><span class=\"f3 hl push-userid\">DKPCOFGS</span><span class=\"f3 push-content\">: shure藍芽有兩款</span><span class=\"push-ipdatetime\"> 10/13 12:28\n",
       " </span></div>]"
      ]
     },
     "execution_count": 81,
     "metadata": {},
     "output_type": "execute_result"
    }
   ],
   "source": [
    "pushs"
   ]
  },
  {
   "cell_type": "code",
   "execution_count": 78,
   "metadata": {
    "scrolled": true
   },
   "outputs": [
    {
     "data": {
      "text/plain": [
       "<div class=\"bbs-screen bbs-content\" id=\"main-content\">\n",
       "各位版友大家好~\n",
       "\n",
       "最近入手AW3 以及接下來打算入手iPhone X (之前是用I6)\n",
       "\n",
       "才面臨耳機孔的問題，剛好很巧的之前在聽的Sennheiser CX5.0耳機忘在飛機上...\n",
       "\n",
       "所以想說既然要換手機了那就換藍芽的吧，但偏偏之前聽慣了CX5.0 音質部分很滿意\n",
       "\n",
       "所以換藍芽的話對音質也有一定的要求但卻沒有研究，對AirPod很動心\n",
       "\n",
       "但偏偏AirPod只有耳塞式，我的耳朵戴耳塞式會很不舒服所以無奈只好放棄..\n",
       "\n",
       "\n",
       "想請問各位像我這種需求的話有可以推薦的嗎? 還是我要左轉去隔壁版問比較適合?\n",
       "\n",
       "麻煩各位解惑 謝謝\n",
       "\n",
       "ps預算部分 5K左右 range +-2K都可以考慮。\n",
       "\n",
       "\n",
       "--\n",
       "<span class=\"f2\">※ 發信站: 批踢踢實業坊(ptt.cc), 來自: 123.193.118.83\n",
       "</span><span class=\"f2\">※ 文章網址: <a href=\"https://www.ptt.cc/bbs/iOS/M.1507828060.A.BB4.html\" rel=\"nofollow\" target=\"_blank\">https://www.ptt.cc/bbs/iOS/M.1507828060.A.BB4.html</a>\n",
       "</span><div class=\"push\"><span class=\"hl push-tag\">推 </span><span class=\"f3 hl push-userid\">IO8OP</span><span class=\"f3 push-content\">: 左轉選擇應該更多</span><span class=\"push-ipdatetime\"> 10/13 01:14\n",
       "</span></div><div class=\"push\"><span class=\"hl push-tag\">推 </span><span class=\"f3 hl push-userid\">AndyLee76</span><span class=\"f3 push-content\">: shure有出藍芽線可以換的樣子，不然就找sony的</span><span class=\"push-ipdatetime\"> 10/13 01:14\n",
       "</span></div><div class=\"push\"><span class=\"hl push-tag\">推 </span><span class=\"f3 hl push-userid\">a3619453</span><span class=\"f3 push-content\">: westone wx</span><span class=\"push-ipdatetime\"> 10/13 01:15\n",
       "</span></div><div class=\"push\"><span class=\"hl push-tag\">推 </span><span class=\"f3 hl push-userid\">alins1999</span><span class=\"f3 push-content\">: 如果AirPod的音質是你可以接受的，那麼BeatsX你可以考</span><span class=\"push-ipdatetime\"> 10/13 01:15\n",
       "</span></div><div class=\"push\"><span class=\"f1 hl push-tag\">→ </span><span class=\"f3 hl push-userid\">alins1999</span><span class=\"f3 push-content\">: 慮看看，可能因為W1晶片的關係，跟蘋果系列的配對很快</span><span class=\"push-ipdatetime\"> 10/13 01:15\n",
       "</span></div><div class=\"push\"><span class=\"f1 hl push-tag\">→ </span><span class=\"f3 hl push-userid\">alins1999</span><span class=\"f3 push-content\">: ，尤其AW3我自己連其他藍芽裝置失敗率很高，但連BeatsX</span><span class=\"push-ipdatetime\"> 10/13 01:15\n",
       "</span></div><div class=\"push\"><span class=\"f1 hl push-tag\">→ </span><span class=\"f3 hl push-userid\">alins1999</span><span class=\"f3 push-content\">: 速度很快。現在特價看到3990，隔壁版有開到3200可以入</span><span class=\"push-ipdatetime\"> 10/13 01:15\n",
       "</span></div><div class=\"push\"><span class=\"f1 hl push-tag\">→ </span><span class=\"f3 hl push-userid\">alins1999</span><span class=\"f3 push-content\">: 手。只是這隻耳機偏中高音就是了...</span><span class=\"push-ipdatetime\"> 10/13 01:15\n",
       "</span></div><div class=\"push\"><span class=\"hl push-tag\">推 </span><span class=\"f3 hl push-userid\">john0520</span><span class=\"f3 push-content\">: Bose soundsport 戴起來舒服不會掉</span><span class=\"push-ipdatetime\"> 10/13 01:24\n",
       "</span></div><div class=\"push\"><span class=\"hl push-tag\">推 </span><span class=\"f3 hl push-userid\">NCTUFKL</span><span class=\"f3 push-content\">: Soul</span><span class=\"push-ipdatetime\"> 10/13 01:50\n",
       "</span></div><div class=\"push\"><span class=\"hl push-tag\">推 </span><span class=\"f3 hl push-userid\">jantim102</span><span class=\"f3 push-content\">: <a href=\"https://instagram.com/p/BaB105GHXRZ/\" rel=\"nofollow\" target=\"_blank\">https://instagram.com/p/BaB105GHXRZ/</a></span><span class=\"push-ipdatetime\"> 10/13 02:46\n",
       "</span></div><div class=\"push\"><span class=\"hl push-tag\">推 </span><span class=\"f3 hl push-userid\">jantim102</span><span class=\"f3 push-content\">: 如果cx5.0習慣的話這隻還不錯，價錢應該（？）也跟預</span><span class=\"push-ipdatetime\"> 10/13 02:48\n",
       "</span></div><div class=\"push\"><span class=\"f1 hl push-tag\">→ </span><span class=\"f3 hl push-userid\">jantim102</span><span class=\"f3 push-content\">: 算差不多</span><span class=\"push-ipdatetime\"> 10/13 02:48\n",
       "</span></div><div class=\"push\"><span class=\"hl push-tag\">推 </span><span class=\"f3 hl push-userid\">speaper</span><span class=\"f3 push-content\">: Jaybird X3？</span><span class=\"push-ipdatetime\"> 10/13 03:44\n",
       "</span></div><div class=\"push\"><span class=\"hl push-tag\">推 </span><span class=\"f3 hl push-userid\">FotoGo</span><span class=\"f3 push-content\">: bose soundsport 現在百貨公司在週年慶</span><span class=\"push-ipdatetime\"> 10/13 04:39\n",
       "</span></div><div class=\"push\"><span class=\"hl push-tag\">推 </span><span class=\"f3 hl push-userid\">jeff1001jeff</span><span class=\"f3 push-content\">: 日本代購Q12</span><span class=\"push-ipdatetime\"> 10/13 06:32\n",
       "</span></div><div class=\"push\"><span class=\"hl push-tag\">推 </span><span class=\"f3 hl push-userid\">hydeless</span><span class=\"f3 push-content\">: 買lightning耳機不就結了</span><span class=\"push-ipdatetime\"> 10/13 08:03\n",
       "</span></div><div class=\"push\"><span class=\"f1 hl push-tag\">→ </span><span class=\"f3 hl push-userid\">hydeless</span><span class=\"f3 push-content\">: Audeze等你喔</span><span class=\"push-ipdatetime\"> 10/13 08:04\n",
       "</span></div><div class=\"push\"><span class=\"f1 hl push-tag\">→ </span><span class=\"f3 hl push-userid\">shcjosh</span><span class=\"f3 push-content\">: 我自己用x3 不運動的話不太推 聲音太悶</span><span class=\"push-ipdatetime\"> 10/13 08:05\n",
       "</span></div><div class=\"push\"><span class=\"hl push-tag\">推 </span><span class=\"f3 hl push-userid\">t7552175</span><span class=\"f3 push-content\">: Bose soundsport</span><span class=\"push-ipdatetime\"> 10/13 08:21\n",
       "</span></div><div class=\"push\"><span class=\"hl push-tag\">推 </span><span class=\"f3 hl push-userid\">qazwsx0123q</span><span class=\"f3 push-content\">: 推bose</span><span class=\"push-ipdatetime\"> 10/13 08:27\n",
       "</span></div><div class=\"push\"><span class=\"hl push-tag\">推 </span><span class=\"f3 hl push-userid\">b436412</span><span class=\"f3 push-content\">: 不是說要藍牙耳機嗎 怎麼出現lightning</span><span class=\"push-ipdatetime\"> 10/13 08:57\n",
       "</span></div><div class=\"push\"><span class=\"hl push-tag\">推 </span><span class=\"f3 hl push-userid\">goodbyetot</span><span class=\"f3 push-content\">: Bose 這支日本買才4000多，可以衝了！真的要音質好還</span><span class=\"push-ipdatetime\"> 10/13 09:01\n",
       "</span></div><div class=\"push\"><span class=\"f1 hl push-tag\">→ </span><span class=\"f3 hl push-userid\">goodbyetot</span><span class=\"f3 push-content\">: 是別選藍芽～</span><span class=\"push-ipdatetime\"> 10/13 09:01\n",
       "</span></div><div class=\"push\"><span class=\"f1 hl push-tag\">→ </span><span class=\"f3 hl push-userid\">hydeless</span><span class=\"f3 push-content\">: \"面臨耳機孔的問題\" &lt;-不是還有一個洞可以插，有洞不插</span><span class=\"push-ipdatetime\"> 10/13 09:28\n",
       "</span></div><div class=\"push\"><span class=\"f1 hl push-tag\">→ </span><span class=\"f3 hl push-userid\">hydeless</span><span class=\"f3 push-content\">: 沒多久就後悔捅洞的快感</span><span class=\"push-ipdatetime\"> 10/13 09:29\n",
       "</span></div><div class=\"push\"><span class=\"hl push-tag\">推 </span><span class=\"f3 hl push-userid\">ATand</span><span class=\"f3 push-content\">: Jaybird Freedom</span><span class=\"push-ipdatetime\"> 10/13 10:55\n",
       "</span></div><div class=\"push\"><span class=\"f1 hl push-tag\">→ </span><span class=\"f3 hl push-userid\">hsda</span><span class=\"f3 push-content\">: X3 能接電話?</span><span class=\"push-ipdatetime\"> 10/13 11:45\n",
       "</span></div><div class=\"push\"><span class=\"hl push-tag\">推 </span><span class=\"f3 hl push-userid\">jacksonfu</span><span class=\"f3 push-content\">: Phaiser系列的可考慮 2000元內有找</span><span class=\"push-ipdatetime\"> 10/13 12:13\n",
       "</span></div><div class=\"push\"><span class=\"hl push-tag\">推 </span><span class=\"f3 hl push-userid\">DKPCOFGS</span><span class=\"f3 push-content\">: shure藍芽有兩款</span><span class=\"push-ipdatetime\"> 10/13 12:28\n",
       "</span></div></div>"
      ]
     },
     "execution_count": 78,
     "metadata": {},
     "output_type": "execute_result"
    }
   ],
   "source": [
    "soup.select_one(\"#main-content\")"
   ]
  },
  {
   "cell_type": "code",
   "execution_count": 87,
   "metadata": {},
   "outputs": [],
   "source": [
    "content = soup.select_one(\"#main-content\").text"
   ]
  },
  {
   "cell_type": "code",
   "execution_count": 84,
   "metadata": {},
   "outputs": [
    {
     "data": {
      "text/plain": [
       "'url,title,content,dt,ip'"
      ]
     },
     "execution_count": 84,
     "metadata": {},
     "output_type": "execute_result"
    }
   ],
   "source": [
    "\",\".join([\"url\", \"title\", \"content\", \"dt\", \"ip\"])"
   ]
  },
  {
   "cell_type": "code",
   "execution_count": 88,
   "metadata": {},
   "outputs": [
    {
     "data": {
      "text/plain": [
       "'https://ptt.cc/bbs/M.1507828060.A.BB4.html,[問題] 請推薦音質佳可接電話的藍芽耳道式耳機,\\n各位版友大家好~\\n\\n最近入手AW3 以及接下來打算入手iPhone X (之前是用I6)\\n\\n才面臨耳機孔的問題，剛好很巧的之前在聽的Sennheiser CX5.0耳機忘在飛機上...\\n\\n所以想說既然要換手機了那就換藍芽的吧，但偏偏之前聽慣了CX5.0 音質部分很滿意\\n\\n所以換藍芽的話對音質也有一定的要求但卻沒有研究，對AirPod很動心\\n\\n但偏偏AirPod只有耳塞式，我的耳朵戴耳塞式會很不舒服所以無奈只好放棄..\\n\\n\\n想請問各位像我這種需求的話有可以推薦的嗎? 還是我要左轉去隔壁版問比較適合?\\n\\n麻煩各位解惑 謝謝\\n\\nps預算部分 5K左右 range +-2K都可以考慮。\\n\\n\\n--\\n※ 發信站: 批踢踢實業坊(ptt.cc), 來自: 123.193.118.83\\n※ 文章網址: https://www.ptt.cc/bbs/iOS/M.1507828060.A.BB4.html\\n,Fri Oct 13 01:07:38 2017'"
      ]
     },
     "execution_count": 88,
     "metadata": {},
     "output_type": "execute_result"
    }
   ],
   "source": [
    "\",\".join([\"https://ptt.cc/bbs/M.1507828060.A.BB4.html\", title, content, dt])"
   ]
  },
  {
   "cell_type": "code",
   "execution_count": null,
   "metadata": {
    "collapsed": true
   },
   "outputs": [],
   "source": [
    "with open('ios.csv', 'w') as f:\n",
    "    f.write()"
   ]
  },
  {
   "cell_type": "code",
   "execution_count": 100,
   "metadata": {},
   "outputs": [
    {
     "data": {
      "text/plain": [
       "['https://www.ptt.cc/bbs/iOS/M.1507870869.A.94E.html',\n",
       " 'https://www.ptt.cc/bbs/iOS/M.1507871224.A.1B2.html',\n",
       " 'https://www.ptt.cc/bbs/iOS/M.1273556295.A.002.html',\n",
       " 'https://www.ptt.cc/bbs/iOS/M.1418138597.A.8A4.html',\n",
       " 'https://www.ptt.cc/bbs/iOS/M.1493909384.A.0EB.html',\n",
       " 'https://www.ptt.cc/bbs/iOS/M.1505465905.A.23D.html',\n",
       " 'https://www.ptt.cc/bbs/iOS/M.1507827734.A.897.html',\n",
       " 'https://www.ptt.cc/bbs/iOS/M.1507828060.A.BB4.html',\n",
       " 'https://www.ptt.cc/bbs/iOS/M.1507829029.A.177.html',\n",
       " 'https://www.ptt.cc/bbs/iOS/M.1507829898.A.A8E.html',\n",
       " 'https://www.ptt.cc/bbs/iOS/M.1507834191.A.A31.html',\n",
       " 'https://www.ptt.cc/bbs/iOS/M.1507837029.A.B5D.html',\n",
       " 'https://www.ptt.cc/bbs/iOS/M.1507838799.A.C71.html',\n",
       " 'https://www.ptt.cc/bbs/iOS/M.1507848355.A.40D.html',\n",
       " 'https://www.ptt.cc/bbs/iOS/M.1507851576.A.B8C.html',\n",
       " 'https://www.ptt.cc/bbs/iOS/M.1507856001.A.048.html',\n",
       " 'https://www.ptt.cc/bbs/iOS/M.1507859646.A.233.html',\n",
       " 'https://www.ptt.cc/bbs/iOS/M.1507860015.A.75B.html',\n",
       " 'https://www.ptt.cc/bbs/iOS/M.1507862498.A.93F.html',\n",
       " 'https://www.ptt.cc/bbs/iOS/M.1507862514.A.5E8.html',\n",
       " 'https://www.ptt.cc/bbs/iOS/M.1507863479.A.380.html',\n",
       " 'https://www.ptt.cc/bbs/iOS/M.1507863636.A.584.html',\n",
       " 'https://www.ptt.cc/bbs/iOS/M.1507864647.A.B1C.html',\n",
       " 'https://www.ptt.cc/bbs/iOS/M.1507866417.A.399.html',\n",
       " 'https://www.ptt.cc/bbs/iOS/M.1507867155.A.75A.html',\n",
       " 'https://www.ptt.cc/bbs/iOS/M.1507867254.A.800.html',\n",
       " 'https://www.ptt.cc/bbs/iOS/M.1507808077.A.CFE.html',\n",
       " 'https://www.ptt.cc/bbs/iOS/M.1507808358.A.1EE.html',\n",
       " 'https://www.ptt.cc/bbs/iOS/M.1507808475.A.41F.html',\n",
       " 'https://www.ptt.cc/bbs/iOS/M.1507809912.A.0F7.html',\n",
       " 'https://www.ptt.cc/bbs/iOS/M.1507811376.A.50D.html',\n",
       " 'https://www.ptt.cc/bbs/iOS/M.1507811510.A.90D.html',\n",
       " 'https://www.ptt.cc/bbs/iOS/M.1507813085.A.799.html',\n",
       " 'https://www.ptt.cc/bbs/iOS/M.1507813144.A.1F8.html',\n",
       " 'https://www.ptt.cc/bbs/iOS/M.1507813243.A.811.html',\n",
       " 'https://www.ptt.cc/bbs/iOS/M.1507814263.A.059.html',\n",
       " 'https://www.ptt.cc/bbs/iOS/M.1507814624.A.9AE.html',\n",
       " 'https://www.ptt.cc/bbs/iOS/M.1507816720.A.1AF.html',\n",
       " 'https://www.ptt.cc/bbs/iOS/M.1507816977.A.B32.html',\n",
       " 'https://www.ptt.cc/bbs/iOS/M.1507820696.A.0F0.html',\n",
       " 'https://www.ptt.cc/bbs/iOS/M.1507821423.A.562.html',\n",
       " 'https://www.ptt.cc/bbs/iOS/M.1507821872.A.828.html',\n",
       " 'https://www.ptt.cc/bbs/iOS/M.1507823218.A.97E.html',\n",
       " 'https://www.ptt.cc/bbs/iOS/M.1507824728.A.F19.html',\n",
       " 'https://www.ptt.cc/bbs/iOS/M.1507825517.A.26A.html',\n",
       " 'https://www.ptt.cc/bbs/iOS/M.1507826991.A.E7F.html',\n",
       " 'https://www.ptt.cc/bbs/iOS/M.1507783089.A.562.html',\n",
       " 'https://www.ptt.cc/bbs/iOS/M.1507783474.A.4D6.html',\n",
       " 'https://www.ptt.cc/bbs/iOS/M.1507784370.A.D02.html',\n",
       " 'https://www.ptt.cc/bbs/iOS/M.1507784818.A.356.html',\n",
       " 'https://www.ptt.cc/bbs/iOS/M.1507785361.A.CC6.html',\n",
       " 'https://www.ptt.cc/bbs/iOS/M.1507786557.A.4FE.html',\n",
       " 'https://www.ptt.cc/bbs/iOS/M.1507787093.A.CA0.html',\n",
       " 'https://www.ptt.cc/bbs/iOS/M.1507787636.A.50D.html',\n",
       " 'https://www.ptt.cc/bbs/iOS/M.1507788443.A.87A.html',\n",
       " 'https://www.ptt.cc/bbs/iOS/M.1507790458.A.4AC.html',\n",
       " 'https://www.ptt.cc/bbs/iOS/M.1507791096.A.BE9.html',\n",
       " 'https://www.ptt.cc/bbs/iOS/M.1507791314.A.157.html',\n",
       " 'https://www.ptt.cc/bbs/iOS/M.1507793116.A.642.html',\n",
       " 'https://www.ptt.cc/bbs/iOS/M.1507800771.A.C2B.html',\n",
       " 'https://www.ptt.cc/bbs/iOS/M.1507800999.A.FBB.html',\n",
       " 'https://www.ptt.cc/bbs/iOS/M.1507801389.A.514.html',\n",
       " 'https://www.ptt.cc/bbs/iOS/M.1507737840.A.D66.html',\n",
       " 'https://www.ptt.cc/bbs/iOS/M.1507739584.A.CAA.html',\n",
       " 'https://www.ptt.cc/bbs/iOS/M.1507741558.A.708.html',\n",
       " 'https://www.ptt.cc/bbs/iOS/M.1507741625.A.BD6.html',\n",
       " 'https://www.ptt.cc/bbs/iOS/M.1507741831.A.B3F.html',\n",
       " 'https://www.ptt.cc/bbs/iOS/M.1507742316.A.12D.html',\n",
       " 'https://www.ptt.cc/bbs/iOS/M.1507744606.A.D84.html',\n",
       " 'https://www.ptt.cc/bbs/iOS/M.1507749226.A.561.html',\n",
       " 'https://www.ptt.cc/bbs/iOS/M.1507767272.A.EEF.html',\n",
       " 'https://www.ptt.cc/bbs/iOS/M.1507774986.A.302.html',\n",
       " 'https://www.ptt.cc/bbs/iOS/M.1507777108.A.498.html',\n",
       " 'https://www.ptt.cc/bbs/iOS/M.1507777949.A.B72.html',\n",
       " 'https://www.ptt.cc/bbs/iOS/M.1507778731.A.DBB.html',\n",
       " 'https://www.ptt.cc/bbs/iOS/M.1507778801.A.089.html',\n",
       " 'https://www.ptt.cc/bbs/iOS/M.1507778897.A.036.html',\n",
       " 'https://www.ptt.cc/bbs/iOS/M.1507779331.A.87F.html',\n",
       " 'https://www.ptt.cc/bbs/iOS/M.1507781357.A.37D.html',\n",
       " 'https://www.ptt.cc/bbs/iOS/M.1507708406.A.0FD.html',\n",
       " 'https://www.ptt.cc/bbs/iOS/M.1507712057.A.589.html',\n",
       " 'https://www.ptt.cc/bbs/iOS/M.1507716657.A.AE7.html',\n",
       " 'https://www.ptt.cc/bbs/iOS/M.1507717403.A.043.html',\n",
       " 'https://www.ptt.cc/bbs/iOS/M.1507718172.A.5D1.html',\n",
       " 'https://www.ptt.cc/bbs/iOS/M.1507719050.A.E1A.html',\n",
       " 'https://www.ptt.cc/bbs/iOS/M.1507720286.A.929.html',\n",
       " 'https://www.ptt.cc/bbs/iOS/M.1507722594.A.35E.html',\n",
       " 'https://www.ptt.cc/bbs/iOS/M.1507726801.A.F32.html',\n",
       " 'https://www.ptt.cc/bbs/iOS/M.1507727328.A.1A8.html',\n",
       " 'https://www.ptt.cc/bbs/iOS/M.1507728574.A.F71.html',\n",
       " 'https://www.ptt.cc/bbs/iOS/M.1507731019.A.E7E.html',\n",
       " 'https://www.ptt.cc/bbs/iOS/M.1507731178.A.D1F.html',\n",
       " 'https://www.ptt.cc/bbs/iOS/M.1507732591.A.650.html',\n",
       " 'https://www.ptt.cc/bbs/iOS/M.1507735167.A.3B5.html',\n",
       " 'https://www.ptt.cc/bbs/iOS/M.1507735281.A.4B3.html',\n",
       " 'https://www.ptt.cc/bbs/iOS/M.1507735857.A.439.html',\n",
       " 'https://www.ptt.cc/bbs/iOS/M.1507736300.A.428.html',\n",
       " 'https://www.ptt.cc/bbs/iOS/M.1507737011.A.773.html',\n",
       " 'https://www.ptt.cc/bbs/iOS/M.1507737643.A.3C2.html',\n",
       " 'https://www.ptt.cc/bbs/iOS/M.1507655521.A.B5C.html',\n",
       " 'https://www.ptt.cc/bbs/iOS/M.1507657612.A.E1E.html',\n",
       " 'https://www.ptt.cc/bbs/iOS/M.1507664664.A.270.html',\n",
       " 'https://www.ptt.cc/bbs/iOS/M.1507665653.A.FB8.html',\n",
       " 'https://www.ptt.cc/bbs/iOS/M.1507679036.A.204.html',\n",
       " 'https://www.ptt.cc/bbs/iOS/M.1507679757.A.52A.html',\n",
       " 'https://www.ptt.cc/bbs/iOS/M.1507685940.A.2E8.html',\n",
       " 'https://www.ptt.cc/bbs/iOS/M.1507689488.A.9ED.html',\n",
       " 'https://www.ptt.cc/bbs/iOS/M.1507692786.A.A6B.html',\n",
       " 'https://www.ptt.cc/bbs/iOS/M.1507695283.A.D9F.html',\n",
       " 'https://www.ptt.cc/bbs/iOS/M.1507695390.A.40D.html',\n",
       " 'https://www.ptt.cc/bbs/iOS/M.1507697077.A.87D.html',\n",
       " 'https://www.ptt.cc/bbs/iOS/M.1507697878.A.B8F.html',\n",
       " 'https://www.ptt.cc/bbs/iOS/M.1507699827.A.E10.html',\n",
       " 'https://www.ptt.cc/bbs/iOS/M.1507702502.A.FEB.html',\n",
       " 'https://www.ptt.cc/bbs/iOS/M.1507704128.A.54C.html',\n",
       " 'https://www.ptt.cc/bbs/iOS/M.1507706676.A.F91.html',\n",
       " 'https://www.ptt.cc/bbs/iOS/M.1507706723.A.F48.html',\n",
       " 'https://www.ptt.cc/bbs/iOS/M.1507631633.A.E4F.html',\n",
       " 'https://www.ptt.cc/bbs/iOS/M.1507635948.A.9BC.html',\n",
       " 'https://www.ptt.cc/bbs/iOS/M.1507637644.A.795.html',\n",
       " 'https://www.ptt.cc/bbs/iOS/M.1507638726.A.766.html',\n",
       " 'https://www.ptt.cc/bbs/iOS/M.1507638871.A.38B.html',\n",
       " 'https://www.ptt.cc/bbs/iOS/M.1507639966.A.B04.html',\n",
       " 'https://www.ptt.cc/bbs/iOS/M.1507641281.A.E2F.html',\n",
       " 'https://www.ptt.cc/bbs/iOS/M.1507641609.A.423.html',\n",
       " 'https://www.ptt.cc/bbs/iOS/M.1507642067.A.AB6.html',\n",
       " 'https://www.ptt.cc/bbs/iOS/M.1507643238.A.082.html',\n",
       " 'https://www.ptt.cc/bbs/iOS/M.1507643601.A.43E.html',\n",
       " 'https://www.ptt.cc/bbs/iOS/M.1507644972.A.432.html',\n",
       " 'https://www.ptt.cc/bbs/iOS/M.1507647639.A.F00.html',\n",
       " 'https://www.ptt.cc/bbs/iOS/M.1507648697.A.84D.html',\n",
       " 'https://www.ptt.cc/bbs/iOS/M.1507650183.A.031.html',\n",
       " 'https://www.ptt.cc/bbs/iOS/M.1507653005.A.D1C.html',\n",
       " 'https://www.ptt.cc/bbs/iOS/M.1507612682.A.94E.html',\n",
       " 'https://www.ptt.cc/bbs/iOS/M.1507612754.A.C82.html',\n",
       " 'https://www.ptt.cc/bbs/iOS/M.1507614007.A.293.html',\n",
       " 'https://www.ptt.cc/bbs/iOS/M.1507615619.A.024.html',\n",
       " 'https://www.ptt.cc/bbs/iOS/M.1507616022.A.70F.html',\n",
       " 'https://www.ptt.cc/bbs/iOS/M.1507618336.A.A5C.html',\n",
       " 'https://www.ptt.cc/bbs/iOS/M.1507618861.A.645.html',\n",
       " 'https://www.ptt.cc/bbs/iOS/M.1507619006.A.0CC.html',\n",
       " 'https://www.ptt.cc/bbs/iOS/M.1507621873.A.EE7.html',\n",
       " 'https://www.ptt.cc/bbs/iOS/M.1507622050.A.7DB.html',\n",
       " 'https://www.ptt.cc/bbs/iOS/M.1507623148.A.C8D.html',\n",
       " 'https://www.ptt.cc/bbs/iOS/M.1507624061.A.178.html',\n",
       " 'https://www.ptt.cc/bbs/iOS/M.1507624160.A.F8F.html',\n",
       " 'https://www.ptt.cc/bbs/iOS/M.1507625103.A.0F4.html',\n",
       " 'https://www.ptt.cc/bbs/iOS/M.1507626167.A.ECE.html',\n",
       " 'https://www.ptt.cc/bbs/iOS/M.1507628092.A.9F5.html',\n",
       " 'https://www.ptt.cc/bbs/iOS/M.1507628867.A.8DC.html',\n",
       " 'https://www.ptt.cc/bbs/iOS/M.1507631255.A.1DF.html',\n",
       " 'https://www.ptt.cc/bbs/iOS/M.1507581217.A.308.html',\n",
       " 'https://www.ptt.cc/bbs/iOS/M.1507591282.A.59E.html',\n",
       " 'https://www.ptt.cc/bbs/iOS/M.1507597383.A.168.html',\n",
       " 'https://www.ptt.cc/bbs/iOS/M.1507599276.A.F62.html',\n",
       " 'https://www.ptt.cc/bbs/iOS/M.1507600512.A.88B.html',\n",
       " 'https://www.ptt.cc/bbs/iOS/M.1507600846.A.4E3.html',\n",
       " 'https://www.ptt.cc/bbs/iOS/M.1507601596.A.07B.html',\n",
       " 'https://www.ptt.cc/bbs/iOS/M.1507602205.A.08C.html',\n",
       " 'https://www.ptt.cc/bbs/iOS/M.1507602821.A.F96.html',\n",
       " 'https://www.ptt.cc/bbs/iOS/M.1507604813.A.F28.html',\n",
       " 'https://www.ptt.cc/bbs/iOS/M.1507609836.A.50B.html',\n",
       " 'https://www.ptt.cc/bbs/iOS/M.1507610958.A.5AD.html',\n",
       " 'https://www.ptt.cc/bbs/iOS/M.1507611893.A.D03.html',\n",
       " 'https://www.ptt.cc/bbs/iOS/M.1507612175.A.95D.html',\n",
       " 'https://www.ptt.cc/bbs/iOS/M.1507612258.A.845.html']"
      ]
     },
     "execution_count": 100,
     "metadata": {},
     "output_type": "execute_result"
    }
   ],
   "source": [
    "article_urls"
   ]
  },
  {
   "cell_type": "code",
   "execution_count": 134,
   "metadata": {},
   "outputs": [],
   "source": [
    "import csv\n",
    "\n",
    "with open('ios.csv', 'w', encoding='utf-8', newline='\\r\\n') as f_out:\n",
    "    fieldnames = ['url', 'title', 'content', 'dt']\n",
    "    \n",
    "    writer = csv.DictWriter(f_out, fieldnames=fieldnames)\n",
    "\n",
    "    writer.writeheader()\n",
    "    \n",
    "    for url in article_urls:\n",
    "        #print(url.split('/')[-1])\n",
    "        with open(url.split('/')[-1], encoding='utf-8') as f:\n",
    "            html = f.read()\n",
    "        soup = BeautifulSoup(html, 'lxml')\n",
    "\n",
    "        try:\n",
    "            meta_value = soup.select('div.article-metaline > span.article-meta-value')\n",
    "            author    = meta_value[0].text.strip()\n",
    "            title     = meta_value[1].text.strip()\n",
    "            dt        = meta_value[2].text.strip()\n",
    "\n",
    "            [line.extract() for line in soup.select('div.article-metaline')]\n",
    "            [line.extract() for line in soup.select('div.article-metaline-right')]\n",
    "            pushs = [push.extract() for push in soup.select('div.push')]\n",
    "\n",
    "            content   = soup.select_one(\"#main-content\").text.strip().replace('\\n', ' ')\n",
    "        except IndexError:\n",
    "            pass\n",
    "\n",
    "        writer.writerow({'url': url, 'title': title, 'content': content, 'dt': dt})"
   ]
  }
 ],
 "metadata": {
  "kernelspec": {
   "display_name": "Python 3",
   "language": "python",
   "name": "python3"
  },
  "language_info": {
   "codemirror_mode": {
    "name": "ipython",
    "version": 3
   },
   "file_extension": ".py",
   "mimetype": "text/x-python",
   "name": "python",
   "nbconvert_exporter": "python",
   "pygments_lexer": "ipython3",
   "version": "3.6.1"
  }
 },
 "nbformat": 4,
 "nbformat_minor": 2
}
